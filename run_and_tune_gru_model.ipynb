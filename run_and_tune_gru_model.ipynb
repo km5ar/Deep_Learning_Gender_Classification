{
 "cells": [
  {
   "cell_type": "markdown",
   "source": "# Understanding Gender Differences in Tweets with Deep Learning \n\n***\n\n## Summer Chambers (ssc4mc), Keyu Chen (km5ar), Hannah Frederick (hbf3k)  \n\nThe .csv file that we read in can be found here: https://www.kaggle.com/crowdflower/twitter-user-gender-classification\n\nThe code that we source from can be found here: https://www.kaggle.com/gcdatkin/deep-recurrent-nn-for-gender-classification#Data-Every-Day",
   "metadata": {
    "papermill": {
     "duration": 0.022663,
     "end_time": "2020-12-03T21:10:42.486130",
     "exception": false,
     "start_time": "2020-12-03T21:10:42.463467",
     "status": "completed"
    },
    "tags": [],
    "cell_id": "00000-1b51192d-c725-4dee-a662-e2b0ac65341e",
    "deepnote_cell_type": "markdown"
   }
  },
  {
   "cell_type": "markdown",
   "source": "# Importing Data",
   "metadata": {
    "papermill": {
     "duration": 0.02677,
     "end_time": "2020-12-03T21:10:42.534289",
     "exception": false,
     "start_time": "2020-12-03T21:10:42.507519",
     "status": "completed"
    },
    "tags": [],
    "cell_id": "00001-d4883acb-dfe2-4ed4-8c57-fe1d1b7d62b0",
    "deepnote_cell_type": "markdown"
   }
  },
  {
   "cell_type": "code",
   "metadata": {
    "_cell_guid": "79c7e3d0-c299-4dcb-8224-4455121ee9b0",
    "_uuid": "d629ff2d2480ee46fbb7e2d37f6b5fab8052498a",
    "execution": {
     "iopub.execute_input": "2020-12-03T21:10:42.594913Z",
     "iopub.status.busy": "2020-12-03T21:10:42.594183Z",
     "iopub.status.idle": "2020-12-03T21:10:48.652308Z",
     "shell.execute_reply": "2020-12-03T21:10:48.652931Z"
    },
    "papermill": {
     "duration": 6.086288,
     "end_time": "2020-12-03T21:10:48.653140",
     "exception": false,
     "start_time": "2020-12-03T21:10:42.566852",
     "status": "completed"
    },
    "tags": [],
    "deepnote_to_be_reexecuted": false,
    "source_hash": "d6ae69d4",
    "execution_millis": 13181,
    "cell_id": "00002-2d03f2b9-19ea-4e72-8458-bef8c8a77931",
    "execution_start": 1620758061902,
    "deepnote_cell_type": "code"
   },
   "source": "import numpy as np\nimport pandas as pd\nimport matplotlib.pyplot as plt\nimport seaborn as sns\nimport tensorflow as tf\nfrom tensorflow.keras.preprocessing.text import Tokenizer\nfrom tensorflow.keras.preprocessing.sequence import pad_sequences\nfrom sklearn.preprocessing import StandardScaler\nfrom sklearn.model_selection import train_test_split\nfrom tensorflow import keras\nimport nltk\nnltk.download('wordnet')\nimport pydot\nimport graphviz\nfrom sklearn.metrics import confusion_matrix, classification_report",
   "execution_count": 1,
   "outputs": [
    {
     "name": "stderr",
     "text": "[nltk_data] Downloading package wordnet to /root/nltk_data...\n[nltk_data]   Unzipping corpora/wordnet.zip.\n",
     "output_type": "stream"
    }
   ]
  },
  {
   "cell_type": "code",
   "metadata": {
    "execution": {
     "iopub.execute_input": "2020-12-03T21:10:48.715801Z",
     "iopub.status.busy": "2020-12-03T21:10:48.715034Z",
     "iopub.status.idle": "2020-12-03T21:10:49.204227Z",
     "shell.execute_reply": "2020-12-03T21:10:49.202952Z"
    },
    "papermill": {
     "duration": 0.523199,
     "end_time": "2020-12-03T21:10:49.204380",
     "exception": false,
     "start_time": "2020-12-03T21:10:48.681181",
     "status": "completed"
    },
    "tags": [],
    "deepnote_to_be_reexecuted": false,
    "source_hash": "14b4c373",
    "execution_millis": 186,
    "cell_id": "00003-fdeb99e7-117b-4eda-8446-43240291edac",
    "execution_start": 1620758075079,
    "deepnote_cell_type": "code"
   },
   "source": "data = pd.read_csv('gender-classifier-DFE-791531.csv', encoding='latin-1')",
   "execution_count": 2,
   "outputs": []
  },
  {
   "cell_type": "code",
   "metadata": {
    "execution": {
     "iopub.execute_input": "2020-12-03T21:10:49.263655Z",
     "iopub.status.busy": "2020-12-03T21:10:49.262579Z",
     "iopub.status.idle": "2020-12-03T21:10:49.330843Z",
     "shell.execute_reply": "2020-12-03T21:10:49.331357Z"
    },
    "papermill": {
     "duration": 0.104874,
     "end_time": "2020-12-03T21:10:49.331480",
     "exception": false,
     "start_time": "2020-12-03T21:10:49.226606",
     "status": "completed"
    },
    "tags": [],
    "deepnote_to_be_reexecuted": false,
    "source_hash": "e6928a8f",
    "execution_millis": 148,
    "cell_id": "00004-8d9b4cfd-8a9e-471c-b63a-6b105805ae2e",
    "execution_start": 1620758075274,
    "deepnote_cell_type": "code"
   },
   "source": "data",
   "execution_count": 3,
   "outputs": [
    {
     "output_type": "execute_result",
     "execution_count": 3,
     "data": {
      "application/vnd.deepnote.dataframe.v2+json": {
       "row_count": 20050,
       "column_count": 26,
       "columns": [
        {
         "name": "_unit_id",
         "dtype": "int64",
         "stats": {
          "unique_count": 20050,
          "nan_count": 0,
          "min": "815719226",
          "max": "815757985",
          "histogram": [
           {
            "bin_start": 815719226,
            "bin_end": 815723101.9,
            "count": 3805
           },
           {
            "bin_start": 815723101.9,
            "bin_end": 815726977.8,
            "count": 3853
           },
           {
            "bin_start": 815726977.8,
            "bin_end": 815730853.7,
            "count": 3810
           },
           {
            "bin_start": 815730853.7,
            "bin_end": 815734729.6,
            "count": 3780
           },
           {
            "bin_start": 815734729.6,
            "bin_end": 815738605.5,
            "count": 3789
           },
           {
            "bin_start": 815738605.5,
            "bin_end": 815742481.4,
            "count": 963
           },
           {
            "bin_start": 815742481.4,
            "bin_end": 815746357.3,
            "count": 0
           },
           {
            "bin_start": 815746357.3,
            "bin_end": 815750233.2,
            "count": 2
           },
           {
            "bin_start": 815750233.2,
            "bin_end": 815754109.1,
            "count": 17
           },
           {
            "bin_start": 815754109.1,
            "bin_end": 815757985,
            "count": 31
           }
          ]
         }
        },
        {
         "name": "_golden",
         "dtype": "bool",
         "stats": {
          "unique_count": 2,
          "nan_count": 0,
          "categories": [
           {
            "name": "False",
            "count": 20000
           },
           {
            "name": "True",
            "count": 50
           }
          ]
         }
        },
        {
         "name": "_unit_state",
         "dtype": "object",
         "stats": {
          "unique_count": 2,
          "nan_count": 0,
          "categories": [
           {
            "name": "finalized",
            "count": 20000
           },
           {
            "name": "golden",
            "count": 50
           }
          ]
         }
        },
        {
         "name": "_trusted_judgments",
         "dtype": "int64",
         "stats": {
          "unique_count": 32,
          "nan_count": 0,
          "min": "3",
          "max": "274",
          "histogram": [
           {
            "bin_start": 3,
            "bin_end": 30.1,
            "count": 20000
           },
           {
            "bin_start": 30.1,
            "bin_end": 57.2,
            "count": 0
           },
           {
            "bin_start": 57.2,
            "bin_end": 84.30000000000001,
            "count": 0
           },
           {
            "bin_start": 84.30000000000001,
            "bin_end": 111.4,
            "count": 0
           },
           {
            "bin_start": 111.4,
            "bin_end": 138.5,
            "count": 0
           },
           {
            "bin_start": 138.5,
            "bin_end": 165.60000000000002,
            "count": 0
           },
           {
            "bin_start": 165.60000000000002,
            "bin_end": 192.70000000000002,
            "count": 0
           },
           {
            "bin_start": 192.70000000000002,
            "bin_end": 219.8,
            "count": 1
           },
           {
            "bin_start": 219.8,
            "bin_end": 246.9,
            "count": 18
           },
           {
            "bin_start": 246.9,
            "bin_end": 274,
            "count": 31
           }
          ]
         }
        },
        {
         "name": "_last_judgment_at",
         "dtype": "object"
        },
        {
         "name": "gender",
         "dtype": "object"
        },
        {
         "name": "gender:confidence",
         "dtype": "float64"
        },
        {
         "name": "profile_yn",
         "dtype": "object"
        },
        {
         "name": "profile_yn:confidence",
         "dtype": "float64"
        },
        {
         "name": "created",
         "dtype": "object"
        },
        {
         "name": "description",
         "dtype": "object"
        },
        {
         "name": "fav_number",
         "dtype": "int64"
        },
        {
         "name": "gender_gold",
         "dtype": "object"
        },
        {
         "name": "link_color",
         "dtype": "object"
        },
        {
         "name": "name",
         "dtype": "object"
        },
        {
         "name": "profile_yn_gold",
         "dtype": "object"
        },
        {
         "name": "profileimage",
         "dtype": "object"
        },
        {
         "name": "retweet_count",
         "dtype": "int64"
        },
        {
         "name": "sidebar_color",
         "dtype": "object"
        },
        {
         "name": "text",
         "dtype": "object"
        },
        {
         "name": "tweet_coord",
         "dtype": "object"
        },
        {
         "name": "tweet_count",
         "dtype": "int64"
        },
        {
         "name": "tweet_created",
         "dtype": "object"
        },
        {
         "name": "tweet_id",
         "dtype": "float64"
        },
        {
         "name": "tweet_location",
         "dtype": "object"
        },
        {
         "name": "user_timezone",
         "dtype": "object"
        },
        {
         "name": "_deepnote_index_column",
         "dtype": "int64"
        }
       ],
       "rows_top": [
        {
         "_unit_id": 815719226,
         "_golden": false,
         "_unit_state": "finalized",
         "_trusted_judgments": 3,
         "_last_judgment_at": "10/26/15 23:24",
         "gender": "male",
         "gender:confidence": 1,
         "profile_yn": "yes",
         "profile_yn:confidence": 1,
         "created": "12/5/13 1:48",
         "description": "i sing my own rhythm.",
         "fav_number": 0,
         "gender_gold": "nan",
         "link_color": "08C2C2",
         "name": "sheezy0",
         "profile_yn_gold": "nan",
         "profileimage": "https://pbs.twimg.com/profile_images/414342229096808449/fYvzqXN7_normal.png",
         "retweet_count": 0,
         "sidebar_color": "FFFFFF",
         "text": "Robbie E Responds To Critics After Win Against Eddie Edwards In The #WorldTitleSeries https://t.co/NSybBmVjKZ",
         "tweet_coord": "nan",
         "tweet_count": 110964,
         "tweet_created": "10/26/15 12:40",
         "tweet_id": 658730000000000000,
         "tweet_location": "main; @Kan1shk3",
         "user_timezone": "Chennai",
         "_deepnote_index_column": 0
        },
        {
         "_unit_id": 815719227,
         "_golden": false,
         "_unit_state": "finalized",
         "_trusted_judgments": 3,
         "_last_judgment_at": "10/26/15 23:30",
         "gender": "male",
         "gender:confidence": 1,
         "profile_yn": "yes",
         "profile_yn:confidence": 1,
         "created": "10/1/12 13:51",
         "description": "I'm the author of novels filled with family drama and romance.",
         "fav_number": 68,
         "gender_gold": "nan",
         "link_color": "0084B4",
         "name": "DavdBurnett",
         "profile_yn_gold": "nan",
         "profileimage": "https://pbs.twimg.com/profile_images/539604221532700673/WW16tBbU_normal.jpeg",
         "retweet_count": 0,
         "sidebar_color": "C0DEED",
         "text": "ÛÏIt felt like they were my friends and I was living the story with themÛ https://t.co/arngE0YHNO #retired #IAN1 https://t.co/CIzCANPQFz",
         "tweet_coord": "nan",
         "tweet_count": 7471,
         "tweet_created": "10/26/15 12:40",
         "tweet_id": 658730000000000000,
         "tweet_location": "nan",
         "user_timezone": "Eastern Time (US & Canada)",
         "_deepnote_index_column": 1
        },
        {
         "_unit_id": 815719228,
         "_golden": false,
         "_unit_state": "finalized",
         "_trusted_judgments": 3,
         "_last_judgment_at": "10/26/15 23:33",
         "gender": "male",
         "gender:confidence": 0.6625,
         "profile_yn": "yes",
         "profile_yn:confidence": 1,
         "created": "11/28/14 11:30",
         "description": "louis whining and squealing and all",
         "fav_number": 7696,
         "gender_gold": "nan",
         "link_color": "ABB8C2",
         "name": "lwtprettylaugh",
         "profile_yn_gold": "nan",
         "profileimage": "https://pbs.twimg.com/profile_images/657330418249658368/SBLCXdF7_normal.png",
         "retweet_count": 1,
         "sidebar_color": "C0DEED",
         "text": "i absolutely adore when louis starts the songs it hits me hard but it feels good",
         "tweet_coord": "nan",
         "tweet_count": 5617,
         "tweet_created": "10/26/15 12:40",
         "tweet_id": 658730000000000000,
         "tweet_location": "clcncl",
         "user_timezone": "Belgrade",
         "_deepnote_index_column": 2
        },
        {
         "_unit_id": 815719229,
         "_golden": false,
         "_unit_state": "finalized",
         "_trusted_judgments": 3,
         "_last_judgment_at": "10/26/15 23:10",
         "gender": "male",
         "gender:confidence": 1,
         "profile_yn": "yes",
         "profile_yn:confidence": 1,
         "created": "6/11/09 22:39",
         "description": "Mobile guy.  49ers, Shazam, Google, Kleiner Perkins, Yahoo!, Sprint PCS, AirTouch, Air Force.  Stanford GSB, UVa.  Dad, Husband, Brother.  Golfer.",
         "fav_number": 202,
         "gender_gold": "nan",
         "link_color": "0084B4",
         "name": "douggarland",
         "profile_yn_gold": "nan",
         "profileimage": "https://pbs.twimg.com/profile_images/259703936/IMG_8444_normal.JPG",
         "retweet_count": 0,
         "sidebar_color": "C0DEED",
         "text": "Hi @JordanSpieth - Looking at the url - do you use @IFTTT?!  Don't typically see an advanced user on the @PGATOUR! https://t.co/H68ou5PE9L",
         "tweet_coord": "nan",
         "tweet_count": 1693,
         "tweet_created": "10/26/15 12:40",
         "tweet_id": 658730000000000000,
         "tweet_location": "Palo Alto, CA",
         "user_timezone": "Pacific Time (US & Canada)",
         "_deepnote_index_column": 3
        },
        {
         "_unit_id": 815719230,
         "_golden": false,
         "_unit_state": "finalized",
         "_trusted_judgments": 3,
         "_last_judgment_at": "10/27/15 1:15",
         "gender": "female",
         "gender:confidence": 1,
         "profile_yn": "yes",
         "profile_yn:confidence": 1,
         "created": "4/16/14 13:23",
         "description": "Ricky Wilson The Best FRONTMAN/Kaiser Chiefs The Best BAND Xxxx Thank you Kaiser Chiefs for an incredible year of gigs and memories to cherish always :) Xxxxxxx",
         "fav_number": 37318,
         "gender_gold": "nan",
         "link_color": "3B94D9",
         "name": "WilfordGemma",
         "profile_yn_gold": "nan",
         "profileimage": "https://pbs.twimg.com/profile_images/564094871032446976/AOfpk-mr_normal.jpeg",
         "retweet_count": 0,
         "sidebar_color": "0",
         "text": "Watching Neighbours on Sky+ catching up with the Neighbs!! Xxx _Ù÷Ä_Ù÷Ä_Ù÷Ä_ÙÔÎ_ÙÈ_ÙÔ_ÙÈ Xxx",
         "tweet_coord": "nan",
         "tweet_count": 31462,
         "tweet_created": "10/26/15 12:40",
         "tweet_id": 658730000000000000,
         "tweet_location": "nan",
         "user_timezone": "nan",
         "_deepnote_index_column": 4
        },
        {
         "_unit_id": 815719231,
         "_golden": false,
         "_unit_state": "finalized",
         "_trusted_judgments": 3,
         "_last_judgment_at": "10/27/15 1:47",
         "gender": "female",
         "gender:confidence": 1,
         "profile_yn": "yes",
         "profile_yn:confidence": 1,
         "created": "3/11/10 18:14",
         "description": "you don't know me.",
         "fav_number": 3901,
         "gender_gold": "nan",
         "link_color": "F5ABB5",
         "name": "monroevicious",
         "profile_yn_gold": "nan",
         "profileimage": "https://pbs.twimg.com/profile_images/656336865033850880/ougQS3q7_normal.jpg",
         "retweet_count": 0,
         "sidebar_color": "0",
         "text": "Ive seen people on the train with lamps, chairs, tvs etc  https://t.co/w6zf4pVM4I",
         "tweet_coord": "nan",
         "tweet_count": 20036,
         "tweet_created": "10/26/15 12:40",
         "tweet_id": 658730000000000000,
         "tweet_location": "New York Gritty",
         "user_timezone": "Central Time (US & Canada)",
         "_deepnote_index_column": 5
        },
        {
         "_unit_id": 815719232,
         "_golden": false,
         "_unit_state": "finalized",
         "_trusted_judgments": 3,
         "_last_judgment_at": "10/27/15 1:57",
         "gender": "brand",
         "gender:confidence": 1,
         "profile_yn": "yes",
         "profile_yn:confidence": 1,
         "created": "4/24/08 13:03",
         "description": "A global marketplace for images, videos and music. Sharing photos, inspiration, design tips & videos for the creative community.",
         "fav_number": 4122,
         "gender_gold": "nan",
         "link_color": "298AAE",
         "name": "Shutterstock",
         "profile_yn_gold": "nan",
         "profileimage": "https://pbs.twimg.com/profile_images/528547133025042432/RC9k-6fp_normal.png",
         "retweet_count": 0,
         "sidebar_color": "0",
         "text": "@BpackEngineer Thank you for your patience while we take care of the issue!",
         "tweet_coord": "nan",
         "tweet_count": 13354,
         "tweet_created": "10/26/15 12:40",
         "tweet_id": 658730000000000000,
         "tweet_location": "Worldwide",
         "user_timezone": "Eastern Time (US & Canada)",
         "_deepnote_index_column": 6
        },
        {
         "_unit_id": 815719233,
         "_golden": false,
         "_unit_state": "finalized",
         "_trusted_judgments": 3,
         "_last_judgment_at": "10/26/15 23:48",
         "gender": "male",
         "gender:confidence": 1,
         "profile_yn": "yes",
         "profile_yn:confidence": 1,
         "created": "12/3/12 21:54",
         "description": "The secret of getting ahead is getting started.",
         "fav_number": 80,
         "gender_gold": "nan",
         "link_color": "0000FF",
         "name": "RobinMeske",
         "profile_yn_gold": "nan",
         "profileimage": "https://pbs.twimg.com/profile_images/508875440107180032/apOHVAt8_normal.jpeg",
         "retweet_count": 0,
         "sidebar_color": "C0DEED",
         "text": "Gala Bingo clubs bought for å£241m: The UK's largest High Street bingo operator, Gala, is being taken over byÛ_ https://t.co/HzeeykJUd3",
         "tweet_coord": "nan",
         "tweet_count": 112117,
         "tweet_created": "10/26/15 12:40",
         "tweet_id": 658730000000000000,
         "tweet_location": "nan",
         "user_timezone": "nan",
         "_deepnote_index_column": 7
        },
        {
         "_unit_id": 815719234,
         "_golden": false,
         "_unit_state": "finalized",
         "_trusted_judgments": 3,
         "_last_judgment_at": "10/27/15 1:52",
         "gender": "female",
         "gender:confidence": 1,
         "profile_yn": "yes",
         "profile_yn:confidence": 1,
         "created": "9/8/15 4:50",
         "description": "Pll Fan // Crazy about MCD // Ramen is bae",
         "fav_number": 1825,
         "gender_gold": "nan",
         "link_color": "9266CC",
         "name": "pigzilla_",
         "profile_yn_gold": "nan",
         "profileimage": "https://pbs.twimg.com/profile_images/658670112304709632/ZhhUs4WC_normal.jpg",
         "retweet_count": 0,
         "sidebar_color": "0",
         "text": "@_Aphmau_ the pic defines all mcd fangirls/fanboys and mcd shippers xD",
         "tweet_coord": "nan",
         "tweet_count": 482,
         "tweet_created": "10/26/15 12:40",
         "tweet_id": 658730000000000000,
         "tweet_location": "nan",
         "user_timezone": "nan",
         "_deepnote_index_column": 8
        },
        {
         "_unit_id": 815719235,
         "_golden": false,
         "_unit_state": "finalized",
         "_trusted_judgments": 3,
         "_last_judgment_at": "10/27/15 1:49",
         "gender": "female",
         "gender:confidence": 1,
         "profile_yn": "yes",
         "profile_yn:confidence": 1,
         "created": "5/13/11 3:32",
         "description": "Renaissance art historian, University of Nottingham; fuelled by Haribo, partial to coffee and with a soft spot for Renaissance China. National Teaching Fellow.",
         "fav_number": 3115,
         "gender_gold": "nan",
         "link_color": "9266CC",
         "name": "GabrieleNeher",
         "profile_yn_gold": "nan",
         "profileimage": "https://pbs.twimg.com/profile_images/513327289858535424/vrc79hs1_normal.jpeg",
         "retweet_count": 0,
         "sidebar_color": "FFFFFF",
         "text": "@Evielady just how lovely is the tree this year! Never seen it as gorgeous as this #Autumn #colour",
         "tweet_coord": "nan",
         "tweet_count": 26085,
         "tweet_created": "10/26/15 12:40",
         "tweet_id": 658730000000000000,
         "tweet_location": "Nottingham, England.",
         "user_timezone": "Amsterdam",
         "_deepnote_index_column": 9
        },
        {
         "_unit_id": 815719236,
         "_golden": false,
         "_unit_state": "finalized",
         "_trusted_judgments": 3,
         "_last_judgment_at": "10/26/15 23:17",
         "gender": "brand",
         "gender:confidence": 0.7002,
         "profile_yn": "yes",
         "profile_yn:confidence": 1,
         "created": "11/16/11 17:14",
         "description": "Clean food that tastes great while providing energy & nutrients! No guilt granola, vegan/paleo friendly options too! Cert organic, GF, kosher",
         "fav_number": 516,
         "gender_gold": "nan",
         "link_color": "0084B4",
         "name": "Blissful_Eats",
         "profile_yn_gold": "nan",
         "profileimage": "https://pbs.twimg.com/profile_images/653518467258257408/Gv6tlJfg_normal.jpg",
         "retweet_count": 0,
         "sidebar_color": "C0DEED",
         "text": "how are you taking care of yourself? https://t.co/OrL9u1P8YI #fitfluential",
         "tweet_coord": "nan",
         "tweet_count": 5179,
         "tweet_created": "10/26/15 12:40",
         "tweet_id": 658730000000000000,
         "tweet_location": "New York",
         "user_timezone": "Atlantic Time (Canada)",
         "_deepnote_index_column": 10
        },
        {
         "_unit_id": 815719237,
         "_golden": false,
         "_unit_state": "finalized",
         "_trusted_judgments": 3,
         "_last_judgment_at": "10/26/15 22:33",
         "gender": "brand",
         "gender:confidence": 1,
         "profile_yn": "yes",
         "profile_yn:confidence": 1,
         "created": "2/22/15 20:06",
         "description": "highly extraordinary auctions",
         "fav_number": 0,
         "gender_gold": "nan",
         "link_color": "0084B4",
         "name": "eliseotecleo",
         "profile_yn_gold": "nan",
         "profileimage": "https://pbs.twimg.com/profile_images/569710046712299520/TFSOX_An_normal.jpeg",
         "retweet_count": 0,
         "sidebar_color": "C0DEED",
         "text": "MTG Deals 1x Rank-Up-Magic - The Seventh One - PRIO-EN058 - Secret Rare - Unlimi https://t.co/Y22wyLpgnN https://t.co/VwagxMNohB",
         "tweet_coord": "nan",
         "tweet_count": 66684,
         "tweet_created": "10/26/15 12:40",
         "tweet_id": 658730000000000000,
         "tweet_location": "nan",
         "user_timezone": "Pacific Time (US & Canada)",
         "_deepnote_index_column": 11
        },
        {
         "_unit_id": 815719238,
         "_golden": false,
         "_unit_state": "finalized",
         "_trusted_judgments": 3,
         "_last_judgment_at": "10/26/15 22:20",
         "gender": "female",
         "gender:confidence": 0.6509,
         "profile_yn": "yes",
         "profile_yn:confidence": 1,
         "created": "8/10/12 5:05",
         "description": "Senior '16 . XI-XII-MMXIV.",
         "fav_number": 3371,
         "gender_gold": "nan",
         "link_color": "0084B4",
         "name": "kaylanabrewer_",
         "profile_yn_gold": "nan",
         "profileimage": "https://pbs.twimg.com/profile_images/651227967595483140/Mes6SNEO_normal.png",
         "retweet_count": 0,
         "sidebar_color": "FFFFFF",
         "text": "Just put my ass on the line for you and this is how you repay me.",
         "tweet_coord": "nan",
         "tweet_count": 13585,
         "tweet_created": "10/26/15 12:40",
         "tweet_id": 658730000000000000,
         "tweet_location": "nan",
         "user_timezone": "Atlantic Time (Canada)",
         "_deepnote_index_column": 12
        },
        {
         "_unit_id": 815719239,
         "_golden": false,
         "_unit_state": "finalized",
         "_trusted_judgments": 3,
         "_last_judgment_at": "10/26/15 23:29",
         "gender": "brand",
         "gender:confidence": 1,
         "profile_yn": "yes",
         "profile_yn:confidence": 1,
         "created": "5/1/12 22:14",
         "description": "Come join the fastest blog network online today http://t.co/S5mFPA1vgK and http://t.co/MPUuQtYF1g We cover credit repair, credit cards and bankruptcy.",
         "fav_number": 0,
         "gender_gold": "nan",
         "link_color": "2FC2EF",
         "name": "americacredit",
         "profile_yn_gold": "nan",
         "profileimage": "https://pbs.twimg.com/profile_images/2183715516/logo_121_normal.jpg",
         "retweet_count": 0,
         "sidebar_color": "181A1E",
         "text": "https://t.co/z4sbWUugd8 What the Nation Will Be Talking About After Wednesday's GOP Debates https://t.co/gIHIVyHF7G #business #now",
         "tweet_coord": "nan",
         "tweet_count": 199466,
         "tweet_created": "10/26/15 12:40",
         "tweet_id": 658730000000000000,
         "tweet_location": "America Credit",
         "user_timezone": "Pacific Time (US & Canada)",
         "_deepnote_index_column": 13
        },
        {
         "_unit_id": 815719240,
         "_golden": false,
         "_unit_state": "finalized",
         "_trusted_judgments": 3,
         "_last_judgment_at": "10/27/15 1:29",
         "gender": "female",
         "gender:confidence": 0.6501,
         "profile_yn": "yes",
         "profile_yn:confidence": 1,
         "created": "4/6/13 15:31",
         "description": "im just here for tÌüp, bo burnham, and disney world.",
         "fav_number": 13928,
         "gender_gold": "nan",
         "link_color": "0084B4",
         "name": "cheyflan",
         "profile_yn_gold": "nan",
         "profileimage": "https://pbs.twimg.com/profile_images/655943646815113216/gnRGy6pf_normal.jpg",
         "retweet_count": 0,
         "sidebar_color": "FFFFFF",
         "text": "will i even need sound effects for the diviners tonight",
         "tweet_coord": "nan",
         "tweet_count": 18469,
         "tweet_created": "10/26/15 12:40",
         "tweet_id": 658730000000000000,
         "tweet_location": "row b seat 104",
         "user_timezone": "Atlantic Time (Canada)",
         "_deepnote_index_column": 14
        },
        {
         "_unit_id": 815719241,
         "_golden": false,
         "_unit_state": "finalized",
         "_trusted_judgments": 3,
         "_last_judgment_at": "10/27/15 1:50",
         "gender": "female",
         "gender:confidence": 1,
         "profile_yn": "yes",
         "profile_yn:confidence": 1,
         "created": "10/3/15 21:32",
         "description": "nan",
         "fav_number": 0,
         "gender_gold": "nan",
         "link_color": "0084B4",
         "name": "Ayu7sith4",
         "profile_yn_gold": "nan",
         "profileimage": "https://pbs.twimg.com/profile_images/650530183737315328/mgnOVgHF_normal.jpg",
         "retweet_count": 0,
         "sidebar_color": "C0DEED",
         "text": "https://t.co/EROGWTFTYo It's a glow of satisfaction re The Glow https://t.co/7RdyMCVPKx",
         "tweet_coord": "nan",
         "tweet_count": 44421,
         "tweet_created": "10/26/15 12:40",
         "tweet_id": 658730000000000000,
         "tweet_location": "nan",
         "user_timezone": "nan",
         "_deepnote_index_column": 15
        },
        {
         "_unit_id": 815719242,
         "_golden": false,
         "_unit_state": "finalized",
         "_trusted_judgments": 3,
         "_last_judgment_at": "10/26/15 23:43",
         "gender": "female",
         "gender:confidence": 1,
         "profile_yn": "yes",
         "profile_yn:confidence": 1,
         "created": "8/27/11 9:42",
         "description": "JMKM_Òü",
         "fav_number": 1762,
         "gender_gold": "nan",
         "link_color": "58185",
         "name": "Toucaan_Samm",
         "profile_yn_gold": "nan",
         "profileimage": "https://pbs.twimg.com/profile_images/625025152720375808/QJNu2mgI_normal.jpg",
         "retweet_count": 0,
         "sidebar_color": "EEEEEE",
         "text": "@giannaaa28 lmao _Ù÷â_Ù÷â dude I'm hella scared for next episode bc the ending to yesterday's",
         "tweet_coord": "nan",
         "tweet_count": 16627,
         "tweet_created": "10/26/15 12:40",
         "tweet_id": 658730000000000000,
         "tweet_location": "nan",
         "user_timezone": "Arizona",
         "_deepnote_index_column": 16
        },
        {
         "_unit_id": 815719243,
         "_golden": false,
         "_unit_state": "finalized",
         "_trusted_judgments": 3,
         "_last_judgment_at": "10/26/15 22:50",
         "gender": "male",
         "gender:confidence": 1,
         "profile_yn": "yes",
         "profile_yn:confidence": 1,
         "created": "10/18/09 11:41",
         "description": "Over enthusiastic F1 fan.  Model collector, music fan and a film fanatic.  Also an Aspergian.",
         "fav_number": 5,
         "gender_gold": "nan",
         "link_color": "0084B4",
         "name": "SSmyth2010",
         "profile_yn_gold": "nan",
         "profileimage": "https://pbs.twimg.com/profile_images/613850179880517634/m_B2ujkb_normal.jpg",
         "retweet_count": 0,
         "sidebar_color": "C0DEED",
         "text": "@coolyazzy94 Ditto - I'm still learning the favourites and retweet stuff - least it sucks less than Facebook haha :P",
         "tweet_coord": "nan",
         "tweet_count": 91,
         "tweet_created": "10/26/15 12:40",
         "tweet_id": 658730000000000000,
         "tweet_location": "Glasgow",
         "user_timezone": "London",
         "_deepnote_index_column": 17
        },
        {
         "_unit_id": 815719244,
         "_golden": false,
         "_unit_state": "finalized",
         "_trusted_judgments": 3,
         "_last_judgment_at": "10/27/15 1:42",
         "gender": "male",
         "gender:confidence": 1,
         "profile_yn": "yes",
         "profile_yn:confidence": 1,
         "created": "7/20/15 12:01",
         "description": "nan",
         "fav_number": 1,
         "gender_gold": "nan",
         "link_color": "0084B4",
         "name": "DarkToonsGaming",
         "profile_yn_gold": "nan",
         "profileimage": "https://pbs.twimg.com/profile_images/623207306419916800/qKUdsaHU_normal.jpg",
         "retweet_count": 0,
         "sidebar_color": "C0DEED",
         "text": "@CaribBros @JstSaleem I do but I don't understand how to get to the server to get it",
         "tweet_coord": "nan",
         "tweet_count": 13,
         "tweet_created": "10/26/15 12:40",
         "tweet_id": 658730000000000000,
         "tweet_location": "nan",
         "user_timezone": "nan",
         "_deepnote_index_column": 18
        }
       ],
       "rows_bottom": [
        {
         "_unit_id": 815755604,
         "_golden": true,
         "_unit_state": "golden",
         "_trusted_judgments": 242,
         "_last_judgment_at": "nan",
         "gender": "male",
         "gender:confidence": 1,
         "profile_yn": "yes",
         "profile_yn:confidence": 1,
         "created": "11/22/11 22:41",
         "description": "nan",
         "fav_number": 25,
         "gender_gold": "male",
         "link_color": "0084B4",
         "name": "tik_L_my_pik_L",
         "profile_yn_gold": "yes",
         "profileimage": "https://pbs.twimg.com/profile_images/474040421434142721/bc3q0DNm_normal.jpeg",
         "retweet_count": 0,
         "sidebar_color": "C0DEED",
         "text": "Bun B saving kids and Ribs!!!...Not all heroes have capes!!! Black lives matter and SO DO RIBS TOO!!!Û_ https://t.co/FWg1mK1sHh",
         "tweet_coord": "nan",
         "tweet_count": 590,
         "tweet_created": "10/26/15 13:19",
         "tweet_id": 658740000000000000,
         "tweet_location": "Houston",
         "user_timezone": "nan",
         "_deepnote_index_column": 20031
        },
        {
         "_unit_id": 815755689,
         "_golden": true,
         "_unit_state": "golden",
         "_trusted_judgments": 260,
         "_last_judgment_at": "nan",
         "gender": "male",
         "gender:confidence": 1,
         "profile_yn": "yes",
         "profile_yn:confidence": 1,
         "created": "5/15/09 20:04",
         "description": "Amicable IT person. Self indulgent writer. Somehow licensed attorney. Dotaholic. #Streamfriends mod and chat barnacle!",
         "fav_number": 2651,
         "gender_gold": "male",
         "link_color": "0084B4",
         "name": "FauxBen",
         "profile_yn_gold": "yes",
         "profileimage": "https://pbs.twimg.com/profile_images/631251356016250880/JnxX9zXn_normal.jpg",
         "retweet_count": 0,
         "sidebar_color": "C0DEED",
         "text": "@legobutts you can do quests and kill stuff while wearing a mask and it'll get you candy you can use to get more masks without paying $",
         "tweet_coord": "nan",
         "tweet_count": 14165,
         "tweet_created": "10/26/15 13:20",
         "tweet_id": 658740000000000000,
         "tweet_location": "nan",
         "user_timezone": "Quito",
         "_deepnote_index_column": 20032
        },
        {
         "_unit_id": 815755763,
         "_golden": true,
         "_unit_state": "golden",
         "_trusted_judgments": 239,
         "_last_judgment_at": "nan",
         "gender": "female",
         "gender:confidence": 0.8431,
         "profile_yn": "yes",
         "profile_yn:confidence": 1,
         "created": "2/8/15 17:50",
         "description": "cis (she/her)/18/volleyball enthusiast/ i art sometimes/ qualified bird rider",
         "fav_number": 4351,
         "gender_gold": "female",
         "link_color": "B7EEE4",
         "name": "norainacad",
         "profile_yn_gold": "yes",
         "profileimage": "https://pbs.twimg.com/profile_images/648013424954355712/3hKH0mGe_normal.jpg",
         "retweet_count": 0,
         "sidebar_color": "0",
         "text": "i finally read blood of olympus and now that my children are all happy i can read the rest of my pile of books _ÙÔ_ÙÔ",
         "tweet_coord": "nan",
         "tweet_count": 5284,
         "tweet_created": "10/26/15 13:20",
         "tweet_id": 658740000000000000,
         "tweet_location": "brazil",
         "user_timezone": "nan",
         "_deepnote_index_column": 20033
        },
        {
         "_unit_id": 815755825,
         "_golden": true,
         "_unit_state": "golden",
         "_trusted_judgments": 264,
         "_last_judgment_at": "nan",
         "gender": "brand",
         "gender:confidence": 1,
         "profile_yn": "yes",
         "profile_yn:confidence": 1,
         "created": "7/21/11 11:30",
         "description": "Where Raleigh's dynamic leaders come to connect, host, work and play.",
         "fav_number": 192,
         "gender_gold": "brand",
         "link_color": "4A913C",
         "name": "CityClubRaleigh",
         "profile_yn_gold": "yes",
         "profileimage": "https://pbs.twimg.com/profile_images/461602825013710848/Cjy6v2Q8_normal.jpeg",
         "retweet_count": 0,
         "sidebar_color": "C0DEED",
         "text": "View the Community Halloween Spooktacular @CityClubRaleigh photo album!  https://t.co/NKn6ynsME0",
         "tweet_coord": "nan",
         "tweet_count": 2851,
         "tweet_created": "10/26/15 12:40",
         "tweet_id": 658730000000000000,
         "tweet_location": "Raleigh NC",
         "user_timezone": "Eastern Time (US & Canada)",
         "_deepnote_index_column": 20034
        },
        {
         "_unit_id": 815755887,
         "_golden": true,
         "_unit_state": "golden",
         "_trusted_judgments": 270,
         "_last_judgment_at": "nan",
         "gender": "female",
         "gender:confidence": 1,
         "profile_yn": "yes",
         "profile_yn:confidence": 1,
         "created": "5/14/10 9:44",
         "description": "25. love my friends & family. the color pink. MKTO followed (4/12/14) http://t.co/wYD0FPb3Zy :D #Lefty #LoverOfMusic  #NathanSykesIsMyFave",
         "fav_number": 436,
         "gender_gold": "female",
         "link_color": "B40B43",
         "name": "Cait89lovesTWD",
         "profile_yn_gold": "yes",
         "profileimage": "https://pbs.twimg.com/profile_images/608774064967168000/omV6PiUj_normal.jpg",
         "retweet_count": 0,
         "sidebar_color": "FFFFFF",
         "text": "Beetlejuice is the perfect Halloween movie!!!!! :-) #Beetlejuice #TimBurton",
         "tweet_coord": "nan",
         "tweet_count": 7004,
         "tweet_created": "10/26/15 12:39",
         "tweet_id": 658730000000000000,
         "tweet_location": "Raleigh, North Carolina",
         "user_timezone": "Atlantic Time (Canada)",
         "_deepnote_index_column": 20035
        },
        {
         "_unit_id": 815756011,
         "_golden": true,
         "_unit_state": "golden",
         "_trusted_judgments": 264,
         "_last_judgment_at": "nan",
         "gender": "female",
         "gender:confidence": 0.9622,
         "profile_yn": "yes",
         "profile_yn:confidence": 1,
         "created": "8/2/14 10:19",
         "description": "13 // snapchat: sianfreya.xÏ¬ @caitlin_zz_ü ~Jacks new haircut is not a lesbian cut its 2015 bitch~",
         "fav_number": 34710,
         "gender_gold": "female",
         "link_color": "0084B4",
         "name": "sianfreyaxo",
         "profile_yn_gold": "yes",
         "profileimage": "https://pbs.twimg.com/profile_images/652881466351820801/M_nVCYAL_normal.jpg",
         "retweet_count": 0,
         "sidebar_color": "C0DEED",
         "text": "@ItsLeeHinchy #LeesQANDA what's the story in balamory?",
         "tweet_coord": "nan",
         "tweet_count": 3094,
         "tweet_created": "10/26/15 12:40",
         "tweet_id": 658730000000000000,
         "tweet_location": "Yorkshire",
         "user_timezone": "nan",
         "_deepnote_index_column": 20036
        },
        {
         "_unit_id": 815756103,
         "_golden": true,
         "_unit_state": "golden",
         "_trusted_judgments": 259,
         "_last_judgment_at": "nan",
         "gender": "male",
         "gender:confidence": 1,
         "profile_yn": "yes",
         "profile_yn:confidence": 1,
         "created": "11/27/07 13:10",
         "description": "Typographer and typographic consultant, co-founder of @FontsInUse, @TypeDirectors board member, skateboarder, musician, printer, pizza fanatic.",
         "fav_number": 1762,
         "gender_gold": "male",
         "link_color": "990000",
         "name": "NickSherman",
         "profile_yn_gold": "yes",
         "profileimage": "https://pbs.twimg.com/profile_images/301147383/avatar_normal.jpg",
         "retweet_count": 0,
         "sidebar_color": "FFFFFF",
         "text": "@TrentWalton @oguzbilgic Spell it out in all-caps and I think you may have a candidate for a new Unicode character there.\ncc @EmojiProposals",
         "tweet_coord": "nan",
         "tweet_count": 9092,
         "tweet_created": "10/26/15 13:19",
         "tweet_id": 658740000000000000,
         "tweet_location": "Brooklyn, NY",
         "user_timezone": "Eastern Time (US & Canada)",
         "_deepnote_index_column": 20037
        },
        {
         "_unit_id": 815756269,
         "_golden": true,
         "_unit_state": "golden",
         "_trusted_judgments": 237,
         "_last_judgment_at": "nan",
         "gender": "brand",
         "gender:confidence": 0.8397,
         "profile_yn": "yes",
         "profile_yn:confidence": 1,
         "created": "1/16/12 21:21",
         "description": "The FUN site for Animal Lovers - Get the latest animal news, best pet tips and see all the fun stuff we have for animal lovers.",
         "fav_number": 0,
         "gender_gold": "brand",
         "link_color": "0084B4",
         "name": "PetsLady",
         "profile_yn_gold": "yes",
         "profileimage": "https://pbs.twimg.com/profile_images/1783662081/petslady_icon_90px_90px_normal.png",
         "retweet_count": 0,
         "sidebar_color": "C0DEED",
         "text": "Jon Stewart's Animal Sanctuary And Educational Center Begins On New Jersey Farm https://t.co/M5Ta7OIju3",
         "tweet_coord": "nan",
         "tweet_count": 7083,
         "tweet_created": "10/26/15 13:19",
         "tweet_id": 658740000000000000,
         "tweet_location": "nan",
         "user_timezone": "nan",
         "_deepnote_index_column": 20038
        },
        {
         "_unit_id": 815756332,
         "_golden": true,
         "_unit_state": "golden",
         "_trusted_judgments": 227,
         "_last_judgment_at": "nan",
         "gender": "female",
         "gender:confidence": 1,
         "profile_yn": "yes",
         "profile_yn:confidence": 1,
         "created": "2/21/12 18:36",
         "description": "You can find me where the wild things are",
         "fav_number": 281,
         "gender_gold": "female",
         "link_color": "0084B4",
         "name": "KaitlynAmendola",
         "profile_yn_gold": "yes",
         "profileimage": "https://pbs.twimg.com/profile_images/631301797588639745/hkkUDKvw_normal.jpg",
         "retweet_count": 0,
         "sidebar_color": "C0DEED",
         "text": "Especially when all you do is the best you can and you still get shit on",
         "tweet_coord": "nan",
         "tweet_count": 2034,
         "tweet_created": "10/26/15 12:39",
         "tweet_id": 658730000000000000,
         "tweet_location": "nan",
         "user_timezone": "nan",
         "_deepnote_index_column": 20039
        },
        {
         "_unit_id": 815756417,
         "_golden": true,
         "_unit_state": "golden",
         "_trusted_judgments": 253,
         "_last_judgment_at": "nan",
         "gender": "male",
         "gender:confidence": 0.8472,
         "profile_yn": "yes",
         "profile_yn:confidence": 1,
         "created": "8/16/13 14:48",
         "description": "Houston Chronicle Columnist  - ken.hoffman@chron.com",
         "fav_number": 50,
         "gender_gold": "male",
         "link_color": "DD2E44",
         "name": "KenChronicle",
         "profile_yn_gold": "yes",
         "profileimage": "https://pbs.twimg.com/profile_images/557215663895240705/9d1y0ieQ_normal.jpeg",
         "retweet_count": 0,
         "sidebar_color": "0",
         "text": "Discovered it in England. It's how they eat fish and chips.  Never went back to ketchup. https://t.co/tYIf6bZmX2",
         "tweet_coord": "nan",
         "tweet_count": 3084,
         "tweet_created": "10/26/15 13:19",
         "tweet_id": 658740000000000000,
         "tweet_location": "Houston, Texas",
         "user_timezone": "Central Time (US & Canada)",
         "_deepnote_index_column": 20040
        },
        {
         "_unit_id": 815756542,
         "_golden": true,
         "_unit_state": "golden",
         "_trusted_judgments": 252,
         "_last_judgment_at": "nan",
         "gender": "brand",
         "gender:confidence": 1,
         "profile_yn": "yes",
         "profile_yn:confidence": 1,
         "created": "8/11/11 10:01",
         "description": "When families go through divorce, it's helpful for parents to talk about the divorce with their children.  Mommy and Daddy are Getting a Divorce helps.",
         "fav_number": 2,
         "gender_gold": "brand",
         "link_color": "0084B4",
         "name": "MommyandDaddyar",
         "profile_yn_gold": "yes",
         "profileimage": "https://pbs.twimg.com/profile_images/1490168108/ChildrenOfDivorce-1_normal.jpg",
         "retweet_count": 0,
         "sidebar_color": "C0DEED",
         "text": "For Stan and Lisa... has #Coffee Cup at https://t.co/isnPirE5ZI #UFO",
         "tweet_coord": "nan",
         "tweet_count": 105864,
         "tweet_created": "10/26/15 13:19",
         "tweet_id": 658740000000000000,
         "tweet_location": "Colorado",
         "user_timezone": "Mountain Time (US & Canada)",
         "_deepnote_index_column": 20041
        },
        {
         "_unit_id": 815756642,
         "_golden": true,
         "_unit_state": "golden",
         "_trusted_judgments": 212,
         "_last_judgment_at": "nan",
         "gender": "brand",
         "gender:confidence": 0.6364,
         "profile_yn": "yes",
         "profile_yn:confidence": 1,
         "created": "6/8/14 19:07",
         "description": "Reviews of delectable #food, picturesque #travel and kickass riveting events. #Miami #Austin #LA #NYC #NOLA #Dallas #Houston #Chicago #Phoenix #Portland #DC",
         "fav_number": 536,
         "gender_gold": "unknown",
         "link_color": "A30000",
         "name": "HedonistShednst",
         "profile_yn_gold": "yes",
         "profileimage": "https://pbs.twimg.com/profile_images/616770699554869248/Z4RnyIk-_normal.jpg",
         "retweet_count": 0,
         "sidebar_color": "948C75",
         "text": "Best Bloody Mary Brunch at the #NYCWFF @nyceff @deathsdoor @HomemadeDelish @MenageaTroisÛ_ https://t.co/YtmiRfmoLp https://t.co/tuMsFceTlG",
         "tweet_coord": "nan",
         "tweet_count": 5900,
         "tweet_created": "10/26/15 12:40",
         "tweet_id": 658730000000000000,
         "tweet_location": "Miami, FL",
         "user_timezone": "Eastern Time (US & Canada)",
         "_deepnote_index_column": 20042
        },
        {
         "_unit_id": 815756700,
         "_golden": true,
         "_unit_state": "golden",
         "_trusted_judgments": 240,
         "_last_judgment_at": "nan",
         "gender": "male",
         "gender:confidence": 1,
         "profile_yn": "yes",
         "profile_yn:confidence": 1,
         "created": "9/27/11 0:19",
         "description": "Head Chef, Chez Bruce. Loves Cars and Bicycles. 90% Food!",
         "fav_number": 3879,
         "gender_gold": "male",
         "link_color": "0099B9",
         "name": "MattChristmas1",
         "profile_yn_gold": "yes",
         "profileimage": "https://pbs.twimg.com/profile_images/378800000633720648/34bb229b4b51a80a2e0f3d57a193c67d_normal.jpeg",
         "retweet_count": 1,
         "sidebar_color": "5ED4DC",
         "text": "Game faggot and venison loin, crisp spelt and quince https://t.co/yvslN17siI",
         "tweet_coord": "nan",
         "tweet_count": 8193,
         "tweet_created": "10/26/15 13:19",
         "tweet_id": 658740000000000000,
         "tweet_location": "Chertsey Bridge",
         "user_timezone": "nan",
         "_deepnote_index_column": 20043
        },
        {
         "_unit_id": 815756767,
         "_golden": true,
         "_unit_state": "golden",
         "_trusted_judgments": 227,
         "_last_judgment_at": "nan",
         "gender": "female",
         "gender:confidence": 1,
         "profile_yn": "yes",
         "profile_yn:confidence": 1,
         "created": "6/11/14 1:55",
         "description": "I Love Me...Myself....&....I",
         "fav_number": 632,
         "gender_gold": "female",
         "link_color": "0084B4",
         "name": "Bigbootyyjudy_",
         "profile_yn_gold": "yes",
         "profileimage": "https://pbs.twimg.com/profile_images/643483977748226049/z2stOBV5_normal.jpg",
         "retweet_count": 0,
         "sidebar_color": "C0DEED",
         "text": "Need A Ride Home From Practice _Ù÷Ô_Ù÷Ô_Ù÷ÔAnd its Raining Hard Asf _Ù÷©_Ù÷©_Ù÷©_ÙÕø",
         "tweet_coord": "nan",
         "tweet_count": 6669,
         "tweet_created": "10/26/15 13:19",
         "tweet_id": 658740000000000000,
         "tweet_location": "nan",
         "user_timezone": "nan",
         "_deepnote_index_column": 20044
        },
        {
         "_unit_id": 815757572,
         "_golden": true,
         "_unit_state": "golden",
         "_trusted_judgments": 259,
         "_last_judgment_at": "nan",
         "gender": "female",
         "gender:confidence": 1,
         "profile_yn": "yes",
         "profile_yn:confidence": 1,
         "created": "8/5/15 21:16",
         "description": "(rp)",
         "fav_number": 302,
         "gender_gold": "female",
         "link_color": "0084B4",
         "name": "capuletrosa",
         "profile_yn_gold": "yes",
         "profileimage": "https://pbs.twimg.com/profile_images/656793310510497792/ba6dkgOE_normal.jpg",
         "retweet_count": 0,
         "sidebar_color": "C0DEED",
         "text": "@lookupondeath ...Fine, and I'll drink tea too. I love you.",
         "tweet_coord": "nan",
         "tweet_count": 783,
         "tweet_created": "10/26/15 13:20",
         "tweet_id": 658740000000000000,
         "tweet_location": "Verona ªÁ",
         "user_timezone": "nan",
         "_deepnote_index_column": 20045
        },
        {
         "_unit_id": 815757681,
         "_golden": true,
         "_unit_state": "golden",
         "_trusted_judgments": 248,
         "_last_judgment_at": "nan",
         "gender": "male",
         "gender:confidence": 1,
         "profile_yn": "yes",
         "profile_yn:confidence": 1,
         "created": "8/15/12 21:17",
         "description": "Whatever you like, it's not a problem at all. 9/1/15  #ChargerNation #ForeverRoyal #20 #EDM #MustFollow",
         "fav_number": 2513,
         "gender_gold": "male",
         "link_color": "CFB929",
         "name": "BenNight41",
         "profile_yn_gold": "yes",
         "profileimage": "https://pbs.twimg.com/profile_images/639815429897129984/7gUkqd1k_normal.jpg",
         "retweet_count": 0,
         "sidebar_color": "0",
         "text": "Greg Hardy you a good player and all but don't get in the face of Dez Bryant. Learn your place mane.",
         "tweet_coord": "nan",
         "tweet_count": 13523,
         "tweet_created": "10/26/15 12:40",
         "tweet_id": 658730000000000000,
         "tweet_location": "Kansas City, MO",
         "user_timezone": "nan",
         "_deepnote_index_column": 20046
        },
        {
         "_unit_id": 815757830,
         "_golden": true,
         "_unit_state": "golden",
         "_trusted_judgments": 264,
         "_last_judgment_at": "nan",
         "gender": "male",
         "gender:confidence": 1,
         "profile_yn": "yes",
         "profile_yn:confidence": 1,
         "created": "9/3/12 1:17",
         "description": "#TeamBarcelona ..You look lost so you should follow me!!! ...follow your heart but bring your brain with you..#Okbye",
         "fav_number": 50,
         "gender_gold": "male",
         "link_color": "0084B4",
         "name": "realuzzyfluxz",
         "profile_yn_gold": "yes",
         "profileimage": "https://pbs.twimg.com/profile_images/655473271106883584/KcFQoRNK_normal.png",
         "retweet_count": 0,
         "sidebar_color": "C0DEED",
         "text": "You can miss people and still never want to see them again",
         "tweet_coord": "nan",
         "tweet_count": 26419,
         "tweet_created": "10/26/15 13:20",
         "tweet_id": 658740000000000000,
         "tweet_location": "Lagos Nigeria ",
         "user_timezone": "nan",
         "_deepnote_index_column": 20047
        },
        {
         "_unit_id": 815757921,
         "_golden": true,
         "_unit_state": "golden",
         "_trusted_judgments": 250,
         "_last_judgment_at": "nan",
         "gender": "female",
         "gender:confidence": 0.8489,
         "profile_yn": "yes",
         "profile_yn:confidence": 1,
         "created": "11/6/12 23:46",
         "description": "Anti-statist; I homeschool my kids. Aspiring thoughtleader in the field of disjunction. Obligate carnivore. Writing @haskellbook with @bitemyapp.",
         "fav_number": 70804,
         "gender_gold": "female",
         "link_color": "9266CC",
         "name": "argumatronic",
         "profile_yn_gold": "yes",
         "profileimage": "https://pbs.twimg.com/profile_images/657716093448908800/g94MXoLn_normal.jpg",
         "retweet_count": 0,
         "sidebar_color": "0",
         "text": "@bitemyapp i had noticed your tendency to pee on the carpet, but i didn't want to say anything :P",
         "tweet_coord": "nan",
         "tweet_count": 56073,
         "tweet_created": "10/26/15 12:40",
         "tweet_id": 658730000000000000,
         "tweet_location": "Texas Hill Country",
         "user_timezone": "nan",
         "_deepnote_index_column": 20048
        },
        {
         "_unit_id": 815757985,
         "_golden": true,
         "_unit_state": "golden",
         "_trusted_judgments": 249,
         "_last_judgment_at": "nan",
         "gender": "female",
         "gender:confidence": 1,
         "profile_yn": "yes",
         "profile_yn:confidence": 1,
         "created": "4/14/14 17:22",
         "description": "Teamwork makes the dream work.",
         "fav_number": 3348,
         "gender_gold": "female",
         "link_color": "0084B4",
         "name": "MeganFitz20",
         "profile_yn_gold": "yes",
         "profileimage": "https://pbs.twimg.com/profile_images/655134724663484417/18aEAvqd_normal.jpg",
         "retweet_count": 0,
         "sidebar_color": "C0DEED",
         "text": "I think for my APUSH creative project I'm going to bring bacon to class and eat it to represent Bacon's Rebellion",
         "tweet_coord": "nan",
         "tweet_count": 2922,
         "tweet_created": "10/26/15 13:19",
         "tweet_id": 658740000000000000,
         "tweet_location": "nan",
         "user_timezone": "nan",
         "_deepnote_index_column": 20049
        }
       ]
      },
      "text/plain": "        _unit_id  _golden _unit_state  _trusted_judgments _last_judgment_at  \\\n0      815719226    False   finalized                   3    10/26/15 23:24   \n1      815719227    False   finalized                   3    10/26/15 23:30   \n2      815719228    False   finalized                   3    10/26/15 23:33   \n3      815719229    False   finalized                   3    10/26/15 23:10   \n4      815719230    False   finalized                   3     10/27/15 1:15   \n...          ...      ...         ...                 ...               ...   \n20045  815757572     True      golden                 259               NaN   \n20046  815757681     True      golden                 248               NaN   \n20047  815757830     True      golden                 264               NaN   \n20048  815757921     True      golden                 250               NaN   \n20049  815757985     True      golden                 249               NaN   \n\n       gender  gender:confidence profile_yn  profile_yn:confidence  \\\n0        male             1.0000        yes                    1.0   \n1        male             1.0000        yes                    1.0   \n2        male             0.6625        yes                    1.0   \n3        male             1.0000        yes                    1.0   \n4      female             1.0000        yes                    1.0   \n...       ...                ...        ...                    ...   \n20045  female             1.0000        yes                    1.0   \n20046    male             1.0000        yes                    1.0   \n20047    male             1.0000        yes                    1.0   \n20048  female             0.8489        yes                    1.0   \n20049  female             1.0000        yes                    1.0   \n\n              created  ...                                       profileimage  \\\n0        12/5/13 1:48  ...  https://pbs.twimg.com/profile_images/414342229...   \n1       10/1/12 13:51  ...  https://pbs.twimg.com/profile_images/539604221...   \n2      11/28/14 11:30  ...  https://pbs.twimg.com/profile_images/657330418...   \n3       6/11/09 22:39  ...  https://pbs.twimg.com/profile_images/259703936...   \n4       4/16/14 13:23  ...  https://pbs.twimg.com/profile_images/564094871...   \n...               ...  ...                                                ...   \n20045    8/5/15 21:16  ...  https://pbs.twimg.com/profile_images/656793310...   \n20046   8/15/12 21:17  ...  https://pbs.twimg.com/profile_images/639815429...   \n20047     9/3/12 1:17  ...  https://pbs.twimg.com/profile_images/655473271...   \n20048   11/6/12 23:46  ...  https://pbs.twimg.com/profile_images/657716093...   \n20049   4/14/14 17:22  ...  https://pbs.twimg.com/profile_images/655134724...   \n\n       retweet_count sidebar_color  \\\n0                  0        FFFFFF   \n1                  0        C0DEED   \n2                  1        C0DEED   \n3                  0        C0DEED   \n4                  0             0   \n...              ...           ...   \n20045              0        C0DEED   \n20046              0             0   \n20047              0        C0DEED   \n20048              0             0   \n20049              0        C0DEED   \n\n                                                    text tweet_coord  \\\n0      Robbie E Responds To Critics After Win Against...         NaN   \n1      ÛÏIt felt like they were my friends and I was...         NaN   \n2      i absolutely adore when louis starts the songs...         NaN   \n3      Hi @JordanSpieth - Looking at the url - do you...         NaN   \n4      Watching Neighbours on Sky+ catching up with t...         NaN   \n...                                                  ...         ...   \n20045  @lookupondeath ...Fine, and I'll drink tea too...         NaN   \n20046  Greg Hardy you a good player and all but don't...         NaN   \n20047  You can miss people and still never want to se...         NaN   \n20048  @bitemyapp i had noticed your tendency to pee ...         NaN   \n20049  I think for my APUSH creative project I'm goin...         NaN   \n\n      tweet_count   tweet_created      tweet_id      tweet_location  \\\n0          110964  10/26/15 12:40  6.587300e+17     main; @Kan1shk3   \n1            7471  10/26/15 12:40  6.587300e+17                 NaN   \n2            5617  10/26/15 12:40  6.587300e+17              clcncl   \n3            1693  10/26/15 12:40  6.587300e+17       Palo Alto, CA   \n4           31462  10/26/15 12:40  6.587300e+17                 NaN   \n...           ...             ...           ...                 ...   \n20045         783  10/26/15 13:20  6.587400e+17          Verona ªÁ   \n20046       13523  10/26/15 12:40  6.587300e+17     Kansas City, MO   \n20047       26419  10/26/15 13:20  6.587400e+17      Lagos Nigeria    \n20048       56073  10/26/15 12:40  6.587300e+17  Texas Hill Country   \n20049        2922  10/26/15 13:19  6.587400e+17                 NaN   \n\n                    user_timezone  \n0                         Chennai  \n1      Eastern Time (US & Canada)  \n2                        Belgrade  \n3      Pacific Time (US & Canada)  \n4                             NaN  \n...                           ...  \n20045                         NaN  \n20046                         NaN  \n20047                         NaN  \n20048                         NaN  \n20049                         NaN  \n\n[20050 rows x 26 columns]",
      "text/html": "<div>\n<style scoped>\n    .dataframe tbody tr th:only-of-type {\n        vertical-align: middle;\n    }\n\n    .dataframe tbody tr th {\n        vertical-align: top;\n    }\n\n    .dataframe thead th {\n        text-align: right;\n    }\n</style>\n<table border=\"1\" class=\"dataframe\">\n  <thead>\n    <tr style=\"text-align: right;\">\n      <th></th>\n      <th>_unit_id</th>\n      <th>_golden</th>\n      <th>_unit_state</th>\n      <th>_trusted_judgments</th>\n      <th>_last_judgment_at</th>\n      <th>gender</th>\n      <th>gender:confidence</th>\n      <th>profile_yn</th>\n      <th>profile_yn:confidence</th>\n      <th>created</th>\n      <th>...</th>\n      <th>profileimage</th>\n      <th>retweet_count</th>\n      <th>sidebar_color</th>\n      <th>text</th>\n      <th>tweet_coord</th>\n      <th>tweet_count</th>\n      <th>tweet_created</th>\n      <th>tweet_id</th>\n      <th>tweet_location</th>\n      <th>user_timezone</th>\n    </tr>\n  </thead>\n  <tbody>\n    <tr>\n      <th>0</th>\n      <td>815719226</td>\n      <td>False</td>\n      <td>finalized</td>\n      <td>3</td>\n      <td>10/26/15 23:24</td>\n      <td>male</td>\n      <td>1.0000</td>\n      <td>yes</td>\n      <td>1.0</td>\n      <td>12/5/13 1:48</td>\n      <td>...</td>\n      <td>https://pbs.twimg.com/profile_images/414342229...</td>\n      <td>0</td>\n      <td>FFFFFF</td>\n      <td>Robbie E Responds To Critics After Win Against...</td>\n      <td>NaN</td>\n      <td>110964</td>\n      <td>10/26/15 12:40</td>\n      <td>6.587300e+17</td>\n      <td>main; @Kan1shk3</td>\n      <td>Chennai</td>\n    </tr>\n    <tr>\n      <th>1</th>\n      <td>815719227</td>\n      <td>False</td>\n      <td>finalized</td>\n      <td>3</td>\n      <td>10/26/15 23:30</td>\n      <td>male</td>\n      <td>1.0000</td>\n      <td>yes</td>\n      <td>1.0</td>\n      <td>10/1/12 13:51</td>\n      <td>...</td>\n      <td>https://pbs.twimg.com/profile_images/539604221...</td>\n      <td>0</td>\n      <td>C0DEED</td>\n      <td>ÛÏIt felt like they were my friends and I was...</td>\n      <td>NaN</td>\n      <td>7471</td>\n      <td>10/26/15 12:40</td>\n      <td>6.587300e+17</td>\n      <td>NaN</td>\n      <td>Eastern Time (US &amp; Canada)</td>\n    </tr>\n    <tr>\n      <th>2</th>\n      <td>815719228</td>\n      <td>False</td>\n      <td>finalized</td>\n      <td>3</td>\n      <td>10/26/15 23:33</td>\n      <td>male</td>\n      <td>0.6625</td>\n      <td>yes</td>\n      <td>1.0</td>\n      <td>11/28/14 11:30</td>\n      <td>...</td>\n      <td>https://pbs.twimg.com/profile_images/657330418...</td>\n      <td>1</td>\n      <td>C0DEED</td>\n      <td>i absolutely adore when louis starts the songs...</td>\n      <td>NaN</td>\n      <td>5617</td>\n      <td>10/26/15 12:40</td>\n      <td>6.587300e+17</td>\n      <td>clcncl</td>\n      <td>Belgrade</td>\n    </tr>\n    <tr>\n      <th>3</th>\n      <td>815719229</td>\n      <td>False</td>\n      <td>finalized</td>\n      <td>3</td>\n      <td>10/26/15 23:10</td>\n      <td>male</td>\n      <td>1.0000</td>\n      <td>yes</td>\n      <td>1.0</td>\n      <td>6/11/09 22:39</td>\n      <td>...</td>\n      <td>https://pbs.twimg.com/profile_images/259703936...</td>\n      <td>0</td>\n      <td>C0DEED</td>\n      <td>Hi @JordanSpieth - Looking at the url - do you...</td>\n      <td>NaN</td>\n      <td>1693</td>\n      <td>10/26/15 12:40</td>\n      <td>6.587300e+17</td>\n      <td>Palo Alto, CA</td>\n      <td>Pacific Time (US &amp; Canada)</td>\n    </tr>\n    <tr>\n      <th>4</th>\n      <td>815719230</td>\n      <td>False</td>\n      <td>finalized</td>\n      <td>3</td>\n      <td>10/27/15 1:15</td>\n      <td>female</td>\n      <td>1.0000</td>\n      <td>yes</td>\n      <td>1.0</td>\n      <td>4/16/14 13:23</td>\n      <td>...</td>\n      <td>https://pbs.twimg.com/profile_images/564094871...</td>\n      <td>0</td>\n      <td>0</td>\n      <td>Watching Neighbours on Sky+ catching up with t...</td>\n      <td>NaN</td>\n      <td>31462</td>\n      <td>10/26/15 12:40</td>\n      <td>6.587300e+17</td>\n      <td>NaN</td>\n      <td>NaN</td>\n    </tr>\n    <tr>\n      <th>...</th>\n      <td>...</td>\n      <td>...</td>\n      <td>...</td>\n      <td>...</td>\n      <td>...</td>\n      <td>...</td>\n      <td>...</td>\n      <td>...</td>\n      <td>...</td>\n      <td>...</td>\n      <td>...</td>\n      <td>...</td>\n      <td>...</td>\n      <td>...</td>\n      <td>...</td>\n      <td>...</td>\n      <td>...</td>\n      <td>...</td>\n      <td>...</td>\n      <td>...</td>\n      <td>...</td>\n    </tr>\n    <tr>\n      <th>20045</th>\n      <td>815757572</td>\n      <td>True</td>\n      <td>golden</td>\n      <td>259</td>\n      <td>NaN</td>\n      <td>female</td>\n      <td>1.0000</td>\n      <td>yes</td>\n      <td>1.0</td>\n      <td>8/5/15 21:16</td>\n      <td>...</td>\n      <td>https://pbs.twimg.com/profile_images/656793310...</td>\n      <td>0</td>\n      <td>C0DEED</td>\n      <td>@lookupondeath ...Fine, and I'll drink tea too...</td>\n      <td>NaN</td>\n      <td>783</td>\n      <td>10/26/15 13:20</td>\n      <td>6.587400e+17</td>\n      <td>Verona ªÁ</td>\n      <td>NaN</td>\n    </tr>\n    <tr>\n      <th>20046</th>\n      <td>815757681</td>\n      <td>True</td>\n      <td>golden</td>\n      <td>248</td>\n      <td>NaN</td>\n      <td>male</td>\n      <td>1.0000</td>\n      <td>yes</td>\n      <td>1.0</td>\n      <td>8/15/12 21:17</td>\n      <td>...</td>\n      <td>https://pbs.twimg.com/profile_images/639815429...</td>\n      <td>0</td>\n      <td>0</td>\n      <td>Greg Hardy you a good player and all but don't...</td>\n      <td>NaN</td>\n      <td>13523</td>\n      <td>10/26/15 12:40</td>\n      <td>6.587300e+17</td>\n      <td>Kansas City, MO</td>\n      <td>NaN</td>\n    </tr>\n    <tr>\n      <th>20047</th>\n      <td>815757830</td>\n      <td>True</td>\n      <td>golden</td>\n      <td>264</td>\n      <td>NaN</td>\n      <td>male</td>\n      <td>1.0000</td>\n      <td>yes</td>\n      <td>1.0</td>\n      <td>9/3/12 1:17</td>\n      <td>...</td>\n      <td>https://pbs.twimg.com/profile_images/655473271...</td>\n      <td>0</td>\n      <td>C0DEED</td>\n      <td>You can miss people and still never want to se...</td>\n      <td>NaN</td>\n      <td>26419</td>\n      <td>10/26/15 13:20</td>\n      <td>6.587400e+17</td>\n      <td>Lagos Nigeria</td>\n      <td>NaN</td>\n    </tr>\n    <tr>\n      <th>20048</th>\n      <td>815757921</td>\n      <td>True</td>\n      <td>golden</td>\n      <td>250</td>\n      <td>NaN</td>\n      <td>female</td>\n      <td>0.8489</td>\n      <td>yes</td>\n      <td>1.0</td>\n      <td>11/6/12 23:46</td>\n      <td>...</td>\n      <td>https://pbs.twimg.com/profile_images/657716093...</td>\n      <td>0</td>\n      <td>0</td>\n      <td>@bitemyapp i had noticed your tendency to pee ...</td>\n      <td>NaN</td>\n      <td>56073</td>\n      <td>10/26/15 12:40</td>\n      <td>6.587300e+17</td>\n      <td>Texas Hill Country</td>\n      <td>NaN</td>\n    </tr>\n    <tr>\n      <th>20049</th>\n      <td>815757985</td>\n      <td>True</td>\n      <td>golden</td>\n      <td>249</td>\n      <td>NaN</td>\n      <td>female</td>\n      <td>1.0000</td>\n      <td>yes</td>\n      <td>1.0</td>\n      <td>4/14/14 17:22</td>\n      <td>...</td>\n      <td>https://pbs.twimg.com/profile_images/655134724...</td>\n      <td>0</td>\n      <td>C0DEED</td>\n      <td>I think for my APUSH creative project I'm goin...</td>\n      <td>NaN</td>\n      <td>2922</td>\n      <td>10/26/15 13:19</td>\n      <td>6.587400e+17</td>\n      <td>NaN</td>\n      <td>NaN</td>\n    </tr>\n  </tbody>\n</table>\n<p>20050 rows × 26 columns</p>\n</div>"
     },
     "metadata": {}
    }
   ]
  },
  {
   "cell_type": "code",
   "metadata": {
    "execution": {
     "iopub.execute_input": "2020-12-03T21:10:49.412667Z",
     "iopub.status.busy": "2020-12-03T21:10:49.411760Z",
     "iopub.status.idle": "2020-12-03T21:10:49.426476Z",
     "shell.execute_reply": "2020-12-03T21:10:49.426995Z"
    },
    "papermill": {
     "duration": 0.071823,
     "end_time": "2020-12-03T21:10:49.427125",
     "exception": false,
     "start_time": "2020-12-03T21:10:49.355302",
     "status": "completed"
    },
    "tags": [],
    "deepnote_to_be_reexecuted": false,
    "source_hash": "957547ae",
    "execution_millis": 31,
    "cell_id": "00005-1b81d6c7-0e00-4a67-b8fd-af0467eafa4f",
    "execution_start": 1620758075414,
    "deepnote_cell_type": "code"
   },
   "source": "data.info()",
   "execution_count": 4,
   "outputs": [
    {
     "name": "stdout",
     "text": "<class 'pandas.core.frame.DataFrame'>\nRangeIndex: 20050 entries, 0 to 20049\nData columns (total 26 columns):\n #   Column                 Non-Null Count  Dtype  \n---  ------                 --------------  -----  \n 0   _unit_id               20050 non-null  int64  \n 1   _golden                20050 non-null  bool   \n 2   _unit_state            20050 non-null  object \n 3   _trusted_judgments     20050 non-null  int64  \n 4   _last_judgment_at      20000 non-null  object \n 5   gender                 19953 non-null  object \n 6   gender:confidence      20024 non-null  float64\n 7   profile_yn             20050 non-null  object \n 8   profile_yn:confidence  20050 non-null  float64\n 9   created                20050 non-null  object \n 10  description            16306 non-null  object \n 11  fav_number             20050 non-null  int64  \n 12  gender_gold            50 non-null     object \n 13  link_color             20050 non-null  object \n 14  name                   20050 non-null  object \n 15  profile_yn_gold        50 non-null     object \n 16  profileimage           20050 non-null  object \n 17  retweet_count          20050 non-null  int64  \n 18  sidebar_color          20050 non-null  object \n 19  text                   20050 non-null  object \n 20  tweet_coord            159 non-null    object \n 21  tweet_count            20050 non-null  int64  \n 22  tweet_created          20050 non-null  object \n 23  tweet_id               20050 non-null  float64\n 24  tweet_location         12566 non-null  object \n 25  user_timezone          12252 non-null  object \ndtypes: bool(1), float64(3), int64(5), object(17)\nmemory usage: 3.8+ MB\n",
     "output_type": "stream"
    }
   ]
  },
  {
   "cell_type": "markdown",
   "source": "# Preprocessing",
   "metadata": {
    "papermill": {
     "duration": 0.023314,
     "end_time": "2020-12-03T21:10:49.474247",
     "exception": false,
     "start_time": "2020-12-03T21:10:49.450933",
     "status": "completed"
    },
    "tags": [],
    "cell_id": "00006-e1185c71-06f7-45ab-a5f3-e6ed9d4bf14b",
    "deepnote_cell_type": "markdown"
   }
  },
  {
   "cell_type": "code",
   "metadata": {
    "execution": {
     "iopub.execute_input": "2020-12-03T21:10:49.619765Z",
     "iopub.status.busy": "2020-12-03T21:10:49.618063Z",
     "iopub.status.idle": "2020-12-03T21:10:49.620519Z",
     "shell.execute_reply": "2020-12-03T21:10:49.621000Z"
    },
    "papermill": {
     "duration": 0.034406,
     "end_time": "2020-12-03T21:10:49.621117",
     "exception": false,
     "start_time": "2020-12-03T21:10:49.586711",
     "status": "completed"
    },
    "tags": [],
    "deepnote_to_be_reexecuted": false,
    "source_hash": "ed9980de",
    "execution_millis": 0,
    "cell_id": "00007-a7bff53c-c099-4686-b706-7f5ef0fdf972",
    "execution_start": 1620758075487,
    "deepnote_cell_type": "code"
   },
   "source": "def get_sequences(texts, vocab_length):\n    lemma = nltk.WordNetLemmatizer()\n    texts = [lemma.lemmatize(word) for word in texts]\n\n    tokenizer = Tokenizer(num_words=vocab_length)\n    tokenizer.fit_on_texts(texts)\n    \n    sequences = tokenizer.texts_to_sequences(texts)\n    \n    max_seq_length = np.max([len(sequence) for sequence in sequences])\n    \n    sequences = pad_sequences(sequences, maxlen=max_seq_length, padding='post')\n    \n    return sequences",
   "execution_count": 5,
   "outputs": []
  },
  {
   "cell_type": "code",
   "metadata": {
    "execution": {
     "iopub.execute_input": "2020-12-03T21:10:49.812096Z",
     "iopub.status.busy": "2020-12-03T21:10:49.810410Z",
     "iopub.status.idle": "2020-12-03T21:10:49.812830Z",
     "shell.execute_reply": "2020-12-03T21:10:49.813321Z"
    },
    "papermill": {
     "duration": 0.05115,
     "end_time": "2020-12-03T21:10:49.813427",
     "exception": false,
     "start_time": "2020-12-03T21:10:49.762277",
     "status": "completed"
    },
    "tags": [],
    "deepnote_to_be_reexecuted": false,
    "source_hash": "f86a40f7",
    "execution_millis": 1,
    "cell_id": "00008-7412a3c2-88dd-4530-b269-8053e897672d",
    "execution_start": 1620758075487,
    "deepnote_cell_type": "code"
   },
   "source": "def preprocess_input(df, vocab_length=20000):\n    df = df.copy()\n    \n    # Drop unnecessary columns\n    df = df[['gender','text', 'description']]\n    \n    # Encode unknown values in the target column as np.NaN\n    df['gender'] = df['gender'].replace('unknown', np.NaN)\n    \n    # Drop rows with missing target values\n    gender_nas = df[df['gender'].isna()].index\n    df = df.drop(gender_nas, axis=0).reset_index(drop=True)\n\n    # Drop rows with \"brand\" target values\n    gender_brand = df[df['gender'] == 'brand'].index\n    df = df.drop(gender_brand, axis=0).reset_index(drop=True)\n\n    # Let's encode the missing values in the description column as empty strings\n    df['description'] = df['description'].fillna('')\n\n    # Get sequence data for text and description columns\n    text = df['description'] + ' ' + df['text']\n    text = get_sequences(text, vocab_length)\n    \n    # Encode label column\n    label_mapping = {'female': 0, 'male': 1}\n    df['gender'] = df['gender'].replace(label_mapping)\n    \n    # Get target data from gender column\n    y = df['gender'].copy()\n    \n    return text, y",
   "execution_count": 6,
   "outputs": []
  },
  {
   "cell_type": "code",
   "metadata": {
    "tags": [],
    "deepnote_to_be_reexecuted": false,
    "source_hash": "61a6626f",
    "execution_millis": 2538,
    "cell_id": "00009-7acff912-ee07-429b-b524-1e6bac0f1b1c",
    "execution_start": 1620758075488,
    "deepnote_cell_type": "code"
   },
   "source": "text, y = preprocess_input(data)",
   "execution_count": 7,
   "outputs": []
  },
  {
   "cell_type": "code",
   "metadata": {
    "tags": [],
    "deepnote_to_be_reexecuted": false,
    "source_hash": "f64ab074",
    "execution_millis": 9,
    "cell_id": "00010-321b766b-07d9-478f-bc19-e5425688de8e",
    "execution_start": 1620758078045,
    "deepnote_cell_type": "code"
   },
   "source": "text.shape",
   "execution_count": 8,
   "outputs": [
    {
     "output_type": "execute_result",
     "execution_count": 8,
     "data": {
      "text/plain": "(12894, 114)"
     },
     "metadata": {}
    }
   ]
  },
  {
   "cell_type": "code",
   "metadata": {
    "tags": [],
    "deepnote_to_be_reexecuted": false,
    "source_hash": "57b8ea20",
    "execution_millis": 8,
    "cell_id": "00011-78bdb41a-ac4e-493d-96e5-8badc5a9916c",
    "execution_start": 1620758078046,
    "deepnote_cell_type": "code"
   },
   "source": "y.shape",
   "execution_count": 9,
   "outputs": [
    {
     "output_type": "execute_result",
     "execution_count": 9,
     "data": {
      "text/plain": "(12894,)"
     },
     "metadata": {}
    }
   ]
  },
  {
   "cell_type": "code",
   "metadata": {
    "tags": [],
    "deepnote_to_be_reexecuted": false,
    "source_hash": "d1a4928d",
    "execution_millis": 34,
    "cell_id": "00012-fee5243c-a0d8-4301-84c0-0485cf29a143",
    "execution_start": 1620758078046,
    "deepnote_cell_type": "code"
   },
   "source": "y.value_counts()",
   "execution_count": 10,
   "outputs": [
    {
     "output_type": "execute_result",
     "execution_count": 10,
     "data": {
      "text/plain": "0    6700\n1    6194\nName: gender, dtype: int64"
     },
     "metadata": {}
    }
   ]
  },
  {
   "cell_type": "markdown",
   "source": "# Splitting Train/Test Sets",
   "metadata": {
    "papermill": {
     "duration": 0.028428,
     "end_time": "2020-12-03T21:10:55.561427",
     "exception": false,
     "start_time": "2020-12-03T21:10:55.532999",
     "status": "completed"
    },
    "tags": [],
    "cell_id": "00013-955dd3be-7396-46c8-9175-8c24af10b820",
    "deepnote_cell_type": "markdown"
   }
  },
  {
   "cell_type": "code",
   "metadata": {
    "execution": {
     "iopub.execute_input": "2020-12-03T21:10:55.624653Z",
     "iopub.status.busy": "2020-12-03T21:10:55.623648Z",
     "iopub.status.idle": "2020-12-03T21:10:55.635232Z",
     "shell.execute_reply": "2020-12-03T21:10:55.635779Z"
    },
    "papermill": {
     "duration": 0.04544,
     "end_time": "2020-12-03T21:10:55.635911",
     "exception": false,
     "start_time": "2020-12-03T21:10:55.590471",
     "status": "completed"
    },
    "tags": [],
    "deepnote_to_be_reexecuted": false,
    "source_hash": "a3937238",
    "execution_millis": 0,
    "cell_id": "00014-2a284089-a48d-4d77-a50f-36589ab713c4",
    "execution_start": 1620758078073,
    "deepnote_cell_type": "code"
   },
   "source": "text_train, text_test, y_train, y_test = train_test_split(text, y, train_size=0.8, random_state=1)",
   "execution_count": 11,
   "outputs": []
  },
  {
   "cell_type": "code",
   "metadata": {
    "tags": [],
    "deepnote_to_be_reexecuted": false,
    "source_hash": "a1a258da",
    "execution_millis": 6,
    "cell_id": "00015-c7214ded-7567-402f-a842-fe70617141d0",
    "execution_start": 1620758078074,
    "deepnote_cell_type": "code"
   },
   "source": "y_train.value_counts()",
   "execution_count": 12,
   "outputs": [
    {
     "output_type": "execute_result",
     "execution_count": 12,
     "data": {
      "text/plain": "0    5342\n1    4973\nName: gender, dtype: int64"
     },
     "metadata": {}
    }
   ]
  },
  {
   "cell_type": "code",
   "metadata": {
    "tags": [],
    "deepnote_to_be_reexecuted": false,
    "source_hash": "9f353983",
    "execution_millis": 28,
    "cell_id": "00016-cfe32d41-d29c-4e5a-b792-073f6ca797d8",
    "execution_start": 1620758078074,
    "deepnote_cell_type": "code"
   },
   "source": "y_test.value_counts()",
   "execution_count": 13,
   "outputs": [
    {
     "output_type": "execute_result",
     "execution_count": 13,
     "data": {
      "text/plain": "0    1358\n1    1221\nName: gender, dtype: int64"
     },
     "metadata": {}
    }
   ]
  },
  {
   "cell_type": "code",
   "metadata": {
    "tags": [],
    "deepnote_to_be_reexecuted": false,
    "source_hash": "a453a315",
    "execution_millis": 1301079245,
    "cell_id": "00017-0f605f7d-5243-4e33-a12a-49cdf0c61871",
    "execution_start": 1620758078103,
    "deepnote_cell_type": "code"
   },
   "source": "#! pip install scikit-learn==0.21.2",
   "execution_count": 14,
   "outputs": []
  },
  {
   "cell_type": "code",
   "metadata": {
    "tags": [],
    "deepnote_to_be_reexecuted": false,
    "source_hash": "c1a7d503",
    "execution_millis": 1301079244,
    "cell_id": "00018-548c78bf-90b6-4163-bc05-e5b806fc2fca",
    "execution_start": 1620758078104,
    "deepnote_cell_type": "code"
   },
   "source": "#! pip install numpy==1.19.3",
   "execution_count": 15,
   "outputs": []
  },
  {
   "cell_type": "markdown",
   "source": "# Modeling",
   "metadata": {
    "papermill": {
     "duration": 0.029591,
     "end_time": "2020-12-03T21:10:55.693682",
     "exception": false,
     "start_time": "2020-12-03T21:10:55.664091",
     "status": "completed"
    },
    "tags": [],
    "cell_id": "00019-4b7c6bc1-c375-49e5-b4e3-8343c21618f3",
    "deepnote_cell_type": "markdown"
   }
  },
  {
   "cell_type": "code",
   "metadata": {
    "execution": {
     "iopub.execute_input": "2020-12-03T21:10:55.836339Z",
     "iopub.status.busy": "2020-12-03T21:10:55.829171Z",
     "iopub.status.idle": "2020-12-03T21:10:55.839299Z",
     "shell.execute_reply": "2020-12-03T21:10:55.838772Z"
    },
    "papermill": {
     "duration": 0.053224,
     "end_time": "2020-12-03T21:10:55.839401",
     "exception": false,
     "start_time": "2020-12-03T21:10:55.786177",
     "status": "completed"
    },
    "tags": [],
    "deepnote_to_be_reexecuted": false,
    "source_hash": "6c26f5d9",
    "execution_millis": 1301079243,
    "cell_id": "00020-f8a6c9a2-5680-4f51-a287-d0a54df12a1b",
    "execution_start": 1620758078105,
    "deepnote_cell_type": "code"
   },
   "source": "def build_model(out_dim=256, train_bool=True, learning_rate=0.0001):\n\n    text_inputs = tf.keras.Input(shape=(text.shape[1],))\n\n    #text\n    text_embedding = tf.keras.layers.Embedding(\n        input_dim=20000,\n        output_dim=out_dim,\n        input_length=text.shape[1],\n        trainable=train_bool\n    )(text_inputs)\n    text_gru = tf.keras.layers.GRU(out_dim, return_sequences=False)(text_embedding)\n    text_flatten = tf.keras.layers.Flatten()(text_embedding)\n    text_concat = tf.keras.layers.concatenate([text_gru, text_flatten])\n\n    outputs = tf.keras.layers.Dense(2, activation='softmax')(text_concat)\n    model = tf.keras.Model(inputs=text_inputs, outputs=outputs)\n    optimizer = keras.optimizers.Adam(lr=learning_rate)\n    model.compile(loss=\"sparse_categorical_crossentropy\", optimizer=optimizer, metrics=[\"accuracy\"])  \n    return model",
   "execution_count": 16,
   "outputs": []
  },
  {
   "cell_type": "code",
   "metadata": {
    "tags": [],
    "deepnote_to_be_reexecuted": false,
    "source_hash": "69370f20",
    "execution_millis": 1301079241,
    "cell_id": "00021-b5d486f3-8c42-4193-acd3-605d7965f882",
    "execution_start": 1620758078120,
    "deepnote_cell_type": "code"
   },
   "source": "keras_reg = keras.wrappers.scikit_learn.KerasRegressor(build_model)",
   "execution_count": 17,
   "outputs": []
  },
  {
   "cell_type": "code",
   "metadata": {
    "tags": [],
    "deepnote_to_be_reexecuted": false,
    "source_hash": "d1822088",
    "execution_millis": 1301079208,
    "cell_id": "00023-bead2c50-d31a-4f68-b2ca-5783a9576f3b",
    "execution_start": 1620758078120,
    "deepnote_cell_type": "code"
   },
   "source": "text_train.shape",
   "execution_count": 18,
   "outputs": [
    {
     "output_type": "execute_result",
     "execution_count": 18,
     "data": {
      "text/plain": "(10315, 114)"
     },
     "metadata": {}
    }
   ]
  },
  {
   "cell_type": "code",
   "metadata": {
    "tags": [],
    "deepnote_to_be_reexecuted": false,
    "source_hash": "9cd47083",
    "execution_millis": 2,
    "cell_id": "00024-b8536036-830b-491f-b78a-bd10897601a6",
    "execution_start": 1620758078121,
    "deepnote_cell_type": "code"
   },
   "source": "y_train.shape",
   "execution_count": 19,
   "outputs": [
    {
     "output_type": "execute_result",
     "execution_count": 19,
     "data": {
      "text/plain": "(10315,)"
     },
     "metadata": {}
    }
   ]
  },
  {
   "cell_type": "code",
   "metadata": {
    "tags": [],
    "deepnote_to_be_reexecuted": false,
    "source_hash": "1106077c",
    "execution_millis": 625581,
    "cell_id": "00025-70ba8613-8f19-4ac6-b983-b0ae519d276e",
    "execution_start": 1620758078165,
    "deepnote_cell_type": "code"
   },
   "source": "from scipy.stats import reciprocal\nfrom sklearn.model_selection import RandomizedSearchCV\n\nparam_distribs = {\n    \"out_dim\": [64, 128, 256, 512],\n    \"train_bool\": [True, False],\n    \"learning_rate\": np.arange(0.0001, 0.01, 0.002),\n}\n\nrnd_search_cv = RandomizedSearchCV(keras_reg, param_distribs, n_iter=10, random_state=0)\nrnd_search_cv.fit(text_train, y_train, epochs=3,\n                  callbacks=[keras.callbacks.EarlyStopping(monitor=\"loss\", patience=10)])",
   "execution_count": 20,
   "outputs": [
    {
     "name": "stdout",
     "text": "Epoch 1/3\n258/258 [==============================] - 382s 1s/step - loss: 0.8774 - accuracy: 0.5623\nEpoch 2/3\n167/258 [==================>...........] - ETA: 2:09 - loss: 0.1845 - accuracy: 0.9302",
     "output_type": "stream"
    },
    {
     "output_type": "error",
     "ename": "KeyboardInterrupt",
     "evalue": "",
     "traceback": [
      "\u001b[0;31m---------------------------------------------------------------------------\u001b[0m",
      "\u001b[0;31mKeyboardInterrupt\u001b[0m                         Traceback (most recent call last)",
      "\u001b[0;32m<ipython-input-20-efe43fa7e23b>\u001b[0m in \u001b[0;36m<module>\u001b[0;34m\u001b[0m\n\u001b[1;32m      9\u001b[0m \u001b[0;34m\u001b[0m\u001b[0m\n\u001b[1;32m     10\u001b[0m \u001b[0mrnd_search_cv\u001b[0m \u001b[0;34m=\u001b[0m \u001b[0mRandomizedSearchCV\u001b[0m\u001b[0;34m(\u001b[0m\u001b[0mkeras_reg\u001b[0m\u001b[0;34m,\u001b[0m \u001b[0mparam_distribs\u001b[0m\u001b[0;34m,\u001b[0m \u001b[0mn_iter\u001b[0m\u001b[0;34m=\u001b[0m\u001b[0;36m10\u001b[0m\u001b[0;34m,\u001b[0m \u001b[0mrandom_state\u001b[0m\u001b[0;34m=\u001b[0m\u001b[0;36m0\u001b[0m\u001b[0;34m)\u001b[0m\u001b[0;34m\u001b[0m\u001b[0;34m\u001b[0m\u001b[0m\n\u001b[0;32m---> 11\u001b[0;31m rnd_search_cv.fit(text_train, y_train, epochs=3,\n\u001b[0m\u001b[1;32m     12\u001b[0m                   callbacks=[keras.callbacks.EarlyStopping(monitor=\"loss\", patience=10)])\n",
      "\u001b[0;32m/shared-libs/python3.8/py/lib/python3.8/site-packages/sklearn/utils/validation.py\u001b[0m in \u001b[0;36minner_f\u001b[0;34m(*args, **kwargs)\u001b[0m\n\u001b[1;32m     61\u001b[0m             \u001b[0mextra_args\u001b[0m \u001b[0;34m=\u001b[0m \u001b[0mlen\u001b[0m\u001b[0;34m(\u001b[0m\u001b[0margs\u001b[0m\u001b[0;34m)\u001b[0m \u001b[0;34m-\u001b[0m \u001b[0mlen\u001b[0m\u001b[0;34m(\u001b[0m\u001b[0mall_args\u001b[0m\u001b[0;34m)\u001b[0m\u001b[0;34m\u001b[0m\u001b[0;34m\u001b[0m\u001b[0m\n\u001b[1;32m     62\u001b[0m             \u001b[0;32mif\u001b[0m \u001b[0mextra_args\u001b[0m \u001b[0;34m<=\u001b[0m \u001b[0;36m0\u001b[0m\u001b[0;34m:\u001b[0m\u001b[0;34m\u001b[0m\u001b[0;34m\u001b[0m\u001b[0m\n\u001b[0;32m---> 63\u001b[0;31m                 \u001b[0;32mreturn\u001b[0m \u001b[0mf\u001b[0m\u001b[0;34m(\u001b[0m\u001b[0;34m*\u001b[0m\u001b[0margs\u001b[0m\u001b[0;34m,\u001b[0m \u001b[0;34m**\u001b[0m\u001b[0mkwargs\u001b[0m\u001b[0;34m)\u001b[0m\u001b[0;34m\u001b[0m\u001b[0;34m\u001b[0m\u001b[0m\n\u001b[0m\u001b[1;32m     64\u001b[0m \u001b[0;34m\u001b[0m\u001b[0m\n\u001b[1;32m     65\u001b[0m             \u001b[0;31m# extra_args > 0\u001b[0m\u001b[0;34m\u001b[0m\u001b[0;34m\u001b[0m\u001b[0;34m\u001b[0m\u001b[0m\n",
      "\u001b[0;32m/shared-libs/python3.8/py/lib/python3.8/site-packages/sklearn/model_selection/_search.py\u001b[0m in \u001b[0;36mfit\u001b[0;34m(self, X, y, groups, **fit_params)\u001b[0m\n\u001b[1;32m    839\u001b[0m                 \u001b[0;32mreturn\u001b[0m \u001b[0mresults\u001b[0m\u001b[0;34m\u001b[0m\u001b[0;34m\u001b[0m\u001b[0m\n\u001b[1;32m    840\u001b[0m \u001b[0;34m\u001b[0m\u001b[0m\n\u001b[0;32m--> 841\u001b[0;31m             \u001b[0mself\u001b[0m\u001b[0;34m.\u001b[0m\u001b[0m_run_search\u001b[0m\u001b[0;34m(\u001b[0m\u001b[0mevaluate_candidates\u001b[0m\u001b[0;34m)\u001b[0m\u001b[0;34m\u001b[0m\u001b[0;34m\u001b[0m\u001b[0m\n\u001b[0m\u001b[1;32m    842\u001b[0m \u001b[0;34m\u001b[0m\u001b[0m\n\u001b[1;32m    843\u001b[0m             \u001b[0;31m# multimetric is determined here because in the case of a callable\u001b[0m\u001b[0;34m\u001b[0m\u001b[0;34m\u001b[0m\u001b[0;34m\u001b[0m\u001b[0m\n",
      "\u001b[0;32m/shared-libs/python3.8/py/lib/python3.8/site-packages/sklearn/model_selection/_search.py\u001b[0m in \u001b[0;36m_run_search\u001b[0;34m(self, evaluate_candidates)\u001b[0m\n\u001b[1;32m   1631\u001b[0m     \u001b[0;32mdef\u001b[0m \u001b[0m_run_search\u001b[0m\u001b[0;34m(\u001b[0m\u001b[0mself\u001b[0m\u001b[0;34m,\u001b[0m \u001b[0mevaluate_candidates\u001b[0m\u001b[0;34m)\u001b[0m\u001b[0;34m:\u001b[0m\u001b[0;34m\u001b[0m\u001b[0;34m\u001b[0m\u001b[0m\n\u001b[1;32m   1632\u001b[0m         \u001b[0;34m\"\"\"Search n_iter candidates from param_distributions\"\"\"\u001b[0m\u001b[0;34m\u001b[0m\u001b[0;34m\u001b[0m\u001b[0m\n\u001b[0;32m-> 1633\u001b[0;31m         evaluate_candidates(ParameterSampler(\n\u001b[0m\u001b[1;32m   1634\u001b[0m             \u001b[0mself\u001b[0m\u001b[0;34m.\u001b[0m\u001b[0mparam_distributions\u001b[0m\u001b[0;34m,\u001b[0m \u001b[0mself\u001b[0m\u001b[0;34m.\u001b[0m\u001b[0mn_iter\u001b[0m\u001b[0;34m,\u001b[0m\u001b[0;34m\u001b[0m\u001b[0;34m\u001b[0m\u001b[0m\n\u001b[1;32m   1635\u001b[0m             random_state=self.random_state))\n",
      "\u001b[0;32m/shared-libs/python3.8/py/lib/python3.8/site-packages/sklearn/model_selection/_search.py\u001b[0m in \u001b[0;36mevaluate_candidates\u001b[0;34m(candidate_params, cv, more_results)\u001b[0m\n\u001b[1;32m    793\u001b[0m                               n_splits, n_candidates, n_candidates * n_splits))\n\u001b[1;32m    794\u001b[0m \u001b[0;34m\u001b[0m\u001b[0m\n\u001b[0;32m--> 795\u001b[0;31m                 out = parallel(delayed(_fit_and_score)(clone(base_estimator),\n\u001b[0m\u001b[1;32m    796\u001b[0m                                                        \u001b[0mX\u001b[0m\u001b[0;34m,\u001b[0m \u001b[0my\u001b[0m\u001b[0;34m,\u001b[0m\u001b[0;34m\u001b[0m\u001b[0;34m\u001b[0m\u001b[0m\n\u001b[1;32m    797\u001b[0m                                                        \u001b[0mtrain\u001b[0m\u001b[0;34m=\u001b[0m\u001b[0mtrain\u001b[0m\u001b[0;34m,\u001b[0m \u001b[0mtest\u001b[0m\u001b[0;34m=\u001b[0m\u001b[0mtest\u001b[0m\u001b[0;34m,\u001b[0m\u001b[0;34m\u001b[0m\u001b[0;34m\u001b[0m\u001b[0m\n",
      "\u001b[0;32m/shared-libs/python3.8/py/lib/python3.8/site-packages/joblib/parallel.py\u001b[0m in \u001b[0;36m__call__\u001b[0;34m(self, iterable)\u001b[0m\n\u001b[1;32m   1039\u001b[0m             \u001b[0;31m# remaining jobs.\u001b[0m\u001b[0;34m\u001b[0m\u001b[0;34m\u001b[0m\u001b[0;34m\u001b[0m\u001b[0m\n\u001b[1;32m   1040\u001b[0m             \u001b[0mself\u001b[0m\u001b[0;34m.\u001b[0m\u001b[0m_iterating\u001b[0m \u001b[0;34m=\u001b[0m \u001b[0;32mFalse\u001b[0m\u001b[0;34m\u001b[0m\u001b[0;34m\u001b[0m\u001b[0m\n\u001b[0;32m-> 1041\u001b[0;31m             \u001b[0;32mif\u001b[0m \u001b[0mself\u001b[0m\u001b[0;34m.\u001b[0m\u001b[0mdispatch_one_batch\u001b[0m\u001b[0;34m(\u001b[0m\u001b[0miterator\u001b[0m\u001b[0;34m)\u001b[0m\u001b[0;34m:\u001b[0m\u001b[0;34m\u001b[0m\u001b[0;34m\u001b[0m\u001b[0m\n\u001b[0m\u001b[1;32m   1042\u001b[0m                 \u001b[0mself\u001b[0m\u001b[0;34m.\u001b[0m\u001b[0m_iterating\u001b[0m \u001b[0;34m=\u001b[0m \u001b[0mself\u001b[0m\u001b[0;34m.\u001b[0m\u001b[0m_original_iterator\u001b[0m \u001b[0;32mis\u001b[0m \u001b[0;32mnot\u001b[0m \u001b[0;32mNone\u001b[0m\u001b[0;34m\u001b[0m\u001b[0;34m\u001b[0m\u001b[0m\n\u001b[1;32m   1043\u001b[0m \u001b[0;34m\u001b[0m\u001b[0m\n",
      "\u001b[0;32m/shared-libs/python3.8/py/lib/python3.8/site-packages/joblib/parallel.py\u001b[0m in \u001b[0;36mdispatch_one_batch\u001b[0;34m(self, iterator)\u001b[0m\n\u001b[1;32m    857\u001b[0m                 \u001b[0;32mreturn\u001b[0m \u001b[0;32mFalse\u001b[0m\u001b[0;34m\u001b[0m\u001b[0;34m\u001b[0m\u001b[0m\n\u001b[1;32m    858\u001b[0m             \u001b[0;32melse\u001b[0m\u001b[0;34m:\u001b[0m\u001b[0;34m\u001b[0m\u001b[0;34m\u001b[0m\u001b[0m\n\u001b[0;32m--> 859\u001b[0;31m                 \u001b[0mself\u001b[0m\u001b[0;34m.\u001b[0m\u001b[0m_dispatch\u001b[0m\u001b[0;34m(\u001b[0m\u001b[0mtasks\u001b[0m\u001b[0;34m)\u001b[0m\u001b[0;34m\u001b[0m\u001b[0;34m\u001b[0m\u001b[0m\n\u001b[0m\u001b[1;32m    860\u001b[0m                 \u001b[0;32mreturn\u001b[0m \u001b[0;32mTrue\u001b[0m\u001b[0;34m\u001b[0m\u001b[0;34m\u001b[0m\u001b[0m\n\u001b[1;32m    861\u001b[0m \u001b[0;34m\u001b[0m\u001b[0m\n",
      "\u001b[0;32m/shared-libs/python3.8/py/lib/python3.8/site-packages/joblib/parallel.py\u001b[0m in \u001b[0;36m_dispatch\u001b[0;34m(self, batch)\u001b[0m\n\u001b[1;32m    775\u001b[0m         \u001b[0;32mwith\u001b[0m \u001b[0mself\u001b[0m\u001b[0;34m.\u001b[0m\u001b[0m_lock\u001b[0m\u001b[0;34m:\u001b[0m\u001b[0;34m\u001b[0m\u001b[0;34m\u001b[0m\u001b[0m\n\u001b[1;32m    776\u001b[0m             \u001b[0mjob_idx\u001b[0m \u001b[0;34m=\u001b[0m \u001b[0mlen\u001b[0m\u001b[0;34m(\u001b[0m\u001b[0mself\u001b[0m\u001b[0;34m.\u001b[0m\u001b[0m_jobs\u001b[0m\u001b[0;34m)\u001b[0m\u001b[0;34m\u001b[0m\u001b[0;34m\u001b[0m\u001b[0m\n\u001b[0;32m--> 777\u001b[0;31m             \u001b[0mjob\u001b[0m \u001b[0;34m=\u001b[0m \u001b[0mself\u001b[0m\u001b[0;34m.\u001b[0m\u001b[0m_backend\u001b[0m\u001b[0;34m.\u001b[0m\u001b[0mapply_async\u001b[0m\u001b[0;34m(\u001b[0m\u001b[0mbatch\u001b[0m\u001b[0;34m,\u001b[0m \u001b[0mcallback\u001b[0m\u001b[0;34m=\u001b[0m\u001b[0mcb\u001b[0m\u001b[0;34m)\u001b[0m\u001b[0;34m\u001b[0m\u001b[0;34m\u001b[0m\u001b[0m\n\u001b[0m\u001b[1;32m    778\u001b[0m             \u001b[0;31m# A job can complete so quickly than its callback is\u001b[0m\u001b[0;34m\u001b[0m\u001b[0;34m\u001b[0m\u001b[0;34m\u001b[0m\u001b[0m\n\u001b[1;32m    779\u001b[0m             \u001b[0;31m# called before we get here, causing self._jobs to\u001b[0m\u001b[0;34m\u001b[0m\u001b[0;34m\u001b[0m\u001b[0;34m\u001b[0m\u001b[0m\n",
      "\u001b[0;32m/shared-libs/python3.8/py/lib/python3.8/site-packages/joblib/_parallel_backends.py\u001b[0m in \u001b[0;36mapply_async\u001b[0;34m(self, func, callback)\u001b[0m\n\u001b[1;32m    206\u001b[0m     \u001b[0;32mdef\u001b[0m \u001b[0mapply_async\u001b[0m\u001b[0;34m(\u001b[0m\u001b[0mself\u001b[0m\u001b[0;34m,\u001b[0m \u001b[0mfunc\u001b[0m\u001b[0;34m,\u001b[0m \u001b[0mcallback\u001b[0m\u001b[0;34m=\u001b[0m\u001b[0;32mNone\u001b[0m\u001b[0;34m)\u001b[0m\u001b[0;34m:\u001b[0m\u001b[0;34m\u001b[0m\u001b[0;34m\u001b[0m\u001b[0m\n\u001b[1;32m    207\u001b[0m         \u001b[0;34m\"\"\"Schedule a func to be run\"\"\"\u001b[0m\u001b[0;34m\u001b[0m\u001b[0;34m\u001b[0m\u001b[0m\n\u001b[0;32m--> 208\u001b[0;31m         \u001b[0mresult\u001b[0m \u001b[0;34m=\u001b[0m \u001b[0mImmediateResult\u001b[0m\u001b[0;34m(\u001b[0m\u001b[0mfunc\u001b[0m\u001b[0;34m)\u001b[0m\u001b[0;34m\u001b[0m\u001b[0;34m\u001b[0m\u001b[0m\n\u001b[0m\u001b[1;32m    209\u001b[0m         \u001b[0;32mif\u001b[0m \u001b[0mcallback\u001b[0m\u001b[0;34m:\u001b[0m\u001b[0;34m\u001b[0m\u001b[0;34m\u001b[0m\u001b[0m\n\u001b[1;32m    210\u001b[0m             \u001b[0mcallback\u001b[0m\u001b[0;34m(\u001b[0m\u001b[0mresult\u001b[0m\u001b[0;34m)\u001b[0m\u001b[0;34m\u001b[0m\u001b[0;34m\u001b[0m\u001b[0m\n",
      "\u001b[0;32m/shared-libs/python3.8/py/lib/python3.8/site-packages/joblib/_parallel_backends.py\u001b[0m in \u001b[0;36m__init__\u001b[0;34m(self, batch)\u001b[0m\n\u001b[1;32m    570\u001b[0m         \u001b[0;31m# Don't delay the application, to avoid keeping the input\u001b[0m\u001b[0;34m\u001b[0m\u001b[0;34m\u001b[0m\u001b[0;34m\u001b[0m\u001b[0m\n\u001b[1;32m    571\u001b[0m         \u001b[0;31m# arguments in memory\u001b[0m\u001b[0;34m\u001b[0m\u001b[0;34m\u001b[0m\u001b[0;34m\u001b[0m\u001b[0m\n\u001b[0;32m--> 572\u001b[0;31m         \u001b[0mself\u001b[0m\u001b[0;34m.\u001b[0m\u001b[0mresults\u001b[0m \u001b[0;34m=\u001b[0m \u001b[0mbatch\u001b[0m\u001b[0;34m(\u001b[0m\u001b[0;34m)\u001b[0m\u001b[0;34m\u001b[0m\u001b[0;34m\u001b[0m\u001b[0m\n\u001b[0m\u001b[1;32m    573\u001b[0m \u001b[0;34m\u001b[0m\u001b[0m\n\u001b[1;32m    574\u001b[0m     \u001b[0;32mdef\u001b[0m \u001b[0mget\u001b[0m\u001b[0;34m(\u001b[0m\u001b[0mself\u001b[0m\u001b[0;34m)\u001b[0m\u001b[0;34m:\u001b[0m\u001b[0;34m\u001b[0m\u001b[0;34m\u001b[0m\u001b[0m\n",
      "\u001b[0;32m/shared-libs/python3.8/py/lib/python3.8/site-packages/joblib/parallel.py\u001b[0m in \u001b[0;36m__call__\u001b[0;34m(self)\u001b[0m\n\u001b[1;32m    260\u001b[0m         \u001b[0;31m# change the default number of processes to -1\u001b[0m\u001b[0;34m\u001b[0m\u001b[0;34m\u001b[0m\u001b[0;34m\u001b[0m\u001b[0m\n\u001b[1;32m    261\u001b[0m         \u001b[0;32mwith\u001b[0m \u001b[0mparallel_backend\u001b[0m\u001b[0;34m(\u001b[0m\u001b[0mself\u001b[0m\u001b[0;34m.\u001b[0m\u001b[0m_backend\u001b[0m\u001b[0;34m,\u001b[0m \u001b[0mn_jobs\u001b[0m\u001b[0;34m=\u001b[0m\u001b[0mself\u001b[0m\u001b[0;34m.\u001b[0m\u001b[0m_n_jobs\u001b[0m\u001b[0;34m)\u001b[0m\u001b[0;34m:\u001b[0m\u001b[0;34m\u001b[0m\u001b[0;34m\u001b[0m\u001b[0m\n\u001b[0;32m--> 262\u001b[0;31m             return [func(*args, **kwargs)\n\u001b[0m\u001b[1;32m    263\u001b[0m                     for func, args, kwargs in self.items]\n\u001b[1;32m    264\u001b[0m \u001b[0;34m\u001b[0m\u001b[0m\n",
      "\u001b[0;32m/shared-libs/python3.8/py/lib/python3.8/site-packages/joblib/parallel.py\u001b[0m in \u001b[0;36m<listcomp>\u001b[0;34m(.0)\u001b[0m\n\u001b[1;32m    260\u001b[0m         \u001b[0;31m# change the default number of processes to -1\u001b[0m\u001b[0;34m\u001b[0m\u001b[0;34m\u001b[0m\u001b[0;34m\u001b[0m\u001b[0m\n\u001b[1;32m    261\u001b[0m         \u001b[0;32mwith\u001b[0m \u001b[0mparallel_backend\u001b[0m\u001b[0;34m(\u001b[0m\u001b[0mself\u001b[0m\u001b[0;34m.\u001b[0m\u001b[0m_backend\u001b[0m\u001b[0;34m,\u001b[0m \u001b[0mn_jobs\u001b[0m\u001b[0;34m=\u001b[0m\u001b[0mself\u001b[0m\u001b[0;34m.\u001b[0m\u001b[0m_n_jobs\u001b[0m\u001b[0;34m)\u001b[0m\u001b[0;34m:\u001b[0m\u001b[0;34m\u001b[0m\u001b[0;34m\u001b[0m\u001b[0m\n\u001b[0;32m--> 262\u001b[0;31m             return [func(*args, **kwargs)\n\u001b[0m\u001b[1;32m    263\u001b[0m                     for func, args, kwargs in self.items]\n\u001b[1;32m    264\u001b[0m \u001b[0;34m\u001b[0m\u001b[0m\n",
      "\u001b[0;32m/shared-libs/python3.8/py/lib/python3.8/site-packages/sklearn/utils/fixes.py\u001b[0m in \u001b[0;36m__call__\u001b[0;34m(self, *args, **kwargs)\u001b[0m\n\u001b[1;32m    220\u001b[0m     \u001b[0;32mdef\u001b[0m \u001b[0m__call__\u001b[0m\u001b[0;34m(\u001b[0m\u001b[0mself\u001b[0m\u001b[0;34m,\u001b[0m \u001b[0;34m*\u001b[0m\u001b[0margs\u001b[0m\u001b[0;34m,\u001b[0m \u001b[0;34m**\u001b[0m\u001b[0mkwargs\u001b[0m\u001b[0;34m)\u001b[0m\u001b[0;34m:\u001b[0m\u001b[0;34m\u001b[0m\u001b[0;34m\u001b[0m\u001b[0m\n\u001b[1;32m    221\u001b[0m         \u001b[0;32mwith\u001b[0m \u001b[0mconfig_context\u001b[0m\u001b[0;34m(\u001b[0m\u001b[0;34m**\u001b[0m\u001b[0mself\u001b[0m\u001b[0;34m.\u001b[0m\u001b[0mconfig\u001b[0m\u001b[0;34m)\u001b[0m\u001b[0;34m:\u001b[0m\u001b[0;34m\u001b[0m\u001b[0;34m\u001b[0m\u001b[0m\n\u001b[0;32m--> 222\u001b[0;31m             \u001b[0;32mreturn\u001b[0m \u001b[0mself\u001b[0m\u001b[0;34m.\u001b[0m\u001b[0mfunction\u001b[0m\u001b[0;34m(\u001b[0m\u001b[0;34m*\u001b[0m\u001b[0margs\u001b[0m\u001b[0;34m,\u001b[0m \u001b[0;34m**\u001b[0m\u001b[0mkwargs\u001b[0m\u001b[0;34m)\u001b[0m\u001b[0;34m\u001b[0m\u001b[0;34m\u001b[0m\u001b[0m\n\u001b[0m",
      "\u001b[0;32m/shared-libs/python3.8/py/lib/python3.8/site-packages/sklearn/model_selection/_validation.py\u001b[0m in \u001b[0;36m_fit_and_score\u001b[0;34m(estimator, X, y, scorer, train, test, verbose, parameters, fit_params, return_train_score, return_parameters, return_n_test_samples, return_times, return_estimator, split_progress, candidate_progress, error_score)\u001b[0m\n\u001b[1;32m    596\u001b[0m             \u001b[0mestimator\u001b[0m\u001b[0;34m.\u001b[0m\u001b[0mfit\u001b[0m\u001b[0;34m(\u001b[0m\u001b[0mX_train\u001b[0m\u001b[0;34m,\u001b[0m \u001b[0;34m**\u001b[0m\u001b[0mfit_params\u001b[0m\u001b[0;34m)\u001b[0m\u001b[0;34m\u001b[0m\u001b[0;34m\u001b[0m\u001b[0m\n\u001b[1;32m    597\u001b[0m         \u001b[0;32melse\u001b[0m\u001b[0;34m:\u001b[0m\u001b[0;34m\u001b[0m\u001b[0;34m\u001b[0m\u001b[0m\n\u001b[0;32m--> 598\u001b[0;31m             \u001b[0mestimator\u001b[0m\u001b[0;34m.\u001b[0m\u001b[0mfit\u001b[0m\u001b[0;34m(\u001b[0m\u001b[0mX_train\u001b[0m\u001b[0;34m,\u001b[0m \u001b[0my_train\u001b[0m\u001b[0;34m,\u001b[0m \u001b[0;34m**\u001b[0m\u001b[0mfit_params\u001b[0m\u001b[0;34m)\u001b[0m\u001b[0;34m\u001b[0m\u001b[0;34m\u001b[0m\u001b[0m\n\u001b[0m\u001b[1;32m    599\u001b[0m \u001b[0;34m\u001b[0m\u001b[0m\n\u001b[1;32m    600\u001b[0m     \u001b[0;32mexcept\u001b[0m \u001b[0mException\u001b[0m \u001b[0;32mas\u001b[0m \u001b[0me\u001b[0m\u001b[0;34m:\u001b[0m\u001b[0;34m\u001b[0m\u001b[0;34m\u001b[0m\u001b[0m\n",
      "\u001b[0;32m/shared-libs/python3.8/py/lib/python3.8/site-packages/tensorflow/python/keras/wrappers/scikit_learn.py\u001b[0m in \u001b[0;36mfit\u001b[0;34m(self, x, y, **kwargs)\u001b[0m\n\u001b[1;32m    164\u001b[0m     \u001b[0mfit_args\u001b[0m\u001b[0;34m.\u001b[0m\u001b[0mupdate\u001b[0m\u001b[0;34m(\u001b[0m\u001b[0mkwargs\u001b[0m\u001b[0;34m)\u001b[0m\u001b[0;34m\u001b[0m\u001b[0;34m\u001b[0m\u001b[0m\n\u001b[1;32m    165\u001b[0m \u001b[0;34m\u001b[0m\u001b[0m\n\u001b[0;32m--> 166\u001b[0;31m     \u001b[0mhistory\u001b[0m \u001b[0;34m=\u001b[0m \u001b[0mself\u001b[0m\u001b[0;34m.\u001b[0m\u001b[0mmodel\u001b[0m\u001b[0;34m.\u001b[0m\u001b[0mfit\u001b[0m\u001b[0;34m(\u001b[0m\u001b[0mx\u001b[0m\u001b[0;34m,\u001b[0m \u001b[0my\u001b[0m\u001b[0;34m,\u001b[0m \u001b[0;34m**\u001b[0m\u001b[0mfit_args\u001b[0m\u001b[0;34m)\u001b[0m\u001b[0;34m\u001b[0m\u001b[0;34m\u001b[0m\u001b[0m\n\u001b[0m\u001b[1;32m    167\u001b[0m \u001b[0;34m\u001b[0m\u001b[0m\n\u001b[1;32m    168\u001b[0m     \u001b[0;32mreturn\u001b[0m \u001b[0mhistory\u001b[0m\u001b[0;34m\u001b[0m\u001b[0;34m\u001b[0m\u001b[0m\n",
      "\u001b[0;32m/shared-libs/python3.8/py/lib/python3.8/site-packages/tensorflow/python/keras/engine/training.py\u001b[0m in \u001b[0;36mfit\u001b[0;34m(self, x, y, batch_size, epochs, verbose, callbacks, validation_split, validation_data, shuffle, class_weight, sample_weight, initial_epoch, steps_per_epoch, validation_steps, validation_batch_size, validation_freq, max_queue_size, workers, use_multiprocessing)\u001b[0m\n\u001b[1;32m   1098\u001b[0m                 _r=1):\n\u001b[1;32m   1099\u001b[0m               \u001b[0mcallbacks\u001b[0m\u001b[0;34m.\u001b[0m\u001b[0mon_train_batch_begin\u001b[0m\u001b[0;34m(\u001b[0m\u001b[0mstep\u001b[0m\u001b[0;34m)\u001b[0m\u001b[0;34m\u001b[0m\u001b[0;34m\u001b[0m\u001b[0m\n\u001b[0;32m-> 1100\u001b[0;31m               \u001b[0mtmp_logs\u001b[0m \u001b[0;34m=\u001b[0m \u001b[0mself\u001b[0m\u001b[0;34m.\u001b[0m\u001b[0mtrain_function\u001b[0m\u001b[0;34m(\u001b[0m\u001b[0miterator\u001b[0m\u001b[0;34m)\u001b[0m\u001b[0;34m\u001b[0m\u001b[0;34m\u001b[0m\u001b[0m\n\u001b[0m\u001b[1;32m   1101\u001b[0m               \u001b[0;32mif\u001b[0m \u001b[0mdata_handler\u001b[0m\u001b[0;34m.\u001b[0m\u001b[0mshould_sync\u001b[0m\u001b[0;34m:\u001b[0m\u001b[0;34m\u001b[0m\u001b[0;34m\u001b[0m\u001b[0m\n\u001b[1;32m   1102\u001b[0m                 \u001b[0mcontext\u001b[0m\u001b[0;34m.\u001b[0m\u001b[0masync_wait\u001b[0m\u001b[0;34m(\u001b[0m\u001b[0;34m)\u001b[0m\u001b[0;34m\u001b[0m\u001b[0;34m\u001b[0m\u001b[0m\n",
      "\u001b[0;32m/shared-libs/python3.8/py/lib/python3.8/site-packages/tensorflow/python/eager/def_function.py\u001b[0m in \u001b[0;36m__call__\u001b[0;34m(self, *args, **kwds)\u001b[0m\n\u001b[1;32m    826\u001b[0m     \u001b[0mtracing_count\u001b[0m \u001b[0;34m=\u001b[0m \u001b[0mself\u001b[0m\u001b[0;34m.\u001b[0m\u001b[0mexperimental_get_tracing_count\u001b[0m\u001b[0;34m(\u001b[0m\u001b[0;34m)\u001b[0m\u001b[0;34m\u001b[0m\u001b[0;34m\u001b[0m\u001b[0m\n\u001b[1;32m    827\u001b[0m     \u001b[0;32mwith\u001b[0m \u001b[0mtrace\u001b[0m\u001b[0;34m.\u001b[0m\u001b[0mTrace\u001b[0m\u001b[0;34m(\u001b[0m\u001b[0mself\u001b[0m\u001b[0;34m.\u001b[0m\u001b[0m_name\u001b[0m\u001b[0;34m)\u001b[0m \u001b[0;32mas\u001b[0m \u001b[0mtm\u001b[0m\u001b[0;34m:\u001b[0m\u001b[0;34m\u001b[0m\u001b[0;34m\u001b[0m\u001b[0m\n\u001b[0;32m--> 828\u001b[0;31m       \u001b[0mresult\u001b[0m \u001b[0;34m=\u001b[0m \u001b[0mself\u001b[0m\u001b[0;34m.\u001b[0m\u001b[0m_call\u001b[0m\u001b[0;34m(\u001b[0m\u001b[0;34m*\u001b[0m\u001b[0margs\u001b[0m\u001b[0;34m,\u001b[0m \u001b[0;34m**\u001b[0m\u001b[0mkwds\u001b[0m\u001b[0;34m)\u001b[0m\u001b[0;34m\u001b[0m\u001b[0;34m\u001b[0m\u001b[0m\n\u001b[0m\u001b[1;32m    829\u001b[0m       \u001b[0mcompiler\u001b[0m \u001b[0;34m=\u001b[0m \u001b[0;34m\"xla\"\u001b[0m \u001b[0;32mif\u001b[0m \u001b[0mself\u001b[0m\u001b[0;34m.\u001b[0m\u001b[0m_experimental_compile\u001b[0m \u001b[0;32melse\u001b[0m \u001b[0;34m\"nonXla\"\u001b[0m\u001b[0;34m\u001b[0m\u001b[0;34m\u001b[0m\u001b[0m\n\u001b[1;32m    830\u001b[0m       \u001b[0mnew_tracing_count\u001b[0m \u001b[0;34m=\u001b[0m \u001b[0mself\u001b[0m\u001b[0;34m.\u001b[0m\u001b[0mexperimental_get_tracing_count\u001b[0m\u001b[0;34m(\u001b[0m\u001b[0;34m)\u001b[0m\u001b[0;34m\u001b[0m\u001b[0;34m\u001b[0m\u001b[0m\n",
      "\u001b[0;32m/shared-libs/python3.8/py/lib/python3.8/site-packages/tensorflow/python/eager/def_function.py\u001b[0m in \u001b[0;36m_call\u001b[0;34m(self, *args, **kwds)\u001b[0m\n\u001b[1;32m    853\u001b[0m       \u001b[0;31m# In this case we have created variables on the first call, so we run the\u001b[0m\u001b[0;34m\u001b[0m\u001b[0;34m\u001b[0m\u001b[0;34m\u001b[0m\u001b[0m\n\u001b[1;32m    854\u001b[0m       \u001b[0;31m# defunned version which is guaranteed to never create variables.\u001b[0m\u001b[0;34m\u001b[0m\u001b[0;34m\u001b[0m\u001b[0;34m\u001b[0m\u001b[0m\n\u001b[0;32m--> 855\u001b[0;31m       \u001b[0;32mreturn\u001b[0m \u001b[0mself\u001b[0m\u001b[0;34m.\u001b[0m\u001b[0m_stateless_fn\u001b[0m\u001b[0;34m(\u001b[0m\u001b[0;34m*\u001b[0m\u001b[0margs\u001b[0m\u001b[0;34m,\u001b[0m \u001b[0;34m**\u001b[0m\u001b[0mkwds\u001b[0m\u001b[0;34m)\u001b[0m  \u001b[0;31m# pylint: disable=not-callable\u001b[0m\u001b[0;34m\u001b[0m\u001b[0;34m\u001b[0m\u001b[0m\n\u001b[0m\u001b[1;32m    856\u001b[0m     \u001b[0;32melif\u001b[0m \u001b[0mself\u001b[0m\u001b[0;34m.\u001b[0m\u001b[0m_stateful_fn\u001b[0m \u001b[0;32mis\u001b[0m \u001b[0;32mnot\u001b[0m \u001b[0;32mNone\u001b[0m\u001b[0;34m:\u001b[0m\u001b[0;34m\u001b[0m\u001b[0;34m\u001b[0m\u001b[0m\n\u001b[1;32m    857\u001b[0m       \u001b[0;31m# Release the lock early so that multiple threads can perform the call\u001b[0m\u001b[0;34m\u001b[0m\u001b[0;34m\u001b[0m\u001b[0;34m\u001b[0m\u001b[0m\n",
      "\u001b[0;32m/shared-libs/python3.8/py/lib/python3.8/site-packages/tensorflow/python/eager/function.py\u001b[0m in \u001b[0;36m__call__\u001b[0;34m(self, *args, **kwargs)\u001b[0m\n\u001b[1;32m   2940\u001b[0m       (graph_function,\n\u001b[1;32m   2941\u001b[0m        filtered_flat_args) = self._maybe_define_function(args, kwargs)\n\u001b[0;32m-> 2942\u001b[0;31m     return graph_function._call_flat(\n\u001b[0m\u001b[1;32m   2943\u001b[0m         filtered_flat_args, captured_inputs=graph_function.captured_inputs)  # pylint: disable=protected-access\n\u001b[1;32m   2944\u001b[0m \u001b[0;34m\u001b[0m\u001b[0m\n",
      "\u001b[0;32m/shared-libs/python3.8/py/lib/python3.8/site-packages/tensorflow/python/eager/function.py\u001b[0m in \u001b[0;36m_call_flat\u001b[0;34m(self, args, captured_inputs, cancellation_manager)\u001b[0m\n\u001b[1;32m   1916\u001b[0m         and executing_eagerly):\n\u001b[1;32m   1917\u001b[0m       \u001b[0;31m# No tape is watching; skip to running the function.\u001b[0m\u001b[0;34m\u001b[0m\u001b[0;34m\u001b[0m\u001b[0;34m\u001b[0m\u001b[0m\n\u001b[0;32m-> 1918\u001b[0;31m       return self._build_call_outputs(self._inference_function.call(\n\u001b[0m\u001b[1;32m   1919\u001b[0m           ctx, args, cancellation_manager=cancellation_manager))\n\u001b[1;32m   1920\u001b[0m     forward_backward = self._select_forward_and_backward_functions(\n",
      "\u001b[0;32m/shared-libs/python3.8/py/lib/python3.8/site-packages/tensorflow/python/eager/function.py\u001b[0m in \u001b[0;36mcall\u001b[0;34m(self, ctx, args, cancellation_manager)\u001b[0m\n\u001b[1;32m    553\u001b[0m       \u001b[0;32mwith\u001b[0m \u001b[0m_InterpolateFunctionError\u001b[0m\u001b[0;34m(\u001b[0m\u001b[0mself\u001b[0m\u001b[0;34m)\u001b[0m\u001b[0;34m:\u001b[0m\u001b[0;34m\u001b[0m\u001b[0;34m\u001b[0m\u001b[0m\n\u001b[1;32m    554\u001b[0m         \u001b[0;32mif\u001b[0m \u001b[0mcancellation_manager\u001b[0m \u001b[0;32mis\u001b[0m \u001b[0;32mNone\u001b[0m\u001b[0;34m:\u001b[0m\u001b[0;34m\u001b[0m\u001b[0;34m\u001b[0m\u001b[0m\n\u001b[0;32m--> 555\u001b[0;31m           outputs = execute.execute(\n\u001b[0m\u001b[1;32m    556\u001b[0m               \u001b[0mstr\u001b[0m\u001b[0;34m(\u001b[0m\u001b[0mself\u001b[0m\u001b[0;34m.\u001b[0m\u001b[0msignature\u001b[0m\u001b[0;34m.\u001b[0m\u001b[0mname\u001b[0m\u001b[0;34m)\u001b[0m\u001b[0;34m,\u001b[0m\u001b[0;34m\u001b[0m\u001b[0;34m\u001b[0m\u001b[0m\n\u001b[1;32m    557\u001b[0m               \u001b[0mnum_outputs\u001b[0m\u001b[0;34m=\u001b[0m\u001b[0mself\u001b[0m\u001b[0;34m.\u001b[0m\u001b[0m_num_outputs\u001b[0m\u001b[0;34m,\u001b[0m\u001b[0;34m\u001b[0m\u001b[0;34m\u001b[0m\u001b[0m\n",
      "\u001b[0;32m/shared-libs/python3.8/py/lib/python3.8/site-packages/tensorflow/python/eager/execute.py\u001b[0m in \u001b[0;36mquick_execute\u001b[0;34m(op_name, num_outputs, inputs, attrs, ctx, name)\u001b[0m\n\u001b[1;32m     57\u001b[0m   \u001b[0;32mtry\u001b[0m\u001b[0;34m:\u001b[0m\u001b[0;34m\u001b[0m\u001b[0;34m\u001b[0m\u001b[0m\n\u001b[1;32m     58\u001b[0m     \u001b[0mctx\u001b[0m\u001b[0;34m.\u001b[0m\u001b[0mensure_initialized\u001b[0m\u001b[0;34m(\u001b[0m\u001b[0;34m)\u001b[0m\u001b[0;34m\u001b[0m\u001b[0;34m\u001b[0m\u001b[0m\n\u001b[0;32m---> 59\u001b[0;31m     tensors = pywrap_tfe.TFE_Py_Execute(ctx._handle, device_name, op_name,\n\u001b[0m\u001b[1;32m     60\u001b[0m                                         inputs, attrs, num_outputs)\n\u001b[1;32m     61\u001b[0m   \u001b[0;32mexcept\u001b[0m \u001b[0mcore\u001b[0m\u001b[0;34m.\u001b[0m\u001b[0m_NotOkStatusException\u001b[0m \u001b[0;32mas\u001b[0m \u001b[0me\u001b[0m\u001b[0;34m:\u001b[0m\u001b[0;34m\u001b[0m\u001b[0;34m\u001b[0m\u001b[0m\n",
      "\u001b[0;31mKeyboardInterrupt\u001b[0m: "
     ]
    }
   ]
  },
  {
   "cell_type": "code",
   "metadata": {
    "execution": {
     "iopub.execute_input": "2020-12-03T21:10:55.900565Z",
     "iopub.status.busy": "2020-12-03T21:10:55.899989Z",
     "iopub.status.idle": "2020-12-03T21:11:00.164807Z",
     "shell.execute_reply": "2020-12-03T21:11:00.163863Z"
    },
    "papermill": {
     "duration": 4.297023,
     "end_time": "2020-12-03T21:11:00.164936",
     "exception": false,
     "start_time": "2020-12-03T21:10:55.867913",
     "status": "completed"
    },
    "tags": [],
    "deepnote_to_be_reexecuted": true,
    "source_hash": "36027911",
    "execution_millis": 3,
    "cell_id": "00026-3d7c4fcf-b3d7-451e-a6a7-d8a44b0203db",
    "deepnote_cell_type": "code"
   },
   "source": "best_params = rnd_search_cv.best_params_\nbest_params",
   "execution_count": null,
   "outputs": []
  },
  {
   "cell_type": "markdown",
   "source": "# Training",
   "metadata": {
    "papermill": {
     "duration": 0.032517,
     "end_time": "2020-12-03T21:11:00.229039",
     "exception": false,
     "start_time": "2020-12-03T21:11:00.196522",
     "status": "completed"
    },
    "tags": [],
    "cell_id": "00027-6489b86e-71e4-413c-9de4-55ea8865f673",
    "deepnote_cell_type": "markdown"
   }
  },
  {
   "cell_type": "code",
   "metadata": {
    "tags": [],
    "deepnote_to_be_reexecuted": false,
    "source_hash": "fd77d573",
    "execution_millis": 451,
    "cell_id": "00028-883a4407-c890-49de-a081-e6153855c7bb",
    "execution_start": 1620758712792,
    "deepnote_cell_type": "code"
   },
   "source": "model = build_model()\nprint(model.summary())\ntf.keras.utils.plot_model(model)",
   "execution_count": 21,
   "outputs": [
    {
     "name": "stdout",
     "text": "Model: \"model_1\"\n__________________________________________________________________________________________________\nLayer (type)                    Output Shape         Param #     Connected to                     \n==================================================================================================\ninput_2 (InputLayer)            [(None, 114)]        0                                            \n__________________________________________________________________________________________________\nembedding_1 (Embedding)         (None, 114, 256)     5120000     input_2[0][0]                    \n__________________________________________________________________________________________________\ngru_1 (GRU)                     (None, 256)          394752      embedding_1[0][0]                \n__________________________________________________________________________________________________\nflatten_1 (Flatten)             (None, 29184)        0           embedding_1[0][0]                \n__________________________________________________________________________________________________\nconcatenate_1 (Concatenate)     (None, 29440)        0           gru_1[0][0]                      \n                                                                 flatten_1[0][0]                  \n__________________________________________________________________________________________________\ndense_1 (Dense)                 (None, 2)            58882       concatenate_1[0][0]              \n==================================================================================================\nTotal params: 5,573,634\nTrainable params: 5,573,634\nNon-trainable params: 0\n__________________________________________________________________________________________________\nNone\n",
     "output_type": "stream"
    },
    {
     "output_type": "execute_result",
     "execution_count": 21,
     "data": {
      "image/png": "[encoded data removed]",
      "text/plain": "<IPython.core.display.Image object>"
     },
     "metadata": {
      "image/png": {
       "width": 357,
       "height": 449
      }
     }
    }
   ]
  },
  {
   "cell_type": "code",
   "metadata": {
    "execution": {
     "iopub.execute_input": "2020-12-03T21:11:00.305945Z",
     "iopub.status.busy": "2020-12-03T21:11:00.297441Z",
     "iopub.status.idle": "2020-12-03T21:12:48.384741Z",
     "shell.execute_reply": "2020-12-03T21:12:48.383618Z"
    },
    "papermill": {
     "duration": 108.125647,
     "end_time": "2020-12-03T21:12:48.384861",
     "exception": false,
     "start_time": "2020-12-03T21:11:00.259214",
     "status": "completed"
    },
    "tags": [],
    "deepnote_to_be_reexecuted": false,
    "source_hash": "817d121c",
    "execution_millis": 1441742,
    "cell_id": "00029-3d98f228-8335-4575-83b7-06584450e92f",
    "execution_start": 1620758894561,
    "deepnote_cell_type": "code"
   },
   "source": "batch_size = 32\nepochs = 10\n\nbest_params = {'train_bool': True, 'out_dim': 256, 'learning_rate': 0.0001}\nmodel = build_model(out_dim=best_params[\"out_dim\"], train_bool=best_params[\"train_bool\"], learning_rate=best_params['learning_rate'])\nmodel.fit(text_train,\n          y_train,\n          #batch_size=batch_size,\n          epochs=epochs,\n          callbacks=[keras.callbacks.EarlyStopping(monitor=\"loss\", patience=10)])",
   "execution_count": 22,
   "outputs": [
    {
     "name": "stdout",
     "text": "Epoch 1/10\n323/323 [==============================] - 155s 475ms/step - loss: 0.6927 - accuracy: 0.5144\nEpoch 2/10\n323/323 [==============================] - 140s 433ms/step - loss: 0.6700 - accuracy: 0.6067\nEpoch 3/10\n323/323 [==============================] - 141s 436ms/step - loss: 0.6356 - accuracy: 0.7379\nEpoch 4/10\n323/323 [==============================] - 144s 447ms/step - loss: 0.5749 - accuracy: 0.8094\nEpoch 5/10\n323/323 [==============================] - 146s 452ms/step - loss: 0.4901 - accuracy: 0.8687\nEpoch 6/10\n323/323 [==============================] - 142s 441ms/step - loss: 0.4048 - accuracy: 0.9157\nEpoch 7/10\n323/323 [==============================] - 140s 434ms/step - loss: 0.3262 - accuracy: 0.9468\nEpoch 8/10\n323/323 [==============================] - 153s 473ms/step - loss: 0.2632 - accuracy: 0.9641\nEpoch 9/10\n323/323 [==============================] - 140s 435ms/step - loss: 0.2056 - accuracy: 0.9784\nEpoch 10/10\n323/323 [==============================] - 140s 434ms/step - loss: 0.1688 - accuracy: 0.9833\n",
     "output_type": "stream"
    },
    {
     "output_type": "execute_result",
     "execution_count": 22,
     "data": {
      "text/plain": "<tensorflow.python.keras.callbacks.History at 0x7fc0585ac310>"
     },
     "metadata": {}
    }
   ]
  },
  {
   "cell_type": "code",
   "metadata": {
    "tags": [],
    "cell_id": "00029-a99c97c7-f7f8-46f0-89f1-4adc781ef3da",
    "deepnote_to_be_reexecuted": true,
    "source_hash": "8df5489a",
    "execution_millis": 3283,
    "execution_start": 1619458821190,
    "deepnote_cell_type": "code"
   },
   "source": "import os\nmodel_name = \"gru_model\"\nmodel_version = \"0001\"\nmodel_path = os.path.join(model_name, model_version)\ntf.saved_model.save(model, model_path)",
   "execution_count": null,
   "outputs": [
    {
     "name": "stderr",
     "text": "WARNING:absl:Found untraced functions such as gru_cell_1_layer_call_fn, gru_cell_1_layer_call_and_return_conditional_losses, gru_cell_1_layer_call_fn, gru_cell_1_layer_call_and_return_conditional_losses, gru_cell_1_layer_call_and_return_conditional_losses while saving (showing 5 of 5). These functions will not be directly callable after loading.\nWARNING:absl:Found untraced functions such as gru_cell_1_layer_call_fn, gru_cell_1_layer_call_and_return_conditional_losses, gru_cell_1_layer_call_fn, gru_cell_1_layer_call_and_return_conditional_losses, gru_cell_1_layer_call_and_return_conditional_losses while saving (showing 5 of 5). These functions will not be directly callable after loading.\nINFO:tensorflow:Assets written to: gru_model/0001/assets\nINFO:tensorflow:Assets written to: gru_model/0001/assets\n",
     "output_type": "stream"
    }
   ]
  },
  {
   "cell_type": "markdown",
   "source": "# Results",
   "metadata": {
    "papermill": {
     "duration": 0.383631,
     "end_time": "2020-12-03T21:12:50.164518",
     "exception": false,
     "start_time": "2020-12-03T21:12:49.780887",
     "status": "completed"
    },
    "tags": [],
    "cell_id": "00030-702c2360-3ffc-4957-9d11-381160d9eb21",
    "deepnote_cell_type": "markdown"
   }
  },
  {
   "cell_type": "code",
   "metadata": {
    "execution": {
     "iopub.execute_input": "2020-12-03T21:12:50.924638Z",
     "iopub.status.busy": "2020-12-03T21:12:50.923759Z",
     "iopub.status.idle": "2020-12-03T21:12:52.063254Z",
     "shell.execute_reply": "2020-12-03T21:12:52.063793Z"
    },
    "papermill": {
     "duration": 1.52047,
     "end_time": "2020-12-03T21:12:52.063981",
     "exception": false,
     "start_time": "2020-12-03T21:12:50.543511",
     "status": "completed"
    },
    "tags": [],
    "deepnote_to_be_reexecuted": false,
    "source_hash": "c84fb110",
    "execution_millis": 8381,
    "cell_id": "00031-b21909b6-e5df-4f0c-9ab2-03faebc5837f",
    "execution_start": 1620760476358,
    "deepnote_cell_type": "code"
   },
   "source": "results = model.evaluate(text_test, y_test, verbose=True)\nprint(\"Model Accuracy: {:.2f}%\".format(results[1] * 100))",
   "execution_count": 24,
   "outputs": [
    {
     "name": "stdout",
     "text": "81/81 [==============================] - 8s 99ms/step - loss: 0.6055 - accuracy: 0.6661\nModel Accuracy: 66.61%\n",
     "output_type": "stream"
    }
   ]
  },
  {
   "cell_type": "code",
   "metadata": {
    "execution": {
     "iopub.execute_input": "2020-12-03T21:12:52.829161Z",
     "iopub.status.busy": "2020-12-03T21:12:52.828148Z",
     "iopub.status.idle": "2020-12-03T21:12:54.399077Z",
     "shell.execute_reply": "2020-12-03T21:12:54.398512Z"
    },
    "papermill": {
     "duration": 1.957887,
     "end_time": "2020-12-03T21:12:54.399208",
     "exception": false,
     "start_time": "2020-12-03T21:12:52.441321",
     "status": "completed"
    },
    "tags": [],
    "deepnote_to_be_reexecuted": false,
    "source_hash": "2d785b6b",
    "execution_millis": 8112,
    "cell_id": "00032-7758ab26-4bd4-482a-8ff7-e0a4304877eb",
    "execution_start": 1620760567046,
    "deepnote_cell_type": "code"
   },
   "source": "y_true = np.array(y_test)\n\ny_pred = model.predict(text_test)\ny_pred1 = map(lambda x: np.argmax(x), y_pred)\ny_pred1 = np.array(list(y_pred1))",
   "execution_count": 25,
   "outputs": []
  },
  {
   "cell_type": "code",
   "metadata": {
    "tags": [],
    "deepnote_to_be_reexecuted": false,
    "source_hash": "6a9a9ef8",
    "execution_millis": 7,
    "cell_id": "00033-aed175f1-8f0b-47d9-853d-8073b9f7d28a",
    "execution_start": 1620760583592,
    "deepnote_cell_type": "code"
   },
   "source": "y_true",
   "execution_count": 26,
   "outputs": [
    {
     "output_type": "execute_result",
     "execution_count": 26,
     "data": {
      "text/plain": "array([0, 1, 0, ..., 1, 1, 0])"
     },
     "metadata": {}
    }
   ]
  },
  {
   "cell_type": "code",
   "metadata": {
    "tags": [],
    "deepnote_to_be_reexecuted": false,
    "source_hash": "31302508",
    "execution_millis": 9,
    "cell_id": "00034-f2412870-e1c0-4d1f-b411-4ab1ae4ed621",
    "execution_start": 1620760586848,
    "deepnote_cell_type": "code"
   },
   "source": "y_pred1",
   "execution_count": 27,
   "outputs": [
    {
     "output_type": "execute_result",
     "execution_count": 27,
     "data": {
      "text/plain": "array([0, 0, 0, ..., 1, 1, 0])"
     },
     "metadata": {}
    }
   ]
  },
  {
   "cell_type": "code",
   "metadata": {
    "execution": {
     "iopub.execute_input": "2020-12-03T21:12:55.165113Z",
     "iopub.status.busy": "2020-12-03T21:12:55.164216Z",
     "iopub.status.idle": "2020-12-03T21:12:55.190247Z",
     "shell.execute_reply": "2020-12-03T21:12:55.189680Z"
    },
    "papermill": {
     "duration": 0.411259,
     "end_time": "2020-12-03T21:12:55.190369",
     "exception": false,
     "start_time": "2020-12-03T21:12:54.779110",
     "status": "completed"
    },
    "tags": [],
    "deepnote_to_be_reexecuted": false,
    "source_hash": "9241f819",
    "execution_millis": 11,
    "cell_id": "00035-afd38b9f-bd7a-4fad-8f56-c0f3b7eebfb7",
    "execution_start": 1620760590321,
    "deepnote_cell_type": "code"
   },
   "source": "cm = confusion_matrix(y_true, y_pred1)\nclr = classification_report(y_true, y_pred1, target_names=['female', 'male'])",
   "execution_count": 28,
   "outputs": []
  },
  {
   "cell_type": "code",
   "metadata": {
    "execution": {
     "iopub.execute_input": "2020-12-03T21:12:55.987724Z",
     "iopub.status.busy": "2020-12-03T21:12:55.986600Z",
     "iopub.status.idle": "2020-12-03T21:12:56.251913Z",
     "shell.execute_reply": "2020-12-03T21:12:56.253073Z"
    },
    "papermill": {
     "duration": 0.68839,
     "end_time": "2020-12-03T21:12:56.253310",
     "exception": false,
     "start_time": "2020-12-03T21:12:55.564920",
     "status": "completed"
    },
    "tags": [],
    "deepnote_to_be_reexecuted": false,
    "source_hash": "a4b7cffd",
    "execution_millis": 190,
    "cell_id": "00036-ca263138-1b62-4099-8dc9-05d44f99eb65",
    "execution_start": 1620760592856,
    "deepnote_cell_type": "code"
   },
   "source": "plt.figure(figsize=(6, 6))\nsns.heatmap(cm, annot=True, fmt='g', cbar=False, cmap='Blues')\nplt.xticks(np.arange(2) + 0.5, ['female', 'male'])\nplt.yticks(np.arange(2) + 0.5, ['female', 'male'])\nplt.xlabel(\"Predicted\")\nplt.ylabel(\"Actual\")\nplt.title(\"Confusion Matrix\")\nplt.show()",
   "execution_count": 29,
   "outputs": [
    {
     "data": {
      "text/plain": "<Figure size 432x432 with 1 Axes>",
      "image/png": "[encoded data removed]"
     },
     "metadata": {
      "needs_background": "light",
      "image/png": {
       "width": 380,
       "height": 387
      }
     },
     "output_type": "display_data"
    }
   ]
  },
  {
   "cell_type": "code",
   "metadata": {
    "execution": {
     "iopub.execute_input": "2020-12-03T21:12:57.381332Z",
     "iopub.status.busy": "2020-12-03T21:12:57.379615Z",
     "iopub.status.idle": "2020-12-03T21:12:57.386901Z",
     "shell.execute_reply": "2020-12-03T21:12:57.381991Z"
    },
    "papermill": {
     "duration": 0.518178,
     "end_time": "2020-12-03T21:12:57.387016",
     "exception": false,
     "start_time": "2020-12-03T21:12:56.868838",
     "status": "completed"
    },
    "tags": [],
    "deepnote_to_be_reexecuted": false,
    "source_hash": "2ae650fe",
    "execution_millis": 6,
    "cell_id": "00037-9144888d-3e68-43b2-998b-daa93435c13b",
    "execution_start": 1620760598415,
    "deepnote_cell_type": "code"
   },
   "source": "print(\"Classification Report:\\n\\n\", clr)",
   "execution_count": 30,
   "outputs": [
    {
     "name": "stdout",
     "text": "Classification Report:\n\n               precision    recall  f1-score   support\n\n      female       0.68      0.70      0.69      1358\n        male       0.65      0.63      0.64      1221\n\n    accuracy                           0.67      2579\n   macro avg       0.67      0.66      0.66      2579\nweighted avg       0.67      0.67      0.67      2579\n\n",
     "output_type": "stream"
    }
   ]
  },
  {
   "cell_type": "markdown",
   "source": "",
   "metadata": {
    "tags": [],
    "cell_id": "00038-6b04cfb5-b050-415c-9b6f-55ebebbc33e0",
    "deepnote_cell_type": "markdown"
   }
  },
  {
   "cell_type": "markdown",
   "source": "<a style='text-decoration:none;line-height:16px;display:flex;color:#5B5B62;padding:10px;justify-content:end;' href='https://deepnote.com?utm_source=created-in-deepnote-cell&projectId=018075c4-cccb-4808-bac8-50a3988dbc16' target=\"_blank\">\n<img alt='Created in deepnote.com' style='display:inline;max-height:16px;margin:0px;margin-right:7.5px;' src='data:image/svg+xml;base64,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' > </img>\nCreated in <span style='font-weight:600;margin-left:4px;'>Deepnote</span></a>",
   "metadata": {
    "tags": [],
    "created_in_deepnote_cell": true,
    "deepnote_cell_type": "markdown"
   }
  }
 ],
 "nbformat": 4,
 "nbformat_minor": 4,
 "metadata": {
  "kernelspec": {
   "display_name": "Python 3",
   "language": "python",
   "name": "python3"
  },
  "language_info": {
   "codemirror_mode": {
    "name": "ipython",
    "version": 3
   },
   "file_extension": ".py",
   "mimetype": "text/x-python",
   "name": "python",
   "nbconvert_exporter": "python",
   "pygments_lexer": "ipython3",
   "version": "3.7.6"
  },
  "papermill": {
   "duration": 142.004587,
   "end_time": "2020-12-03T21:13:00.121554",
   "environment_variables": {},
   "exception": null,
   "input_path": "__notebook__.ipynb",
   "output_path": "__notebook__.ipynb",
   "parameters": {},
   "start_time": "2020-12-03T21:10:38.116967",
   "version": "2.1.0"
  },
  "deepnote_notebook_id": "8c7c0464-65b0-4947-a171-b4638b520915",
  "deepnote": {},
  "deepnote_execution_queue": []
 }
}