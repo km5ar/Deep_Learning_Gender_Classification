{
  "nbformat": 4,
  "nbformat_minor": 0,
  "metadata": {
    "colab": {
      "name": "Keyu_Ensemble_Model.ipynb",
      "provenance": [],
      "collapsed_sections": [],
      "toc_visible": true
    },
    "deepnote": {},
    "deepnote_execution_queue": [],
    "deepnote_notebook_id": "4c5fb707-7d37-4952-97c1-e75fde2f5d0a",
    "kernelspec": {
      "display_name": "Python 3",
      "language": "python",
      "name": "python3"
    },
    "language_info": {
      "codemirror_mode": {
        "name": "ipython",
        "version": 3
      },
      "file_extension": ".py",
      "mimetype": "text/x-python",
      "name": "python",
      "nbconvert_exporter": "python",
      "pygments_lexer": "ipython3",
      "version": "3.7.6"
    },
    "papermill": {
      "duration": 142.004587,
      "end_time": "2020-12-03T21:13:00.121554",
      "environment_variables": {},
      "exception": null,
      "input_path": "__notebook__.ipynb",
      "output_path": "__notebook__.ipynb",
      "parameters": {},
      "start_time": "2020-12-03T21:10:38.116967",
      "version": "2.1.0"
    }
  },
  "cells": [
    {
      "cell_type": "markdown",
      "metadata": {
        "id": "22YmqtfRDpMl"
      },
      "source": [
        "# Understanding Gender Differences in Tweets with Deep Learning \n",
        "\n",
        "***\n",
        "\n",
        "## Summer Chambers (ssc4mc), Keyu Chen (km5ar), Hannah Frederick (hbf3k)  \n",
        "\n",
        "The .csv file that we read in can be found here: https://www.kaggle.com/crowdflower/twitter-user-gender-classification\n",
        "\n",
        "The code that we source from can be found here: https://www.kaggle.com/gcdatkin/deep-recurrent-nn-for-gender-classification#Data-Every-Day"
      ]
    },
    {
      "cell_type": "markdown",
      "metadata": {
        "id": "ZSMeFcJfAqPp"
      },
      "source": [
        "Ensemble article: https://sailajakarra.medium.com/ensemble-scikit-learn-and-keras-be93206c54c4\n"
      ]
    },
    {
      "cell_type": "code",
      "metadata": {
        "colab": {
          "base_uri": "https://localhost:8080/"
        },
        "id": "EMCc248lCikW",
        "outputId": "ac6eace5-2383-4f06-d0e4-92fc05e7aa5e"
      },
      "source": [
        "!pip install yellowbrick\n",
        "import tensorflow as tf\n",
        "from tensorflow import keras\n",
        "import pandas as pd\n",
        "import numpy as np\n",
        "import matplotlib.pyplot as plt\n",
        "import seaborn as sns\n",
        "import re\n",
        "import nltk\n",
        "\n",
        "from yellowbrick.text import FreqDistVisualizer\n",
        "from sklearn.feature_extraction.text import CountVectorizer\n",
        "from sklearn.model_selection import train_test_split, StratifiedKFold, GridSearchCV\n",
        "from sklearn.neighbors import KNeighborsClassifier\n",
        "from sklearn.linear_model import LogisticRegression\n",
        "from sklearn.tree import DecisionTreeClassifier\n",
        "from sklearn.svm import SVC\n",
        "from sklearn.ensemble import RandomForestClassifier, VotingClassifier\n",
        "from sklearn.metrics import accuracy_score\n",
        "from sklearn.naive_bayes import GaussianNB, MultinomialNB\n",
        "\n",
        "\n",
        "import warnings\n",
        "warnings.filterwarnings(\"ignore\")\n",
        "\n",
        "import nltk\n",
        "nltk.download('punkt')\n",
        "nltk.download('wordnet')"
      ],
      "execution_count": 1,
      "outputs": [
        {
          "output_type": "stream",
          "text": [
            "Requirement already satisfied: yellowbrick in /usr/local/lib/python3.7/dist-packages (0.9.1)\n",
            "Requirement already satisfied: cycler>=0.10.0 in /usr/local/lib/python3.7/dist-packages (from yellowbrick) (0.10.0)\n",
            "Requirement already satisfied: scipy>=1.0.0 in /usr/local/lib/python3.7/dist-packages (from yellowbrick) (1.4.1)\n",
            "Requirement already satisfied: numpy>=1.13.0 in /usr/local/lib/python3.7/dist-packages (from yellowbrick) (1.19.5)\n",
            "Requirement already satisfied: scikit-learn>=0.20 in /usr/local/lib/python3.7/dist-packages (from yellowbrick) (0.22.2.post1)\n",
            "Requirement already satisfied: matplotlib!=3.0.0,>=1.5.1 in /usr/local/lib/python3.7/dist-packages (from yellowbrick) (3.2.2)\n",
            "Requirement already satisfied: six in /usr/local/lib/python3.7/dist-packages (from cycler>=0.10.0->yellowbrick) (1.15.0)\n",
            "Requirement already satisfied: joblib>=0.11 in /usr/local/lib/python3.7/dist-packages (from scikit-learn>=0.20->yellowbrick) (1.0.1)\n",
            "Requirement already satisfied: python-dateutil>=2.1 in /usr/local/lib/python3.7/dist-packages (from matplotlib!=3.0.0,>=1.5.1->yellowbrick) (2.8.1)\n",
            "Requirement already satisfied: kiwisolver>=1.0.1 in /usr/local/lib/python3.7/dist-packages (from matplotlib!=3.0.0,>=1.5.1->yellowbrick) (1.3.1)\n",
            "Requirement already satisfied: pyparsing!=2.0.4,!=2.1.2,!=2.1.6,>=2.0.1 in /usr/local/lib/python3.7/dist-packages (from matplotlib!=3.0.0,>=1.5.1->yellowbrick) (2.4.7)\n"
          ],
          "name": "stdout"
        },
        {
          "output_type": "stream",
          "text": [
            "/usr/local/lib/python3.7/dist-packages/sklearn/utils/deprecation.py:144: FutureWarning: The sklearn.metrics.classification module is  deprecated in version 0.22 and will be removed in version 0.24. The corresponding classes / functions should instead be imported from sklearn.metrics. Anything that cannot be imported from sklearn.metrics is now part of the private API.\n",
            "  warnings.warn(message, FutureWarning)\n"
          ],
          "name": "stderr"
        },
        {
          "output_type": "stream",
          "text": [
            "[nltk_data] Downloading package punkt to /root/nltk_data...\n",
            "[nltk_data]   Unzipping tokenizers/punkt.zip.\n",
            "[nltk_data] Downloading package wordnet to /root/nltk_data...\n",
            "[nltk_data]   Unzipping corpora/wordnet.zip.\n"
          ],
          "name": "stdout"
        },
        {
          "output_type": "execute_result",
          "data": {
            "text/plain": [
              "True"
            ]
          },
          "metadata": {
            "tags": []
          },
          "execution_count": 1
        }
      ]
    },
    {
      "cell_type": "code",
      "metadata": {
        "id": "wp9la5AOJrwX",
        "colab": {
          "base_uri": "https://localhost:8080/"
        },
        "outputId": "464c6694-2a50-4895-d35e-6bf98753c4c4"
      },
      "source": [
        "from google.colab import drive\n",
        "drive.mount('/content/drive/')"
      ],
      "execution_count": null,
      "outputs": [
        {
          "output_type": "stream",
          "text": [
            "Go to this URL in a browser: https://accounts.google.com/o/oauth2/auth?client_id=947318989803-6bn6qk8qdgf4n4g3pfee6491hc0brc4i.apps.googleusercontent.com&redirect_uri=urn%3aietf%3awg%3aoauth%3a2.0%3aoob&scope=email%20https%3a%2f%2fwww.googleapis.com%2fauth%2fdocs.test%20https%3a%2f%2fwww.googleapis.com%2fauth%2fdrive%20https%3a%2f%2fwww.googleapis.com%2fauth%2fdrive.photos.readonly%20https%3a%2f%2fwww.googleapis.com%2fauth%2fpeopleapi.readonly%20https%3a%2f%2fwww.googleapis.com%2fauth%2fdrive.activity.readonly%20https%3a%2f%2fwww.googleapis.com%2fauth%2fexperimentsandconfigs%20https%3a%2f%2fwww.googleapis.com%2fauth%2fphotos.native&response_type=code\n",
            "\n",
            "Enter your authorization code:\n",
            "4/1AY0e-g4IQaByX0D_j9wQ4QbgYlOsUJakbT7E2aoOCUEC9BEtWhdgG65XG8U\n"
          ],
          "name": "stdout"
        }
      ]
    },
    {
      "cell_type": "code",
      "metadata": {
        "id": "enBmf9HzHJ81"
      },
      "source": [
        "#data = pd.read_csv(r\"gender-classifier-DFE-791531.csv\",\n",
        "#                   encoding = \"latin1\")\n",
        "data = pd.read_csv('/content/drive/MyDrive/DL_Final_code/gender-classifier-DFE-791531.csv', encoding='latin-1')"
      ],
      "execution_count": null,
      "outputs": []
    },
    {
      "cell_type": "code",
      "metadata": {
        "colab": {
          "base_uri": "https://localhost:8080/"
        },
        "id": "pcjFaCVH3Ik4",
        "outputId": "700b8ee3-51f5-42d1-cfec-30abf9ac05a4"
      },
      "source": [
        "# Encode unknown values in the target column as np.NaN\n",
        "data['gender'] = data['gender'].replace('unknown', np.NaN)\n",
        "    \n",
        "# Drop rows with missing target values\n",
        "gender_nas = data[data['gender'].isna()].index\n",
        "data = data.drop(gender_nas, axis=0).reset_index(drop=True)\n",
        "\n",
        "gender_brand = data[data['gender'] == 'brand'].index\n",
        "data = data.drop(gender_brand, axis=0).reset_index(drop=True)\n",
        "data['gender'].unique()"
      ],
      "execution_count": null,
      "outputs": [
        {
          "output_type": "execute_result",
          "data": {
            "text/plain": [
              "array(['male', 'female'], dtype=object)"
            ]
          },
          "metadata": {
            "tags": []
          },
          "execution_count": 4
        }
      ]
    },
    {
      "cell_type": "code",
      "metadata": {
        "id": "zBbR157PHCRa"
      },
      "source": [
        "data = data.loc[:,[\"gender\", \"description\",\"text\"]]\n",
        "data.dropna(axis = 0, inplace = True)\n",
        "data[\"description\"] = data[\"description\"].astype('str') + ' ' + data[\"text\"]\n",
        "data.gender = [1 if i == \"female\" else 0 for i in data.gender]\n",
        "data = data.loc[:,[\"gender\", \"description\"]]\n",
        "data.dropna(axis = 0, inplace = True)"
      ],
      "execution_count": null,
      "outputs": []
    },
    {
      "cell_type": "code",
      "metadata": {
        "id": "oyvX-aX5Dczt"
      },
      "source": [
        "description_list = []\n",
        "for description in data.description:\n",
        "    #Regular Expression\n",
        "    description = re.sub(\"[^a-zA-Z]\", \" \", description)\n",
        "    description = description.lower()\n",
        "    description = nltk.word_tokenize(description)\n",
        "    #Lemmatazation\n",
        "    lemma = nltk.WordNetLemmatizer()\n",
        "    description = [lemma.lemmatize(word) for word in description]\n",
        "    description = \" \".join(description)\n",
        "    description_list.append(description)\n"
      ],
      "execution_count": null,
      "outputs": []
    },
    {
      "cell_type": "code",
      "metadata": {
        "colab": {
          "base_uri": "https://localhost:8080/",
          "height": 476
        },
        "id": "WGd3DmVPDdsB",
        "outputId": "fb236755-44ef-47aa-f0ad-6cb7345c78f8"
      },
      "source": [
        "# Bag of Words\n",
        "max_features = 1000\n",
        "count_vectorizer = CountVectorizer(max_features=max_features,stop_words = \"english\")\n",
        "sparce_matrix = count_vectorizer.fit_transform(description_list).toarray()\n",
        "features = count_vectorizer.get_feature_names()\n",
        "\n",
        "visualizer = FreqDistVisualizer(features=features, orient='v', n = 10, color = \"orange\")\n",
        "visualizer.fit(sparce_matrix)\n",
        "#visualizer.show()"
      ],
      "execution_count": null,
      "outputs": [
        {
          "output_type": "execute_result",
          "data": {
            "text/plain": [
              "FrequencyVisualizer(ax=<matplotlib.axes._subplots.AxesSubplot object at 0x7feb1e63f7d0>,\n",
              "                    color='orange',\n",
              "                    features=['account', 'act', 'action', 'activist', 'actor',\n",
              "                              'actress', 'actually', 'add', 'addict', 'adult',\n",
              "                              'adventure', 'advice', 'advocate', 'af',\n",
              "                              'african', 'age', 'ago', 'agree', 'ain', 'air',\n",
              "                              'aka', 'album', 'alive', 'alum', 'amas',\n",
              "                              'amazing', 'america', 'american', 'amp',\n",
              "                              'analyst', ...],\n",
              "                    n=None, orient='v')"
            ]
          },
          "metadata": {
            "tags": []
          },
          "execution_count": 7
        },
        {
          "output_type": "display_data",
          "data": {
            "image/png": "[encoded data removed]",
            "text/plain": [
              "<Figure size 432x288 with 1 Axes>"
            ]
          },
          "metadata": {
            "tags": [],
            "needs_background": "light"
          }
        }
      ]
    },
    {
      "cell_type": "code",
      "metadata": {
        "id": "Nj6KPImqHSe3"
      },
      "source": [
        "y = data.iloc[:, 0].values\n",
        "x = sparce_matrix"
      ],
      "execution_count": null,
      "outputs": []
    },
    {
      "cell_type": "code",
      "metadata": {
        "colab": {
          "base_uri": "https://localhost:8080/"
        },
        "id": "8fwZOHtX1KVS",
        "outputId": "56ff9288-30b5-4730-cab7-a8ee0c9a3c8d"
      },
      "source": [
        "x"
      ],
      "execution_count": null,
      "outputs": [
        {
          "output_type": "execute_result",
          "data": {
            "text/plain": [
              "array([[0, 0, 0, ..., 0, 0, 0],\n",
              "       [0, 0, 0, ..., 0, 0, 0],\n",
              "       [0, 0, 0, ..., 0, 0, 0],\n",
              "       ...,\n",
              "       [0, 0, 0, ..., 0, 0, 0],\n",
              "       [0, 0, 0, ..., 0, 0, 0],\n",
              "       [0, 0, 0, ..., 0, 0, 0]])"
            ]
          },
          "metadata": {
            "tags": []
          },
          "execution_count": 9
        }
      ]
    },
    {
      "cell_type": "code",
      "metadata": {
        "id": "tTX5ovIfKZmh"
      },
      "source": [
        "x_train, x_test, y_train, y_test = train_test_split(x, y, test_size = 0.1, random_state = 42)"
      ],
      "execution_count": null,
      "outputs": []
    },
    {
      "cell_type": "code",
      "metadata": {
        "colab": {
          "base_uri": "https://localhost:8080/"
        },
        "id": "WxduIbZqInSu",
        "outputId": "cd82bbec-3db0-4bf0-bdd2-bcc4981b39cc"
      },
      "source": [
        "len(y_test)"
      ],
      "execution_count": null,
      "outputs": [
        {
          "output_type": "execute_result",
          "data": {
            "text/plain": [
              "1120"
            ]
          },
          "metadata": {
            "tags": []
          },
          "execution_count": 31
        }
      ]
    },
    {
      "cell_type": "code",
      "metadata": {
        "id": "oxJuNzuFDfdU",
        "colab": {
          "base_uri": "https://localhost:8080/"
        },
        "outputId": "9cc7f1c8-8205-49a0-9d90-47dbd4982d87"
      },
      "source": [
        "# Random Forest \n",
        "rf = RandomForestClassifier(random_state = 42)\n",
        "rf.fit(x_train, y_train)\n",
        "y_pred = rf.predict(x_test)\n",
        "\n",
        "print(\"Accuracy:{:.3%}\".format(accuracy_score(y_test, y_pred)))"
      ],
      "execution_count": null,
      "outputs": [
        {
          "output_type": "stream",
          "text": [
            "Accuracy:65.446%\n"
          ],
          "name": "stdout"
        }
      ]
    },
    {
      "cell_type": "code",
      "metadata": {
        "colab": {
          "base_uri": "https://localhost:8080/"
        },
        "id": "xDOXezWaP2L9",
        "outputId": "071ca283-6c3c-4df5-d2bc-f4cd03f19c80"
      },
      "source": [
        "coefs = (rf.feature_importances_)\n",
        "sparse_mat = count_vectorizer.fit_transform(description_list)\n",
        "top_fifteen = np.argpartition(coefs, -15)[-15:]\n",
        "[features[feature] for feature in top_fifteen]"
      ],
      "execution_count": null,
      "outputs": [
        {
          "output_type": "execute_result",
          "data": {
            "text/plain": [
              "['football',\n",
              " 'don',\n",
              " 'game',\n",
              " 'know',\n",
              " 'man',\n",
              " 'father',\n",
              " 'just',\n",
              " 'love',\n",
              " 'life',\n",
              " 'sport',\n",
              " 'like',\n",
              " 'http',\n",
              " 'girl',\n",
              " 'wa',\n",
              " 'fan']"
            ]
          },
          "metadata": {
            "tags": []
          },
          "execution_count": 13
        }
      ]
    },
    {
      "cell_type": "code",
      "metadata": {
        "colab": {
          "base_uri": "https://localhost:8080/"
        },
        "id": "4oOqTnirH7Nc",
        "outputId": "1d6e7f9e-f9f4-43ce-c74f-7e2246cef846"
      },
      "source": [
        "# Logistic Regression\n",
        "lr = LogisticRegression(random_state = 42)\n",
        "lr.fit(x_train, y_train)\n",
        "\n",
        "y_pred = lr.predict(x_test)\n",
        "accuracy = 100.0 * accuracy_score(y_test, y_pred)\n",
        "print(\"Accuracy:{:.3%}\".format(accuracy_score(y_test, y_pred)))"
      ],
      "execution_count": null,
      "outputs": [
        {
          "output_type": "stream",
          "text": [
            "Accuracy:65.000%\n"
          ],
          "name": "stdout"
        }
      ]
    },
    {
      "cell_type": "code",
      "metadata": {
        "colab": {
          "base_uri": "https://localhost:8080/"
        },
        "id": "YcdMLwnqRz1L",
        "outputId": "df6ff39a-a12a-4ffa-b3b2-7623e99a704d"
      },
      "source": [
        "female_coefs = lr.coef_[0]\n",
        "sparse_mat = count_vectorizer.fit_transform(description_list)\n",
        "top_fifteen = np.argpartition(female_coefs, -15)[-15:]\n",
        "result = [features[feature] for feature in top_fifteen]\n",
        "for word in result:\n",
        "  print(f'\\item \"{word}\"')"
      ],
      "execution_count": null,
      "outputs": [
        {
          "output_type": "stream",
          "text": [
            "\\item \"fashion\"\n",
            "\\item \"aka\"\n",
            "\\item \"bc\"\n",
            "\\item \"beauty\"\n",
            "\\item \"mum\"\n",
            "\\item \"lifestyle\"\n",
            "\\item \"dress\"\n",
            "\\item \"girl\"\n",
            "\\item \"mother\"\n",
            "\\item \"sister\"\n",
            "\\item \"actress\"\n",
            "\\item \"mom\"\n",
            "\\item \"makeup\"\n",
            "\\item \"clothes\"\n",
            "\\item \"feminist\"\n"
          ],
          "name": "stdout"
        }
      ]
    },
    {
      "cell_type": "code",
      "metadata": {
        "colab": {
          "base_uri": "https://localhost:8080/"
        },
        "id": "KULTdlFvTtew",
        "outputId": "b6ce3d96-cd2e-4823-c3e9-2744fb028115"
      },
      "source": [
        "male_coefs = -(lr.coef_[0])\n",
        "sparse_mat = count_vectorizer.fit_transform(description_list)\n",
        "top_fifteen = np.argpartition(male_coefs, -15)[-15:]\n",
        "result = [features[feature] for feature in top_fifteen]\n",
        "for word in result:\n",
        "  print(f'\\item \"{word}\"')"
      ],
      "execution_count": null,
      "outputs": [
        {
          "output_type": "stream",
          "text": [
            "\\item \"developer\"\n",
            "\\item \"poet\"\n",
            "\\item \"producer\"\n",
            "\\item \"political\"\n",
            "\\item \"john\"\n",
            "\\item \"sport\"\n",
            "\\item \"male\"\n",
            "\\item \"man\"\n",
            "\\item \"million\"\n",
            "\\item \"engineer\"\n",
            "\\item \"musician\"\n",
            "\\item \"father\"\n",
            "\\item \"software\"\n",
            "\\item \"wrestling\"\n",
            "\\item \"mufc\"\n"
          ],
          "name": "stdout"
        }
      ]
    },
    {
      "cell_type": "code",
      "metadata": {
        "id": "ynKJ1ysNICwN"
      },
      "source": [
        "# K Nearest Neighbors\n",
        "#knn = KNeighborsClassifier(n_neighbors = 2)\n",
        "#knn.fit(x_train, y_train)\n",
        "#y_pred = knn.predict(x_test)\n",
        "#print(\"Accuracy:{:.3%}\".format(accuracy_score(y_test, y_pred)))"
      ],
      "execution_count": null,
      "outputs": []
    },
    {
      "cell_type": "code",
      "metadata": {
        "colab": {
          "base_uri": "https://localhost:8080/"
        },
        "id": "mupjVI6eICy4",
        "outputId": "5d0ea01f-003e-41dd-9ae3-ce115a5ac4b6"
      },
      "source": [
        "# Multinomial Naive Bayes\n",
        "mnb = MultinomialNB()\n",
        "mnb.fit(x_train, y_train)\n",
        "y_pred = mnb.predict(x_test)\n",
        "print(\"Accuracy:{:.3%}\".format(accuracy_score(y_test, y_pred)))"
      ],
      "execution_count": null,
      "outputs": [
        {
          "output_type": "stream",
          "text": [
            "Accuracy:64.375%\n"
          ],
          "name": "stdout"
        }
      ]
    },
    {
      "cell_type": "code",
      "metadata": {
        "id": "MSV2kTWHIC1p",
        "colab": {
          "base_uri": "https://localhost:8080/"
        },
        "outputId": "7f64d9c3-fdf3-4dd0-e88b-7a103ee5a2ae"
      },
      "source": [
        "# Gaussian Naive Bayes\n",
        "nb = GaussianNB()\n",
        "nb.fit(x_train, y_train)\n",
        "y_pred = nb.predict(x_test)\n",
        "print(\"Accuracy:{:.3%}\".format(accuracy_score(y_test, y_pred)))"
      ],
      "execution_count": null,
      "outputs": [
        {
          "output_type": "stream",
          "text": [
            "Accuracy:63.304%\n"
          ],
          "name": "stdout"
        }
      ]
    },
    {
      "cell_type": "code",
      "metadata": {
        "id": "IohGFOJXGJDc"
      },
      "source": [
        "#log_clf = LogisticRegression(solver=\"lbfgs\", random_state=42)\n",
        "#rnd_clf = RandomForestClassifier(n_estimators=100, random_state=42)\n",
        "#svm_clf = SVC(gamma=\"scale\", random_state=42,probability=True)\n",
        "# Keras Model\n",
        "def build_nn():\n",
        "    model= keras.models.Sequential([\n",
        "                       keras.layers.Dense(3,activation='relu',input_shape=[1000]),\n",
        "                       keras.layers.Dense(1,activation='sigmoid')\n",
        "])\n",
        "    model.compile(\n",
        "                optimizer='Adam',\n",
        "                loss='binary_crossentropy',\n",
        "                metrics=['accuracy'])\n",
        "    return model"
      ],
      "execution_count": null,
      "outputs": []
    },
    {
      "cell_type": "code",
      "metadata": {
        "id": "EYXMJb5GIia_"
      },
      "source": [
        "keras_clf = tf.keras.wrappers.scikit_learn.KerasClassifier(\n",
        "                            build_nn,\n",
        "                            epochs=10,\n",
        "                            verbose=False)"
      ],
      "execution_count": null,
      "outputs": []
    },
    {
      "cell_type": "code",
      "metadata": {
        "id": "1AwzCkC7IlMS"
      },
      "source": [
        "keras_clf._estimator_type = \"classifier\""
      ],
      "execution_count": null,
      "outputs": []
    },
    {
      "cell_type": "code",
      "metadata": {
        "colab": {
          "base_uri": "https://localhost:8080/"
        },
        "id": "ts6mPkA8eIq-",
        "outputId": "88a4487e-30a3-42e8-a0a4-dd809e01a31a"
      },
      "source": [
        "model = build_nn()\n",
        "model.fit(x_train,\n",
        "          y_train)"
      ],
      "execution_count": null,
      "outputs": [
        {
          "output_type": "stream",
          "text": [
            "315/315 [==============================] - 1s 2ms/step - loss: 0.6885 - accuracy: 0.5388\n"
          ],
          "name": "stdout"
        },
        {
          "output_type": "execute_result",
          "data": {
            "text/plain": [
              "<tensorflow.python.keras.callbacks.History at 0x7fc6f8497090>"
            ]
          },
          "metadata": {
            "tags": []
          },
          "execution_count": 61
        }
      ]
    },
    {
      "cell_type": "code",
      "metadata": {
        "colab": {
          "base_uri": "https://localhost:8080/"
        },
        "id": "izCEb2tPeOhm",
        "outputId": "529361ca-ca37-4463-d60a-14d0a2ac7274"
      },
      "source": [
        "results = model.evaluate(x_test, y_test, verbose=True)\n",
        "print(\"Model Accuracy: {:.2f}%\".format(results[1] * 100))"
      ],
      "execution_count": null,
      "outputs": [
        {
          "output_type": "stream",
          "text": [
            "35/35 [==============================] - 0s 2ms/step - loss: 0.6593 - accuracy: 0.6402\n",
            "Model Accuracy: 64.02%\n"
          ],
          "name": "stdout"
        }
      ]
    },
    {
      "cell_type": "code",
      "metadata": {
        "id": "WfFGUhUjI2JM",
        "colab": {
          "base_uri": "https://localhost:8080/",
          "height": 258
        },
        "outputId": "112a0564-53bb-4272-faa8-7df5d6f9833d"
      },
      "source": [
        "voting = VotingClassifier(\n",
        "             estimators=[(\"rf\",rf),\n",
        "                          (\"lr\",lr),\n",
        "                        #  (\"knn\",knn),                                      \n",
        "                          (\"mnb\",mnb),\n",
        "                   #       (\"nb\",nb),\n",
        "                         ('keras',keras_clf)], \n",
        "             voting='soft',\n",
        "             flatten_transform=True)"
      ],
      "execution_count": null,
      "outputs": [
        {
          "output_type": "error",
          "ename": "NameError",
          "evalue": "ignored",
          "traceback": [
            "\u001b[0;31m---------------------------------------------------------------------------\u001b[0m",
            "\u001b[0;31mNameError\u001b[0m                                 Traceback (most recent call last)",
            "\u001b[0;32m<ipython-input-42-8c8352a991bf>\u001b[0m in \u001b[0;36m<module>\u001b[0;34m()\u001b[0m\n\u001b[1;32m      1\u001b[0m voting = VotingClassifier(\n\u001b[1;32m      2\u001b[0m              estimators=[(\"rf\",rf),\n\u001b[0;32m----> 3\u001b[0;31m                           \u001b[0;34m(\u001b[0m\u001b[0;34m\"lr\"\u001b[0m\u001b[0;34m,\u001b[0m\u001b[0mlr\u001b[0m\u001b[0;34m)\u001b[0m\u001b[0;34m,\u001b[0m\u001b[0;34m\u001b[0m\u001b[0;34m\u001b[0m\u001b[0m\n\u001b[0m\u001b[1;32m      4\u001b[0m                         \u001b[0;31m#  (\"knn\",knn),\u001b[0m\u001b[0;34m\u001b[0m\u001b[0;34m\u001b[0m\u001b[0;34m\u001b[0m\u001b[0m\n\u001b[1;32m      5\u001b[0m                           \u001b[0;34m(\u001b[0m\u001b[0;34m\"mnb\"\u001b[0m\u001b[0;34m,\u001b[0m\u001b[0mmnb\u001b[0m\u001b[0;34m)\u001b[0m\u001b[0;34m,\u001b[0m\u001b[0;34m\u001b[0m\u001b[0;34m\u001b[0m\u001b[0m\n",
            "\u001b[0;31mNameError\u001b[0m: name 'lr' is not defined"
          ]
        }
      ]
    },
    {
      "cell_type": "code",
      "metadata": {
        "colab": {
          "base_uri": "https://localhost:8080/",
          "height": 205
        },
        "id": "o1qV7rl1Ix8R",
        "outputId": "44e041c0-9df9-4840-9168-6dd84d769105"
      },
      "source": [
        "votingC = voting.fit(x_train,y_train)\n",
        "print(accuracy_score(votingC.predict(x_test),y_test))"
      ],
      "execution_count": null,
      "outputs": [
        {
          "output_type": "error",
          "ename": "NameError",
          "evalue": "ignored",
          "traceback": [
            "\u001b[0;31m---------------------------------------------------------------------------\u001b[0m",
            "\u001b[0;31mNameError\u001b[0m                                 Traceback (most recent call last)",
            "\u001b[0;32m<ipython-input-43-f113d84b3692>\u001b[0m in \u001b[0;36m<module>\u001b[0;34m()\u001b[0m\n\u001b[0;32m----> 1\u001b[0;31m \u001b[0mvotingC\u001b[0m \u001b[0;34m=\u001b[0m \u001b[0mvoting\u001b[0m\u001b[0;34m.\u001b[0m\u001b[0mfit\u001b[0m\u001b[0;34m(\u001b[0m\u001b[0mx_train\u001b[0m\u001b[0;34m,\u001b[0m\u001b[0my_train\u001b[0m\u001b[0;34m)\u001b[0m\u001b[0;34m\u001b[0m\u001b[0;34m\u001b[0m\u001b[0m\n\u001b[0m\u001b[1;32m      2\u001b[0m \u001b[0mprint\u001b[0m\u001b[0;34m(\u001b[0m\u001b[0maccuracy_score\u001b[0m\u001b[0;34m(\u001b[0m\u001b[0mvotingC\u001b[0m\u001b[0;34m.\u001b[0m\u001b[0mpredict\u001b[0m\u001b[0;34m(\u001b[0m\u001b[0mx_test\u001b[0m\u001b[0;34m)\u001b[0m\u001b[0;34m,\u001b[0m\u001b[0my_test\u001b[0m\u001b[0;34m)\u001b[0m\u001b[0;34m)\u001b[0m\u001b[0;34m\u001b[0m\u001b[0;34m\u001b[0m\u001b[0m\n",
            "\u001b[0;31mNameError\u001b[0m: name 'voting' is not defined"
          ]
        }
      ]
    },
    {
      "cell_type": "code",
      "metadata": {
        "id": "NBpxpNZOHqeE",
        "colab": {
          "base_uri": "https://localhost:8080/",
          "height": 188
        },
        "outputId": "d80e6e28-91ae-49ff-d5c1-2be129937fac"
      },
      "source": [
        "y_pred1 = votingC.predict(x_test)"
      ],
      "execution_count": null,
      "outputs": [
        {
          "output_type": "error",
          "ename": "NameError",
          "evalue": "ignored",
          "traceback": [
            "\u001b[0;31m---------------------------------------------------------------------------\u001b[0m",
            "\u001b[0;31mNameError\u001b[0m                                 Traceback (most recent call last)",
            "\u001b[0;32m<ipython-input-44-bf3c1ca53e68>\u001b[0m in \u001b[0;36m<module>\u001b[0;34m()\u001b[0m\n\u001b[0;32m----> 1\u001b[0;31m \u001b[0my_pred1\u001b[0m \u001b[0;34m=\u001b[0m \u001b[0mvotingC\u001b[0m\u001b[0;34m.\u001b[0m\u001b[0mpredict\u001b[0m\u001b[0;34m(\u001b[0m\u001b[0mx_test\u001b[0m\u001b[0;34m)\u001b[0m\u001b[0;34m\u001b[0m\u001b[0;34m\u001b[0m\u001b[0m\n\u001b[0m",
            "\u001b[0;31mNameError\u001b[0m: name 'votingC' is not defined"
          ]
        }
      ]
    },
    {
      "cell_type": "code",
      "metadata": {
        "colab": {
          "base_uri": "https://localhost:8080/"
        },
        "id": "VzJ2oGUrj91o",
        "outputId": "ee383ae5-15aa-4a9b-a6f9-e91273939258"
      },
      "source": [
        "import os\n",
        "model_version = \"0001\"\n",
        "model_name = \"/content/drive/MyDrive/DL_Final_code/my_minist_model_3\"\n",
        "model_path = os.path.join(model_name, model_version)\n",
        "tf.saved_model.save(model, model_path)"
      ],
      "execution_count": null,
      "outputs": [
        {
          "output_type": "stream",
          "text": [
            "INFO:tensorflow:Assets written to: /content/drive/MyDrive/DL_Final_code/my_minist_model_3/0001/assets\n"
          ],
          "name": "stdout"
        }
      ]
    },
    {
      "cell_type": "code",
      "metadata": {
        "id": "h0SHgqnO96uC"
      },
      "source": [
        "#https://sailajakarra.medium.com/ensemble-scikit-learn-and-keras-be93206c54c4"
      ],
      "execution_count": null,
      "outputs": []
    },
    {
      "cell_type": "code",
      "metadata": {
        "colab": {
          "base_uri": "https://localhost:8080/"
        },
        "id": "YeIAyeJp-LPF",
        "outputId": "319b1c42-3f71-4d6f-b239-6e667ecfc04b"
      },
      "source": [
        "for clf in (rf, lr,  mnb,  keras_clf, voting): #knn, nb,\n",
        "    clf.fit(x_train, y_train)\n",
        "    y_pred = clf.predict(x_test)\n",
        "    print(clf.__class__.__name__, accuracy_score(y_test, y_pred))"
      ],
      "execution_count": null,
      "outputs": [
        {
          "output_type": "stream",
          "text": [
            "RandomForestClassifier 0.6544642857142857\n",
            "LogisticRegression 0.65\n",
            "MultinomialNB 0.64375\n",
            "KerasClassifier 0.63125\n",
            "VotingClassifier 0.65\n"
          ],
          "name": "stdout"
        }
      ]
    },
    {
      "cell_type": "code",
      "metadata": {
        "id": "Jy-aboBh01qN"
      },
      "source": [
        "from sklearn.metrics import confusion_matrix, classification_report\n",
        "cm = confusion_matrix(y_test, y_pred1)\n",
        "clr = classification_report(y_test, y_pred1, target_names=[ 'male','female'])"
      ],
      "execution_count": null,
      "outputs": []
    },
    {
      "cell_type": "code",
      "metadata": {
        "id": "k_vFFHDJB1pu",
        "colab": {
          "base_uri": "https://localhost:8080/",
          "height": 423
        },
        "outputId": "ef596715-49e1-41ec-fd4d-abd1731d08e3"
      },
      "source": [
        "plt.figure(figsize=(6, 6))\n",
        "sns.heatmap(cm, annot=True, fmt='g', cbar=False, cmap='Blues')\n",
        "plt.xticks(np.arange(2) + 0.5, ['female', 'male'])\n",
        "plt.yticks(np.arange(2) + 0.5, ['female', 'male'])\n",
        "plt.xlabel(\"Predicted\")\n",
        "plt.ylabel(\"Actual\")\n",
        "plt.title(\"Confusion Matrix\")\n",
        "plt.show()"
      ],
      "execution_count": null,
      "outputs": [
        {
          "output_type": "display_data",
          "data": {
            "image/png": "[encoded data removed]",
            "text/plain": [
              "<Figure size 432x432 with 1 Axes>"
            ]
          },
          "metadata": {
            "tags": []
          }
        }
      ]
    },
    {
      "cell_type": "code",
      "metadata": {
        "id": "sU4AlOMgB1sg",
        "colab": {
          "base_uri": "https://localhost:8080/"
        },
        "outputId": "8404b60f-cbf1-4320-df18-0dac6cb7c1c1"
      },
      "source": [
        "print(\"Classification Report:\\n\\n\", clr)"
      ],
      "execution_count": null,
      "outputs": [
        {
          "output_type": "stream",
          "text": [
            "Classification Report:\n",
            "\n",
            "               precision    recall  f1-score   support\n",
            "\n",
            "        male       0.67      0.57      0.62      1113\n",
            "      female       0.63      0.72      0.67      1126\n",
            "\n",
            "    accuracy                           0.64      2239\n",
            "   macro avg       0.65      0.64      0.64      2239\n",
            "weighted avg       0.65      0.64      0.64      2239\n",
            "\n"
          ],
          "name": "stdout"
        }
      ]
    },
    {
      "cell_type": "code",
      "metadata": {
        "id": "pHAEd6ET7Ehb",
        "colab": {
          "base_uri": "https://localhost:8080/",
          "height": 182
        },
        "outputId": "abde32a9-3377-434d-aa47-68575af4fec1"
      },
      "source": [
        "while True:pass"
      ],
      "execution_count": null,
      "outputs": [
        {
          "output_type": "error",
          "ename": "KeyboardInterrupt",
          "evalue": "ignored",
          "traceback": [
            "\u001b[0;31m---------------------------------------------------------------------------\u001b[0m",
            "\u001b[0;31mKeyboardInterrupt\u001b[0m                         Traceback (most recent call last)",
            "\u001b[0;32m<ipython-input-32-534b7a74019f>\u001b[0m in \u001b[0;36m<module>\u001b[0;34m()\u001b[0m\n\u001b[0;32m----> 1\u001b[0;31m \u001b[0;32mwhile\u001b[0m \u001b[0;32mTrue\u001b[0m\u001b[0;34m:\u001b[0m\u001b[0;32mpass\u001b[0m\u001b[0;34m\u001b[0m\u001b[0;34m\u001b[0m\u001b[0m\n\u001b[0m",
            "\u001b[0;31mKeyboardInterrupt\u001b[0m: "
          ]
        }
      ]
    },
    {
      "cell_type": "code",
      "metadata": {
        "id": "4NGv-8Q7Rk1I"
      },
      "source": [
        ""
      ],
      "execution_count": null,
      "outputs": []
    }
  ]
}