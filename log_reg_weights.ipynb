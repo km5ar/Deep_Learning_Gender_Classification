{
  "nbformat": 4,
  "nbformat_minor": 0,
  "metadata": {
    "colab": {
      "name": "log_reg_weights.ipynb",
      "provenance": [],
      "collapsed_sections": [],
      "toc_visible": true
    },
    "deepnote": {},
    "deepnote_execution_queue": [],
    "deepnote_notebook_id": "4c5fb707-7d37-4952-97c1-e75fde2f5d0a",
    "kernelspec": {
      "display_name": "Python 3",
      "language": "python",
      "name": "python3"
    },
    "language_info": {
      "codemirror_mode": {
        "name": "ipython",
        "version": 3
      },
      "file_extension": ".py",
      "mimetype": "text/x-python",
      "name": "python",
      "nbconvert_exporter": "python",
      "pygments_lexer": "ipython3",
      "version": "3.7.6"
    },
    "papermill": {
      "duration": 142.004587,
      "end_time": "2020-12-03T21:13:00.121554",
      "environment_variables": {},
      "exception": null,
      "input_path": "__notebook__.ipynb",
      "output_path": "__notebook__.ipynb",
      "parameters": {},
      "start_time": "2020-12-03T21:10:38.116967",
      "version": "2.1.0"
    }
  },
  "cells": [
    {
      "cell_type": "markdown",
      "metadata": {
        "id": "22YmqtfRDpMl"
      },
      "source": [
        "# Understanding Gender Differences in Tweets with Deep Learning \n",
        "\n",
        "***\n",
        "\n",
        "## Summer Chambers (ssc4mc), Keyu Chen (km5ar), Hannah Frederick (hbf3k)  \n",
        "\n",
        "The .csv file that we read in can be found here: https://www.kaggle.com/crowdflower/twitter-user-gender-classification\n",
        "\n",
        "The code that we source from can be found here: https://www.kaggle.com/gcdatkin/deep-recurrent-nn-for-gender-classification#Data-Every-Day"
      ]
    },
    {
      "cell_type": "markdown",
      "metadata": {
        "id": "ZSMeFcJfAqPp"
      },
      "source": [
        "Ensemble article: https://sailajakarra.medium.com/ensemble-scikit-learn-and-keras-be93206c54c4\n"
      ]
    },
    {
      "cell_type": "code",
      "metadata": {
        "id": "fGT43JGcSBGJ"
      },
      "source": [
        "#while True:pass"
      ],
      "execution_count": null,
      "outputs": []
    },
    {
      "cell_type": "code",
      "metadata": {
        "colab": {
          "base_uri": "https://localhost:8080/"
        },
        "id": "EMCc248lCikW",
        "outputId": "c9292b5d-2a77-4927-b799-acce2f91d110"
      },
      "source": [
        "!pip install yellowbrick\n",
        "import tensorflow as tf\n",
        "from tensorflow import keras\n",
        "import pandas as pd\n",
        "import numpy as np\n",
        "import matplotlib.pyplot as plt\n",
        "import seaborn as sns\n",
        "import re\n",
        "import nltk\n",
        "\n",
        "from yellowbrick.text import FreqDistVisualizer\n",
        "from sklearn.feature_extraction.text import CountVectorizer\n",
        "from sklearn.model_selection import train_test_split, StratifiedKFold, GridSearchCV\n",
        "from sklearn.neighbors import KNeighborsClassifier\n",
        "from sklearn.linear_model import LogisticRegression\n",
        "from sklearn.tree import DecisionTreeClassifier\n",
        "from sklearn.svm import SVC\n",
        "from sklearn.ensemble import RandomForestClassifier, VotingClassifier\n",
        "from sklearn.metrics import accuracy_score\n",
        "from sklearn.naive_bayes import GaussianNB, MultinomialNB\n",
        "\n",
        "\n",
        "import warnings\n",
        "warnings.filterwarnings(\"ignore\")\n",
        "\n",
        "import nltk\n",
        "nltk.download('punkt')\n",
        "nltk.download('wordnet')"
      ],
      "execution_count": null,
      "outputs": [
        {
          "output_type": "stream",
          "text": [
            "Requirement already satisfied: yellowbrick in /usr/local/lib/python3.7/dist-packages (0.9.1)\n",
            "Requirement already satisfied: numpy>=1.13.0 in /usr/local/lib/python3.7/dist-packages (from yellowbrick) (1.19.5)\n",
            "Requirement already satisfied: scikit-learn>=0.20 in /usr/local/lib/python3.7/dist-packages (from yellowbrick) (0.22.2.post1)\n",
            "Requirement already satisfied: scipy>=1.0.0 in /usr/local/lib/python3.7/dist-packages (from yellowbrick) (1.4.1)\n",
            "Requirement already satisfied: cycler>=0.10.0 in /usr/local/lib/python3.7/dist-packages (from yellowbrick) (0.10.0)\n",
            "Requirement already satisfied: matplotlib!=3.0.0,>=1.5.1 in /usr/local/lib/python3.7/dist-packages (from yellowbrick) (3.2.2)\n",
            "Requirement already satisfied: joblib>=0.11 in /usr/local/lib/python3.7/dist-packages (from scikit-learn>=0.20->yellowbrick) (1.0.1)\n",
            "Requirement already satisfied: six in /usr/local/lib/python3.7/dist-packages (from cycler>=0.10.0->yellowbrick) (1.15.0)\n",
            "Requirement already satisfied: python-dateutil>=2.1 in /usr/local/lib/python3.7/dist-packages (from matplotlib!=3.0.0,>=1.5.1->yellowbrick) (2.8.1)\n",
            "Requirement already satisfied: kiwisolver>=1.0.1 in /usr/local/lib/python3.7/dist-packages (from matplotlib!=3.0.0,>=1.5.1->yellowbrick) (1.3.1)\n",
            "Requirement already satisfied: pyparsing!=2.0.4,!=2.1.2,!=2.1.6,>=2.0.1 in /usr/local/lib/python3.7/dist-packages (from matplotlib!=3.0.0,>=1.5.1->yellowbrick) (2.4.7)\n"
          ],
          "name": "stdout"
        },
        {
          "output_type": "stream",
          "text": [
            "/usr/local/lib/python3.7/dist-packages/sklearn/utils/deprecation.py:144: FutureWarning: The sklearn.metrics.classification module is  deprecated in version 0.22 and will be removed in version 0.24. The corresponding classes / functions should instead be imported from sklearn.metrics. Anything that cannot be imported from sklearn.metrics is now part of the private API.\n",
            "  warnings.warn(message, FutureWarning)\n"
          ],
          "name": "stderr"
        },
        {
          "output_type": "stream",
          "text": [
            "[nltk_data] Downloading package punkt to /root/nltk_data...\n",
            "[nltk_data]   Unzipping tokenizers/punkt.zip.\n",
            "[nltk_data] Downloading package wordnet to /root/nltk_data...\n",
            "[nltk_data]   Unzipping corpora/wordnet.zip.\n"
          ],
          "name": "stdout"
        },
        {
          "output_type": "execute_result",
          "data": {
            "text/plain": [
              "True"
            ]
          },
          "metadata": {
            "tags": []
          },
          "execution_count": 1
        }
      ]
    },
    {
      "cell_type": "code",
      "metadata": {
        "id": "wp9la5AOJrwX"
      },
      "source": [
        "#from google.colab import drive\n",
        "#drive.mount('/content/drive/')"
      ],
      "execution_count": null,
      "outputs": []
    },
    {
      "cell_type": "code",
      "metadata": {
        "id": "enBmf9HzHJ81"
      },
      "source": [
        "#data = pd.read_csv(r\"gender-classifier-DFE-791531.csv\",\n",
        "#                   encoding = \"latin1\")\n",
        "data = pd.read_csv('/content/gender-classifier-DFE-791531.csv', encoding='latin-1')"
      ],
      "execution_count": null,
      "outputs": []
    },
    {
      "cell_type": "code",
      "metadata": {
        "colab": {
          "base_uri": "https://localhost:8080/"
        },
        "id": "pcjFaCVH3Ik4",
        "outputId": "25a58ef6-e660-40df-9d88-8b5ef036251e"
      },
      "source": [
        "# Encode unknown values in the target column as np.NaN\n",
        "data['gender'] = data['gender'].replace('unknown', np.NaN)\n",
        "    \n",
        "# Drop rows with missing target values\n",
        "gender_nas = data[data['gender'].isna()].index\n",
        "data = data.drop(gender_nas, axis=0).reset_index(drop=True)\n",
        "\n",
        "gender_brand = data[data['gender'] == 'brand'].index\n",
        "data = data.drop(gender_brand, axis=0).reset_index(drop=True)\n",
        "data['gender'].unique()"
      ],
      "execution_count": null,
      "outputs": [
        {
          "output_type": "execute_result",
          "data": {
            "text/plain": [
              "array(['male', 'female'], dtype=object)"
            ]
          },
          "metadata": {
            "tags": []
          },
          "execution_count": 6
        }
      ]
    },
    {
      "cell_type": "code",
      "metadata": {
        "id": "zBbR157PHCRa"
      },
      "source": [
        "data = data.loc[:,[\"gender\", \"description\",\"text\"]]\n",
        "data.dropna(axis = 0, inplace = True)\n",
        "data[\"description\"] = data[\"description\"].astype('str') + ' ' + data[\"text\"]\n",
        "data.gender = [1 if i == \"female\" else 0 for i in data.gender]\n",
        "data = data.loc[:,[\"gender\", \"description\"]]\n",
        "data.dropna(axis = 0, inplace = True)"
      ],
      "execution_count": null,
      "outputs": []
    },
    {
      "cell_type": "code",
      "metadata": {
        "colab": {
          "base_uri": "https://localhost:8080/"
        },
        "id": "julCQfaN0LDc",
        "outputId": "b43f9d5e-a4c7-4c03-a4e9-8fad47626503"
      },
      "source": [
        "data['gender'].unique()"
      ],
      "execution_count": null,
      "outputs": [
        {
          "output_type": "execute_result",
          "data": {
            "text/plain": [
              "array([0, 1])"
            ]
          },
          "metadata": {
            "tags": []
          },
          "execution_count": 8
        }
      ]
    },
    {
      "cell_type": "code",
      "metadata": {
        "colab": {
          "base_uri": "https://localhost:8080/"
        },
        "id": "felRaaJoKEZz",
        "outputId": "595f5cc3-6115-4e16-c81f-7f00aec85fa9"
      },
      "source": [
        "data.info()"
      ],
      "execution_count": null,
      "outputs": [
        {
          "output_type": "stream",
          "text": [
            "<class 'pandas.core.frame.DataFrame'>\n",
            "Int64Index: 11194 entries, 0 to 12893\n",
            "Data columns (total 2 columns):\n",
            " #   Column       Non-Null Count  Dtype \n",
            "---  ------       --------------  ----- \n",
            " 0   gender       11194 non-null  int64 \n",
            " 1   description  11194 non-null  object\n",
            "dtypes: int64(1), object(1)\n",
            "memory usage: 262.4+ KB\n"
          ],
          "name": "stdout"
        }
      ]
    },
    {
      "cell_type": "code",
      "metadata": {
        "id": "oyvX-aX5Dczt"
      },
      "source": [
        "description_list = []\n",
        "for description in data.description:\n",
        "    #Regular Expression\n",
        "    description = re.sub(\"[^a-zA-Z]\", \" \", description)\n",
        "    description = description.lower()\n",
        "    description = nltk.word_tokenize(description)\n",
        "    #Lemmatazation\n",
        "    lemma = nltk.WordNetLemmatizer()\n",
        "    description = [lemma.lemmatize(word) for word in description]\n",
        "    description = \" \".join(description)\n",
        "    description_list.append(description)\n"
      ],
      "execution_count": null,
      "outputs": []
    },
    {
      "cell_type": "code",
      "metadata": {
        "colab": {
          "base_uri": "https://localhost:8080/",
          "height": 529
        },
        "id": "WGd3DmVPDdsB",
        "outputId": "ca0ea8f1-6491-4399-eb5d-a75aaa387522"
      },
      "source": [
        "# Bag of Words\n",
        "max_features = 5000\n",
        "count_vectorizer = CountVectorizer(max_features=max_features,stop_words = \"english\")\n",
        "sparce_matrix = count_vectorizer.fit_transform(description_list).toarray()\n",
        "features = count_vectorizer.get_feature_names()\n",
        "\n",
        "visualizer = FreqDistVisualizer(features=features, orient='v', n = 10, color = \"orange\")\n",
        "visualizer.fit(sparce_matrix)\n",
        "#visualizer.show()"
      ],
      "execution_count": null,
      "outputs": [
        {
          "output_type": "execute_result",
          "data": {
            "text/plain": [
              "FrequencyVisualizer(ax=<matplotlib.axes._subplots.AxesSubplot object at 0x7eff6e120e10>,\n",
              "                    color='orange',\n",
              "                    features=['aaron', 'ab', 'abc', 'ability', 'able',\n",
              "                              'absolute', 'absolutely', 'abt', 'abuse', 'ac',\n",
              "                              'academic', 'academy', 'acc', 'accent', 'accept',\n",
              "                              'accepted', 'access', 'accident', 'accidentally',\n",
              "                              'according', 'account', 'accountant', 'ace',\n",
              "                              'achieve', 'achievement', 'acoustic', 'act',\n",
              "                              'acting', 'action', 'active', ...],\n",
              "                    n=None, orient='v')"
            ]
          },
          "metadata": {
            "tags": []
          },
          "execution_count": 11
        },
        {
          "output_type": "display_data",
          "data": {
            "image/png": "[encoded data removed]",
            "text/plain": [
              "<Figure size 576x396 with 1 Axes>"
            ]
          },
          "metadata": {
            "tags": []
          }
        }
      ]
    },
    {
      "cell_type": "code",
      "metadata": {
        "id": "Nj6KPImqHSe3"
      },
      "source": [
        "y = data.iloc[:, 0].values\n",
        "x = sparce_matrix"
      ],
      "execution_count": null,
      "outputs": []
    },
    {
      "cell_type": "code",
      "metadata": {
        "colab": {
          "base_uri": "https://localhost:8080/"
        },
        "id": "8fwZOHtX1KVS",
        "outputId": "ac0d1984-78b0-43da-f418-caa3b1e7544c"
      },
      "source": [
        "x"
      ],
      "execution_count": null,
      "outputs": [
        {
          "output_type": "execute_result",
          "data": {
            "text/plain": [
              "array([[0, 0, 0, ..., 0, 0, 0],\n",
              "       [0, 0, 0, ..., 0, 0, 0],\n",
              "       [0, 0, 0, ..., 0, 0, 0],\n",
              "       ...,\n",
              "       [0, 0, 0, ..., 0, 0, 0],\n",
              "       [0, 0, 0, ..., 0, 0, 0],\n",
              "       [0, 0, 0, ..., 0, 0, 0]])"
            ]
          },
          "metadata": {
            "tags": []
          },
          "execution_count": 13
        }
      ]
    },
    {
      "cell_type": "code",
      "metadata": {
        "id": "tTX5ovIfKZmh"
      },
      "source": [
        "x_train, x_test, y_train, y_test = train_test_split(x, y, test_size = 0.1, random_state = 42)"
      ],
      "execution_count": null,
      "outputs": []
    },
    {
      "cell_type": "code",
      "metadata": {
        "colab": {
          "base_uri": "https://localhost:8080/"
        },
        "id": "WxduIbZqInSu",
        "outputId": "873ec2c1-4a6f-4d3f-d619-83d2f105a5da"
      },
      "source": [
        "len(y_test)"
      ],
      "execution_count": null,
      "outputs": [
        {
          "output_type": "execute_result",
          "data": {
            "text/plain": [
              "1120"
            ]
          },
          "metadata": {
            "tags": []
          },
          "execution_count": 15
        }
      ]
    },
    {
      "cell_type": "code",
      "metadata": {
        "id": "oxJuNzuFDfdU",
        "colab": {
          "base_uri": "https://localhost:8080/"
        },
        "outputId": "520c900c-db8b-41e8-cb1a-9217aed707cd"
      },
      "source": [
        "# Random Forest \n",
        "rf = RandomForestClassifier(random_state = 42)\n",
        "rf.fit(x_train, y_train)\n",
        "y_pred = rf.predict(x_test)\n",
        "\n",
        "print(\"Accuracy:{:.3%}\".format(accuracy_score(y_test, y_pred)))"
      ],
      "execution_count": null,
      "outputs": [
        {
          "output_type": "stream",
          "text": [
            "Accuracy:66.339%\n"
          ],
          "name": "stdout"
        }
      ]
    },
    {
      "cell_type": "code",
      "metadata": {
        "colab": {
          "base_uri": "https://localhost:8080/"
        },
        "id": "xDOXezWaP2L9",
        "outputId": "21b924a4-93d7-47ac-fa14-d6976d9e9786"
      },
      "source": [
        "coefs = (rf.feature_importances_)\n",
        "sparse_mat = count_vectorizer.fit_transform(description_list)\n",
        "top_fifteen = np.argpartition(coefs, -15)[-15:]\n",
        "[features[feature] for feature in top_fifteen]"
      ],
      "execution_count": null,
      "outputs": [
        {
          "output_type": "execute_result",
          "data": {
            "text/plain": [
              "['feminist',\n",
              " 'life',\n",
              " 'wa',\n",
              " 'mom',\n",
              " 'just',\n",
              " 'game',\n",
              " 'like',\n",
              " 'fan',\n",
              " 'father',\n",
              " 'girl',\n",
              " 'man',\n",
              " 'football',\n",
              " 'sport',\n",
              " 'love',\n",
              " 'http']"
            ]
          },
          "metadata": {
            "tags": []
          },
          "execution_count": 17
        }
      ]
    },
    {
      "cell_type": "code",
      "metadata": {
        "colab": {
          "base_uri": "https://localhost:8080/"
        },
        "id": "4oOqTnirH7Nc",
        "outputId": "c06702e4-0119-4cf2-b355-f862bd52c581"
      },
      "source": [
        "# Logistic Regression\n",
        "lr = LogisticRegression(random_state = 42)\n",
        "lr.fit(x_train, y_train)\n",
        "\n",
        "y_pred = lr.predict(x_test)\n",
        "accuracy = 100.0 * accuracy_score(y_test, y_pred)\n",
        "print(\"Accuracy:{:.3%}\".format(accuracy_score(y_test, y_pred)))"
      ],
      "execution_count": null,
      "outputs": [
        {
          "output_type": "stream",
          "text": [
            "Accuracy:66.339%\n"
          ],
          "name": "stdout"
        }
      ]
    },
    {
      "cell_type": "code",
      "metadata": {
        "colab": {
          "base_uri": "https://localhost:8080/"
        },
        "id": "YcdMLwnqRz1L",
        "outputId": "0206324d-472f-412a-f2ff-b839656dbd29"
      },
      "source": [
        "female_coefs = lr.coef_[0]\n",
        "sparse_mat = count_vectorizer.fit_transform(description_list)\n",
        "top_fifteen = np.argpartition(female_coefs, -15)[-15:]\n",
        "result = [features[feature] for feature in top_fifteen]\n",
        "for word in result:\n",
        "  print(f'\\item \"{word}\"')"
      ],
      "execution_count": null,
      "outputs": [
        {
          "output_type": "stream",
          "text": [
            "\\item \"bathroom\"\n",
            "\\item \"makeup\"\n",
            "\\item \"weight\"\n",
            "\\item \"ac\"\n",
            "\\item \"alcohol\"\n",
            "\\item \"goddess\"\n",
            "\\item \"camgirl\"\n",
            "\\item \"circle\"\n",
            "\\item \"alumna\"\n",
            "\\item \"feminist\"\n",
            "\\item \"focus\"\n",
            "\\item \"mother\"\n",
            "\\item \"baker\"\n",
            "\\item \"dress\"\n",
            "\\item \"girl\"\n"
          ],
          "name": "stdout"
        }
      ]
    },
    {
      "cell_type": "code",
      "metadata": {
        "colab": {
          "base_uri": "https://localhost:8080/"
        },
        "id": "KULTdlFvTtew",
        "outputId": "917ac218-95ff-4e8e-c4e9-9ef1967b7f03"
      },
      "source": [
        "male_coefs = -(lr.coef_[0])\n",
        "sparse_mat = count_vectorizer.fit_transform(description_list)\n",
        "top_fifteen = np.argpartition(male_coefs, -15)[-15:]\n",
        "result = [features[feature] for feature in top_fifteen]\n",
        "for word in result:\n",
        "  print(f'\\item \"{word}\"')"
      ],
      "execution_count": null,
      "outputs": [
        {
          "output_type": "stream",
          "text": [
            "\\item \"mike\"\n",
            "\\item \"bread\"\n",
            "\\item \"niallofficial\"\n",
            "\\item \"male\"\n",
            "\\item \"meditation\"\n",
            "\\item \"shoot\"\n",
            "\\item \"political\"\n",
            "\\item \"knight\"\n",
            "\\item \"dnt\"\n",
            "\\item \"supporting\"\n",
            "\\item \"musician\"\n",
            "\\item \"wrestling\"\n",
            "\\item \"abt\"\n",
            "\\item \"mufc\"\n",
            "\\item \"father\"\n"
          ],
          "name": "stdout"
        }
      ]
    },
    {
      "cell_type": "code",
      "metadata": {
        "id": "ynKJ1ysNICwN"
      },
      "source": [
        "# K Nearest Neighbors\n",
        "#knn = KNeighborsClassifier(n_neighbors = 2)\n",
        "#knn.fit(x_train, y_train)\n",
        "#y_pred = knn.predict(x_test)\n",
        "#print(\"Accuracy:{:.3%}\".format(accuracy_score(y_test, y_pred)))"
      ],
      "execution_count": null,
      "outputs": []
    },
    {
      "cell_type": "code",
      "metadata": {
        "colab": {
          "base_uri": "https://localhost:8080/"
        },
        "id": "mupjVI6eICy4",
        "outputId": "b7e9a0fe-1cc2-4c94-e502-ab0ce5d52352"
      },
      "source": [
        "# Multinomial Naive Bayes\n",
        "mnb = MultinomialNB()\n",
        "mnb.fit(x_train, y_train)\n",
        "y_pred = mnb.predict(x_test)\n",
        "print(\"Accuracy:{:.3%}\".format(accuracy_score(y_test, y_pred)))"
      ],
      "execution_count": null,
      "outputs": [
        {
          "output_type": "stream",
          "text": [
            "Accuracy:66.696%\n"
          ],
          "name": "stdout"
        }
      ]
    },
    {
      "cell_type": "code",
      "metadata": {
        "id": "MSV2kTWHIC1p",
        "colab": {
          "base_uri": "https://localhost:8080/"
        },
        "outputId": "d49193b4-a809-43c2-ec9d-ed7d4596d4b1"
      },
      "source": [
        "# Gaussian Naive Bayes\n",
        "nb = GaussianNB()\n",
        "nb.fit(x_train, y_train)\n",
        "y_pred = nb.predict(x_test)\n",
        "print(\"Accuracy:{:.3%}\".format(accuracy_score(y_test, y_pred)))"
      ],
      "execution_count": null,
      "outputs": [
        {
          "output_type": "stream",
          "text": [
            "Accuracy:60.893%\n"
          ],
          "name": "stdout"
        }
      ]
    },
    {
      "cell_type": "code",
      "metadata": {
        "id": "IohGFOJXGJDc"
      },
      "source": [
        "#log_clf = LogisticRegression(solver=\"lbfgs\", random_state=42)\n",
        "#rnd_clf = RandomForestClassifier(n_estimators=100, random_state=42)\n",
        "#svm_clf = SVC(gamma=\"scale\", random_state=42,probability=True)\n",
        "# Keras Model\n",
        "def build_nn():\n",
        "    model= keras.models.Sequential([\n",
        "                       keras.layers.Dense(50,activation='relu',input_shape=[1000]),\n",
        "                       keras.layers.Dense(1,activation='sigmoid')\n",
        "])\n",
        "    model.compile(\n",
        "                optimizer='Adam',\n",
        "                loss='binary_crossentropy',\n",
        "                metrics=['accuracy'])\n",
        "    return model"
      ],
      "execution_count": null,
      "outputs": []
    },
    {
      "cell_type": "code",
      "metadata": {
        "id": "EYXMJb5GIia_"
      },
      "source": [
        "keras_clf = tf.keras.wrappers.scikit_learn.KerasClassifier(\n",
        "                            build_nn,\n",
        "                            epochs=3,\n",
        "                            verbose=False)"
      ],
      "execution_count": null,
      "outputs": []
    },
    {
      "cell_type": "code",
      "metadata": {
        "id": "1AwzCkC7IlMS"
      },
      "source": [
        "keras_clf._estimator_type = \"classifier\""
      ],
      "execution_count": null,
      "outputs": []
    },
    {
      "cell_type": "code",
      "metadata": {
        "colab": {
          "base_uri": "https://localhost:8080/"
        },
        "id": "ts6mPkA8eIq-",
        "outputId": "cdc983d5-1dde-47b5-b5de-d3ab88054bb9"
      },
      "source": [
        "model = build_nn()\n",
        "model.fit(x_train,\n",
        "          y_train)"
      ],
      "execution_count": null,
      "outputs": [
        {
          "output_type": "stream",
          "text": [
            "280/280 [==============================] - 1s 2ms/step - loss: 0.6768 - accuracy: 0.5725\n"
          ],
          "name": "stdout"
        },
        {
          "output_type": "execute_result",
          "data": {
            "text/plain": [
              "<tensorflow.python.keras.callbacks.History at 0x7fb8cfb01690>"
            ]
          },
          "metadata": {
            "tags": []
          },
          "execution_count": 26
        }
      ]
    },
    {
      "cell_type": "code",
      "metadata": {
        "colab": {
          "base_uri": "https://localhost:8080/"
        },
        "id": "izCEb2tPeOhm",
        "outputId": "ebb20ff8-8627-4452-e33d-30f687578727"
      },
      "source": [
        "results = model.evaluate(x_test, y_test, verbose=True)\n",
        "print(\"Model Accuracy: {:.2f}%\".format(results[1] * 100))"
      ],
      "execution_count": null,
      "outputs": [
        {
          "output_type": "stream",
          "text": [
            "70/70 [==============================] - 0s 1ms/step - loss: 0.6209 - accuracy: 0.6414\n",
            "Model Accuracy: 64.14%\n"
          ],
          "name": "stdout"
        }
      ]
    },
    {
      "cell_type": "code",
      "metadata": {
        "id": "WfFGUhUjI2JM"
      },
      "source": [
        "voting = VotingClassifier(\n",
        "             estimators=[(\"rf\",rf),\n",
        "                          (\"lr\",lr),\n",
        "                        #  (\"knn\",knn),                                      \n",
        "                          (\"mnb\",mnb),\n",
        "                   #       (\"nb\",nb),\n",
        "                         ('keras',keras_clf)], \n",
        "             voting='soft',\n",
        "             flatten_transform=True)"
      ],
      "execution_count": null,
      "outputs": []
    },
    {
      "cell_type": "code",
      "metadata": {
        "colab": {
          "base_uri": "https://localhost:8080/"
        },
        "id": "o1qV7rl1Ix8R",
        "outputId": "da2dd89d-26e1-4365-a2c8-1a0e0c9d42dd"
      },
      "source": [
        "votingC = voting.fit(x_train,y_train)\n",
        "print(accuracy_score(votingC.predict(x_test),y_test))"
      ],
      "execution_count": null,
      "outputs": [
        {
          "output_type": "stream",
          "text": [
            "0.6574363555158553\n"
          ],
          "name": "stdout"
        }
      ]
    },
    {
      "cell_type": "code",
      "metadata": {
        "id": "NBpxpNZOHqeE"
      },
      "source": [
        "y_pred1 = votingC.predict(x_test)"
      ],
      "execution_count": null,
      "outputs": []
    },
    {
      "cell_type": "code",
      "metadata": {
        "id": "h0SHgqnO96uC"
      },
      "source": [
        "#https://sailajakarra.medium.com/ensemble-scikit-learn-and-keras-be93206c54c4"
      ],
      "execution_count": null,
      "outputs": []
    },
    {
      "cell_type": "code",
      "metadata": {
        "colab": {
          "base_uri": "https://localhost:8080/"
        },
        "id": "YeIAyeJp-LPF",
        "outputId": "d5070898-b8fd-47b4-a1d8-2a6581e42716"
      },
      "source": [
        "for clf in (rf, lr,  mnb,  keras_clf, voting): #knn, nb,\n",
        "    clf.fit(x_train, y_train)\n",
        "    y_pred = clf.predict(x_test)\n",
        "    print(clf.__class__.__name__, accuracy_score(y_test, y_pred))"
      ],
      "execution_count": null,
      "outputs": [
        {
          "output_type": "stream",
          "text": [
            "RandomForestClassifier 0.6467172845020098\n",
            "LogisticRegression 0.6467172845020098\n",
            "MultinomialNB 0.6440375167485485\n",
            "KerasClassifier 0.6440375167485485\n",
            "VotingClassifier 0.6534167038856632\n"
          ],
          "name": "stdout"
        }
      ]
    },
    {
      "cell_type": "code",
      "metadata": {
        "id": "Jy-aboBh01qN"
      },
      "source": [
        "from sklearn.metrics import confusion_matrix, classification_report\n",
        "cm = confusion_matrix(y_test, y_pred1)\n",
        "clr = classification_report(y_test, y_pred1, target_names=[ 'male','female'])"
      ],
      "execution_count": null,
      "outputs": []
    },
    {
      "cell_type": "code",
      "metadata": {
        "id": "k_vFFHDJB1pu",
        "colab": {
          "base_uri": "https://localhost:8080/",
          "height": 423
        },
        "outputId": "ef596715-49e1-41ec-fd4d-abd1731d08e3"
      },
      "source": [
        "plt.figure(figsize=(6, 6))\n",
        "sns.heatmap(cm, annot=True, fmt='g', cbar=False, cmap='Blues')\n",
        "plt.xticks(np.arange(2) + 0.5, ['female', 'male'])\n",
        "plt.yticks(np.arange(2) + 0.5, ['female', 'male'])\n",
        "plt.xlabel(\"Predicted\")\n",
        "plt.ylabel(\"Actual\")\n",
        "plt.title(\"Confusion Matrix\")\n",
        "plt.show()"
      ],
      "execution_count": null,
      "outputs": [
        {
          "output_type": "display_data",
          "data": {
            "image/png": "[encoded data removed]",
            "text/plain": [
              "<Figure size 432x432 with 1 Axes>"
            ]
          },
          "metadata": {
            "tags": []
          }
        }
      ]
    },
    {
      "cell_type": "code",
      "metadata": {
        "id": "sU4AlOMgB1sg",
        "colab": {
          "base_uri": "https://localhost:8080/"
        },
        "outputId": "8404b60f-cbf1-4320-df18-0dac6cb7c1c1"
      },
      "source": [
        "print(\"Classification Report:\\n\\n\", clr)"
      ],
      "execution_count": null,
      "outputs": [
        {
          "output_type": "stream",
          "text": [
            "Classification Report:\n",
            "\n",
            "               precision    recall  f1-score   support\n",
            "\n",
            "        male       0.67      0.57      0.62      1113\n",
            "      female       0.63      0.72      0.67      1126\n",
            "\n",
            "    accuracy                           0.64      2239\n",
            "   macro avg       0.65      0.64      0.64      2239\n",
            "weighted avg       0.65      0.64      0.64      2239\n",
            "\n"
          ],
          "name": "stdout"
        }
      ]
    },
    {
      "cell_type": "code",
      "metadata": {
        "id": "pHAEd6ET7Ehb",
        "colab": {
          "base_uri": "https://localhost:8080/",
          "height": 182
        },
        "outputId": "abde32a9-3377-434d-aa47-68575af4fec1"
      },
      "source": [
        "while True:pass"
      ],
      "execution_count": null,
      "outputs": [
        {
          "output_type": "error",
          "ename": "KeyboardInterrupt",
          "evalue": "ignored",
          "traceback": [
            "\u001b[0;31m---------------------------------------------------------------------------\u001b[0m",
            "\u001b[0;31mKeyboardInterrupt\u001b[0m                         Traceback (most recent call last)",
            "\u001b[0;32m<ipython-input-32-534b7a74019f>\u001b[0m in \u001b[0;36m<module>\u001b[0;34m()\u001b[0m\n\u001b[0;32m----> 1\u001b[0;31m \u001b[0;32mwhile\u001b[0m \u001b[0;32mTrue\u001b[0m\u001b[0;34m:\u001b[0m\u001b[0;32mpass\u001b[0m\u001b[0;34m\u001b[0m\u001b[0;34m\u001b[0m\u001b[0m\n\u001b[0m",
            "\u001b[0;31mKeyboardInterrupt\u001b[0m: "
          ]
        }
      ]
    },
    {
      "cell_type": "code",
      "metadata": {
        "id": "Ks9JPHzVDW9H"
      },
      "source": [
        ""
      ],
      "execution_count": null,
      "outputs": []
    }
  ]
}