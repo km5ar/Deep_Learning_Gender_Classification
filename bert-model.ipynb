{
 "cells": [
  {
   "cell_type": "markdown",
   "source": "# Understanding Gender Differences in Tweets with Deep Learning \n\n***\n\n## Summer Chambers (ssc4mc), Keyu Chen (km5ar), Hannah Frederick (hbf3k)  \n\nThe .csv file that we read in can be found here: https://www.kaggle.com/crowdflower/twitter-user-gender-classification\n\nThe code that we source from can be found here: https://www.kaggle.com/gcdatkin/deep-recurrent-nn-for-gender-classification#Data-Every-Day",
   "metadata": {
    "papermill": {
     "duration": 0.022663,
     "end_time": "2020-12-03T21:10:42.486130",
     "exception": false,
     "start_time": "2020-12-03T21:10:42.463467",
     "status": "completed"
    },
    "tags": [],
    "cell_id": "00000-399f1a09-f2f1-488b-b669-41b331efa838",
    "deepnote_cell_type": "markdown"
   }
  },
  {
   "cell_type": "markdown",
   "source": "# Importing Data",
   "metadata": {
    "papermill": {
     "duration": 0.02677,
     "end_time": "2020-12-03T21:10:42.534289",
     "exception": false,
     "start_time": "2020-12-03T21:10:42.507519",
     "status": "completed"
    },
    "tags": [],
    "cell_id": "00001-e96f08ea-35c7-44dc-a397-7f3857aff096",
    "deepnote_cell_type": "markdown"
   }
  },
  {
   "cell_type": "code",
   "metadata": {
    "_cell_guid": "79c7e3d0-c299-4dcb-8224-4455121ee9b0",
    "_uuid": "d629ff2d2480ee46fbb7e2d37f6b5fab8052498a",
    "execution": {
     "iopub.execute_input": "2020-12-03T21:10:42.594913Z",
     "iopub.status.busy": "2020-12-03T21:10:42.594183Z",
     "iopub.status.idle": "2020-12-03T21:10:48.652308Z",
     "shell.execute_reply": "2020-12-03T21:10:48.652931Z"
    },
    "papermill": {
     "duration": 6.086288,
     "end_time": "2020-12-03T21:10:48.653140",
     "exception": false,
     "start_time": "2020-12-03T21:10:42.566852",
     "status": "completed"
    },
    "tags": [],
    "deepnote_to_be_reexecuted": false,
    "source_hash": "2dab0c8e",
    "execution_millis": 9145,
    "cell_id": "00002-989df6fd-affe-404a-811a-bd91202eeb3f",
    "execution_start": 1618849469366,
    "deepnote_cell_type": "code"
   },
   "source": "import tensorflow_hub as hub\nimport tensorflow_text as text\nimport bert\nimport numpy as np\nimport pandas as pd\nimport matplotlib.pyplot as plt\nimport seaborn as sns\nfrom tensorflow.keras.preprocessing.text import Tokenizer\nfrom tensorflow.keras.preprocessing.sequence import pad_sequences\nfrom sklearn.preprocessing import StandardScaler\nfrom sklearn.model_selection import train_test_split\nimport tensorflow as tf\nfrom tensorflow import keras\nimport pydot\nimport graphviz\nfrom sklearn.metrics import confusion_matrix, classification_report",
   "execution_count": null,
   "outputs": []
  },
  {
   "cell_type": "code",
   "metadata": {
    "execution": {
     "iopub.execute_input": "2020-12-03T21:10:48.715801Z",
     "iopub.status.busy": "2020-12-03T21:10:48.715034Z",
     "iopub.status.idle": "2020-12-03T21:10:49.204227Z",
     "shell.execute_reply": "2020-12-03T21:10:49.202952Z"
    },
    "papermill": {
     "duration": 0.523199,
     "end_time": "2020-12-03T21:10:49.204380",
     "exception": false,
     "start_time": "2020-12-03T21:10:48.681181",
     "status": "completed"
    },
    "tags": [],
    "deepnote_to_be_reexecuted": false,
    "source_hash": "14b4c373",
    "execution_millis": 325,
    "cell_id": "00003-273a69af-f0e9-43c8-97e8-44fd889f1ab3",
    "execution_start": 1618849479316,
    "deepnote_cell_type": "code"
   },
   "source": "data = pd.read_csv('gender-classifier-DFE-791531.csv', encoding='latin-1')",
   "execution_count": null,
   "outputs": []
  },
  {
   "cell_type": "code",
   "metadata": {
    "execution": {
     "iopub.execute_input": "2020-12-03T21:10:49.263655Z",
     "iopub.status.busy": "2020-12-03T21:10:49.262579Z",
     "iopub.status.idle": "2020-12-03T21:10:49.330843Z",
     "shell.execute_reply": "2020-12-03T21:10:49.331357Z"
    },
    "papermill": {
     "duration": 0.104874,
     "end_time": "2020-12-03T21:10:49.331480",
     "exception": false,
     "start_time": "2020-12-03T21:10:49.226606",
     "status": "completed"
    },
    "tags": [],
    "deepnote_to_be_reexecuted": false,
    "source_hash": "e6928a8f",
    "execution_millis": 320,
    "cell_id": "00004-8a2374e6-b214-4d19-a3d7-6477377827ad",
    "execution_start": 1618849480130,
    "deepnote_cell_type": "code"
   },
   "source": "data",
   "execution_count": null,
   "outputs": [
    {
     "output_type": "execute_result",
     "execution_count": 4,
     "data": {
      "application/vnd.deepnote.dataframe.v2+json": {
       "row_count": 20050,
       "column_count": 26,
       "columns": [
        {
         "name": "_unit_id",
         "dtype": "int64",
         "stats": {
          "unique_count": 20050,
          "nan_count": 0,
          "min": "815719226",
          "max": "815757985",
          "histogram": [
           {
            "bin_start": 815719226,
            "bin_end": 815723101.9,
            "count": 3805
           },
           {
            "bin_start": 815723101.9,
            "bin_end": 815726977.8,
            "count": 3853
           },
           {
            "bin_start": 815726977.8,
            "bin_end": 815730853.7,
            "count": 3810
           },
           {
            "bin_start": 815730853.7,
            "bin_end": 815734729.6,
            "count": 3780
           },
           {
            "bin_start": 815734729.6,
            "bin_end": 815738605.5,
            "count": 3789
           },
           {
            "bin_start": 815738605.5,
            "bin_end": 815742481.4,
            "count": 963
           },
           {
            "bin_start": 815742481.4,
            "bin_end": 815746357.3,
            "count": 0
           },
           {
            "bin_start": 815746357.3,
            "bin_end": 815750233.2,
            "count": 2
           },
           {
            "bin_start": 815750233.2,
            "bin_end": 815754109.1,
            "count": 17
           },
           {
            "bin_start": 815754109.1,
            "bin_end": 815757985,
            "count": 31
           }
          ]
         }
        },
        {
         "name": "_golden",
         "dtype": "bool",
         "stats": {
          "unique_count": 2,
          "nan_count": 0,
          "categories": [
           {
            "name": "False",
            "count": 20000
           },
           {
            "name": "True",
            "count": 50
           }
          ]
         }
        },
        {
         "name": "_unit_state",
         "dtype": "object",
         "stats": {
          "unique_count": 2,
          "nan_count": 0,
          "categories": [
           {
            "name": "finalized",
            "count": 20000
           },
           {
            "name": "golden",
            "count": 50
           }
          ]
         }
        },
        {
         "name": "_trusted_judgments",
         "dtype": "int64",
         "stats": {
          "unique_count": 32,
          "nan_count": 0,
          "min": "3",
          "max": "274",
          "histogram": [
           {
            "bin_start": 3,
            "bin_end": 30.1,
            "count": 20000
           },
           {
            "bin_start": 30.1,
            "bin_end": 57.2,
            "count": 0
           },
           {
            "bin_start": 57.2,
            "bin_end": 84.30000000000001,
            "count": 0
           },
           {
            "bin_start": 84.30000000000001,
            "bin_end": 111.4,
            "count": 0
           },
           {
            "bin_start": 111.4,
            "bin_end": 138.5,
            "count": 0
           },
           {
            "bin_start": 138.5,
            "bin_end": 165.60000000000002,
            "count": 0
           },
           {
            "bin_start": 165.60000000000002,
            "bin_end": 192.70000000000002,
            "count": 0
           },
           {
            "bin_start": 192.70000000000002,
            "bin_end": 219.8,
            "count": 1
           },
           {
            "bin_start": 219.8,
            "bin_end": 246.9,
            "count": 18
           },
           {
            "bin_start": 246.9,
            "bin_end": 274,
            "count": 31
           }
          ]
         }
        },
        {
         "name": "_last_judgment_at",
         "dtype": "object"
        },
        {
         "name": "gender",
         "dtype": "object"
        },
        {
         "name": "gender:confidence",
         "dtype": "float64"
        },
        {
         "name": "profile_yn",
         "dtype": "object"
        },
        {
         "name": "profile_yn:confidence",
         "dtype": "float64"
        },
        {
         "name": "created",
         "dtype": "object"
        },
        {
         "name": "description",
         "dtype": "object"
        },
        {
         "name": "fav_number",
         "dtype": "int64"
        },
        {
         "name": "gender_gold",
         "dtype": "object"
        },
        {
         "name": "link_color",
         "dtype": "object"
        },
        {
         "name": "name",
         "dtype": "object"
        },
        {
         "name": "profile_yn_gold",
         "dtype": "object"
        },
        {
         "name": "profileimage",
         "dtype": "object"
        },
        {
         "name": "retweet_count",
         "dtype": "int64"
        },
        {
         "name": "sidebar_color",
         "dtype": "object"
        },
        {
         "name": "text",
         "dtype": "object"
        },
        {
         "name": "tweet_coord",
         "dtype": "object"
        },
        {
         "name": "tweet_count",
         "dtype": "int64"
        },
        {
         "name": "tweet_created",
         "dtype": "object"
        },
        {
         "name": "tweet_id",
         "dtype": "float64"
        },
        {
         "name": "tweet_location",
         "dtype": "object"
        },
        {
         "name": "user_timezone",
         "dtype": "object"
        },
        {
         "name": "_deepnote_index_column",
         "dtype": "int64"
        }
       ],
       "rows_top": [
        {
         "_unit_id": 815719226,
         "_golden": false,
         "_unit_state": "finalized",
         "_trusted_judgments": 3,
         "_last_judgment_at": "10/26/15 23:24",
         "gender": "male",
         "gender:confidence": 1,
         "profile_yn": "yes",
         "profile_yn:confidence": 1,
         "created": "12/5/13 1:48",
         "description": "i sing my own rhythm.",
         "fav_number": 0,
         "gender_gold": "nan",
         "link_color": "08C2C2",
         "name": "sheezy0",
         "profile_yn_gold": "nan",
         "profileimage": "https://pbs.twimg.com/profile_images/414342229096808449/fYvzqXN7_normal.png",
         "retweet_count": 0,
         "sidebar_color": "FFFFFF",
         "text": "Robbie E Responds To Critics After Win Against Eddie Edwards In The #WorldTitleSeries https://t.co/NSybBmVjKZ",
         "tweet_coord": "nan",
         "tweet_count": 110964,
         "tweet_created": "10/26/15 12:40",
         "tweet_id": 658730000000000000,
         "tweet_location": "main; @Kan1shk3",
         "user_timezone": "Chennai",
         "_deepnote_index_column": 0
        },
        {
         "_unit_id": 815719227,
         "_golden": false,
         "_unit_state": "finalized",
         "_trusted_judgments": 3,
         "_last_judgment_at": "10/26/15 23:30",
         "gender": "male",
         "gender:confidence": 1,
         "profile_yn": "yes",
         "profile_yn:confidence": 1,
         "created": "10/1/12 13:51",
         "description": "I'm the author of novels filled with family drama and romance.",
         "fav_number": 68,
         "gender_gold": "nan",
         "link_color": "0084B4",
         "name": "DavdBurnett",
         "profile_yn_gold": "nan",
         "profileimage": "https://pbs.twimg.com/profile_images/539604221532700673/WW16tBbU_normal.jpeg",
         "retweet_count": 0,
         "sidebar_color": "C0DEED",
         "text": "ÛÏIt felt like they were my friends and I was living the story with themÛ https://t.co/arngE0YHNO #retired #IAN1 https://t.co/CIzCANPQFz",
         "tweet_coord": "nan",
         "tweet_count": 7471,
         "tweet_created": "10/26/15 12:40",
         "tweet_id": 658730000000000000,
         "tweet_location": "nan",
         "user_timezone": "Eastern Time (US & Canada)",
         "_deepnote_index_column": 1
        },
        {
         "_unit_id": 815719228,
         "_golden": false,
         "_unit_state": "finalized",
         "_trusted_judgments": 3,
         "_last_judgment_at": "10/26/15 23:33",
         "gender": "male",
         "gender:confidence": 0.6625,
         "profile_yn": "yes",
         "profile_yn:confidence": 1,
         "created": "11/28/14 11:30",
         "description": "louis whining and squealing and all",
         "fav_number": 7696,
         "gender_gold": "nan",
         "link_color": "ABB8C2",
         "name": "lwtprettylaugh",
         "profile_yn_gold": "nan",
         "profileimage": "https://pbs.twimg.com/profile_images/657330418249658368/SBLCXdF7_normal.png",
         "retweet_count": 1,
         "sidebar_color": "C0DEED",
         "text": "i absolutely adore when louis starts the songs it hits me hard but it feels good",
         "tweet_coord": "nan",
         "tweet_count": 5617,
         "tweet_created": "10/26/15 12:40",
         "tweet_id": 658730000000000000,
         "tweet_location": "clcncl",
         "user_timezone": "Belgrade",
         "_deepnote_index_column": 2
        },
        {
         "_unit_id": 815719229,
         "_golden": false,
         "_unit_state": "finalized",
         "_trusted_judgments": 3,
         "_last_judgment_at": "10/26/15 23:10",
         "gender": "male",
         "gender:confidence": 1,
         "profile_yn": "yes",
         "profile_yn:confidence": 1,
         "created": "6/11/09 22:39",
         "description": "Mobile guy.  49ers, Shazam, Google, Kleiner Perkins, Yahoo!, Sprint PCS, AirTouch, Air Force.  Stanford GSB, UVa.  Dad, Husband, Brother.  Golfer.",
         "fav_number": 202,
         "gender_gold": "nan",
         "link_color": "0084B4",
         "name": "douggarland",
         "profile_yn_gold": "nan",
         "profileimage": "https://pbs.twimg.com/profile_images/259703936/IMG_8444_normal.JPG",
         "retweet_count": 0,
         "sidebar_color": "C0DEED",
         "text": "Hi @JordanSpieth - Looking at the url - do you use @IFTTT?!  Don't typically see an advanced user on the @PGATOUR! https://t.co/H68ou5PE9L",
         "tweet_coord": "nan",
         "tweet_count": 1693,
         "tweet_created": "10/26/15 12:40",
         "tweet_id": 658730000000000000,
         "tweet_location": "Palo Alto, CA",
         "user_timezone": "Pacific Time (US & Canada)",
         "_deepnote_index_column": 3
        },
        {
         "_unit_id": 815719230,
         "_golden": false,
         "_unit_state": "finalized",
         "_trusted_judgments": 3,
         "_last_judgment_at": "10/27/15 1:15",
         "gender": "female",
         "gender:confidence": 1,
         "profile_yn": "yes",
         "profile_yn:confidence": 1,
         "created": "4/16/14 13:23",
         "description": "Ricky Wilson The Best FRONTMAN/Kaiser Chiefs The Best BAND Xxxx Thank you Kaiser Chiefs for an incredible year of gigs and memories to cherish always :) Xxxxxxx",
         "fav_number": 37318,
         "gender_gold": "nan",
         "link_color": "3B94D9",
         "name": "WilfordGemma",
         "profile_yn_gold": "nan",
         "profileimage": "https://pbs.twimg.com/profile_images/564094871032446976/AOfpk-mr_normal.jpeg",
         "retweet_count": 0,
         "sidebar_color": "0",
         "text": "Watching Neighbours on Sky+ catching up with the Neighbs!! Xxx _Ù÷Ä_Ù÷Ä_Ù÷Ä_ÙÔÎ_ÙÈ_ÙÔ_ÙÈ Xxx",
         "tweet_coord": "nan",
         "tweet_count": 31462,
         "tweet_created": "10/26/15 12:40",
         "tweet_id": 658730000000000000,
         "tweet_location": "nan",
         "user_timezone": "nan",
         "_deepnote_index_column": 4
        },
        {
         "_unit_id": 815719231,
         "_golden": false,
         "_unit_state": "finalized",
         "_trusted_judgments": 3,
         "_last_judgment_at": "10/27/15 1:47",
         "gender": "female",
         "gender:confidence": 1,
         "profile_yn": "yes",
         "profile_yn:confidence": 1,
         "created": "3/11/10 18:14",
         "description": "you don't know me.",
         "fav_number": 3901,
         "gender_gold": "nan",
         "link_color": "F5ABB5",
         "name": "monroevicious",
         "profile_yn_gold": "nan",
         "profileimage": "https://pbs.twimg.com/profile_images/656336865033850880/ougQS3q7_normal.jpg",
         "retweet_count": 0,
         "sidebar_color": "0",
         "text": "Ive seen people on the train with lamps, chairs, tvs etc  https://t.co/w6zf4pVM4I",
         "tweet_coord": "nan",
         "tweet_count": 20036,
         "tweet_created": "10/26/15 12:40",
         "tweet_id": 658730000000000000,
         "tweet_location": "New York Gritty",
         "user_timezone": "Central Time (US & Canada)",
         "_deepnote_index_column": 5
        },
        {
         "_unit_id": 815719232,
         "_golden": false,
         "_unit_state": "finalized",
         "_trusted_judgments": 3,
         "_last_judgment_at": "10/27/15 1:57",
         "gender": "brand",
         "gender:confidence": 1,
         "profile_yn": "yes",
         "profile_yn:confidence": 1,
         "created": "4/24/08 13:03",
         "description": "A global marketplace for images, videos and music. Sharing photos, inspiration, design tips & videos for the creative community.",
         "fav_number": 4122,
         "gender_gold": "nan",
         "link_color": "298AAE",
         "name": "Shutterstock",
         "profile_yn_gold": "nan",
         "profileimage": "https://pbs.twimg.com/profile_images/528547133025042432/RC9k-6fp_normal.png",
         "retweet_count": 0,
         "sidebar_color": "0",
         "text": "@BpackEngineer Thank you for your patience while we take care of the issue!",
         "tweet_coord": "nan",
         "tweet_count": 13354,
         "tweet_created": "10/26/15 12:40",
         "tweet_id": 658730000000000000,
         "tweet_location": "Worldwide",
         "user_timezone": "Eastern Time (US & Canada)",
         "_deepnote_index_column": 6
        },
        {
         "_unit_id": 815719233,
         "_golden": false,
         "_unit_state": "finalized",
         "_trusted_judgments": 3,
         "_last_judgment_at": "10/26/15 23:48",
         "gender": "male",
         "gender:confidence": 1,
         "profile_yn": "yes",
         "profile_yn:confidence": 1,
         "created": "12/3/12 21:54",
         "description": "The secret of getting ahead is getting started.",
         "fav_number": 80,
         "gender_gold": "nan",
         "link_color": "0000FF",
         "name": "RobinMeske",
         "profile_yn_gold": "nan",
         "profileimage": "https://pbs.twimg.com/profile_images/508875440107180032/apOHVAt8_normal.jpeg",
         "retweet_count": 0,
         "sidebar_color": "C0DEED",
         "text": "Gala Bingo clubs bought for å£241m: The UK's largest High Street bingo operator, Gala, is being taken over byÛ_ https://t.co/HzeeykJUd3",
         "tweet_coord": "nan",
         "tweet_count": 112117,
         "tweet_created": "10/26/15 12:40",
         "tweet_id": 658730000000000000,
         "tweet_location": "nan",
         "user_timezone": "nan",
         "_deepnote_index_column": 7
        },
        {
         "_unit_id": 815719234,
         "_golden": false,
         "_unit_state": "finalized",
         "_trusted_judgments": 3,
         "_last_judgment_at": "10/27/15 1:52",
         "gender": "female",
         "gender:confidence": 1,
         "profile_yn": "yes",
         "profile_yn:confidence": 1,
         "created": "9/8/15 4:50",
         "description": "Pll Fan // Crazy about MCD // Ramen is bae",
         "fav_number": 1825,
         "gender_gold": "nan",
         "link_color": "9266CC",
         "name": "pigzilla_",
         "profile_yn_gold": "nan",
         "profileimage": "https://pbs.twimg.com/profile_images/658670112304709632/ZhhUs4WC_normal.jpg",
         "retweet_count": 0,
         "sidebar_color": "0",
         "text": "@_Aphmau_ the pic defines all mcd fangirls/fanboys and mcd shippers xD",
         "tweet_coord": "nan",
         "tweet_count": 482,
         "tweet_created": "10/26/15 12:40",
         "tweet_id": 658730000000000000,
         "tweet_location": "nan",
         "user_timezone": "nan",
         "_deepnote_index_column": 8
        },
        {
         "_unit_id": 815719235,
         "_golden": false,
         "_unit_state": "finalized",
         "_trusted_judgments": 3,
         "_last_judgment_at": "10/27/15 1:49",
         "gender": "female",
         "gender:confidence": 1,
         "profile_yn": "yes",
         "profile_yn:confidence": 1,
         "created": "5/13/11 3:32",
         "description": "Renaissance art historian, University of Nottingham; fuelled by Haribo, partial to coffee and with a soft spot for Renaissance China. National Teaching Fellow.",
         "fav_number": 3115,
         "gender_gold": "nan",
         "link_color": "9266CC",
         "name": "GabrieleNeher",
         "profile_yn_gold": "nan",
         "profileimage": "https://pbs.twimg.com/profile_images/513327289858535424/vrc79hs1_normal.jpeg",
         "retweet_count": 0,
         "sidebar_color": "FFFFFF",
         "text": "@Evielady just how lovely is the tree this year! Never seen it as gorgeous as this #Autumn #colour",
         "tweet_coord": "nan",
         "tweet_count": 26085,
         "tweet_created": "10/26/15 12:40",
         "tweet_id": 658730000000000000,
         "tweet_location": "Nottingham, England.",
         "user_timezone": "Amsterdam",
         "_deepnote_index_column": 9
        },
        {
         "_unit_id": 815719236,
         "_golden": false,
         "_unit_state": "finalized",
         "_trusted_judgments": 3,
         "_last_judgment_at": "10/26/15 23:17",
         "gender": "brand",
         "gender:confidence": 0.7002,
         "profile_yn": "yes",
         "profile_yn:confidence": 1,
         "created": "11/16/11 17:14",
         "description": "Clean food that tastes great while providing energy & nutrients! No guilt granola, vegan/paleo friendly options too! Cert organic, GF, kosher",
         "fav_number": 516,
         "gender_gold": "nan",
         "link_color": "0084B4",
         "name": "Blissful_Eats",
         "profile_yn_gold": "nan",
         "profileimage": "https://pbs.twimg.com/profile_images/653518467258257408/Gv6tlJfg_normal.jpg",
         "retweet_count": 0,
         "sidebar_color": "C0DEED",
         "text": "how are you taking care of yourself? https://t.co/OrL9u1P8YI #fitfluential",
         "tweet_coord": "nan",
         "tweet_count": 5179,
         "tweet_created": "10/26/15 12:40",
         "tweet_id": 658730000000000000,
         "tweet_location": "New York",
         "user_timezone": "Atlantic Time (Canada)",
         "_deepnote_index_column": 10
        },
        {
         "_unit_id": 815719237,
         "_golden": false,
         "_unit_state": "finalized",
         "_trusted_judgments": 3,
         "_last_judgment_at": "10/26/15 22:33",
         "gender": "brand",
         "gender:confidence": 1,
         "profile_yn": "yes",
         "profile_yn:confidence": 1,
         "created": "2/22/15 20:06",
         "description": "highly extraordinary auctions",
         "fav_number": 0,
         "gender_gold": "nan",
         "link_color": "0084B4",
         "name": "eliseotecleo",
         "profile_yn_gold": "nan",
         "profileimage": "https://pbs.twimg.com/profile_images/569710046712299520/TFSOX_An_normal.jpeg",
         "retweet_count": 0,
         "sidebar_color": "C0DEED",
         "text": "MTG Deals 1x Rank-Up-Magic - The Seventh One - PRIO-EN058 - Secret Rare - Unlimi https://t.co/Y22wyLpgnN https://t.co/VwagxMNohB",
         "tweet_coord": "nan",
         "tweet_count": 66684,
         "tweet_created": "10/26/15 12:40",
         "tweet_id": 658730000000000000,
         "tweet_location": "nan",
         "user_timezone": "Pacific Time (US & Canada)",
         "_deepnote_index_column": 11
        },
        {
         "_unit_id": 815719238,
         "_golden": false,
         "_unit_state": "finalized",
         "_trusted_judgments": 3,
         "_last_judgment_at": "10/26/15 22:20",
         "gender": "female",
         "gender:confidence": 0.6509,
         "profile_yn": "yes",
         "profile_yn:confidence": 1,
         "created": "8/10/12 5:05",
         "description": "Senior '16 . XI-XII-MMXIV.",
         "fav_number": 3371,
         "gender_gold": "nan",
         "link_color": "0084B4",
         "name": "kaylanabrewer_",
         "profile_yn_gold": "nan",
         "profileimage": "https://pbs.twimg.com/profile_images/651227967595483140/Mes6SNEO_normal.png",
         "retweet_count": 0,
         "sidebar_color": "FFFFFF",
         "text": "Just put my ass on the line for you and this is how you repay me.",
         "tweet_coord": "nan",
         "tweet_count": 13585,
         "tweet_created": "10/26/15 12:40",
         "tweet_id": 658730000000000000,
         "tweet_location": "nan",
         "user_timezone": "Atlantic Time (Canada)",
         "_deepnote_index_column": 12
        },
        {
         "_unit_id": 815719239,
         "_golden": false,
         "_unit_state": "finalized",
         "_trusted_judgments": 3,
         "_last_judgment_at": "10/26/15 23:29",
         "gender": "brand",
         "gender:confidence": 1,
         "profile_yn": "yes",
         "profile_yn:confidence": 1,
         "created": "5/1/12 22:14",
         "description": "Come join the fastest blog network online today http://t.co/S5mFPA1vgK and http://t.co/MPUuQtYF1g We cover credit repair, credit cards and bankruptcy.",
         "fav_number": 0,
         "gender_gold": "nan",
         "link_color": "2FC2EF",
         "name": "americacredit",
         "profile_yn_gold": "nan",
         "profileimage": "https://pbs.twimg.com/profile_images/2183715516/logo_121_normal.jpg",
         "retweet_count": 0,
         "sidebar_color": "181A1E",
         "text": "https://t.co/z4sbWUugd8 What the Nation Will Be Talking About After Wednesday's GOP Debates https://t.co/gIHIVyHF7G #business #now",
         "tweet_coord": "nan",
         "tweet_count": 199466,
         "tweet_created": "10/26/15 12:40",
         "tweet_id": 658730000000000000,
         "tweet_location": "America Credit",
         "user_timezone": "Pacific Time (US & Canada)",
         "_deepnote_index_column": 13
        },
        {
         "_unit_id": 815719240,
         "_golden": false,
         "_unit_state": "finalized",
         "_trusted_judgments": 3,
         "_last_judgment_at": "10/27/15 1:29",
         "gender": "female",
         "gender:confidence": 0.6501,
         "profile_yn": "yes",
         "profile_yn:confidence": 1,
         "created": "4/6/13 15:31",
         "description": "im just here for tÌüp, bo burnham, and disney world.",
         "fav_number": 13928,
         "gender_gold": "nan",
         "link_color": "0084B4",
         "name": "cheyflan",
         "profile_yn_gold": "nan",
         "profileimage": "https://pbs.twimg.com/profile_images/655943646815113216/gnRGy6pf_normal.jpg",
         "retweet_count": 0,
         "sidebar_color": "FFFFFF",
         "text": "will i even need sound effects for the diviners tonight",
         "tweet_coord": "nan",
         "tweet_count": 18469,
         "tweet_created": "10/26/15 12:40",
         "tweet_id": 658730000000000000,
         "tweet_location": "row b seat 104",
         "user_timezone": "Atlantic Time (Canada)",
         "_deepnote_index_column": 14
        },
        {
         "_unit_id": 815719241,
         "_golden": false,
         "_unit_state": "finalized",
         "_trusted_judgments": 3,
         "_last_judgment_at": "10/27/15 1:50",
         "gender": "female",
         "gender:confidence": 1,
         "profile_yn": "yes",
         "profile_yn:confidence": 1,
         "created": "10/3/15 21:32",
         "description": "nan",
         "fav_number": 0,
         "gender_gold": "nan",
         "link_color": "0084B4",
         "name": "Ayu7sith4",
         "profile_yn_gold": "nan",
         "profileimage": "https://pbs.twimg.com/profile_images/650530183737315328/mgnOVgHF_normal.jpg",
         "retweet_count": 0,
         "sidebar_color": "C0DEED",
         "text": "https://t.co/EROGWTFTYo It's a glow of satisfaction re The Glow https://t.co/7RdyMCVPKx",
         "tweet_coord": "nan",
         "tweet_count": 44421,
         "tweet_created": "10/26/15 12:40",
         "tweet_id": 658730000000000000,
         "tweet_location": "nan",
         "user_timezone": "nan",
         "_deepnote_index_column": 15
        },
        {
         "_unit_id": 815719242,
         "_golden": false,
         "_unit_state": "finalized",
         "_trusted_judgments": 3,
         "_last_judgment_at": "10/26/15 23:43",
         "gender": "female",
         "gender:confidence": 1,
         "profile_yn": "yes",
         "profile_yn:confidence": 1,
         "created": "8/27/11 9:42",
         "description": "JMKM_Òü",
         "fav_number": 1762,
         "gender_gold": "nan",
         "link_color": "58185",
         "name": "Toucaan_Samm",
         "profile_yn_gold": "nan",
         "profileimage": "https://pbs.twimg.com/profile_images/625025152720375808/QJNu2mgI_normal.jpg",
         "retweet_count": 0,
         "sidebar_color": "EEEEEE",
         "text": "@giannaaa28 lmao _Ù÷â_Ù÷â dude I'm hella scared for next episode bc the ending to yesterday's",
         "tweet_coord": "nan",
         "tweet_count": 16627,
         "tweet_created": "10/26/15 12:40",
         "tweet_id": 658730000000000000,
         "tweet_location": "nan",
         "user_timezone": "Arizona",
         "_deepnote_index_column": 16
        },
        {
         "_unit_id": 815719243,
         "_golden": false,
         "_unit_state": "finalized",
         "_trusted_judgments": 3,
         "_last_judgment_at": "10/26/15 22:50",
         "gender": "male",
         "gender:confidence": 1,
         "profile_yn": "yes",
         "profile_yn:confidence": 1,
         "created": "10/18/09 11:41",
         "description": "Over enthusiastic F1 fan.  Model collector, music fan and a film fanatic.  Also an Aspergian.",
         "fav_number": 5,
         "gender_gold": "nan",
         "link_color": "0084B4",
         "name": "SSmyth2010",
         "profile_yn_gold": "nan",
         "profileimage": "https://pbs.twimg.com/profile_images/613850179880517634/m_B2ujkb_normal.jpg",
         "retweet_count": 0,
         "sidebar_color": "C0DEED",
         "text": "@coolyazzy94 Ditto - I'm still learning the favourites and retweet stuff - least it sucks less than Facebook haha :P",
         "tweet_coord": "nan",
         "tweet_count": 91,
         "tweet_created": "10/26/15 12:40",
         "tweet_id": 658730000000000000,
         "tweet_location": "Glasgow",
         "user_timezone": "London",
         "_deepnote_index_column": 17
        },
        {
         "_unit_id": 815719244,
         "_golden": false,
         "_unit_state": "finalized",
         "_trusted_judgments": 3,
         "_last_judgment_at": "10/27/15 1:42",
         "gender": "male",
         "gender:confidence": 1,
         "profile_yn": "yes",
         "profile_yn:confidence": 1,
         "created": "7/20/15 12:01",
         "description": "nan",
         "fav_number": 1,
         "gender_gold": "nan",
         "link_color": "0084B4",
         "name": "DarkToonsGaming",
         "profile_yn_gold": "nan",
         "profileimage": "https://pbs.twimg.com/profile_images/623207306419916800/qKUdsaHU_normal.jpg",
         "retweet_count": 0,
         "sidebar_color": "C0DEED",
         "text": "@CaribBros @JstSaleem I do but I don't understand how to get to the server to get it",
         "tweet_coord": "nan",
         "tweet_count": 13,
         "tweet_created": "10/26/15 12:40",
         "tweet_id": 658730000000000000,
         "tweet_location": "nan",
         "user_timezone": "nan",
         "_deepnote_index_column": 18
        }
       ],
       "rows_bottom": [
        {
         "_unit_id": 815755604,
         "_golden": true,
         "_unit_state": "golden",
         "_trusted_judgments": 242,
         "_last_judgment_at": "nan",
         "gender": "male",
         "gender:confidence": 1,
         "profile_yn": "yes",
         "profile_yn:confidence": 1,
         "created": "11/22/11 22:41",
         "description": "nan",
         "fav_number": 25,
         "gender_gold": "male",
         "link_color": "0084B4",
         "name": "tik_L_my_pik_L",
         "profile_yn_gold": "yes",
         "profileimage": "https://pbs.twimg.com/profile_images/474040421434142721/bc3q0DNm_normal.jpeg",
         "retweet_count": 0,
         "sidebar_color": "C0DEED",
         "text": "Bun B saving kids and Ribs!!!...Not all heroes have capes!!! Black lives matter and SO DO RIBS TOO!!!Û_ https://t.co/FWg1mK1sHh",
         "tweet_coord": "nan",
         "tweet_count": 590,
         "tweet_created": "10/26/15 13:19",
         "tweet_id": 658740000000000000,
         "tweet_location": "Houston",
         "user_timezone": "nan",
         "_deepnote_index_column": 20031
        },
        {
         "_unit_id": 815755689,
         "_golden": true,
         "_unit_state": "golden",
         "_trusted_judgments": 260,
         "_last_judgment_at": "nan",
         "gender": "male",
         "gender:confidence": 1,
         "profile_yn": "yes",
         "profile_yn:confidence": 1,
         "created": "5/15/09 20:04",
         "description": "Amicable IT person. Self indulgent writer. Somehow licensed attorney. Dotaholic. #Streamfriends mod and chat barnacle!",
         "fav_number": 2651,
         "gender_gold": "male",
         "link_color": "0084B4",
         "name": "FauxBen",
         "profile_yn_gold": "yes",
         "profileimage": "https://pbs.twimg.com/profile_images/631251356016250880/JnxX9zXn_normal.jpg",
         "retweet_count": 0,
         "sidebar_color": "C0DEED",
         "text": "@legobutts you can do quests and kill stuff while wearing a mask and it'll get you candy you can use to get more masks without paying $",
         "tweet_coord": "nan",
         "tweet_count": 14165,
         "tweet_created": "10/26/15 13:20",
         "tweet_id": 658740000000000000,
         "tweet_location": "nan",
         "user_timezone": "Quito",
         "_deepnote_index_column": 20032
        },
        {
         "_unit_id": 815755763,
         "_golden": true,
         "_unit_state": "golden",
         "_trusted_judgments": 239,
         "_last_judgment_at": "nan",
         "gender": "female",
         "gender:confidence": 0.8431,
         "profile_yn": "yes",
         "profile_yn:confidence": 1,
         "created": "2/8/15 17:50",
         "description": "cis (she/her)/18/volleyball enthusiast/ i art sometimes/ qualified bird rider",
         "fav_number": 4351,
         "gender_gold": "female",
         "link_color": "B7EEE4",
         "name": "norainacad",
         "profile_yn_gold": "yes",
         "profileimage": "https://pbs.twimg.com/profile_images/648013424954355712/3hKH0mGe_normal.jpg",
         "retweet_count": 0,
         "sidebar_color": "0",
         "text": "i finally read blood of olympus and now that my children are all happy i can read the rest of my pile of books _ÙÔ_ÙÔ",
         "tweet_coord": "nan",
         "tweet_count": 5284,
         "tweet_created": "10/26/15 13:20",
         "tweet_id": 658740000000000000,
         "tweet_location": "brazil",
         "user_timezone": "nan",
         "_deepnote_index_column": 20033
        },
        {
         "_unit_id": 815755825,
         "_golden": true,
         "_unit_state": "golden",
         "_trusted_judgments": 264,
         "_last_judgment_at": "nan",
         "gender": "brand",
         "gender:confidence": 1,
         "profile_yn": "yes",
         "profile_yn:confidence": 1,
         "created": "7/21/11 11:30",
         "description": "Where Raleigh's dynamic leaders come to connect, host, work and play.",
         "fav_number": 192,
         "gender_gold": "brand",
         "link_color": "4A913C",
         "name": "CityClubRaleigh",
         "profile_yn_gold": "yes",
         "profileimage": "https://pbs.twimg.com/profile_images/461602825013710848/Cjy6v2Q8_normal.jpeg",
         "retweet_count": 0,
         "sidebar_color": "C0DEED",
         "text": "View the Community Halloween Spooktacular @CityClubRaleigh photo album!  https://t.co/NKn6ynsME0",
         "tweet_coord": "nan",
         "tweet_count": 2851,
         "tweet_created": "10/26/15 12:40",
         "tweet_id": 658730000000000000,
         "tweet_location": "Raleigh NC",
         "user_timezone": "Eastern Time (US & Canada)",
         "_deepnote_index_column": 20034
        },
        {
         "_unit_id": 815755887,
         "_golden": true,
         "_unit_state": "golden",
         "_trusted_judgments": 270,
         "_last_judgment_at": "nan",
         "gender": "female",
         "gender:confidence": 1,
         "profile_yn": "yes",
         "profile_yn:confidence": 1,
         "created": "5/14/10 9:44",
         "description": "25. love my friends & family. the color pink. MKTO followed (4/12/14) http://t.co/wYD0FPb3Zy :D #Lefty #LoverOfMusic  #NathanSykesIsMyFave",
         "fav_number": 436,
         "gender_gold": "female",
         "link_color": "B40B43",
         "name": "Cait89lovesTWD",
         "profile_yn_gold": "yes",
         "profileimage": "https://pbs.twimg.com/profile_images/608774064967168000/omV6PiUj_normal.jpg",
         "retweet_count": 0,
         "sidebar_color": "FFFFFF",
         "text": "Beetlejuice is the perfect Halloween movie!!!!! :-) #Beetlejuice #TimBurton",
         "tweet_coord": "nan",
         "tweet_count": 7004,
         "tweet_created": "10/26/15 12:39",
         "tweet_id": 658730000000000000,
         "tweet_location": "Raleigh, North Carolina",
         "user_timezone": "Atlantic Time (Canada)",
         "_deepnote_index_column": 20035
        },
        {
         "_unit_id": 815756011,
         "_golden": true,
         "_unit_state": "golden",
         "_trusted_judgments": 264,
         "_last_judgment_at": "nan",
         "gender": "female",
         "gender:confidence": 0.9622,
         "profile_yn": "yes",
         "profile_yn:confidence": 1,
         "created": "8/2/14 10:19",
         "description": "13 // snapchat: sianfreya.xÏ¬ @caitlin_zz_ü ~Jacks new haircut is not a lesbian cut its 2015 bitch~",
         "fav_number": 34710,
         "gender_gold": "female",
         "link_color": "0084B4",
         "name": "sianfreyaxo",
         "profile_yn_gold": "yes",
         "profileimage": "https://pbs.twimg.com/profile_images/652881466351820801/M_nVCYAL_normal.jpg",
         "retweet_count": 0,
         "sidebar_color": "C0DEED",
         "text": "@ItsLeeHinchy #LeesQANDA what's the story in balamory?",
         "tweet_coord": "nan",
         "tweet_count": 3094,
         "tweet_created": "10/26/15 12:40",
         "tweet_id": 658730000000000000,
         "tweet_location": "Yorkshire",
         "user_timezone": "nan",
         "_deepnote_index_column": 20036
        },
        {
         "_unit_id": 815756103,
         "_golden": true,
         "_unit_state": "golden",
         "_trusted_judgments": 259,
         "_last_judgment_at": "nan",
         "gender": "male",
         "gender:confidence": 1,
         "profile_yn": "yes",
         "profile_yn:confidence": 1,
         "created": "11/27/07 13:10",
         "description": "Typographer and typographic consultant, co-founder of @FontsInUse, @TypeDirectors board member, skateboarder, musician, printer, pizza fanatic.",
         "fav_number": 1762,
         "gender_gold": "male",
         "link_color": "990000",
         "name": "NickSherman",
         "profile_yn_gold": "yes",
         "profileimage": "https://pbs.twimg.com/profile_images/301147383/avatar_normal.jpg",
         "retweet_count": 0,
         "sidebar_color": "FFFFFF",
         "text": "@TrentWalton @oguzbilgic Spell it out in all-caps and I think you may have a candidate for a new Unicode character there.\ncc @EmojiProposals",
         "tweet_coord": "nan",
         "tweet_count": 9092,
         "tweet_created": "10/26/15 13:19",
         "tweet_id": 658740000000000000,
         "tweet_location": "Brooklyn, NY",
         "user_timezone": "Eastern Time (US & Canada)",
         "_deepnote_index_column": 20037
        },
        {
         "_unit_id": 815756269,
         "_golden": true,
         "_unit_state": "golden",
         "_trusted_judgments": 237,
         "_last_judgment_at": "nan",
         "gender": "brand",
         "gender:confidence": 0.8397,
         "profile_yn": "yes",
         "profile_yn:confidence": 1,
         "created": "1/16/12 21:21",
         "description": "The FUN site for Animal Lovers - Get the latest animal news, best pet tips and see all the fun stuff we have for animal lovers.",
         "fav_number": 0,
         "gender_gold": "brand",
         "link_color": "0084B4",
         "name": "PetsLady",
         "profile_yn_gold": "yes",
         "profileimage": "https://pbs.twimg.com/profile_images/1783662081/petslady_icon_90px_90px_normal.png",
         "retweet_count": 0,
         "sidebar_color": "C0DEED",
         "text": "Jon Stewart's Animal Sanctuary And Educational Center Begins On New Jersey Farm https://t.co/M5Ta7OIju3",
         "tweet_coord": "nan",
         "tweet_count": 7083,
         "tweet_created": "10/26/15 13:19",
         "tweet_id": 658740000000000000,
         "tweet_location": "nan",
         "user_timezone": "nan",
         "_deepnote_index_column": 20038
        },
        {
         "_unit_id": 815756332,
         "_golden": true,
         "_unit_state": "golden",
         "_trusted_judgments": 227,
         "_last_judgment_at": "nan",
         "gender": "female",
         "gender:confidence": 1,
         "profile_yn": "yes",
         "profile_yn:confidence": 1,
         "created": "2/21/12 18:36",
         "description": "You can find me where the wild things are",
         "fav_number": 281,
         "gender_gold": "female",
         "link_color": "0084B4",
         "name": "KaitlynAmendola",
         "profile_yn_gold": "yes",
         "profileimage": "https://pbs.twimg.com/profile_images/631301797588639745/hkkUDKvw_normal.jpg",
         "retweet_count": 0,
         "sidebar_color": "C0DEED",
         "text": "Especially when all you do is the best you can and you still get shit on",
         "tweet_coord": "nan",
         "tweet_count": 2034,
         "tweet_created": "10/26/15 12:39",
         "tweet_id": 658730000000000000,
         "tweet_location": "nan",
         "user_timezone": "nan",
         "_deepnote_index_column": 20039
        },
        {
         "_unit_id": 815756417,
         "_golden": true,
         "_unit_state": "golden",
         "_trusted_judgments": 253,
         "_last_judgment_at": "nan",
         "gender": "male",
         "gender:confidence": 0.8472,
         "profile_yn": "yes",
         "profile_yn:confidence": 1,
         "created": "8/16/13 14:48",
         "description": "Houston Chronicle Columnist  - ken.hoffman@chron.com",
         "fav_number": 50,
         "gender_gold": "male",
         "link_color": "DD2E44",
         "name": "KenChronicle",
         "profile_yn_gold": "yes",
         "profileimage": "https://pbs.twimg.com/profile_images/557215663895240705/9d1y0ieQ_normal.jpeg",
         "retweet_count": 0,
         "sidebar_color": "0",
         "text": "Discovered it in England. It's how they eat fish and chips.  Never went back to ketchup. https://t.co/tYIf6bZmX2",
         "tweet_coord": "nan",
         "tweet_count": 3084,
         "tweet_created": "10/26/15 13:19",
         "tweet_id": 658740000000000000,
         "tweet_location": "Houston, Texas",
         "user_timezone": "Central Time (US & Canada)",
         "_deepnote_index_column": 20040
        },
        {
         "_unit_id": 815756542,
         "_golden": true,
         "_unit_state": "golden",
         "_trusted_judgments": 252,
         "_last_judgment_at": "nan",
         "gender": "brand",
         "gender:confidence": 1,
         "profile_yn": "yes",
         "profile_yn:confidence": 1,
         "created": "8/11/11 10:01",
         "description": "When families go through divorce, it's helpful for parents to talk about the divorce with their children.  Mommy and Daddy are Getting a Divorce helps.",
         "fav_number": 2,
         "gender_gold": "brand",
         "link_color": "0084B4",
         "name": "MommyandDaddyar",
         "profile_yn_gold": "yes",
         "profileimage": "https://pbs.twimg.com/profile_images/1490168108/ChildrenOfDivorce-1_normal.jpg",
         "retweet_count": 0,
         "sidebar_color": "C0DEED",
         "text": "For Stan and Lisa... has #Coffee Cup at https://t.co/isnPirE5ZI #UFO",
         "tweet_coord": "nan",
         "tweet_count": 105864,
         "tweet_created": "10/26/15 13:19",
         "tweet_id": 658740000000000000,
         "tweet_location": "Colorado",
         "user_timezone": "Mountain Time (US & Canada)",
         "_deepnote_index_column": 20041
        },
        {
         "_unit_id": 815756642,
         "_golden": true,
         "_unit_state": "golden",
         "_trusted_judgments": 212,
         "_last_judgment_at": "nan",
         "gender": "brand",
         "gender:confidence": 0.6364,
         "profile_yn": "yes",
         "profile_yn:confidence": 1,
         "created": "6/8/14 19:07",
         "description": "Reviews of delectable #food, picturesque #travel and kickass riveting events. #Miami #Austin #LA #NYC #NOLA #Dallas #Houston #Chicago #Phoenix #Portland #DC",
         "fav_number": 536,
         "gender_gold": "unknown",
         "link_color": "A30000",
         "name": "HedonistShednst",
         "profile_yn_gold": "yes",
         "profileimage": "https://pbs.twimg.com/profile_images/616770699554869248/Z4RnyIk-_normal.jpg",
         "retweet_count": 0,
         "sidebar_color": "948C75",
         "text": "Best Bloody Mary Brunch at the #NYCWFF @nyceff @deathsdoor @HomemadeDelish @MenageaTroisÛ_ https://t.co/YtmiRfmoLp https://t.co/tuMsFceTlG",
         "tweet_coord": "nan",
         "tweet_count": 5900,
         "tweet_created": "10/26/15 12:40",
         "tweet_id": 658730000000000000,
         "tweet_location": "Miami, FL",
         "user_timezone": "Eastern Time (US & Canada)",
         "_deepnote_index_column": 20042
        },
        {
         "_unit_id": 815756700,
         "_golden": true,
         "_unit_state": "golden",
         "_trusted_judgments": 240,
         "_last_judgment_at": "nan",
         "gender": "male",
         "gender:confidence": 1,
         "profile_yn": "yes",
         "profile_yn:confidence": 1,
         "created": "9/27/11 0:19",
         "description": "Head Chef, Chez Bruce. Loves Cars and Bicycles. 90% Food!",
         "fav_number": 3879,
         "gender_gold": "male",
         "link_color": "0099B9",
         "name": "MattChristmas1",
         "profile_yn_gold": "yes",
         "profileimage": "https://pbs.twimg.com/profile_images/378800000633720648/34bb229b4b51a80a2e0f3d57a193c67d_normal.jpeg",
         "retweet_count": 1,
         "sidebar_color": "5ED4DC",
         "text": "Game faggot and venison loin, crisp spelt and quince https://t.co/yvslN17siI",
         "tweet_coord": "nan",
         "tweet_count": 8193,
         "tweet_created": "10/26/15 13:19",
         "tweet_id": 658740000000000000,
         "tweet_location": "Chertsey Bridge",
         "user_timezone": "nan",
         "_deepnote_index_column": 20043
        },
        {
         "_unit_id": 815756767,
         "_golden": true,
         "_unit_state": "golden",
         "_trusted_judgments": 227,
         "_last_judgment_at": "nan",
         "gender": "female",
         "gender:confidence": 1,
         "profile_yn": "yes",
         "profile_yn:confidence": 1,
         "created": "6/11/14 1:55",
         "description": "I Love Me...Myself....&....I",
         "fav_number": 632,
         "gender_gold": "female",
         "link_color": "0084B4",
         "name": "Bigbootyyjudy_",
         "profile_yn_gold": "yes",
         "profileimage": "https://pbs.twimg.com/profile_images/643483977748226049/z2stOBV5_normal.jpg",
         "retweet_count": 0,
         "sidebar_color": "C0DEED",
         "text": "Need A Ride Home From Practice _Ù÷Ô_Ù÷Ô_Ù÷ÔAnd its Raining Hard Asf _Ù÷©_Ù÷©_Ù÷©_ÙÕø",
         "tweet_coord": "nan",
         "tweet_count": 6669,
         "tweet_created": "10/26/15 13:19",
         "tweet_id": 658740000000000000,
         "tweet_location": "nan",
         "user_timezone": "nan",
         "_deepnote_index_column": 20044
        },
        {
         "_unit_id": 815757572,
         "_golden": true,
         "_unit_state": "golden",
         "_trusted_judgments": 259,
         "_last_judgment_at": "nan",
         "gender": "female",
         "gender:confidence": 1,
         "profile_yn": "yes",
         "profile_yn:confidence": 1,
         "created": "8/5/15 21:16",
         "description": "(rp)",
         "fav_number": 302,
         "gender_gold": "female",
         "link_color": "0084B4",
         "name": "capuletrosa",
         "profile_yn_gold": "yes",
         "profileimage": "https://pbs.twimg.com/profile_images/656793310510497792/ba6dkgOE_normal.jpg",
         "retweet_count": 0,
         "sidebar_color": "C0DEED",
         "text": "@lookupondeath ...Fine, and I'll drink tea too. I love you.",
         "tweet_coord": "nan",
         "tweet_count": 783,
         "tweet_created": "10/26/15 13:20",
         "tweet_id": 658740000000000000,
         "tweet_location": "Verona ªÁ",
         "user_timezone": "nan",
         "_deepnote_index_column": 20045
        },
        {
         "_unit_id": 815757681,
         "_golden": true,
         "_unit_state": "golden",
         "_trusted_judgments": 248,
         "_last_judgment_at": "nan",
         "gender": "male",
         "gender:confidence": 1,
         "profile_yn": "yes",
         "profile_yn:confidence": 1,
         "created": "8/15/12 21:17",
         "description": "Whatever you like, it's not a problem at all. 9/1/15  #ChargerNation #ForeverRoyal #20 #EDM #MustFollow",
         "fav_number": 2513,
         "gender_gold": "male",
         "link_color": "CFB929",
         "name": "BenNight41",
         "profile_yn_gold": "yes",
         "profileimage": "https://pbs.twimg.com/profile_images/639815429897129984/7gUkqd1k_normal.jpg",
         "retweet_count": 0,
         "sidebar_color": "0",
         "text": "Greg Hardy you a good player and all but don't get in the face of Dez Bryant. Learn your place mane.",
         "tweet_coord": "nan",
         "tweet_count": 13523,
         "tweet_created": "10/26/15 12:40",
         "tweet_id": 658730000000000000,
         "tweet_location": "Kansas City, MO",
         "user_timezone": "nan",
         "_deepnote_index_column": 20046
        },
        {
         "_unit_id": 815757830,
         "_golden": true,
         "_unit_state": "golden",
         "_trusted_judgments": 264,
         "_last_judgment_at": "nan",
         "gender": "male",
         "gender:confidence": 1,
         "profile_yn": "yes",
         "profile_yn:confidence": 1,
         "created": "9/3/12 1:17",
         "description": "#TeamBarcelona ..You look lost so you should follow me!!! ...follow your heart but bring your brain with you..#Okbye",
         "fav_number": 50,
         "gender_gold": "male",
         "link_color": "0084B4",
         "name": "realuzzyfluxz",
         "profile_yn_gold": "yes",
         "profileimage": "https://pbs.twimg.com/profile_images/655473271106883584/KcFQoRNK_normal.png",
         "retweet_count": 0,
         "sidebar_color": "C0DEED",
         "text": "You can miss people and still never want to see them again",
         "tweet_coord": "nan",
         "tweet_count": 26419,
         "tweet_created": "10/26/15 13:20",
         "tweet_id": 658740000000000000,
         "tweet_location": "Lagos Nigeria ",
         "user_timezone": "nan",
         "_deepnote_index_column": 20047
        },
        {
         "_unit_id": 815757921,
         "_golden": true,
         "_unit_state": "golden",
         "_trusted_judgments": 250,
         "_last_judgment_at": "nan",
         "gender": "female",
         "gender:confidence": 0.8489,
         "profile_yn": "yes",
         "profile_yn:confidence": 1,
         "created": "11/6/12 23:46",
         "description": "Anti-statist; I homeschool my kids. Aspiring thoughtleader in the field of disjunction. Obligate carnivore. Writing @haskellbook with @bitemyapp.",
         "fav_number": 70804,
         "gender_gold": "female",
         "link_color": "9266CC",
         "name": "argumatronic",
         "profile_yn_gold": "yes",
         "profileimage": "https://pbs.twimg.com/profile_images/657716093448908800/g94MXoLn_normal.jpg",
         "retweet_count": 0,
         "sidebar_color": "0",
         "text": "@bitemyapp i had noticed your tendency to pee on the carpet, but i didn't want to say anything :P",
         "tweet_coord": "nan",
         "tweet_count": 56073,
         "tweet_created": "10/26/15 12:40",
         "tweet_id": 658730000000000000,
         "tweet_location": "Texas Hill Country",
         "user_timezone": "nan",
         "_deepnote_index_column": 20048
        },
        {
         "_unit_id": 815757985,
         "_golden": true,
         "_unit_state": "golden",
         "_trusted_judgments": 249,
         "_last_judgment_at": "nan",
         "gender": "female",
         "gender:confidence": 1,
         "profile_yn": "yes",
         "profile_yn:confidence": 1,
         "created": "4/14/14 17:22",
         "description": "Teamwork makes the dream work.",
         "fav_number": 3348,
         "gender_gold": "female",
         "link_color": "0084B4",
         "name": "MeganFitz20",
         "profile_yn_gold": "yes",
         "profileimage": "https://pbs.twimg.com/profile_images/655134724663484417/18aEAvqd_normal.jpg",
         "retweet_count": 0,
         "sidebar_color": "C0DEED",
         "text": "I think for my APUSH creative project I'm going to bring bacon to class and eat it to represent Bacon's Rebellion",
         "tweet_coord": "nan",
         "tweet_count": 2922,
         "tweet_created": "10/26/15 13:19",
         "tweet_id": 658740000000000000,
         "tweet_location": "nan",
         "user_timezone": "nan",
         "_deepnote_index_column": 20049
        }
       ]
      },
      "text/plain": "        _unit_id  _golden _unit_state  _trusted_judgments _last_judgment_at  \\\n0      815719226    False   finalized                   3    10/26/15 23:24   \n1      815719227    False   finalized                   3    10/26/15 23:30   \n2      815719228    False   finalized                   3    10/26/15 23:33   \n3      815719229    False   finalized                   3    10/26/15 23:10   \n4      815719230    False   finalized                   3     10/27/15 1:15   \n...          ...      ...         ...                 ...               ...   \n20045  815757572     True      golden                 259               NaN   \n20046  815757681     True      golden                 248               NaN   \n20047  815757830     True      golden                 264               NaN   \n20048  815757921     True      golden                 250               NaN   \n20049  815757985     True      golden                 249               NaN   \n\n       gender  gender:confidence profile_yn  profile_yn:confidence  \\\n0        male             1.0000        yes                    1.0   \n1        male             1.0000        yes                    1.0   \n2        male             0.6625        yes                    1.0   \n3        male             1.0000        yes                    1.0   \n4      female             1.0000        yes                    1.0   \n...       ...                ...        ...                    ...   \n20045  female             1.0000        yes                    1.0   \n20046    male             1.0000        yes                    1.0   \n20047    male             1.0000        yes                    1.0   \n20048  female             0.8489        yes                    1.0   \n20049  female             1.0000        yes                    1.0   \n\n              created  ...                                       profileimage  \\\n0        12/5/13 1:48  ...  https://pbs.twimg.com/profile_images/414342229...   \n1       10/1/12 13:51  ...  https://pbs.twimg.com/profile_images/539604221...   \n2      11/28/14 11:30  ...  https://pbs.twimg.com/profile_images/657330418...   \n3       6/11/09 22:39  ...  https://pbs.twimg.com/profile_images/259703936...   \n4       4/16/14 13:23  ...  https://pbs.twimg.com/profile_images/564094871...   \n...               ...  ...                                                ...   \n20045    8/5/15 21:16  ...  https://pbs.twimg.com/profile_images/656793310...   \n20046   8/15/12 21:17  ...  https://pbs.twimg.com/profile_images/639815429...   \n20047     9/3/12 1:17  ...  https://pbs.twimg.com/profile_images/655473271...   \n20048   11/6/12 23:46  ...  https://pbs.twimg.com/profile_images/657716093...   \n20049   4/14/14 17:22  ...  https://pbs.twimg.com/profile_images/655134724...   \n\n       retweet_count sidebar_color  \\\n0                  0        FFFFFF   \n1                  0        C0DEED   \n2                  1        C0DEED   \n3                  0        C0DEED   \n4                  0             0   \n...              ...           ...   \n20045              0        C0DEED   \n20046              0             0   \n20047              0        C0DEED   \n20048              0             0   \n20049              0        C0DEED   \n\n                                                    text tweet_coord  \\\n0      Robbie E Responds To Critics After Win Against...         NaN   \n1      ÛÏIt felt like they were my friends and I was...         NaN   \n2      i absolutely adore when louis starts the songs...         NaN   \n3      Hi @JordanSpieth - Looking at the url - do you...         NaN   \n4      Watching Neighbours on Sky+ catching up with t...         NaN   \n...                                                  ...         ...   \n20045  @lookupondeath ...Fine, and I'll drink tea too...         NaN   \n20046  Greg Hardy you a good player and all but don't...         NaN   \n20047  You can miss people and still never want to se...         NaN   \n20048  @bitemyapp i had noticed your tendency to pee ...         NaN   \n20049  I think for my APUSH creative project I'm goin...         NaN   \n\n      tweet_count   tweet_created      tweet_id      tweet_location  \\\n0          110964  10/26/15 12:40  6.587300e+17     main; @Kan1shk3   \n1            7471  10/26/15 12:40  6.587300e+17                 NaN   \n2            5617  10/26/15 12:40  6.587300e+17              clcncl   \n3            1693  10/26/15 12:40  6.587300e+17       Palo Alto, CA   \n4           31462  10/26/15 12:40  6.587300e+17                 NaN   \n...           ...             ...           ...                 ...   \n20045         783  10/26/15 13:20  6.587400e+17          Verona ªÁ   \n20046       13523  10/26/15 12:40  6.587300e+17     Kansas City, MO   \n20047       26419  10/26/15 13:20  6.587400e+17      Lagos Nigeria    \n20048       56073  10/26/15 12:40  6.587300e+17  Texas Hill Country   \n20049        2922  10/26/15 13:19  6.587400e+17                 NaN   \n\n                    user_timezone  \n0                         Chennai  \n1      Eastern Time (US & Canada)  \n2                        Belgrade  \n3      Pacific Time (US & Canada)  \n4                             NaN  \n...                           ...  \n20045                         NaN  \n20046                         NaN  \n20047                         NaN  \n20048                         NaN  \n20049                         NaN  \n\n[20050 rows x 26 columns]",
      "text/html": "<div>\n<style scoped>\n    .dataframe tbody tr th:only-of-type {\n        vertical-align: middle;\n    }\n\n    .dataframe tbody tr th {\n        vertical-align: top;\n    }\n\n    .dataframe thead th {\n        text-align: right;\n    }\n</style>\n<table border=\"1\" class=\"dataframe\">\n  <thead>\n    <tr style=\"text-align: right;\">\n      <th></th>\n      <th>_unit_id</th>\n      <th>_golden</th>\n      <th>_unit_state</th>\n      <th>_trusted_judgments</th>\n      <th>_last_judgment_at</th>\n      <th>gender</th>\n      <th>gender:confidence</th>\n      <th>profile_yn</th>\n      <th>profile_yn:confidence</th>\n      <th>created</th>\n      <th>...</th>\n      <th>profileimage</th>\n      <th>retweet_count</th>\n      <th>sidebar_color</th>\n      <th>text</th>\n      <th>tweet_coord</th>\n      <th>tweet_count</th>\n      <th>tweet_created</th>\n      <th>tweet_id</th>\n      <th>tweet_location</th>\n      <th>user_timezone</th>\n    </tr>\n  </thead>\n  <tbody>\n    <tr>\n      <th>0</th>\n      <td>815719226</td>\n      <td>False</td>\n      <td>finalized</td>\n      <td>3</td>\n      <td>10/26/15 23:24</td>\n      <td>male</td>\n      <td>1.0000</td>\n      <td>yes</td>\n      <td>1.0</td>\n      <td>12/5/13 1:48</td>\n      <td>...</td>\n      <td>https://pbs.twimg.com/profile_images/414342229...</td>\n      <td>0</td>\n      <td>FFFFFF</td>\n      <td>Robbie E Responds To Critics After Win Against...</td>\n      <td>NaN</td>\n      <td>110964</td>\n      <td>10/26/15 12:40</td>\n      <td>6.587300e+17</td>\n      <td>main; @Kan1shk3</td>\n      <td>Chennai</td>\n    </tr>\n    <tr>\n      <th>1</th>\n      <td>815719227</td>\n      <td>False</td>\n      <td>finalized</td>\n      <td>3</td>\n      <td>10/26/15 23:30</td>\n      <td>male</td>\n      <td>1.0000</td>\n      <td>yes</td>\n      <td>1.0</td>\n      <td>10/1/12 13:51</td>\n      <td>...</td>\n      <td>https://pbs.twimg.com/profile_images/539604221...</td>\n      <td>0</td>\n      <td>C0DEED</td>\n      <td>ÛÏIt felt like they were my friends and I was...</td>\n      <td>NaN</td>\n      <td>7471</td>\n      <td>10/26/15 12:40</td>\n      <td>6.587300e+17</td>\n      <td>NaN</td>\n      <td>Eastern Time (US &amp; Canada)</td>\n    </tr>\n    <tr>\n      <th>2</th>\n      <td>815719228</td>\n      <td>False</td>\n      <td>finalized</td>\n      <td>3</td>\n      <td>10/26/15 23:33</td>\n      <td>male</td>\n      <td>0.6625</td>\n      <td>yes</td>\n      <td>1.0</td>\n      <td>11/28/14 11:30</td>\n      <td>...</td>\n      <td>https://pbs.twimg.com/profile_images/657330418...</td>\n      <td>1</td>\n      <td>C0DEED</td>\n      <td>i absolutely adore when louis starts the songs...</td>\n      <td>NaN</td>\n      <td>5617</td>\n      <td>10/26/15 12:40</td>\n      <td>6.587300e+17</td>\n      <td>clcncl</td>\n      <td>Belgrade</td>\n    </tr>\n    <tr>\n      <th>3</th>\n      <td>815719229</td>\n      <td>False</td>\n      <td>finalized</td>\n      <td>3</td>\n      <td>10/26/15 23:10</td>\n      <td>male</td>\n      <td>1.0000</td>\n      <td>yes</td>\n      <td>1.0</td>\n      <td>6/11/09 22:39</td>\n      <td>...</td>\n      <td>https://pbs.twimg.com/profile_images/259703936...</td>\n      <td>0</td>\n      <td>C0DEED</td>\n      <td>Hi @JordanSpieth - Looking at the url - do you...</td>\n      <td>NaN</td>\n      <td>1693</td>\n      <td>10/26/15 12:40</td>\n      <td>6.587300e+17</td>\n      <td>Palo Alto, CA</td>\n      <td>Pacific Time (US &amp; Canada)</td>\n    </tr>\n    <tr>\n      <th>4</th>\n      <td>815719230</td>\n      <td>False</td>\n      <td>finalized</td>\n      <td>3</td>\n      <td>10/27/15 1:15</td>\n      <td>female</td>\n      <td>1.0000</td>\n      <td>yes</td>\n      <td>1.0</td>\n      <td>4/16/14 13:23</td>\n      <td>...</td>\n      <td>https://pbs.twimg.com/profile_images/564094871...</td>\n      <td>0</td>\n      <td>0</td>\n      <td>Watching Neighbours on Sky+ catching up with t...</td>\n      <td>NaN</td>\n      <td>31462</td>\n      <td>10/26/15 12:40</td>\n      <td>6.587300e+17</td>\n      <td>NaN</td>\n      <td>NaN</td>\n    </tr>\n    <tr>\n      <th>...</th>\n      <td>...</td>\n      <td>...</td>\n      <td>...</td>\n      <td>...</td>\n      <td>...</td>\n      <td>...</td>\n      <td>...</td>\n      <td>...</td>\n      <td>...</td>\n      <td>...</td>\n      <td>...</td>\n      <td>...</td>\n      <td>...</td>\n      <td>...</td>\n      <td>...</td>\n      <td>...</td>\n      <td>...</td>\n      <td>...</td>\n      <td>...</td>\n      <td>...</td>\n      <td>...</td>\n    </tr>\n    <tr>\n      <th>20045</th>\n      <td>815757572</td>\n      <td>True</td>\n      <td>golden</td>\n      <td>259</td>\n      <td>NaN</td>\n      <td>female</td>\n      <td>1.0000</td>\n      <td>yes</td>\n      <td>1.0</td>\n      <td>8/5/15 21:16</td>\n      <td>...</td>\n      <td>https://pbs.twimg.com/profile_images/656793310...</td>\n      <td>0</td>\n      <td>C0DEED</td>\n      <td>@lookupondeath ...Fine, and I'll drink tea too...</td>\n      <td>NaN</td>\n      <td>783</td>\n      <td>10/26/15 13:20</td>\n      <td>6.587400e+17</td>\n      <td>Verona ªÁ</td>\n      <td>NaN</td>\n    </tr>\n    <tr>\n      <th>20046</th>\n      <td>815757681</td>\n      <td>True</td>\n      <td>golden</td>\n      <td>248</td>\n      <td>NaN</td>\n      <td>male</td>\n      <td>1.0000</td>\n      <td>yes</td>\n      <td>1.0</td>\n      <td>8/15/12 21:17</td>\n      <td>...</td>\n      <td>https://pbs.twimg.com/profile_images/639815429...</td>\n      <td>0</td>\n      <td>0</td>\n      <td>Greg Hardy you a good player and all but don't...</td>\n      <td>NaN</td>\n      <td>13523</td>\n      <td>10/26/15 12:40</td>\n      <td>6.587300e+17</td>\n      <td>Kansas City, MO</td>\n      <td>NaN</td>\n    </tr>\n    <tr>\n      <th>20047</th>\n      <td>815757830</td>\n      <td>True</td>\n      <td>golden</td>\n      <td>264</td>\n      <td>NaN</td>\n      <td>male</td>\n      <td>1.0000</td>\n      <td>yes</td>\n      <td>1.0</td>\n      <td>9/3/12 1:17</td>\n      <td>...</td>\n      <td>https://pbs.twimg.com/profile_images/655473271...</td>\n      <td>0</td>\n      <td>C0DEED</td>\n      <td>You can miss people and still never want to se...</td>\n      <td>NaN</td>\n      <td>26419</td>\n      <td>10/26/15 13:20</td>\n      <td>6.587400e+17</td>\n      <td>Lagos Nigeria</td>\n      <td>NaN</td>\n    </tr>\n    <tr>\n      <th>20048</th>\n      <td>815757921</td>\n      <td>True</td>\n      <td>golden</td>\n      <td>250</td>\n      <td>NaN</td>\n      <td>female</td>\n      <td>0.8489</td>\n      <td>yes</td>\n      <td>1.0</td>\n      <td>11/6/12 23:46</td>\n      <td>...</td>\n      <td>https://pbs.twimg.com/profile_images/657716093...</td>\n      <td>0</td>\n      <td>0</td>\n      <td>@bitemyapp i had noticed your tendency to pee ...</td>\n      <td>NaN</td>\n      <td>56073</td>\n      <td>10/26/15 12:40</td>\n      <td>6.587300e+17</td>\n      <td>Texas Hill Country</td>\n      <td>NaN</td>\n    </tr>\n    <tr>\n      <th>20049</th>\n      <td>815757985</td>\n      <td>True</td>\n      <td>golden</td>\n      <td>249</td>\n      <td>NaN</td>\n      <td>female</td>\n      <td>1.0000</td>\n      <td>yes</td>\n      <td>1.0</td>\n      <td>4/14/14 17:22</td>\n      <td>...</td>\n      <td>https://pbs.twimg.com/profile_images/655134724...</td>\n      <td>0</td>\n      <td>C0DEED</td>\n      <td>I think for my APUSH creative project I'm goin...</td>\n      <td>NaN</td>\n      <td>2922</td>\n      <td>10/26/15 13:19</td>\n      <td>6.587400e+17</td>\n      <td>NaN</td>\n      <td>NaN</td>\n    </tr>\n  </tbody>\n</table>\n<p>20050 rows × 26 columns</p>\n</div>"
     },
     "metadata": {}
    }
   ]
  },
  {
   "cell_type": "code",
   "metadata": {
    "tags": [],
    "cell_id": "00005-e72e6df1-74ad-4dff-a006-5e30aa6f96c0",
    "deepnote_to_be_reexecuted": false,
    "source_hash": "fc0570f",
    "execution_millis": 73,
    "execution_start": 1618849482230,
    "deepnote_cell_type": "code"
   },
   "source": "data[[\"text\", \"gender\"]]",
   "execution_count": null,
   "outputs": [
    {
     "output_type": "execute_result",
     "execution_count": 5,
     "data": {
      "application/vnd.deepnote.dataframe.v2+json": {
       "row_count": 20050,
       "column_count": 2,
       "columns": [
        {
         "name": "text",
         "dtype": "object",
         "stats": {
          "unique_count": 18412,
          "nan_count": 0,
          "categories": [
           {
            "name": "EVERYDAYILOVEYOU Forevermore\n\nand what makes it last\n\n#PushAwardsLizQuens",
            "count": 193
           },
           {
            "name": "Get Weather Updates from The Weather Channel. 15:40:07",
            "count": 91
           },
           {
            "name": "18410 others",
            "count": 19766
           }
          ]
         }
        },
        {
         "name": "gender",
         "dtype": "object",
         "stats": {
          "unique_count": 4,
          "nan_count": 97,
          "categories": [
           {
            "name": "female",
            "count": 6700
           },
           {
            "name": "3 others",
            "count": 13253
           },
           {
            "name": "Missing",
            "count": 97
           }
          ]
         }
        },
        {
         "name": "_deepnote_index_column",
         "dtype": "int64"
        }
       ],
       "rows_top": [
        {
         "text": "Robbie E Responds To Critics After Win Against Eddie Edwards In The #WorldTitleSeries https://t.co/NSybBmVjKZ",
         "gender": "male",
         "_deepnote_index_column": 0
        },
        {
         "text": "ÛÏIt felt like they were my friends and I was living the story with themÛ https://t.co/arngE0YHNO #retired #IAN1 https://t.co/CIzCANPQFz",
         "gender": "male",
         "_deepnote_index_column": 1
        },
        {
         "text": "i absolutely adore when louis starts the songs it hits me hard but it feels good",
         "gender": "male",
         "_deepnote_index_column": 2
        },
        {
         "text": "Hi @JordanSpieth - Looking at the url - do you use @IFTTT?!  Don't typically see an advanced user on the @PGATOUR! https://t.co/H68ou5PE9L",
         "gender": "male",
         "_deepnote_index_column": 3
        },
        {
         "text": "Watching Neighbours on Sky+ catching up with the Neighbs!! Xxx _Ù÷Ä_Ù÷Ä_Ù÷Ä_ÙÔÎ_ÙÈ_ÙÔ_ÙÈ Xxx",
         "gender": "female",
         "_deepnote_index_column": 4
        },
        {
         "text": "Ive seen people on the train with lamps, chairs, tvs etc  https://t.co/w6zf4pVM4I",
         "gender": "female",
         "_deepnote_index_column": 5
        },
        {
         "text": "@BpackEngineer Thank you for your patience while we take care of the issue!",
         "gender": "brand",
         "_deepnote_index_column": 6
        },
        {
         "text": "Gala Bingo clubs bought for å£241m: The UK's largest High Street bingo operator, Gala, is being taken over byÛ_ https://t.co/HzeeykJUd3",
         "gender": "male",
         "_deepnote_index_column": 7
        },
        {
         "text": "@_Aphmau_ the pic defines all mcd fangirls/fanboys and mcd shippers xD",
         "gender": "female",
         "_deepnote_index_column": 8
        },
        {
         "text": "@Evielady just how lovely is the tree this year! Never seen it as gorgeous as this #Autumn #colour",
         "gender": "female",
         "_deepnote_index_column": 9
        },
        {
         "text": "how are you taking care of yourself? https://t.co/OrL9u1P8YI #fitfluential",
         "gender": "brand",
         "_deepnote_index_column": 10
        },
        {
         "text": "MTG Deals 1x Rank-Up-Magic - The Seventh One - PRIO-EN058 - Secret Rare - Unlimi https://t.co/Y22wyLpgnN https://t.co/VwagxMNohB",
         "gender": "brand",
         "_deepnote_index_column": 11
        },
        {
         "text": "Just put my ass on the line for you and this is how you repay me.",
         "gender": "female",
         "_deepnote_index_column": 12
        },
        {
         "text": "https://t.co/z4sbWUugd8 What the Nation Will Be Talking About After Wednesday's GOP Debates https://t.co/gIHIVyHF7G #business #now",
         "gender": "brand",
         "_deepnote_index_column": 13
        },
        {
         "text": "will i even need sound effects for the diviners tonight",
         "gender": "female",
         "_deepnote_index_column": 14
        },
        {
         "text": "https://t.co/EROGWTFTYo It's a glow of satisfaction re The Glow https://t.co/7RdyMCVPKx",
         "gender": "female",
         "_deepnote_index_column": 15
        },
        {
         "text": "@giannaaa28 lmao _Ù÷â_Ù÷â dude I'm hella scared for next episode bc the ending to yesterday's",
         "gender": "female",
         "_deepnote_index_column": 16
        },
        {
         "text": "@coolyazzy94 Ditto - I'm still learning the favourites and retweet stuff - least it sucks less than Facebook haha :P",
         "gender": "male",
         "_deepnote_index_column": 17
        },
        {
         "text": "@CaribBros @JstSaleem I do but I don't understand how to get to the server to get it",
         "gender": "male",
         "_deepnote_index_column": 18
        },
        {
         "text": "Me too, saw five lionesses drinking around the little pan one half block away, made a kill behind land R.   #SafariLive",
         "gender": "unknown",
         "_deepnote_index_column": 19
        },
        {
         "text": "@CraftYear2015 @isabelpascual thank you for the retweets",
         "gender": "female",
         "_deepnote_index_column": 20
        },
        {
         "text": "All the girls went to sleep and the guys just sat in the floor and watched us_Ù÷â_Ù÷â",
         "gender": "female",
         "_deepnote_index_column": 21
        },
        {
         "text": "@ChrisAOfficial I'm on the right side_Ù÷âÏÎ_Ù_üxxx",
         "gender": "female",
         "_deepnote_index_column": 22
        },
        {
         "text": "YALL LMFAOO RIGHT WHEN THE CHORUS CAME ON, A TEAR ROLLED DOWN HIS FACE https://t.co/aYuQDPtvsE",
         "gender": "male",
         "_deepnote_index_column": 23
        },
        {
         "text": "James Bond premier night at the @Everymancinema in Oxted with @SidiEdey. Let's hope it lives up to expectation! #SPECTRE",
         "gender": "male",
         "_deepnote_index_column": 24
        },
        {
         "text": "@SydnieJR except once the Hallmark movies start I won't get anything done!! _Ù÷__Ù__Ù_ã",
         "gender": "female",
         "_deepnote_index_column": 25
        },
        {
         "text": "How beautiful is the religion which teaches you to love for others what you love for yourself!\n #Islam #Muslim #muslims",
         "gender": "brand",
         "_deepnote_index_column": 26
        },
        {
         "text": "Fuck you ! NASA is awesome. https://t.co/wIUkltDTyO",
         "gender": "brand",
         "_deepnote_index_column": 27
        },
        {
         "text": "You leave the group chat for more than 2 mins and you miss made shit",
         "gender": "female",
         "_deepnote_index_column": 28
        },
        {
         "text": "As opposed to Pump where it's like HI HOPE YOU LIKE DOING JUMPS WHERE YOU SPREAD YOUR FEET ACROSS THE ENTIRE STAGE",
         "gender": "male",
         "_deepnote_index_column": 29
        },
        {
         "text": "Reality Series Û÷Monica the MediumÛª Gets Season 2 on ABC Family https://t.co/Q62PP17sJe https://t.co/GOHuoOHQky",
         "gender": "brand",
         "_deepnote_index_column": 30
        },
        {
         "text": "All the #magic in Hath No FURY is based on REAL #Magick! https://t.co/jwpsVhAU1E",
         "gender": "male",
         "_deepnote_index_column": 31
        },
        {
         "text": "Me the week of Brandon's birthday: there's no such thing as a birthday week u weirdo\nMe November 1st: it's my birthday month, bow down to me",
         "gender": "female",
         "_deepnote_index_column": 32
        },
        {
         "text": "And got more yards AND points than the Jets gave up all season. https://t.co/gdfkaOxcDD",
         "gender": "male",
         "_deepnote_index_column": 33
        },
        {
         "text": "Gala Bingo clubs bought for å£241m: The UK's largest High Street bingo operator, Gala, isÛ_ https://t.co/eXhmGLr869 https://t.co/6xjB8Kxjis",
         "gender": "brand",
         "_deepnote_index_column": 34
        },
        {
         "text": "Did Alot Up In The Past Ion Wont Back",
         "gender": "male",
         "_deepnote_index_column": 35
        },
        {
         "text": "Here's how @sesamestreet's Julia will combat the stigma associated with #autism: https://t.co/IdkJYk84Mk #ece",
         "gender": "brand",
         "_deepnote_index_column": 36
        },
        {
         "text": "This boy was on the El wit his 3 daughters and they all was under 5",
         "gender": "female",
         "_deepnote_index_column": 37
        },
        {
         "text": "@Toastburglar @wordwizard85 \nThe trick is making sure you keep your lungs inflated for cushioning.",
         "gender": "brand",
         "_deepnote_index_column": 38
        },
        {
         "text": "@TheRiddler109 @CNN I mean it's not like Mainstream new media is supposed to feed you the fact nowadays...",
         "gender": "male",
         "_deepnote_index_column": 39
        },
        {
         "text": "The Flash: New Look at Danielle Panabaker as Killer Frost ÛÒ https://t.co/B1Icufq59H https://t.co/M5ju9fXQv4 #HotNews #geekinitiative",
         "gender": "brand",
         "_deepnote_index_column": 40
        },
        {
         "text": "How many followers do you get everyday? I got 1 in the last day. Growing daily with https://t.co/JzckR3ub8H",
         "gender": "male",
         "_deepnote_index_column": 41
        },
        {
         "text": "#dog walkers needed @FetchPetCareChi from the South Loop to Edgewater. Midday 11am-3pm  #Chicago #jobs https://t.co/z9HesUigwz",
         "gender": "brand",
         "_deepnote_index_column": 42
        },
        {
         "text": "@onedirection Artist of the Year #AMAs\n\nHO FAME",
         "gender": "male",
         "_deepnote_index_column": 43
        },
        {
         "text": "@kbonimtetezi mheshimiwa travellers along that stretch of the road (lubao) r hurting and nobody seems to be raising this issue!",
         "gender": "male",
         "_deepnote_index_column": 44
        },
        {
         "text": "Greenville Thursday. Yall holla you need anything. Know I'm the plug",
         "gender": "male",
         "_deepnote_index_column": 45
        },
        {
         "text": "@MarkHicks1204 I went to the wrong Nandos but I found you eventually #10chilliesequalsfreenandos",
         "gender": "female",
         "_deepnote_index_column": 46
        },
        {
         "text": "@AndyRobsonTips Cardiff or drew with the over 1.5 match goals sounds good to me",
         "gender": "male",
         "_deepnote_index_column": 47
        },
        {
         "text": "Those who break the rules are scum, but those who abandon their friends are worse than scum",
         "gender": "female",
         "_deepnote_index_column": 48
        },
        {
         "text": "Apple: The Great iPhone Unit Debate https://t.co/YOruxSrKCE",
         "gender": "brand",
         "_deepnote_index_column": 49
        },
        {
         "text": "Gala Bingo clubs bought for å£241m: The UK's largest High Street bingo operator, Gala, is being taken over byÛ_ https://t.co/XprInke1m2",
         "gender": "male",
         "_deepnote_index_column": 50
        },
        {
         "text": "VIDEO: James Bond Spectre world premiere: After months of build up Spectre, the latestÛ_ https://t.co/uV38Wlg5bE #UK",
         "gender": "female",
         "_deepnote_index_column": 51
        },
        {
         "text": "#EDM  Amazon celebrates new vinyl store in unveiling the Ûª13 Day VinylÛ_ https://t.co/f1gN9iKlDA #Dance #News #Rave https://t.co/4pUUtAejU0",
         "gender": "brand",
         "_deepnote_index_column": 52
        },
        {
         "text": "Best thing about having an audition on the west side is being able to eat lunch at Komodo",
         "gender": "male",
         "_deepnote_index_column": 53
        },
        {
         "text": "Discipline is the bridge between goals and accomplishment. - Jim Rohn",
         "gender": "male",
         "_deepnote_index_column": 54
        },
        {
         "text": "In the last 20 minutes that Wednesday fan has tweeted about us 3 times, no, not obsessed, not even a little bit _Ù÷â_Ù÷â_Ù÷â_Ù÷â_Ù÷â_Ù÷â_Ù÷â_Ù÷â_Ù÷â_Ù÷â_Ù÷â_Ù÷â_Ù÷â_Ù÷â_Ù÷â",
         "gender": "male",
         "_deepnote_index_column": 55
        },
        {
         "text": "Once it is complete, it will lift off and attempt to connect with the alpha point of the rift we are observing. (1-2)",
         "gender": "female",
         "_deepnote_index_column": 56
        },
        {
         "text": "Gala Bingo clubs bought for å£241m: The UK's largest High Street bingo operator, Gala, is being taken over byÛ_ https://t.co/WoQyHfIm61",
         "gender": "brand",
         "_deepnote_index_column": 57
        },
        {
         "text": "Triggered Email: The Killer Conversion App https://t.co/obCkhxkOm7",
         "gender": "male",
         "_deepnote_index_column": 58
        },
        {
         "text": "Gala Bingo clubs bought for å£241m: The UK's largest High Street bingo operator, Gala, is being taken over byÛ_ https://t.co/hXowiGMmi4",
         "gender": "brand",
         "_deepnote_index_column": 59
        },
        {
         "text": "Do you know who are awesome? My 4 new followers in the last week! Growing with https://t.co/iN3hLNli3g",
         "gender": "brand",
         "_deepnote_index_column": 60
        },
        {
         "text": "camerons side of the bed smells SO bad",
         "gender": "female",
         "_deepnote_index_column": 61
        },
        {
         "text": "@wishbonecon are u going to the 1.30 one ??",
         "gender": "female",
         "_deepnote_index_column": 62
        },
        {
         "text": "@Hakeem_NLT Boii make the wafflw link to the reference then the word count should clear up lol",
         "gender": "male",
         "_deepnote_index_column": 63
        },
        {
         "text": "https://t.co/nRN2mGLd2E\nAm I the only one who loves the part with Merlin and Regina's face? :D #OUAT",
         "gender": "female",
         "_deepnote_index_column": 64
        },
        {
         "text": "@Harry_Styles always remember, never forget you're the best and the greatest in the world just being you always you till the end of time YOU",
         "gender": "male",
         "_deepnote_index_column": 65
        },
        {
         "text": "The POLITICS of evidence + results in international development. https://t.co/T7N2c2TTBf - Looks great. h/t @duncan_ids @rosalindeyben +",
         "gender": "male",
         "_deepnote_index_column": 66
        },
        {
         "text": "Please God, let me get a house that has a fireplace in the bedroom!! I have such great ideas for such a room..",
         "gender": "female",
         "_deepnote_index_column": 67
        },
        {
         "text": "that's the 8% they have hidden.. UMPH. https://t.co/OnebBSAG93",
         "gender": "female",
         "_deepnote_index_column": 68
        },
        {
         "text": "@WigingtonLinda that's nice for this time of the year. tomorrow they say it should be around 20",
         "gender": "female",
         "_deepnote_index_column": 69
        },
        {
         "text": "(Surgical enhancements are for a different part of the body, and, I was kidding...)",
         "gender": "male",
         "_deepnote_index_column": 70
        },
        {
         "text": "The CTAS Pro High colorway inspired by sageelsesser available now at both #MIAskateshop locationsÛ_ https://t.co/yGz0K7nqso",
         "gender": "brand",
         "_deepnote_index_column": 71
        },
        {
         "text": "I swear if she touches me one more time. _Ù÷__Ù÷_ she pisses me off. It's stupid cause my friends fall for the trick as well _Ù÷Ô",
         "gender": "male",
         "_deepnote_index_column": 72
        },
        {
         "text": "She is not beautiful m, and I'm talking beyond the superficial beauty.",
         "gender": "male",
         "_deepnote_index_column": 73
        },
        {
         "text": "The Wildcats pay a visit to Fain elementary school! https://t.co/Xjx8GNyRhJ",
         "gender": "brand",
         "_deepnote_index_column": 74
        },
        {
         "text": "bad day in the office - but nice to catch up with @thedjbrisk so wish we had more time to catch up x",
         "gender": "female",
         "_deepnote_index_column": 75
        },
        {
         "text": "New Study Says Bacon Causes Cancer, But the Internet Refuses to Believe It https://t.co/SNgYZFCG4b",
         "gender": "brand",
         "_deepnote_index_column": 76
        },
        {
         "text": "James Walter invented the bolt-action rifle, liquor, sexual intercourse, and football-- in that order.",
         "gender": "female",
         "_deepnote_index_column": 77
        },
        {
         "text": "@Lov3rzWorldwide Say He is the one. The eternal. He doesn't have kids nor did anyone have Him. There is nothing like The One.",
         "gender": "male",
         "_deepnote_index_column": 78
        },
        {
         "text": "Now I Changed! I'm not the same Man I once Yesterday it's for the better watch &amp; take notes",
         "gender": "male",
         "_deepnote_index_column": 79
        },
        {
         "text": "Amazing: See Igbo Village In The United States OfåÊAmerica https://t.co/Z8A95hAQpE https://t.co/qdQ6HnE735",
         "gender": "female",
         "_deepnote_index_column": 80
        },
        {
         "text": "@R_M_Appleyard alarm wont work as you can't time the stops in Leeds. Too much traffic ect. A 20min bus ride can take 50 or 12 mins, ya know?",
         "gender": "female",
         "_deepnote_index_column": 81
        },
        {
         "text": "Join the The Creative Group team! See our latest #BusinessMgmt #job opening here: https://t.co/X2YVPuRDy4 #TheCreativeGroup #NEWYORK, NY",
         "gender": "brand",
         "_deepnote_index_column": 82
        },
        {
         "text": "#Akinator, the Genie App, just guessed that I was thinking of  Katniss Everdeen's Daughter #what? how?",
         "gender": "female",
         "_deepnote_index_column": 83
        },
        {
         "text": "'30 Teams in 30 Days' NBA Season Preview, #2: Cleveland Cavaliers + an Op-Ed About the Legacy of LeBron James https://t.co/dYTW2sr9Gp",
         "gender": "brand",
         "_deepnote_index_column": 84
        },
        {
         "text": "@TekifyUK I am trying to unbrick my Kindle fire, with a red screen. I followed your youtube video, and am using the unbrick tool.",
         "gender": "male",
         "_deepnote_index_column": 85
        },
        {
         "text": "If you say someone like Wale or Meek or Wiz has gotten big in the past five years you're a moron. They were big in the mixtape game.",
         "gender": "male",
         "_deepnote_index_column": 86
        },
        {
         "text": "Move Of The Week Double Leg Stretch Û_ : https://t.co/kxkCEFUxQB ... https://t.co/n7PtOHGaPQ",
         "gender": "female",
         "_deepnote_index_column": 87
        },
        {
         "text": "Goodword @ The Honey Hive Gallery https://t.co/htzxiHKODA",
         "gender": "brand",
         "_deepnote_index_column": 88
        },
        {
         "text": "THE FIRST FANCAM OF THAT AMAZING INTRO FUCK https://t.co/VAcnnIXgIA",
         "gender": "brand",
         "_deepnote_index_column": 89
        },
        {
         "text": "@RepComstock You are supporting the Father of the Sequester for Speaker. Cut vet pensions, military, medicare. Shame on you",
         "gender": "female",
         "_deepnote_index_column": 90
        },
        {
         "text": "#biz Import Veteran: The 6 tricks every importer must know in order to avoid getting ripped off. https://t.co/g2HVXx9Jf0",
         "gender": "brand",
         "_deepnote_index_column": 91
        },
        {
         "text": "The FA have lost it, they're fining clubs left right and centre. Do your job properly or don't do it at all. @FA",
         "gender": "unknown",
         "_deepnote_index_column": 92
        },
        {
         "text": "No Water To Frisco Subdivision: A contractor working in the area cut a water line and crews are nowÛ_ https://t.co/mvsXieKa21 #dallas #news",
         "gender": "brand",
         "_deepnote_index_column": 93
        },
        {
         "text": "Reimagining the #webdesign process by @InVisionApp - https://t.co/Vmb0OZU67e https://t.co/hFlWR8tfOl",
         "gender": "male",
         "_deepnote_index_column": 94
        },
        {
         "text": "The accumulation of rake marks:SNIP #Blackfish Morgan 'looks like she came close to losing her left eye' #FreeMorgan https://t.co/NmaiGtIocI",
         "gender": "brand",
         "_deepnote_index_column": 95
        },
        {
         "text": "@deptulahasrage Clemson only need to stack the line against FSU then they may not even score",
         "gender": "male",
         "_deepnote_index_column": 96
        },
        {
         "text": "I can see now that there's no way I'm going to resist this Shattered Empire business. The Noto cover alone! https://t.co/nLmIC5xDmp",
         "gender": "female",
         "_deepnote_index_column": 97
        },
        {
         "text": "If you have some time, would be great if you could fill out the attached survey. Could provide some real insights. https://t.co/Z3w902w0wh",
         "gender": "brand",
         "_deepnote_index_column": 98
        },
        {
         "text": "@cringe_channel chris chan has the fame",
         "gender": "male",
         "_deepnote_index_column": 99
        },
        {
         "text": "The accuracy though lol  https://t.co/frFforEeLC",
         "gender": "female",
         "_deepnote_index_column": 100
        },
        {
         "text": "Im weakkkkk_Ù÷â_Ù÷â_Ù÷â_Ù÷â_Ù÷â\nTbh thats the only way to shut down girls who flex",
         "gender": "male",
         "_deepnote_index_column": 101
        },
        {
         "text": "We got to see inside the #OARDC #greenhouses in the daytime, too! #AgCon #OSU @visitoardcw https://t.co/wb6BgiHc3g",
         "gender": "brand",
         "_deepnote_index_column": 102
        },
        {
         "text": "Thanks to the #ACA more adults are eligible for #Medicaid in #Illinois &amp; able to apply online.  @YoungInvincible\n\nhttps://t.co/cfwlLqv4K9",
         "gender": "female",
         "_deepnote_index_column": 103
        },
        {
         "text": "IBMSocialBiz: In the future, there will be a narrowing of the gap of people's abilities to use tools proficiently. JenniferMcClure #H2HChatÛ_",
         "gender": "female",
         "_deepnote_index_column": 104
        },
        {
         "text": "Chris Got On The Black Toe 1s _Ù÷_",
         "gender": "male",
         "_deepnote_index_column": 105
        },
        {
         "text": "@iampoojabalaji The day after his wedding anniversary... Sucks to suck",
         "gender": "female",
         "_deepnote_index_column": 106
        },
        {
         "text": "Here's some of the equipment we use to run our show! https://t.co/x6cCJG8SeX https://t.co/A6N8HU1tlJ",
         "gender": "brand",
         "_deepnote_index_column": 107
        },
        {
         "text": "When you're 20 mins early to an advising appointment but the bitch before you goes over by 10 mins_Ù÷Ô",
         "gender": "female",
         "_deepnote_index_column": 108
        },
        {
         "text": "@jaehyunim_ ohh okay..just asking for my friend..she just want to know the price..will let u know if she interested..thanks..",
         "gender": "nan",
         "_deepnote_index_column": 109
        },
        {
         "text": "https://t.co/EROGWToizO SissyÛªs wife loved the l Choosing Lingerie ÛÒ A Very Important Role For Sissy https://t.co/sRf506OsHy",
         "gender": "female",
         "_deepnote_index_column": 110
        },
        {
         "text": "@paulmgardner @cwellssun I knew a guy who was in the military who used it because it doesn't show up on drug tests.",
         "gender": "male",
         "_deepnote_index_column": 111
        },
        {
         "text": "My mom listening to \"Hello\" what's happening to the world",
         "gender": "male",
         "_deepnote_index_column": 112
        },
        {
         "text": "If ion work one job , I work the other .",
         "gender": "female",
         "_deepnote_index_column": 113
        },
        {
         "text": "Lrt me at work allllllllllllllll the time!!!!!",
         "gender": "female",
         "_deepnote_index_column": 114
        },
        {
         "text": "@londontaxi_pr They were aimed at the public to make them aware,MPs should have noted their content and acted on the video from  @TheLTDA",
         "gender": "unknown",
         "_deepnote_index_column": 115
        },
        {
         "text": "The guys over at  &amp;  gave us these Horizon 2 copies to giveaway! Info coming soon :)  https://t.co/S7QbX4HoTR",
         "gender": "unknown",
         "_deepnote_index_column": 116
        },
        {
         "text": "Flexible Diet Plan: Revealed for the first time, secret methods for losing weight, without having to give upÛ_ https://t.co/yGQYYVCYKi",
         "gender": "female",
         "_deepnote_index_column": 117
        },
        {
         "text": "Total loss of respect for the little twat https://t.co/eQstpYJEck",
         "gender": "male",
         "_deepnote_index_column": 118
        },
        {
         "text": "he needs his own intro for when you pick up the phone 'CLIFFORD ELLIS, THE GREATEST BROCKER IN THE WORLD' lmfao",
         "gender": "male",
         "_deepnote_index_column": 119
        },
        {
         "text": "Fortune favors the funny in Guatemala election: https://t.co/E1Qa16AweK https://t.co/c8nvJn3VaN",
         "gender": "male",
         "_deepnote_index_column": 120
        },
        {
         "text": "WomenÛªs soccer extends streak, stays atop conference: On a rainy night in Seattle, the No. 4 Stanford womenÛªsÛ_ https://t.co/7WvyNZsgqa",
         "gender": "brand",
         "_deepnote_index_column": 121
        },
        {
         "text": "@megwacha Actually the UC announcement seems like it could be related to that.",
         "gender": "male",
         "_deepnote_index_column": 122
        },
        {
         "text": "On Air : Back To The Future - Alan Silvestri - #BackToTheFuture on https://t.co/rbWJRByxt1",
         "gender": "brand",
         "_deepnote_index_column": 123
        },
        {
         "text": "Would Û÷The AffairÛª Be Easier To Watch If The Kids WerenÛªt Such Brats? [Spoilers]: The Showtime series The Affa... https://t.co/o6jpVaUFdz",
         "gender": "female",
         "_deepnote_index_column": 124
        },
        {
         "text": "NBD, This Comet Is Spewing Gallons of Wine In Space: Scientists have discovered that the comet Lovejoy is spew... https://t.co/42Fa4wwoA1",
         "gender": "female",
         "_deepnote_index_column": 125
        },
        {
         "text": "The Single Girls Handbook https://t.co/2HyF2pFcID",
         "gender": "brand",
         "_deepnote_index_column": 126
        },
        {
         "text": "Stats for the day have arrived. 1 new unfollower. Stats via https://t.co/VuMDKp70A7.",
         "gender": "male",
         "_deepnote_index_column": 127
        },
        {
         "text": "#VivienLeigh Gone With The Wind Clark Gable Vivien Leigh #Photo https://t.co/yVO2B34jrw #Film #Actress",
         "gender": "female",
         "_deepnote_index_column": 128
        },
        {
         "text": "#newark Hornell Football: Bringing back the tradition https://t.co/Red8ZEivVs",
         "gender": "brand",
         "_deepnote_index_column": 129
        },
        {
         "text": "good seeing you tonight @Caspar_Lee _Ù÷÷ enjoy the film xx",
         "gender": "female",
         "_deepnote_index_column": 130
        },
        {
         "text": "Kaito's song is about chasing after an idealized version of himself, but in the real world, he's alone. #starmyu https://t.co/TvLbxrYMRK",
         "gender": "male",
         "_deepnote_index_column": 131
        },
        {
         "text": "Photo: The Fellowship of the Ring: Book One in the Lord of the RingsÛ_: https://t.co/4A1v5WdDd4 https://t.co/Hyosq3fr5e",
         "gender": "female",
         "_deepnote_index_column": 132
        },
        {
         "text": "I kept telling myself the temptations would let me in,\nAnd they did.",
         "gender": "female",
         "_deepnote_index_column": 133
        },
        {
         "text": "Photo: Snow Queen - Vlad Barbe | Kids &amp; Family |716822518: The Snow Queen is a fairy tale by Hans Christian... https://t.co/CC4qqNHvjY",
         "gender": "male",
         "_deepnote_index_column": 134
        },
        {
         "text": "Fool me three times, fuck the peace signs\nLoad the chopper, let it rain on you",
         "gender": "female",
         "_deepnote_index_column": 135
        },
        {
         "text": "#EdmHoneys Amazon celebrates new vinyl store in unveiling the Ûª13 DayÛ_ https://t.co/DgRUeR3Ap5 #EDM  #Followback https://t.co/r6NsubvNNr",
         "gender": "brand",
         "_deepnote_index_column": 136
        },
        {
         "text": "La Leccion- The 5 Love",
         "gender": "nan",
         "_deepnote_index_column": 137
        },
        {
         "text": "#business Gala Bingo clubs bought for å£241m: The UK's largest High Street bingo operator, Gala, is being taken overÛ_ https://t.co/UZ1WZEqeZg",
         "gender": "brand",
         "_deepnote_index_column": 138
        },
        {
         "text": "The world(esp EqAnon island)needs more people like @EQcompliments, @HorseShowTutor, @StudioOnWhitney, @DejavuEq &amp; @AthleticEq #AmazingLadies",
         "gender": "female",
         "_deepnote_index_column": 139
        },
        {
         "text": "@bentorkington @NZInlandRevenue ...don't bother with KiwiSaver until the kickstart fund is restored",
         "gender": "male",
         "_deepnote_index_column": 140
        },
        {
         "text": "No matter the results, words can't express how proud I am of @csunfasa! All the dedication these new &amp; old members gave left me speechless!",
         "gender": "female",
         "_deepnote_index_column": 141
        },
        {
         "text": "Hello from the... Nah",
         "gender": "female",
         "_deepnote_index_column": 142
        },
        {
         "text": "\"Came into the game when white rappers weren't a cliche\"\n\n@classified spittin' that truth",
         "gender": "male",
         "_deepnote_index_column": 143
        },
        {
         "text": "Dirtiest Players in the NFL https://t.co/SdyNBeG69e",
         "gender": "brand",
         "_deepnote_index_column": 144
        },
        {
         "text": "whoa whoa whoa hold up, there's a Dragon's Lair movie kickstarter????? https://t.co/jdbDRler93",
         "gender": "unknown",
         "_deepnote_index_column": 145
        },
        {
         "text": "This Wed The @walrusmagazine Talks Cities of #Migration with #TRSM @RyersonU. Get your tickets here: https://t.co/kqAzWIMo8S",
         "gender": "brand",
         "_deepnote_index_column": 146
        },
        {
         "text": "@EVINELive yep just had to wait until the next day",
         "gender": "female",
         "_deepnote_index_column": 147
        },
        {
         "text": "For the first time, the @AmerAcadPedsåÊis recommending that pediatricians screen all children for food insecurity https://t.co/6ETENmYVAo",
         "gender": "brand",
         "_deepnote_index_column": 148
        },
        {
         "text": "ÛÏ@thacelebritea Seen on the Scene: Spotted #RavenSymone out and about earlier this week [r.p @theybfdaily ] https://t.co/sjNH93a0L3Û ÷¼ü÷¼ü÷¼ü",
         "gender": "female",
         "_deepnote_index_column": 149
        },
        {
         "text": "FFS, i don't know if im going to love Simple Plan's new album, like the songs iv heard from it from it so far are meh and im like o sht noo.",
         "gender": "brand",
         "_deepnote_index_column": 150
        },
        {
         "text": "@justinbieber  Too much swag the Acoustic version. you are too cool, kept silent makes me laughter has the end with vibratos lol _Ù÷_Ù÷É",
         "gender": "female",
         "_deepnote_index_column": 151
        },
        {
         "text": "Listen to @johnmdonnelly discussing his exclusive reporting on potentially fatal flaws in #F35 ejector seat https://t.co/rZ1BEKbY6P @CQnow",
         "gender": "female",
         "_deepnote_index_column": 152
        },
        {
         "text": "https://t.co/SZAdbkG6Y9 &gt;&gt; Rangers Blue Line: Antti Raanta calls in and looking at the 6-2-2 Rangers https://t.co/dXa3JypzQZ",
         "gender": "brand",
         "_deepnote_index_column": 153
        },
        {
         "text": "@BarCampPhilly @FlipperPA Yes! Would love to throw in the hat in for a couple local folks over at @iQmediacorp. Happy to arrange a meet.",
         "gender": "female",
         "_deepnote_index_column": 154
        },
        {
         "text": "@rockdoves hes the only one we're missing",
         "gender": "brand",
         "_deepnote_index_column": 155
        },
        {
         "text": "Coffee Taster's Flavor Wheel from the SCAA\n#coffee\nhttps://t.co/GOLukszOLU https://t.co/HJHczkaiQy",
         "gender": "male",
         "_deepnote_index_column": 156
        },
        {
         "text": "We have a chance for the first time in decades to elect someone who will not be owned by lobby groups or big corporations. Or Saudi Arabia",
         "gender": "male",
         "_deepnote_index_column": 157
        },
        {
         "text": "The Walking Dead 6ÌÑ04 Promo Season 6 Episode 4 Promo https://t.co/ndyE1XzvDu #HotNews #geekinitiative",
         "gender": "brand",
         "_deepnote_index_column": 158
        },
        {
         "text": "Finally realized I'll never get the answers I want",
         "gender": "female",
         "_deepnote_index_column": 159
        },
        {
         "text": "Gala Bingo clubs bought for å£241m: The UK's largest High Street bingo operator, Gala, is being taken over byÛ_ https://t.co/X93A410ODN",
         "gender": "brand",
         "_deepnote_index_column": 160
        },
        {
         "text": "I saw and met @MarinasDiamonds five months ago today.  I'm forever grateful for the opportunity I was given. _ÙÕ¥_ÙÕ_ https://t.co/vLrCSnqN2I",
         "gender": "male",
         "_deepnote_index_column": 161
        },
        {
         "text": "Starbucks Mobile Ordering Comes to the UK - Mobile Marketing https://t.co/YeCugANJLy\n#emarketingmkt412",
         "gender": "female",
         "_deepnote_index_column": 162
        },
        {
         "text": "The little things you do always get me heated",
         "gender": "male",
         "_deepnote_index_column": 163
        },
        {
         "text": "@theugadawg I hoped we had a chip on our shoulder when we kept dropping in rank even though we won our games early in the year but we didn't",
         "gender": "unknown",
         "_deepnote_index_column": 164
        },
        {
         "text": "#Pennsylvania Believing in yourself is the first secret to success! https://t.co/9sIPL3VcxE",
         "gender": "male",
         "_deepnote_index_column": 165
        },
        {
         "text": "Corporate welfare is the worst. Dark funds for the Military industrial complex is another. \n\nAll these posts with... https://t.co/awmdynzFxZ",
         "gender": "male",
         "_deepnote_index_column": 166
        },
        {
         "text": "Rapper Tyga to appear on the next season of KUWTK and he Will Get $25k Per Appearance\n- See more &gt;&gt;... https://t.co/b1Rw1LkjHG",
         "gender": "male",
         "_deepnote_index_column": 167
        },
        {
         "text": "Next Xbox One Backwards-Compatible Game Revealed: This 2008 racing game is the latest to join the lineup. https://t.co/H4QgKxg0sU",
         "gender": "brand",
         "_deepnote_index_column": 168
        },
        {
         "text": "@JesseLaGreca @DanteAtkins\nThe lies &amp; distortions which led 2 today's #GOP fringe political psychosis goes back to the 1979 #Reagan Campaign",
         "gender": "brand",
         "_deepnote_index_column": 169
        },
        {
         "text": "@TrevorHickman amazingstoke at home,  part of me hopes for the draw and replay! https://t.co/F1z1JhoF40",
         "gender": "brand",
         "_deepnote_index_column": 170
        },
        {
         "text": "The one question that made me a millionaire ÛÓ by @TheAllyWayInt via @Entrepreneur https://t.co/yR9HGtbwI5 https://t.co/3Zyc0Hp3Dz",
         "gender": "brand",
         "_deepnote_index_column": 171
        },
        {
         "text": "#Earth teach me quiet ~\n.\n.\n.\nas the grasses are still with new light.",
         "gender": "female",
         "_deepnote_index_column": 172
        },
        {
         "text": "The \"Horse Screamer\" has some great style in her latest video. Get your KRJ shirts on the site https://t.co/HruprjSa0u",
         "gender": "brand",
         "_deepnote_index_column": 173
        },
        {
         "text": "Dictators and their favorite drinks https://t.co/d2WZOc7Yzq",
         "gender": "brand",
         "_deepnote_index_column": 174
        },
        {
         "text": "@starsandglitta _ÙÐ¥_Ù_I'm not for the fake friends, good day _Ù÷÷",
         "gender": "female",
         "_deepnote_index_column": 175
        },
        {
         "text": "The Fully Expected Yet Oddly Reassuring Return of Tanner Fischbach: \"I think the voters of Cuyahoga County areÛ_ https://t.co/VMek8FHdb6",
         "gender": "brand",
         "_deepnote_index_column": 176
        },
        {
         "text": "Nothing like the midwest. Had a great weekend at The Ruffin's wedding. Im glad we all came togetherÛ_ https://t.co/DrK2UkEKxV",
         "gender": "male",
         "_deepnote_index_column": 177
        },
        {
         "text": "Take me back to the time when your clothes took up my drawers",
         "gender": "female",
         "_deepnote_index_column": 178
        },
        {
         "text": "Mentally ill woman with her two pink-dyed poodles threatened to shoot someone, followed by the throwing 1/2",
         "gender": "male",
         "_deepnote_index_column": 179
        },
        {
         "text": "@ell_morton i just face timed him like 5 mins ago and they're @ the airport in Dallas, getting a plane in 2 hours. They're okay _Ù÷É_Ù÷É",
         "gender": "female",
         "_deepnote_index_column": 180
        },
        {
         "text": "#biz Holiday Candy Course: Learn the art of gourmet candy making and make gourmet chocolates in your own kitchen! https://t.co/rvklKD2m7h",
         "gender": "brand",
         "_deepnote_index_column": 181
        },
        {
         "text": "luv them Photo https://t.co/TeMkNK17aO for the best busty boobs click here or on image#bustyfriends bignaturals, bÛ_ https://t.co/RSbkiea90U",
         "gender": "female",
         "_deepnote_index_column": 182
        },
        {
         "text": "Tonight we'll stop by 300 randomly selected homes for a short survey. The survey is required for a grant... https://t.co/YhJrPLiCC6",
         "gender": "brand",
         "_deepnote_index_column": 183
        },
        {
         "text": "The woes_Ù÷__Ù_÷_ÙÕâ https://t.co/CXWHx6DTgW",
         "gender": "female",
         "_deepnote_index_column": 184
        },
        {
         "text": "ISIS Launches BIZARRE New Weapon In War Against The Infidel _Ê FLOATING CONDOM BOMBS (Video) | BB4SP https://t.co/e6htn17yFN",
         "gender": "brand",
         "_deepnote_index_column": 185
        },
        {
         "text": "ISIS Launches BIZARRE New Weapon In War Against The Infidel _Ê FLOATING CONDOM BOMBS (Video) | BB4SP https://t.co/c4nA4Cc4dK",
         "gender": "female",
         "_deepnote_index_column": 186
        },
        {
         "text": "Too excited to spend my Halloween night in the PIT with @sigmonmakenzie &amp; @ChrisYoungMusic _ÙÈ_Ù__",
         "gender": "female",
         "_deepnote_index_column": 187
        },
        {
         "text": "At Steidl &amp; Steinberg, we understand that owing #money to the #IRS or the state is scary. We can help: https://t.co/riC1oHcD1A",
         "gender": "male",
         "_deepnote_index_column": 188
        },
        {
         "text": "1 amazing follower in the last week and there will be more tomorrow. Growing with https://t.co/MIjN2Phyly",
         "gender": "female",
         "_deepnote_index_column": 189
        },
        {
         "text": "@mrfranky47 @Mohamed78181254 @jiddatech Lessons for Muslim Husbands - The love of the Prophet (SAWS)! https://t.co/zyCDjCmRZm",
         "gender": "brand",
         "_deepnote_index_column": 190
        },
        {
         "text": "ISIS Launches BIZARRE New Weapon In War Against The Infidel _Ê FLOATING CONDOM BOMBS (Video) | BB4SP https://t.co/pp68Wzh8dt",
         "gender": "brand",
         "_deepnote_index_column": 191
        },
        {
         "text": "Drugs, greed, and kidnapping  plague Dani and Liz - Bluewater Ganja, 9th of the Bluewater Thrillers #IAN1 #sailing https://t.co/60BrKidlAP",
         "gender": "male",
         "_deepnote_index_column": 192
        },
        {
         "text": "ISIS Launches BIZARRE New Weapon In War Against The Infidel _Ê FLOATING CONDOM BOMBS (Video) | BB4SP https://t.co/ffjxmiCEt7",
         "gender": "male",
         "_deepnote_index_column": 193
        },
        {
         "text": "Penn JilletteÛªs atheist fundraiser: Bacon, skepticism and Trump on the side: GainingÛ_ https://t.co/6heNyHydAd #Vegas https://t.co/Ug8Z228z2X",
         "gender": "brand",
         "_deepnote_index_column": 194
        },
        {
         "text": "@Nataliaa_45 @Caspar_Lee MY PHONE AND IPAD ARE GOING OUT THE WINDOW IN A MINUTE OMG I CANT BREATHE JOE FAVED CASPAR SAID THAT AND I MET JOE",
         "gender": "male",
         "_deepnote_index_column": 195
        },
        {
         "text": "the sky is making weird ass noises",
         "gender": "male",
         "_deepnote_index_column": 196
        },
        {
         "text": "2 new unfollowers in the last day. Via https://t.co/4Qif59vX1N",
         "gender": "unknown",
         "_deepnote_index_column": 197
        },
        {
         "text": "MT @nytimesarts: The longest-running play in America is set to open in NYC for the 1st time https://t.co/65oIQVi9M8 https://t.co/6WIFY90anM",
         "gender": "male",
         "_deepnote_index_column": 198
        },
        {
         "text": "#VoteOneDirection @onedirection #AMAs Artist Of The Year  https://t.co/pnDV9MyCVY",
         "gender": "female",
         "_deepnote_index_column": 199
        },
        {
         "text": "Gala Bingo clubs bought for å£241m: The UK's largest High Street bingo operator, Gala, is being taken over byÛ_ https://t.co/0MJDQuiRIc",
         "gender": "brand",
         "_deepnote_index_column": 200
        },
        {
         "text": "We'll safety pin the pieces of our broken hearts back together.",
         "gender": "unknown",
         "_deepnote_index_column": 201
        },
        {
         "text": "Gala Bingo clubs bought for å£241m: The UK's largest High Street bingo operator, Gala, is being taken over byÛ_ https://t.co/WpUTClVr7U",
         "gender": "brand",
         "_deepnote_index_column": 202
        },
        {
         "text": "Alysha is half mom and half worlds greatest friend of the group",
         "gender": "female",
         "_deepnote_index_column": 203
        },
        {
         "text": "The creeps again @CocoM2Z  https://t.co/8ZTKJXOn8v",
         "gender": "female",
         "_deepnote_index_column": 204
        },
        {
         "text": "@karen_hauer You frightened me when you hissed like a cat. I am still sat behind the settee ;-) x",
         "gender": "brand",
         "_deepnote_index_column": 205
        },
        {
         "text": "And that I'm apparently in a contract despite the whole spiel about no contracts when I got my phone. .@verizon",
         "gender": "male",
         "_deepnote_index_column": 206
        },
        {
         "text": "Join us for the day at the #JFNAGA on Mon 11/9! Return transport to Washington D.C. Reserve your place at https://t.co/L2NIsXweYL #PHILLYga",
         "gender": "brand",
         "_deepnote_index_column": 207
        },
        {
         "text": "The One You Fall In Love With You Should Feel Like Nothin Else Matters.. #Fr",
         "gender": "male",
         "_deepnote_index_column": 208
        },
        {
         "text": "Gala Bingo clubs bought for å£241m: The UK's largest High Street bingo operator, Gala, isÛ_ https://t.co/XzzqL9wNL7 https://t.co/CdtBn0hjMi",
         "gender": "brand",
         "_deepnote_index_column": 209
        },
        {
         "text": "LanaÛªs back in the swing of things: REJECTED Bachelor star Lana Jeavons-Fellows is living up her single life,Û_ https://t.co/gtT2FkO6cP",
         "gender": "brand",
         "_deepnote_index_column": 210
        },
        {
         "text": "The power of 3D printing to save lives. https://t.co/RZfvBfg9FW",
         "gender": "brand",
         "_deepnote_index_column": 211
        },
        {
         "text": "The #fate of EuropeÛªs net neutrality will be decided tomorrow https://t.co/zgqa8d49qX https://t.co/5Qk8zDNPQq",
         "gender": "female",
         "_deepnote_index_column": 212
        },
        {
         "text": "got the job _Ù÷Ä",
         "gender": "female",
         "_deepnote_index_column": 213
        },
        {
         "text": "Selling the #Recruiting Process IsnÛªt a Gamble - https://t.co/Qbsl8ix3dy #HR #TheCandEs #TChat #HRTechConf",
         "gender": "male",
         "_deepnote_index_column": 214
        },
        {
         "text": "I just bought tickets for Post War Glamour Girls  at The Cookie, Leicester from https://t.co/BP7THGHF37! https://t.co/efU07V6cN3 via @ents24",
         "gender": "female",
         "_deepnote_index_column": 215
        },
        {
         "text": "@crowmatriarchy @suzuyin @breadfuck The likeness of your face is purely disgusting. I mean, honestly. Look at yourself in the mirror for mor",
         "gender": "female",
         "_deepnote_index_column": 216
        },
        {
         "text": "The Role of the Hippocampus in Long-term Memory https://t.co/SRCXtbYrMC",
         "gender": "female",
         "_deepnote_index_column": 217
        },
        {
         "text": "Stats for the day have arrived. 1 new unfollower. Stats via https://t.co/Dzu9HX59Yb.",
         "gender": "male",
         "_deepnote_index_column": 218
        },
        {
         "text": "October and the Apostrophe https://t.co/Mhng687f9w #publishing #authors",
         "gender": "male",
         "_deepnote_index_column": 219
        },
        {
         "text": "720p option is the best",
         "gender": "male",
         "_deepnote_index_column": 220
        },
        {
         "text": "#ArtistOfTheYear @onedirection #AMAs \n\nFrom all the four albums we heard MM is my fav but it could be changed rly fast when I hear the fift",
         "gender": "female",
         "_deepnote_index_column": 221
        },
        {
         "text": "Fantastic launch by @Snapdeal All apps now run smoothly on OnePlus One thanks to the quad core processor! https://t.co/2yMa7R3PcU 4742",
         "gender": "male",
         "_deepnote_index_column": 222
        },
        {
         "text": "this last half of jojo6 just gets more and more far out, including the post-chapter stand/user profile descriptions",
         "gender": "unknown",
         "_deepnote_index_column": 223
        },
        {
         "text": "7 new unfollowers and 5 new followers (hello! hello!) in the last week. Via https://t.co/WL2CRq09dV",
         "gender": "male",
         "_deepnote_index_column": 224
        },
        {
         "text": "Except for a couple of broken plays, the Jets did a really good job countering what New England does well on O and exploiting D weaknesses",
         "gender": "male",
         "_deepnote_index_column": 225
        },
        {
         "text": "Look at Ken Barlow putting it on Audrey Roberts the old rascal!",
         "gender": "male",
         "_deepnote_index_column": 226
        },
        {
         "text": "@AmandaDybwad the fact is that I don't need/want anyone _Ù÷â",
         "gender": "female",
         "_deepnote_index_column": 227
        },
        {
         "text": "Wickenburg man arrested on suspicion of bestiality: SheriffÛªs officials said the suspect offered an undercoverÛ_ https://t.co/9XszaMjGik",
         "gender": "brand",
         "_deepnote_index_column": 228
        },
        {
         "text": "Be In The Lookout!!! _ÙÔà_ÙÔà_ÙÔà https://t.co/dfZqv6Kjbh",
         "gender": "male",
         "_deepnote_index_column": 229
        },
        {
         "text": "@LindsayLkin you know there is a squirrel emoji. Oh wait your not part of the iPhone family _ÙÀ_Ù÷â",
         "gender": "female",
         "_deepnote_index_column": 230
        },
        {
         "text": "@tombertram91 NO WAY! You're going to be the opening act, aren't you?!",
         "gender": "female",
         "_deepnote_index_column": 231
        },
        {
         "text": "@NBA Im hyped bc im so excited for the new season play offs! And who's team will win and who'll be the star!_ÙÛ #ThisIsWhyWePlay #Sweepstakes",
         "gender": "male",
         "_deepnote_index_column": 232
        },
        {
         "text": "The best of times, the worst of times for Marianas Trench singer: Marianas Trench singer and songwriter Josh RamsayÛ_ https://t.co/0GOYfEREpC",
         "gender": "brand",
         "_deepnote_index_column": 233
        },
        {
         "text": "Photo: The chronicles of Emerland. Solitaire. Games Adventure Mac App ***** $4. Û_: https://t.co/xCJnfYaPvw https://t.co/jRlgh3fNSg",
         "gender": "female",
         "_deepnote_index_column": 234
        },
        {
         "text": "Looney For Looms Knitting Patterns: Loom Patterns For Sweaters For The Baby, Toddler &amp; Small Dog. There AreÛ_ https://t.co/XjQoPSopb7",
         "gender": "brand",
         "_deepnote_index_column": 235
        },
        {
         "text": "[Inc] What the Nation Will Be Talking About After Wednesday's GOP Debates https://t.co/vUtBj2urPf",
         "gender": "brand",
         "_deepnote_index_column": 236
        },
        {
         "text": "Hey guys I've decided I'll be on maybe for 20 minutes the most each day !",
         "gender": "male",
         "_deepnote_index_column": 237
        },
        {
         "text": "@axeslasher @MetalShayne2000 I was super hooked on the Woodland Tortuary talk.",
         "gender": "male",
         "_deepnote_index_column": 238
        },
        {
         "text": "Coming in here with the worst attitude while I'm trying to help them _Ù÷Õ",
         "gender": "female",
         "_deepnote_index_column": 239
        },
        {
         "text": "Hot of the presses! https://t.co/fZK5fjSWEJ",
         "gender": "male",
         "_deepnote_index_column": 240
        },
        {
         "text": "@stloto any update when you can use the site again?",
         "gender": "male",
         "_deepnote_index_column": 241
        },
        {
         "text": "Gala Bingo clubs bought for å£241m: The UK's largest High Street bingo operator, Gala, is being taken over byÛ_ https://t.co/LaRDoMBRXT",
         "gender": "brand",
         "_deepnote_index_column": 242
        },
        {
         "text": "Thanks @WinkMartindale for the shout out! IÛªm looking pretty good for 75! #FamousName https://t.co/UMrFosWY0u",
         "gender": "male",
         "_deepnote_index_column": 243
        },
        {
         "text": "There's so much drama around me, but none of it concerns me so I just sit down with a bowl of popcorn and enjoy the show. _Ù÷â_Ù÷â",
         "gender": "unknown",
         "_deepnote_index_column": 244
        },
        {
         "text": "also where are all of steven's interviews? emily did about 7 million after beth died &amp; so did all the other actors afterwards so",
         "gender": "female",
         "_deepnote_index_column": 245
        },
        {
         "text": "@bethneilson12 happy birthday Beth!! Hope you had the best day _ÙÕÏ_ÙÕÏ_ÙÕÏ_ÙÕÏ",
         "gender": "female",
         "_deepnote_index_column": 246
        },
        {
         "text": "This is still the sweetest thing ever to me. And you two made my night. https://t.co/Nms52Uverj",
         "gender": "female",
         "_deepnote_index_column": 247
        },
        {
         "text": "@SavageJaspy I like the purple but you seem more of a green person?",
         "gender": "female",
         "_deepnote_index_column": 248
        },
        {
         "text": "What the, TPIY left Rise to go to Stay Sick Records... I'm so late, but what",
         "gender": "brand",
         "_deepnote_index_column": 249
        }
       ],
       "rows_bottom": [
        {
         "text": "you're the life,And I am living you!",
         "gender": "female",
         "_deepnote_index_column": 19800
        },
        {
         "text": "Time to start painting that Rick and Morty painting I'm going to do for Patty c:",
         "gender": "female",
         "_deepnote_index_column": 19801
        },
        {
         "text": "my day consists of Halloween movies and food nice",
         "gender": "female",
         "_deepnote_index_column": 19802
        },
        {
         "text": "#Reverbnation #musicartist Get 100,000 song plays, 20,000 fans, 15,000 likes and 3,500 comments reach popularity https://t.co/m0jpU400HE",
         "gender": "male",
         "_deepnote_index_column": 19803
        },
        {
         "text": "A friendly reminder that UT and A&amp;M are not even ranked while UH is ranked 18th and is undefeated. Thank you for your time.",
         "gender": "male",
         "_deepnote_index_column": 19804
        },
        {
         "text": "@ntvkenya #presspass , they have just created channels for politicians to use in spreading divisive , malicious and ethnic based politics.",
         "gender": "male",
         "_deepnote_index_column": 19805
        },
        {
         "text": "When I fixate on a mix concept it prioritises over contracts &amp; label releases.\n\nI just have to hit my decks and express myself _Ù_¤",
         "gender": "male",
         "_deepnote_index_column": 19806
        },
        {
         "text": "@bbceastenders can't keep up with all these plot twists and story lines lately I thought my life was complicated _Ù÷â",
         "gender": "unknown",
         "_deepnote_index_column": 19807
        },
        {
         "text": "ALLL YALL MCM's AND WCW's DOIN BAD OUTHERE LMAO",
         "gender": "brand",
         "_deepnote_index_column": 19808
        },
        {
         "text": "Look at the first ingredient on those and google it...\"mechanically separated\"  https://t.co/uYgAFVjug4",
         "gender": "male",
         "_deepnote_index_column": 19809
        },
        {
         "text": "@emcrit #ACEP15 DSI is really just procedural sedation with an intubation as the procedure. And we are really good at procedural sedation.",
         "gender": "male",
         "_deepnote_index_column": 19810
        },
        {
         "text": "So...you held a gun to me, you still don't trust me, you questioned my decision to shoot Udina, and now you want a spot on the Normandy?",
         "gender": "unknown",
         "_deepnote_index_column": 19811
        },
        {
         "text": "Worktable - Workshop Solutions Projects, Tips and Tricks - https://t.co/c3bqbiYAAg https://t.co/EB513giKWd",
         "gender": "brand",
         "_deepnote_index_column": 19812
        },
        {
         "text": "So try and keep it low. Keep em all on the need to know",
         "gender": "male",
         "_deepnote_index_column": 19813
        },
        {
         "text": "if i offered and if i let you have some then okay idgaf but do not touch whats not yours especially my motherfucken food _ÙÔ__Ù_",
         "gender": "female",
         "_deepnote_index_column": 19814
        },
        {
         "text": "How Scott Walker and the Kochs Are Making Wisconsin Corruption-Friendly https://t.co/r1bazSggbk by @theprospect https://t.co/ZutAKCI4Sy",
         "gender": "brand",
         "_deepnote_index_column": 19815
        },
        {
         "text": "@TheRealStanLee @TheRealStanLee My artist is called Metanoiz. They are incredibly talented and original. I can send you links and info.",
         "gender": "male",
         "_deepnote_index_column": 19816
        },
        {
         "text": "#abcnews Sausages and ham cause cancer, red meat probably does too: UN agency. Brace yourself, butchers _Ù÷¥ https://t.co/3vETdrhTxf",
         "gender": "female",
         "_deepnote_index_column": 19817
        },
        {
         "text": "5 people followed me and 3 people unfollowed me // automatically checked by https://t.co/6lclTXQJoN",
         "gender": "unknown",
         "_deepnote_index_column": 19818
        },
        {
         "text": "Get on the computer and do what I do best ...",
         "gender": "female",
         "_deepnote_index_column": 19819
        },
        {
         "text": "News: paulfeig: Hey, adults! Wanna know how your voice sounds to kids? Head to this site and give it a try, care oÛ_ https://t.co/0c667p8sgG;",
         "gender": "brand",
         "_deepnote_index_column": 19820
        },
        {
         "text": "now it's winter and i'm thinkin back on the summertime https://t.co/XW35LyZaHY",
         "gender": "female",
         "_deepnote_index_column": 19821
        },
        {
         "text": "I wish all police officers just went on strike like they did in Boston half a century ago and let the urban areas who are victims of",
         "gender": "male",
         "_deepnote_index_column": 19822
        },
        {
         "text": "I Just Voted for @onedirection for #ArtistOfTheYear Go Here https://t.co/YmYJAPyvNk and Vote for your favorite! _Ùªâ_ÙªÄ_Ù÷_÷¼ü_Ù÷Î",
         "gender": "female",
         "_deepnote_index_column": 19823
        },
        {
         "text": "@kennef883 But I also type real words like \"thumb\" and it auto corrects to \"them\"???? AURGH",
         "gender": "female",
         "_deepnote_index_column": 19824
        },
        {
         "text": "Photo: dalbi95: ÔÊ_ÇÔÊ_Ç Just the Doctor and Clara Oswald in the TARDIS! https://t.co/y4xHG3dqS1",
         "gender": "female",
         "_deepnote_index_column": 19825
        },
        {
         "text": "..and of course, h/t @GlobeSpotlight @jennabelson @GlobeLizK Jonathan Saltzman and Scott Allen.  https://t.co/DBXudZzml6",
         "gender": "male",
         "_deepnote_index_column": 19826
        },
        {
         "text": "Very dumb and mad",
         "gender": "unknown",
         "_deepnote_index_column": 19827
        },
        {
         "text": "A family in my neighborhood is having a birthday party for their dog and inviting other dogs in the neighborhood... #thingswhitefolkslike",
         "gender": "female",
         "_deepnote_index_column": 19828
        },
        {
         "text": "@Trolt13 that is a fact! I have only ever encountered ONE person that didn't wholeheartedly love them, and his objection was pretty mild.",
         "gender": "male",
         "_deepnote_index_column": 19829
        },
        {
         "text": "I asked for vitamins and they bought prenatal vitamins yes what is this",
         "gender": "female",
         "_deepnote_index_column": 19830
        },
        {
         "text": "@TWC_Help Internet still moving slow and the 5 ghz light is still blinking",
         "gender": "male",
         "_deepnote_index_column": 19831
        },
        {
         "text": "@LasseLyck yes I know. Wondering if the head of Danish FA woke up one morning and realized FIFA is tainted. Isn't he part of the system?",
         "gender": "male",
         "_deepnote_index_column": 19832
        },
        {
         "text": "@patilirana Please share and sign to #saveDominion #Dominion https://t.co/IVlxmYDo8G (i hope I havent sent you this already)",
         "gender": "male",
         "_deepnote_index_column": 19833
        },
        {
         "text": "3. So that when she threatens not to cook you can use fry pan to bang her head and handle your business",
         "gender": "brand",
         "_deepnote_index_column": 19834
        },
        {
         "text": "@hollyjoee could be worse, you could be Dagenham and Redbridge...",
         "gender": "male",
         "_deepnote_index_column": 19835
        },
        {
         "text": "i try to make everybody happy and most of the time it works .. \nbut till this moment nobody could make me happy.",
         "gender": "female",
         "_deepnote_index_column": 19836
        },
        {
         "text": "This is my get well gift from Gabe the Babe . Now all I need is a candy tree and I will be just like uncle Doug... https://t.co/zfU30TTUfp",
         "gender": "female",
         "_deepnote_index_column": 19837
        },
        {
         "text": "@pprincesaputa I might go into the fabric shop in town and get some iron on patches with PCA ;)",
         "gender": "female",
         "_deepnote_index_column": 19838
        },
        {
         "text": "@ShezaHolmes good. *winks happily and runs his fingers through his hair* anything else you wanna know?",
         "gender": "male",
         "_deepnote_index_column": 19839
        },
        {
         "text": "@CaptainSparklez @Ho_logie  what trick is that and can u do it",
         "gender": "male",
         "_deepnote_index_column": 19840
        },
        {
         "text": "Having hoes is cool and all but sometimes you just want a chick that'll threaten to kill you if you flirt with another bitch lol.",
         "gender": "unknown",
         "_deepnote_index_column": 19841
        },
        {
         "text": "Brothers and sisters :D",
         "gender": "nan",
         "_deepnote_index_column": 19842
        },
        {
         "text": "@Jeanettevanzyl @FitnessYoga33 Then lock your account and stop taunting people. Oh wait, that would be logical _Ùªã",
         "gender": "unknown",
         "_deepnote_index_column": 19843
        },
        {
         "text": "@emmafreud Take that as positive and move on",
         "gender": "female",
         "_deepnote_index_column": 19844
        },
        {
         "text": "@Magus1234 you can combo it. just gotta charge early, dont do the move and charge after seeing it hit for necalli st hk",
         "gender": "male",
         "_deepnote_index_column": 19845
        },
        {
         "text": "These 24 Wedding Photobombs Made The Bride And Groom Day Much Better LOL. https://t.co/8Ed2e42aZw",
         "gender": "female",
         "_deepnote_index_column": 19846
        },
        {
         "text": "From what I hear, it was a misunderstanding and he hung up as soon as he realized he was in the quiet car @Deanofcomedy @CNNOpinion",
         "gender": "male",
         "_deepnote_index_column": 19847
        },
        {
         "text": "@ChrisOflyng um i love hot tea and cuddles and idc whether you're sick or not :)))",
         "gender": "female",
         "_deepnote_index_column": 19848
        },
        {
         "text": "\"Spectre\" world premiere: Daniel Craig and his co-stars certainly looked like special agents in their sophisti... https://t.co/y4UWB6qUaT",
         "gender": "male",
         "_deepnote_index_column": 19849
        },
        {
         "text": "I love Paul and Les having this heart-to-heart. One of those quiet, strong moments #EastEnders is so good at.",
         "gender": "unknown",
         "_deepnote_index_column": 19850
        },
        {
         "text": "Many of the #Rohingya in this camp lived and worked in Sittwe until their homes were burnt in 2012 #GenocideAgenda https://t.co/QWW5LNGkM9",
         "gender": "female",
         "_deepnote_index_column": 19851
        },
        {
         "text": "\"yes na it was known in s1 @FinallyVeevy: Now into season 3 and I still haven't quite figured it out. Is Reddington Liz's father?\"",
         "gender": "male",
         "_deepnote_index_column": 19852
        },
        {
         "text": "5sos hate don't stop and its hilarious loool https://t.co/u1K0qGsHnD",
         "gender": "female",
         "_deepnote_index_column": 19853
        },
        {
         "text": "New pots and strings for my Peavy BXP... å£30. Why have I not done this yet!?",
         "gender": "male",
         "_deepnote_index_column": 19854
        },
        {
         "text": "@emmkat12 this may be your greatest tweet, and that's honestly saying something",
         "gender": "male",
         "_deepnote_index_column": 19855
        },
        {
         "text": "@diami03 oh really? Cor blimey strike a light apples and pears British accent?",
         "gender": "male",
         "_deepnote_index_column": 19856
        },
        {
         "text": "@Spj6196 @robertsnell7 @RobelMccarthy @Patriots there's 18games in a season! 6 our division games and the #Jets no matter thei record always",
         "gender": "male",
         "_deepnote_index_column": 19857
        },
        {
         "text": "@milanaknez Independance is not far away for RS and I welcome it. The muslims inside the BIH are becoming more and more radical and its",
         "gender": "brand",
         "_deepnote_index_column": 19858
        },
        {
         "text": "Just made 7 litres of soup. New record, for sure. And yes, we are only a two person household.",
         "gender": "male",
         "_deepnote_index_column": 19859
        },
        {
         "text": "I Just Voted for @onedirection for #ArtistOfTheYear https://t.co/m6og9Erpl8 and Vote for your favorite!  #AMAs #OneDirection @martam1228",
         "gender": "male",
         "_deepnote_index_column": 19860
        },
        {
         "text": "@Dancouldbonfire Phil moved his hips along yours, rubbing himself against you. He held onto you and made quiet noises too, blushing +",
         "gender": "male",
         "_deepnote_index_column": 19861
        },
        {
         "text": "@seldred32 I may be little and white but I'll kick their butt _Ù÷â",
         "gender": "female",
         "_deepnote_index_column": 19862
        },
        {
         "text": "#Vasco captain Rodrigo is at it again! First #Flamengo defender Samir and now #Gremio defender Erazo #quevergonha https://t.co/aupU8GW1na",
         "gender": "male",
         "_deepnote_index_column": 19863
        },
        {
         "text": "You act as though you're this wise person who spits out genius and wisdom. But you yourself have To grow SO much.",
         "gender": "female",
         "_deepnote_index_column": 19864
        },
        {
         "text": "\"@flowwriter360: tinaspice and he probly just wanted to compliment her o. ordinary more gorgeuos has turned her 'friend' to monster\" ** _Ù÷",
         "gender": "female",
         "_deepnote_index_column": 19865
        },
        {
         "text": "you can't retweet something and expect straight A's. Work for it",
         "gender": "female",
         "_deepnote_index_column": 19866
        },
        {
         "text": "@ByeCorn African Black soap at night and Spectro in the mornings.",
         "gender": "male",
         "_deepnote_index_column": 19867
        },
        {
         "text": "We need to get rid of all of Republicans and DINO's. https://t.co/Le8tWRRVDF",
         "gender": "unknown",
         "_deepnote_index_column": 19868
        },
        {
         "text": "Risk of loss of innocence. And that always happens. Story of humans, yes? #LitChat",
         "gender": "female",
         "_deepnote_index_column": 19869
        },
        {
         "text": "You know you have the right person by your side when you've had a horrible day and they make everything better. £",
         "gender": "female",
         "_deepnote_index_column": 19870
        },
        {
         "text": "@TalkTalk_UK and learn some netsec 101",
         "gender": "male",
         "_deepnote_index_column": 19871
        },
        {
         "text": "Everyone always gives half assed answers to try and not hurt people but it just makes it worse. This is why I just don't bother anymore",
         "gender": "male",
         "_deepnote_index_column": 19872
        },
        {
         "text": "LMAO SAID THE GIRL THAT \"WENT TO THE CONCERT\" AND \"FREAKED OUT WHEN SHE MET LOUIS\"  https://t.co/BKVNUk9645",
         "gender": "male",
         "_deepnote_index_column": 19873
        },
        {
         "text": "This kid just yelled at the top of their lungs on the train and I want to die",
         "gender": "male",
         "_deepnote_index_column": 19874
        },
        {
         "text": "I really hope students dressed as kings and queens for @TheEllenShow instead of Royals players.",
         "gender": "male",
         "_deepnote_index_column": 19875
        },
        {
         "text": "https://t.co/O2aJeK6Mr3: Thai whore pussy and anal fuck https://t.co/ov7IrLenyK",
         "gender": "brand",
         "_deepnote_index_column": 19876
        },
        {
         "text": "Up and thankful",
         "gender": "female",
         "_deepnote_index_column": 19877
        },
        {
         "text": "The shows guaranteed to make you ran faster and jump higher https://t.co/AelwdXrWXA",
         "gender": "male",
         "_deepnote_index_column": 19878
        },
        {
         "text": "I'm leaving at 2 in Thursday and my phone will get here at 2:30. ÷¼ü÷¼ü÷¼ü÷¼ü÷¼ü÷¼ü÷¼ü÷¼ü÷¼ü÷¼ü÷¼ü",
         "gender": "female",
         "_deepnote_index_column": 19879
        },
        {
         "text": "@cracksh0t Last time i took my daughter to this she got scared and kickboxed the zombies jumping out at her. Hard.Hope he wasn't one to them",
         "gender": "male",
         "_deepnote_index_column": 19880
        },
        {
         "text": "@JeauxAlejandro actually the lowest level probably means you're damn near employable and/or your manager probably hates you",
         "gender": "female",
         "_deepnote_index_column": 19881
        },
        {
         "text": "I need to stop being a degenerate and read this book for my class.",
         "gender": "female",
         "_deepnote_index_column": 19882
        },
        {
         "text": "TechCrunch The Rise Of The Smartphone Means The End Of Mobile Wallets From Carriers And Banks https://t.co/acEzn2hBa0",
         "gender": "brand",
         "_deepnote_index_column": 19883
        },
        {
         "text": "@WarlordHitman98 lol it had the exact same frame and drive train options tho lolol and if you take the roof thing off bam lol",
         "gender": "unknown",
         "_deepnote_index_column": 19884
        },
        {
         "text": "Washington Post: #Iran marches, Russia rules, #Obama sits back and watches https://t.co/yDO7WwAhqv https://t.co/9oyc2rfTui #USA #Canada",
         "gender": "unknown",
         "_deepnote_index_column": 19885
        },
        {
         "text": "@superiorhowell _ÙÔÈ_Ù_Ä_Ùã÷¥_Ù i love your acc so much and omg yOUR ME LAYOUT IN CRYING ON THE FLOOR",
         "gender": "male",
         "_deepnote_index_column": 19886
        },
        {
         "text": "ª¤åÈ #Blue/#Purple #ShortSleeve and #SpaghettiStrap #Top #Junior's #Medium #M #Summer #Spring https://t.co/s1WSZb2GFB https://t.co/6JNvYjxfCd",
         "gender": "female",
         "_deepnote_index_column": 19887
        },
        {
         "text": "@ELCEEZUS he knows our generation very well and him putting out that hotline bling MV just to have Twitter meme it was genius",
         "gender": "male",
         "_deepnote_index_column": 19888
        },
        {
         "text": "@waynedunn91 He looks nice and cosy! Love the hat _Ù÷ã",
         "gender": "unknown",
         "_deepnote_index_column": 19889
        },
        {
         "text": "Happy birthday Dad! I wish I could be there to help celebrate. I love you and thank you for everything you do _ÙÕª÷¼ü https://t.co/3cezDqdTrp",
         "gender": "female",
         "_deepnote_index_column": 19890
        },
        {
         "text": "my girlfriend and my best friend are all I need to be happy cause they're pretty tight",
         "gender": "male",
         "_deepnote_index_column": 19891
        },
        {
         "text": "We watched a rlly disturbing video about the kkk and I wanted to puke theyre so disgusting",
         "gender": "female",
         "_deepnote_index_column": 19892
        },
        {
         "text": "MELANIES PLAYING 5SOS AND STAHURA ASKED HER IF THIS MUSIC DIDNT MAKE HER WANNA KILL HERSELF _Ù_Û_Ù_Û_Ù_Û",
         "gender": "female",
         "_deepnote_index_column": 19893
        },
        {
         "text": "2 followers and 20 unfollowers ok",
         "gender": "male",
         "_deepnote_index_column": 19894
        },
        {
         "text": "I just found a baby spider in my hair and this girl next to me tried to kill it wtf he's just a baby",
         "gender": "female",
         "_deepnote_index_column": 19895
        },
        {
         "text": "IM STARVING AND IVE BEEN IN THIS WAITING ROOM FOR ALMOST 2 HOURS HELP _Ù ÷_Ù ÷_Ù ÷_Ù ÷",
         "gender": "female",
         "_deepnote_index_column": 19896
        },
        {
         "text": "Fuck me over and it's fuck you forever...",
         "gender": "male",
         "_deepnote_index_column": 19897
        },
        {
         "text": "@natashalnei and I quote @LulitaAnn \"PFFFTSH, gurrrl.. I knOw Spanish!\" _Ù÷â_Ù__Ù÷â_Ù÷ä",
         "gender": "female",
         "_deepnote_index_column": 19898
        },
        {
         "text": "Too much pressure on Rooney as captain, definitely not the same player since he got the armband. \nGive it to Bastian and let Rooney loose",
         "gender": "male",
         "_deepnote_index_column": 19899
        },
        {
         "text": "Davido, Olamide And Wizkid's Fleet Of Cars And Their Worth (Photos) https://t.co/qUmh8nh1Hq",
         "gender": "male",
         "_deepnote_index_column": 19900
        },
        {
         "text": "@Kisses_Anime1 Hey hun :) im searching them on Tumblr and Google :&gt;",
         "gender": "male",
         "_deepnote_index_column": 19901
        },
        {
         "text": "Read about pressing issues of CEOs, CFOs and CIOs  and how they deal with them - today's WSJ Report, C-Suite Strategies. Great insights.",
         "gender": "female",
         "_deepnote_index_column": 19902
        },
        {
         "text": "seria and i did mas foi mals",
         "gender": "female",
         "_deepnote_index_column": 19903
        },
        {
         "text": "@AV1215225LJK @embracemy_soul im not going to forget him..i cant and i dont want to",
         "gender": "male",
         "_deepnote_index_column": 19904
        },
        {
         "text": "@BrooksDslbrooks @BobbyShoobeey @donutsdebsdibs The old and actual, otherwise Cote would have still her job after a longer break.",
         "gender": "female",
         "_deepnote_index_column": 19905
        },
        {
         "text": "And now for something completely different.",
         "gender": "male",
         "_deepnote_index_column": 19906
        },
        {
         "text": "@metjeffuk you could be right, most forecasters said it would be cold this week and look how wrong the've been!",
         "gender": "male",
         "_deepnote_index_column": 19907
        },
        {
         "text": "my birthday is 21 days away and im not excited at all",
         "gender": "female",
         "_deepnote_index_column": 19908
        },
        {
         "text": "@GoogleMyClips your feed is asking for fan signs and nothing else. It's pedestrian and frankly insulting to ask girls nonstop. Not cool bruh",
         "gender": "female",
         "_deepnote_index_column": 19909
        },
        {
         "text": "I just do my dance, cuff my pants, and twist my fingaz with my hands",
         "gender": "female",
         "_deepnote_index_column": 19910
        },
        {
         "text": "this wifi is killin me, i swear im gonna call them tmrw and let every frustration out thats inside of me bc of this shit",
         "gender": "female",
         "_deepnote_index_column": 19911
        },
        {
         "text": "@_iamextra wait so she asked you to buy her son food and when you didn't, she asked for you leftovers to take to him?",
         "gender": "unknown",
         "_deepnote_index_column": 19912
        },
        {
         "text": "@RogueSquadPod Google is skynet and Facebook is google's version of the T3000! In other words... We're all fucked.",
         "gender": "male",
         "_deepnote_index_column": 19913
        },
        {
         "text": "Bruh I have absolutely nothing to do at work and my boss won't let me go early. I'm so bored I'm cleaning my desk _Ù÷â",
         "gender": "male",
         "_deepnote_index_column": 19914
        },
        {
         "text": "Excited to intro 2016 Target Field enhancements - Minnie &amp; Paul's (open to all fans) and CATCH (Season Tix venue). https://t.co/8ME4e9fGgV",
         "gender": "male",
         "_deepnote_index_column": 19915
        },
        {
         "text": "Sunday is November 1st! Grab that bag of Halloween candy and write. Yay! #NaNoWriMo2015 @NaNoWriMo",
         "gender": "male",
         "_deepnote_index_column": 19916
        },
        {
         "text": ".@chr1sa @StartupLJackson More like riding the Mobius strip. You're ethical and unethical at the same time.",
         "gender": "male",
         "_deepnote_index_column": 19917
        },
        {
         "text": "i canÛªt wait to have kids and to steer them so fucking clear of gender stereotypes",
         "gender": "female",
         "_deepnote_index_column": 19918
        },
        {
         "text": "Stupid fucking shoulder!!!!! Only been back a day and can barely lift my bloody arm!!! #needanotherholiday #needamassage _Ù÷Ç",
         "gender": "female",
         "_deepnote_index_column": 19919
        },
        {
         "text": "A cute friend to check up on me here and there and to have my back would be nice, because I'm so cool on relationships_Ù÷",
         "gender": "female",
         "_deepnote_index_column": 19920
        },
        {
         "text": "@Grimezsz FLESH WITHOUT BLOOD IS MY NEW RINGTONE AND NEW ALARM",
         "gender": "female",
         "_deepnote_index_column": 19921
        },
        {
         "text": "Red and Grey Squirrels in Great Britain. https://t.co/aFPLQnMGlZ PLEASE READ: https://t.co/JUc8VwOPgg",
         "gender": "brand",
         "_deepnote_index_column": 19922
        },
        {
         "text": "Hot dogs, bacon and other processed meats can increase chances of cancer, World Health Organization declares https://t.co/5VctZGSns6",
         "gender": "female",
         "_deepnote_index_column": 19923
        },
        {
         "text": " Õ_ #MILEYCYRUSMAX #Black and #White #GraphicButterfly #ShortSleeve #T-Shirt #M https://t.co/ouKT37xDDj https://t.co/9v1sNmsdo2",
         "gender": "female",
         "_deepnote_index_column": 19924
        },
        {
         "text": "Û¼÷É A look at my classic collection line of #jewelry earrings and bracelets #fashion #etsy https://t.co/STsLYxxhCP https://t.co/DZPbOUulbS",
         "gender": "brand",
         "_deepnote_index_column": 19925
        },
        {
         "text": "@itsskaylea33 @robfee so ready to see this movie and see how good/bad Jared Leto does!",
         "gender": "male",
         "_deepnote_index_column": 19926
        },
        {
         "text": "Looks like Beachamp from @_danibatze and @PHSWarriors1957 are up 5-0. #ShoreFH",
         "gender": "male",
         "_deepnote_index_column": 19927
        },
        {
         "text": "Newcastle: The Good, The Bad and The Unpredictable (@Thomasnorris1) - https://t.co/7xQ0tws815 https://t.co/1glR9zpXWA",
         "gender": "brand",
         "_deepnote_index_column": 19928
        },
        {
         "text": "Next clickbait from @inversedotcom and @petermrugg: Your bottled water was in another person's body at some point!  Click here now!",
         "gender": "brand",
         "_deepnote_index_column": 19929
        },
        {
         "text": "just gotta finish yyh and then I can start some new stuff..",
         "gender": "male",
         "_deepnote_index_column": 19930
        },
        {
         "text": "So now even BACON and SAUSAGE can make me have CANCER life just isn't FAIR",
         "gender": "male",
         "_deepnote_index_column": 19931
        },
        {
         "text": "@iamroxxyhaze since '99 and the 00.",
         "gender": "male",
         "_deepnote_index_column": 19932
        },
        {
         "text": "@Vee_Kisses hell no got 12 years for a couple grams and street credit_Ù÷â_Ù÷â_Ù÷â_Ù÷Ç",
         "gender": "female",
         "_deepnote_index_column": 19933
        },
        {
         "text": "My updated OC, once again done by the amazing @LannieLona! New mane and eye styles. :3 Very happy with it! #brony https://t.co/hzIwa2wDwr",
         "gender": "brand",
         "_deepnote_index_column": 19934
        },
        {
         "text": "when you listen to permanent vacation in the car and you accidentally start speeding",
         "gender": "female",
         "_deepnote_index_column": 19935
        },
        {
         "text": "ask amara \"@Hai_ingrid: Sey. Uche. and Amara. dey date?\"",
         "gender": "female",
         "_deepnote_index_column": 19936
        },
        {
         "text": "Carrots and Sticks. #StartWithWhy  URL:https://t.co/R4yTitRqeZ",
         "gender": "male",
         "_deepnote_index_column": 19937
        },
        {
         "text": "Super excited for French lessons with @hansenn_m and @CarsonBrackett _ÙàÇ_Ùàá #frenchbestfriend",
         "gender": "female",
         "_deepnote_index_column": 19938
        },
        {
         "text": "The Fantasy Life of Midnight Jade and Magical Oblivion.: https://t.co/Pre0OicVYr",
         "gender": "female",
         "_deepnote_index_column": 19939
        },
        {
         "text": "11 people followed me and 2 people unfollowed me // automatically checked by https://t.co/bwwOUZ45ML",
         "gender": "female",
         "_deepnote_index_column": 19940
        },
        {
         "text": "@LivingHorcrux --an awkward tone and looked away.",
         "gender": "brand",
         "_deepnote_index_column": 19941
        },
        {
         "text": "Us and them. https://t.co/Rqd59KLUeH",
         "gender": "male",
         "_deepnote_index_column": 19942
        },
        {
         "text": "\"if this is what he wants \nand this is what she wants \nthen why is there so much pain?\"",
         "gender": "female",
         "_deepnote_index_column": 19943
        },
        {
         "text": "Davido, Olamide And Wizkid's Fleet Of Cars And Their Worth (Photos): This list comprises of Nigerian A list Mu... https://t.co/26uRRT5uxK",
         "gender": "female",
         "_deepnote_index_column": 19944
        },
        {
         "text": "@mila_ashton Mila and Kristen are friends while Ashton and Dax are also friends _Ù÷",
         "gender": "brand",
         "_deepnote_index_column": 19945
        },
        {
         "text": "Amnesty investigates impact of resource extraction on indigenous communities https://t.co/pOa4Ut39Vx",
         "gender": "unknown",
         "_deepnote_index_column": 19946
        },
        {
         "text": "Y'all some weirdos.... Putting your \"friends\" on blast. Bitch I'll lie for my friend... Lmao \"fuck you mean? She's a virgin and you mad\"",
         "gender": "female",
         "_deepnote_index_column": 19947
        },
        {
         "text": "In cpt and you want to ride the beutiful ocean go check out vudu surf shop .f",
         "gender": "unknown",
         "_deepnote_index_column": 19948
        },
        {
         "text": "16 people followed me and 3 people unfollowed me // automatically checked by https://t.co/50w6WDmBvt",
         "gender": "female",
         "_deepnote_index_column": 19949
        },
        {
         "text": "That shit that'll get you a set a keys and all the trimmings........... #CajuanPrawnsÛ_ https://t.co/9pNQVO1TAg",
         "gender": "male",
         "_deepnote_index_column": 19950
        },
        {
         "text": "It's always exciting to read a piece with actual insights about politics, journalism, and common sense: https://t.co/OvQboPl3PP",
         "gender": "female",
         "_deepnote_index_column": 19951
        },
        {
         "text": "My ironing board got delivered last night at 4 am. Heard mysterious knocking, looked outside and bang! Totally shook https://t.co/sLl9ZS94NS",
         "gender": "brand",
         "_deepnote_index_column": 19952
        },
        {
         "text": "I'm a Birdie and I #Fuk Hot Bitches !!! https://t.co/qWCJ5B5evV",
         "gender": "unknown",
         "_deepnote_index_column": 19953
        },
        {
         "text": "And I asked every book, poetry and chime\n\"Can there be breaks in the chaos of times?\"",
         "gender": "female",
         "_deepnote_index_column": 19954
        },
        {
         "text": "@NathanGrisdale the fact that I have a app for only you and your music ahah X",
         "gender": "female",
         "_deepnote_index_column": 19955
        },
        {
         "text": "Discussing housing and health #empoweringyou @power2endstroke @aha_vida https://t.co/OTaUKOs38J",
         "gender": "female",
         "_deepnote_index_column": 19956
        },
        {
         "text": "Never used a dating app in my life and I never will. I prefer meeting people in person. Body language is everything",
         "gender": "female",
         "_deepnote_index_column": 19957
        },
        {
         "text": "Its a double capsule day _Ù÷ã_Ù÷ã 27 varieties of fruit and veg...in a capsule, simples _Ù÷ã_Ù÷ã #fruitandveg #juiceplus #health https://t.co/tXhS9N9fsD",
         "gender": "female",
         "_deepnote_index_column": 19958
        },
        {
         "text": "@RealCSI once again proving that those who can't sing are the ones who want to do so, and with the loudest voices.",
         "gender": "unknown",
         "_deepnote_index_column": 19959
        },
        {
         "text": "Heavy contact. Norwell player down. Coaches and trainer on the field #tplsports",
         "gender": "male",
         "_deepnote_index_column": 19960
        },
        {
         "text": "I hate having PE for 5th , I get so damn hot and sweaty",
         "gender": "female",
         "_deepnote_index_column": 19961
        },
        {
         "text": "I just entered for a chance to win a Astro A40 TR Headset courtesy of @sattelizergames! And you can too! https://t.co/oDV4Y6BV4O",
         "gender": "male",
         "_deepnote_index_column": 19962
        },
        {
         "text": "I'm just ready to get out of high school and start life...",
         "gender": "female",
         "_deepnote_index_column": 19963
        },
        {
         "text": "@DesiredLapine \"They are so good. I just want to see witches and wizards react to their /outfits/.\"",
         "gender": "female",
         "_deepnote_index_column": 19964
        },
        {
         "text": "When I saw this my heart stopped and I looked like this https://t.co/2r3hruZMMM",
         "gender": "female",
         "_deepnote_index_column": 19965
        },
        {
         "text": "See our latest #FortWorth, TX #job and click to apply: CERTIFIED OCCUPATIONAL THERAPY ASSISTANT (COTA) needed... - https://t.co/cndh0c7BPt",
         "gender": "brand",
         "_deepnote_index_column": 19966
        },
        {
         "text": "@del_ebooks Thank you for your comments and welcome to my site",
         "gender": "brand",
         "_deepnote_index_column": 19967
        },
        {
         "text": "when you trying to convince your family to love the Buffalo Bills and they ain't having it https://t.co/MA5jg8VLW0",
         "gender": "female",
         "_deepnote_index_column": 19968
        },
        {
         "text": "I've been thinking a lot about blue eyeliner lately. (And I mean A LOT)",
         "gender": "female",
         "_deepnote_index_column": 19969
        },
        {
         "text": "Omg I am sitting here crying while making this video of my little sister and our dog!!! Ughhhh _Ù÷¢_Ù÷¡_Ù÷__Ùªö",
         "gender": "female",
         "_deepnote_index_column": 19970
        },
        {
         "text": "Ice hockey game today at RMU at 7. We might win this one so please come and support",
         "gender": "brand",
         "_deepnote_index_column": 19971
        },
        {
         "text": "\"Spectre\" world premiere: Daniel Craig and his co-stars certainly looked like special agents in their sophisti... https://t.co/k33XFmA6ex",
         "gender": "male",
         "_deepnote_index_column": 19972
        },
        {
         "text": "STUDENT REWARDS: WHERE I SIT AND WHY? - A Guest Post from Australia. This is the first of three Blog https://t.co/woTdgqseLa #ResourceAngel",
         "gender": "brand",
         "_deepnote_index_column": 19973
        },
        {
         "text": "I'm off tomorrow, and so is my barber. Pissed",
         "gender": "male",
         "_deepnote_index_column": 19974
        },
        {
         "text": "@kimmyyybabyyy lmaooo tell me WHY. Our van is a white unmarked van and the Windows have to be manually unrolled..._Ù_Ò",
         "gender": "female",
         "_deepnote_index_column": 19975
        },
        {
         "text": "there's this thing called \"education\" that a lot seem to forget. we learn as we grow and some actions aren't ill-intended that can be mend.",
         "gender": "female",
         "_deepnote_index_column": 19976
        },
        {
         "text": "@TreTre0 @vonebell ..GORGEOUS DRESS by my favorite designer. The one and only @jennypackham ! #KateMiddleton  https://t.co/AiZcRTkR1b",
         "gender": "female",
         "_deepnote_index_column": 19977
        },
        {
         "text": "That moment you wish you were @lauranotclaire because her life is amazing and she has met @halsey 639397 times _Ù÷©",
         "gender": "female",
         "_deepnote_index_column": 19978
        },
        {
         "text": "@Sparkle__Monkey @Joe_Gatto @jamessmurray Must have miser that tweet haha, I hope they do come to Scotland so me and my fiancÌ© can see them",
         "gender": "female",
         "_deepnote_index_column": 19979
        },
        {
         "text": "@lucasjoesph you'll scream and dance about and be sooooo happy",
         "gender": "female",
         "_deepnote_index_column": 19980
        },
        {
         "text": "Davido, Olamide And Wizkid's Fleet Of Cars And Their Worth (Photos): This list comprises of Nigerian A list Mu... https://t.co/PMGbyx20o5",
         "gender": "male",
         "_deepnote_index_column": 19981
        },
        {
         "text": "@iBhootFAN Its Tabi and bingu means crazy lmao! Yeah I am totally serious _Ù÷â",
         "gender": "female",
         "_deepnote_index_column": 19982
        },
        {
         "text": "cigarette and a beer in these crispy crunchy leaves _Ùâ_Ù_Ù¼",
         "gender": "female",
         "_deepnote_index_column": 19983
        },
        {
         "text": "When you're driving home from school and \"perfect\" comes on the radio_ü (I almst wrecked the car) #voteonedirection https://t.co/LXFzH5d5BE",
         "gender": "female",
         "_deepnote_index_column": 19984
        },
        {
         "text": "@PatsKarvelas Wog meat kills Pat, just like coal mines and guns...",
         "gender": "brand",
         "_deepnote_index_column": 19985
        },
        {
         "text": "Web Hosting - cheap affordable business/personal web hosting and domain name registration services https://t.co/WlJXJtM3kP",
         "gender": "unknown",
         "_deepnote_index_column": 19986
        },
        {
         "text": "Just ate so much food and I'm still hungry like why",
         "gender": "female",
         "_deepnote_index_column": 19987
        },
        {
         "text": "Getting a superstar is a means, not the end goal in and of itself. https://t.co/qv8cKepNFC",
         "gender": "male",
         "_deepnote_index_column": 19988
        },
        {
         "text": "The (rather thin) analysis of the federal election outcome from John Baird and his new colleagues at Bennett Jones. https://t.co/mhjicKravz",
         "gender": "male",
         "_deepnote_index_column": 19989
        },
        {
         "text": "I constantly search the radio for hello, hotline bling and die a happy man.",
         "gender": "female",
         "_deepnote_index_column": 19990
        },
        {
         "text": "One SHOULD be able to express themselves with out profanity. To do otherwise seems to show a lack of vocabulary, and a laziness of thought.",
         "gender": "male",
         "_deepnote_index_column": 19991
        },
        {
         "text": "she always with her man _Ù÷¢_Ù÷¢_Ù÷¢ and i jus be there with my dog",
         "gender": "female",
         "_deepnote_index_column": 19992
        },
        {
         "text": "Processed meat is bad for you?!?! Well fuck me there's a surprise. It'S filthy dirty and disgusting STOP EATING... https://t.co/IytR4bTQkI",
         "gender": "male",
         "_deepnote_index_column": 19993
        },
        {
         "text": "Nothing like slipping at school running to your car and getting covered in mud",
         "gender": "female",
         "_deepnote_index_column": 19994
        },
        {
         "text": "Seriously love Trent and Justin. Would do anything for those dudes.",
         "gender": "male",
         "_deepnote_index_column": 19995
        },
        {
         "text": "One person can look at you like your the most beautiful thing inside and out and the next person can see the exact opposite. Just reality..",
         "gender": "male",
         "_deepnote_index_column": 19996
        },
        {
         "text": "These 24 Wedding Photobombs Made The Bride And Groom Day Much Better LOL. https://t.co/Ajna5JmhHH",
         "gender": "female",
         "_deepnote_index_column": 19997
        },
        {
         "text": "So I am riding around and I saw a horse running, right? So I yelled \"YOU GO HORSE!!\" And it nodded it's head at me!!! ^O^",
         "gender": "female",
         "_deepnote_index_column": 19998
        },
        {
         "text": "@toddrose24 @sadsackjetsfan yes I'd call that a great deal. Meanwhile in Buffalo Kane has one goal and is hurt and Bogo hasn't touched ice",
         "gender": "brand",
         "_deepnote_index_column": 19999
        },
        {
         "text": "Reimagining the #webdesign process by @InVisionApp - https://t.co/Vmb0OZU67e https://t.co/hFlWR8tfOl",
         "gender": "male",
         "_deepnote_index_column": 20000
        },
        {
         "text": "#WestHam Tweets: 52: Goal. @FulhamFC double their lead. No7 Dean O'Halloran gets in behind and scores low toÛ_ https://t.co/nNl43w8yX3",
         "gender": "brand",
         "_deepnote_index_column": 20001
        },
        {
         "text": "Webber: 'It's a chance for the lads to pit their wits against a League club and see where they stand in it all.' #EmiratesFACup",
         "gender": "brand",
         "_deepnote_index_column": 20002
        },
        {
         "text": "Get Weather Updates from The Weather Channel. 15:40:07",
         "gender": "brand",
         "_deepnote_index_column": 20003
        },
        {
         "text": "@TheFalcoholic is like the mailman... Because he delivers! #MuteBuck &amp; #BlitzTheBooth on @RabbleTV! https://t.co/BbYsOolD0D",
         "gender": "male",
         "_deepnote_index_column": 20004
        },
        {
         "text": "@johnroderick @danbenjamin The way of the future.",
         "gender": "male",
         "_deepnote_index_column": 20005
        },
        {
         "text": "@Stickyribs1 Great burgers and ribs tonight. Nanchos to start lush! Cocktails also great-happy hour prices too!",
         "gender": "female",
         "_deepnote_index_column": 20006
        },
        {
         "text": "its for the best i hate 2/4 people in this house anyway no family of mine",
         "gender": "female",
         "_deepnote_index_column": 20007
        },
        {
         "text": "@anarchoshow breaking the laws of physics, whichever ones happen to apply to you, is IMPOSSIBLE. with a capital I.  Impossible.",
         "gender": "male",
         "_deepnote_index_column": 20008
        },
        {
         "text": "The day before the appointment to get my car inspected I get pulled over bc my car is out of inspection. #mondayblues",
         "gender": "female",
         "_deepnote_index_column": 20009
        },
        {
         "text": "@leedsparadise his name is Tapsi and he's the laziest cat in history we've had him for four years",
         "gender": "female",
         "_deepnote_index_column": 20010
        },
        {
         "text": "Now put ur skills in2 practice Gr8 deals,easy flights #aerlingus 2 Lyon,train 2 #Bardonecchia We'll do the rest! #tt https://t.co/pkbFOULK97",
         "gender": "brand",
         "_deepnote_index_column": 20011
        },
        {
         "text": "Have a talent in music and poetry/ spoken word that you wanna show butÛ_ https://t.co/7emHGS5rEP",
         "gender": "male",
         "_deepnote_index_column": 20012
        },
        {
         "text": "My parents are not paying tuition for me to sit here and do nothing and listen to you dictate how you are gonna fuvk up our lives",
         "gender": "male",
         "_deepnote_index_column": 20013
        },
        {
         "text": "@scttpilgrim ive superseded tumblr and pinterest but you should totes follow my instagram for coffee pics",
         "gender": "male",
         "_deepnote_index_column": 20014
        },
        {
         "text": "You can fall in love many times with many different people. However, I don't think that you can fall in love the same way twice.",
         "gender": "female",
         "_deepnote_index_column": 20015
        },
        {
         "text": "@iJamCrazyy aka I miss hoopin and womping in the SUNNN",
         "gender": "female",
         "_deepnote_index_column": 20016
        },
        {
         "text": "Get Weather Updates from The Weather Channel. 15:40:00",
         "gender": "brand",
         "_deepnote_index_column": 20017
        },
        {
         "text": "@ebwashington @binarybits OEM-owned Car2Go. OEMs and Tier 1s (or future suppliers--Google) likely in best position for AV subscription model",
         "gender": "male",
         "_deepnote_index_column": 20018
        },
        {
         "text": "@kass_xo was it really that funny lol and how are you stranger lol",
         "gender": "male",
         "_deepnote_index_column": 20019
        },
        {
         "text": "#WWII 27 Oct 42, NEW GUINEA:\n5AF P-40s escort RAAF medium bombers against shipping targets in the DÛªEntrecasteaux Islands. #WW2 #History",
         "gender": "brand",
         "_deepnote_index_column": 20020
        },
        {
         "text": "And Yes Im Toting Catch Em Without My Strap &amp; I'ma Poke Him",
         "gender": "male",
         "_deepnote_index_column": 20021
        },
        {
         "text": "I think I'm going to move to Colorado for the winter",
         "gender": "male",
         "_deepnote_index_column": 20022
        },
        {
         "text": "George Bush and Dick Cheney need to vacation in Irac the paradise they created",
         "gender": "male",
         "_deepnote_index_column": 20023
        },
        {
         "text": "The droids you're looking for... https://t.co/ApfEXgwDa2 #Comics",
         "gender": "brand",
         "_deepnote_index_column": 20024
        },
        {
         "text": "Ha ha!! I know what you mean @Bizstartuplady blink and it's gone! #OutThere  https://t.co/meq8LVB7x5",
         "gender": "brand",
         "_deepnote_index_column": 20025
        },
        {
         "text": "Still looking for the free bar https://t.co/WiQ3VaW7js",
         "gender": "male",
         "_deepnote_index_column": 20026
        },
        {
         "text": "the junior doctors had civil unrest in london yet hardly reported",
         "gender": "male",
         "_deepnote_index_column": 20027
        },
        {
         "text": "@lmaokaylinx @charlieputh but then i opened the picture and OMGG",
         "gender": "female",
         "_deepnote_index_column": 20028
        },
        {
         "text": "The Complete Gillian Flynn Gone Girl Sharp Objects Dark Places Set Soft Cover - Bid Now! OÛ_ https://t.co/VT4zA8m3VW https://t.co/v1hoiZudoA",
         "gender": "brand",
         "_deepnote_index_column": 20029
        },
        {
         "text": "The White House Is Ready For Tech To Step Up In Government https://t.co/eVwEv9Cfhd via @TechCrunch @preetnation",
         "gender": "brand",
         "_deepnote_index_column": 20030
        },
        {
         "text": "Bun B saving kids and Ribs!!!...Not all heroes have capes!!! Black lives matter and SO DO RIBS TOO!!!Û_ https://t.co/FWg1mK1sHh",
         "gender": "male",
         "_deepnote_index_column": 20031
        },
        {
         "text": "@legobutts you can do quests and kill stuff while wearing a mask and it'll get you candy you can use to get more masks without paying $",
         "gender": "male",
         "_deepnote_index_column": 20032
        },
        {
         "text": "i finally read blood of olympus and now that my children are all happy i can read the rest of my pile of books _ÙÔ_ÙÔ",
         "gender": "female",
         "_deepnote_index_column": 20033
        },
        {
         "text": "View the Community Halloween Spooktacular @CityClubRaleigh photo album!  https://t.co/NKn6ynsME0",
         "gender": "brand",
         "_deepnote_index_column": 20034
        },
        {
         "text": "Beetlejuice is the perfect Halloween movie!!!!! :-) #Beetlejuice #TimBurton",
         "gender": "female",
         "_deepnote_index_column": 20035
        },
        {
         "text": "@ItsLeeHinchy #LeesQANDA what's the story in balamory?",
         "gender": "female",
         "_deepnote_index_column": 20036
        },
        {
         "text": "@TrentWalton @oguzbilgic Spell it out in all-caps and I think you may have a candidate for a new Unicode character there.\ncc @EmojiProposals",
         "gender": "male",
         "_deepnote_index_column": 20037
        },
        {
         "text": "Jon Stewart's Animal Sanctuary And Educational Center Begins On New Jersey Farm https://t.co/M5Ta7OIju3",
         "gender": "brand",
         "_deepnote_index_column": 20038
        },
        {
         "text": "Especially when all you do is the best you can and you still get shit on",
         "gender": "female",
         "_deepnote_index_column": 20039
        },
        {
         "text": "Discovered it in England. It's how they eat fish and chips.  Never went back to ketchup. https://t.co/tYIf6bZmX2",
         "gender": "male",
         "_deepnote_index_column": 20040
        },
        {
         "text": "For Stan and Lisa... has #Coffee Cup at https://t.co/isnPirE5ZI #UFO",
         "gender": "brand",
         "_deepnote_index_column": 20041
        },
        {
         "text": "Best Bloody Mary Brunch at the #NYCWFF @nyceff @deathsdoor @HomemadeDelish @MenageaTroisÛ_ https://t.co/YtmiRfmoLp https://t.co/tuMsFceTlG",
         "gender": "brand",
         "_deepnote_index_column": 20042
        },
        {
         "text": "Game faggot and venison loin, crisp spelt and quince https://t.co/yvslN17siI",
         "gender": "male",
         "_deepnote_index_column": 20043
        },
        {
         "text": "Need A Ride Home From Practice _Ù÷Ô_Ù÷Ô_Ù÷ÔAnd its Raining Hard Asf _Ù÷©_Ù÷©_Ù÷©_ÙÕø",
         "gender": "female",
         "_deepnote_index_column": 20044
        },
        {
         "text": "@lookupondeath ...Fine, and I'll drink tea too. I love you.",
         "gender": "female",
         "_deepnote_index_column": 20045
        },
        {
         "text": "Greg Hardy you a good player and all but don't get in the face of Dez Bryant. Learn your place mane.",
         "gender": "male",
         "_deepnote_index_column": 20046
        },
        {
         "text": "You can miss people and still never want to see them again",
         "gender": "male",
         "_deepnote_index_column": 20047
        },
        {
         "text": "@bitemyapp i had noticed your tendency to pee on the carpet, but i didn't want to say anything :P",
         "gender": "female",
         "_deepnote_index_column": 20048
        },
        {
         "text": "I think for my APUSH creative project I'm going to bring bacon to class and eat it to represent Bacon's Rebellion",
         "gender": "female",
         "_deepnote_index_column": 20049
        }
       ]
      },
      "text/plain": "                                                    text  gender\n0      Robbie E Responds To Critics After Win Against...    male\n1      ÛÏIt felt like they were my friends and I was...    male\n2      i absolutely adore when louis starts the songs...    male\n3      Hi @JordanSpieth - Looking at the url - do you...    male\n4      Watching Neighbours on Sky+ catching up with t...  female\n...                                                  ...     ...\n20045  @lookupondeath ...Fine, and I'll drink tea too...  female\n20046  Greg Hardy you a good player and all but don't...    male\n20047  You can miss people and still never want to se...    male\n20048  @bitemyapp i had noticed your tendency to pee ...  female\n20049  I think for my APUSH creative project I'm goin...  female\n\n[20050 rows x 2 columns]",
      "text/html": "<div>\n<style scoped>\n    .dataframe tbody tr th:only-of-type {\n        vertical-align: middle;\n    }\n\n    .dataframe tbody tr th {\n        vertical-align: top;\n    }\n\n    .dataframe thead th {\n        text-align: right;\n    }\n</style>\n<table border=\"1\" class=\"dataframe\">\n  <thead>\n    <tr style=\"text-align: right;\">\n      <th></th>\n      <th>text</th>\n      <th>gender</th>\n    </tr>\n  </thead>\n  <tbody>\n    <tr>\n      <th>0</th>\n      <td>Robbie E Responds To Critics After Win Against...</td>\n      <td>male</td>\n    </tr>\n    <tr>\n      <th>1</th>\n      <td>ÛÏIt felt like they were my friends and I was...</td>\n      <td>male</td>\n    </tr>\n    <tr>\n      <th>2</th>\n      <td>i absolutely adore when louis starts the songs...</td>\n      <td>male</td>\n    </tr>\n    <tr>\n      <th>3</th>\n      <td>Hi @JordanSpieth - Looking at the url - do you...</td>\n      <td>male</td>\n    </tr>\n    <tr>\n      <th>4</th>\n      <td>Watching Neighbours on Sky+ catching up with t...</td>\n      <td>female</td>\n    </tr>\n    <tr>\n      <th>...</th>\n      <td>...</td>\n      <td>...</td>\n    </tr>\n    <tr>\n      <th>20045</th>\n      <td>@lookupondeath ...Fine, and I'll drink tea too...</td>\n      <td>female</td>\n    </tr>\n    <tr>\n      <th>20046</th>\n      <td>Greg Hardy you a good player and all but don't...</td>\n      <td>male</td>\n    </tr>\n    <tr>\n      <th>20047</th>\n      <td>You can miss people and still never want to se...</td>\n      <td>male</td>\n    </tr>\n    <tr>\n      <th>20048</th>\n      <td>@bitemyapp i had noticed your tendency to pee ...</td>\n      <td>female</td>\n    </tr>\n    <tr>\n      <th>20049</th>\n      <td>I think for my APUSH creative project I'm goin...</td>\n      <td>female</td>\n    </tr>\n  </tbody>\n</table>\n<p>20050 rows × 2 columns</p>\n</div>"
     },
     "metadata": {}
    }
   ]
  },
  {
   "cell_type": "code",
   "metadata": {
    "execution": {
     "iopub.execute_input": "2020-12-03T21:10:49.412667Z",
     "iopub.status.busy": "2020-12-03T21:10:49.411760Z",
     "iopub.status.idle": "2020-12-03T21:10:49.426476Z",
     "shell.execute_reply": "2020-12-03T21:10:49.426995Z"
    },
    "papermill": {
     "duration": 0.071823,
     "end_time": "2020-12-03T21:10:49.427125",
     "exception": false,
     "start_time": "2020-12-03T21:10:49.355302",
     "status": "completed"
    },
    "tags": [],
    "deepnote_to_be_reexecuted": false,
    "source_hash": "957547ae",
    "execution_millis": 22,
    "cell_id": "00005-5903591a-1b7b-4a76-8a02-3c7cceaaf059",
    "execution_start": 1618849483558,
    "deepnote_cell_type": "code"
   },
   "source": "data.info()",
   "execution_count": null,
   "outputs": [
    {
     "name": "stdout",
     "text": "<class 'pandas.core.frame.DataFrame'>\nRangeIndex: 20050 entries, 0 to 20049\nData columns (total 26 columns):\n #   Column                 Non-Null Count  Dtype  \n---  ------                 --------------  -----  \n 0   _unit_id               20050 non-null  int64  \n 1   _golden                20050 non-null  bool   \n 2   _unit_state            20050 non-null  object \n 3   _trusted_judgments     20050 non-null  int64  \n 4   _last_judgment_at      20000 non-null  object \n 5   gender                 19953 non-null  object \n 6   gender:confidence      20024 non-null  float64\n 7   profile_yn             20050 non-null  object \n 8   profile_yn:confidence  20050 non-null  float64\n 9   created                20050 non-null  object \n 10  description            16306 non-null  object \n 11  fav_number             20050 non-null  int64  \n 12  gender_gold            50 non-null     object \n 13  link_color             20050 non-null  object \n 14  name                   20050 non-null  object \n 15  profile_yn_gold        50 non-null     object \n 16  profileimage           20050 non-null  object \n 17  retweet_count          20050 non-null  int64  \n 18  sidebar_color          20050 non-null  object \n 19  text                   20050 non-null  object \n 20  tweet_coord            159 non-null    object \n 21  tweet_count            20050 non-null  int64  \n 22  tweet_created          20050 non-null  object \n 23  tweet_id               20050 non-null  float64\n 24  tweet_location         12566 non-null  object \n 25  user_timezone          12252 non-null  object \ndtypes: bool(1), float64(3), int64(5), object(17)\nmemory usage: 3.8+ MB\n",
     "output_type": "stream"
    }
   ]
  },
  {
   "cell_type": "markdown",
   "source": "# Preprocessing",
   "metadata": {
    "papermill": {
     "duration": 0.023314,
     "end_time": "2020-12-03T21:10:49.474247",
     "exception": false,
     "start_time": "2020-12-03T21:10:49.450933",
     "status": "completed"
    },
    "tags": [],
    "cell_id": "00006-f1e047f7-1185-48c3-915b-e1da360f3e33",
    "deepnote_cell_type": "markdown"
   }
  },
  {
   "cell_type": "code",
   "metadata": {
    "execution": {
     "iopub.execute_input": "2020-12-03T21:10:49.812096Z",
     "iopub.status.busy": "2020-12-03T21:10:49.810410Z",
     "iopub.status.idle": "2020-12-03T21:10:49.812830Z",
     "shell.execute_reply": "2020-12-03T21:10:49.813321Z"
    },
    "papermill": {
     "duration": 0.05115,
     "end_time": "2020-12-03T21:10:49.813427",
     "exception": false,
     "start_time": "2020-12-03T21:10:49.762277",
     "status": "completed"
    },
    "tags": [],
    "deepnote_to_be_reexecuted": false,
    "source_hash": "e8f296fb",
    "execution_millis": 4,
    "cell_id": "00011-84f27f78-f546-40dd-bff0-8e8e85bc3517",
    "execution_start": 1618849485531,
    "deepnote_cell_type": "code"
   },
   "source": "def preprocess_inputs(df):\n    df = df.copy()\n    \n    # Drop unnecessary columns\n    df = df[['gender','text', 'description']]\n    \n    # Encode unknown values in the target column as np.NaN\n    df['gender'] = df['gender'].replace('unknown', np.NaN)\n    \n    # Drop rows with missing target values\n    gender_nas = df[df['gender'].isna()].index\n    df = df.drop(gender_nas, axis=0).reset_index(drop=True)\n\n    # Drop rows with \"brand\" target values\n    gender_brand = df[df['gender'] == 'brand'].index\n    df = df.drop(gender_brand, axis=0).reset_index(drop=True)\n    \n    # Get sequence data for text column\n    tweets = [str(text)+' '+str(desc) for text, desc in zip(df.text, df.description)]\n    \n    # Encode label column\n    label_mapping = {'female': 0, 'male': 1}\n    df['gender'] = df['gender'].replace(label_mapping)\n    \n    # Get target data from gender column\n    y = df['gender'].copy()\n    \n    return tweets, y",
   "execution_count": null,
   "outputs": []
  },
  {
   "cell_type": "code",
   "metadata": {
    "execution": {
     "iopub.execute_input": "2020-12-03T21:10:49.868250Z",
     "iopub.status.busy": "2020-12-03T21:10:49.867196Z",
     "iopub.status.idle": "2020-12-03T21:10:55.169946Z",
     "shell.execute_reply": "2020-12-03T21:10:55.170627Z"
    },
    "papermill": {
     "duration": 5.333078,
     "end_time": "2020-12-03T21:10:55.170781",
     "exception": false,
     "start_time": "2020-12-03T21:10:49.837703",
     "status": "completed"
    },
    "tags": [],
    "deepnote_to_be_reexecuted": false,
    "source_hash": "6a81c638",
    "execution_millis": 52,
    "cell_id": "00012-0cdd91f6-751a-4682-a641-974ac302259d",
    "execution_start": 1618849487701,
    "deepnote_cell_type": "code"
   },
   "source": "tweets, y = preprocess_inputs(data)",
   "execution_count": null,
   "outputs": []
  },
  {
   "cell_type": "code",
   "metadata": {
    "tags": [],
    "deepnote_to_be_reexecuted": false,
    "source_hash": "4c693cd4",
    "execution_millis": 11,
    "cell_id": "00013-7f628c52-0203-4fe6-8e92-994208909d19",
    "execution_start": 1618849488160,
    "deepnote_cell_type": "code"
   },
   "source": "tweets = np.asarray(tweets)\ntweets.shape",
   "execution_count": null,
   "outputs": [
    {
     "output_type": "execute_result",
     "execution_count": 9,
     "data": {
      "text/plain": "(12894,)"
     },
     "metadata": {}
    }
   ]
  },
  {
   "cell_type": "code",
   "metadata": {
    "execution": {
     "iopub.execute_input": "2020-12-03T21:10:55.248647Z",
     "iopub.status.busy": "2020-12-03T21:10:55.247158Z",
     "iopub.status.idle": "2020-12-03T21:10:55.251921Z",
     "shell.execute_reply": "2020-12-03T21:10:55.252384Z"
    },
    "papermill": {
     "duration": 0.05602,
     "end_time": "2020-12-03T21:10:55.252510",
     "exception": false,
     "start_time": "2020-12-03T21:10:55.196490",
     "status": "completed"
    },
    "tags": [],
    "deepnote_to_be_reexecuted": false,
    "source_hash": "57b8ea20",
    "execution_millis": 8,
    "cell_id": "00014-6e6269f1-fb6b-4251-866e-5256bb607eab",
    "execution_start": 1618849488768,
    "deepnote_cell_type": "code"
   },
   "source": "y.shape",
   "execution_count": null,
   "outputs": [
    {
     "output_type": "execute_result",
     "execution_count": 10,
     "data": {
      "text/plain": "(12894,)"
     },
     "metadata": {}
    }
   ]
  },
  {
   "cell_type": "code",
   "metadata": {
    "execution": {
     "iopub.execute_input": "2020-12-03T21:10:55.499556Z",
     "iopub.status.busy": "2020-12-03T21:10:55.498702Z",
     "iopub.status.idle": "2020-12-03T21:10:55.505039Z",
     "shell.execute_reply": "2020-12-03T21:10:55.505513Z"
    },
    "papermill": {
     "duration": 0.03778,
     "end_time": "2020-12-03T21:10:55.505619",
     "exception": false,
     "start_time": "2020-12-03T21:10:55.467839",
     "status": "completed"
    },
    "tags": [],
    "deepnote_to_be_reexecuted": false,
    "source_hash": "d1a4928d",
    "execution_millis": 88,
    "cell_id": "00018-eedb29d6-5118-477c-a775-140d67481e47",
    "execution_start": 1618849491126,
    "deepnote_cell_type": "code"
   },
   "source": "y.value_counts()",
   "execution_count": null,
   "outputs": [
    {
     "output_type": "execute_result",
     "execution_count": 11,
     "data": {
      "text/plain": "0    6700\n1    6194\nName: gender, dtype: int64"
     },
     "metadata": {}
    }
   ]
  },
  {
   "cell_type": "code",
   "metadata": {
    "tags": [],
    "cell_id": "00015-d67f9827-b714-42dd-bc92-1bdbc244feac",
    "deepnote_to_be_reexecuted": false,
    "source_hash": "42f5be0a",
    "execution_millis": 14,
    "execution_start": 1618849491631,
    "deepnote_cell_type": "code"
   },
   "source": "tweets",
   "execution_count": null,
   "outputs": [
    {
     "output_type": "execute_result",
     "execution_count": 12,
     "data": {
      "text/plain": "array(['Robbie E Responds To Critics After Win Against Eddie Edwards In The #WorldTitleSeries https://t.co/NSybBmVjKZ i sing my own rhythm.',\n       \"\\x89ÛÏIt felt like they were my friends and I was living the story with them\\x89Û\\x9d https://t.co/arngE0YHNO #retired #IAN1 https://t.co/CIzCANPQFz I'm the author of novels filled with family drama and romance.\",\n       'i absolutely adore when louis starts the songs it hits me hard but it feels good louis whining and squealing and all',\n       ...,\n       'You can miss people and still never want to see them again #TeamBarcelona ..You look lost so you should follow me!!! ...follow your heart but bring your brain with you..#Okbye',\n       \"@bitemyapp i had noticed your tendency to pee on the carpet, but i didn't want to say anything :P Anti-statist; I homeschool my kids. Aspiring thoughtleader in the field of disjunction. Obligate carnivore. Writing @haskellbook with @bitemyapp.\",\n       \"I think for my APUSH creative project I'm going to bring bacon to class and eat it to represent Bacon's Rebellion Teamwork makes the dream work.\"],\n      dtype='<U552')"
     },
     "metadata": {}
    }
   ]
  },
  {
   "cell_type": "markdown",
   "source": "# Splitting Train/Test Sets",
   "metadata": {
    "papermill": {
     "duration": 0.028428,
     "end_time": "2020-12-03T21:10:55.561427",
     "exception": false,
     "start_time": "2020-12-03T21:10:55.532999",
     "status": "completed"
    },
    "tags": [],
    "cell_id": "00019-106d9539-ff95-4ec7-aaf4-045375836440",
    "deepnote_cell_type": "markdown"
   }
  },
  {
   "cell_type": "code",
   "metadata": {
    "execution": {
     "iopub.execute_input": "2020-12-03T21:10:55.624653Z",
     "iopub.status.busy": "2020-12-03T21:10:55.623648Z",
     "iopub.status.idle": "2020-12-03T21:10:55.635232Z",
     "shell.execute_reply": "2020-12-03T21:10:55.635779Z"
    },
    "papermill": {
     "duration": 0.04544,
     "end_time": "2020-12-03T21:10:55.635911",
     "exception": false,
     "start_time": "2020-12-03T21:10:55.590471",
     "status": "completed"
    },
    "tags": [],
    "deepnote_to_be_reexecuted": false,
    "source_hash": "98948ed2",
    "execution_millis": 33,
    "cell_id": "00020-309f660c-fdfc-43c0-8d19-29047d9cec09",
    "execution_start": 1618849494716,
    "deepnote_cell_type": "code"
   },
   "source": "tweets_train, tweets_test, y_train, y_test = train_test_split(tweets, y, train_size=0.8, random_state=1)",
   "execution_count": null,
   "outputs": []
  },
  {
   "cell_type": "code",
   "metadata": {
    "tags": [],
    "cell_id": "00017-76f582da-a07b-4273-8633-82434688363d",
    "deepnote_to_be_reexecuted": false,
    "source_hash": "a1a258da",
    "execution_millis": 17,
    "execution_start": 1618849495195,
    "deepnote_cell_type": "code"
   },
   "source": "y_train.value_counts()",
   "execution_count": null,
   "outputs": [
    {
     "output_type": "execute_result",
     "execution_count": 14,
     "data": {
      "text/plain": "0    5342\n1    4973\nName: gender, dtype: int64"
     },
     "metadata": {}
    }
   ]
  },
  {
   "cell_type": "code",
   "metadata": {
    "tags": [],
    "cell_id": "00018-9a65afe8-04ad-4db3-9923-fc6cecf1ffc9",
    "deepnote_to_be_reexecuted": false,
    "source_hash": "9f353983",
    "execution_millis": 14,
    "execution_start": 1618849496026,
    "deepnote_cell_type": "code"
   },
   "source": "y_test.value_counts()",
   "execution_count": null,
   "outputs": [
    {
     "output_type": "execute_result",
     "execution_count": 15,
     "data": {
      "text/plain": "0    1358\n1    1221\nName: gender, dtype: int64"
     },
     "metadata": {}
    }
   ]
  },
  {
   "cell_type": "markdown",
   "source": "# Modeling",
   "metadata": {
    "papermill": {
     "duration": 0.029591,
     "end_time": "2020-12-03T21:10:55.693682",
     "exception": false,
     "start_time": "2020-12-03T21:10:55.664091",
     "status": "completed"
    },
    "tags": [],
    "cell_id": "00021-322af1fa-a99e-4d3b-8a0c-72ebe6a97a2d",
    "deepnote_cell_type": "markdown"
   }
  },
  {
   "cell_type": "markdown",
   "source": "https://www.tensorflow.org/tutorials/text/classify_text_with_bert",
   "metadata": {
    "tags": [],
    "cell_id": "00021-a9ef858a-a150-4003-9f06-e2025a941ef3",
    "deepnote_cell_type": "markdown"
   }
  },
  {
   "cell_type": "code",
   "metadata": {
    "tags": [],
    "cell_id": "00020-e9daebf5-d184-4913-9b37-4c4f07383c37",
    "deepnote_to_be_reexecuted": false,
    "source_hash": "8f1f2de7",
    "execution_millis": 12381,
    "execution_start": 1618849513845,
    "deepnote_cell_type": "code"
   },
   "source": "bert_model_name = 'https://tfhub.dev/tensorflow/small_bert/bert_en_uncased_L-4_H-512_A-8/1'\nbert_preprocessor_name = 'https://tfhub.dev/tensorflow/bert_en_uncased_preprocess/3'\npreprocess_bert = hub.KerasLayer(bert_preprocessor_name)\nbert_model = hub.KerasLayer(bert_model_name)\n\n",
   "execution_count": null,
   "outputs": []
  },
  {
   "cell_type": "code",
   "metadata": {
    "tags": [],
    "cell_id": "00021-ee1ec642-f996-426f-a86d-97e7b6a49843",
    "deepnote_to_be_reexecuted": false,
    "source_hash": "1eccab0c",
    "execution_millis": 1,
    "execution_start": 1618849528228,
    "deepnote_cell_type": "code"
   },
   "source": "def build_classifier_model():\n    text_input = tf.keras.layers.Input(shape=(), dtype=tf.string, name='text')\n    preprocessing_layer = hub.KerasLayer(preprocess_bert, name='preprocessing')\n    encoder_inputs = preprocessing_layer(text_input)\n    encoder = hub.KerasLayer(bert_model, trainable=True, name='BERT_encoder')\n    outputs = encoder(encoder_inputs)\n    net = outputs['pooled_output']\n    net = tf.keras.layers.Dropout(0.1)(net)\n    net = tf.keras.layers.Dense(1, activation='sigmoid', name='classifier')(net)\n    return tf.keras.Model(text_input, net)",
   "execution_count": null,
   "outputs": []
  },
  {
   "cell_type": "code",
   "metadata": {
    "tags": [],
    "cell_id": "00022-45fa4e60-b380-4d65-9356-1461f7eae52f",
    "deepnote_to_be_reexecuted": false,
    "source_hash": "4673b662",
    "execution_millis": 4424,
    "execution_start": 1618849530685,
    "deepnote_cell_type": "code"
   },
   "source": "classifier_model = build_classifier_model()",
   "execution_count": null,
   "outputs": [
    {
     "name": "stdout",
     "text": "WARNING:tensorflow:AutoGraph could not transform <bound method Socket.send of <zmq.sugar.socket.Socket object at 0x7faf4bfd7ca0>> and will run it as-is.\nPlease report this to the TensorFlow team. When filing the bug, set the verbosity to 10 (on Linux, `export AUTOGRAPH_VERBOSITY=10`) and attach the full output.\nCause: module, class, method, function, traceback, frame, or code object was expected, got cython_function_or_method\nTo silence this warning, decorate the function with @tf.autograph.experimental.do_not_convert\nERROR:absl:hub.KerasLayer is trainable but has zero trainable weights.\nWARNING:tensorflow:AutoGraph could not transform <bound method Socket.send of <zmq.sugar.socket.Socket object at 0x7faf4bfd7ca0>> and will run it as-is.\nPlease report this to the TensorFlow team. When filing the bug, set the verbosity to 10 (on Linux, `export AUTOGRAPH_VERBOSITY=10`) and attach the full output.\nCause: module, class, method, function, traceback, frame, or code object was expected, got cython_function_or_method\nTo silence this warning, decorate the function with @tf.autograph.experimental.do_not_convert\nWARNING: AutoGraph could not transform <bound method Socket.send of <zmq.sugar.socket.Socket object at 0x7faf4bfd7ca0>> and will run it as-is.\nPlease report this to the TensorFlow team. When filing the bug, set the verbosity to 10 (on Linux, `export AUTOGRAPH_VERBOSITY=10`) and attach the full output.\nCause: module, class, method, function, traceback, frame, or code object was expected, got cython_function_or_method\nTo silence this warning, decorate the function with @tf.autograph.experimental.do_not_convert\n",
     "output_type": "stream"
    }
   ]
  },
  {
   "cell_type": "code",
   "metadata": {
    "tags": [],
    "cell_id": "00023-adc6cc23-7827-41f1-91e2-2d1f634da996",
    "deepnote_to_be_reexecuted": false,
    "source_hash": "55d40a6c",
    "execution_millis": 262,
    "execution_start": 1618849537696,
    "deepnote_cell_type": "code"
   },
   "source": "tf.keras.utils.plot_model(classifier_model)",
   "execution_count": null,
   "outputs": [
    {
     "output_type": "execute_result",
     "execution_count": 19,
     "data": {
      "image/png": "[encoded data removed]",
      "text/plain": "<IPython.core.display.Image object>"
     },
     "metadata": {
      "image/png": {
       "width": 296,
       "height": 449
      }
     }
    }
   ]
  },
  {
   "cell_type": "code",
   "metadata": {
    "tags": [],
    "cell_id": "00024-31b13fc6-8b6a-4136-b8e8-682016c538a8",
    "deepnote_to_be_reexecuted": false,
    "source_hash": "c57239d3",
    "execution_millis": 23,
    "execution_start": 1618849539965,
    "deepnote_cell_type": "code"
   },
   "source": "loss = tf.keras.losses.BinaryCrossentropy(from_logits=True)\nmetrics = tf.metrics.BinaryAccuracy()",
   "execution_count": null,
   "outputs": []
  },
  {
   "cell_type": "code",
   "metadata": {
    "tags": [],
    "cell_id": "00025-41c96218-65ba-4196-8b65-c10dbd04ae0a",
    "deepnote_to_be_reexecuted": false,
    "source_hash": "f762497a",
    "execution_millis": 8,
    "execution_start": 1618849540384,
    "deepnote_cell_type": "code"
   },
   "source": "epochs = 3\nbatch_size = 32\noptimizer = 'adam'",
   "execution_count": null,
   "outputs": []
  },
  {
   "cell_type": "code",
   "metadata": {
    "tags": [],
    "cell_id": "00026-bfc216ab-c180-473e-979b-07c4f18d0f3e",
    "deepnote_to_be_reexecuted": false,
    "source_hash": "5a7d5491",
    "execution_millis": 34,
    "execution_start": 1618849544876,
    "deepnote_cell_type": "code"
   },
   "source": "classifier_model.compile(optimizer=optimizer,\n                         loss=loss,\n                         metrics=metrics)",
   "execution_count": null,
   "outputs": []
  },
  {
   "cell_type": "code",
   "metadata": {
    "tags": [],
    "cell_id": "00027-ad512b2e-5b52-40b1-a175-f94f472b7a3a",
    "deepnote_to_be_reexecuted": false,
    "source_hash": "5b201781",
    "execution_millis": 5059880,
    "execution_start": 1618781700964,
    "deepnote_cell_type": "code"
   },
   "source": "history = classifier_model.fit(tweets_train, y_train,\n                            validation_split=0.2,\n                            epochs=epochs, \n                            batch_size=batch_size,\n                            callbacks=[\n        tf.keras.callbacks.ModelCheckpoint('./bert_model.h5', save_best_only=True, save_weights_only=True),\n        tf.keras.callbacks.ReduceLROnPlateau()])",
   "execution_count": null,
   "outputs": [
    {
     "name": "stdout",
     "text": "Epoch 1/3\n258/258 [==============================] - 1463s 6s/step - loss: 0.7055 - binary_accuracy: 0.5408 - val_loss: 0.6507 - val_binary_accuracy: 0.6258\nEpoch 2/3\n258/258 [==============================] - 2077s 8s/step - loss: 0.6625 - binary_accuracy: 0.6039 - val_loss: 0.6340 - val_binary_accuracy: 0.6437\nEpoch 3/3\n258/258 [==============================] - 1517s 6s/step - loss: 0.6446 - binary_accuracy: 0.6273 - val_loss: 0.6242 - val_binary_accuracy: 0.6520\n",
     "output_type": "stream"
    }
   ]
  },
  {
   "cell_type": "code",
   "metadata": {
    "execution": {
     "iopub.execute_input": "2020-12-03T21:12:49.309384Z",
     "iopub.status.busy": "2020-12-03T21:12:49.308375Z",
     "iopub.status.idle": "2020-12-03T21:12:49.356550Z",
     "shell.execute_reply": "2020-12-03T21:12:49.357224Z"
    },
    "papermill": {
     "duration": 0.598176,
     "end_time": "2020-12-03T21:12:49.357422",
     "exception": false,
     "start_time": "2020-12-03T21:12:48.759246",
     "status": "completed"
    },
    "tags": [],
    "deepnote_to_be_reexecuted": false,
    "source_hash": "6c90bd24",
    "execution_millis": 425,
    "cell_id": "00027-19df398e-a156-49bb-9168-483da3ac2942",
    "execution_start": 1618849547972,
    "deepnote_cell_type": "code"
   },
   "source": "classifier_model.load_weights('./bert_model.h5')",
   "execution_count": null,
   "outputs": []
  },
  {
   "cell_type": "code",
   "metadata": {
    "tags": [],
    "deepnote_to_be_reexecuted": false,
    "source_hash": "2a7e62c2",
    "execution_millis": 2,
    "cell_id": "00028-c0cac212-68ec-4264-9c0e-83c97104c67f",
    "execution_start": 1618849551056,
    "deepnote_cell_type": "code"
   },
   "source": "import h5py\ndef read_hdf5(path):\n\n    weights = {}\n\n    keys = []\n    with h5py.File(path, 'r') as f: # open file\n        f.visit(keys.append) # append all keys to list\n        for key in keys:\n            if ':' in key: # contains data if ':' in key\n                print(f[key].name)\n                weights[f[key].name] = f[key].value\n    return weights\n\n# https://stackoverflow.com/questions/51923048/what-is-the-difference-between-these-two-ways-of-saving-keras-machine-learning-m",
   "execution_count": null,
   "outputs": []
  },
  {
   "cell_type": "code",
   "metadata": {
    "tags": [],
    "deepnote_to_be_reexecuted": false,
    "source_hash": "cb5f9114",
    "execution_millis": 533,
    "cell_id": "00029-05c0aa1b-64d5-4612-a40a-0b37b1d4ec72",
    "execution_start": 1618849556627,
    "deepnote_cell_type": "code"
   },
   "source": "read_hdf5('bert_model.h5')",
   "execution_count": null,
   "outputs": [
    {
     "name": "stdout",
     "text": "/BERT_encoder/Variable:0\n/BERT_encoder/embeddings/layer_norm/beta:0\n/BERT_encoder/embeddings/layer_norm/gamma:0\n/BERT_encoder/pooler_transform/bias:0\n/BERT_encoder/pooler_transform/kernel:0\n/BERT_encoder/position_embedding/embeddings:0\n/BERT_encoder/transformer/layer_0/intermediate/bias:0\n/BERT_encoder/transformer/layer_0/intermediate/kernel:0\n/BERT_encoder/transformer/layer_0/output/bias:0\n/BERT_encoder/transformer/layer_0/output/kernel:0\n/BERT_encoder/transformer/layer_0/output_layer_norm/beta:0\n/BERT_encoder/transformer/layer_0/output_layer_norm/gamma:0\n/BERT_encoder/transformer/layer_0/self_attention/attention_output/bias:0\n/BERT_encoder/transformer/layer_0/self_attention/attention_output/kernel:0\n/BERT_encoder/transformer/layer_0/self_attention/key/bias:0\n/BERT_encoder/transformer/layer_0/self_attention/key/kernel:0\n/BERT_encoder/transformer/layer_0/self_attention/query/bias:0\n/BERT_encoder/transformer/layer_0/self_attention/query/kernel:0\n/BERT_encoder/transformer/layer_0/self_attention/value/bias:0\n/BERT_encoder/transformer/layer_0/self_attention/value/kernel:0\n/BERT_encoder/transformer/layer_0/self_attention_layer_norm/beta:0\n/BERT_encoder/transformer/layer_0/self_attention_layer_norm/gamma:0\n/BERT_encoder/transformer/layer_1/intermediate/bias:0\n/BERT_encoder/transformer/layer_1/intermediate/kernel:0\n/BERT_encoder/transformer/layer_1/output/bias:0\n/BERT_encoder/transformer/layer_1/output/kernel:0\n/BERT_encoder/transformer/layer_1/output_layer_norm/beta:0\n/BERT_encoder/transformer/layer_1/output_layer_norm/gamma:0\n/BERT_encoder/transformer/layer_1/self_attention/attention_output/bias:0\n/BERT_encoder/transformer/layer_1/self_attention/attention_output/kernel:0\n/BERT_encoder/transformer/layer_1/self_attention/key/bias:0\n/BERT_encoder/transformer/layer_1/self_attention/key/kernel:0\n/BERT_encoder/transformer/layer_1/self_attention/query/bias:0\n/BERT_encoder/transformer/layer_1/self_attention/query/kernel:0\n/BERT_encoder/transformer/layer_1/self_attention/value/bias:0\n/BERT_encoder/transformer/layer_1/self_attention/value/kernel:0\n/BERT_encoder/transformer/layer_1/self_attention_layer_norm/beta:0\n/BERT_encoder/transformer/layer_1/self_attention_layer_norm/gamma:0\n/BERT_encoder/transformer/layer_2/intermediate/bias:0\n/BERT_encoder/transformer/layer_2/intermediate/kernel:0\n/BERT_encoder/transformer/layer_2/output/bias:0\n/BERT_encoder/transformer/layer_2/output/kernel:0\n/BERT_encoder/transformer/layer_2/output_layer_norm/beta:0\n/BERT_encoder/transformer/layer_2/output_layer_norm/gamma:0\n/BERT_encoder/transformer/layer_2/self_attention/attention_output/bias:0\n/BERT_encoder/transformer/layer_2/self_attention/attention_output/kernel:0\n/BERT_encoder/transformer/layer_2/self_attention/key/bias:0\n/BERT_encoder/transformer/layer_2/self_attention/key/kernel:0\n/BERT_encoder/transformer/layer_2/self_attention/query/bias:0\n/BERT_encoder/transformer/layer_2/self_attention/query/kernel:0\n/BERT_encoder/transformer/layer_2/self_attention/value/bias:0\n/BERT_encoder/transformer/layer_2/self_attention/value/kernel:0\n/BERT_encoder/transformer/layer_2/self_attention_layer_norm/beta:0\n/BERT_encoder/transformer/layer_2/self_attention_layer_norm/gamma:0\n/BERT_encoder/transformer/layer_3/intermediate/bias:0\n/BERT_encoder/transformer/layer_3/intermediate/kernel:0\n/BERT_encoder/transformer/layer_3/output/bias:0\n/BERT_encoder/transformer/layer_3/output/kernel:0\n/BERT_encoder/transformer/layer_3/output_layer_norm/beta:0\n/BERT_encoder/transformer/layer_3/output_layer_norm/gamma:0\n/BERT_encoder/transformer/layer_3/self_attention/attention_output/bias:0\n/BERT_encoder/transformer/layer_3/self_attention/attention_output/kernel:0\n/BERT_encoder/transformer/layer_3/self_attention/key/bias:0\n/BERT_encoder/transformer/layer_3/self_attention/key/kernel:0\n/BERT_encoder/transformer/layer_3/self_attention/query/bias:0\n/BERT_encoder/transformer/layer_3/self_attention/query/kernel:0\n/BERT_encoder/transformer/layer_3/self_attention/value/bias:0\n/BERT_encoder/transformer/layer_3/self_attention/value/kernel:0\n/BERT_encoder/transformer/layer_3/self_attention_layer_norm/beta:0\n/BERT_encoder/transformer/layer_3/self_attention_layer_norm/gamma:0\n/BERT_encoder/type_embeddings/embeddings:0\n/BERT_encoder/word_embeddings/embeddings:0\n/classifier/classifier/bias:0\n/classifier/classifier/kernel:0\n<ipython-input-24-f1f53370efab>:12: H5pyDeprecationWarning: dataset.value has been deprecated. Use dataset[()] instead.\n  weights[f[key].name] = f[key].value\n",
     "output_type": "stream"
    },
    {
     "output_type": "execute_result",
     "execution_count": 25,
     "data": {
      "text/plain": "{'/BERT_encoder/Variable:0': True,\n '/BERT_encoder/embeddings/layer_norm/beta:0': array([-7.50299469e-02,  3.05416677e-02, -3.88073213e-02,  7.60145411e-02,\n         6.80232644e-02, -3.56679820e-02, -2.29676627e-02, -2.00715363e-02,\n         4.69574891e-02, -8.68048668e-02, -2.96968222e-02, -2.83804853e-02,\n         1.27371948e-03,  1.21920099e-02, -1.12013638e-01, -3.29227075e-02,\n        -4.25835839e-03,  5.27247302e-02,  1.82300713e-03, -3.47767510e-02,\n         3.05963811e-02, -5.18376306e-02,  1.89543907e-02,  9.59674120e-02,\n        -8.88227820e-02,  1.11596743e-02, -1.81841869e-02,  1.53970607e-02,\n        -5.48743792e-02,  4.29509729e-02, -4.98516485e-02,  1.28499970e-01,\n        -1.12740463e-02, -3.82770970e-02, -5.96156418e-02,  5.49020304e-04,\n        -9.82283205e-02, -4.74313386e-02, -7.06896260e-02, -3.86228003e-02,\n         1.11778332e-02,  2.70429775e-02, -9.72370505e-02, -9.19092447e-02,\n        -4.57855389e-02, -4.21724916e-02, -6.19730093e-02, -6.70790821e-02,\n         3.56189832e-02, -5.05621266e-03, -3.21600512e-02, -9.75949764e-02,\n        -4.51708883e-02, -3.04084849e-02,  3.18785012e-02, -1.30937845e-01,\n        -5.54559864e-02, -2.55093910e-02, -6.07899837e-02,  1.97790787e-02,\n        -3.81247215e-02, -1.26450546e-02, -4.67576683e-02, -4.52009737e-02,\n         9.41612478e-03,  1.07890088e-02, -1.68916825e-02, -9.64737982e-02,\n        -1.53296255e-02, -6.66762590e-02, -4.65826094e-02,  2.54903082e-02,\n        -1.10721700e-01,  2.48282384e-02,  8.51922203e-03,  3.91405858e-02,\n        -3.34946513e-02, -5.46156205e-02, -6.02421239e-02, -6.89740777e-02,\n        -6.15721308e-02, -3.61972712e-02, -4.49941009e-02, -1.18217327e-01,\n        -7.39315748e-02,  6.07442483e-02, -1.82095896e-02, -4.60567698e-02,\n         2.43719369e-02, -8.14969018e-02, -1.98955219e-02, -6.49164543e-02,\n        -2.27554329e-02, -2.66299248e-02, -2.31231395e-02, -8.88249129e-02,\n         5.77444434e-02, -4.28751893e-02, -6.63948506e-02,  2.42058430e-02,\n         1.13176592e-02,  3.78246829e-02, -6.41476214e-02, -2.15026690e-03,\n         3.10195284e-03,  3.13178375e-02, -4.11990657e-02,  1.65540837e-02,\n        -5.81100732e-02, -1.44178897e-01, -1.77072342e-02, -5.84493764e-02,\n         3.81866819e-03, -4.86299908e-03,  6.13453612e-02,  2.23016590e-02,\n        -2.52894196e-03,  1.82714760e-02,  3.22765484e-03,  1.55473882e-02,\n         2.32438389e-02,  2.21203879e-01, -2.43217479e-02,  3.95704173e-02,\n        -6.56705871e-02, -9.27822888e-02, -1.28869742e-01,  3.26402485e-02,\n         1.26454129e-03, -1.05312780e-01, -5.48668057e-02,  3.93076986e-02,\n        -1.58445183e-02, -5.18936617e-03, -1.81925595e-01, -1.00034207e-01,\n        -3.43929918e-04, -5.54835424e-03, -3.23959403e-02, -8.32815021e-02,\n        -4.00015861e-02, -8.57880060e-03, -9.32445005e-03,  7.24065444e-03,\n        -1.20254066e-02, -1.93795208e-02,  5.67456242e-03,  1.09826978e-02,\n         7.55994990e-02, -5.09939827e-02, -2.55182721e-02, -1.25469983e-01,\n        -8.48506913e-02,  2.17241086e-02, -1.20540410e-02, -4.97644432e-02,\n         2.67924517e-01, -4.65840325e-02, -7.06502646e-02, -1.09569272e-02,\n        -6.20370321e-02, -3.93814892e-02, -3.38453427e-02, -1.12098336e-01,\n        -6.31356016e-02, -7.04220086e-02, -4.63003032e-02,  1.22555299e-02,\n        -3.62794362e-02,  3.32039185e-02,  5.16443700e-03,  5.09010023e-03,\n        -3.03341839e-02, -7.98586830e-02, -5.47905900e-02, -6.59344569e-02,\n        -3.51137407e-02,  1.09866366e-01, -8.36328045e-03, -6.37773201e-02,\n         4.39754538e-02, -9.60534438e-03, -2.18431018e-02,  6.51717708e-02,\n        -4.42851037e-02, -8.98691639e-02, -2.17557959e-02, -8.12042356e-02,\n        -8.10961053e-02, -7.99476262e-03, -6.77617081e-03, -1.59820437e-01,\n        -1.01973116e-02,  3.06360781e-01, -2.99194921e-02, -2.77931076e-02,\n        -3.13742384e-02, -5.42747341e-02, -2.95792930e-02, -2.55340822e-02,\n        -5.33348508e-02, -8.45336244e-02, -6.07347786e-02, -1.48717582e-01,\n        -1.77344099e-01, -1.27407551e-01,  3.69516946e-02,  9.11008008e-03,\n        -3.81133594e-02, -1.12367168e-01,  3.63891236e-02, -8.88990536e-02,\n         1.88329618e-03,  5.42600220e-03,  7.22908676e-02, -1.53927691e-02,\n        -5.18241897e-02, -3.32369804e-02, -5.02088815e-02,  6.87156105e-03,\n        -4.86763977e-02, -8.87559205e-02,  4.66124527e-02,  1.88437849e-02,\n         1.75850261e-02, -5.03833741e-02, -1.25992680e-02, -4.78204191e-02,\n        -1.86634496e-01, -5.17015606e-02, -1.49207503e-01, -9.63354576e-03,\n         1.21031580e-02,  3.06851175e-02,  3.03524528e-02, -2.11946685e-02,\n        -2.47113290e-03, -9.09809768e-02,  1.19830351e-02,  3.53327841e-02,\n        -6.97055832e-02,  1.59245878e-02, -6.30601048e-02, -6.24316782e-02,\n        -9.43203196e-02, -1.73291117e-02, -4.50600348e-02,  7.14351162e-02,\n        -1.06545314e-02, -7.44376704e-02,  6.65016994e-02,  4.13181484e-02,\n         2.06205081e-02, -5.16775250e-03, -1.18760854e-01, -3.47703882e-02,\n        -1.67487320e-02,  6.16722368e-03, -5.16755469e-02, -5.35672382e-02,\n         1.25542738e-05, -2.84384787e-02, -4.24148403e-02, -6.53686002e-02,\n        -9.13133323e-02,  1.48954034e-01,  5.70325479e-02,  2.40339674e-02,\n        -5.52957430e-02, -9.15983245e-02, -9.91218016e-02,  9.47395805e-03,\n        -1.26513813e-04,  1.46162929e-02, -7.73341209e-02, -4.17743698e-02,\n         1.00621723e-01,  7.29419813e-02, -5.52718602e-02, -1.09868474e-01,\n        -1.32154614e-01, -2.28439942e-02, -5.06906360e-02, -5.93102761e-02,\n        -2.50459816e-02, -1.87055934e-02, -1.22422494e-01,  1.86944730e-03,\n        -5.36487736e-02,  2.80971006e-02, -1.68531016e-02,  9.69502795e-03,\n        -8.95451307e-02,  6.10885471e-02, -5.91006652e-02,  2.07745880e-02,\n         1.78108420e-02,  2.45593419e-05, -3.54346149e-02, -2.17903573e-02,\n        -5.17293923e-02, -2.83503197e-02,  2.73525510e-02,  3.28145623e-02,\n        -4.78011705e-02, -4.56649028e-02, -3.03345881e-02,  7.11021349e-02,\n        -2.34213844e-02, -2.45848820e-02, -3.85677554e-02,  4.81407717e-02,\n        -5.62748313e-02, -9.02990848e-02, -8.90271664e-02,  8.15007910e-02,\n         3.81917693e-02, -5.22979796e-02,  1.07607003e-02, -1.31747112e-01,\n        -1.21433951e-01, -4.18443792e-02,  2.83402354e-02, -3.96588221e-02,\n        -5.49829155e-02, -2.13617459e-03,  1.70076378e-02,  6.04892289e-03,\n         7.96826109e-02,  6.71617240e-02,  9.38200101e-04, -8.28103274e-02,\n        -4.34010029e-02,  2.94617098e-03,  1.55324072e-01,  6.55553909e-03,\n        -1.77111831e-02,  4.84943874e-02, -4.49486496e-03, -5.95524088e-02,\n        -4.28935140e-02, -6.80254623e-02,  2.48169675e-02, -1.12101451e-01,\n         1.18609622e-01,  3.13440710e-02, -6.80080876e-02,  1.29100801e-02,\n        -1.05091989e-01,  4.46144640e-02,  4.21472579e-01,  1.63304117e-02,\n         8.02019611e-03, -1.24905013e-01, -1.35591164e-01,  3.11133731e-02,\n        -6.32785976e-01,  6.81154579e-02,  3.61677483e-02,  1.78745054e-02,\n        -8.12276602e-02, -6.24488853e-02,  3.21230181e-02, -7.82492831e-02,\n        -9.33662504e-02,  1.38917724e-02, -2.16110609e-02, -4.20736820e-02,\n        -6.44836724e-02, -6.73900545e-02,  2.16053557e-02, -7.03409016e-02,\n        -3.13870013e-02,  6.33105263e-03,  1.12139024e-02, -5.05303517e-02,\n         3.09260059e-02,  5.07626086e-02,  1.82031393e-02, -6.59210831e-02,\n        -8.78097583e-03,  7.12571517e-02,  4.44330946e-02, -3.34697217e-02,\n        -2.79340558e-02, -1.38252914e-01,  4.80399638e-01,  3.12859938e-02,\n        -1.02952771e-01,  2.23909151e-02, -4.20057960e-02, -6.00247793e-02,\n        -2.28505190e-02, -5.59240207e-02, -5.62027916e-02, -1.99822150e-02,\n        -2.18396001e-02, -2.86563206e-02, -5.47279455e-02, -7.88699836e-02,\n        -4.91271019e-02,  6.81877183e-03,  3.30238529e-02, -6.66937158e-02,\n         4.25750427e-02, -6.77854940e-02, -9.69412774e-02, -2.13515945e-02,\n         1.27547337e-02, -8.35663229e-02, -1.63479429e-02,  5.07659428e-02,\n        -2.78575942e-02, -5.68207204e-02,  1.16436845e-02, -1.35126278e-01,\n         4.39346284e-02,  5.42330109e-02,  1.10325940e-01,  5.34076504e-02,\n        -6.94734901e-02,  5.87097630e-02,  9.87141728e-02, -3.44680808e-02,\n        -5.96048944e-02,  3.70194651e-02,  5.73184248e-03,  6.50524199e-02,\n        -1.70529447e-02, -7.54784420e-02, -1.61658023e-02,  1.83154680e-02,\n         2.16089338e-02, -6.82399869e-02, -3.12933214e-02,  9.08328407e-03,\n        -8.10783133e-02,  3.90543193e-02, -2.66861618e-02,  2.66151875e-02,\n         3.05772796e-02,  1.85147077e-02,  3.22004445e-02,  4.53679040e-02,\n        -1.19667685e+00,  4.19580713e-02, -6.50990680e-02,  2.19026152e-02,\n        -2.91887503e-02, -1.43058961e-02, -3.89413424e-02, -1.11321965e-02,\n        -7.84606561e-02, -1.84116557e-01, -3.68836910e-01, -1.19305551e-01,\n        -7.69670820e-04, -3.25370282e-02,  1.65764615e-02,  4.57809083e-02,\n        -9.17576328e-02, -6.29014969e-02, -5.13169803e-02, -4.65860078e-03,\n         1.24173939e-01,  3.74937281e-02,  9.60953347e-03, -1.52066231e-01,\n         1.98097471e-02,  2.36424610e-01, -5.59541546e-02,  1.03024080e-01,\n         9.28529948e-02, -7.29650036e-02, -1.10735208e-01, -9.50637534e-02,\n        -5.17183542e-02, -5.99402748e-02, -3.48916575e-02, -9.45888460e-02,\n        -2.55985260e-02,  3.80623154e-02,  7.33810663e-02, -3.22111957e-02,\n        -6.39194474e-02, -1.95155647e-02, -5.81333190e-02, -7.56501332e-02,\n         3.56002301e-02,  3.85194384e-02,  5.20893373e-02, -2.22828407e-02,\n        -1.04070865e-01,  5.89469410e-02, -5.81991952e-03,  2.87563279e-02,\n        -1.53496210e-03, -2.85604466e-02, -1.09303240e-02,  4.25429922e-03,\n        -1.32601326e-02,  1.20057482e-02, -4.60292697e-02, -3.54947411e-02,\n         1.90083608e-02,  1.34967407e-03, -1.62958521e-02, -1.71035191e-03,\n         1.87196098e-02, -1.53869256e-01, -1.30081981e-01,  5.77217005e-02],\n       dtype=float32),\n '/BERT_encoder/embeddings/layer_norm/gamma:0': array([1.0034391 , 0.973424  , 1.0339153 , 0.97588193, 1.0328594 ,\n        0.93476695, 1.0640035 , 0.9109645 , 0.77461267, 1.039006  ,\n        1.0827011 , 1.0284778 , 1.0087628 , 1.030556  , 1.0258083 ,\n        1.0381447 , 1.0419757 , 1.0932319 , 1.0323832 , 1.0761148 ,\n        0.9938253 , 0.9592927 , 1.0131488 , 0.26993072, 1.019519  ,\n        1.0125945 , 1.011716  , 1.0622258 , 1.0084832 , 1.0425879 ,\n        1.0065122 , 0.6156759 , 0.9810122 , 1.0817512 , 1.0050877 ,\n        0.9930255 , 0.9159157 , 0.88692665, 1.0651624 , 1.0310513 ,\n        1.0262524 , 0.95530844, 0.9719467 , 0.98482364, 1.0021685 ,\n        1.0504957 , 1.0380962 , 0.98757774, 1.0145086 , 0.9521738 ,\n        0.99979365, 1.0502112 , 1.0087495 , 1.051176  , 1.0561633 ,\n        1.0012666 , 0.99943745, 1.0905764 , 1.043467  , 1.0236263 ,\n        1.0520248 , 1.0947464 , 1.0363276 , 1.0631032 , 1.0074795 ,\n        1.0199298 , 1.058663  , 0.99343634, 1.0313592 , 1.0170386 ,\n        1.0488062 , 1.074022  , 0.958686  , 1.0364813 , 0.9910525 ,\n        0.99919295, 1.0817505 , 1.0269859 , 1.0650856 , 1.0286417 ,\n        0.9470015 , 1.0499241 , 1.059632  , 1.0376652 , 0.999387  ,\n        0.97769266, 1.0159001 , 1.0251793 , 0.9654302 , 0.96552026,\n        1.013012  , 1.0143611 , 1.0391772 , 1.0346339 , 0.99419564,\n        1.0509704 , 0.99438936, 1.0531477 , 1.0307909 , 0.9650023 ,\n        1.0580674 , 1.0535254 , 0.9821536 , 1.0425956 , 1.0096948 ,\n        0.99516857, 1.0254472 , 0.972256  , 0.9495232 , 1.0375657 ,\n        1.0124631 , 1.0059519 , 1.017375  , 1.0061109 , 0.9634874 ,\n        0.9505076 , 1.0104349 , 1.0527136 , 0.92477304, 0.9429774 ,\n        0.9208222 , 0.28110605, 1.0433649 , 0.9927637 , 0.9989369 ,\n        1.0286891 , 1.0341046 , 0.9946353 , 0.9815593 , 1.00622   ,\n        0.87067497, 1.0234646 , 1.038738  , 1.0314821 , 0.30750886,\n        1.0543355 , 0.6230495 , 1.0598392 , 1.0955057 , 1.0605198 ,\n        1.0588194 , 1.0278797 , 1.0038174 , 1.0625062 , 1.0250752 ,\n        1.0181469 , 0.99904805, 0.99880844, 1.0077883 , 1.0614965 ,\n        0.9940272 , 0.9671485 , 0.9885425 , 0.9847612 , 1.0221759 ,\n        1.0221881 , 0.78788865, 0.9492876 , 0.94428295, 1.046529  ,\n        0.9997589 , 0.9977208 , 1.0355104 , 1.054679  , 1.0213118 ,\n        1.0369909 , 0.6096593 , 1.0172247 , 0.992771  , 1.0177546 ,\n        1.0335647 , 0.9287032 , 0.99211156, 1.0202671 , 1.070912  ,\n        0.9740198 , 0.95638376, 1.009878  , 1.0027508 , 1.0078361 ,\n        0.9876788 , 0.9929242 , 1.0410936 , 0.92518884, 0.9875527 ,\n        1.0457731 , 1.0324131 , 0.9749099 , 1.0107133 , 1.0354468 ,\n        1.0334636 , 1.0514233 , 1.0008976 , 0.49762276, 1.0231017 ,\n        1.022851  , 0.98122776, 0.9792238 , 1.0382581 , 1.0872394 ,\n        1.063421  , 1.0052327 , 1.0951998 , 0.9343188 , 1.0401009 ,\n        0.9857288 , 0.99381554, 0.98538023, 1.0203257 , 0.9849232 ,\n        0.98432034, 0.9968658 , 1.0242809 , 1.0206251 , 0.9118139 ,\n        1.0015781 , 1.0130528 , 0.9934855 , 0.9791316 , 1.039351  ,\n        0.90032625, 1.0023052 , 1.0232698 , 1.0437299 , 1.0279865 ,\n        0.99956846, 1.0295726 , 0.9463179 , 0.959719  , 1.0786769 ,\n        1.0184838 , 1.0014958 , 1.0090481 , 1.0272769 , 1.0119532 ,\n        1.0660331 , 1.0325134 , 0.9119396 , 1.033212  , 0.9868591 ,\n        1.0016167 , 1.0422144 , 1.0315493 , 0.7693073 , 1.042239  ,\n        1.0438027 , 1.0457076 , 1.0581955 , 1.0004706 , 1.073716  ,\n        1.0191345 , 1.0167751 , 1.0190486 , 1.0070097 , 1.0405612 ,\n        1.0570325 , 0.93935597, 0.9484143 , 0.9238769 , 1.0445254 ,\n        0.9722331 , 1.0149024 , 0.22651386, 1.0745194 , 0.96048045,\n        0.9636066 , 0.94916975, 1.0411651 , 1.1088411 , 1.0337915 ,\n        1.0477798 , 1.0076342 , 1.0033674 , 1.0383251 , 1.002711  ,\n        0.7968786 , 0.7445415 , 1.0085932 , 1.0240511 , 1.0158733 ,\n        1.0114125 , 1.0093818 , 1.0538071 , 0.9592272 , 1.0406247 ,\n        1.0203742 , 1.0377423 , 0.9680583 , 0.9655698 , 1.0549648 ,\n        0.9684729 , 1.0834408 , 0.99967873, 1.0156168 , 1.0519556 ,\n        0.99254304, 1.0208242 , 0.9201646 , 1.0036974 , 1.0039674 ,\n        1.0401928 , 1.0831444 , 1.0331293 , 1.015466  , 1.0270905 ,\n        1.006663  , 1.0593424 , 1.0141177 , 1.069658  , 1.0173721 ,\n        1.029311  , 1.0129414 , 1.0578629 , 1.0291917 , 1.060319  ,\n        0.9600495 , 1.010402  , 1.0546298 , 1.0408657 , 0.9510891 ,\n        1.016626  , 0.9934542 , 1.037737  , 1.0799807 , 1.0789223 ,\n        1.0275664 , 1.0294417 , 1.0200115 , 0.36781004, 1.0113717 ,\n        1.0089695 , 1.0459255 , 1.0241461 , 1.0431173 , 0.59722537,\n        1.0183583 , 0.99061525, 1.0089312 , 0.9738047 , 1.0185297 ,\n        1.0564071 , 0.99551797, 0.9638828 , 1.0097591 , 0.9803828 ,\n        1.0245886 , 1.0010061 , 1.0747235 , 1.0047946 , 0.9969463 ,\n        0.27619073, 1.009699  , 0.94054437, 1.0045137 , 1.0563204 ,\n        1.038964  , 0.5876524 , 1.0225512 , 0.9397949 , 0.9912936 ,\n        1.0221618 , 1.0169445 , 0.96803206, 0.9959665 , 1.0610517 ,\n        1.0709091 , 1.0509259 , 1.0353851 , 1.0017922 , 1.0421077 ,\n        1.0028723 , 1.044986  , 1.0476378 , 0.96426374, 1.0304484 ,\n        0.96401817, 1.0566223 , 1.0081549 , 1.0217241 , 0.9993211 ,\n        1.0590765 , 1.0387863 , 1.0053406 , 0.98443556, 1.019073  ,\n        1.0019166 , 0.32019743, 1.009487  , 1.0126487 , 0.98752725,\n        1.0420618 , 1.0520355 , 1.0428768 , 0.96399856, 1.0050302 ,\n        1.0511814 , 1.0287361 , 1.0555655 , 1.0272295 , 1.0198373 ,\n        1.0026046 , 1.0346693 , 1.0404077 , 1.0405326 , 0.92916256,\n        1.0203004 , 1.0854218 , 1.0008211 , 1.0038161 , 1.0245721 ,\n        1.0163919 , 1.0111755 , 1.0516325 , 0.98078316, 1.0530376 ,\n        1.0257685 , 1.0419167 , 1.0368412 , 0.9643613 , 1.0167106 ,\n        1.0669183 , 0.59248227, 1.0068387 , 1.0356673 , 0.8448509 ,\n        1.0376911 , 0.990669  , 0.9799322 , 1.0162004 , 0.9761128 ,\n        1.0030736 , 1.0345014 , 1.0066577 , 1.0727583 , 1.0487013 ,\n        0.9265813 , 1.0322539 , 1.0615723 , 1.015181  , 1.0463715 ,\n        1.0300663 , 0.99413836, 1.035155  , 1.0525582 , 0.76512754,\n        0.9933431 , 0.953088  , 1.005544  , 1.072813  , 1.043667  ,\n        1.0522918 , 1.020313  , 1.0579889 , 0.9148228 , 0.5364659 ,\n        0.99795854, 1.0526878 , 1.050107  , 1.0149956 , 1.0197015 ,\n        1.0158114 , 1.0328373 , 0.92318875, 0.92060274, 0.99791974,\n        0.96182185, 1.0298623 , 1.0891902 , 1.0011562 , 0.4569563 ,\n        0.9593829 , 1.0116135 , 0.943983  , 0.982255  , 0.8462067 ,\n        1.0090498 , 1.0683398 , 1.0466049 , 1.06867   , 1.0128723 ,\n        1.008213  , 1.0287858 , 0.99236447, 1.0728437 , 1.0110074 ,\n        1.0562873 , 1.0089923 , 0.9852627 , 1.0305997 , 1.08888   ,\n        0.9610151 , 1.0335807 , 0.98810774, 1.0241425 , 0.9747466 ,\n        1.0163294 , 1.0393662 , 0.9930351 , 1.0535507 , 1.0218586 ,\n        0.98657006, 0.99662143, 0.98670685, 0.98055464, 1.0669764 ,\n        1.0436614 , 0.9660434 , 0.9753444 , 1.0258093 , 0.96966636,\n        1.0028789 , 1.0510731 ], dtype=float32),\n '/BERT_encoder/pooler_transform/bias:0': array([ 1.10185444e-02, -4.58560735e-02, -1.34677319e-02,  3.07280049e-02,\n        -2.47717854e-02, -3.98216862e-03,  1.01822063e-01,  8.94487835e-03,\n        -4.86207046e-02,  1.10874930e-02, -5.77762350e-03, -1.15108766e-01,\n         7.46357888e-02, -1.24686370e-02,  2.97733629e-03,  1.34643959e-02,\n        -3.35004763e-03,  2.86739990e-02, -7.28143603e-02,  2.94624995e-02,\n         5.89614511e-02,  9.49163164e-04,  3.80321383e-03, -7.14646503e-02,\n         1.50581092e-01,  2.38328874e-02, -8.27487372e-03, -4.64212559e-02,\n         5.43928817e-02,  8.41255188e-02,  1.38078630e-02, -1.38760200e-02,\n         2.23900769e-02,  1.45698490e-03,  2.30373200e-02, -5.89251779e-02,\n        -2.36296766e-02, -7.59270638e-02, -6.54568290e-03, -2.69655213e-02,\n        -5.72828352e-02, -3.75037417e-02,  2.69702589e-03, -1.04440160e-01,\n        -1.25228493e-02,  4.65061329e-02, -1.23572927e-02, -3.56238298e-02,\n        -2.90703792e-02, -6.45656064e-02,  1.12936653e-01, -4.02078666e-02,\n         1.39631793e-01, -5.42538911e-02, -4.63460907e-02,  4.35872301e-02,\n         3.33367847e-02, -3.15200128e-02, -1.33281082e-01, -2.93110888e-02,\n         7.57661974e-03,  1.08516673e-02,  1.37085305e-03, -1.14714727e-02,\n         3.03485710e-02, -1.12587083e-02,  2.64899265e-02,  4.08824645e-02,\n        -1.13479216e-02, -2.25736015e-02,  3.60648078e-03,  1.52545959e-01,\n        -8.51091277e-03,  1.65858846e-02,  1.38831707e-02,  3.67614739e-02,\n         1.12724071e-02,  6.96745813e-02,  6.04213029e-03, -4.99858446e-02,\n        -2.27082539e-02, -6.16053715e-02,  1.69457551e-02, -2.57759839e-02,\n         9.59022790e-02, -8.29313975e-03,  1.47570029e-03,  2.06143665e-03,\n        -7.93944597e-02,  3.04669701e-02, -6.86629489e-02,  2.07016822e-02,\n         6.43940717e-02, -9.74384788e-03,  2.98337620e-02, -5.07320836e-03,\n         1.22235166e-02, -4.91870940e-02, -3.31880525e-02,  1.62560735e-02,\n        -4.85634292e-03,  2.11594254e-02, -1.79137085e-02, -3.80720645e-02,\n        -1.97230577e-02, -3.01978402e-02,  4.07605385e-03,  3.63017768e-02,\n        -6.54829070e-02,  3.22250016e-02,  7.86978286e-03, -3.90389073e-03,\n         1.63948629e-02, -8.48931894e-02, -3.78205925e-02,  2.39739623e-02,\n         1.30566387e-02,  4.64389846e-02,  7.23106368e-03,  1.13161318e-01,\n        -1.26338108e-02, -4.82279621e-02, -9.13338959e-02,  3.07095610e-02,\n        -5.01996018e-02, -3.99842933e-02,  1.45311486e-02, -1.27698658e-02,\n        -4.74593192e-02, -4.69014756e-02,  1.57610700e-02, -2.41736392e-03,\n         1.48271048e-03,  2.48925071e-02,  3.15411575e-02,  2.23801769e-02,\n         1.09508410e-01, -7.06352890e-02, -2.12056730e-02,  2.06911862e-02,\n         8.43384564e-02,  3.25291045e-02, -6.31577671e-02, -2.56162211e-02,\n        -1.76260974e-02,  1.02773435e-01, -1.27710789e-01,  4.25395230e-03,\n         7.01625347e-02, -2.96828151e-02, -5.11878617e-02,  2.04250845e-03,\n         9.75783318e-02, -6.49091080e-02,  5.76338656e-02, -4.50336151e-02,\n        -6.22239858e-02,  2.93483716e-02,  1.10688480e-02,  6.04953915e-02,\n        -4.21631560e-02,  1.73816737e-02, -1.94582995e-02, -3.70765366e-02,\n         1.42600164e-01, -6.17542304e-02, -6.75179511e-02, -6.49167001e-02,\n         1.28339129e-02,  5.79698011e-03,  4.03038524e-02,  6.18818775e-03,\n        -1.71818305e-02, -7.91394114e-02,  2.13519335e-02,  6.74947947e-02,\n         4.83605126e-03, -1.71329845e-02,  1.65364981e-01,  2.45253760e-02,\n         9.06327069e-02, -6.07493669e-02,  2.98960181e-03, -3.72677483e-02,\n        -2.43260562e-02, -4.69517009e-03, -1.26088977e-01,  1.67088713e-02,\n         5.68264946e-02,  9.44493245e-03,  1.10615548e-02,  8.08577240e-03,\n         2.66481712e-02, -2.70327777e-02,  1.29956156e-01, -5.28126247e-02,\n         5.68172671e-02, -9.25283507e-02,  1.11666713e-02, -1.03043700e-02,\n         1.78919639e-03, -3.37647870e-02,  5.77187724e-02,  2.42846608e-02,\n        -3.81404012e-02, -7.68280551e-02, -3.99269722e-02,  1.45819616e-02,\n         1.17385365e-01, -4.33232896e-02,  5.18052243e-02, -5.70728630e-02,\n         1.89261250e-02,  7.60714412e-02,  6.69116974e-02, -1.80464089e-02,\n         8.27440768e-02, -5.67105226e-02,  8.67260396e-02,  8.67264718e-03,\n        -8.58554021e-02, -4.53241430e-02, -1.79118142e-02,  4.58173454e-02,\n        -1.69350132e-02, -2.43932009e-02, -8.32825527e-02, -2.24444084e-02,\n         1.37394108e-02,  9.84558687e-02, -4.78355121e-03,  1.00775268e-02,\n        -5.61953522e-02,  6.68071806e-02,  9.43171531e-02,  4.52966429e-02,\n         4.24486510e-02, -1.14038936e-03,  7.64012411e-02,  7.09025981e-03,\n        -4.56597023e-02,  1.31965533e-01,  5.40697128e-02,  1.38054565e-01,\n         4.96605597e-02,  5.93029335e-02,  1.83166824e-02,  1.22728879e-02,\n        -3.13859023e-02,  8.37103056e-04,  1.45841222e-02, -6.01004064e-02,\n        -1.94795169e-02,  2.90429872e-02,  1.43934891e-01, -4.62570600e-02,\n        -3.16027254e-02, -1.14704922e-01,  2.23894119e-02, -6.26333011e-03,\n        -3.44303548e-02, -9.88719389e-02, -4.18314710e-02,  6.56243507e-03,\n         2.18974501e-02,  1.20058037e-01,  8.40555429e-02,  1.91507849e-03,\n        -9.45837144e-03, -9.77091026e-03,  2.01712288e-02, -3.63036146e-04,\n         2.32661366e-02,  1.28296822e-01, -8.49493593e-02,  6.57354714e-03,\n        -3.32201971e-03,  4.44904938e-02, -8.19464028e-02,  5.82380444e-02,\n         1.09359045e-02,  3.53447162e-02,  8.38400126e-02,  1.41748980e-01,\n        -2.73671858e-02, -1.77333392e-02,  3.93363461e-02,  2.27647945e-02,\n        -9.20587406e-02, -1.56041294e-01, -7.10077677e-03,  7.05493316e-02,\n         5.36302775e-02,  2.05879454e-02,  6.60619140e-02, -2.00937670e-02,\n        -2.10180692e-02,  1.27386674e-01, -2.42539458e-02,  1.21299967e-01,\n         1.26995698e-01, -1.25055145e-02,  9.75868478e-03,  9.36881676e-02,\n        -7.98748434e-02,  2.70293485e-02,  2.35540718e-02,  1.27396956e-01,\n        -1.50902979e-02,  3.31111662e-02, -4.41297293e-02, -1.60214696e-02,\n         3.55547054e-05,  7.72977173e-02, -1.82425193e-02, -2.34959964e-02,\n         1.83115248e-02,  5.70050627e-02,  8.33661333e-02,  1.01552829e-01,\n         3.11968662e-03,  2.03632247e-02,  7.00297952e-03, -8.21370631e-03,\n        -2.81515773e-02, -4.97825295e-02, -1.75926881e-03,  3.02016567e-02,\n        -9.13450643e-02, -1.58941727e-02, -1.83820985e-02, -7.09675020e-03,\n        -2.44758241e-02, -4.03303504e-02,  2.18704212e-02,  4.01271693e-02,\n         5.92309237e-03,  6.72892621e-03,  3.65471304e-03,  1.11580370e-02,\n         5.17153274e-03, -3.19535136e-02, -6.16972893e-02,  3.65552306e-03,\n         2.49148738e-02, -2.38720886e-02, -2.15928685e-02,  1.29940510e-01,\n         2.03776965e-03,  9.94959697e-02,  2.19480991e-02,  4.19571921e-02,\n        -5.16599193e-02, -2.41276100e-02,  8.71595368e-02, -1.59231073e-03,\n         6.43237457e-02, -3.17180529e-02, -6.07754402e-02,  6.62149582e-03,\n        -1.72012579e-02, -7.97091797e-02, -8.54717717e-02, -2.52915043e-02,\n        -2.71753501e-02,  2.34947596e-02, -8.48186985e-02, -3.01743951e-02,\n         6.88090101e-02,  5.63338585e-02, -3.57594341e-02,  1.40914008e-01,\n        -5.96816055e-02, -2.29967646e-02, -6.94893375e-02, -1.45325378e-01,\n         1.53746987e-02,  4.84593846e-02, -1.57738831e-02, -2.55867038e-02,\n         6.28631115e-02,  3.20717171e-02,  8.65904149e-03,  3.71808857e-02,\n         1.00295365e-01,  4.90167066e-02,  7.19620287e-02, -3.40348743e-02,\n         3.68757583e-02, -3.36842686e-02, -8.41278303e-03,  3.63632967e-03,\n        -1.29395366e-01,  4.79462259e-02, -6.57363748e-03, -2.98811644e-02,\n        -4.60051224e-02, -7.73656964e-02, -1.12341745e-02,  3.83251496e-02,\n        -5.93615696e-03,  6.88357428e-02,  6.10457920e-02, -4.75095995e-02,\n        -1.90260801e-02,  3.86249982e-02, -6.92035332e-02, -3.01676262e-02,\n         2.50763018e-02,  3.04340795e-02, -8.24710540e-03,  7.03955768e-03,\n        -3.40524944e-03,  7.23815709e-03,  5.21834679e-02,  3.03243492e-02,\n         4.20768373e-02,  6.55512884e-02,  4.84750606e-02, -3.48705724e-02,\n        -4.27104868e-02,  4.73507121e-03,  1.39458962e-02,  8.05681050e-02,\n         9.30824038e-03,  2.49416102e-02, -5.68101108e-02,  3.30370516e-02,\n         6.32487750e-03,  1.70465242e-02,  5.99974580e-02,  1.11590000e-02,\n         1.29855201e-01, -1.55573487e-01,  1.78580382e-03,  3.09509784e-02,\n        -8.35309327e-02,  6.11038171e-02, -4.70908592e-03, -3.59772183e-02,\n         1.39936497e-02, -1.52514547e-01,  9.27966833e-03,  4.72908691e-02,\n        -1.78451408e-02, -7.31182098e-02,  4.28956375e-02,  1.48441428e-02,\n        -4.78723682e-02,  5.49660623e-02,  7.78722242e-02,  1.42555614e-03,\n         4.56145359e-03, -1.22505836e-02,  7.30406120e-02,  1.28634900e-01,\n         2.03132741e-02, -5.12186363e-02,  4.62155342e-02,  5.54014184e-03,\n         1.21086473e-02,  3.30403633e-02, -1.34013280e-01,  5.47343232e-02,\n         9.59095359e-02,  1.43252775e-01,  7.49422684e-02,  1.35187328e-01,\n        -2.21664011e-02, -2.08547190e-02,  3.52927223e-02,  2.11270284e-02,\n        -4.70416024e-02,  3.21263745e-02,  4.07560654e-02, -1.28406376e-01,\n         2.75813341e-02, -1.45900277e-02, -1.34010583e-01,  1.10424243e-01,\n         5.38689978e-02,  2.05193870e-02,  6.74999654e-02,  6.88154995e-02,\n         2.77547054e-02,  3.90306376e-02, -5.00657521e-02, -4.63114008e-02,\n         3.13922227e-03, -3.28184627e-02, -2.96175256e-02, -1.78099811e-01,\n         1.24707995e-02,  7.26414099e-02,  2.30043791e-02, -6.15238324e-02,\n         1.82703603e-02,  3.95350978e-02, -6.34358302e-02,  1.52270287e-01,\n        -1.62499007e-02, -2.18822602e-02, -7.38397148e-03,  2.33701579e-02,\n         7.08243325e-02, -6.26079440e-02,  3.15031558e-02,  8.03008974e-02,\n         5.51848449e-02, -2.14316905e-03, -6.87301457e-02, -6.17496297e-03],\n       dtype=float32),\n '/BERT_encoder/pooler_transform/kernel:0': array([[ 0.01676183,  0.00413649, -0.00772692, ..., -0.03945423,\n         -0.00339674,  0.0629719 ],\n        [ 0.02236491, -0.13167234,  0.03282965, ..., -0.03435782,\n          0.0018578 ,  0.10962471],\n        [-0.07346562,  0.10294361,  0.04647393, ..., -0.00611127,\n          0.03336287,  0.00091748],\n        ...,\n        [ 0.07252315, -0.02282907, -0.02729807, ..., -0.01721714,\n          0.05442461,  0.00188679],\n        [-0.07986797, -0.01397997,  0.01754025, ..., -0.02137917,\n          0.02624467, -0.04706085],\n        [-0.08407183,  0.04295998, -0.01953753, ..., -0.01281993,\n         -0.02076896, -0.02737398]], dtype=float32),\n '/BERT_encoder/position_embedding/embeddings:0': array([[-2.23679678e-03, -1.62148345e-02, -5.76564670e-03, ...,\n         -8.12575892e-02, -1.81370340e-02,  1.05071347e-03],\n        [-1.44338692e-02, -9.52761807e-03, -3.37332196e-04, ...,\n          2.26321220e-02, -2.48229243e-02, -2.05417983e-02],\n        [-1.34868734e-02, -6.80950106e-05,  7.16846203e-03, ...,\n          4.71532997e-03, -1.99922663e-03,  6.17111754e-03],\n        ...,\n        [ 2.49075573e-02, -1.17840164e-03, -9.28540900e-03, ...,\n          1.19644508e-03, -1.97984464e-02,  4.26357007e-03],\n        [ 2.82355193e-02, -1.11606233e-02,  1.29859354e-02, ...,\n         -1.31447185e-02, -2.37946156e-02, -9.27935448e-03],\n        [-1.15946934e-01,  4.01685722e-02, -1.80738959e-02, ...,\n         -1.94774829e-02,  1.41551085e-02, -8.68470520e-02]], dtype=float32),\n '/BERT_encoder/transformer/layer_0/intermediate/bias:0': array([-0.06220672, -0.17569678,  0.01027325, ..., -0.1034277 ,\n        -0.06268789, -0.00099666], dtype=float32),\n '/BERT_encoder/transformer/layer_0/intermediate/kernel:0': array([[ 0.08629283,  0.00180143, -0.00695993, ...,  0.00604766,\n          0.02649122, -0.02329085],\n        [ 0.0279571 , -0.03080777,  0.0388201 , ...,  0.0015661 ,\n          0.03592594, -0.00304908],\n        [ 0.00112359,  0.00201125,  0.01712251, ..., -0.03783183,\n          0.00489668, -0.04589881],\n        ...,\n        [-0.01067637,  0.02868651, -0.01948906, ..., -0.06993695,\n          0.07558446,  0.03061439],\n        [ 0.007379  ,  0.03544442, -0.00981715, ..., -0.0136185 ,\n          0.00791293,  0.03587361],\n        [-0.01706129,  0.0643982 , -0.03142137, ...,  0.03394467,\n         -0.01405246, -0.01051639]], dtype=float32),\n '/BERT_encoder/transformer/layer_0/output/bias:0': array([-7.17112049e-02,  3.02607678e-02, -5.73148206e-02,  1.27064269e-02,\n         1.16886396e-03, -7.50172660e-02, -4.49808054e-02, -2.99337804e-02,\n         4.57045548e-02,  2.36232653e-02, -1.78876147e-02,  4.81354371e-02,\n        -3.43591943e-02,  5.00384085e-02, -2.52534705e-03,  2.81576850e-02,\n        -7.16284104e-03,  1.32659310e-02,  6.55285940e-02, -4.47699912e-02,\n         4.69200090e-02, -2.28102375e-02,  2.94831041e-02,  5.63153587e-02,\n         9.50391637e-04,  6.66076504e-03, -7.18608499e-02, -1.37328100e-03,\n        -3.06785591e-02, -7.86260143e-03,  2.15820447e-02,  4.39838246e-02,\n        -2.90224385e-02, -1.88490022e-02, -1.90285463e-02,  1.52543141e-02,\n        -2.10764688e-02, -2.09657326e-02, -1.37087824e-02, -2.06834339e-02,\n         2.85583548e-03,  3.98338176e-02, -8.86713993e-03,  1.22351028e-01,\n         5.52449301e-02,  5.48258722e-02,  2.26700306e-03, -7.01351911e-02,\n        -1.29145905e-01,  1.63932238e-02,  1.11192331e-01, -9.12577063e-02,\n        -9.82702225e-02, -7.09694549e-02, -8.46686661e-02, -3.42753232e-02,\n        -2.02422054e-03, -1.46007761e-02,  4.59232032e-02, -2.21197288e-02,\n         1.47886444e-02, -1.11647360e-02, -3.37516218e-02,  4.43202034e-02,\n         4.34440412e-02, -5.99689670e-02,  6.37497902e-02, -5.86110801e-02,\n         4.65454161e-02, -8.44228454e-03, -4.54868563e-02,  1.19076231e-02,\n        -2.71648448e-02, -5.70544191e-02, -2.63173040e-02, -5.88829517e-02,\n        -6.76377937e-02,  1.08028591e-01, -5.48503138e-02, -1.44299353e-03,\n         1.44501209e-01, -2.42432230e-03, -6.21583201e-02,  1.88764520e-02,\n        -9.59625542e-02,  2.68293694e-02,  4.86375624e-03,  2.49274261e-03,\n         8.01393464e-02, -2.52747852e-02, -5.31703196e-02,  5.14745377e-02,\n         5.56684211e-02, -2.07779016e-02,  3.47562879e-02,  2.90862564e-02,\n        -1.26145342e-02, -6.16540611e-02, -5.35072200e-02,  4.02221195e-02,\n         4.66002291e-03,  3.17198932e-02, -8.66883621e-03, -3.04089915e-02,\n         2.10193247e-02,  5.04905879e-02,  1.89814297e-03, -1.66265126e-02,\n        -6.07663281e-02,  9.28234160e-02, -1.04682110e-01,  2.98157018e-02,\n        -2.56392676e-02,  1.48059719e-03,  5.05164377e-02, -4.89223329e-03,\n         2.23819315e-02, -1.18847629e-02, -3.90449055e-02, -5.60080148e-02,\n         6.61204085e-02,  2.39229091e-02, -2.83593759e-02,  6.98428005e-02,\n         3.52114104e-02,  3.88187729e-02, -1.81365833e-02, -3.02019697e-02,\n        -4.06791344e-02, -3.10347136e-02, -3.91798653e-02, -4.71312404e-02,\n         3.62705849e-02,  4.71321978e-02,  1.48967460e-01,  3.52556333e-02,\n         1.18707351e-01,  3.13960039e-03, -3.16539221e-02,  4.55018319e-02,\n        -5.35633191e-02,  3.92837748e-02, -2.19660089e-03,  2.80683860e-02,\n         1.32657886e-02, -1.75128318e-02, -3.28452513e-02, -3.17807682e-02,\n         3.33459973e-02, -9.59890112e-02, -6.96150819e-03,  8.28064829e-02,\n        -1.49548026e-02,  1.13187144e-02,  3.90951484e-02,  6.60723001e-02,\n        -2.02235747e-02,  5.93970343e-02,  6.42232522e-02, -2.67374031e-02,\n         5.44085950e-02, -1.15223834e-02, -1.95608344e-02, -6.82959110e-02,\n         3.26928385e-02,  6.56859353e-02, -1.09033752e-03,  3.78493941e-03,\n        -6.17689872e-03,  1.16605861e-02,  2.47966070e-02, -7.35121444e-02,\n        -3.01640891e-02,  7.37682655e-02,  2.20227856e-02, -4.08014692e-02,\n        -3.36354859e-02, -5.99761978e-02, -7.10814223e-02, -9.71342903e-03,\n         3.65322009e-02,  6.48288280e-02, -6.92965016e-02,  3.49542387e-02,\n         9.14954469e-02,  2.88511366e-02,  5.77821545e-02,  1.96319744e-02,\n        -1.12978788e-02,  3.81932594e-03, -3.79182436e-02,  4.15770756e-03,\n         2.82741617e-02,  1.98047876e-01,  4.40114290e-02,  1.70004480e-02,\n        -5.37062250e-02,  2.57334411e-02, -3.70130353e-02,  1.72673743e-02,\n         3.98098715e-02,  6.65116459e-02, -1.51130930e-02,  3.71579453e-02,\n        -2.81905453e-03,  8.83762464e-02,  5.29051200e-02, -6.53602034e-02,\n         5.18431477e-02, -5.87890623e-03,  2.44037658e-02,  1.40591878e-02,\n        -3.17547768e-02, -4.48627174e-02,  7.01315105e-02, -8.94504637e-02,\n        -2.44332738e-02, -7.48504477e-04, -2.22412627e-02, -6.37470335e-02,\n         6.92005157e-02,  3.10633075e-03,  1.62784494e-02, -9.55553427e-02,\n        -1.43327173e-02, -7.95644224e-02,  5.22842854e-02, -2.82020718e-02,\n         6.42771870e-02, -1.82166267e-02,  7.05685914e-02, -1.63711403e-02,\n        -4.36381474e-02,  1.08837299e-02,  7.28884041e-02, -3.25697241e-03,\n         6.24195375e-02,  1.62216313e-02, -8.40259865e-02,  1.84169468e-02,\n         4.97772135e-02,  6.67525455e-04,  6.42171353e-02, -1.75100472e-02,\n        -7.80921876e-02, -8.41008052e-02,  1.50026763e-02,  1.03531227e-01,\n         4.52472642e-02,  3.10048033e-02,  7.06532747e-02, -2.87426710e-02,\n         2.83245444e-02, -6.72923285e-04,  5.20343706e-03, -3.42794396e-02,\n        -9.34372693e-02,  4.82848659e-02, -1.02497287e-01,  2.63484363e-02,\n         3.46383862e-02, -1.85947288e-02,  1.93397686e-01, -2.74308212e-02,\n         1.45766521e-02, -5.04074059e-02, -5.21420687e-02, -3.78787667e-02,\n        -1.95117965e-02,  4.86869738e-03,  3.61480974e-02, -5.73799722e-02,\n        -1.11242132e-02, -3.84426415e-02,  4.72910656e-03, -1.24685973e-01,\n         1.11404486e-01,  9.66333225e-03,  2.37833615e-02,  2.00303122e-02,\n        -1.04165949e-01, -1.17991790e-02, -4.98796988e-04,  4.40923125e-02,\n         3.87997814e-02,  3.87627035e-02, -1.43162142e-02,  3.78276827e-03,\n        -3.01003526e-03, -1.66753456e-02,  5.65156862e-02, -7.34292790e-02,\n         2.10865727e-03,  1.43357040e-02, -4.02791724e-02,  7.75796399e-02,\n         5.47102541e-02,  6.30112067e-02, -3.35706547e-02,  9.60740075e-02,\n        -1.75979622e-02, -2.81004999e-02, -4.46800143e-02, -3.74905020e-02,\n        -3.41440514e-02,  8.63049030e-02,  1.16645679e-01,  2.06737388e-02,\n        -3.11299041e-02, -3.36416275e-03,  1.72940493e-02,  3.35583463e-02,\n         2.53124032e-02, -2.37740204e-02, -4.99487016e-03, -6.94337860e-02,\n        -1.17854394e-01, -1.01966113e-02,  1.34071696e-03,  4.43054741e-05,\n         4.91309166e-02,  3.35708261e-02, -2.30140463e-02, -3.69359963e-02,\n         1.32672964e-02,  3.15691903e-02,  1.07337765e-01, -5.31057231e-02,\n        -3.57651226e-02, -5.44921272e-02,  2.16772947e-02,  1.59497242e-02,\n         2.10682712e-02,  3.94750237e-02,  1.03599332e-01, -3.96959819e-02,\n         1.83435231e-02,  6.86902851e-02,  3.29089654e-03,  3.35558280e-02,\n        -2.53780484e-02, -2.24693157e-02,  7.01105744e-02,  1.95628293e-02,\n        -2.83582397e-02, -2.96801142e-02, -9.31453183e-02, -4.51186635e-02,\n        -3.41811180e-02, -4.71075587e-02, -6.08816789e-03, -4.97366907e-03,\n         1.51021108e-02, -1.04664139e-01,  1.22541818e-03, -3.61001231e-02,\n        -8.70155841e-02, -2.37396955e-02, -2.73397993e-02,  4.66763973e-02,\n         3.76540795e-02,  3.62050310e-02, -4.02985066e-02, -3.28657404e-02,\n        -1.59504823e-02, -7.27395527e-03,  7.60816634e-02, -1.53111024e-02,\n        -4.61311005e-02,  2.89747920e-02,  4.34333570e-02,  9.90271568e-03,\n        -3.04974094e-02,  3.67219821e-02,  1.83435455e-02, -3.14366594e-02,\n        -7.78568611e-02,  4.54187468e-02, -1.18868500e-02,  2.07687952e-02,\n        -6.85731992e-02, -4.86978032e-02,  1.80399604e-02, -2.32245438e-02,\n         2.34227702e-02, -4.55205003e-03,  8.50318968e-02,  2.03633774e-02,\n         9.79265943e-03, -8.84203836e-02, -1.45975882e-02, -7.12493956e-02,\n        -1.68874208e-02, -5.50866462e-02, -4.94122021e-02, -2.64619682e-02,\n        -2.67163571e-02,  3.50220092e-02,  4.73344885e-03,  6.76695183e-02,\n         1.17337145e-02,  2.68365350e-02, -5.92385158e-02,  1.42613854e-02,\n        -5.59450500e-02,  7.25100487e-02, -4.54101004e-02, -3.39471027e-02,\n         1.20620662e-02, -1.44388508e-02, -2.21687071e-02,  1.24847516e-04,\n         3.18418965e-02, -2.41853148e-02, -5.44740707e-02, -2.21295264e-02,\n        -3.32343802e-02, -2.87194401e-02,  5.98702691e-02, -7.61458129e-02,\n         6.28045872e-02, -5.42936400e-02, -5.94378449e-02,  3.08303181e-02,\n         5.09276870e-04,  9.02347267e-03,  2.91143432e-02,  6.02109730e-02,\n         2.54996237e-03, -8.90911222e-02, -3.37309577e-02, -6.60446510e-02,\n        -2.77051572e-02,  2.87239440e-02,  2.00332887e-02, -4.39991616e-02,\n        -3.19945700e-02, -3.95378172e-02, -6.85819387e-02,  3.65465656e-02,\n         8.57088156e-03, -7.11463615e-02, -8.97563249e-02,  5.25949933e-02,\n         3.74719240e-02,  2.50050407e-02,  7.56857991e-02,  2.99850535e-02,\n         2.03767605e-02, -2.98840646e-02, -1.09663941e-02, -8.65736138e-03,\n         4.17762101e-02, -6.25820756e-02,  2.20238879e-01,  6.54194951e-02,\n         3.39341462e-02,  1.78470723e-02,  6.36852486e-03,  5.66246994e-02,\n         5.29846027e-02, -3.54742929e-02,  7.26988837e-02, -5.47904372e-02,\n        -4.37882058e-02,  4.54214625e-02, -1.22654960e-02,  8.16599429e-02,\n         2.90574525e-02,  2.22134575e-01, -5.80410250e-02, -1.15347654e-02,\n        -4.34704963e-03, -7.41377547e-02,  6.32485747e-02, -7.39123207e-03,\n        -1.17107309e-01, -4.76335771e-02, -4.71055210e-02, -3.48118916e-02,\n        -1.49227018e-02,  5.79125322e-02, -3.09429374e-02, -2.41024606e-02,\n        -6.31300081e-03,  8.18227232e-02, -3.42645273e-02,  8.40483755e-02,\n         2.15786844e-02, -4.77431305e-02, -7.05408007e-02, -9.72314999e-02,\n         3.36718410e-02,  1.00454517e-01,  5.73920924e-03, -1.26549415e-02,\n         3.20222899e-02, -1.17021166e-02, -4.07951511e-02,  1.22026857e-02,\n         5.58550358e-02, -1.29731521e-02,  2.79646795e-02, -3.32926922e-02,\n         8.16536024e-02,  5.05930604e-03,  4.28760499e-02, -9.63000804e-02,\n         3.79237421e-02,  6.63364977e-02,  3.20180431e-02,  2.24339832e-02],\n       dtype=float32),\n '/BERT_encoder/transformer/layer_0/output/kernel:0': array([[-0.01351452, -0.06668809,  0.05082082, ..., -0.02547489,\n         -0.05578898,  0.01299666],\n        [-0.03849852,  0.01197765,  0.05084971, ..., -0.00752282,\n          0.02127834,  0.01189771],\n        [-0.01362902, -0.06102027, -0.02721386, ...,  0.01706328,\n         -0.00934825,  0.021024  ],\n        ...,\n        [ 0.12068477,  0.04832694, -0.01376563, ...,  0.06271896,\n         -0.006248  , -0.01649521],\n        [-0.05534367, -0.05559121, -0.02831758, ..., -0.10425564,\n         -0.02804927, -0.00309516],\n        [ 0.01569313, -0.04852465,  0.01267985, ..., -0.04526413,\n         -0.02741614,  0.00242407]], dtype=float32),\n '/BERT_encoder/transformer/layer_0/output_layer_norm/beta:0': array([-7.68982470e-02, -2.15976033e-02,  2.07762793e-02,  8.29256177e-02,\n        -6.44012634e-03,  2.88733952e-02, -3.72325480e-02, -5.31792790e-02,\n         1.27236739e-01, -1.77278221e-02,  4.68299612e-02,  4.78085019e-02,\n         2.82135867e-02,  1.34093866e-01, -6.45363377e-03, -2.94845849e-02,\n         1.61370467e-02,  3.69440131e-02,  2.25263219e-02,  4.74034511e-02,\n         3.59743368e-03,  6.21275567e-02,  2.99113225e-02,  1.70929879e-01,\n         3.80476080e-02,  1.32417917e-01,  4.55020182e-02, -2.01670900e-02,\n         9.18769315e-02,  1.98004534e-03, -9.54220537e-03,  2.38906145e-01,\n         7.32334778e-02,  6.18972145e-02, -3.67127620e-02, -3.88417989e-02,\n        -3.04790698e-02,  3.97977307e-02,  5.50111122e-02,  9.26043913e-02,\n         1.48043055e-02,  2.82931309e-02, -1.69715390e-01, -4.05031741e-02,\n         2.05512322e-03,  7.12139830e-02, -8.95230006e-03,  1.90364253e-02,\n         1.33861098e-02, -5.68133742e-02,  2.86493171e-02, -2.24554017e-02,\n        -2.49609370e-02, -1.94560327e-02,  2.20381208e-02, -3.82805839e-02,\n         6.69597983e-02,  1.47248074e-01, -1.97281800e-02, -5.15162349e-02,\n         2.46477854e-02,  5.29466681e-02, -6.68274611e-02,  6.62404150e-02,\n        -5.36355637e-02,  5.30826375e-02,  1.68368481e-02, -6.86016157e-02,\n        -2.24847216e-02,  1.42889302e-02,  6.63060287e-04,  4.72623445e-02,\n        -2.21644621e-02,  1.19477823e-01, -4.40140031e-02,  2.57499292e-02,\n         3.53115797e-03,  1.45470262e-01, -8.08044896e-02,  5.52216098e-02,\n        -4.89257649e-02,  3.17785400e-03, -3.24265622e-02,  1.22950999e-02,\n         1.30019570e-02,  5.09015699e-05,  1.14928847e-02,  2.86942702e-02,\n         1.13817472e-02,  3.45791318e-02,  4.66540828e-02,  8.73966590e-02,\n         2.14676075e-02, -1.45490803e-02, -1.63961854e-02,  5.25756218e-02,\n         2.36067157e-02, -1.78843848e-02,  4.22254466e-02,  5.60426638e-02,\n         3.34675722e-02,  2.85619237e-02,  6.03571860e-03,  3.00367195e-02,\n         1.65435404e-03,  1.04658097e-01, -2.79089045e-02, -4.37450130e-03,\n        -2.28566211e-02,  5.46991862e-02, -2.69570835e-02,  1.27490804e-01,\n         1.17086604e-01,  4.67706062e-02,  1.78997099e-01, -2.82695722e-02,\n         4.10058834e-02,  9.63150784e-02,  8.49008411e-02, -9.80707183e-02,\n         3.44530679e-02,  1.74702153e-01,  7.30963051e-03,  1.89332124e-02,\n         6.29689470e-02,  8.32292885e-02,  2.75905374e-02,  4.21059877e-02,\n        -2.17792820e-02, -3.70403342e-02, -2.91052014e-02,  3.54963504e-02,\n         5.70372902e-02,  4.34708176e-03, -4.99208346e-02,  4.77718655e-04,\n        -6.10658228e-01, -3.66842262e-02,  6.32708194e-03, -3.76947336e-02,\n         1.26561010e-02,  1.07701242e-01,  6.72722459e-02,  9.83250700e-03,\n        -8.03656653e-02,  2.33538984e-03,  2.43228748e-02,  4.62551750e-02,\n         1.66069623e-02,  3.71139944e-02, -1.02687981e-02,  7.15299025e-02,\n        -9.39201843e-03,  3.98199633e-02, -2.82909516e-02,  6.01880960e-02,\n        -3.94552387e-03,  1.25825673e-01, -1.55494791e-02, -2.32883207e-02,\n         1.13091782e-01,  1.12784088e-01,  4.73765321e-02, -8.39697272e-02,\n         5.10188676e-02, -9.02457442e-03, -7.77290985e-02, -6.22756630e-02,\n         4.56290767e-02,  1.43238055e-02,  3.54420431e-02, -1.66423053e-01,\n        -4.11844365e-02, -8.55647959e-04, -1.79539435e-03, -1.61717162e-02,\n        -1.16008995e-02,  4.00464162e-02, -7.23930970e-02,  1.18466504e-01,\n         6.68158755e-02, -6.11886941e-02, -4.63276505e-02,  7.46941566e-02,\n        -3.79130766e-02, -9.47884768e-02,  6.58560125e-03,  5.00757545e-02,\n         6.52776212e-02,  2.07291581e-02,  6.28610775e-02, -1.67941600e-02,\n        -3.46130095e-02,  3.66865218e-01,  7.93715119e-02, -3.63621563e-02,\n         3.59868295e-02, -3.68987508e-02,  7.05698058e-02, -5.23192510e-02,\n         1.71371549e-02,  9.72118136e-03,  9.24606472e-02,  6.10798858e-02,\n         2.10740548e-02,  4.94675618e-03,  6.10866351e-03,  4.66839299e-02,\n         1.17777614e-02, -8.84610787e-02, -2.67353095e-02, -2.25061458e-02,\n        -3.37277651e-02, -2.75794230e-03,  1.37353092e-01, -2.74203550e-02,\n        -3.73276025e-02, -5.91017818e-03,  7.47524649e-02,  1.90671533e-02,\n        -1.56097963e-01,  2.30215341e-02,  4.40365970e-02,  8.92065316e-02,\n        -2.42143907e-02, -9.24087390e-02,  7.06844628e-02, -5.34720048e-02,\n        -7.85169601e-02,  6.01416938e-02,  3.46802250e-02,  9.34316739e-02,\n        -7.82031640e-02,  6.75380901e-02,  2.25582793e-02,  2.06434377e-03,\n         3.56932096e-02,  1.12766489e-01,  2.60473173e-02,  5.30837998e-02,\n        -2.21046750e-02,  2.69795042e-02,  6.15279377e-02, -2.67788880e-02,\n        -2.29940247e-02,  2.70571001e-02, -6.05767146e-02,  7.39438012e-02,\n        -4.24584150e-02,  3.25150378e-02,  3.72847579e-02, -8.36562961e-02,\n         2.29107775e-02,  5.91722168e-02,  1.88323800e-02,  2.22901180e-02,\n         1.76670924e-02, -8.24725181e-02, -4.68568057e-02, -1.17583983e-02,\n         2.68616341e-03,  1.13636598e-01,  4.72885743e-02, -6.59398064e-02,\n        -2.81122755e-02,  5.40234447e-02, -4.90532704e-02,  4.84931655e-02,\n        -6.53107762e-02,  6.46685958e-02,  3.54022197e-02,  2.99797226e-02,\n        -4.01356407e-02, -4.43134271e-02,  7.75669888e-02, -2.46428847e-01,\n        -2.74574280e-01,  5.25166420e-03,  9.59090069e-02, -1.73939485e-02,\n        -7.96679258e-02,  1.09249437e-02, -5.14386036e-02, -3.23899314e-02,\n         1.09281220e-01, -6.08029962e-03,  3.72418724e-02,  2.02777027e-03,\n        -7.85448104e-02,  1.27980374e-02,  7.53381997e-02,  6.48580790e-02,\n        -1.40904253e-02,  8.19264427e-02,  4.86345664e-02, -2.29028258e-02,\n        -5.15269302e-02,  3.61517929e-02, -7.40408972e-02,  7.71878362e-02,\n        -1.97371803e-02,  4.33452539e-02,  9.46261585e-02, -3.30399722e-02,\n        -1.14418110e-02, -4.06985125e-03,  8.11138973e-02,  3.77556384e-02,\n         2.61990447e-02, -5.85464351e-02,  1.26884148e-01,  1.07254498e-01,\n         4.68135886e-02,  8.26834291e-02,  9.41580534e-02,  6.32369332e-03,\n        -7.85038844e-02,  6.22818917e-02,  1.26189664e-02,  3.18784043e-02,\n         5.44836149e-02, -8.27822238e-02,  2.98007373e-02,  3.71572562e-02,\n        -1.05319489e-02, -7.75360595e-03, -1.98570248e-02,  8.58264193e-02,\n         9.47051495e-02,  6.02851957e-02, -5.87863289e-03,  1.09060787e-01,\n         6.01848913e-03, -5.08228168e-02, -2.64254846e-02, -5.30346334e-02,\n        -3.35812904e-02,  8.88317078e-02,  1.81685239e-02, -3.90142873e-02,\n        -1.46178370e-02, -3.91086824e-02, -2.68832874e-02,  2.66444571e-02,\n         3.66262756e-02, -2.99808066e-02, -8.04912206e-03,  4.00338788e-03,\n        -6.22155108e-02, -6.12544455e-02,  2.20644519e-01, -8.83010849e-02,\n         3.12710926e-02,  2.22820640e-02, -1.27804816e-01,  6.45288080e-02,\n         2.50730723e-01, -3.91362868e-02, -2.34661605e-02,  1.13793584e-02,\n         4.83448239e-04,  6.99996995e-03, -1.80828832e-02, -2.43516900e-02,\n        -3.76534574e-02, -2.10358035e-02,  3.71483043e-02,  1.16252631e-01,\n         1.73565913e-02,  6.12105131e-02, -5.30470870e-02, -1.85307709e-03,\n         3.10527366e-02, -2.04357188e-02, -5.86597882e-02,  9.11097005e-02,\n        -2.80986931e-02,  5.71506843e-02, -1.39531970e-03,  1.15250185e-01,\n        -2.56538261e-02,  4.75620618e-03,  3.89020029e-03, -5.56501672e-02,\n        -5.22404574e-02, -4.44579422e-02,  2.33229667e-01, -6.53203502e-02,\n        -4.52545807e-02, -2.74214474e-03, -7.34203681e-02, -1.91873871e-03,\n         3.56308110e-02, -8.70362744e-02, -7.43906051e-02,  2.93179713e-02,\n         1.68895591e-02, -1.47884339e-02,  5.91952428e-02, -3.99314053e-03,\n        -3.62865143e-02,  2.78581567e-02,  6.66880459e-02,  2.88905520e-02,\n        -1.01433240e-01, -4.00121883e-02,  4.25385498e-03,  6.55529350e-02,\n        -7.47100823e-03, -5.93734905e-02, -6.49467111e-02,  4.57292534e-02,\n        -2.39000358e-02,  8.20373185e-03, -4.27752957e-02, -3.68520096e-02,\n         4.47774529e-02,  2.75512747e-02,  2.90330965e-02, -6.88974559e-02,\n        -1.38154905e-02,  1.42218679e-01,  4.50603813e-02, -8.16768557e-02,\n         1.01542927e-01, -8.47982094e-02,  2.08399855e-02,  5.49312010e-02,\n        -3.98710743e-02, -1.48009881e-01, -2.42074709e-02, -4.14926633e-02,\n         1.33055951e-02,  1.27671205e-03,  6.58713356e-02, -5.81680089e-02,\n        -1.80268899e-01,  9.75575373e-02,  8.01879633e-03,  1.45970419e-01,\n         9.84072499e-03,  5.12020625e-02,  4.92988974e-02,  1.08736247e-01,\n         1.25141191e+00,  7.07265288e-02,  1.82306394e-01,  4.73460257e-02,\n        -4.29670885e-02,  5.88601194e-02, -7.90577754e-02,  1.13710505e-03,\n        -1.28252795e-02, -1.08697787e-01, -2.80769598e-02,  2.34073997e-02,\n         2.55367067e-02,  7.92936310e-02, -4.90286015e-02,  5.66521753e-03,\n         1.15746455e-02, -1.76690109e-02,  1.12874418e-01, -9.71144587e-02,\n         2.52952948e-02,  1.26627475e-01, -1.68417078e-02, -4.66370359e-02,\n        -4.17117849e-02,  6.38525784e-02,  8.57827589e-02,  4.12674099e-02,\n        -4.64521982e-02,  5.77589162e-02,  1.59043074e-01,  7.89942779e-03,\n        -3.19793820e-02, -8.83094981e-05,  4.02119607e-02,  3.11090723e-02,\n        -3.12260576e-02,  5.04866056e-02,  4.44612354e-02, -3.43910493e-02,\n         3.07781585e-02,  5.89030124e-02, -2.96653099e-02, -1.06003778e-02,\n         9.26057808e-03,  1.70261934e-02,  1.01505965e-01, -6.22527935e-02,\n        -5.44245318e-02,  8.13025460e-02, -2.46788729e-02,  2.73638424e-02,\n         9.57349688e-02,  2.14307457e-01,  6.96915984e-02,  4.23862226e-02,\n         1.01487283e-02, -2.34016348e-02, -5.13479039e-02, -8.58954042e-02,\n        -8.20249319e-03, -1.17797572e-02, -5.56196421e-02, -1.11158967e-01,\n        -3.83918993e-02,  9.65671241e-02, -4.39258805e-03, -4.72844020e-03],\n       dtype=float32),\n '/BERT_encoder/transformer/layer_0/output_layer_norm/gamma:0': array([1.0295208 , 1.0231327 , 1.0492975 , 1.0259066 , 1.0768614 ,\n        1.033947  , 1.054482  , 0.9981512 , 0.877125  , 1.054757  ,\n        1.0945145 , 1.0320736 , 1.044019  , 1.0670886 , 1.0322719 ,\n        1.0705286 , 1.0081539 , 1.0938514 , 1.0712141 , 1.0651704 ,\n        1.0651718 , 1.0321395 , 1.0431119 , 0.70746136, 1.040839  ,\n        0.99324983, 1.0336001 , 1.0231855 , 1.0598857 , 1.0696808 ,\n        1.0668025 , 0.80587727, 0.98647475, 1.0322238 , 1.01369   ,\n        1.0206187 , 1.0173861 , 0.94225013, 1.0480847 , 1.0739412 ,\n        1.0764849 , 0.9992047 , 1.0067074 , 1.0154369 , 1.0873028 ,\n        1.0285304 , 1.074789  , 1.0342561 , 1.0238827 , 0.882461  ,\n        1.0819545 , 1.040576  , 1.0497311 , 1.0435891 , 1.0624181 ,\n        1.0509483 , 1.0605357 , 1.0768539 , 1.0239776 , 1.056187  ,\n        1.0315508 , 1.086453  , 1.0763603 , 1.0368809 , 1.0470096 ,\n        1.0250077 , 1.0516021 , 1.0483747 , 1.0064579 , 1.0753826 ,\n        1.1125158 , 1.071653  , 0.9953549 , 1.0219203 , 1.0591042 ,\n        1.0041705 , 1.0821183 , 1.1248322 , 1.0734636 , 1.010041  ,\n        0.9770236 , 1.0312848 , 1.0728949 , 1.0562782 , 1.0432813 ,\n        1.0251985 , 1.0596136 , 1.0187405 , 1.0512568 , 1.0273149 ,\n        1.0352819 , 1.0324169 , 1.0690186 , 1.0825837 , 1.0641981 ,\n        1.0527328 , 1.0248107 , 1.0390118 , 1.0379833 , 1.025556  ,\n        1.0680467 , 1.0410352 , 1.0618278 , 1.0563624 , 1.0309372 ,\n        1.0021391 , 1.0535898 , 1.0589277 , 1.002602  , 1.0617406 ,\n        1.0479194 , 1.0403005 , 1.0253072 , 1.0589334 , 0.99287856,\n        1.0189806 , 1.0507615 , 1.0579157 , 1.0010557 , 0.9994214 ,\n        0.98758894, 0.5164603 , 1.0623456 , 1.0518124 , 1.0645007 ,\n        1.0297593 , 1.0405859 , 1.0601636 , 1.0280449 , 1.0221452 ,\n        0.9578767 , 1.0431874 , 1.0737451 , 1.0978414 , 0.61920035,\n        1.0808523 , 0.9563792 , 1.0539564 , 1.0767615 , 1.0699217 ,\n        1.0677829 , 1.0250088 , 1.0459493 , 1.0185468 , 1.0238063 ,\n        1.0266842 , 0.9964651 , 1.0749635 , 0.98900825, 1.0316604 ,\n        1.0855343 , 1.0186772 , 1.0645453 , 1.0275679 , 1.0677812 ,\n        1.026537  , 0.91065156, 0.9975699 , 1.0005217 , 1.0797675 ,\n        1.0445982 , 1.0062245 , 1.0833592 , 1.0909654 , 1.034679  ,\n        1.0442106 , 0.9116061 , 1.0282049 , 1.0422766 , 0.9922143 ,\n        1.0555282 , 0.81462747, 1.0227896 , 1.0539595 , 1.0387586 ,\n        0.98387355, 1.0200726 , 1.0147306 , 1.050808  , 1.0044221 ,\n        1.0483794 , 1.0153003 , 1.082426  , 0.9753764 , 1.0305656 ,\n        1.0572207 , 1.0645618 , 1.0032164 , 0.99249876, 1.0574952 ,\n        1.0252696 , 1.0778854 , 1.0124946 , 0.50852406, 1.0567806 ,\n        1.0160456 , 0.9895477 , 1.0509895 , 1.0203707 , 1.0750977 ,\n        1.0735811 , 1.0351897 , 1.0721604 , 0.98139584, 1.0681448 ,\n        1.0176543 , 1.0211976 , 0.9900316 , 1.0444765 , 1.0432638 ,\n        1.0626132 , 1.0432391 , 1.0637757 , 1.0749611 , 1.0410624 ,\n        1.0632143 , 1.038587  , 1.041922  , 0.9814703 , 1.0562774 ,\n        0.97583973, 1.0245707 , 1.054995  , 1.027374  , 1.0533729 ,\n        1.048045  , 1.0533326 , 1.0051962 , 1.0469024 , 1.059402  ,\n        1.0747284 , 1.0084828 , 1.0662344 , 1.0560842 , 1.0672275 ,\n        1.0578344 , 1.0358014 , 0.91699654, 1.0404379 , 1.0388476 ,\n        1.0496552 , 0.9908682 , 1.0149288 , 0.84243673, 1.0264012 ,\n        1.0537934 , 1.01678   , 1.0629039 , 1.0521414 , 1.0261948 ,\n        1.078104  , 1.0622412 , 1.0596339 , 1.045412  , 1.0724105 ,\n        1.0742426 , 0.99001205, 1.0086619 , 0.98744434, 1.0370088 ,\n        0.99522376, 1.0340889 , 0.49431804, 1.0792283 , 1.0053115 ,\n        1.0135249 , 1.019824  , 1.0461706 , 1.1081951 , 1.0665885 ,\n        1.0297582 , 1.0300928 , 1.0250677 , 1.0880146 , 1.0315406 ,\n        0.78775746, 0.8643059 , 1.0290852 , 1.0404437 , 1.0633411 ,\n        1.0805826 , 1.0320083 , 1.0415175 , 1.027688  , 1.0587925 ,\n        1.0206842 , 1.0375757 , 1.0138987 , 1.0240482 , 1.0217063 ,\n        0.998468  , 1.065142  , 0.9857085 , 1.0123228 , 1.0678157 ,\n        1.018366  , 1.0785158 , 0.89346564, 1.0254828 , 1.0652221 ,\n        1.1087505 , 1.0413476 , 1.0673503 , 1.0589832 , 1.0387758 ,\n        1.0376967 , 1.0491283 , 1.0387484 , 1.0211973 , 1.0106432 ,\n        1.0487235 , 1.042783  , 1.0482905 , 1.0478351 , 1.0537546 ,\n        1.033255  , 1.0595286 , 1.0015599 , 1.0463052 , 1.0410928 ,\n        1.020111  , 1.0433353 , 1.0395163 , 1.097745  , 1.0747501 ,\n        1.0653309 , 1.0418315 , 1.0302149 , 0.6916843 , 1.0897474 ,\n        1.0112513 , 1.027521  , 1.0473069 , 1.0277326 , 0.8118011 ,\n        1.0203373 , 1.0101662 , 1.0118974 , 1.047038  , 1.0676925 ,\n        1.0721382 , 1.0431969 , 1.0376521 , 1.0692601 , 1.062689  ,\n        1.0256411 , 1.0570132 , 1.0892097 , 1.0555553 , 1.0663157 ,\n        0.7203258 , 1.0531218 , 1.0314595 , 1.0098581 , 1.049922  ,\n        1.0221742 , 1.1007594 , 1.0803034 , 1.0157375 , 1.0536884 ,\n        1.0424296 , 1.0222163 , 1.0460583 , 1.0681714 , 1.0323583 ,\n        1.0631794 , 1.0780464 , 1.0412257 , 1.037298  , 1.0247383 ,\n        1.0094033 , 1.0357229 , 1.1014678 , 1.0457845 , 1.0083965 ,\n        0.99899244, 1.0850755 , 1.0582174 , 1.0175916 , 1.0196061 ,\n        1.0844371 , 1.0673221 , 1.0781246 , 1.0426356 , 1.0289232 ,\n        1.0678871 , 0.7181641 , 1.051507  , 1.0430045 , 1.0173464 ,\n        1.067445  , 1.0259234 , 1.0544667 , 1.0231886 , 1.0671325 ,\n        1.0501059 , 1.0380477 , 1.068128  , 1.0506972 , 1.0779995 ,\n        1.0286089 , 1.0737213 , 1.0678115 , 1.0291513 , 0.98428917,\n        1.0740085 , 1.0550839 , 1.0475552 , 1.0155737 , 1.0478541 ,\n        1.0077841 , 1.0223298 , 1.0295669 , 1.055492  , 1.0569742 ,\n        1.0981461 , 1.0577964 , 1.080243  , 1.0252904 , 1.0440898 ,\n        1.0509766 , 0.79382676, 1.0491784 , 0.99543715, 0.9097053 ,\n        1.0841676 , 1.046173  , 1.0258034 , 1.071065  , 1.0272847 ,\n        1.0390097 , 1.0793525 , 0.9888702 , 1.0690095 , 0.9976985 ,\n        0.97905874, 1.0627344 , 1.0577664 , 1.0281965 , 1.0057636 ,\n        1.0696565 , 0.95722187, 1.0462264 , 1.0519507 , 0.5544049 ,\n        1.0497872 , 0.817349  , 1.0360924 , 1.0180327 , 1.0638316 ,\n        1.0578332 , 1.048321  , 1.0350307 , 0.9747233 , 0.7340244 ,\n        1.0436652 , 1.0789361 , 1.0651723 , 1.0552964 , 1.0489991 ,\n        1.0011758 , 1.0661405 , 1.0183159 , 0.8875078 , 1.0318625 ,\n        0.9989238 , 1.0532638 , 1.0180168 , 1.0251426 , 0.7072906 ,\n        0.98467976, 1.0351235 , 1.0289406 , 1.0211082 , 0.93159294,\n        1.0600141 , 1.0788043 , 1.0229976 , 1.0684012 , 1.0063474 ,\n        1.0467207 , 1.097031  , 1.012028  , 1.09914   , 1.0635098 ,\n        1.0571684 , 1.0432858 , 1.0434656 , 1.0277301 , 1.0897018 ,\n        0.95525694, 1.0802308 , 0.999128  , 1.0523912 , 1.0216957 ,\n        1.0697584 , 1.0372878 , 0.9455914 , 1.0540656 , 1.0639784 ,\n        0.99278694, 1.075231  , 1.0713729 , 0.9922956 , 1.0796036 ,\n        1.0762602 , 0.9846999 , 0.9838717 , 1.0573107 , 1.0584297 ,\n        1.0671713 , 1.0877175 ], dtype=float32),\n '/BERT_encoder/transformer/layer_0/self_attention/attention_output/bias:0': array([-1.06752394e-02, -3.35298069e-02,  4.46283072e-02,  5.96713834e-02,\n        -3.36240157e-02, -9.49468762e-02,  1.29772974e-02,  1.81099065e-02,\n         2.89256033e-02, -4.21305634e-02,  1.06916744e-02, -7.17216209e-02,\n        -1.24074101e-01, -1.18568148e-02,  1.16891570e-01, -1.86681561e-03,\n         4.92267087e-02, -1.92779265e-02,  1.11607201e-02,  1.68213213e-03,\n        -1.16531387e-01, -7.47279264e-03,  1.12635009e-02, -5.15524447e-02,\n         5.51789515e-02,  5.96086159e-02, -2.58340538e-02,  4.38209251e-02,\n         5.46557307e-02,  2.04051454e-02,  1.18122116e-01, -3.68452877e-01,\n         4.18414213e-02,  2.38115489e-02, -2.93664262e-02,  8.28103274e-02,\n        -1.25993386e-01, -2.72055846e-02, -7.43451342e-02,  1.28414288e-01,\n         1.39437998e-02, -1.57509372e-02,  1.76875778e-02,  1.20940074e-01,\n         2.82702539e-02, -5.50697297e-02, -4.82757315e-02, -1.43900707e-01,\n        -2.32604449e-03, -5.93664274e-02,  1.05288148e-01,  1.85122211e-02,\n         2.01375671e-02,  7.78631195e-02,  3.50163206e-02,  3.66819128e-02,\n         1.03242733e-02,  1.94963310e-02, -1.02501832e-01, -2.57166084e-02,\n         8.53482708e-02,  4.13346626e-02,  9.38915312e-02,  1.34228095e-02,\n        -3.41071039e-02, -3.34999189e-02, -3.76376673e-04, -1.18638743e-02,\n         1.40806856e-02, -2.00255919e-04,  3.84499952e-02, -8.25900957e-02,\n         5.30557185e-02, -1.21025287e-01, -2.58407518e-02,  1.36542367e-03,\n        -2.76727439e-03,  6.38260692e-02,  7.24721551e-02,  7.31244013e-02,\n         8.29839557e-02, -3.12823826e-03,  3.16918246e-04, -6.77019656e-02,\n         3.24664079e-02,  6.63380250e-02, -3.03305704e-02, -2.92213336e-02,\n         1.41000422e-02, -2.81499438e-02,  4.98114787e-02,  2.94992514e-03,\n         7.88310021e-02,  1.00605527e-03, -1.07472821e-03,  7.99278021e-02,\n        -5.86614572e-03, -1.14899255e-01, -4.86129001e-02,  7.01444224e-02,\n         4.30339575e-02, -4.67337742e-02,  3.39480415e-02, -2.10217154e-03,\n        -2.30613863e-03,  8.57144222e-02,  2.84362063e-02,  7.82066435e-02,\n        -4.69245799e-02,  8.42826068e-02, -2.50053052e-02,  7.02850670e-02,\n        -8.59803613e-03, -2.81281006e-02,  8.79920367e-03, -1.02721369e-02,\n        -5.15828058e-02, -7.06794411e-02, -8.66734684e-02, -1.00125849e-01,\n        -1.60212800e-01, -2.00623944e-01, -2.54099406e-02,  7.76176751e-02,\n        -1.34064285e-02, -2.45821029e-02, -1.35769084e-01, -3.17197591e-02,\n         1.78866107e-02, -3.11154593e-02,  4.81634624e-02, -6.99230433e-02,\n        -2.59937365e-02,  3.82524766e-02,  7.13861128e-03,  1.15751751e-01,\n        -1.49703622e-01,  5.20604588e-02,  1.09944224e-01,  7.65586048e-02,\n        -5.53456275e-03, -1.64981440e-01,  5.48895933e-02, -8.02789629e-02,\n         1.22546637e-02,  2.00112909e-02,  1.76554837e-03, -6.95717409e-02,\n        -2.96388548e-02, -4.78831492e-02,  2.15435997e-02, -2.58893706e-02,\n         1.04677901e-01, -4.01756465e-02,  5.11771888e-02, -5.49670383e-02,\n         1.12136990e-01, -1.43669680e-01, -1.25133410e-01,  9.33249295e-02,\n        -8.39268044e-02, -7.79445376e-03, -3.69594544e-02,  1.19594209e-01,\n         2.92679090e-02,  7.62495399e-02, -1.17643707e-01, -6.59742951e-02,\n         4.94552217e-02,  4.58989702e-02,  1.25941327e-02, -4.81914766e-02,\n        -8.31277147e-02,  5.89439236e-02,  4.86219823e-02, -1.21833533e-01,\n         4.36308468e-03,  1.66998766e-02,  2.85557006e-02, -1.38760522e-01,\n         2.63160337e-02,  5.35372458e-02, -6.08598590e-02,  1.53991617e-02,\n         1.68611124e-01,  1.04983762e-01,  4.70892945e-03, -1.04946662e-02,\n         9.20028090e-02,  2.70049553e-02, -8.18713754e-02, -2.28359941e-02,\n         7.00225532e-02, -4.02810425e-01, -3.17481086e-02,  6.06485419e-02,\n         3.28320339e-02,  1.80926416e-02,  2.22245716e-02,  1.14664733e-01,\n         6.13592677e-02, -3.68484370e-02,  9.19908956e-02, -1.10569634e-01,\n        -9.11828130e-02,  1.67095251e-02,  1.02251943e-03, -9.05119181e-02,\n        -6.64433613e-02, -2.00845730e-02,  1.30583376e-01,  1.09255023e-01,\n         1.09806560e-01, -3.30734514e-02,  8.40998441e-02,  5.34627959e-02,\n         7.69161433e-02,  8.12871680e-02,  2.55810786e-02, -7.30284899e-02,\n         2.13236794e-01, -2.37570107e-02, -1.37190178e-01, -9.16754007e-02,\n        -2.91700568e-02, -1.62638739e-01, -2.52206214e-02,  1.34000540e-01,\n         1.27478484e-02,  7.16234744e-02, -3.59701961e-02, -7.17963651e-02,\n        -5.64776361e-02, -1.81930754e-02,  3.92956063e-02,  8.11481755e-03,\n         8.95501524e-02, -3.02315243e-02, -8.60850811e-02, -8.98763090e-02,\n        -3.20877065e-03,  7.37204030e-02, -1.93884820e-02,  7.12681860e-02,\n        -7.90844411e-02,  5.32432012e-02,  6.08154014e-02,  4.39120717e-02,\n        -7.96022043e-02, -5.34558967e-02,  1.45704255e-01, -2.87139267e-02,\n        -9.82261822e-03,  2.05045659e-03, -4.60920334e-02,  3.60261044e-03,\n         1.49473846e-01, -6.91781864e-02, -7.51630142e-02,  2.97454391e-02,\n         7.02418014e-02, -6.88730255e-02, -3.82540137e-01,  3.97771820e-02,\n         2.33372021e-02, -1.56199500e-01,  1.22378804e-02,  4.02323790e-02,\n         4.90039289e-02, -1.38697177e-02, -4.79463078e-02, -1.06246710e-01,\n         6.70302585e-02,  6.09199665e-02,  4.00784239e-03, -1.36995226e-01,\n         8.97321329e-02,  6.06288686e-02, -9.90500227e-02, -3.56029673e-03,\n        -9.15012732e-02,  2.22429708e-02, -3.86468397e-04,  9.60187018e-02,\n        -3.34353335e-02, -5.27572073e-02, -2.63985549e-03,  8.78404602e-02,\n        -2.45620497e-02, -6.70710858e-03, -3.74383740e-02, -4.86950949e-02,\n        -6.17131144e-02, -3.92826200e-02, -2.60082632e-02, -2.94447504e-02,\n         7.35803619e-02,  6.46462962e-02,  7.04008446e-04,  4.92961481e-02,\n        -2.08770800e-02, -1.01684872e-02, -2.82834098e-02,  6.74260408e-02,\n         4.01612557e-02,  4.66763042e-02,  3.92406620e-02,  8.63252282e-02,\n        -2.80542113e-02, -4.33931686e-03, -9.04272199e-02,  2.03188639e-02,\n         1.08182188e-02, -1.37656764e-03, -3.20949778e-02, -1.42078355e-01,\n         2.23416276e-02, -5.24752736e-02, -3.71630788e-02, -8.15053880e-02,\n        -4.89263944e-02,  1.13155115e-02,  7.74284378e-02,  3.54420510e-03,\n        -2.11669262e-02,  2.85481173e-03,  1.29601836e-01,  2.42849495e-02,\n         8.00244883e-02,  1.08415283e-01,  1.02960570e-02, -4.92062606e-02,\n        -1.65953431e-02,  2.10188217e-02,  1.10183880e-01,  3.57281677e-02,\n         1.08130172e-01, -7.57155102e-03, -5.97828766e-03,  2.68760622e-02,\n         8.18926096e-02,  1.54649928e-01,  1.13572620e-01, -3.82315256e-02,\n        -5.93722649e-02, -2.89964359e-02,  8.01433176e-02,  6.86353967e-02,\n        -1.10731557e-01, -6.65299073e-02, -1.86826304e-01, -4.45863418e-02,\n         7.95338005e-02, -8.51904415e-03,  5.89831844e-02,  8.60895775e-03,\n        -7.40720928e-02, -6.04049191e-02, -9.36708972e-02,  1.52394757e-01,\n         7.93101192e-02, -7.09292665e-02,  5.57999723e-02, -1.12697668e-01,\n        -7.51844347e-02, -7.54637346e-02, -2.83409767e-02, -5.71885817e-02,\n         6.12938888e-02, -2.38028783e-02,  3.35583501e-02, -2.37485189e-02,\n         6.37348071e-02,  7.83402622e-02, -3.56456041e-02, -7.87551329e-02,\n        -2.53700241e-02,  1.29876733e-01,  8.21291059e-02, -8.45203996e-02,\n        -4.89229821e-02, -5.42675070e-02, -1.25238691e-02, -1.28052369e-01,\n        -3.45032737e-02, -2.47043725e-02, -1.10304490e-01, -6.36406913e-02,\n         6.19059056e-02, -1.54429018e-01,  6.17678836e-02,  7.54558109e-03,\n         2.55228765e-02,  8.48090500e-02,  5.27400151e-02,  1.07705612e-02,\n        -1.15758097e-02,  2.47633252e-02, -1.14252139e-03, -1.91883668e-02,\n         2.56279774e-04, -2.40093097e-02, -1.04111016e-01, -2.46934686e-03,\n         2.58313622e-02, -1.62679004e-03, -7.84463733e-02, -5.32216355e-02,\n        -5.32391667e-02,  2.52001826e-02, -1.25525668e-01, -1.19352944e-01,\n         5.16596530e-03, -4.16224152e-02, -9.61668640e-02,  2.42939573e-02,\n         2.83084475e-02, -2.38373168e-02,  1.52896391e-02, -6.61224946e-02,\n         8.02156031e-02, -2.29705777e-02, -1.44898713e-01,  1.13666646e-01,\n        -2.03330085e-01, -9.75507647e-02, -3.53784338e-02, -6.25209212e-02,\n         6.07748069e-02,  1.33833755e-02,  6.09835871e-02, -8.22902471e-02,\n         1.48137271e-01, -3.52359377e-02, -4.27499190e-02,  1.64761338e-02,\n        -6.47384077e-02,  4.61683720e-02, -3.20974435e-03, -1.41325861e-01,\n        -5.22451252e-02, -6.72180280e-02, -1.81094632e-02, -4.95935790e-03,\n        -1.56563446e-02, -4.99220751e-02,  5.73456800e-03,  1.59159526e-02,\n         6.64635003e-02, -4.38423976e-02, -3.97302136e-02,  2.66927183e-02,\n         1.23064876e-01,  1.04365893e-01,  7.64890527e-03, -7.55417394e-03,\n         9.75187346e-02, -8.79176632e-02, -4.74467427e-02,  4.13380079e-02,\n        -1.37186749e-02,  5.87386452e-02, -1.03850387e-01, -1.51665151e-01,\n        -3.99733149e-02, -1.71502084e-02,  3.92058268e-02,  8.14373791e-02,\n         3.99867631e-02,  1.17329858e-01, -8.66365731e-02,  1.99959427e-02,\n        -4.29253094e-02, -4.91950475e-02,  6.68602288e-02,  1.50358304e-01,\n        -1.04356311e-01,  5.15408292e-02,  1.48478784e-02, -1.19951382e-01,\n         6.54748604e-02, -3.33485380e-02, -3.00543066e-02,  6.81932271e-02,\n         1.02901123e-01, -9.34734717e-02,  1.82751622e-02,  6.70324787e-02,\n        -1.22523094e-02,  5.90111576e-02, -6.62020668e-02, -4.48155142e-02,\n         9.11435410e-02,  6.61028028e-02, -6.55242577e-02,  9.16972607e-02,\n        -1.21819424e-02, -9.69750211e-02, -4.30941284e-02, -2.84583699e-02,\n         6.45028241e-03,  7.93850049e-02,  1.39340028e-01,  1.62627771e-01,\n        -1.06475418e-02,  8.00362527e-02,  4.82320487e-02, -1.30511001e-02,\n         1.37460321e-01,  1.48801040e-02, -8.19802880e-02,  4.81303856e-02],\n       dtype=float32),\n '/BERT_encoder/transformer/layer_0/self_attention/attention_output/kernel:0': array([[[ 0.03499009, -0.0717199 , -0.0151255 , ...,  0.0169143 ,\n          -0.04561612, -0.03612996],\n         [-0.0160896 ,  0.04768206,  0.00381101, ...,  0.05823808,\n          -0.01360821,  0.02790525],\n         [-0.05421578,  0.01721169,  0.06911976, ...,  0.05503719,\n           0.0291555 , -0.03005268],\n         ...,\n         [ 0.00597942, -0.02453036, -0.01501065, ..., -0.03123535,\n          -0.01094758, -0.07505887],\n         [ 0.00813599, -0.02286644, -0.03798368, ...,  0.0396878 ,\n          -0.03603515, -0.03899548],\n         [-0.10762218, -0.02053973,  0.05219028, ...,  0.03191666,\n          -0.016926  , -0.04750159]],\n \n        [[-0.07076192, -0.01309365,  0.03169721, ..., -0.00364104,\n           0.01088783, -0.04992269],\n         [ 0.00132828, -0.00336989, -0.01638162, ..., -0.01389729,\n          -0.02090998, -0.02430164],\n         [ 0.03618382, -0.02532719,  0.0225899 , ...,  0.02641816,\n           0.02586106,  0.04727118],\n         ...,\n         [-0.0446598 , -0.06626086,  0.02297549, ...,  0.03925142,\n           0.08833946, -0.05289636],\n         [ 0.02930244, -0.00506286, -0.03671855, ..., -0.0698555 ,\n           0.04049706,  0.0180163 ],\n         [-0.01182876, -0.00764607, -0.02693597, ...,  0.03778962,\n          -0.02548771,  0.00069705]],\n \n        [[-0.05492805, -0.00597778,  0.01026508, ..., -0.0044315 ,\n          -0.01365788, -0.0174887 ],\n         [ 0.01166534,  0.02254827, -0.00751702, ...,  0.01122369,\n           0.01916135,  0.05768543],\n         [ 0.05088262,  0.0078539 ,  0.00798064, ...,  0.03422758,\n          -0.00571296, -0.00822296],\n         ...,\n         [-0.01451093, -0.03002634, -0.01391284, ..., -0.03686989,\n          -0.02006753, -0.02047424],\n         [ 0.03796528, -0.02160655,  0.02561728, ...,  0.01067931,\n           0.00201965, -0.05933329],\n         [-0.01481548,  0.05067453,  0.04972061, ..., -0.04534374,\n           0.00866928, -0.02528145]],\n \n        ...,\n \n        [[ 0.00532614,  0.00842909, -0.03587657, ..., -0.04494021,\n           0.05466229,  0.04324704],\n         [-0.05391139,  0.02370798, -0.0217065 , ..., -0.0074957 ,\n           0.02594152,  0.00073041],\n         [-0.04418787,  0.03228637,  0.03226181, ...,  0.00497879,\n          -0.01955191, -0.0420535 ],\n         ...,\n         [-0.01199902, -0.05530195,  0.0322459 , ..., -0.05924501,\n          -0.02175115, -0.10039877],\n         [-0.02268466,  0.01863392,  0.05136539, ...,  0.0976581 ,\n          -0.02920842, -0.05497321],\n         [ 0.03460603, -0.02306425, -0.01499558, ..., -0.00284384,\n          -0.00843836, -0.00151752]],\n \n        [[-0.02577913,  0.02602598,  0.01247063, ...,  0.03650769,\n           0.01437495,  0.01084596],\n         [ 0.01890115,  0.07143835, -0.06828021, ...,  0.00571059,\n          -0.05021513,  0.00473336],\n         [-0.00772626, -0.04542168,  0.04546899, ..., -0.00448296,\n          -0.01419472, -0.03045622],\n         ...,\n         [-0.01610452,  0.02125692,  0.01868413, ..., -0.0182224 ,\n          -0.01184565, -0.04431491],\n         [ 0.01660146,  0.00287694, -0.01089424, ..., -0.01041413,\n           0.02034948, -0.01059953],\n         [ 0.00362261, -0.05155355, -0.03089781, ...,  0.01454535,\n           0.00588366, -0.00452831]],\n \n        [[-0.00065516, -0.01562743, -0.03179209, ...,  0.07843345,\n           0.06039968, -0.03367867],\n         [-0.04536818,  0.02537981,  0.02149102, ...,  0.00619336,\n          -0.03841024,  0.07325059],\n         [-0.0512263 ,  0.02953383, -0.08231136, ..., -0.03335691,\n          -0.04936126, -0.06712304],\n         ...,\n         [-0.07909782,  0.08640125, -0.00569053, ...,  0.00159341,\n          -0.0152862 ,  0.02735592],\n         [-0.00970906,  0.01624937,  0.02691841, ...,  0.00170035,\n           0.00884897, -0.0051904 ],\n         [-0.015021  ,  0.07197831,  0.02282063, ..., -0.04361401,\n           0.04668143,  0.03074995]]], dtype=float32),\n '/BERT_encoder/transformer/layer_0/self_attention/key/bias:0': array([[ 2.59544682e-02, -1.55049115e-02, -3.18026468e-02,\n          1.43013988e-02,  8.99597816e-03,  4.01958115e-02,\n          1.02424091e-02, -2.15815585e-02, -2.87745055e-02,\n          3.16510885e-03, -1.07118823e-02,  1.35696046e-02,\n          1.71863064e-02, -4.67186887e-03,  5.74472500e-03,\n          2.29936577e-02,  1.30161671e-02,  2.91768685e-02,\n          5.37434127e-03,  1.79281761e-03, -1.21177277e-02,\n          7.58076040e-03,  2.17383616e-02,  1.77930519e-02,\n         -1.40297720e-02,  2.56999787e-02,  1.46379811e-03,\n          1.04159396e-03, -3.65047418e-02,  3.97613831e-03,\n         -6.22574463e-02, -3.00333612e-02,  4.88223974e-03,\n         -1.56845171e-02, -1.67175252e-02, -3.12170479e-02,\n          2.68854555e-02,  6.22775219e-03, -1.70480106e-02,\n         -3.87052521e-02,  1.57011455e-05, -1.85767468e-02,\n          1.37176635e-02, -1.06454343e-02, -1.30643528e-02,\n          4.01834510e-02, -5.32117710e-02, -4.52182926e-02,\n         -6.17772993e-03,  4.40892903e-03, -6.09194897e-02,\n         -4.61118668e-02, -2.37334659e-03,  8.37115292e-03,\n          1.96496416e-02, -3.76947559e-02, -6.43491326e-03,\n         -1.07941804e-02, -5.76838711e-03, -4.58155992e-03,\n         -2.34607439e-02, -4.18706704e-03,  1.18918542e-03,\n          1.72423907e-02],\n        [-4.59057838e-03,  1.01622008e-02,  6.89801723e-02,\n          2.95198690e-02,  8.63499194e-03,  4.08118702e-02,\n          1.27995536e-02,  4.43050498e-03,  1.76572017e-02,\n         -3.86307985e-02, -4.94080642e-03, -9.31070931e-03,\n          2.54611229e-03,  3.66936401e-02, -3.23754898e-03,\n         -5.07274978e-02,  3.26593481e-02, -4.51646931e-02,\n          8.60024989e-03,  1.40119297e-02, -2.56660227e-02,\n          3.49890813e-02,  4.37840745e-02, -4.29289788e-02,\n         -1.67064257e-02,  1.10489652e-02,  9.91679635e-03,\n          3.13869677e-02,  2.09840992e-03, -5.67415170e-03,\n          2.31502857e-03, -2.80909911e-02, -3.31563726e-02,\n         -4.65215975e-03, -5.40985502e-02, -1.34718427e-02,\n          2.35620514e-02, -5.33410981e-02,  2.13645715e-02,\n         -4.13215831e-02, -1.65951159e-02, -1.03552090e-02,\n         -5.22000045e-02, -2.07610731e-03, -3.94687057e-02,\n          1.56937838e-02,  2.66877096e-02, -1.67180765e-02,\n         -3.35938148e-02,  4.66674566e-02,  4.46246825e-02,\n         -4.87029850e-02, -7.39038689e-04,  1.11547653e-02,\n          4.16140817e-02, -2.34416649e-02, -2.63675377e-02,\n         -6.31895475e-03,  1.07970713e-02,  4.14009113e-03,\n         -7.53384531e-02,  2.51613315e-02,  4.37346147e-03,\n          1.86861865e-02],\n        [ 7.02544376e-02,  1.01327384e-02, -2.78222393e-02,\n          7.03916932e-03, -8.80802691e-04, -1.10833468e-02,\n          3.05904634e-02, -3.66332866e-02, -2.92330794e-02,\n         -5.25441114e-03, -1.75002571e-02, -1.70961383e-03,\n          1.04546072e-02, -3.54696885e-02, -6.07216638e-03,\n          2.03902298e-03, -9.18797776e-03, -1.88196134e-02,\n         -7.78101385e-03, -6.06085733e-03, -2.63448767e-02,\n          1.14395786e-02,  8.48641340e-03,  1.73314381e-02,\n         -2.93457992e-02,  1.47788785e-02, -1.12317922e-02,\n          1.28426850e-02,  1.40407216e-02, -2.77848486e-02,\n         -2.71324478e-02,  7.62756588e-03, -8.27732868e-03,\n          1.83832627e-02,  1.76835936e-02,  2.43207142e-02,\n          2.20227018e-02, -2.79087061e-03, -3.59273963e-02,\n          1.51036875e-02, -1.84159987e-02,  1.14191752e-02,\n         -4.14760746e-02,  3.29163653e-04, -7.07736146e-03,\n         -5.39982580e-02,  3.08876615e-02,  5.61566791e-03,\n         -2.96661463e-02,  2.34135147e-02,  1.25576481e-02,\n          6.73241680e-03,  1.49671538e-02, -5.71868941e-02,\n          3.10812499e-02, -1.00150313e-02, -1.90988742e-02,\n         -1.42258219e-02,  1.40731679e-02, -4.29785438e-02,\n         -6.38461187e-02,  3.12488191e-02,  9.59635712e-03,\n          2.05729473e-02],\n        [-4.96838018e-02,  1.76070035e-02,  6.70544207e-02,\n         -2.66720746e-02, -6.90953955e-02, -1.89586859e-02,\n         -4.97544296e-02, -3.16053187e-03, -6.79189712e-03,\n         -2.31734812e-02,  1.20649943e-02,  2.35692896e-02,\n         -4.28382903e-02,  4.69522476e-02,  2.16379985e-02,\n          2.01575011e-02, -7.94540532e-03,  2.76289526e-02,\n         -5.13089413e-04, -2.72014234e-02,  1.42582161e-02,\n          4.67356481e-03, -3.57804298e-02, -3.55137722e-03,\n          8.86884145e-03, -3.58611122e-02, -3.10886614e-02,\n         -3.24680060e-02, -2.51132511e-02, -2.91767269e-02,\n          1.02352146e-02,  2.47955192e-02, -6.55274242e-02,\n         -8.79811868e-02, -1.63961891e-02,  6.50836676e-02,\n         -4.70175445e-02,  2.97943670e-02,  3.56266573e-02,\n          5.60375862e-03, -1.58079329e-03,  1.12134563e-02,\n          3.28267529e-03, -4.14955840e-02, -6.01270795e-02,\n         -1.83602553e-02,  5.77162839e-02,  4.26148623e-02,\n         -1.68082993e-02,  4.18262668e-02, -7.04696495e-03,\n          5.84463263e-03, -2.04177145e-02,  3.46126854e-02,\n         -2.49002744e-02,  9.68896039e-03, -3.54771763e-02,\n          5.31306257e-03,  6.45052865e-02, -1.31720686e-02,\n         -1.92757871e-03, -1.20392656e-02, -2.13327119e-03,\n          1.81228723e-02],\n        [ 6.78956956e-02, -1.34930415e-02,  4.28522937e-03,\n          2.75032539e-02,  5.22032864e-02, -4.98789959e-02,\n          5.44004962e-02,  5.07629216e-02, -4.01130877e-02,\n         -2.11338364e-02, -3.51786204e-02,  1.38237560e-02,\n         -2.59435643e-02,  5.21119982e-02, -1.63910426e-02,\n         -1.83198624e-03, -8.72910209e-03,  1.22415377e-02,\n          2.21283571e-03,  1.30130155e-02,  8.83226469e-03,\n          3.56954411e-02,  8.04708898e-03, -2.08554114e-03,\n          2.01662742e-02,  7.57015217e-03, -1.90585367e-02,\n          2.61320174e-02, -3.57662179e-02,  1.67869013e-02,\n         -2.08181385e-02,  1.64958518e-02,  2.48542428e-02,\n         -2.52982639e-02,  7.96760526e-03, -4.17738557e-02,\n          7.63654290e-03, -2.40964666e-02, -2.16902886e-03,\n          1.29477065e-02, -1.20962877e-02, -2.26288754e-02,\n         -2.87047271e-02, -3.88546810e-02,  5.69518767e-02,\n         -3.21566779e-03,  4.27608080e-02, -1.79967638e-02,\n          8.95051006e-03,  2.96240556e-03,  3.79539616e-02,\n         -3.52926701e-02,  7.07913004e-03,  1.93694141e-02,\n          8.35987553e-02, -1.41783496e-02,  3.89083587e-02,\n          8.13541375e-03,  2.79308744e-02, -6.18290454e-02,\n          6.92208763e-03,  6.27057673e-03,  4.84876595e-02,\n         -4.02919129e-02],\n        [-1.03244642e-02,  8.18721298e-03, -1.07147805e-02,\n         -3.04827299e-02, -2.30798963e-02,  1.09370928e-02,\n          4.39679017e-03, -1.75288767e-02,  1.25229387e-02,\n         -4.04249392e-02,  4.91777947e-03,  2.95991951e-04,\n         -1.64163020e-02,  6.39223680e-03,  3.92158516e-03,\n         -9.39551555e-03, -1.26974285e-03,  1.38483113e-02,\n          5.55478269e-03, -2.31690351e-02,  4.44382131e-02,\n         -3.71707566e-02, -1.08535932e-02, -3.75208305e-03,\n          2.47104131e-02, -1.29978107e-02, -8.56589933e-04,\n         -1.98937883e-03,  1.72508918e-02, -1.31336172e-04,\n          2.28857563e-04,  1.60527509e-02, -2.40076426e-02,\n          3.46529186e-02,  2.41971053e-02,  3.44884507e-02,\n          4.31983219e-03, -2.34379270e-03,  2.60408930e-02,\n          5.08556201e-04,  6.99284766e-03, -1.59354392e-03,\n         -3.41693871e-03,  4.94328793e-03,  4.19086404e-03,\n          1.75880324e-02,  4.16912884e-03,  3.69207896e-02,\n          4.97435546e-03,  7.26686339e-05, -1.75395876e-03,\n          7.17079407e-03,  1.59867033e-02,  1.17595270e-02,\n          6.69217494e-04,  8.68077576e-03,  2.09046323e-02,\n          2.94743944e-03, -9.11368057e-03,  4.29321826e-03,\n          1.89367216e-02,  6.49478612e-03,  1.23364516e-02,\n         -1.15426201e-02],\n        [-2.33132336e-02,  4.75642048e-02, -4.87591513e-02,\n         -2.80077709e-03,  4.12666239e-03,  2.27620534e-04,\n          4.14083153e-02,  4.31701541e-02,  1.75934602e-02,\n          2.28195935e-02,  3.18334103e-02, -2.70699505e-02,\n          1.45753557e-02, -3.19185928e-02,  2.57262625e-02,\n          4.60778996e-02,  4.40516183e-03,  7.90338777e-03,\n         -6.85600145e-03, -2.73591112e-02,  7.12124771e-03,\n         -2.04683281e-02,  6.70304662e-03, -1.07401293e-02,\n         -2.46470124e-02, -2.97690295e-02,  4.70235711e-04,\n         -2.14430178e-03, -1.01854503e-02,  5.31818159e-03,\n         -3.29202320e-03, -7.35208066e-03,  1.46082730e-03,\n          1.56366508e-02,  2.75840070e-02, -3.74051780e-02,\n         -4.02784869e-02, -1.02055538e-02, -2.69678514e-02,\n         -1.06046889e-02, -1.79588627e-02, -4.16620001e-02,\n          9.67157912e-03,  2.94591207e-03,  1.85651015e-02,\n         -5.41001223e-02,  2.80583911e-02, -7.13196304e-03,\n         -1.42322574e-03,  6.27795001e-03,  2.27099601e-02,\n          3.50831426e-03,  3.54676284e-02,  1.11798178e-02,\n          1.31083596e-02,  1.33211538e-02, -2.79216748e-03,\n         -2.28806902e-02, -4.18057851e-03, -1.34354001e-02,\n         -2.53388528e-02,  6.23541549e-02, -1.88409109e-02,\n         -6.17811410e-03],\n        [-1.10354722e-02, -2.53295023e-02, -9.05239780e-04,\n          3.38095166e-02,  2.67317556e-02, -2.47931797e-02,\n          4.59938794e-02,  4.62837191e-03, -3.41820624e-03,\n         -1.48138329e-02, -2.06917543e-02, -1.92754064e-02,\n         -2.17881408e-02, -2.90491953e-02,  1.47468718e-02,\n          1.77276339e-02, -2.28612088e-02,  1.73105504e-02,\n          4.57050540e-02,  4.70790837e-04, -7.46923639e-03,\n          2.07647309e-02,  2.42625922e-02,  2.55848169e-02,\n          3.92262191e-02,  3.05177774e-02, -2.19416572e-03,\n          5.74949896e-03, -1.85591150e-02,  4.01399322e-02,\n          6.52378891e-03,  2.16920059e-02, -9.93862096e-03,\n         -1.84339215e-03,  3.22839990e-02, -2.43981071e-02,\n         -3.41183618e-02, -8.87807272e-03, -5.33117168e-02,\n          1.09126586e-02,  3.24354693e-02,  1.74282156e-02,\n          2.79092453e-02, -1.74882282e-02, -1.97645240e-02,\n          4.09297133e-03,  1.49106635e-02,  1.32936295e-02,\n          4.67495713e-03,  1.95413623e-02, -7.11801788e-03,\n          5.17509971e-03,  3.77715356e-03, -3.59649360e-02,\n         -3.71306972e-03,  1.49119943e-02,  2.06125882e-02,\n         -1.12461252e-02, -2.58088000e-02, -1.61476042e-02,\n         -2.94682663e-03, -2.87545491e-02, -9.30622499e-03,\n         -2.78573344e-03]], dtype=float32),\n '/BERT_encoder/transformer/layer_0/self_attention/key/kernel:0': array([[[-3.82159017e-02, -2.19926927e-02,  3.29706594e-02, ...,\n          -4.98830602e-02, -7.80610964e-02,  7.01116025e-02],\n         [ 2.83613652e-02, -1.28641201e-03,  3.66922989e-02, ...,\n           5.52900396e-02, -7.51821101e-02,  5.96280321e-02],\n         [ 2.54248045e-02,  1.63930450e-02, -6.51926622e-02, ...,\n           4.74483706e-04, -6.21209815e-02,  6.23160228e-03],\n         ...,\n         [ 5.44424579e-02,  6.62906542e-02, -6.79217884e-03, ...,\n           1.11374650e-02, -7.90441036e-02, -1.43396109e-02],\n         [ 4.22975980e-02,  1.37772962e-01,  1.65194832e-02, ...,\n           3.29540297e-02, -7.02983439e-02, -5.20562753e-02],\n         [-3.87861282e-02, -4.38754298e-02,  2.81360578e-02, ...,\n          -3.50231193e-02,  7.37977102e-02, -7.51051530e-02]],\n \n        [[-6.80473745e-02,  5.37077226e-02, -2.18828227e-02, ...,\n           3.66190448e-02, -1.33936349e-02, -6.88035339e-02],\n         [-1.21536443e-03,  1.45880980e-02,  1.96895283e-02, ...,\n           4.26700637e-02,  6.93469718e-02, -3.59183438e-02],\n         [ 1.78807434e-02,  2.79612951e-02,  4.68732715e-02, ...,\n           1.88589711e-02,  1.17790615e-02, -1.76135227e-02],\n         ...,\n         [-7.11682215e-02, -4.11120802e-02,  6.29272545e-03, ...,\n          -2.61961408e-02, -4.79014590e-02,  2.47837533e-03],\n         [ 2.86915470e-02, -6.34947866e-02, -4.40415666e-02, ...,\n           9.83419791e-02, -3.33052166e-02,  1.32400999e-02],\n         [-6.77843317e-02, -2.15993561e-02,  4.68044803e-02, ...,\n          -5.42386547e-02,  5.38492464e-02,  5.70702739e-02]],\n \n        [[-6.76761419e-02, -1.71771646e-02,  2.12546587e-02, ...,\n          -3.24346535e-02,  4.13773619e-02,  2.41245609e-02],\n         [-1.64496563e-02, -2.06866004e-02,  1.10342456e-02, ...,\n          -4.40818705e-02, -5.75693808e-02,  1.32216690e-02],\n         [-1.58754122e-02, -1.98058374e-02,  3.42823863e-02, ...,\n           4.62090820e-02, -2.44433954e-02,  1.68945119e-02],\n         ...,\n         [ 5.46573177e-02, -5.33861574e-04,  2.51512527e-02, ...,\n           2.67729238e-02, -1.47478711e-02, -2.65766904e-02],\n         [ 8.28706846e-02,  6.78630471e-02,  5.39673604e-02, ...,\n           2.63176486e-02,  5.72351404e-02,  8.02466832e-03],\n         [-2.75498796e-02, -8.25585797e-02, -1.45953363e-02, ...,\n           6.09174296e-02, -8.11533723e-03,  1.42512043e-04]],\n \n        ...,\n \n        [[-1.61835272e-02, -1.74087584e-02, -1.49219977e-02, ...,\n          -3.76076885e-02, -1.74642242e-02, -6.99230842e-03],\n         [-4.51294482e-02,  5.83621301e-03,  4.47678603e-02, ...,\n          -2.42873542e-02, -9.20160394e-03, -1.03387805e-02],\n         [ 5.34538925e-02, -4.98918928e-02, -3.24194357e-02, ...,\n           2.70033274e-02, -2.63185240e-02,  2.40896661e-02],\n         ...,\n         [ 4.13524993e-02,  7.22644329e-02, -7.24243522e-02, ...,\n           5.94112165e-02,  3.31399334e-03,  1.33598708e-02],\n         [-4.22336766e-03,  4.42020297e-02,  6.04205020e-02, ...,\n          -3.08902953e-02,  7.26642981e-02,  4.44797650e-02],\n         [ 1.52075374e-02,  2.30213851e-02,  3.29666655e-03, ...,\n          -8.48319381e-03, -2.30823085e-02, -6.96026459e-02]],\n \n        [[ 6.51984534e-04,  9.98086669e-03,  4.94049937e-02, ...,\n           2.30969805e-02, -6.63662255e-02, -2.01488268e-02],\n         [ 4.91471030e-02, -2.14415751e-02,  1.40201226e-01, ...,\n          -9.29564144e-03,  2.22030003e-03,  5.94984479e-02],\n         [ 2.29383353e-03,  6.84622154e-02, -2.15460476e-03, ...,\n           4.86542359e-02,  5.87248914e-02, -3.59262223e-03],\n         ...,\n         [-7.90627971e-02, -5.04115894e-02, -6.82086777e-03, ...,\n           8.30345694e-03, -2.65836176e-02, -3.97982784e-02],\n         [ 1.20107710e-01, -1.90727301e-02,  3.93644795e-02, ...,\n          -8.36888235e-03, -6.54440522e-02, -5.11563942e-02],\n         [ 2.01278720e-02, -2.14854423e-02,  6.41980320e-02, ...,\n          -8.57217796e-03, -2.35959534e-02,  1.04538687e-02]],\n \n        [[ 2.47037821e-02, -1.95712224e-02, -3.34136561e-02, ...,\n          -2.24971697e-02, -2.64000110e-02, -5.39204385e-03],\n         [ 1.32502131e-02, -2.60993559e-03,  4.62659961e-03, ...,\n           5.46362922e-02, -3.77401896e-02, -6.55911714e-02],\n         [ 1.44102843e-02, -8.54466632e-02,  1.55774234e-02, ...,\n          -2.58174445e-02, -4.81537394e-02, -1.73164159e-02],\n         ...,\n         [-6.75024232e-03,  5.27819358e-02,  3.98325324e-02, ...,\n           1.38220033e-02, -2.24901848e-02,  1.55206595e-03],\n         [-1.62369907e-01, -6.22501634e-02,  7.99675137e-02, ...,\n          -1.49594899e-02, -7.18348697e-02, -6.40437528e-02],\n         [-4.43136208e-02,  1.19131573e-01,  2.35277042e-03, ...,\n          -3.77237536e-02, -2.08840482e-02, -6.47786409e-02]]],\n       dtype=float32),\n '/BERT_encoder/transformer/layer_0/self_attention/query/bias:0': array([[-1.69325098e-01,  8.90057310e-02, -4.96043175e-01,\n         -2.09356487e-01,  4.10935491e-01,  2.69048810e-01,\n         -1.66843608e-02, -2.37178415e-01,  3.73311862e-02,\n         -1.21616542e-01, -9.07748714e-02, -2.47510791e-01,\n          2.63357605e-03, -1.06021211e-01, -9.23589393e-02,\n         -1.70445800e-01, -9.32052061e-02,  5.34095943e-01,\n         -3.12750280e-01,  2.68073738e-01, -1.04520887e-01,\n         -1.05895907e-01,  2.47892961e-01, -2.81863689e-01,\n         -9.41456184e-02,  2.42161453e-02,  2.08690152e-01,\n         -2.12602884e-01, -1.57010570e-01,  6.99775741e-02,\n         -2.95863181e-01, -2.76536703e-01, -5.90331331e-02,\n         -2.56482333e-01,  2.96040714e-01,  9.95371193e-02,\n         -8.83825645e-02,  1.11978352e-02,  4.78748232e-01,\n         -2.22010743e-02, -5.13495862e-01,  3.69900674e-01,\n         -2.26976365e-01,  2.91765869e-01,  5.37815630e-01,\n         -3.65130246e-01, -8.22474947e-04, -9.56496224e-02,\n          3.40880722e-01,  2.18794167e-01,  1.38508418e-04,\n         -2.37319544e-01, -1.82675198e-01, -1.32517904e-01,\n          3.74512047e-01,  2.83964574e-01, -1.88984331e-02,\n          9.09596831e-02, -1.95847392e-01,  1.92413777e-01,\n          2.89580882e-01,  2.30719090e-01, -7.11032227e-02,\n         -9.21841413e-02],\n        [-3.42895597e-01,  4.48448658e-01, -8.38714838e-02,\n          1.27538860e-01,  6.55694008e-02,  1.39110580e-01,\n          1.18614331e-01, -4.40483838e-01, -2.01759011e-01,\n         -3.14217448e-01,  1.65864110e-01,  1.19431801e-01,\n         -2.34693795e-01,  5.41616440e-01,  4.92935359e-01,\n          1.81925848e-01, -7.66708329e-02,  2.03243420e-01,\n          5.12183666e-01,  6.19024038e-02, -1.21068776e-01,\n          5.14801919e-01,  7.24479035e-02, -7.18834400e-02,\n          1.63550407e-01, -1.02885492e-01,  7.04534531e-01,\n         -1.73731565e-01,  3.11119318e-01,  2.59094357e-01,\n         -2.60082275e-01,  1.61579251e-01,  2.52375275e-01,\n          1.55424669e-01,  5.37342727e-01,  3.13631624e-01,\n          7.70115759e-03,  4.78326231e-02, -4.78411347e-01,\n         -1.36523291e-01,  1.53955504e-01, -2.12003663e-01,\n         -2.56953418e-01, -1.22297287e-01, -1.20632201e-01,\n          1.21801332e-01,  3.63865644e-01,  8.22500587e-02,\n         -5.04678965e-01, -1.74657509e-01, -3.29435244e-02,\n          5.08370809e-02,  1.41372979e-01,  3.17292392e-01,\n         -2.95633823e-01, -1.14852367e-02,  2.22495899e-01,\n          1.37795374e-01,  4.31523025e-02, -4.04966265e-01,\n          2.80890524e-01, -1.65934432e-02, -7.10850805e-02,\n          2.36391082e-01],\n        [-1.66363269e-01,  3.18907350e-01,  3.30113560e-01,\n         -5.23788575e-03,  2.21988466e-02,  1.28248423e-01,\n          1.45734936e-01,  8.46872106e-02, -8.70923400e-02,\n          2.10872769e-01,  1.82915255e-01, -3.38015825e-01,\n          1.47041619e-01, -5.51797599e-02, -4.77345288e-01,\n          1.02509014e-01, -4.97886501e-02, -9.58934575e-02,\n         -2.07842112e-01, -3.93045992e-02, -1.80446673e-02,\n         -3.03359896e-01, -2.19604179e-01,  3.05659045e-02,\n         -2.56352752e-01, -1.02044106e-01,  2.96174347e-01,\n          6.28978573e-03, -2.71543205e-01, -4.36936058e-02,\n         -7.00965757e-03, -1.48117721e-01,  5.32068945e-02,\n          8.76717120e-02,  2.11467549e-01,  2.42165282e-01,\n         -2.26032436e-01, -1.46569997e-01, -5.50246462e-02,\n          1.05420910e-01,  1.14441410e-01,  3.30704272e-01,\n          2.15123147e-01,  1.47878781e-01, -9.25103799e-02,\n          4.82384086e-01, -1.23335615e-01, -4.02251840e-01,\n          2.07975194e-01, -2.71494221e-02, -7.41890967e-02,\n         -1.43734828e-01, -3.77518311e-03,  2.44527742e-01,\n          1.08026303e-01,  3.34382355e-02, -1.41837284e-01,\n          5.12776338e-02,  6.02568127e-02,  5.86285740e-02,\n          4.05576557e-01,  9.19970348e-02,  4.39733952e-01,\n         -2.17957854e-01],\n        [-3.15553576e-01, -1.78627044e-01,  1.28453329e-01,\n         -1.31845966e-01,  2.77480543e-01,  3.37189506e-03,\n          2.83632517e-01, -1.07063375e-01,  1.86826095e-01,\n          3.95819336e-01, -1.65652692e-01,  4.87383574e-01,\n          1.19368069e-01,  1.01200327e-01, -2.98946470e-01,\n          1.63523510e-01,  4.69823927e-02, -2.70527095e-01,\n         -4.37763304e-01,  1.29981684e-02,  6.57421350e-02,\n         -2.71532256e-02, -1.43155754e-01, -1.78619206e-01,\n          1.50560379e-01,  4.36752826e-01, -4.11443919e-01,\n         -2.53425211e-01,  5.49930632e-01, -6.02457404e-01,\n         -3.92721705e-02,  6.24436200e-01, -5.71463525e-01,\n         -4.62601632e-01, -9.43121761e-02,  3.42816591e-01,\n         -1.31543815e-01, -6.92978427e-02, -1.48843799e-03,\n          1.24752924e-01,  1.13697685e-01, -7.10359335e-01,\n         -3.94226134e-01, -6.47630170e-02,  1.57634482e-01,\n          2.66241119e-03, -1.39729634e-01,  4.24166352e-01,\n         -3.50061804e-01,  1.25686273e-01, -4.76995856e-01,\n         -3.62323858e-02,  3.33846337e-03,  1.25396907e-01,\n         -3.71490061e-01, -4.91885424e-01, -3.78274441e-01,\n          3.39869916e-01, -3.30247462e-01,  2.46153995e-01,\n          5.80559671e-01,  1.15653083e-01, -3.26599419e-01,\n          5.83651721e-01],\n        [ 2.34003533e-02, -1.15883589e-01,  7.01287836e-02,\n          2.43611917e-01,  1.24908507e-01, -2.79971004e-01,\n         -1.99975207e-01, -1.79680437e-01,  2.32297376e-01,\n          2.32719462e-02,  8.22685063e-02, -1.96104109e-01,\n         -3.83686423e-01, -2.27445155e-01, -1.79027356e-02,\n          6.12068288e-02,  3.80033478e-02,  3.25294286e-01,\n          1.57315463e-01,  2.14495789e-03,  9.28285047e-02,\n         -1.78728372e-01, -1.79010808e-01, -3.68939668e-01,\n          2.17749938e-01, -4.32896167e-01,  8.36047605e-02,\n          1.93224594e-01,  6.99872449e-02, -9.38364938e-02,\n         -3.38856839e-02, -2.32774004e-01, -2.07110718e-01,\n          1.85099512e-01, -9.65868756e-02, -7.22258687e-02,\n         -2.77500302e-02, -2.40807742e-01, -2.18796641e-01,\n         -1.25580624e-01, -1.82664424e-01,  1.12493768e-01,\n         -2.89471328e-01,  9.22752470e-02,  2.16095164e-01,\n         -3.28067280e-02, -8.68880376e-02, -1.69595629e-01,\n         -2.04990089e-01, -1.22184411e-01, -1.69113889e-01,\n          1.82602912e-01, -1.49356360e-02, -1.97407991e-01,\n          1.89453363e-01, -1.38978750e-01, -2.27748752e-01,\n         -8.30992311e-03, -1.00058645e-01,  6.93526044e-02,\n         -2.18294397e-01, -1.52495638e-01,  7.05049112e-02,\n         -1.25830129e-01],\n        [-7.73588344e-02, -1.12139128e-01,  1.04470402e-01,\n          1.10547572e-01,  7.45245367e-02, -1.54368103e-01,\n          5.52493371e-02,  4.58248913e-01, -1.68108895e-01,\n         -1.92137897e-01,  2.06636712e-01, -1.27917975e-01,\n          3.03341448e-01, -4.66888510e-02,  6.79519027e-02,\n          5.84991463e-02, -1.22334044e-02, -3.06639284e-01,\n         -1.68815643e-01,  1.17547497e-01,  2.15092614e-01,\n          3.15871201e-02, -3.19308415e-02, -8.38017315e-02,\n          3.56620938e-01, -1.37823867e-02, -2.89354384e-01,\n         -2.31176943e-01,  1.08085871e-01, -1.23415604e-01,\n         -1.78774565e-01, -1.59300253e-01,  1.75293721e-02,\n         -1.48591455e-02, -8.36434811e-02, -9.74814743e-02,\n         -2.69238859e-01, -3.90645146e-01,  8.28772131e-03,\n          1.07063465e-02,  4.70611751e-02, -1.25702590e-01,\n          1.81619629e-01, -2.05793567e-02,  4.11465503e-02,\n         -9.14287418e-02,  2.14767188e-01, -4.87791933e-02,\n          4.88174438e-01, -3.32827773e-03, -9.12602916e-02,\n          7.11706206e-02,  1.47086903e-01, -3.33930030e-02,\n          5.31027801e-02, -2.99201757e-01, -1.93871513e-01,\n         -1.83171958e-01,  1.91865712e-01, -3.15609463e-02,\n          1.06939204e-01, -2.52414018e-01,  2.35722438e-01,\n         -8.97390172e-02],\n        [-5.75223148e-01, -4.17543113e-01, -7.61567891e-01,\n         -1.04693651e+00,  4.68152732e-01, -7.72621557e-02,\n          5.42002320e-01, -1.32438540e-01, -2.09401727e-01,\n          1.26281783e-01, -8.06129873e-01,  5.88585794e-01,\n         -3.34276319e-01,  4.50115800e-01, -3.03653449e-01,\n          2.31457666e-01,  3.29991758e-01,  6.73699975e-01,\n          3.42197329e-01,  2.62926638e-01,  4.68400180e-01,\n         -1.72056615e-01,  5.26778340e-01, -4.29406852e-01,\n          3.68853092e-01,  1.09194972e-01,  8.61746967e-01,\n         -4.87749159e-01, -9.98745918e-01,  1.48003763e-02,\n          5.32176971e-01, -3.69173378e-01, -4.37973440e-01,\n         -9.56299245e-01,  5.99764168e-01,  4.03948635e-01,\n          7.55322516e-01,  3.67561191e-01,  7.67987296e-02,\n          2.68535018e-01,  5.44414461e-01,  3.07644129e-01,\n          4.53411996e-01,  3.24640840e-01,  7.36910328e-02,\n         -1.08237147e-01, -4.42024350e-01,  3.66870075e-01,\n          3.39485705e-01,  6.24162018e-01,  9.20100689e-01,\n          5.66946626e-01,  1.99309394e-01, -2.29388431e-01,\n         -7.07526863e-01, -5.61638251e-02,  9.05781426e-03,\n          3.20196241e-01,  3.83242369e-01,  3.94883007e-02,\n         -2.97248185e-01, -2.98181891e-01,  7.13852048e-01,\n         -1.13005847e-01],\n        [-1.09972902e-01, -7.82618225e-02,  4.83584367e-02,\n         -3.53577621e-02, -4.98314537e-02, -8.52558538e-02,\n          4.35283899e-01,  1.69155672e-01, -1.17441289e-01,\n          1.40256360e-01, -1.01699658e-01,  2.65894029e-02,\n         -3.88466865e-02,  1.17866293e-01,  2.35421658e-01,\n         -2.60514736e-01, -1.11860745e-01, -1.88349545e-01,\n          7.93942064e-02,  9.81016085e-02, -1.34265959e-01,\n         -1.14823066e-01,  1.87181339e-01,  1.94214676e-02,\n         -1.38292149e-01,  4.32054639e-01,  3.56099308e-02,\n          2.35170156e-01,  4.14685868e-02,  2.55522996e-01,\n          3.25192720e-01, -6.40770122e-02,  2.23668650e-01,\n          1.74107298e-01, -2.64025569e-01, -2.35554770e-01,\n         -2.63188779e-02, -3.01818639e-01, -2.74650484e-01,\n         -3.78521942e-02,  1.37098014e-01, -1.13061309e-01,\n          4.67485905e-01, -6.11428246e-02, -1.22731015e-01,\n         -2.53697425e-01, -1.89952582e-01,  2.77513117e-02,\n          9.33741406e-02,  8.64538327e-02,  4.66254294e-01,\n          7.74822757e-02,  2.50946164e-01, -4.54686061e-02,\n          2.20368013e-01, -1.20704994e-01, -1.90211385e-02,\n          5.38793430e-02,  1.42949983e-01, -2.32384905e-01,\n         -2.68314481e-01, -1.35191530e-01, -2.49562755e-01,\n         -8.80138129e-02]], dtype=float32),\n '/BERT_encoder/transformer/layer_0/self_attention/query/kernel:0': array([[[ 2.29837615e-02, -2.60656234e-02,  2.17413809e-02, ...,\n          -1.69192497e-02,  2.31905784e-02, -3.74489874e-02],\n         [ 1.51982866e-02,  8.89374234e-04,  3.32874320e-02, ...,\n          -2.04075277e-02, -3.76189426e-02, -2.16193050e-02],\n         [ 2.27705911e-02,  6.05191179e-02, -3.90046276e-02, ...,\n           3.45186368e-02, -2.11985130e-02,  6.61029434e-03],\n         ...,\n         [ 4.77845296e-02,  2.28012558e-02,  5.00245802e-02, ...,\n          -5.95903164e-03,  1.40308896e-02,  3.53936143e-02],\n         [-9.36900377e-02, -1.01002902e-02, -7.44211152e-02, ...,\n           1.14659378e-02, -3.20807807e-02, -1.03813242e-02],\n         [ 5.50623089e-02,  5.58508467e-03,  2.39375811e-02, ...,\n           1.46621214e-02,  6.60448335e-03,  5.45401499e-02]],\n \n        [[ 1.20618269e-02, -1.69925410e-02, -1.93146046e-03, ...,\n           3.09273265e-02, -2.61514187e-02,  5.06918989e-02],\n         [-1.44670820e-02, -3.61568183e-02, -1.01406602e-02, ...,\n          -2.64335424e-03,  5.13273254e-02,  2.40879655e-02],\n         [-1.12593395e-03, -5.13296947e-03,  1.46766612e-02, ...,\n          -1.25450827e-02,  3.09182871e-02, -2.86809191e-05],\n         ...,\n         [-1.01475222e-02, -9.93977417e-04, -4.81715314e-02, ...,\n           6.93040416e-02, -1.66371353e-02, -9.89958644e-03],\n         [ 1.13694847e-01,  4.43312302e-02, -1.00384437e-01, ...,\n           4.03441861e-03, -7.70964399e-02, -5.53722605e-02],\n         [ 1.81392096e-02, -4.30400949e-03,  6.59679668e-03, ...,\n          -2.33250428e-02, -4.23421524e-02,  1.14908721e-02]],\n \n        [[ 4.56936564e-03, -2.51574122e-04, -3.92126665e-02, ...,\n           1.46967908e-02, -5.54471463e-02, -4.69999984e-02],\n         [-1.54236946e-02, -2.85459147e-03, -1.05193432e-03, ...,\n          -4.18336643e-03,  1.15564708e-02, -5.27021103e-02],\n         [-8.26002471e-03, -7.58050708e-03, -1.49068469e-02, ...,\n           3.13070491e-02, -1.92704946e-02, -2.10333541e-02],\n         ...,\n         [-1.73124429e-02, -2.98664700e-02, -3.70340012e-02, ...,\n          -6.26407051e-03, -1.63177773e-03,  6.31036535e-02],\n         [-1.00799361e-02, -4.96472511e-03,  5.41391270e-03, ...,\n           1.26960069e-01, -6.49322942e-02,  2.69419737e-02],\n         [ 1.68759599e-02,  5.88275082e-02,  1.11473454e-02, ...,\n          -2.98102144e-02, -6.28470769e-03,  5.02132736e-02]],\n \n        ...,\n \n        [[ 1.84323024e-02,  3.94493416e-02,  5.77635914e-02, ...,\n           6.68216348e-02, -3.61424759e-02,  3.11013479e-02],\n         [-3.49258818e-02,  1.36758359e-02,  6.71791807e-02, ...,\n          -1.98924309e-03, -1.34102833e-02, -1.85623392e-02],\n         [-5.73869795e-03,  2.09991471e-03, -5.40410653e-02, ...,\n           5.67129143e-02,  7.49561097e-03, -2.08672117e-02],\n         ...,\n         [ 1.24850059e-02, -3.60741420e-03,  4.32026722e-02, ...,\n           4.11155401e-03, -2.43029278e-02,  3.49125788e-02],\n         [-7.22730458e-02, -1.01022478e-02, -8.20067823e-02, ...,\n           5.58103397e-02, -2.23861355e-02,  4.12542261e-02],\n         [ 4.00895812e-02,  6.98156059e-02,  3.10128927e-02, ...,\n          -5.01603596e-02, -5.29839545e-02,  8.08517113e-02]],\n \n        [[ 1.44975875e-02,  7.18641561e-03,  2.70187519e-02, ...,\n          -2.16078646e-02,  7.04842387e-03, -4.18129601e-02],\n         [ 3.07658929e-02, -1.86447967e-02,  1.20689422e-01, ...,\n          -3.92485000e-02,  4.00974136e-03,  4.52770740e-02],\n         [ 1.44096911e-02, -2.22923188e-03, -8.36677197e-03, ...,\n          -5.58364913e-02, -1.26545373e-02, -1.73625071e-02],\n         ...,\n         [ 2.59377975e-02,  8.05357378e-03, -4.02984656e-02, ...,\n           5.25837541e-02, -1.96917709e-02,  6.53579179e-03],\n         [-7.37617761e-02, -3.78435627e-02,  4.61456701e-02, ...,\n          -1.21179633e-01, -2.71502361e-02, -6.23815246e-02],\n         [ 2.29580030e-02,  3.11605949e-02,  1.20661370e-01, ...,\n          -9.33396351e-03,  1.12559386e-01,  2.92754918e-02]],\n \n        [[-2.71060795e-04, -1.53667154e-02,  8.24722741e-03, ...,\n          -4.23320429e-03,  5.14476970e-02,  1.99249256e-02],\n         [-7.05334246e-02, -3.52614708e-02, -6.57650596e-03, ...,\n           3.80857065e-02, -6.86637871e-03, -3.04939356e-02],\n         [-7.26149082e-02, -9.37085878e-03,  2.41963901e-02, ...,\n          -2.73291934e-02, -4.40488495e-02, -5.23062656e-03],\n         ...,\n         [ 7.65801072e-02, -1.35401310e-02, -4.27627414e-02, ...,\n          -3.62884556e-03, -3.30272354e-02,  5.06922565e-02],\n         [-4.44034524e-02, -4.23271097e-02, -5.80385178e-02, ...,\n          -6.51882142e-02,  1.15683042e-01, -9.96622518e-02],\n         [-7.17545208e-03,  1.34766214e-02,  3.47649329e-03, ...,\n          -4.07371372e-02, -2.11738050e-02,  2.84309536e-02]]],\n       dtype=float32),\n '/BERT_encoder/transformer/layer_0/self_attention/value/bias:0': array([[ 2.14321166e-02,  1.21444806e-01,  1.05478399e-01,\n          5.44621088e-02,  5.01014702e-02,  2.88538672e-02,\n         -3.41982692e-02,  8.35989974e-03,  8.52088928e-02,\n          7.87423775e-02, -9.73593444e-03, -1.20043956e-01,\n          6.07615970e-02, -2.58523449e-02,  5.43947779e-02,\n          3.83274374e-03, -9.10766348e-02,  1.48835108e-01,\n          8.61101151e-02,  1.29527286e-01,  1.52087295e-02,\n          1.85566116e-02, -9.24091339e-02, -4.06626761e-02,\n          2.84170881e-02,  6.12409972e-02, -7.96647221e-02,\n          3.15994658e-02,  2.24267859e-02,  4.55338974e-03,\n         -7.97001794e-02, -4.45790291e-02,  1.89569418e-03,\n          4.38969284e-02, -1.28191948e-01,  4.98361839e-03,\n          1.00100897e-01,  1.09697454e-01, -8.87211785e-02,\n          3.02699730e-02,  2.37831380e-02,  4.03271569e-03,\n          4.03147005e-03, -2.92559881e-02,  2.99190897e-02,\n          1.01022765e-01, -3.57920527e-02, -1.01548381e-01,\n          1.48376837e-01, -8.50452185e-02, -1.19837984e-01,\n         -7.37495953e-03, -1.04346894e-01,  8.15570205e-02,\n          1.21554665e-01,  8.25658906e-03, -1.89662408e-02,\n          2.75101028e-02,  7.62776956e-02, -8.67782608e-02,\n          4.67251316e-02, -8.28101560e-02, -9.92672704e-03,\n         -6.69199675e-02],\n        [ 4.89083603e-02,  2.93717515e-02, -9.04817581e-02,\n          9.86399781e-03, -9.19394717e-02, -1.23683065e-01,\n         -2.13430896e-02, -6.16959520e-02, -1.45582959e-01,\n         -6.75395951e-02, -2.37305015e-02, -9.27833244e-02,\n          8.86155218e-02, -2.86357831e-02,  3.11431009e-02,\n          8.32829326e-02, -4.77480032e-02, -1.95547372e-01,\n          1.74855422e-02, -6.13553375e-02,  1.04412414e-01,\n         -2.42542140e-02, -8.02419111e-02,  1.44392857e-02,\n          6.66343346e-02,  4.95783100e-03,  1.89769045e-02,\n         -2.45094057e-02,  7.29530603e-02, -1.60593823e-01,\n          2.59897877e-02, -9.90517158e-03,  5.87771423e-02,\n          1.96810775e-02,  1.79114759e-01, -3.37652154e-02,\n          1.20955184e-01,  4.89161722e-02, -3.08812913e-02,\n          1.38692837e-02,  1.68597847e-02,  1.79285884e-01,\n         -5.55298440e-02,  4.25670354e-04,  8.92936960e-02,\n          1.24391271e-02, -1.22310810e-01, -5.10436818e-02,\n         -2.38707177e-02, -1.75258517e-02,  5.59007525e-02,\n         -4.84974459e-02,  1.68557167e-01, -1.38908857e-02,\n         -4.27313335e-02, -1.66825596e-02,  1.11833081e-01,\n         -4.23966954e-03,  4.38432842e-02, -4.97416593e-02,\n          5.86943291e-02, -7.11067617e-02, -5.75312562e-02,\n         -3.94221842e-02],\n        [-3.16875391e-02, -7.16229603e-02,  3.40922587e-02,\n          4.05184552e-02, -8.57702792e-02,  5.24985082e-02,\n         -1.08254207e-02, -1.25253703e-02,  9.58270282e-02,\n          8.63841549e-02,  6.19614013e-02, -7.99661651e-02,\n         -5.05823679e-02,  6.72260672e-02,  5.64953424e-02,\n          4.12569055e-03,  5.96470088e-02, -2.74253208e-02,\n         -2.26798262e-02,  3.04089189e-02, -7.40193203e-02,\n         -6.83025941e-02,  7.38763288e-02,  3.96795804e-03,\n          6.01296872e-02, -8.45589768e-03, -5.30263991e-04,\n         -7.40195513e-02, -9.69525985e-03,  6.87044039e-02,\n         -2.56268792e-02, -1.43577484e-02,  2.16370784e-02,\n          4.16021533e-02, -2.93986816e-02,  5.42125925e-02,\n          4.71615084e-02, -1.81099270e-02, -2.09803917e-02,\n         -2.02719923e-02, -1.16195850e-01, -8.30413308e-03,\n          1.32678142e-02, -1.02529958e-01,  2.91833803e-02,\n         -6.51986524e-02, -5.06889597e-02,  6.40232861e-02,\n          5.28448038e-02,  1.11480564e-01, -2.11821832e-02,\n          1.13481373e-01, -1.97288748e-02, -4.43310514e-02,\n         -1.28970603e-02, -2.07878761e-02,  6.88839182e-02,\n          5.31992503e-02,  2.96252873e-02, -2.94594243e-02,\n          4.29168381e-02, -4.13799658e-03,  1.17055662e-02,\n         -6.23241737e-02],\n        [-9.13905054e-02, -1.06120832e-01,  1.01734279e-02,\n         -1.00793146e-01,  5.33545874e-02,  1.65893063e-02,\n          1.00852028e-02, -4.18955088e-02, -3.88803147e-02,\n         -1.70091894e-02, -4.36951183e-02, -8.99390057e-02,\n          3.16759497e-02, -1.52367771e-01,  1.20984614e-01,\n          1.40408412e-01, -8.68732855e-03, -1.65614709e-01,\n         -1.21133991e-01, -4.92926911e-02, -1.50333598e-01,\n         -1.25180036e-02,  9.30436552e-02, -1.35050848e-01,\n          2.16863558e-01,  2.50561118e-01,  1.92258835e-01,\n         -1.92340314e-01, -7.28224590e-02,  1.66353673e-01,\n          7.43936524e-02, -1.57847106e-01, -1.59975272e-02,\n         -9.69987065e-02, -1.64051522e-02, -1.35297447e-01,\n          4.14541311e-04, -1.52010590e-01,  2.04281151e-01,\n         -2.13256180e-01,  1.43375635e-01, -2.08463132e-01,\n         -2.46206652e-02,  1.53541550e-01, -1.42966673e-01,\n         -2.03651354e-01, -8.58801156e-02, -1.72003821e-01,\n          8.55884627e-02,  2.08650902e-01, -1.95584625e-01,\n          6.10281862e-02, -2.16130726e-02, -1.95501640e-01,\n          1.10371321e-01, -1.67026237e-01,  7.44880363e-02,\n          1.60940289e-01, -1.88185215e-01, -1.27306625e-01,\n          4.97150375e-03, -1.65725499e-01, -2.55316019e-01,\n          2.87635595e-01],\n        [-5.90785313e-03,  6.71411231e-02, -4.16686684e-02,\n         -1.41433388e-01,  1.05925109e-02,  4.88693528e-02,\n          3.25817987e-03,  1.09275527e-01, -2.82198209e-02,\n          1.24888849e-02, -3.33228037e-02,  7.22660217e-03,\n          5.91594819e-03,  1.38051631e-02, -6.94834962e-02,\n          8.28353688e-02,  1.82766855e-01, -1.04320377e-01,\n          5.09732291e-02, -4.05143462e-02,  1.45903707e-01,\n          3.42652132e-03, -2.11736336e-02,  3.70860286e-02,\n         -3.81221878e-03,  1.47140212e-03, -6.66315341e-03,\n          2.10932046e-02,  4.76395432e-03, -5.90382656e-03,\n          2.54423395e-02,  2.21979562e-02, -2.70687025e-02,\n         -4.93948460e-02,  1.82018019e-02,  2.54936814e-02,\n         -2.15361975e-02, -2.62112916e-02, -2.37424616e-02,\n          1.14159184e-02, -1.71605907e-02,  8.68713632e-02,\n          2.80099772e-02, -7.35437823e-03,  2.16961708e-02,\n          2.07304172e-02, -9.70691293e-02, -1.13117686e-02,\n         -1.00141848e-02, -1.79799646e-02,  1.03987589e-01,\n         -4.36172634e-02,  1.90233234e-02, -8.13551024e-02,\n          8.87468606e-02,  2.26642634e-03,  5.29534221e-02,\n         -9.76744946e-03,  1.10105937e-02, -6.57637417e-02,\n         -3.33021209e-02, -1.51582435e-03, -6.48566484e-02,\n          1.28705967e-02],\n        [-1.01840729e-02,  3.30314375e-02, -1.23077864e-02,\n         -5.01101166e-02,  4.60838862e-02,  8.74095261e-02,\n          4.77415361e-02,  1.19953118e-02, -7.43902568e-03,\n          5.21923276e-03, -1.40910142e-03,  3.53977382e-02,\n          4.13691550e-02,  1.12119265e-01, -1.03110380e-01,\n          7.27843717e-02, -1.08372439e-02,  3.18422653e-02,\n          4.01209742e-02, -7.31682405e-02, -3.32924351e-02,\n          5.02653904e-02,  4.66951989e-02, -3.84507068e-02,\n         -1.37519147e-02,  2.40863543e-02,  3.76758836e-02,\n          3.83670218e-02, -4.45865467e-02, -2.41294112e-02,\n          2.25394145e-02, -4.05893922e-02,  7.22082332e-02,\n          2.76890788e-02,  8.59431550e-02,  3.01910974e-02,\n          5.03275953e-02, -3.43695618e-02,  1.12727075e-03,\n          7.53626153e-02, -1.41713312e-02, -2.33737975e-02,\n         -4.56530303e-02, -2.95680948e-02,  5.48011903e-03,\n         -2.65855622e-02, -6.94802925e-02,  2.60793455e-02,\n          2.56088749e-02, -3.08629386e-02, -2.76376065e-02,\n         -9.65609178e-02,  6.24889322e-02, -3.21934633e-02,\n          7.56948488e-03, -3.51274200e-02,  9.14042164e-03,\n         -3.50202210e-02, -5.75323543e-03,  5.00250980e-02,\n         -2.48352792e-02, -4.88222837e-02,  2.69491114e-02,\n         -4.97545004e-02],\n        [-2.16834992e-03,  3.13307673e-01, -3.85231495e-01,\n         -2.47882143e-01,  1.19094625e-01, -2.93103248e-01,\n         -2.28454486e-01,  2.97130913e-01,  3.50231230e-01,\n          1.63427904e-01,  2.96345949e-01, -1.69672258e-02,\n          1.49410501e-01,  4.05643769e-02,  2.61204034e-01,\n         -6.53495044e-02, -1.42171517e-01,  1.75410584e-01,\n          6.48024399e-03,  1.92664102e-01, -8.99233520e-02,\n         -6.25035865e-03,  8.15600380e-02,  1.85418114e-01,\n         -1.49959534e-01,  1.12004399e-01, -7.03737885e-02,\n          3.02724749e-01, -4.94822226e-02, -8.36935565e-02,\n         -1.01468399e-01,  9.58225802e-02, -1.15215719e-01,\n         -1.34522110e-01,  3.62600178e-01, -1.03242926e-01,\n         -2.17657626e-01, -7.30265006e-02, -8.94607902e-02,\n          1.70054108e-01,  8.82734545e-03, -3.31220403e-02,\n         -3.35901044e-02, -3.61621827e-01,  9.38154161e-02,\n          1.26829088e-01,  2.23731041e-01,  1.49901118e-02,\n         -1.07708283e-01, -3.06018274e-02,  1.49787024e-01,\n          2.71451831e-01,  7.60194147e-03,  1.38156191e-01,\n          1.20741479e-01, -7.29100481e-02,  3.30447584e-01,\n          1.65453479e-01, -6.36270409e-03, -3.44097465e-01,\n         -4.57824133e-02,  3.25742751e-01,  1.69098582e-02,\n          1.17622569e-01],\n        [ 4.26823609e-02,  7.15750968e-03,  2.37763375e-02,\n         -7.90711679e-03,  2.91463220e-03,  1.67119429e-02,\n         -4.01127823e-02, -1.03485864e-02, -2.28606518e-02,\n         -6.59857988e-02,  6.11289069e-02,  1.79476663e-02,\n         -1.19607095e-02,  3.96891497e-02,  7.80751035e-02,\n         -2.04418097e-02,  9.93389357e-03,  1.13534241e-03,\n         -9.69459070e-04,  4.53967899e-02, -1.70399100e-02,\n          2.56319158e-03,  8.88468102e-02,  5.28789647e-02,\n          3.15019186e-03, -1.04677416e-02, -3.06516346e-02,\n          2.06582882e-02, -1.92865357e-02,  3.63986604e-02,\n          4.35828883e-03,  3.71254096e-03, -3.11089726e-03,\n          3.99957690e-03,  7.10396841e-02,  1.40478890e-02,\n         -8.55859462e-03,  2.51876214e-03,  5.13512269e-02,\n          4.59453277e-02,  6.26943782e-02, -7.28189722e-02,\n         -2.28660963e-02, -2.14634631e-02, -2.51872316e-02,\n          6.45254832e-03, -2.05556937e-02, -2.46774014e-02,\n          1.11856656e-02,  9.52501316e-03,  1.20776454e-02,\n         -2.05305609e-04,  3.39769572e-02,  5.27478270e-02,\n          2.03312724e-03,  8.07498768e-03, -3.33526842e-02,\n         -1.95743386e-02,  5.58783375e-02, -3.80496196e-02,\n         -8.20761546e-02, -7.87528157e-02, -1.39129413e-02,\n          2.05236729e-02]], dtype=float32),\n '/BERT_encoder/transformer/layer_0/self_attention/value/kernel:0': array([[[ 3.55138220e-02,  1.08489543e-02,  4.25799843e-03, ...,\n           3.71259227e-02, -2.15606508e-03, -5.11443764e-02],\n         [ 3.37597392e-02,  2.01688688e-02, -1.25593590e-02, ...,\n          -2.81728953e-02,  4.67030844e-03, -4.37438749e-02],\n         [ 3.69258001e-02,  5.00755571e-02,  6.46252036e-02, ...,\n          -4.27377447e-02,  2.96699116e-03, -1.87854208e-02],\n         ...,\n         [ 3.66026871e-02, -2.44653095e-02, -3.30718085e-02, ...,\n           3.13386098e-02, -3.08074132e-02,  8.00003707e-02],\n         [ 1.44019071e-02, -2.18426716e-03,  3.49866343e-03, ...,\n          -4.76605110e-02, -1.01712383e-02, -1.64050236e-02],\n         [-1.57929845e-02, -5.68184885e-04, -2.68121045e-02, ...,\n          -1.95940267e-02, -1.34324133e-02, -2.86068022e-02]],\n \n        [[ 6.44001216e-02,  2.31046369e-03,  3.83733548e-02, ...,\n          -3.66700590e-02, -1.43310707e-02, -5.81966117e-02],\n         [-3.27989310e-02,  2.97271460e-03,  1.08311663e-03, ...,\n           1.87838878e-02, -4.09554690e-02, -4.05212082e-02],\n         [-2.39397436e-02,  6.36139885e-02, -2.35217973e-03, ...,\n          -2.77096052e-02,  1.02397082e-02,  2.40745619e-02],\n         ...,\n         [-2.32117511e-02,  3.55066056e-03, -7.15930611e-02, ...,\n          -7.60929519e-03,  2.33936198e-02,  2.78069545e-03],\n         [-1.99236833e-02,  1.52220391e-02,  4.85142460e-03, ...,\n           3.39829661e-02,  1.31628690e-02,  9.67493001e-03],\n         [-2.05189493e-02,  2.50832886e-02,  6.37541525e-03, ...,\n           1.79331508e-02,  6.14094473e-02,  2.86430642e-02]],\n \n        [[ 5.54678105e-02, -8.92068669e-02,  4.32912521e-02, ...,\n          -8.37784354e-03,  9.77366343e-02, -5.46422489e-02],\n         [ 1.90953743e-02, -8.50366428e-03, -2.56787520e-02, ...,\n          -1.76859740e-02,  9.43251234e-03,  2.34202649e-02],\n         [-6.30742032e-03, -3.77853517e-03,  3.08096595e-03, ...,\n           2.13757548e-02, -4.39204164e-02,  3.17718834e-02],\n         ...,\n         [-2.32893452e-02,  2.09440477e-02,  7.71049038e-03, ...,\n           7.92584121e-02,  1.59077197e-02,  5.34024052e-02],\n         [ 9.74536501e-03,  1.94121106e-03, -3.11304405e-02, ...,\n          -4.22746968e-03,  2.42230017e-02, -2.32782364e-02],\n         [-2.85184942e-02, -1.63628235e-02, -8.80575553e-03, ...,\n          -2.38039047e-02, -1.04442751e-02,  4.29275893e-02]],\n \n        ...,\n \n        [[-3.28382775e-02, -3.29256319e-02, -6.70956448e-02, ...,\n          -7.53284013e-03, -5.33505976e-02, -1.02101220e-02],\n         [ 6.16656169e-02, -7.16560706e-02,  1.18461123e-03, ...,\n           2.96400152e-02, -7.74363428e-03,  8.33673039e-05],\n         [ 4.94653285e-02, -2.11496204e-02,  7.47421337e-03, ...,\n           2.66531743e-02,  4.38758917e-02,  3.52025181e-02],\n         ...,\n         [ 5.81713580e-02, -1.22259930e-02,  1.30962357e-02, ...,\n           5.94108813e-02, -1.80944204e-02, -5.93282022e-02],\n         [ 3.66019607e-02,  1.34493541e-02, -3.68978232e-02, ...,\n           2.12643147e-02,  5.92501983e-02,  3.36092114e-02],\n         [ 6.64387038e-03, -7.91459810e-03,  3.21543068e-02, ...,\n          -1.00771226e-02, -5.91829941e-02, -2.93274149e-02]],\n \n        [[ 1.73128434e-02,  5.48107140e-02,  1.18075786e-02, ...,\n          -2.91970745e-02,  3.47980149e-02, -2.10377551e-03],\n         [-1.17916137e-03, -1.03568574e-02,  1.28733898e-02, ...,\n           6.35508746e-02,  1.16711529e-02, -4.92912382e-02],\n         [-6.65222406e-02, -1.74412597e-02,  2.92715225e-02, ...,\n          -5.33774905e-02,  5.37973642e-02,  1.55562377e-02],\n         ...,\n         [-2.04090979e-02, -4.03821766e-02,  1.48243932e-02, ...,\n          -9.85118095e-03,  4.76495698e-02, -5.11326874e-03],\n         [ 1.01387617e-03, -2.42481660e-02,  1.22583343e-03, ...,\n          -2.79728677e-02,  3.07264663e-02, -8.52667913e-03],\n         [ 1.41033612e-03,  3.13607305e-02, -3.94620281e-03, ...,\n          -8.36958271e-03, -1.58667192e-02,  3.87287475e-02]],\n \n        [[-1.32295145e-02,  1.83188748e-02, -6.64989091e-03, ...,\n          -8.34490210e-02,  7.35056549e-02,  3.91596407e-02],\n         [ 4.58238833e-02,  3.25156488e-02,  3.68177891e-03, ...,\n           1.96146891e-02, -5.16911149e-02, -7.18702450e-02],\n         [ 3.02822748e-03,  3.27753456e-04,  9.01627764e-02, ...,\n           5.56630604e-02, -1.95071567e-02, -7.13738650e-02],\n         ...,\n         [-2.78699435e-02,  4.97312695e-02, -5.50311524e-03, ...,\n           5.15114293e-02,  4.68690842e-02, -6.96351603e-02],\n         [ 9.75437649e-03,  3.69745307e-02, -1.25628905e-02, ...,\n          -1.23255961e-02,  4.00540009e-02, -5.73305227e-02],\n         [-2.04525441e-02,  3.28701250e-02, -5.23341484e-02, ...,\n           4.02208008e-02, -1.88222085e-03,  1.50585286e-02]]],\n       dtype=float32),\n '/BERT_encoder/transformer/layer_0/self_attention_layer_norm/beta:0': array([ 7.49807507e-02,  1.71608225e-01,  1.30567132e-02, -1.72391862e-01,\n        -3.80207933e-02,  1.47321850e-01,  4.07683700e-02, -5.39017601e-05,\n        -4.00543034e-01,  2.94297058e-02, -1.15433045e-01, -1.27813637e-01,\n        -1.41054273e-01, -1.88661993e-01, -7.20455311e-03,  4.70460840e-02,\n         7.32540116e-02, -2.02120375e-02, -3.63481343e-02,  2.08929051e-02,\n        -3.57081145e-02, -1.37717754e-01, -1.47134345e-02,  1.10167213e-01,\n        -7.21158311e-02, -3.79480362e-01, -3.62057477e-01,  7.77657405e-02,\n        -7.91864842e-02,  1.36209399e-01, -1.26156315e-01, -3.68602276e-01,\n        -7.78615428e-03, -1.25723109e-01,  9.49912891e-02,  2.71466643e-01,\n         2.83131115e-02,  9.56086721e-03, -1.03907287e-01, -6.47930950e-02,\n        -6.69078678e-02,  1.25047579e-01,  1.53793409e-01,  1.50114089e-01,\n         1.15161501e-01, -2.28324570e-02,  8.02333653e-02,  3.40430252e-02,\n        -2.76028275e-01, -1.32170524e-02, -1.24094985e-01,  1.15974851e-01,\n         1.10147446e-01, -1.00468464e-01,  1.46404104e-02,  1.42305747e-01,\n        -7.68897310e-02, -2.12691605e-01,  8.60824287e-02,  1.94256186e-01,\n         2.16901422e-01, -1.10002216e-02,  1.30051136e-01, -2.87304563e-03,\n         6.27987534e-02, -7.11974353e-02,  9.52757522e-03,  2.50123292e-02,\n        -1.70279481e-02, -1.00722015e-01,  1.74083009e-01, -8.06997567e-02,\n        -7.50127882e-02, -3.10274035e-01,  2.82430053e-02,  4.05899510e-02,\n        -6.95779100e-02, -3.15486133e-01,  2.15457007e-01,  1.03195924e-02,\n         1.32990032e-01, -1.27434423e-02,  2.12264434e-03, -2.07300186e-02,\n        -6.16026558e-02,  3.17998827e-01,  5.84295765e-02, -1.85054198e-01,\n         1.67773496e-02, -2.20718491e-03,  1.81688279e-01, -2.90185269e-02,\n         4.34458582e-03,  1.04119845e-01, -2.09801570e-02, -1.78543240e-01,\n        -1.29890710e-01,  1.93598364e-02, -4.03407037e-01, -1.86959747e-02,\n        -1.03763565e-01, -3.79173756e-02,  4.21943031e-02, -7.31097534e-03,\n        -1.67281386e-02, -1.08040698e-01, -5.17012831e-03, -2.09976628e-01,\n         2.67111156e-02, -3.61197703e-02, -1.16361044e-02, -1.00799173e-01,\n        -2.50213057e-01, -1.17370859e-01, -2.58396178e-01, -4.08427328e-01,\n         9.14122164e-02, -3.66444439e-01, -9.94471908e-02,  3.76869529e-01,\n         9.50458199e-02,  1.79343343e-01, -2.66544241e-02,  3.44599523e-02,\n        -2.03828335e-01, -1.24580331e-01, -6.52708039e-02, -1.29000902e-01,\n        -7.07918331e-02,  5.46845868e-02, -5.51654724e-03, -1.05026871e-01,\n        -9.98290256e-02, -4.91194241e-02,  6.05271876e-01,  3.65526043e-02,\n        -1.81690896e+00,  1.49063081e-01,  5.98117672e-02,  1.22440696e-01,\n        -4.78135096e-03, -8.15869123e-02, -1.13107279e-01, -1.38452172e-01,\n         1.39379114e-01,  1.62363112e-01, -7.41990879e-02, -2.53334828e-02,\n         1.55425109e-02, -1.09153811e-03,  4.54975784e-01, -4.92843837e-02,\n         7.24949699e-04, -7.97722209e-03,  4.59033325e-02,  2.80800182e-02,\n         6.20138407e-01, -4.09572460e-02,  1.06678352e-01,  1.98738903e-01,\n        -1.24599844e-01, -2.59705067e-01, -1.34233490e-01,  1.86332315e-01,\n         3.54017615e-02,  1.87029187e-02,  1.96073055e-01,  1.07517228e-01,\n        -7.62819648e-02, -4.21057865e-02, -1.38808966e-01,  7.10166171e-02,\n         2.52975896e-02,  2.97948886e-02, -1.04117692e-01,  4.58229296e-02,\n         1.73553918e-02, -2.06763864e-01,  1.51371524e-01, -1.48849815e-01,\n        -1.04533643e-01,  2.54753917e-01,  1.99885309e-01, -6.82262406e-02,\n         6.57991320e-02,  1.62227273e-01, -1.31100100e-02, -2.20488682e-02,\n        -1.29646733e-01,  6.23815581e-02,  5.60451904e-03,  3.54055688e-02,\n         7.19943717e-02, -4.42352563e-01, -1.37579173e-01,  1.07144907e-01,\n         6.65095672e-02,  1.42228333e-02, -8.53712708e-02,  2.29030214e-02,\n         4.00110520e-02,  6.48268834e-02, -5.87346442e-02, -1.51602224e-01,\n        -9.84951183e-02,  2.85083979e-01, -7.75767714e-02, -6.39647320e-02,\n        -7.06605380e-03,  9.12377387e-02, -7.81187192e-02,  5.18086314e-01,\n         2.63761524e-02, -3.39362808e-02, -2.29524374e-01,  1.26783162e-01,\n         3.20594311e-02, -8.11771378e-02, -1.36522710e-01, -8.09468627e-02,\n         2.40868285e-01, -9.28504765e-03, -3.75274010e-02, -2.77099401e-01,\n        -6.06176350e-03,  1.45214617e-01, -9.36876461e-02, -6.11613244e-02,\n         2.59821326e-01,  1.61090288e-02,  3.35268080e-02, -4.76210117e-02,\n         1.03054926e-01, -8.62954706e-02, -1.26745164e-01, -1.17519148e-01,\n        -5.05966023e-02,  3.81947644e-02,  4.79551777e-02,  2.31708232e-02,\n        -9.34313312e-02,  2.77398694e-02, -3.44255343e-02, -1.91244468e-01,\n         1.04309201e-01, -4.51111831e-02,  1.02217987e-01, -1.13225967e-01,\n         1.93486258e-01, -7.05447197e-02,  1.97693363e-01,  3.95971313e-02,\n        -1.46924024e-02,  1.26166614e-02,  7.79350251e-02,  4.35810424e-02,\n        -3.08337867e-01,  9.52560678e-02,  1.09769307e-01,  1.71412143e-03,\n         7.11644664e-02, -1.70341834e-01,  3.89506638e-01, -3.62995863e-02,\n         5.88648245e-02, -1.81109816e-01,  6.23150636e-03, -9.73993614e-02,\n         2.55446490e-02, -1.33264571e-01, -9.12063867e-02, -1.36415452e-01,\n         9.87064093e-02, -1.38268203e-01, -3.16485763e-02,  3.32845181e-01,\n        -1.33427644e+00, -6.52274638e-02, -8.74323100e-02,  7.58823305e-02,\n         2.69152284e-01, -7.05664232e-02, -8.28252360e-03,  1.59603462e-01,\n        -1.00627497e-01, -3.15089412e-02, -1.18285380e-01, -6.09593615e-02,\n         1.17880426e-01, -6.35883212e-02, -2.14288637e-01, -6.44941581e-03,\n         3.55888344e-02,  4.52818722e-02, -1.37915462e-01,  7.18704984e-02,\n         1.62499055e-01, -3.59725714e-01, -2.46585701e-02, -2.20086277e-01,\n        -1.24816939e-01,  1.27816070e-02, -4.65643071e-02, -2.96944827e-02,\n         1.91872314e-01,  3.65634486e-02, -5.89427091e-02,  5.07164784e-02,\n        -1.30394503e-04,  3.69179249e-01, -2.39642397e-01, -7.22821504e-02,\n        -8.62793848e-02, -6.35942891e-02, -1.79830462e-01, -3.97617556e-02,\n         9.75465328e-02,  4.70219515e-02, -5.23541719e-02,  2.06974700e-01,\n        -7.98636153e-02, -2.51948554e-02, -2.66813450e-02, -2.19256064e-04,\n        -6.15870133e-02,  1.33027449e-01,  4.32197116e-02, -4.68398184e-02,\n        -1.80588633e-01,  5.40137887e-01, -5.48465133e-01, -1.28039822e-01,\n        -3.78192887e-02,  2.44210158e-02,  3.11801374e-01,  8.48330930e-02,\n         1.15177415e-01, -1.15227975e-01, -1.69272557e-01,  1.18877813e-01,\n         9.65739340e-02,  7.32505843e-02,  1.47382855e-01,  1.75791129e-01,\n        -1.65262388e-03,  1.49517404e-02,  1.22300856e-01,  1.52495680e-02,\n         1.62473246e-01,  2.02230677e-01, -2.04027027e-01, -1.19924303e-02,\n        -1.90029532e-01,  5.00503927e-03,  2.60555089e-01, -2.10814238e-01,\n         1.43873262e+00, -7.93280676e-02, -5.02755083e-02,  1.81798533e-01,\n         2.72240281e-01, -1.34418860e-01,  4.32324260e-02, -6.21720739e-02,\n         2.71149158e-01,  9.92885083e-02, -4.19501439e-02, -4.40914510e-03,\n        -9.24016088e-02,  4.73780930e-02,  8.65399465e-02, -5.18892147e-02,\n        -3.30483653e-02,  1.86138883e-01, -8.55231360e-02, -1.56782746e-01,\n         1.53485522e-01,  1.84187412e-01,  1.12878524e-01, -1.97935835e-01,\n        -6.94320956e-03, -9.88601223e-02,  4.77483086e-02, -4.41863723e-02,\n        -2.10798513e-02,  7.75854141e-02, -1.95317611e-01,  1.27061829e-02,\n         1.69081792e-01, -8.98349211e-02,  1.21062942e-01,  1.63366020e-01,\n         3.66055220e-02,  1.29797339e-01,  5.91497347e-02,  5.56220375e-02,\n        -6.34380579e-02, -8.20937157e-02, -1.99317515e-01,  3.60535756e-02,\n         1.50889263e-01, -1.33965045e-01, -2.88636051e-02, -1.13329649e-01,\n        -8.98257550e-03,  1.03314161e-01,  9.47310477e-02, -6.74863532e-02,\n         2.51206923e-02,  2.26082373e-02,  9.76409912e-02, -2.39641905e-01,\n        -3.04280594e-02, -1.80632085e-01,  3.65288230e-03, -5.43690026e-02,\n         1.06309392e-01, -1.00881360e-01,  9.21192989e-02,  1.24370411e-01,\n         3.97819988e-02, -3.71077716e-01, -6.15128279e-02,  1.64999574e-01,\n         6.26540259e-02, -4.92824838e-02,  5.39679304e-02, -1.07918210e-01,\n         1.67192250e-01,  2.41877839e-01,  1.19232766e-01, -5.09275422e-02,\n         5.79491965e-02,  4.26013358e-02, -1.06271245e-01, -2.91660726e-02,\n        -5.20627320e-01,  2.25340113e-01, -1.80552322e-02, -1.88205287e-01,\n        -5.68183623e-02, -2.62108952e-01, -3.87724414e-02, -1.06092662e-01,\n         5.24420643e+00, -1.18677534e-01, -2.08153978e-01,  6.41100705e-02,\n         5.35521209e-02, -1.71263710e-01,  1.82646349e-01,  4.01152261e-02,\n         7.10835308e-02,  6.08245060e-02,  6.18851840e-01,  1.62961930e-01,\n        -9.06706825e-02, -9.92076471e-02,  8.69908705e-02, -2.06158161e-02,\n        -1.67851970e-01, -9.84388888e-02, -1.55184135e-01,  9.83914658e-02,\n        -6.53459504e-02, -6.55371100e-02,  5.09845614e-02,  6.50567934e-02,\n         1.65497407e-01,  2.30379730e-01, -1.10787369e-01, -7.77385011e-03,\n         2.31379867e-02, -5.52666001e-02, -1.01699002e-01,  9.73306745e-02,\n         9.40076634e-02,  1.93172544e-02, -1.08618857e-02, -1.07539490e-01,\n         2.54607350e-01,  1.80345669e-01,  1.79234996e-01,  3.40146273e-02,\n         6.61985353e-02, -1.48256421e-01,  2.82163024e-01, -5.79072088e-02,\n        -8.69276002e-02,  1.18847035e-01, -7.47315586e-02,  9.23679397e-02,\n         2.90359169e-01, -1.84744354e-02,  1.38193384e-01,  1.61361709e-01,\n        -7.17899650e-02, -1.94424346e-01, -1.97482750e-01, -7.53145814e-02,\n         4.11081314e-01,  3.69931646e-02,  6.05242066e-02, -1.41872894e-02,\n         1.44889235e-01,  2.19888464e-01,  2.76082814e-01,  4.24063839e-02,\n         3.93200740e-02, -1.90199897e-01,  4.02310714e-02,  1.05236404e-01],\n       dtype=float32),\n '/BERT_encoder/transformer/layer_0/self_attention_layer_norm/gamma:0': array([0.8391504 , 0.79536575, 0.78836364, 0.82906616, 0.8604128 ,\n        0.8388421 , 0.82413834, 0.8217481 , 0.77667564, 0.83633125,\n        0.82556117, 0.8538579 , 0.8353712 , 0.8126394 , 0.8889054 ,\n        0.83011657, 0.84231603, 0.82990474, 0.8337479 , 0.83333516,\n        0.8239636 , 0.8391439 , 0.8237391 , 0.60219556, 0.8497429 ,\n        0.8420655 , 0.8558726 , 0.82607263, 0.84209096, 0.8362621 ,\n        0.81434363, 0.7519684 , 0.8716662 , 0.84934396, 0.8329479 ,\n        0.83473235, 0.81547606, 0.7966371 , 0.8896865 , 0.8470484 ,\n        0.8156073 , 0.8596317 , 0.8417135 , 0.8285175 , 0.8367597 ,\n        0.8261111 , 0.81295353, 0.8394137 , 0.8450572 , 0.9323437 ,\n        0.8533917 , 0.82629347, 0.82616967, 0.82394123, 0.82269007,\n        0.8177791 , 0.7903955 , 0.8489326 , 0.8169251 , 0.78077793,\n        0.86390024, 0.88831526, 0.7772883 , 0.8483023 , 0.8105647 ,\n        0.81065434, 0.80092955, 0.83663875, 0.82777554, 0.8041213 ,\n        0.8363539 , 0.8301707 , 0.8244811 , 0.822574  , 0.8241625 ,\n        0.8346063 , 0.8233193 , 0.822597  , 0.82399946, 0.8043765 ,\n        0.8147766 , 0.83396995, 0.82701576, 0.8286433 , 0.8643767 ,\n        0.80593103, 0.77623117, 0.80440503, 0.84424096, 0.83088124,\n        0.82626534, 0.8076803 , 0.80762535, 0.803268  , 0.82376546,\n        0.83662856, 0.8178451 , 0.83311445, 0.8585249 , 0.8297714 ,\n        0.81412256, 0.7981888 , 0.79189503, 0.80705553, 0.8591287 ,\n        0.8100803 , 0.8417164 , 0.8381903 , 0.7882329 , 0.87239903,\n        0.81676537, 0.7968991 , 0.8171827 , 0.8699608 , 0.84987926,\n        0.82493067, 0.82992715, 0.8585364 , 0.8240398 , 0.9116496 ,\n        0.8365056 , 0.6048159 , 0.83058697, 0.8367116 , 0.84488696,\n        0.8283023 , 0.83501214, 0.84055394, 0.8229949 , 0.8406497 ,\n        0.8971665 , 0.86432666, 0.8108727 , 0.8224121 , 0.62264204,\n        0.8298855 , 0.9182223 , 0.856992  , 0.8122942 , 0.8754453 ,\n        0.83175576, 0.82489043, 0.82982326, 0.8175612 , 0.81305754,\n        0.8233388 , 0.80603915, 0.8114286 , 0.8220836 , 0.88167167,\n        0.7782867 , 0.8229146 , 0.841398  , 0.8174723 , 0.7972478 ,\n        0.8420567 , 0.7245255 , 0.8627642 , 0.83276296, 0.8179322 ,\n        0.8408966 , 0.8279492 , 0.8272791 , 0.8598731 , 0.8165218 ,\n        0.84143215, 0.89911413, 0.83912206, 0.82306224, 0.83578366,\n        0.8282145 , 1.0291231 , 0.8348644 , 0.8627995 , 0.85037273,\n        0.8434329 , 0.8206538 , 0.85303414, 0.8421006 , 0.84843874,\n        0.83608365, 0.81027293, 0.84407914, 0.8467551 , 0.8769808 ,\n        0.8466674 , 0.8031193 , 0.80285174, 0.8498277 , 0.7995214 ,\n        0.831454  , 0.8528348 , 0.7901498 , 0.8262151 , 0.7938214 ,\n        0.8607926 , 0.8386114 , 0.81152713, 0.85274863, 0.8662034 ,\n        0.83598804, 0.8308327 , 0.87423253, 0.8077496 , 0.8320831 ,\n        0.8513619 , 0.87293935, 0.8266004 , 0.81756586, 0.8412655 ,\n        0.87422097, 0.8314731 , 0.8490412 , 0.8645497 , 0.81165016,\n        0.83688396, 0.8172788 , 0.8865003 , 0.8289474 , 0.8279821 ,\n        0.79857606, 0.778472  , 0.83506703, 0.8114197 , 0.8141543 ,\n        0.81712425, 0.8515515 , 0.893942  , 0.8436366 , 0.8486774 ,\n        0.8118758 , 0.8506606 , 0.85635287, 0.8578715 , 0.8085341 ,\n        0.84413767, 0.85585403, 0.91548556, 0.84420305, 0.81470203,\n        0.84562314, 0.8545827 , 0.86354357, 0.7369074 , 0.84226   ,\n        0.7660874 , 0.824624  , 0.8353775 , 0.8248689 , 0.84057516,\n        0.8191634 , 0.82249177, 0.81585133, 0.81396914, 0.8424678 ,\n        0.8209771 , 0.8643164 , 0.79391974, 0.7902939 , 0.8481816 ,\n        0.81080747, 0.8486744 , 0.56799984, 0.88113654, 0.8563051 ,\n        0.83751816, 0.8639095 , 0.79443425, 0.876509  , 0.8647724 ,\n        0.8495069 , 0.8180846 , 0.8198633 , 0.82106495, 0.8468143 ,\n        1.2360696 , 1.3205893 , 0.85504216, 0.8577659 , 0.87253284,\n        0.83394307, 0.8401875 , 0.8614332 , 0.8044576 , 0.82842505,\n        0.83618146, 0.8319658 , 0.8104041 , 0.8212591 , 0.8611388 ,\n        0.81329733, 0.8606735 , 0.8420324 , 0.8466522 , 0.848024  ,\n        0.81235325, 0.8280104 , 0.8733462 , 0.8137833 , 0.77835155,\n        0.8165699 , 0.8293798 , 0.8067127 , 0.8156148 , 0.8271683 ,\n        0.8080999 , 0.823541  , 0.82683086, 0.83918774, 0.8064865 ,\n        0.8335064 , 0.79930854, 0.8468599 , 0.8538731 , 0.81692857,\n        0.8326767 , 0.8418576 , 0.85787785, 0.8462651 , 0.83503044,\n        0.79750454, 0.81113195, 0.8095535 , 0.8570147 , 0.82625335,\n        0.8286632 , 0.8650039 , 0.83346236, 0.6416901 , 0.83698994,\n        0.8350089 , 0.86466223, 0.82583094, 0.8154423 , 0.71606785,\n        0.8477453 , 0.8365026 , 0.8256946 , 0.8516823 , 0.8412051 ,\n        0.8419441 , 0.83222693, 0.82962763, 0.83943796, 0.8382805 ,\n        0.816335  , 0.7929559 , 0.83025503, 0.859769  , 0.87204754,\n        0.73633903, 0.8347462 , 0.8749386 , 0.87045485, 0.84779215,\n        0.84311205, 0.8717068 , 0.79978156, 0.8523627 , 0.83654225,\n        0.8436471 , 0.8022756 , 0.82569355, 0.8156694 , 0.8880975 ,\n        0.80489874, 0.837738  , 0.8588179 , 0.8332606 , 0.8464348 ,\n        0.84517264, 0.85183734, 0.86118513, 0.8122015 , 0.8484117 ,\n        0.8886439 , 0.8416225 , 0.8521546 , 0.86105675, 0.83927256,\n        0.8323425 , 0.8246887 , 0.83485174, 0.83983546, 0.82568896,\n        0.83511984, 0.75655836, 0.8145655 , 0.8157472 , 0.8629374 ,\n        0.8155712 , 0.8524246 , 0.83165294, 0.8452736 , 0.8244557 ,\n        0.8316889 , 0.8769364 , 0.8659423 , 0.83435476, 0.80222034,\n        0.79218006, 0.7912887 , 0.8053468 , 0.84277576, 0.92390877,\n        0.8265192 , 0.85107356, 0.857074  , 0.82825816, 0.834538  ,\n        0.8141541 , 0.8142225 , 0.8499244 , 0.8562509 , 0.8454438 ,\n        0.8318952 , 0.83206636, 0.8566871 , 0.8334643 , 0.85781866,\n        0.8880935 , 0.667599  , 0.8236079 , 0.812297  , 0.7864466 ,\n        0.8469005 , 0.83006674, 0.8336069 , 0.8472135 , 0.8124158 ,\n        0.8241847 , 0.84858906, 0.85105205, 0.82116395, 0.88100713,\n        0.8923076 , 0.8376611 , 0.83970535, 0.7985051 , 0.85061204,\n        0.8515293 , 0.8070844 , 0.83101475, 0.8122388 , 2.0313497 ,\n        0.82014203, 1.0726911 , 0.8281336 , 0.83920836, 0.86413264,\n        0.8390678 , 0.819932  , 0.8525988 , 0.8573227 , 0.732378  ,\n        0.8199969 , 0.80303836, 0.84688604, 0.8264252 , 0.8186029 ,\n        0.8700648 , 0.8511453 , 0.840504  , 0.9858459 , 0.79361665,\n        0.8536462 , 0.85055834, 0.8550596 , 0.8400138 , 0.6680509 ,\n        0.90000135, 0.87000597, 0.8510187 , 0.8141419 , 0.8960933 ,\n        0.8475827 , 0.8510278 , 0.8224482 , 0.83903545, 0.80298805,\n        0.84293664, 0.82155687, 0.8351266 , 0.8555983 , 0.83782506,\n        0.8177429 , 0.819068  , 0.84278417, 0.791249  , 0.8567998 ,\n        0.764771  , 0.85348517, 0.8478572 , 0.8433764 , 0.82425267,\n        0.781211  , 0.82486784, 0.9034101 , 0.84313595, 0.8152956 ,\n        0.85609794, 0.79369724, 0.8197384 , 0.90704274, 0.84600455,\n        0.8538041 , 0.85225517, 0.8505863 , 0.8268918 , 0.8297293 ,\n        0.8422852 , 0.8283791 ], dtype=float32),\n '/BERT_encoder/transformer/layer_1/intermediate/bias:0': array([ 0.02812891, -0.05665875, -0.04086991, ..., -0.04808676,\n        -0.11574809, -0.04562348], dtype=float32),\n '/BERT_encoder/transformer/layer_1/intermediate/kernel:0': array([[-0.02024677,  0.00016224,  0.03963019, ..., -0.00997815,\n         -0.04687835, -0.02964987],\n        [-0.0112031 ,  0.03567797, -0.05876561, ..., -0.03785478,\n         -0.06895556, -0.04978042],\n        [-0.0382139 ,  0.09633218,  0.05045584, ..., -0.01535217,\n         -0.05785289,  0.01463203],\n        ...,\n        [ 0.00326795, -0.03698364,  0.06393824, ...,  0.06547455,\n          0.13587989,  0.06495693],\n        [-0.03953077, -0.03646689,  0.04381651, ...,  0.02864837,\n          0.01247635, -0.00753798],\n        [ 0.0197138 ,  0.03160294, -0.00190338, ..., -0.01751784,\n         -0.02837594, -0.03870062]], dtype=float32),\n '/BERT_encoder/transformer/layer_1/output/bias:0': array([ 2.72513125e-02, -2.06872541e-03, -6.41542375e-02, -6.83655683e-03,\n         2.23410595e-02, -2.03597080e-02, -2.87558790e-02, -5.94414445e-03,\n         4.22281623e-02,  3.11332326e-02,  2.19601002e-02,  2.34012213e-02,\n        -3.68247889e-02,  2.22327076e-02,  7.06147589e-03,  2.57931370e-02,\n         5.45226829e-03,  7.17042107e-03,  3.87970693e-02, -5.34817576e-02,\n         5.69508448e-02, -7.61207491e-02, -1.47854015e-02, -1.66939814e-02,\n        -1.23695843e-02, -6.61283382e-04,  1.50264613e-02, -1.93725387e-03,\n        -3.27249132e-02, -1.13720186e-02,  1.34956585e-02,  1.22230202e-02,\n        -3.58069576e-02, -2.19155708e-03, -1.82956792e-02, -3.65923345e-02,\n        -8.46648868e-03,  4.13228571e-03,  1.45044457e-02, -1.59785971e-02,\n        -3.21494299e-03, -1.03158299e-02, -5.27588045e-03,  2.37820856e-02,\n         4.21131179e-02, -4.55189031e-03,  1.96603145e-02, -1.16106505e-02,\n        -1.05838016e-01,  6.90623894e-02,  2.77988687e-02, -2.64488477e-02,\n        -3.99128534e-02, -5.54772541e-02, -2.09785551e-02,  2.30608787e-02,\n        -4.52930741e-02, -2.31747366e-02,  3.22684683e-02, -2.70094927e-02,\n        -7.95741454e-02, -5.28887957e-02, -1.51724257e-02, -6.26996916e-05,\n         3.50982621e-02, -8.46865326e-02,  2.47030705e-02, -1.26489718e-02,\n         1.58183482e-02,  9.09943879e-03, -4.97192778e-02, -3.23055722e-02,\n        -7.64294527e-03, -4.63674627e-02, -3.88702080e-02, -1.94689427e-02,\n        -3.19660008e-02, -8.45070835e-03, -2.56309267e-02, -9.99057293e-03,\n         2.74734665e-02, -3.08551104e-03,  2.94865598e-03, -1.73890982e-02,\n        -9.30952281e-02,  3.27123515e-02,  3.82526452e-03,  2.07679234e-02,\n        -1.07512837e-02, -1.31033175e-02, -9.41446126e-02,  4.07687202e-02,\n        -6.98101940e-03,  9.06423293e-03, -8.64393730e-03,  2.32218970e-02,\n        -5.39095215e-02, -4.77584340e-02, -6.45560250e-02, -1.75255295e-02,\n        -2.14770157e-02,  2.91212201e-02,  8.37706681e-03,  7.98779912e-03,\n         8.38213228e-03, -2.43430492e-02, -1.55848311e-02,  1.90857239e-02,\n        -3.54278162e-02, -1.59498323e-02, -3.44170220e-02, -2.42099129e-02,\n        -4.26540896e-02, -2.26529408e-02, -2.00031418e-02,  2.43367031e-02,\n         1.56427585e-02, -1.94464810e-02, -2.61043273e-02, -3.09842173e-03,\n         5.75915650e-02, -2.99008973e-02, -1.76458322e-02,  1.75104290e-02,\n        -9.95822437e-03, -6.58967718e-02,  6.14304692e-02,  1.99164860e-02,\n        -4.10138778e-02, -8.19526147e-03, -1.94568392e-02, -1.58091984e-03,\n         3.58079709e-02,  8.18516221e-03,  3.37497424e-03, -2.72529107e-03,\n         3.22118066e-02,  3.42430957e-02, -4.78479639e-02, -2.22531473e-03,\n        -2.71704537e-03, -3.85132283e-02, -3.57833989e-02, -2.22752756e-03,\n         2.31290180e-02,  2.56379507e-02, -9.78260301e-03, -5.76081462e-02,\n         2.93061268e-02, -2.93720476e-02,  2.34077889e-02, -4.06275578e-02,\n        -2.15679817e-02,  2.96813101e-02,  2.21809167e-02,  8.39272700e-03,\n        -5.39706685e-02, -5.90168983e-02,  8.20274577e-02, -3.44980806e-02,\n         4.06036824e-02,  3.81948985e-02, -2.98354612e-03,  1.99703500e-02,\n         1.02210906e-03,  2.20862739e-02,  1.17736012e-02,  1.05650080e-02,\n         8.01344682e-03, -3.03459819e-02,  2.10876740e-03,  3.21710110e-02,\n        -3.56043763e-02,  2.61154659e-02, -3.26919556e-02,  2.71253772e-02,\n        -1.30146844e-02, -8.51000287e-03,  8.72042775e-03,  1.47278067e-02,\n         2.65323482e-02,  2.57819425e-02, -3.63922911e-03, -4.94668186e-02,\n         2.55534258e-02,  3.42299528e-02,  4.85473536e-02,  4.66261990e-02,\n        -9.26802866e-03, -4.05587815e-02, -4.73634563e-02,  4.23734970e-02,\n         1.39089003e-02, -5.07688113e-02,  1.53873740e-02, -1.73137505e-02,\n        -6.49289787e-02,  7.90013671e-02, -2.51833405e-02,  6.24294765e-03,\n        -8.88156705e-03, -1.09651554e-02, -4.61744703e-03,  1.98186543e-02,\n         8.44493043e-03,  6.11004606e-02,  3.06161307e-02, -3.30116153e-02,\n        -2.16870196e-02,  7.30951084e-03,  1.14794383e-02,  9.69975907e-03,\n        -3.23639661e-02, -4.75153513e-02,  1.67475492e-02, -6.90061450e-02,\n        -3.57906893e-02, -2.60211136e-02, -6.71529472e-02, -1.08135687e-02,\n         8.26968923e-02, -1.47946486e-02,  1.57102011e-02, -8.81906040e-03,\n         8.38572811e-03, -2.04614811e-02, -2.87679546e-02,  1.86198931e-02,\n         2.19487585e-02, -1.65460091e-02,  2.72228103e-02, -3.58051844e-02,\n         1.20446021e-02,  1.07991062e-02,  7.11492226e-02,  3.97111699e-02,\n         4.01238771e-03, -3.56150493e-02, -3.40815783e-02,  5.36331497e-02,\n         4.39595664e-03, -4.51029539e-02,  4.74323481e-02,  2.41252035e-02,\n        -2.48838663e-02, -1.95665658e-02,  4.26587053e-02,  3.68700027e-02,\n         2.35161278e-02,  5.50570488e-02,  6.21141680e-02,  1.82340834e-02,\n         1.19680585e-02,  2.54857466e-02, -2.53503583e-02,  1.26174781e-02,\n         6.67518890e-03,  2.65623517e-02, -7.39872083e-03,  5.46595044e-02,\n        -1.39418757e-02,  1.15005954e-04,  3.15206908e-02,  8.45246948e-03,\n        -1.59115568e-02, -2.89566889e-02,  1.02203721e-02, -2.21032258e-02,\n         2.48913430e-02, -4.65233549e-02,  1.73360966e-02,  1.72944386e-02,\n         1.68426021e-03, -7.84135051e-03, -5.66104911e-02, -2.15064064e-02,\n         1.07657976e-01, -4.41690348e-03,  5.24334721e-02,  1.36176944e-02,\n        -2.23995280e-02,  1.47431367e-03, -9.15424153e-03,  1.82256512e-02,\n        -2.06503738e-02,  1.79816689e-02, -8.06015506e-02, -1.97237525e-02,\n        -2.57219095e-02,  2.56685284e-03,  7.20084086e-02, -3.84636223e-02,\n         2.75523607e-02,  5.04388660e-03, -6.53054565e-03,  2.22327951e-02,\n         3.42130512e-02,  4.03728615e-03,  4.42361683e-02,  5.95425293e-02,\n         2.39258111e-02,  2.13463381e-02, -5.55154383e-02,  3.69734317e-02,\n         2.33040936e-02,  6.74832761e-02,  5.10497503e-02, -1.07859252e-02,\n        -3.22256871e-02, -2.64868159e-02, -1.08386287e-02, -1.04029430e-02,\n        -3.06528080e-02, -5.54786697e-02,  1.76268409e-03, -1.76489111e-02,\n         6.98017795e-03, -3.19848768e-02, -2.82892808e-02, -5.89441732e-02,\n        -1.01649517e-03,  1.64458957e-02, -3.27798203e-02,  7.27600884e-03,\n         2.00397708e-02,  2.81802136e-02,  4.13063467e-02, -8.31014961e-02,\n         2.51148716e-02, -6.63725100e-03,  2.81728972e-02, -3.51651907e-02,\n         5.96889816e-02,  5.13791926e-02,  1.04413033e-01, -1.93904880e-02,\n         4.99620102e-03, -6.48705522e-03, -7.18553923e-03,  3.36710103e-02,\n        -3.80839705e-02,  2.94160191e-02,  3.40590626e-02, -7.18029262e-03,\n         1.94838885e-02, -3.77749000e-03, -8.02312717e-02, -3.76080759e-02,\n         1.19193690e-02,  1.40769323e-02,  5.84009625e-02,  2.14498993e-02,\n         1.15499245e-02, -2.82210708e-02,  2.74933092e-02,  1.00359591e-02,\n        -4.54432843e-03,  3.83131765e-02, -4.40305956e-02,  4.46801223e-02,\n         5.46497069e-02,  1.22989453e-02,  2.81714257e-02,  1.52304750e-02,\n        -3.24804820e-02, -2.12453734e-02,  8.00210983e-02, -2.26928992e-03,\n        -2.30589639e-02,  3.65733891e-03,  4.29282151e-02,  7.73474351e-02,\n        -2.70663425e-02, -4.72387532e-03,  4.35520671e-02, -9.69414413e-03,\n        -3.43873340e-04, -9.95990261e-03,  1.07959090e-02, -2.19143163e-02,\n        -1.43848741e-02,  4.10217196e-02, -8.02867301e-03,  3.34127177e-03,\n         7.41187260e-02,  1.79145932e-02, -4.78254892e-02,  5.60113452e-02,\n         4.50896695e-02,  2.75030709e-03,  1.20323095e-02, -3.80019657e-02,\n        -3.58844586e-02,  4.87184618e-03,  2.17540506e-02, -2.04891991e-02,\n         6.97694998e-03,  5.70639223e-02,  2.00336371e-02,  3.70249711e-02,\n         3.70040610e-02,  7.35763879e-03, -7.70900473e-02, -2.95316167e-02,\n         1.09250713e-02,  2.39593778e-02, -1.94341205e-02, -3.71489488e-02,\n         2.65925825e-02, -8.14773515e-03, -1.86705794e-02,  4.82661389e-02,\n        -3.75851616e-02,  2.12830715e-02, -3.00993137e-02, -1.38572883e-02,\n        -2.89076213e-02,  8.80669802e-03,  6.74659712e-03, -1.08966911e-02,\n         3.77642885e-02, -6.31323680e-02, -2.21436825e-02,  8.22461955e-03,\n        -3.25645655e-02,  6.71098530e-02,  4.09671962e-02,  3.54954079e-02,\n         5.65753132e-02,  2.84159780e-02, -1.31114889e-02, -2.56796144e-02,\n        -3.13263349e-02,  1.15284119e-02, -2.69521717e-02,  1.06217265e-02,\n         2.34848522e-02, -4.46811244e-02,  1.54946428e-02,  1.83951447e-03,\n         5.26005030e-03,  1.16108572e-02, -7.13111907e-02,  3.56500931e-02,\n         1.51828835e-02, -3.00301728e-03, -2.04482414e-02, -3.46559361e-02,\n         2.28141807e-02, -2.00599432e-02,  2.91696545e-02,  5.42688463e-03,\n         1.71093401e-02,  3.00344136e-02,  1.55180590e-02,  1.88906379e-02,\n         1.35282995e-02,  4.18905681e-03,  9.43772309e-03,  2.22150460e-02,\n         5.35232909e-02,  2.03596670e-02,  3.03395726e-02,  4.19547893e-02,\n         2.51698289e-02, -4.03198553e-03, -3.06135509e-02,  5.83843663e-02,\n         7.59492395e-03,  8.92834961e-02, -6.81930706e-02,  2.39426289e-02,\n        -2.25570798e-03, -4.61334810e-02, -1.09895412e-02,  2.58971229e-02,\n        -1.51351641e-03,  5.80062065e-03, -5.10827489e-02,  7.53272558e-03,\n         2.57202033e-02, -2.13218220e-02,  1.66143216e-02, -1.70681998e-02,\n        -3.33151668e-02,  3.62071246e-02, -4.09842990e-02,  3.42635438e-02,\n        -2.11991230e-03, -5.51072024e-02, -9.60025713e-02, -2.18481687e-03,\n         3.26494910e-02, -5.44717759e-02,  1.99963581e-02, -3.83314900e-02,\n        -2.63655372e-02, -5.42492233e-02, -1.56872179e-02,  4.97740656e-02,\n        -1.23201534e-02,  1.58691884e-03,  3.15851904e-02,  8.27425253e-03,\n        -4.48616967e-03, -1.11082057e-03,  3.72534692e-02, -1.11847473e-02,\n         5.46097010e-02, -3.97974662e-02,  1.38897132e-02,  1.88699830e-02],\n       dtype=float32),\n '/BERT_encoder/transformer/layer_1/output/kernel:0': array([[-0.06299976,  0.06511506,  0.00780691, ...,  0.02007761,\n         -0.02359728, -0.01270639],\n        [-0.09943805, -0.01484763, -0.06297401, ..., -0.06547856,\n         -0.02678198, -0.03769184],\n        [-0.03248046,  0.04233177, -0.02772333, ..., -0.02711714,\n          0.04351062,  0.04552975],\n        ...,\n        [-0.01396287, -0.0588874 , -0.06067162, ...,  0.08157465,\n          0.02240846,  0.01426721],\n        [-0.04903215, -0.08016339, -0.00224704, ...,  0.09345739,\n          0.02242028, -0.04122203],\n        [-0.05006585, -0.05960372,  0.00461613, ..., -0.01784631,\n         -0.02220362,  0.07695705]], dtype=float32),\n '/BERT_encoder/transformer/layer_1/output_layer_norm/beta:0': array([-3.50765660e-02, -6.47366568e-02,  5.81041537e-02,  2.61812415e-02,\n         2.13664714e-02, -2.23524738e-02,  2.15713698e-02, -5.56323603e-02,\n         6.82960376e-02, -2.91253123e-02,  1.71538237e-02,  3.88942659e-02,\n         4.22707684e-02,  7.87870064e-02,  6.51338100e-02,  3.87042877e-03,\n        -1.95791330e-02,  3.61110494e-02, -6.87207235e-03,  3.67619246e-02,\n         4.24359813e-02, -4.27623605e-03,  1.44870756e-02, -4.55293618e-02,\n         3.97486240e-02,  1.32967055e-01,  1.21008769e-01, -2.68480945e-02,\n         3.71160135e-02, -8.50727223e-03, -4.12486354e-03,  1.12568215e-01,\n         4.81369719e-02,  7.60176554e-02, -3.70812789e-02, -7.20046908e-02,\n        -4.44902480e-02,  9.23392028e-02,  6.02348596e-02, -1.36172567e-02,\n         2.83312146e-02,  1.01608811e-02, -5.22643104e-02, -1.59238819e-02,\n        -1.74344741e-02,  2.94652656e-02, -2.70826072e-02,  2.34927963e-02,\n         1.47357145e-02,  1.56980343e-02,  2.97261532e-02, -1.26878945e-02,\n         9.42041352e-03, -4.74793352e-02,  8.84040911e-03, -2.56447867e-02,\n         7.21699223e-02,  6.70269504e-02, -2.86406185e-02, -8.44227225e-02,\n         1.09066041e-02,  5.63532636e-02, -6.34289980e-02,  2.14038286e-02,\n        -3.69476005e-02,  2.47855820e-02,  6.93255439e-02, -3.27156559e-02,\n         4.84399907e-02,  5.96861839e-02, -3.68401743e-02,  2.56209765e-02,\n         2.96700820e-02,  4.58378978e-02,  1.84093174e-02, -2.26632357e-02,\n         6.69130534e-02,  9.45061147e-02, -2.87371036e-02, -1.53556222e-03,\n        -2.10196711e-02, -2.01890431e-02, -2.44071148e-02,  2.53121853e-02,\n         7.30332127e-03, -5.21764494e-02, -1.98875312e-02,  3.36524025e-02,\n         1.06299501e-02,  1.32619534e-02, -2.79978123e-02,  8.51671025e-02,\n        -1.88697362e-03,  1.75773185e-02,  1.00156646e-02,  1.05558358e-01,\n         1.37341730e-02, -4.52163965e-02,  5.66700920e-02,  1.20642874e-02,\n         5.82830161e-02,  1.18160341e-02,  2.98972465e-02,  1.93585586e-02,\n        -2.67362446e-02,  5.22023439e-02, -6.06196970e-02,  8.61282051e-02,\n         1.78339239e-02,  6.54409677e-02, -1.83520988e-02,  5.76720759e-02,\n         6.12990074e-02,  1.64970923e-02,  1.20977707e-01,  5.65736853e-02,\n         1.97024867e-02,  6.16252311e-02,  2.26556379e-02, -1.03724189e-01,\n         2.74699461e-03,  7.89895728e-02,  3.56728137e-02,  3.19814123e-02,\n         9.31941196e-02,  6.26479164e-02,  7.35453814e-02, -1.38420388e-02,\n         2.62498800e-02, -2.95460057e-02, -5.04227728e-02,  3.46694281e-03,\n         5.67000732e-02,  4.15795185e-02, -1.81647345e-01, -8.09430517e-03,\n         1.37721449e-02, -1.55743686e-02, -4.02433164e-02, -1.17357075e-02,\n         1.31316055e-02,  9.74103361e-02,  3.01911142e-02,  6.96380064e-02,\n        -7.90563747e-02, -2.89584044e-02,  1.90066751e-02,  1.22778239e-02,\n        -6.70523150e-03,  2.58993246e-02, -6.06932901e-02,  9.13928170e-03,\n        -2.92615350e-02,  7.06644133e-02,  1.19244978e-02,  2.75417697e-02,\n        -7.07394853e-02,  9.23989564e-02, -1.92689486e-02, -9.35870036e-03,\n         1.45531610e-01,  1.15048520e-01,  6.69306368e-02, -4.69791666e-02,\n         2.70585138e-02,  3.03542074e-02, -1.04644760e-01,  1.55585092e-02,\n         9.50692967e-02,  2.12878194e-02,  4.85323519e-02, -7.19969794e-02,\n        -2.44886763e-02,  3.86023894e-02,  3.46361324e-02,  3.23799253e-03,\n        -3.73202339e-02,  8.28259587e-02, -4.50947247e-02,  1.01745509e-01,\n         2.43715364e-02,  2.28050314e-02, -6.57495260e-02,  4.09161560e-02,\n        -4.79923971e-02, -3.23824733e-02,  8.15048907e-03, -1.63503420e-02,\n         6.77101761e-02, -1.16043789e-02,  4.56134528e-02,  3.78197879e-02,\n        -4.40939181e-02,  2.99130410e-01,  7.83886164e-02,  3.01533286e-03,\n         8.33976548e-03,  5.03109060e-02,  5.87151712e-03, -3.10377255e-02,\n         2.98906248e-02, -4.48542722e-02,  1.08133860e-01,  8.59258696e-02,\n         5.79292700e-02,  1.08224079e-02,  3.13855372e-02,  2.58685946e-02,\n         6.88368380e-02, -1.23487366e-02,  5.66011705e-02, -2.47366820e-02,\n         2.62316279e-02,  1.27665186e-02,  6.52318746e-02, -2.59679034e-02,\n         1.06103707e-03,  4.47487831e-02,  8.91602598e-03,  4.71767038e-02,\n        -1.23287104e-01,  2.25100219e-02,  2.61010118e-02,  8.39559808e-02,\n         6.73569227e-03, -2.86033954e-02,  4.83880565e-02, -1.38034681e-02,\n        -3.82605121e-02,  1.20467064e-03,  2.71494519e-02,  2.40507163e-02,\n        -2.70444322e-02,  4.01367201e-03,  6.66416585e-02,  5.28538041e-02,\n         8.10255110e-02,  4.94550280e-02,  1.08698572e-04,  1.84842777e-02,\n         1.63595658e-02,  7.52988877e-03,  1.06301852e-01,  1.38038874e-01,\n        -2.50545628e-02,  5.47679588e-02, -6.72080219e-02,  2.66806204e-02,\n        -1.28153702e-02,  4.70743179e-02, -8.75858124e-03, -2.85320207e-02,\n         2.21509673e-02,  5.10627069e-02,  3.99507508e-02, -7.76655134e-03,\n         1.68550480e-02, -7.74796829e-02, -2.45306566e-02,  1.06677478e-02,\n         1.95440724e-02,  9.63063389e-02, -1.76239923e-01, -1.83290653e-02,\n         1.21575948e-02,  7.58327246e-02,  1.03935339e-02,  8.59772414e-02,\n        -6.61072042e-03,  7.88115710e-02,  6.16124049e-02,  5.03362566e-02,\n        -3.41549851e-02,  2.15986241e-02,  8.59241467e-03, -3.14326704e-01,\n        -2.03865156e-01,  5.24273850e-02,  5.22689559e-02,  1.82832871e-02,\n        -1.29682887e-02,  6.23593964e-02,  3.99302952e-02, -4.49446216e-02,\n         2.90778857e-02,  1.52796134e-02,  3.40625718e-02,  2.81708017e-02,\n        -5.14598116e-02,  5.13695702e-02,  7.31972381e-02,  3.74874808e-02,\n        -1.73744969e-02, -1.74772255e-02,  7.39030018e-02, -2.04158146e-02,\n        -2.03719102e-02,  1.08784169e-01, -4.82891575e-02,  1.04276419e-01,\n         1.99005082e-02,  6.02969117e-02,  3.20283249e-02,  7.71663990e-03,\n        -5.48978746e-02,  1.09026339e-02,  4.77371737e-02, -4.41755122e-03,\n         4.90170578e-03, -6.73726201e-02,  1.19096033e-01,  5.91534972e-02,\n         5.77445254e-02,  3.85742746e-02,  9.09048840e-02,  3.15533727e-02,\n        -7.08338320e-02,  3.79099436e-02,  1.09093040e-02, -2.53312103e-02,\n         3.62995751e-02,  3.25113698e-03,  5.73532693e-02, -7.99099077e-03,\n         4.10064273e-02, -1.37355132e-02,  1.80958845e-02,  5.53251132e-02,\n         8.94653797e-02, -6.98790774e-02,  1.24016851e-01,  6.78166002e-02,\n         4.09821644e-02,  2.60206442e-02, -1.64534990e-02, -6.81250989e-02,\n         3.10874768e-02,  9.04525220e-02,  8.80526453e-02, -6.96340296e-03,\n        -1.40389297e-02, -5.27990190e-03, -1.10686738e-02, -7.04583600e-02,\n         3.87547985e-02, -4.68198471e-02, -2.54674405e-02, -9.63468757e-03,\n        -2.65450254e-02, -6.59561679e-02,  1.22231938e-01, -5.87926619e-03,\n         2.33920794e-02,  6.74088299e-02, -9.67394114e-02,  9.39299911e-02,\n        -4.30400111e-02,  6.39685169e-02, -3.22691165e-02,  3.77071910e-02,\n        -1.92644019e-02,  6.49025813e-02,  9.11970139e-02,  1.09369252e-02,\n        -2.48855911e-02, -1.82120770e-03,  5.43007068e-02,  1.13081690e-02,\n         2.81317290e-02, -8.58593080e-03, -1.19091161e-02,  4.55129556e-02,\n         4.01222222e-02,  7.96584692e-03, -1.75120123e-02,  7.61912018e-02,\n        -7.39206076e-02,  7.95532856e-03,  8.83528311e-03,  1.22731216e-01,\n        -3.64726782e-02,  6.47119135e-02,  2.12063435e-02,  1.33670727e-02,\n        -2.16061696e-02,  3.85866389e-02,  6.05346523e-02,  2.21491177e-02,\n        -8.02682899e-03, -1.82717331e-02, -2.01772265e-02, -9.21154916e-02,\n         2.25035083e-02, -8.08010399e-02, -8.83983914e-03, -3.09816212e-03,\n        -1.13388682e-02,  3.74956205e-02,  9.68844295e-02,  9.19087753e-02,\n        -3.32983546e-02,  9.61816236e-02,  4.88284640e-02,  5.92247583e-02,\n        -8.43826085e-02, -3.79110277e-02,  4.03397391e-03,  4.19407114e-02,\n         3.07345530e-03, -1.26226610e-02, -3.93315963e-02,  8.71681646e-02,\n         2.01754142e-02,  3.84068601e-02,  6.41751662e-03,  8.74422863e-03,\n        -9.84622049e-04,  2.95577794e-02, -7.57470587e-03, -5.81409708e-02,\n         3.10949329e-03,  4.23300937e-02,  3.88500243e-02, -1.03588916e-01,\n         1.01819579e-02,  4.55913134e-02,  1.98494531e-02,  5.74541874e-02,\n        -5.11422306e-02, -9.58474055e-02, -2.06475835e-02,  1.50324423e-02,\n        -3.63669582e-02, -1.98985872e-04,  1.07839897e-01, -3.83664109e-02,\n         2.47977767e-02, -8.00045580e-02,  4.80016842e-02,  4.80099134e-02,\n         1.53209185e-02,  7.01914951e-02, -2.03041565e-02,  7.82396123e-02,\n         1.08501339e+00,  1.81523953e-02,  1.54230252e-01,  7.84942240e-04,\n         9.11798421e-03,  7.85699487e-02, -2.39519980e-02, -2.21828581e-03,\n        -7.00703487e-02, -6.74945628e-03, -1.43221468e-01, -1.56883523e-02,\n         5.56556843e-02,  7.22370949e-03, -2.11905818e-02,  3.70177813e-02,\n         8.02301839e-02,  7.89180864e-03,  7.02985525e-02, -4.90756445e-02,\n         1.96405500e-02,  1.04050227e-01, -2.11939234e-02,  1.66780427e-02,\n         2.56938860e-03,  4.55828346e-02, -2.30943467e-02,  2.94846371e-02,\n        -5.97631000e-02,  2.47098878e-03,  5.82121126e-02, -4.76885121e-03,\n         4.93013225e-02,  3.21007296e-02, -9.86454170e-03,  5.09300195e-02,\n        -7.74725601e-02, -2.23763678e-02,  3.44615094e-02,  2.50311592e-03,\n        -2.18516234e-02,  1.08131751e-01, -3.65505256e-02,  4.40639183e-02,\n         8.25031195e-03, -5.68438023e-02,  3.61233614e-02, -4.33918238e-02,\n        -3.09097096e-02,  4.24926430e-02, -5.21204956e-02, -7.35205971e-03,\n         2.16809940e-02,  1.55437544e-01,  3.74574289e-02,  8.41711313e-02,\n        -5.18224053e-02, -3.21279652e-02, -5.69099188e-03,  3.74150870e-04,\n        -1.63117386e-02,  4.40490694e-04, -4.95264232e-02, -7.90655389e-02,\n        -3.71695012e-02,  1.07203722e-01,  3.23782861e-02,  3.17288749e-03],\n       dtype=float32),\n '/BERT_encoder/transformer/layer_1/output_layer_norm/gamma:0': array([1.1012855 , 1.0879228 , 1.09021   , 1.1192675 , 1.1475544 ,\n        1.0968984 , 1.1685826 , 1.0500324 , 0.8528982 , 1.1534793 ,\n        1.1480973 , 1.1022584 , 1.0821973 , 1.1162456 , 1.0967902 ,\n        1.1290551 , 1.1502755 , 1.145516  , 1.1177148 , 1.1245279 ,\n        1.1056658 , 1.102249  , 1.1180711 , 0.8679519 , 1.1336715 ,\n        1.0461025 , 1.118375  , 1.0814569 , 1.1461829 , 1.11722   ,\n        1.1432334 , 0.92007947, 1.0314785 , 1.1166784 , 1.0639585 ,\n        1.0622417 , 1.0631962 , 0.99906194, 1.0968384 , 1.1397504 ,\n        1.1258913 , 1.092693  , 1.0809294 , 1.0874333 , 1.1222345 ,\n        1.1114954 , 1.1621631 , 1.065749  , 1.1047076 , 0.988227  ,\n        1.1166937 , 1.1049837 , 1.0827556 , 1.1446762 , 1.1330131 ,\n        1.0972724 , 1.0555761 , 1.1344143 , 1.0735949 , 1.1253287 ,\n        1.1366508 , 1.141644  , 1.130785  , 1.1041774 , 1.083825  ,\n        1.0934898 , 1.1169184 , 1.1076835 , 1.1071624 , 1.1381317 ,\n        1.1511407 , 1.1222702 , 1.0652437 , 1.1244714 , 1.1202717 ,\n        1.0992397 , 1.1249282 , 1.1230456 , 1.1676838 , 1.1135632 ,\n        1.1082716 , 1.1158004 , 1.1105103 , 1.1268864 , 1.0968997 ,\n        1.1090248 , 1.1406752 , 1.0848643 , 1.099333  , 1.0964913 ,\n        1.1241913 , 1.0817534 , 1.1200527 , 1.1572206 , 1.1102946 ,\n        1.1266851 , 1.1188917 , 1.1117197 , 1.1194417 , 1.1041594 ,\n        1.146572  , 1.1184288 , 1.0858729 , 1.1338048 , 1.1218237 ,\n        1.101556  , 1.1333092 , 1.149839  , 1.104     , 1.1471448 ,\n        1.1327422 , 1.086797  , 1.1086417 , 1.0910236 , 1.0318168 ,\n        1.1099168 , 1.1203144 , 1.1228421 , 1.0867797 , 1.0883145 ,\n        1.0669193 , 0.82429296, 1.1247449 , 1.102444  , 1.101067  ,\n        1.1326774 , 1.1277666 , 1.1144011 , 1.1003697 , 1.1127597 ,\n        1.0347259 , 1.0872042 , 1.1348342 , 1.1624845 , 0.8061468 ,\n        1.156264  , 1.0975333 , 1.1436148 , 1.1586951 , 1.1663396 ,\n        1.1236824 , 1.0812505 , 1.1380672 , 1.0797598 , 1.1297189 ,\n        1.1309158 , 1.0711094 , 1.1542702 , 1.0775272 , 1.1161834 ,\n        1.135245  , 1.0854615 , 1.11989   , 1.106841  , 1.1137501 ,\n        1.0609066 , 1.02047   , 1.0522503 , 1.063833  , 1.1568575 ,\n        1.1264886 , 1.0937964 , 1.1157783 , 1.1040161 , 1.1363193 ,\n        1.0994091 , 0.98764956, 1.154803  , 1.0478518 , 1.1024208 ,\n        1.1573302 , 0.9467261 , 1.0914432 , 1.116595  , 1.1076461 ,\n        1.0182515 , 1.0815637 , 1.0679357 , 1.1388639 , 1.0415658 ,\n        1.1079307 , 1.0952353 , 1.1592823 , 1.0704122 , 1.0522608 ,\n        1.1518971 , 1.137791  , 1.0897257 , 1.056482  , 1.146355  ,\n        1.1208782 , 1.14735   , 1.0818937 , 0.62985146, 1.1030045 ,\n        1.1094924 , 1.0472977 , 1.1044384 , 1.1072882 , 1.1399215 ,\n        1.1710001 , 1.1018904 , 1.1294007 , 0.99425566, 1.1430298 ,\n        1.0620836 , 1.1267861 , 1.0778738 , 1.1422398 , 1.111394  ,\n        1.1162472 , 1.1164781 , 1.129616  , 1.1353014 , 1.0719644 ,\n        1.1472737 , 1.1020039 , 1.099773  , 1.0667366 , 1.1215774 ,\n        1.0233583 , 1.134443  , 1.1112095 , 1.0627599 , 1.1192085 ,\n        1.1093495 , 1.1144626 , 1.0860555 , 1.0931629 , 1.084702  ,\n        1.1214324 , 1.0890151 , 1.10575   , 1.1096234 , 1.0968158 ,\n        1.1708633 , 1.0789614 , 1.0147314 , 1.0977101 , 1.1337643 ,\n        1.1177076 , 1.1097409 , 1.1091672 , 0.89278954, 1.1176778 ,\n        1.1119924 , 1.0912769 , 1.1438174 , 1.1264049 , 1.1057377 ,\n        1.1327803 , 1.1424742 , 1.1578776 , 1.1363573 , 1.1121408 ,\n        1.1257517 , 1.0901879 , 1.0559365 , 1.0530999 , 1.0923866 ,\n        1.1002975 , 1.0658073 , 0.22298375, 1.1323124 , 1.0909504 ,\n        1.0669321 , 1.1192178 , 1.1135792 , 1.1614522 , 1.1117392 ,\n        1.0983505 , 1.1306747 , 1.1184542 , 1.1239603 , 1.094319  ,\n        0.5926508 , 0.65135044, 1.0995343 , 1.1164372 , 1.1068739 ,\n        1.1171796 , 1.1113063 , 1.1245337 , 1.1468134 , 1.1329625 ,\n        1.1240739 , 1.0977798 , 1.091342  , 1.1141716 , 1.1155156 ,\n        1.0657445 , 1.0976472 , 1.0944966 , 1.0974829 , 1.1225265 ,\n        1.0818254 , 1.1284422 , 0.91806674, 1.1032923 , 1.1284041 ,\n        1.1654184 , 1.1513097 , 1.1189485 , 1.1420431 , 1.1075369 ,\n        1.1058129 , 1.1489341 , 1.145615  , 1.0726196 , 1.1396207 ,\n        1.0800596 , 1.1024616 , 1.1236684 , 1.1232076 , 1.1264507 ,\n        1.1076198 , 1.1322758 , 1.0900391 , 1.1363727 , 1.0891804 ,\n        1.0813757 , 1.0954343 , 1.104129  , 1.1425682 , 1.1171373 ,\n        1.1745665 , 1.0959173 , 1.0841587 , 0.9260047 , 1.1293577 ,\n        1.0283937 , 1.1250144 , 1.1140022 , 1.131235  , 0.9123027 ,\n        1.1127483 , 1.075845  , 1.1027082 , 1.0990186 , 1.1180722 ,\n        1.1110033 , 1.0902189 , 1.0967635 , 1.1721976 , 1.0940733 ,\n        1.098734  , 1.0946915 , 1.1266378 , 1.0884525 , 1.114092  ,\n        0.8507406 , 1.0978991 , 1.0919152 , 1.0958908 , 1.1115125 ,\n        1.0975891 , 1.1990643 , 1.1404577 , 1.0841906 , 1.1249912 ,\n        1.1232175 , 1.0556121 , 1.1123161 , 1.1460881 , 1.0883672 ,\n        1.158212  , 1.1389325 , 1.1232082 , 1.1089702 , 1.107268  ,\n        1.057805  , 1.1366985 , 1.130965  , 1.1024104 , 1.099915  ,\n        1.0872545 , 1.1417845 , 1.1154122 , 1.0877118 , 1.1197686 ,\n        1.1401359 , 1.1890275 , 1.0973092 , 1.1459527 , 1.0681996 ,\n        1.1303558 , 0.8970608 , 1.1415052 , 1.107284  , 1.0750775 ,\n        1.1206133 , 1.1214869 , 1.1143117 , 1.0638909 , 1.0946441 ,\n        1.097519  , 1.0927303 , 1.1582127 , 1.1158686 , 1.1070876 ,\n        1.099754  , 1.1290574 , 1.0866424 , 1.1060176 , 1.1105033 ,\n        1.1415174 , 1.1641608 , 1.1134166 , 1.1224647 , 1.11222   ,\n        1.1034545 , 1.1302999 , 1.1761887 , 1.1371676 , 1.1603205 ,\n        1.145348  , 1.1260227 , 1.1503366 , 1.0812367 , 1.0779285 ,\n        1.1117245 , 0.8591435 , 1.119696  , 1.0882101 , 0.9858495 ,\n        1.1353154 , 1.1202651 , 1.1133152 , 1.1423486 , 1.0608549 ,\n        1.1007597 , 1.1567923 , 1.1261214 , 1.1373183 , 1.087693  ,\n        1.0332209 , 1.1192758 , 1.1348655 , 1.1087079 , 1.1200279 ,\n        1.1363297 , 1.0617067 , 1.1021605 , 1.1066167 , 0.53541565,\n        1.1434141 , 0.94909185, 1.1620146 , 1.10236   , 1.1304271 ,\n        1.1530659 , 1.1338174 , 1.0731353 , 1.0345901 , 0.87932193,\n        1.0851665 , 1.1944361 , 1.1402706 , 1.1028833 , 1.1266942 ,\n        1.1191365 , 1.1340615 , 1.1039014 , 0.9804538 , 1.1178486 ,\n        1.0914114 , 1.1107179 , 1.1172    , 1.1239084 , 0.93315935,\n        1.0950668 , 1.092146  , 1.0947222 , 1.0762231 , 1.0317662 ,\n        1.123293  , 1.0894513 , 1.1148064 , 1.1477363 , 1.0402058 ,\n        1.116348  , 1.1581292 , 1.0555166 , 1.13208   , 1.0957412 ,\n        1.094462  , 1.1403273 , 1.059661  , 1.1161458 , 1.1712441 ,\n        1.0580432 , 1.0847418 , 1.1215175 , 1.1167163 , 1.0925907 ,\n        1.0717471 , 1.1285075 , 1.0152798 , 1.1447638 , 1.1376736 ,\n        1.0878906 , 1.1221908 , 1.0901053 , 1.054759  , 1.1456648 ,\n        1.1546981 , 1.1205295 , 1.0577704 , 1.1477078 , 1.0970365 ,\n        1.122438  , 1.1711354 ], dtype=float32),\n '/BERT_encoder/transformer/layer_1/self_attention/attention_output/bias:0': array([-3.60884145e-02,  7.07688043e-03,  6.97912499e-02,  1.37292221e-01,\n        -6.15666844e-02, -2.87392996e-02,  1.33239403e-01,  2.68458929e-02,\n         6.95503056e-02, -8.13742206e-02,  1.14151156e-02,  2.00026650e-02,\n        -9.23459902e-02,  9.69700813e-02,  5.03505357e-02,  5.72734512e-02,\n        -1.65349264e-02,  3.94720547e-02, -1.03213817e-01,  5.25757447e-02,\n        -7.10366145e-02,  2.25193314e-02,  1.14497310e-02,  2.93513425e-02,\n         1.16664864e-01,  4.27004881e-02, -2.81521864e-02,  5.52125368e-03,\n         6.47207722e-02,  3.91653106e-02,  3.81674096e-02, -1.20148666e-01,\n         1.08837172e-01,  7.64676705e-02, -8.49847589e-03,  3.49978842e-02,\n        -7.99265131e-02,  6.89453408e-02, -8.96426290e-02,  2.91815810e-02,\n         4.48189080e-02, -4.53851074e-02, -1.25677913e-01,  1.43657207e-01,\n         5.52965887e-02, -1.25531241e-01, -6.00444973e-02, -9.64348540e-02,\n         9.15488750e-02, -7.22268820e-02,  2.42940001e-02,  2.33210772e-02,\n         2.30931677e-02,  1.47846311e-01,  1.00659996e-01, -1.18095994e-01,\n         9.33712944e-02,  9.85678378e-03, -1.92749992e-01, -5.15599512e-02,\n         1.36017874e-01, -2.13344768e-02,  1.87429003e-02,  4.62642312e-02,\n        -6.13077432e-02,  6.28461316e-02, -3.94454710e-02,  3.15723792e-02,\n         1.11033134e-01, -2.28013042e-02,  2.45410651e-02, -9.02642906e-02,\n         4.81440002e-05,  2.68931706e-02,  4.71226685e-03,  2.56725214e-02,\n         1.02693900e-01,  8.80932957e-02,  4.70389612e-02,  4.70202342e-02,\n        -8.01277161e-02, -8.25882927e-02,  1.31010354e-04, -7.20594972e-02,\n         1.20545231e-01, -8.31759349e-02, -2.73519773e-02, -7.45602250e-02,\n        -2.03961004e-02,  1.14126712e-01,  4.17650752e-02,  9.13404021e-03,\n         7.88086280e-02,  5.66728301e-02, -3.33725996e-02,  1.30118400e-01,\n        -4.67759557e-02, -1.44453615e-01,  5.15613444e-02,  1.09494157e-01,\n         1.47230953e-01, -5.78690208e-02,  3.53026912e-02,  4.10519727e-02,\n        -3.32305320e-02,  9.17470381e-02,  5.11029139e-02, -2.35962644e-02,\n         1.37685062e-02, -1.59620016e-03, -3.89969610e-02,  2.25393418e-02,\n        -1.01457238e-02, -6.02612086e-03,  5.83063997e-02, -2.03801859e-02,\n        -1.03695914e-01, -9.79916891e-04, -4.72177230e-02, -8.36107433e-02,\n        -1.64761677e-01,  8.59665424e-02,  2.98272390e-02,  4.58190367e-02,\n        -5.49116693e-02, -1.18082305e-02, -1.62786379e-01,  3.98308458e-03,\n         4.63008741e-03,  2.59786658e-02,  9.21878740e-02, -1.17281951e-01,\n        -2.46278532e-02,  1.21060926e-02, -1.72939315e-01,  8.52390453e-02,\n         6.13650447e-03,  3.39234732e-02,  1.62493482e-01, -2.04190910e-02,\n        -3.82794179e-02, -2.69571319e-02,  7.57398158e-02, -1.24920651e-01,\n        -2.64539085e-02, -1.01625044e-02,  1.81114584e-01, -2.84639429e-02,\n        -5.91832511e-02,  6.56211842e-03, -6.75423443e-02, -1.28835335e-01,\n         3.98191996e-02, -1.57495901e-01, -5.25418390e-03, -9.69151184e-02,\n         8.17765221e-02,  2.33943034e-02, -1.46820664e-01,  9.72705707e-03,\n        -6.82344213e-02, -7.72028938e-02, -3.72675154e-03,  3.64613310e-02,\n         6.25704378e-02, -3.75506608e-03, -1.45690873e-01, -1.06272921e-01,\n         1.77671462e-01, -8.41774233e-03,  5.77526949e-02,  4.30790894e-02,\n         5.39246686e-02, -9.08965617e-03, -6.44773291e-03, -6.59872815e-02,\n         8.79775966e-04,  6.07675575e-02,  1.56646445e-02, -1.08321309e-01,\n         3.65157016e-02,  4.76929508e-02, -3.26144584e-02,  1.11475758e-01,\n        -3.50268185e-02,  1.65885501e-02, -8.07618275e-02, -1.62051991e-01,\n         4.85121794e-02,  3.49512734e-02, -2.30810195e-02,  5.28765731e-02,\n         1.99687034e-02,  2.77817607e-01,  9.85352136e-03,  5.07066995e-02,\n         9.47231520e-03, -6.29161671e-02,  9.98150781e-02,  1.11532204e-01,\n         3.65604386e-02,  5.23652323e-02,  4.06133868e-02,  1.02349058e-01,\n        -2.02389155e-02,  1.08958771e-02, -5.42574935e-02,  8.15347806e-02,\n        -1.32412195e-01,  6.39419258e-02,  1.79937407e-02,  2.48045046e-02,\n         8.05541649e-02,  9.12620947e-02,  4.30835113e-02,  5.76007180e-02,\n        -3.46336253e-02,  7.83618018e-02,  1.56192735e-01, -4.85914946e-02,\n         5.67844436e-02, -8.34545419e-02, -6.83247223e-02, -1.73908181e-03,\n        -8.95048492e-03, -8.57065096e-02,  4.75590415e-02,  8.06738660e-02,\n         2.82155909e-02, -4.86746840e-02,  2.85849497e-02,  5.59505783e-02,\n        -5.96880801e-02, -8.93464684e-02, -2.98675951e-02,  3.02025266e-02,\n         3.65196802e-02,  2.59046387e-02, -1.44993598e-02, -1.04338840e-01,\n         1.46479113e-02, -3.13525125e-02,  7.25414157e-02, -4.43771435e-03,\n         2.15595309e-02,  9.40498039e-02,  1.88001208e-02, -1.01083562e-01,\n        -9.06630456e-02, -1.00088447e-01,  1.04843371e-01,  2.49321405e-02,\n        -1.67459343e-02, -2.84665488e-02,  1.17557812e-02,  7.38614425e-02,\n         2.28052974e-01, -1.04949944e-01, -4.36461084e-02, -4.63842191e-02,\n         3.95261236e-02,  7.03309402e-02, -1.54861629e-01, -7.29318336e-03,\n         1.19957931e-01, -7.38397688e-02,  4.81005348e-02, -6.75262585e-02,\n         6.84373006e-02,  1.16606718e-02, -5.72863817e-02, -5.58091775e-02,\n         5.90413213e-02,  7.01919198e-02,  5.74037358e-02, -1.89101696e-01,\n         4.24023047e-02, -2.76974497e-05, -7.93987736e-02,  1.40221445e-02,\n        -8.37678313e-02,  9.46623832e-02,  3.62678524e-03,  9.11479294e-02,\n         3.42611894e-02, -8.45644176e-02,  7.73688927e-02,  3.99256870e-02,\n        -5.36290444e-02,  2.95501333e-02, -1.83904525e-02, -3.14504318e-02,\n        -4.06243913e-02, -1.20191351e-01,  2.66620014e-02, -4.46617752e-02,\n         5.81094362e-02,  3.16172242e-02, -7.25151151e-02,  6.29047230e-02,\n        -1.36244670e-02, -5.68581484e-02, -5.21978782e-03,  3.22191529e-02,\n         3.86236347e-02, -4.18802463e-02,  4.62096632e-02,  4.08303998e-02,\n         8.71597696e-03, -4.63089980e-02, -1.60201006e-02,  2.92183943e-02,\n         5.95779717e-02,  2.37477068e-02, -4.30356711e-02, -4.79500294e-02,\n         1.12444647e-02, -1.04425669e-01, -7.84511566e-02, -7.15057105e-02,\n        -7.21157193e-02, -2.36745682e-02,  1.16208054e-01,  6.86489465e-03,\n         4.18508947e-02, -5.03130369e-02,  3.54961790e-02,  1.20573342e-01,\n        -8.19335952e-02,  8.83873180e-02,  6.66347295e-02,  8.34351927e-02,\n         1.41488258e-02, -1.05188504e-01, -1.25642493e-01,  5.76594993e-02,\n         5.57818683e-03,  3.37224081e-02, -6.45342097e-02, -3.56608555e-02,\n        -2.42393240e-02,  7.09630698e-02,  5.86803108e-02, -2.48135696e-03,\n         1.52353360e-03, -2.87535377e-02,  1.65005416e-01,  1.23475820e-01,\n        -1.21945947e-01, -8.95669907e-02, -1.81926072e-01, -1.12806791e-02,\n         3.71001475e-02,  2.88650021e-02, -8.10711924e-03,  4.96021807e-02,\n        -8.14224184e-02, -7.99608678e-02, -4.35744002e-02,  8.28088149e-02,\n        -1.12585900e-02, -2.75263679e-03, -5.10720611e-02,  4.18600813e-03,\n        -4.26252285e-04, -9.50672552e-02, -1.54872879e-01,  3.03956028e-02,\n         6.87149540e-02, -7.50289410e-02,  9.29419231e-03, -1.25946760e-01,\n         7.06836209e-02,  2.45162286e-02, -3.05112489e-02,  3.42256054e-02,\n         4.19410467e-02,  1.04741015e-01, -2.68785898e-02,  6.91268146e-02,\n        -1.01797124e-02, -1.02316961e-02,  2.37560179e-02, -5.50366901e-02,\n        -1.21392623e-01, -1.13077067e-01,  3.71903442e-02, -2.01872867e-02,\n         2.79013421e-02, -5.11577241e-02,  4.27774340e-02, -4.96130157e-03,\n         2.23564245e-02,  4.52754945e-02,  2.56984327e-02,  4.52448055e-02,\n        -1.13560788e-01,  7.07570538e-02, -6.96065277e-02, -4.16966714e-03,\n         6.69096038e-02, -2.55283099e-02,  6.42526448e-02,  1.04091894e-02,\n        -7.25785154e-04, -7.30894804e-02, -2.02484187e-02,  1.74623877e-02,\n        -3.38831954e-02, -1.12046977e-03, -3.54293697e-02, -7.68841952e-02,\n         4.08964828e-02,  2.23554834e-03,  2.28462387e-02,  2.27947701e-02,\n        -9.47397028e-04,  5.56676023e-05, -8.15154836e-02,  1.31049566e-03,\n        -1.38324033e-02,  1.04624234e-01, -9.76080745e-02, -2.65427623e-02,\n        -1.24450758e-01, -5.87937795e-02, -9.66227651e-02, -1.42547369e-01,\n         3.40160839e-02, -3.48125473e-02,  5.17897867e-02,  6.00322671e-02,\n         1.02797762e-01, -2.10455284e-02, -5.46277873e-03, -7.09147528e-02,\n        -9.54949297e-03, -8.08154140e-03,  6.36316910e-02, -7.65338689e-02,\n        -6.97109848e-02,  8.37958679e-02,  1.67669967e-01, -4.65720482e-02,\n        -1.48591682e-01, -7.13646784e-02,  9.01227072e-02,  1.95273466e-03,\n         7.45460466e-02,  3.74033325e-03, -7.81548172e-02,  8.59099068e-03,\n         3.45612392e-02,  1.71550401e-02, -1.95765823e-01, -1.17319532e-01,\n         1.65530503e-01, -3.35431546e-02, -9.90092158e-02, -4.61965008e-03,\n        -1.07518047e-01,  1.06328782e-02, -7.25339577e-02, -1.06654763e-01,\n         4.11340892e-02,  3.56422402e-02,  5.17342091e-02, -1.45234495e-01,\n         2.95844525e-02, -4.43746559e-02,  2.51789521e-02, -1.16831906e-01,\n        -8.26752931e-02,  8.01716466e-03, -8.65752548e-02,  1.50349531e-02,\n        -6.60247728e-02,  5.33095226e-02, -3.88633683e-02, -7.83784389e-02,\n         4.70657423e-02, -3.88893951e-03, -1.03766583e-01,  6.28912523e-02,\n         1.31001994e-01, -3.49643528e-02,  1.56116905e-02,  3.72740556e-03,\n         6.61986321e-02,  1.26887001e-02,  1.31728381e-01, -3.23667675e-02,\n        -1.94001589e-02, -5.99311404e-02, -5.48468642e-02,  5.16545922e-02,\n        -1.18332542e-02, -1.96076650e-02, -2.06932612e-02,  1.07455952e-03,\n         3.36541831e-02,  3.57690789e-02,  1.36895459e-02,  3.15405503e-02,\n        -5.37189618e-02, -2.16731001e-02,  1.36835128e-01, -1.03679568e-01,\n        -5.68225048e-03,  8.76331609e-03, -5.06041124e-02, -5.10863913e-03],\n       dtype=float32),\n '/BERT_encoder/transformer/layer_1/self_attention/attention_output/kernel:0': array([[[-3.21131423e-02,  1.98745001e-02,  6.12287258e-04, ...,\n           2.12299079e-02,  9.65669751e-02,  5.25009260e-02],\n         [ 8.23093802e-02,  3.84218097e-02,  1.44527704e-02, ...,\n          -4.43478934e-02,  1.48124034e-02,  3.25839370e-02],\n         [ 4.40275222e-02, -1.68348085e-02, -8.56310651e-02, ...,\n          -4.74498272e-02,  5.99320605e-02, -6.68773279e-02],\n         ...,\n         [-1.65768526e-02,  5.64274937e-02, -7.54679879e-03, ...,\n           1.57372486e-02,  4.00654785e-02, -5.99658974e-02],\n         [ 5.33409184e-03,  3.58692333e-02, -4.67774235e-02, ...,\n          -7.57260481e-03,  2.13049408e-02, -3.96855325e-02],\n         [-8.49913899e-03,  6.24148287e-02,  5.87274097e-02, ...,\n           2.00011693e-02, -3.57529186e-02, -3.39892283e-02]],\n \n        [[-3.22345942e-02, -5.00107277e-03, -1.49881458e-02, ...,\n           3.16518694e-02,  5.61374985e-02,  2.99931187e-02],\n         [-3.69161852e-02, -2.22911555e-02,  9.85411648e-03, ...,\n           2.05328204e-02, -1.94324199e-02,  1.52096469e-02],\n         [-4.59031425e-02,  6.11161925e-02,  4.30312045e-02, ...,\n           1.64409857e-02,  1.50765972e-02,  1.88104603e-02],\n         ...,\n         [ 4.01990226e-04,  2.78133303e-02, -4.91082557e-02, ...,\n           2.41143852e-02,  4.72440571e-02, -2.96829231e-02],\n         [ 1.20722754e-02, -1.66708920e-02, -2.52097268e-02, ...,\n           5.51706366e-02,  2.21946407e-02,  1.09743152e-03],\n         [ 3.67019325e-03, -4.41314355e-02,  5.71571663e-02, ...,\n           3.71836661e-03, -4.43275161e-02,  8.22807569e-03]],\n \n        [[-4.81161289e-02,  1.99519154e-02, -4.13337983e-02, ...,\n          -2.86552329e-02,  3.09921592e-03,  6.80518709e-03],\n         [ 1.85098220e-02, -2.27739755e-02, -6.43794704e-03, ...,\n           6.65468769e-03, -3.85175757e-02, -3.70602868e-02],\n         [-3.53435939e-03, -5.04985638e-02,  8.52848217e-03, ...,\n           5.12787364e-02,  1.34005360e-02, -1.06550185e-02],\n         ...,\n         [ 4.32913527e-02,  3.76499631e-02,  3.71908769e-02, ...,\n          -4.13503200e-02, -1.70866624e-02,  2.28436501e-03],\n         [ 1.38218026e-03, -1.55578805e-02, -1.75438933e-02, ...,\n          -8.68970994e-03,  4.27731946e-02, -4.13858658e-03],\n         [ 2.59752572e-02, -3.19373272e-02,  1.18007017e-02, ...,\n          -2.69158743e-02,  3.64209786e-02, -3.64820543e-03]],\n \n        ...,\n \n        [[ 1.40509317e-02,  4.30181250e-03,  3.25795700e-05, ...,\n           7.04686716e-02, -5.31579517e-02, -5.71115091e-02],\n         [ 9.57789347e-02,  9.65201110e-03, -2.88558602e-02, ...,\n           1.80482655e-03, -7.31262788e-02,  1.05675608e-02],\n         [-5.66230575e-03,  1.55591192e-02,  5.67200407e-03, ...,\n           2.24410444e-02,  4.16240133e-02, -2.90921014e-02],\n         ...,\n         [-5.32857701e-02,  2.15264242e-02,  4.99995949e-04, ...,\n           9.72033478e-03,  7.58554228e-03, -2.17070449e-02],\n         [-7.13632768e-03, -1.10736983e-02, -1.14380382e-01, ...,\n          -2.63944175e-02, -2.63002776e-02,  3.03627159e-02],\n         [ 2.58311182e-02,  3.16514783e-02, -2.84333359e-02, ...,\n           6.18971512e-02,  6.97174668e-02,  9.03093349e-03]],\n \n        [[ 7.88151287e-03, -5.18026622e-03, -1.46595025e-02, ...,\n           3.06514278e-02,  3.68895568e-02, -6.20582923e-02],\n         [ 6.64595440e-02, -3.79006118e-02, -4.91074882e-02, ...,\n           7.85535725e-04,  1.98870897e-02,  2.46643145e-02],\n         [-1.74531545e-02,  3.49245854e-02, -1.05250683e-02, ...,\n           2.18013637e-02, -2.22462462e-03,  1.12461440e-01],\n         ...,\n         [-1.02773318e-02,  2.09333133e-02,  1.53306341e-02, ...,\n          -2.14844700e-02, -2.62983814e-02, -6.39656335e-02],\n         [-1.33578163e-02, -3.75009701e-02, -9.96845774e-03, ...,\n          -9.03258473e-02, -9.41090472e-03, -3.45310308e-02],\n         [-4.69654761e-02, -6.60761520e-02,  1.73931196e-02, ...,\n          -5.21540549e-03,  1.47880027e-02,  3.73535976e-02]],\n \n        [[-6.23136684e-02, -4.86166887e-02, -1.63785107e-02, ...,\n           7.99717605e-02,  2.79211849e-02,  6.23818627e-03],\n         [-8.92348960e-03,  2.39001140e-02,  5.44567890e-02, ...,\n           4.47728299e-02, -2.33432315e-02, -1.46994945e-02],\n         [ 1.78120192e-02, -6.49091154e-02, -3.16066891e-02, ...,\n           3.23123001e-02, -1.96789354e-02,  3.65385674e-02],\n         ...,\n         [-5.53070158e-02, -2.83908062e-02,  6.12471253e-04, ...,\n           1.15954392e-02,  2.54225004e-02, -3.55442129e-02],\n         [-8.17508809e-03, -9.53261834e-03,  1.49351312e-03, ...,\n           2.74625979e-02,  3.57892029e-02,  1.03953388e-03],\n         [-9.86843649e-03, -1.55320317e-02, -5.90235516e-02, ...,\n          -7.42119253e-02,  5.69001734e-02, -4.38130535e-02]]],\n       dtype=float32),\n '/BERT_encoder/transformer/layer_1/self_attention/key/bias:0': array([[-6.28353842e-03,  8.99054855e-03, -4.35753874e-02,\n         -4.50351536e-02,  1.88953169e-02,  6.30342227e-04,\n         -2.77654845e-02,  2.15094145e-02, -8.65444075e-03,\n         -1.68866925e-02,  2.83946237e-03,  2.12557130e-02,\n         -2.53404882e-02, -6.52049389e-03, -2.50200778e-02,\n          2.71143601e-03,  3.16374488e-02,  2.67966581e-03,\n          1.78314969e-02, -9.13617201e-03,  1.44991092e-02,\n         -8.15457664e-03,  2.31690872e-02, -1.47056449e-02,\n         -2.90478840e-02,  2.04068013e-02, -1.20256504e-03,\n          8.28823969e-02, -1.57265943e-02,  1.22404033e-02,\n          5.19470661e-04, -8.22551474e-02,  8.01591144e-04,\n          5.62177934e-02,  1.41088050e-02,  3.51720415e-02,\n          1.79412682e-02,  6.56620041e-02,  5.21885976e-02,\n         -1.45196088e-03, -3.40419188e-02,  6.44210773e-03,\n         -6.76359842e-03, -1.22470316e-02,  4.32433514e-03,\n          3.44910473e-02, -3.80452760e-02, -2.87296511e-02,\n         -6.51415810e-03,  1.22047346e-02, -1.13118778e-03,\n         -4.67272010e-03, -5.02147106e-03, -1.47959087e-02,\n         -1.45485308e-02, -7.98122510e-02, -1.94620788e-02,\n         -3.20078768e-02, -1.45109929e-02,  2.34838272e-03,\n         -5.18510453e-02, -5.35011012e-03,  7.27760559e-03,\n         -2.80591380e-03],\n        [-2.72729341e-02,  3.12300622e-02, -1.14744650e-02,\n         -2.08343705e-03,  4.04846680e-04,  2.48318966e-02,\n          1.26676448e-02, -1.03941504e-02, -2.15781443e-02,\n          3.52919102e-02,  6.56392891e-03, -1.62995979e-02,\n         -1.81286260e-02,  2.85108760e-02, -2.00278722e-02,\n         -1.59280980e-03, -1.09380530e-03, -8.11073463e-03,\n         -7.80412694e-03,  4.76372130e-02,  6.73043483e-04,\n         -2.68423799e-02,  8.28382093e-03,  1.40493568e-02,\n         -1.69358924e-02, -6.20796438e-03,  3.76786962e-02,\n          2.08290014e-03, -2.75056786e-03, -5.76693118e-02,\n         -6.29114509e-02, -5.00587448e-02, -5.25136347e-05,\n         -8.95349402e-03, -4.85767201e-02, -4.43669036e-03,\n          5.50352968e-02, -8.78212135e-03, -3.13235843e-03,\n          4.42505209e-03,  5.07484563e-02, -1.24233207e-02,\n         -5.38596744e-03, -6.64232718e-03, -4.73414399e-02,\n          8.73013120e-03, -2.02141819e-04,  2.40416676e-02,\n         -1.89926587e-02, -9.81076807e-03,  1.76211819e-02,\n          2.21652407e-02, -1.90433618e-02,  4.52523939e-02,\n         -2.47510578e-02,  9.69961751e-03,  6.04742393e-03,\n         -3.25162672e-02,  3.21961828e-02,  3.96594517e-02,\n         -4.58399020e-03, -4.97679785e-02,  5.26469108e-03,\n         -2.83239270e-03],\n        [-5.14246710e-02, -2.56858449e-02,  1.09503129e-02,\n          1.69246679e-03, -2.82582045e-02,  2.07485016e-02,\n          1.54041974e-02, -3.02928165e-02,  9.03597008e-03,\n         -2.31804978e-02,  1.89711545e-02,  3.45352478e-02,\n          1.73677895e-02,  2.25200746e-02,  3.20429578e-02,\n         -1.50841614e-03,  2.34044548e-02,  3.81905302e-05,\n         -2.01581605e-02,  2.16711890e-02,  3.72400321e-03,\n         -3.35110538e-02, -1.58173759e-02, -7.86531996e-03,\n          1.32628204e-02, -2.00499464e-02, -5.23920730e-03,\n         -1.08666271e-02,  3.96460388e-03,  4.22956012e-02,\n         -1.62553452e-02, -1.92158390e-02, -3.53187062e-02,\n          5.09421118e-02,  4.57966030e-02,  1.29585173e-02,\n          2.41319463e-02,  1.47330724e-02,  2.99296677e-02,\n         -6.46244064e-02,  1.24285724e-02, -7.03080818e-02,\n         -2.27605086e-02, -2.78724395e-02, -1.01216659e-02,\n          4.54820879e-03, -7.50356587e-03,  6.08780188e-03,\n          1.27467816e-03, -1.69279836e-02, -3.69513221e-02,\n          1.82880275e-02,  2.15146244e-02,  7.84274098e-03,\n          2.93358625e-03,  2.45829043e-03, -1.65214948e-02,\n          1.98902842e-03,  4.73785773e-02,  6.61702678e-02,\n         -1.07156327e-02,  2.87639443e-03,  3.58275250e-02,\n          2.00809669e-02],\n        [ 2.87470706e-02, -2.78773922e-02, -3.35555486e-02,\n          2.93598678e-02, -7.22758770e-02, -2.47606784e-02,\n         -5.47215017e-03,  3.84153351e-02, -3.39371115e-02,\n          4.11847159e-02, -5.17628789e-02, -5.75870723e-02,\n          2.49997131e-03,  2.06627790e-03,  1.61744077e-02,\n          2.28036847e-02,  3.25924740e-03, -4.63291071e-02,\n          9.50781687e-04, -3.34473774e-02,  7.54290307e-03,\n         -4.29483131e-02, -7.36642256e-02,  2.10354514e-02,\n          2.59871129e-02, -5.40968589e-02,  1.75130684e-02,\n          6.75130710e-02,  3.79132219e-02, -1.81843601e-02,\n         -5.83404768e-03,  6.12313161e-03,  4.43108752e-02,\n          5.17902989e-03,  2.18833294e-02, -4.00566347e-02,\n          1.09228026e-03, -1.62462350e-02,  1.15862787e-02,\n          2.87040081e-02, -1.64331738e-02,  1.47692170e-02,\n          2.06953171e-03,  4.37358096e-02, -7.04529509e-03,\n          4.01821323e-02,  4.21594903e-02, -5.60425185e-02,\n         -1.95766464e-02, -3.81050892e-02, -4.77010049e-02,\n         -3.78740369e-03, -1.41570196e-02, -5.12345694e-02,\n          1.27077838e-02, -2.39094384e-02,  3.12680639e-02,\n         -7.57684708e-02,  3.11090797e-02, -2.94916146e-02,\n          4.03016359e-02,  2.13545887e-03, -2.20572371e-02,\n          4.79352754e-03],\n        [-4.61202748e-02, -4.89747003e-02, -4.03321907e-02,\n          1.52561180e-02,  4.79936413e-03, -2.70965174e-02,\n         -6.93020746e-02,  1.04825143e-02, -2.22659390e-02,\n         -1.43521484e-02, -4.12138365e-02, -2.87315901e-02,\n         -2.18677483e-02,  1.20947585e-02,  1.33557646e-02,\n          2.66887154e-02,  1.32164527e-02, -2.64654756e-02,\n         -2.07718350e-02,  4.02560644e-03,  6.13016635e-03,\n          8.16852301e-02,  1.18187834e-02, -4.32009064e-02,\n         -4.38224897e-03,  3.63632515e-02,  1.22144660e-02,\n          3.86786573e-02, -2.31813695e-02,  2.84956079e-02,\n          1.88227054e-02, -2.16498300e-02,  1.22464737e-02,\n          2.45321505e-02,  2.34635044e-02,  2.70946603e-02,\n          8.74160510e-03,  3.22182216e-02,  4.26494665e-02,\n         -1.00568840e-02, -2.10960768e-02,  3.04139480e-02,\n          1.79967117e-02, -4.96423319e-02,  1.91465840e-02,\n         -1.18218465e-02,  2.38285423e-03,  1.98321976e-02,\n          7.08505362e-02, -8.38661566e-03,  1.87004991e-02,\n         -5.48298918e-02,  2.60852203e-02,  3.32246944e-02,\n          1.97552349e-02,  6.40437752e-02, -4.97555286e-02,\n         -8.01700447e-03, -5.62464371e-02, -4.41626944e-02,\n         -2.75168242e-03, -5.02820723e-02, -2.80373190e-02,\n          4.94710468e-02],\n        [-3.21560875e-02,  2.71169972e-02, -8.19510967e-03,\n          1.60770270e-03,  2.47058831e-02, -2.49550049e-03,\n          1.70294978e-02,  1.02450326e-02, -1.13607459e-02,\n         -2.13541519e-02, -6.16788492e-03, -2.18597911e-02,\n          2.96864044e-02,  2.47772820e-02, -2.21891987e-05,\n         -7.95359816e-03,  6.41579740e-03,  3.59317809e-02,\n          1.12475678e-02, -8.64431076e-03,  6.12263428e-03,\n          1.00257492e-03,  2.85625644e-02, -1.15408292e-02,\n          1.46566180e-03,  2.27811374e-02, -3.33590545e-02,\n         -1.41946925e-02, -7.42415339e-03,  1.40351104e-02,\n          1.13292808e-04, -2.87153963e-02,  1.53072551e-02,\n          3.46420445e-02, -1.16040213e-02, -9.29705426e-03,\n         -1.44796269e-02,  2.03544796e-02,  4.50284667e-02,\n          1.10720901e-03, -1.64407957e-02,  2.45794691e-02,\n          2.87358146e-02, -3.09376754e-02,  1.44157475e-02,\n          2.13642363e-02,  1.48855653e-02,  2.40375046e-02,\n         -1.29006701e-02,  3.58635038e-02,  1.81017052e-02,\n         -4.49565426e-03, -2.16226373e-03,  1.06674684e-02,\n          4.31331247e-03,  1.09617831e-02,  6.89041661e-03,\n          1.46869896e-02,  9.77460295e-03,  4.06788429e-03,\n          3.97501886e-03,  4.93979407e-03,  1.38471846e-03,\n         -4.54716664e-03],\n        [ 9.26229209e-02, -6.37313235e-04,  2.62976158e-02,\n         -7.21515715e-02, -2.00694567e-03, -1.60848685e-02,\n         -4.40783948e-02, -2.47990135e-02, -2.01984239e-03,\n         -2.33045872e-02, -2.51624100e-02, -2.85482928e-02,\n         -9.68507901e-02,  3.37332115e-02, -1.02367148e-01,\n          4.16505896e-02,  1.12174377e-01,  1.93074048e-02,\n          2.18660361e-03,  1.72027051e-02,  8.88713170e-04,\n         -2.56339833e-02, -2.79909149e-02, -9.88720544e-03,\n         -6.04970716e-02,  8.35011993e-03, -2.11047437e-02,\n         -2.67638676e-02,  3.52084823e-02,  9.38449148e-03,\n          1.17889512e-02,  3.28553952e-02, -2.45883055e-02,\n         -3.95276733e-02,  3.91144045e-02, -5.52851073e-02,\n          2.89100222e-02, -6.41698465e-02,  2.25952193e-02,\n          9.65090748e-03,  9.95317532e-05, -5.13837747e-02,\n          4.52481490e-03, -1.81299299e-02,  1.52561199e-02,\n          9.76715460e-02, -1.40621169e-02,  3.26709896e-02,\n          4.25745621e-02,  8.36897016e-05, -2.21009403e-02,\n          1.12297861e-02, -2.07913644e-03,  3.03065078e-03,\n          1.86850186e-02,  4.24260832e-02,  5.52728623e-02,\n         -3.84941921e-02, -7.14084506e-02, -3.49002071e-02,\n          2.84493770e-02,  1.28934979e-02,  6.45095930e-02,\n          1.51335401e-02],\n        [-4.32231911e-02, -4.58977893e-02,  3.19603411e-03,\n         -2.09720675e-02,  8.13318603e-03, -3.91390212e-02,\n          2.89099268e-03,  2.44306703e-03,  8.40227399e-03,\n         -1.36344554e-03,  3.67962336e-03,  4.22643162e-02,\n         -1.32278064e-02,  2.28350926e-02, -2.63465941e-02,\n          1.91610698e-02, -8.08445271e-03, -2.52276789e-02,\n         -4.19016322e-03, -4.40835208e-03, -2.85603795e-02,\n          4.57854709e-03,  2.65414431e-03,  2.08538994e-02,\n         -3.20102200e-02,  1.78094822e-04, -5.73241478e-03,\n         -4.90049645e-02, -9.05580819e-03, -3.03628296e-02,\n          3.26732360e-02, -3.16494592e-02,  2.58357115e-02,\n          1.66472141e-02,  3.44953034e-03, -2.55906489e-02,\n         -1.06304102e-02, -2.27846159e-03,  3.07700876e-02,\n         -4.15349007e-02, -2.70523559e-02, -6.54307380e-03,\n          1.97042450e-02, -7.91823026e-03, -5.64988032e-02,\n         -2.19143163e-02,  3.65387574e-02, -2.27144733e-02,\n          1.65253261e-03, -1.27945989e-02, -4.18441147e-02,\n          6.89197704e-02, -3.18760867e-03, -1.95670761e-02,\n         -3.43872011e-02,  1.93419922e-02, -5.71976155e-02,\n          1.01290606e-02,  1.83719769e-02,  5.52826235e-03,\n          1.12348106e-02, -8.48861318e-03, -6.99743768e-03,\n         -1.49882855e-02]], dtype=float32),\n '/BERT_encoder/transformer/layer_1/self_attention/key/kernel:0': array([[[ 1.66797385e-04,  4.72613052e-02, -5.01637571e-02, ...,\n           8.64892825e-03,  4.06672247e-02, -8.69370252e-03],\n         [ 1.55081348e-02, -1.60052124e-02,  8.74186866e-03, ...,\n           3.46612707e-02,  1.48638543e-02, -1.62587110e-02],\n         [ 3.42820794e-03, -3.43850665e-02, -5.43873757e-02, ...,\n           1.12585999e-01,  1.91524401e-02, -2.11095512e-02],\n         ...,\n         [ 1.78782176e-02, -4.88803536e-02,  4.09115688e-04, ...,\n           5.04333638e-02, -1.82927027e-02,  2.07847152e-02],\n         [-2.56073065e-02,  8.62534419e-02,  4.89283502e-02, ...,\n          -4.14581932e-02,  6.45716488e-02, -4.00690129e-03],\n         [ 4.08420376e-02,  1.93340406e-02,  5.75012453e-02, ...,\n          -1.41613325e-03,  2.57633440e-02, -2.75773957e-04]],\n \n        [[-5.08951098e-02, -5.50441779e-02, -5.54943047e-02, ...,\n          -2.12794729e-02,  2.35556271e-02, -5.09222373e-02],\n         [-5.88587634e-02, -3.66097428e-02,  9.23407152e-02, ...,\n           4.36097533e-02, -5.03236754e-03,  1.03894470e-03],\n         [-4.56143469e-02, -3.31983380e-02,  8.97963494e-02, ...,\n           1.89786348e-02, -3.60343121e-02,  1.75788980e-02],\n         ...,\n         [ 6.41796142e-02,  5.49547449e-02, -7.30507225e-02, ...,\n          -3.01340763e-02,  2.60116756e-02, -1.23510554e-01],\n         [-7.49193132e-02, -7.69502372e-02, -8.75778403e-03, ...,\n          -3.24213319e-02,  5.69488183e-02, -9.94661450e-03],\n         [-2.65218616e-02, -3.78209129e-02, -7.48147368e-02, ...,\n           7.34032467e-02,  1.06483176e-02, -2.24435572e-02]],\n \n        [[ 2.62046903e-02,  4.96842973e-02,  2.14136876e-02, ...,\n           7.46755600e-02,  6.32697996e-03, -3.04787382e-02],\n         [ 1.98805016e-02, -2.59544887e-02,  4.48679216e-02, ...,\n           1.08738104e-02,  3.56283486e-02,  5.25599020e-03],\n         [-6.02825396e-02, -2.64943764e-02,  7.72214681e-02, ...,\n          -4.29114327e-02, -2.18968512e-03,  2.45436421e-03],\n         ...,\n         [ 4.23286669e-02,  1.48714529e-02,  1.30352685e-02, ...,\n          -3.66965532e-02,  3.39835952e-03, -4.20784093e-02],\n         [-1.05754416e-02,  5.48409000e-02,  2.60135662e-02, ...,\n           1.48760956e-02,  7.25877983e-03, -3.81342433e-02],\n         [ 6.16145262e-04, -6.10741377e-02, -2.62821489e-03, ...,\n           2.95826849e-02, -6.33135289e-02,  4.57427800e-02]],\n \n        ...,\n \n        [[-1.19981486e-02, -1.28428955e-02,  1.00759498e-03, ...,\n          -1.63975060e-02, -1.90363061e-02, -2.06896942e-03],\n         [-4.65393551e-02, -2.39187833e-02, -6.22011423e-02, ...,\n          -3.63554130e-03,  2.26807613e-02,  5.13307378e-02],\n         [ 4.97934036e-02,  1.14528183e-03, -2.33353358e-02, ...,\n           7.82091841e-02, -2.90619340e-02,  9.67115834e-02],\n         ...,\n         [ 5.02304323e-02, -8.46944451e-02, -8.32263101e-03, ...,\n           2.24743616e-02,  2.64365915e-02,  6.95417598e-02],\n         [ 7.83915296e-02,  6.35135174e-02, -1.20350467e-02, ...,\n           3.95076023e-03,  5.76810800e-02,  4.81131161e-03],\n         [ 3.52409622e-03,  3.61350700e-02,  4.37569432e-02, ...,\n           6.46426305e-02, -3.55893075e-02, -5.95174916e-02]],\n \n        [[-2.89143305e-02, -9.64370966e-02, -4.94023263e-02, ...,\n           2.87253354e-02, -5.38011920e-03, -6.96185883e-03],\n         [-5.17263748e-02, -6.71604574e-02,  5.94869256e-02, ...,\n          -6.04830422e-02,  2.79142689e-02, -4.24598716e-02],\n         [ 9.72083583e-02, -5.23535162e-02,  3.19608040e-02, ...,\n           1.38300974e-02,  4.63129729e-02, -8.94420594e-03],\n         ...,\n         [-1.78953744e-02, -3.17685269e-02,  4.72585224e-02, ...,\n          -5.15845604e-02,  8.58261529e-03, -3.08838002e-02],\n         [ 5.84359877e-02, -4.35781479e-02, -5.10115363e-03, ...,\n          -7.23947864e-03,  8.51525646e-03,  4.42288294e-02],\n         [-2.05383562e-02, -1.85237527e-02,  1.67976953e-02, ...,\n          -2.66958456e-02,  7.62156397e-02, -5.43057062e-02]],\n \n        [[-4.61457670e-02, -8.72088596e-02,  2.48983745e-02, ...,\n          -2.90529691e-02, -6.57342048e-03, -7.55994394e-02],\n         [ 1.42854983e-02, -8.64733942e-03, -3.50846648e-02, ...,\n          -9.62592196e-03,  4.92529720e-02,  7.89207034e-03],\n         [-2.96849292e-03,  6.71511814e-02,  5.35143092e-02, ...,\n           6.47585979e-03,  9.18917212e-05, -4.40916754e-02],\n         ...,\n         [ 4.88714054e-02, -2.32658572e-02,  4.66632694e-02, ...,\n           9.28774290e-03, -1.26548167e-02, -1.23706385e-02],\n         [-4.47330140e-02,  3.35429087e-02, -4.73684259e-02, ...,\n           2.25088070e-03,  6.25304058e-02,  2.78992858e-02],\n         [-1.22526707e-02, -7.43092746e-02,  3.91186699e-02, ...,\n           1.18756719e-01, -1.51276647e-03, -1.29534742e-02]]],\n       dtype=float32),\n '/BERT_encoder/transformer/layer_1/self_attention/query/bias:0': array([[-6.44129189e-03,  9.89640355e-02, -7.54241459e-03,\n          5.50240576e-02,  6.54885694e-02, -6.74457923e-02,\n         -2.74513625e-02,  3.38699333e-02,  8.68929774e-02,\n         -4.21571247e-02, -6.07311167e-02, -3.56510631e-03,\n          1.33106690e-02, -2.47890744e-02, -4.45569046e-02,\n         -1.53777469e-02,  2.43301131e-02, -8.03407133e-02,\n         -1.00272894e-02,  5.86213171e-02,  5.75267151e-02,\n         -7.12458268e-02, -3.68637219e-03,  3.78858522e-02,\n         -3.23446319e-02, -1.94613077e-02,  9.06528253e-03,\n          4.73134294e-02,  1.06588406e-02,  5.10413274e-02,\n         -6.90752349e-04,  2.43645273e-02, -1.62732173e-02,\n          8.00175220e-03,  3.92778516e-02,  2.05346234e-02,\n          3.07432227e-02, -8.18394218e-03, -8.96870494e-02,\n          6.66068792e-02,  4.21397611e-02, -2.95849536e-02,\n         -7.98921138e-02, -4.14548587e-04, -2.11443771e-02,\n         -3.91490199e-03,  1.78780388e-02, -5.54926274e-03,\n         -2.03046408e-02, -2.21001487e-02,  5.72775640e-02,\n          1.27661144e-02,  3.76154343e-03, -7.93991238e-02,\n         -9.08211991e-03,  8.51117261e-03,  4.00333144e-02,\n          2.15176102e-02,  3.69542465e-02, -6.42913058e-02,\n          3.79906036e-02,  1.67390984e-02, -1.46767676e-01,\n          1.00474637e-02],\n        [ 1.02132726e-02, -8.95701200e-02, -6.89732134e-02,\n         -7.62051567e-02, -1.72486324e-02,  1.67750612e-01,\n         -2.78002266e-02, -2.02413388e-02, -1.38737798e-01,\n          1.85312957e-01,  1.44386575e-01, -1.78069398e-01,\n         -1.76455975e-01,  1.26763821e-01, -5.11133000e-02,\n          1.75514594e-02, -8.27634558e-02, -1.10541731e-01,\n          2.64074262e-02,  3.78015228e-02,  1.30025400e-02,\n         -2.46004865e-01,  7.56678730e-02, -6.48709834e-02,\n          9.73449573e-02, -1.27624333e-01, -3.01105380e-02,\n         -2.11598709e-01, -1.42694384e-01, -1.69597208e-01,\n          2.40209237e-01, -1.32535383e-01,  1.40905157e-01,\n         -1.60567656e-01,  2.63914354e-02, -7.90776461e-02,\n         -4.48593237e-02, -2.38200910e-02, -1.40080392e-01,\n         -7.30179474e-02, -7.63825253e-02, -7.38898888e-02,\n         -1.51378900e-01,  5.50864525e-02, -2.17649397e-02,\n         -9.09490362e-02,  8.20063576e-02,  1.60489678e-01,\n         -1.37409553e-01, -1.17743112e-01,  9.85454693e-02,\n          1.02481097e-01, -6.81234896e-02, -8.17288756e-02,\n          8.44600573e-02,  2.56617516e-01, -1.13095455e-04,\n         -8.89210328e-02, -7.72244344e-03,  6.08121492e-02,\n          1.22283557e-02,  3.99473049e-02, -1.62309766e-01,\n          4.12781574e-02],\n        [-7.07361922e-02,  8.61820951e-02, -5.00397757e-02,\n          3.61834392e-02,  1.11436553e-01, -6.87182322e-02,\n         -2.26472899e-01,  2.12144647e-02, -2.00476825e-01,\n         -1.84070822e-02, -3.80147249e-02, -2.24124372e-01,\n          1.20427795e-01,  1.43872006e-02,  6.92078546e-02,\n          2.28987217e-01, -6.25435933e-02,  9.86063108e-02,\n         -6.43285960e-02, -1.50581121e-01, -2.11157262e-01,\n          1.18782260e-01,  3.35031450e-02,  2.64699738e-02,\n          1.09210588e-01, -1.72662333e-01, -1.13681801e-01,\n          4.80452999e-02, -2.34739289e-01, -1.36652842e-01,\n         -3.51098552e-02, -2.15019077e-01,  2.60862093e-02,\n         -4.54823934e-02, -2.42110360e-02,  7.12756142e-02,\n         -5.95917478e-02, -8.04045722e-02, -1.17304876e-01,\n         -4.29651923e-02,  1.39235273e-01,  2.04388157e-01,\n         -1.06371224e-01,  3.22189853e-02, -2.46087518e-02,\n          1.29903972e-01, -1.23143047e-01,  4.18183170e-02,\n         -7.11028278e-02,  4.57710102e-02, -6.79761544e-02,\n         -3.52365174e-03, -7.10254312e-02,  1.96541920e-01,\n         -6.14644215e-02, -1.29325897e-01, -1.35051057e-01,\n          6.90416694e-02, -3.64861637e-02, -1.61693618e-01,\n          9.75528285e-02,  4.93261367e-02,  7.40240216e-02,\n          1.23493224e-02],\n        [-5.16309552e-02, -4.52027805e-02,  1.24838755e-01,\n         -1.91656664e-01,  1.99637324e-01,  7.14067966e-02,\n          3.18662263e-02,  3.12460940e-02,  1.57706007e-01,\n         -1.60048246e-01,  1.01688094e-01,  1.01064807e-02,\n          6.52993694e-02,  3.00501548e-02, -9.46510863e-03,\n          1.41231671e-01,  1.36059225e-01, -1.28315026e-02,\n         -5.82483709e-02, -2.54833587e-02, -2.45936528e-01,\n          7.54716471e-02,  9.77023393e-02,  1.68835342e-01,\n         -7.56618530e-02,  6.58823475e-02, -1.52024344e-01,\n         -7.05086291e-02,  4.26816791e-02, -9.94917899e-02,\n          8.65899250e-02,  6.50524860e-03, -1.62514538e-01,\n         -1.27380505e-01, -7.04120845e-02, -6.30771294e-02,\n         -8.39059204e-02, -9.65082347e-02,  8.84745866e-02,\n          1.38299793e-01, -1.22782119e-01,  4.16326942e-03,\n          1.50248170e-01, -1.54230252e-01,  6.52558059e-02,\n          9.41562131e-02, -1.51500806e-01,  1.13077834e-01,\n          2.86622457e-02,  3.86481360e-02,  1.44380644e-01,\n         -1.80651471e-02, -2.32171305e-02,  1.72231793e-01,\n         -1.12678640e-01, -1.46441251e-01, -1.27715603e-01,\n          1.53791010e-01,  1.30748644e-01,  1.60394654e-01,\n         -7.31940269e-02,  5.20880297e-02, -6.86393753e-02,\n          3.08292676e-02],\n        [-5.64577207e-02,  7.88076296e-02,  4.40032268e-03,\n         -1.47268981e-01,  7.69013017e-02, -2.33647600e-01,\n         -2.25769244e-02, -1.35537043e-01,  5.73496260e-02,\n         -7.81657174e-02, -2.64889687e-01, -2.14624517e-02,\n         -1.52419299e-01,  1.52785540e-01, -6.05301075e-02,\n          5.45005985e-02,  1.64198682e-01, -1.67612195e-01,\n          9.29333419e-02, -4.15714309e-02, -2.05302626e-01,\n          1.59089029e-01,  6.45821095e-02,  5.54500408e-02,\n         -2.11626198e-02,  1.89164177e-01, -5.88581003e-02,\n         -1.69333681e-01, -5.29211238e-02, -6.29178509e-02,\n         -5.18085100e-02,  2.14608535e-02,  1.70346469e-01,\n         -1.08060442e-01,  8.88634846e-02, -1.10131122e-01,\n         -1.23596319e-03,  1.29045188e-01, -5.03499433e-02,\n         -1.39704764e-01, -1.04615554e-01, -9.20177326e-02,\n         -1.99150573e-02, -1.38385624e-01, -9.82831046e-03,\n         -1.55793667e-01,  1.76097989e-01,  2.25357879e-02,\n         -8.73414725e-02, -1.62393600e-01,  7.99727999e-03,\n         -5.86636476e-02,  1.46028370e-01,  1.73993826e-01,\n          1.09179989e-01,  9.27684605e-02, -2.54871994e-01,\n         -1.40759736e-01, -2.52297997e-01, -8.05928931e-02,\n         -2.30129302e-01, -1.46675840e-01, -1.17800683e-01,\n          1.59086604e-02],\n        [-1.02572870e-02, -7.34243169e-02,  2.00896040e-02,\n          9.76585224e-02,  1.47120645e-02, -8.11206549e-02,\n          9.56309140e-02,  4.29357663e-02, -3.29752266e-02,\n         -3.23941058e-04,  8.30460340e-02,  5.07895648e-02,\n          1.71155613e-02, -6.90204948e-02,  4.96354289e-02,\n         -2.09662002e-02, -5.60066998e-02,  5.98568730e-02,\n          7.69141736e-03,  2.49280874e-02,  5.55716157e-02,\n         -5.32657951e-02,  5.69035076e-02, -1.39887035e-02,\n         -8.60919282e-02,  2.24119481e-02,  1.22194350e-01,\n          4.48487215e-02,  4.53223698e-02,  1.43849570e-02,\n          1.34107247e-01,  6.55244067e-02,  3.87785807e-02,\n         -4.26904336e-02, -2.25503389e-02, -1.56685770e-01,\n          1.13493308e-01, -8.74531642e-02,  2.39281673e-02,\n         -1.70627851e-02,  4.16687466e-02,  8.19225535e-02,\n         -8.59983079e-03,  1.99569315e-02,  3.72253247e-02,\n         -2.97634248e-02, -1.03197386e-02,  1.28449604e-01,\n         -6.92999735e-03,  2.57115383e-02, -1.14159495e-01,\n         -6.76049441e-02, -1.16390057e-01, -2.62520439e-03,\n          9.93406028e-03,  5.98099967e-03,  3.04632932e-02,\n          1.62275471e-02, -1.72074127e-03,  7.81103456e-03,\n         -9.28724278e-03,  2.99108811e-02, -2.54202373e-02,\n          7.83143006e-03],\n        [ 8.85088444e-02,  1.32030755e-01,  9.04766247e-02,\n          2.38167375e-01,  2.62455791e-01,  2.40839422e-01,\n         -4.12281193e-02, -1.37858102e-02,  2.27251068e-01,\n         -2.16544449e-01,  3.63981724e-01,  2.39973098e-01,\n          7.21706823e-02,  3.49815220e-01,  3.33005600e-02,\n          8.72834846e-02, -1.72485396e-01,  3.34202856e-01,\n          8.01631808e-02, -5.78492992e-02,  1.43904656e-01,\n         -3.24867070e-02,  2.28533596e-02, -1.05791472e-01,\n          1.44374296e-01, -3.87413916e-03, -1.43562838e-01,\n         -4.98518571e-02,  1.07649326e-01,  8.71819705e-02,\n          2.88732976e-01,  1.55797213e-01, -1.93510056e-02,\n         -1.27925768e-01, -2.54409593e-02, -1.69250870e-03,\n         -1.39204264e-01,  7.07583278e-02,  1.23355575e-01,\n          1.90310538e-01, -1.68780625e-01,  1.27150193e-01,\n         -5.46985976e-02, -1.33480772e-01,  1.43761113e-01,\n         -2.31417373e-01,  2.92135388e-01, -2.49538794e-01,\n         -3.69226813e-01,  1.25988945e-01,  3.70434746e-02,\n         -2.19641462e-01,  6.53383508e-02,  2.16813236e-02,\n         -3.52453560e-01,  1.45752728e-01,  3.02910842e-02,\n          2.67538846e-01,  3.04862201e-01,  2.56175816e-01,\n          1.90460356e-03,  1.93300843e-01, -2.35139906e-01,\n          1.28374770e-01],\n        [ 6.57337233e-02, -1.12701043e-01, -1.88643456e-01,\n         -9.42892134e-02,  1.14959873e-01, -7.14601502e-02,\n         -1.62344471e-01,  4.29612361e-02, -1.57253053e-02,\n         -1.55572906e-01,  5.12199998e-02, -1.49356529e-01,\n         -1.17040396e-01, -2.15059400e-01,  9.41436097e-04,\n          8.89920741e-02,  9.85510349e-02, -2.70865202e-01,\n         -2.00029150e-01, -3.33574355e-01,  2.27349117e-01,\n         -7.70224407e-02,  4.88305427e-02,  1.19284034e-01,\n         -3.01742069e-02, -1.80528939e-01, -3.71842980e-01,\n          9.14722309e-02,  2.99663544e-01,  1.36046205e-03,\n         -1.30956337e-01,  1.55375870e-02,  2.12075934e-01,\n         -1.98798865e-01,  1.72893722e-02,  2.96234012e-01,\n         -4.15841155e-02,  2.54155427e-01,  9.56501588e-02,\n          1.52071565e-02, -7.59910718e-02, -1.38452247e-01,\n         -2.45515570e-01,  7.61552602e-02,  2.21174970e-01,\n          2.22398549e-01,  1.96516186e-01,  1.67877078e-02,\n          2.84291714e-01, -8.34932253e-02, -2.02879548e-01,\n          1.00215249e-01,  8.00429881e-02,  1.05780534e-01,\n          2.43153527e-01,  7.30658174e-02,  2.02430099e-01,\n         -2.44188309e-01,  1.07480101e-01, -1.54826239e-01,\n         -1.42876193e-01,  3.34057696e-02,  2.51406223e-01,\n          8.65337923e-02]], dtype=float32),\n '/BERT_encoder/transformer/layer_1/self_attention/query/kernel:0': array([[[-0.02237621, -0.01957789, -0.00900354, ...,  0.02041405,\n           0.01606571, -0.01143659],\n         [ 0.06277563, -0.01620939,  0.00333252, ...,  0.03355461,\n          -0.0094321 , -0.01731101],\n         [-0.0328191 , -0.0084535 ,  0.0248028 , ..., -0.05200875,\n           0.04463958,  0.06681378],\n         ...,\n         [-0.00158196, -0.02029356, -0.01112343, ..., -0.02040482,\n          -0.02259685, -0.14942141],\n         [-0.01128424,  0.03811624,  0.01602165, ..., -0.07428858,\n          -0.02675767, -0.07877797],\n         [-0.01064187,  0.00100018, -0.0285246 , ..., -0.02214944,\n          -0.04269615, -0.06413817]],\n \n        [[ 0.082011  , -0.05916488, -0.00018657, ..., -0.05372611,\n           0.03029985, -0.00522205],\n         [-0.00734843, -0.02290177, -0.01494392, ..., -0.02053197,\n          -0.05313117, -0.03254943],\n         [-0.0397171 ,  0.11731769, -0.03055871, ..., -0.05121578,\n           0.03026443, -0.0303712 ],\n         ...,\n         [-0.04693944,  0.03622173, -0.09529687, ..., -0.00057475,\n          -0.00828207,  0.04070821],\n         [ 0.00527547,  0.00543911, -0.06282964, ...,  0.00958981,\n           0.01363006,  0.02563722],\n         [-0.04748094, -0.0204609 ,  0.01498789, ...,  0.06731736,\n           0.01406029, -0.00341497]],\n \n        [[-0.01078319, -0.05318436, -0.08814159, ..., -0.07586752,\n          -0.07316136,  0.0485796 ],\n         [-0.10370265, -0.00928868, -0.02473345, ...,  0.02242124,\n          -0.03782775,  0.05020179],\n         [-0.05154702,  0.01803544, -0.02276454, ...,  0.05573376,\n           0.00385527,  0.03289568],\n         ...,\n         [-0.01087509, -0.08723676,  0.07470322, ...,  0.02069197,\n           0.00407734, -0.01827501],\n         [-0.04920584,  0.00720141,  0.00988548, ..., -0.02779118,\n           0.04161495, -0.03936981],\n         [ 0.01328953,  0.0254648 , -0.02427225, ..., -0.03169989,\n           0.00364641,  0.01918378]],\n \n        ...,\n \n        [[ 0.00631498,  0.01108421, -0.06539323, ..., -0.02172781,\n           0.01146989, -0.01066336],\n         [ 0.04500746, -0.04587931,  0.04693853, ...,  0.01288568,\n           0.01689631, -0.0648466 ],\n         [-0.07695644, -0.00444013, -0.02652155, ..., -0.08625297,\n          -0.06702855, -0.01112551],\n         ...,\n         [-0.03654703,  0.01798445,  0.00752791, ...,  0.01382956,\n          -0.01850921,  0.0088426 ],\n         [ 0.01681291,  0.00869898, -0.00932495, ..., -0.01844167,\n          -0.01156061,  0.02488698],\n         [-0.02272965, -0.0137718 , -0.02621642, ...,  0.04855942,\n           0.01505913,  0.01179059]],\n \n        [[ 0.00787755,  0.02834531,  0.0541933 , ...,  0.05124533,\n           0.01358508,  0.02704872],\n         [-0.05071451, -0.0313941 ,  0.01380912, ...,  0.04587452,\n           0.03912321, -0.02808366],\n         [-0.02678584, -0.01589541, -0.0736303 , ...,  0.00694654,\n           0.0579511 ,  0.05251169],\n         ...,\n         [-0.05597481,  0.00681334,  0.0315872 , ...,  0.02942537,\n          -0.00025801, -0.07323997],\n         [ 0.05161063,  0.01906282, -0.03881471, ...,  0.0045458 ,\n          -0.00332725, -0.03143946],\n         [-0.03160155,  0.06175238, -0.04894703, ..., -0.02417911,\n          -0.00218676,  0.04235819]],\n \n        [[ 0.04710506,  0.0101329 , -0.00246328, ...,  0.02694551,\n           0.04090684,  0.07588997],\n         [-0.06308437,  0.00659665, -0.04668476, ..., -0.00083359,\n           0.04890128,  0.05547681],\n         [ 0.02842804,  0.01860251, -0.02062771, ..., -0.02871931,\n          -0.04504552,  0.04644765],\n         ...,\n         [ 0.00928949, -0.00016299,  0.01440572, ...,  0.04433085,\n          -0.12280385, -0.00216272],\n         [ 0.03783568, -0.00897466, -0.00254032, ..., -0.00250569,\n           0.02268473, -0.01877047],\n         [-0.00468063, -0.03974699,  0.06751648, ..., -0.00573027,\n          -0.05128182, -0.0521481 ]]], dtype=float32),\n '/BERT_encoder/transformer/layer_1/self_attention/value/bias:0': array([[ 1.09527651e-02, -1.24844657e-02,  1.58020610e-03,\n         -3.12190945e-03, -4.95308137e-04,  9.47325863e-03,\n          1.47452438e-02, -1.03283077e-02, -3.14636622e-03,\n          6.51223306e-03,  4.92351921e-03,  4.79759136e-03,\n         -1.85677428e-02, -2.63486360e-03, -5.10496832e-03,\n         -5.87647362e-03, -4.84611839e-03, -9.88374650e-03,\n          9.91118955e-04, -5.53409429e-03, -2.80302693e-03,\n         -1.32861920e-03, -8.09316710e-03,  5.38472040e-03,\n         -6.48608839e-04,  2.20024236e-03, -4.52537602e-03,\n         -3.05066840e-03, -3.25935823e-03,  1.25501659e-02,\n          5.32495836e-03, -1.13232248e-02, -8.45049880e-03,\n         -4.45170840e-03, -2.64733261e-03,  1.54981930e-02,\n         -5.34651335e-03,  5.66939125e-03, -5.71567053e-03,\n          9.21344850e-03,  3.52105754e-03, -7.63048697e-03,\n          5.46429446e-03,  3.09542869e-03,  1.19190733e-03,\n         -9.14514344e-03,  2.24851929e-02, -7.80623115e-04,\n          8.05501174e-03,  4.81376564e-03, -3.15866619e-03,\n         -6.11987151e-02, -5.02405502e-03,  6.95430790e-04,\n          9.84962285e-03,  4.26843268e-04,  1.33463144e-02,\n         -3.20705422e-03,  3.72872222e-03,  4.80300048e-03,\n          4.23566252e-03, -7.09702494e-04,  9.37947258e-03,\n          1.54492129e-02],\n        [ 3.05532105e-02, -4.13823575e-02, -8.30507576e-02,\n         -2.40108613e-02, -6.79274946e-02,  3.01198047e-02,\n         -5.02663366e-02, -2.84685311e-03, -4.10755165e-02,\n         -4.33283225e-02,  2.01830976e-02,  4.80711982e-02,\n          6.10320456e-02, -9.63740945e-02,  9.37036127e-02,\n         -7.23001063e-02,  7.12701455e-02,  2.16717348e-02,\n         -8.51315409e-02,  5.55367880e-02, -4.50238846e-02,\n          4.19441685e-02,  8.22506770e-02, -1.18262519e-03,\n         -1.13250144e-01,  1.62743494e-01, -1.49920136e-02,\n         -5.63024059e-02, -1.02750696e-01,  1.39007997e-03,\n         -1.18393250e-01,  5.24033383e-02, -4.71557081e-02,\n         -1.63151219e-01, -2.53700968e-02, -1.79959983e-02,\n          4.00162861e-02, -1.11157848e-02, -9.54832062e-02,\n         -1.54698342e-01,  5.38155027e-02,  7.13788671e-03,\n         -8.67172629e-02, -2.91542429e-02, -8.15561190e-02,\n          4.53053899e-02, -5.55371642e-02, -1.42005906e-02,\n         -3.31389196e-02, -1.33639306e-01, -9.48418677e-03,\n         -9.07499939e-02,  4.08663042e-02, -3.34379002e-02,\n         -1.56211555e-01, -3.48041430e-02, -5.62252216e-02,\n         -2.31648032e-02,  2.46728770e-03,  2.36949441e-03,\n          1.00822918e-01, -4.55421768e-02, -1.96146071e-02,\n          1.31626045e-02],\n        [ 3.93363014e-02,  1.67499855e-02,  2.15643588e-02,\n          6.77568000e-03, -5.43500222e-02,  2.49831681e-03,\n          3.01557034e-02,  6.95167715e-03, -5.07572992e-03,\n          8.16681087e-02,  1.88255589e-02, -1.57573652e-02,\n         -9.12771933e-03, -3.22900563e-02,  1.59162059e-02,\n          1.35414419e-03,  2.06517335e-03, -3.02127399e-03,\n          1.79965131e-03, -4.27419469e-02, -7.20571820e-03,\n          1.75161194e-02, -1.76270343e-02, -9.41346679e-03,\n          2.19321568e-02, -1.16088437e-02,  1.17049636e-02,\n          2.33048033e-02,  3.51089099e-03,  7.40670115e-02,\n         -6.52547786e-03,  3.68291922e-02, -4.21214290e-03,\n         -2.55127698e-02, -5.21861725e-02,  2.52633914e-03,\n          1.28132179e-02,  1.98359583e-02,  4.74276133e-02,\n         -1.32421302e-02, -2.03895904e-02,  6.68805465e-03,\n          1.91977229e-02, -5.10875285e-02, -5.29053528e-03,\n          4.92650364e-03,  1.40347574e-02, -9.73357260e-03,\n          5.46737202e-02,  2.08469313e-02, -1.74199473e-02,\n          2.33366657e-02,  2.20893417e-02, -3.47822309e-02,\n         -9.55254585e-03,  1.42682157e-02, -7.73226435e-04,\n         -1.33550009e-02,  3.06542759e-04, -7.73136131e-03,\n         -6.30415929e-03, -4.16819751e-02, -1.70159172e-02,\n          1.00098420e-02],\n        [-2.34123878e-02, -2.84709223e-02,  7.36493152e-04,\n         -7.58353323e-02, -2.13482063e-02,  1.85367409e-02,\n          1.99904647e-02,  1.86237134e-02,  1.50094330e-02,\n         -3.85817848e-02,  2.29468681e-02, -7.96282068e-02,\n         -3.51143181e-02,  1.11639705e-02,  5.91275329e-03,\n         -2.52737291e-03,  2.15618052e-02,  2.01649498e-02,\n         -3.57219353e-02,  4.50483784e-02, -3.31720933e-02,\n         -1.38695771e-03, -1.00023681e-02,  5.25297737e-03,\n          2.47582458e-02, -2.80622207e-02,  6.36152253e-02,\n          1.34663191e-02,  3.27919126e-02, -2.13776659e-02,\n         -3.26274186e-02,  2.68687331e-03,  6.49997219e-02,\n          2.34144572e-02,  3.47492173e-02, -3.33578885e-02,\n         -5.31900451e-02,  1.14765554e-03, -7.04686642e-02,\n          4.04759459e-02, -4.20925096e-02, -1.02489851e-02,\n         -2.46531237e-02,  4.46903966e-02,  3.76911694e-03,\n         -1.35148475e-02, -2.44377907e-02,  1.73641369e-02,\n         -3.81388627e-02,  4.91008870e-02,  2.67789308e-02,\n         -1.93286370e-02,  4.37605344e-02, -2.03500744e-02,\n          5.83953084e-03,  4.29026224e-02,  4.99790236e-02,\n         -9.98955686e-03,  4.64889370e-02,  1.36056785e-02,\n         -6.99670659e-03,  2.83892099e-02,  3.03626209e-02,\n          1.46122221e-02],\n        [ 8.05773884e-02, -7.14434450e-03, -8.16607848e-03,\n          1.67886727e-02,  2.26937272e-02,  2.37680562e-02,\n          1.86189488e-02, -4.33878340e-02,  1.10359322e-02,\n          1.41901923e-02, -3.85795459e-02, -4.38097939e-02,\n          4.80725467e-02, -1.55275129e-03,  2.64936052e-02,\n         -1.00311674e-02,  1.18302659e-03, -7.19573442e-03,\n          3.99826007e-04,  1.10153258e-02,  2.39943527e-02,\n         -8.24256614e-03, -1.71136595e-02,  4.67959652e-03,\n          5.24605773e-02,  3.54865082e-02, -2.89413854e-02,\n         -4.17401921e-03,  5.64197414e-02, -1.44197159e-02,\n         -2.31008492e-02,  3.73128639e-03, -3.35708501e-06,\n         -5.03722392e-02,  3.04365940e-02, -3.57640795e-02,\n          1.68241523e-02, -4.85648885e-02, -7.15063512e-02,\n          9.72239114e-03, -1.00621404e-02,  2.72597726e-02,\n         -2.83939503e-02, -2.32723746e-02,  4.30695452e-02,\n         -4.28770334e-02, -1.38229802e-02, -2.04522610e-02,\n         -7.42595503e-03, -4.39606607e-02, -3.49946087e-03,\n         -5.03304675e-02, -3.37852910e-02,  2.63904594e-02,\n         -6.12789951e-02,  9.90534946e-03, -5.89523443e-05,\n          3.71575318e-02, -2.74714250e-02,  1.40187703e-02,\n          4.48643463e-03, -4.07212041e-02, -2.18454842e-02,\n         -1.26022464e-02],\n        [ 1.18086487e-02,  1.33678969e-02,  8.92182905e-03,\n          4.67020553e-03,  1.32327089e-02, -7.36222835e-03,\n         -6.60987385e-03, -1.57807535e-03,  2.38403608e-03,\n          4.35552886e-03,  1.57458279e-02, -2.52070650e-03,\n         -9.57052282e-04, -2.50335457e-03, -7.01029738e-03,\n         -9.56910104e-03,  4.69128741e-03, -5.09109441e-03,\n          1.17767313e-02, -3.81325046e-03,  1.14792329e-03,\n          1.98108912e-03,  8.84848274e-03, -5.78622217e-04,\n          5.46091702e-03, -1.14629669e-02,  3.60600138e-03,\n          6.09761104e-03,  3.02814122e-04, -2.49318290e-03,\n         -6.12473488e-03,  1.14729609e-02,  1.21784918e-02,\n          4.62301215e-03, -2.05505881e-02, -1.00905104e-02,\n          3.20891663e-03,  1.85021712e-03,  6.32240903e-03,\n          8.76715034e-03, -1.71988981e-03, -2.23716330e-02,\n         -1.69900584e-03,  1.41086094e-02,  2.00684164e-02,\n          5.99023607e-03, -4.20614751e-03, -4.60874895e-03,\n         -3.04648723e-03, -9.20929853e-03,  6.48168498e-04,\n          6.08047470e-03, -1.73814967e-03,  4.14627511e-03,\n          1.16742263e-02, -1.55640151e-02, -1.26512405e-02,\n         -9.49831912e-04,  7.38801155e-03,  6.67556003e-03,\n          9.10258479e-03, -1.86994802e-02,  9.00741667e-03,\n         -1.22900559e-02],\n        [ 4.04008552e-02, -1.69770028e-02, -2.95541696e-02,\n          7.25860661e-03, -2.06279177e-02, -1.25998640e-02,\n         -1.45074250e-02, -2.95550544e-02,  2.75680479e-02,\n          4.34025154e-02,  1.80322379e-02,  2.18480080e-02,\n         -1.20364688e-02, -2.35481411e-02, -1.40428498e-01,\n          3.08832922e-03, -4.50041108e-02,  9.49459970e-02,\n         -3.17494832e-02, -4.65581529e-02,  2.39374526e-02,\n          4.42442968e-02, -2.89458595e-02,  2.59460714e-02,\n         -6.90598413e-02, -2.11656634e-02, -3.39310430e-02,\n         -3.78523022e-02,  3.35618779e-02,  4.84428834e-03,\n         -2.38974504e-02,  1.81693584e-02, -4.58046459e-02,\n          4.63686362e-02,  9.34177078e-03,  5.54037280e-02,\n          4.56119031e-02,  7.31351674e-02,  1.96628850e-02,\n         -3.93293723e-02, -3.26162949e-02, -5.89255281e-02,\n         -2.82578208e-02,  6.03317702e-03, -3.81719433e-02,\n          3.88568873e-03,  3.15002771e-03, -4.18444052e-02,\n         -4.01750058e-02,  3.49053368e-02,  4.34187241e-02,\n          5.91776408e-02, -2.48993281e-03,  6.22840971e-03,\n         -1.94539540e-02, -3.14379600e-03, -1.77581515e-02,\n         -2.97837500e-02, -2.87380256e-02,  9.33643524e-03,\n         -1.10316249e-02, -9.40461271e-03,  2.02097762e-02,\n          1.64961182e-02],\n        [ 5.70294773e-03, -8.83993134e-03,  5.12249256e-03,\n         -3.64094996e-03, -4.78934584e-04, -2.06509903e-02,\n          1.29589001e-02, -1.11180115e-02, -5.77125186e-03,\n          3.54059204e-03, -2.19410434e-02, -5.06843207e-03,\n          1.64843258e-03, -2.66254134e-02, -2.30163243e-02,\n         -1.56190367e-02, -8.73286685e-04, -2.18731537e-03,\n          1.37616312e-02, -6.80531049e-03,  1.69198867e-02,\n          2.11268407e-03,  8.92642792e-03, -2.70980652e-02,\n          4.35029380e-02, -5.79163618e-03, -1.41301507e-03,\n         -2.57704384e-03, -1.53367268e-02, -2.08951184e-03,\n          1.53804943e-03, -8.19790550e-03, -1.34030264e-02,\n         -2.22801464e-03, -1.96012128e-02, -8.81332066e-03,\n         -4.05485695e-03,  1.33967772e-02,  8.04150011e-03,\n          2.12268960e-02,  1.46416128e-02,  4.94640321e-03,\n         -5.40292822e-03, -2.45269910e-02, -1.89921129e-02,\n         -7.71337596e-04, -1.72820520e-02, -5.35842357e-03,\n          1.31019368e-03,  2.39498746e-02,  1.22945979e-02,\n         -8.78904387e-03, -1.89018212e-02,  1.93494163e-03,\n         -2.26826370e-02, -3.02029438e-02, -3.04097049e-02,\n          5.90145448e-03, -1.00114392e-02, -1.21569913e-02,\n         -1.08225178e-03,  1.79593619e-02,  1.17043797e-02,\n          9.51384939e-03]], dtype=float32),\n '/BERT_encoder/transformer/layer_1/self_attention/value/kernel:0': array([[[-0.00421962,  0.04022469,  0.02309631, ...,  0.05554038,\n           0.04999629, -0.03434082],\n         [-0.01023489, -0.02829907,  0.00499921, ..., -0.00028672,\n           0.02989989,  0.00816347],\n         [-0.05131438,  0.03833893,  0.02650933, ...,  0.0051645 ,\n           0.00888132,  0.0243581 ],\n         ...,\n         [-0.0029306 ,  0.08646218, -0.01379521, ..., -0.04476966,\n          -0.03588656,  0.05730847],\n         [ 0.09100505, -0.0036795 , -0.08226654, ..., -0.07342175,\n          -0.04637269, -0.02460274],\n         [ 0.10972889,  0.00645093,  0.09953509, ..., -0.02178459,\n          -0.02899822,  0.00198626]],\n \n        [[-0.02699785, -0.035911  ,  0.03232173, ..., -0.016935  ,\n          -0.0448316 , -0.00076852],\n         [-0.024956  , -0.02807096, -0.01067199, ...,  0.05081289,\n           0.04779675, -0.00218405],\n         [ 0.0382691 , -0.00739651, -0.04056926, ..., -0.04080509,\n           0.00862926,  0.00074993],\n         ...,\n         [ 0.01251753, -0.00570793, -0.02259349, ..., -0.01083413,\n           0.00051445,  0.00914788],\n         [-0.04292868, -0.05016332,  0.0534305 , ...,  0.01389143,\n           0.00395717, -0.05941066],\n         [-0.05979822, -0.01736395,  0.06880283, ..., -0.00330714,\n          -0.04491393,  0.1051416 ]],\n \n        [[-0.04287792,  0.01152597,  0.00523525, ..., -0.10073813,\n          -0.01042655,  0.01708622],\n         [ 0.04524275, -0.04211951, -0.01253098, ..., -0.00781403,\n           0.02678971,  0.02361631],\n         [ 0.02225992, -0.00126162,  0.00882356, ...,  0.0775272 ,\n          -0.05351106, -0.03197172],\n         ...,\n         [-0.02379892, -0.02565516,  0.02906579, ..., -0.03014015,\n          -0.05756789, -0.02275169],\n         [ 0.00971872, -0.02446663, -0.04486034, ...,  0.04447774,\n           0.0244532 ,  0.0159765 ],\n         [ 0.03467058, -0.0131343 ,  0.0455757 , ...,  0.063323  ,\n           0.03819449, -0.01783045]],\n \n        ...,\n \n        [[-0.05544922,  0.00782107,  0.01683092, ..., -0.02587227,\n          -0.02069555,  0.02412881],\n         [-0.00696307, -0.01329024,  0.0076812 , ..., -0.00661563,\n          -0.04328721, -0.0049888 ],\n         [-0.01254771, -0.00393548,  0.04350484, ..., -0.02490757,\n          -0.01633984, -0.08728998],\n         ...,\n         [ 0.05818336, -0.0328349 ,  0.05993201, ..., -0.00390354,\n           0.05198938,  0.04280593],\n         [ 0.02220396, -0.09091209,  0.05404837, ..., -0.03598984,\n          -0.02487217, -0.04793845],\n         [ 0.01939032, -0.00216226,  0.03511104, ...,  0.03446514,\n           0.08219255, -0.10554817]],\n \n        [[ 0.03740245, -0.01282039, -0.00299914, ..., -0.0461968 ,\n          -0.05418815, -0.02811808],\n         [ 0.06262326,  0.01417199, -0.03731973, ...,  0.00796727,\n          -0.02952717, -0.05781848],\n         [ 0.01143209, -0.00182726,  0.06719107, ...,  0.0046738 ,\n          -0.03121395, -0.03413587],\n         ...,\n         [-0.05310216, -0.03016434,  0.07348973, ..., -0.02195082,\n           0.02346428, -0.00765667],\n         [ 0.0041323 , -0.01946497,  0.01656545, ..., -0.01723748,\n          -0.01935462,  0.00108172],\n         [-0.07627228,  0.04331116,  0.06337726, ...,  0.08260985,\n           0.00332942,  0.04642916]],\n \n        [[-0.06973369,  0.01780137,  0.02802468, ...,  0.06964359,\n          -0.01647435,  0.00495814],\n         [ 0.00975347,  0.04703554, -0.02699093, ..., -0.04088316,\n           0.04594746, -0.02471988],\n         [-0.01854757, -0.08657221,  0.02095302, ...,  0.04869622,\n          -0.02150989, -0.01972027],\n         ...,\n         [-0.01147962, -0.04730931,  0.0291779 , ..., -0.06277137,\n          -0.00523764,  0.00203235],\n         [ 0.05840191, -0.03538099,  0.06099384, ..., -0.01624527,\n           0.03128063,  0.07290979],\n         [ 0.04315198, -0.03476126, -0.0172373 , ...,  0.00563375,\n          -0.0309631 ,  0.04449378]]], dtype=float32),\n '/BERT_encoder/transformer/layer_1/self_attention_layer_norm/beta:0': array([ 4.89117131e-02,  2.27294311e-01, -6.64234981e-02,  4.91330437e-02,\n         5.01051322e-02,  7.77859241e-02,  3.40001322e-02,  1.31452931e-02,\n        -1.27732813e-01,  3.70416827e-02, -7.44623225e-03, -1.90457683e-02,\n        -1.27068624e-01, -5.24594933e-02, -1.42940998e-01,  8.88654366e-02,\n         9.01711136e-02,  3.29415463e-02,  1.00287132e-01, -9.47294012e-03,\n         4.75321785e-02, -6.73938543e-02,  1.94514394e-02,  2.42654793e-02,\n        -8.44208077e-02, -1.87431410e-01, -1.64057314e-01,  9.22927856e-02,\n        -2.16174815e-02,  1.11670047e-01, -6.44407282e-03, -1.23802945e-01,\n         4.37058879e-05, -8.56085941e-02,  9.42542776e-02,  2.47533172e-01,\n         9.37594697e-02, -1.57538593e-01, -6.02088533e-02,  2.34079640e-03,\n        -4.52802293e-02,  8.03047046e-02,  8.94752964e-02,  4.48664613e-02,\n        -5.23310062e-03,  2.10094750e-02,  9.42408815e-02, -3.24912071e-02,\n        -1.85766488e-01, -3.46705392e-02, -2.18119994e-02,  5.38567938e-02,\n        -4.80942689e-02,  4.01226059e-02,  3.33231874e-02,  5.06590120e-02,\n        -6.46058246e-02, -1.18587382e-01,  7.97687471e-02,  2.31824711e-01,\n         1.80289775e-01, -5.85610308e-02,  7.01020658e-02,  7.69536570e-02,\n         1.63115427e-01, -9.63902548e-02, -1.02789819e-01, -1.55454816e-03,\n        -5.59145287e-02, -7.06893131e-02,  1.01049826e-01,  3.59451436e-02,\n        -4.46570665e-02, -1.19329542e-01, -2.98015177e-02,  2.03103609e-02,\n        -1.46211699e-01, -1.16926804e-01,  9.59049687e-02, -2.40689624e-04,\n         7.46076852e-02,  5.66891097e-02,  9.49000567e-03, -2.82540657e-02,\n        -1.15946867e-01,  2.86717206e-01,  4.10949960e-02, -1.22613803e-01,\n         4.37749028e-02, -4.51300144e-02,  1.27775431e-01, -1.25073513e-03,\n         4.50868011e-02,  9.65031311e-02,  2.82651763e-02, -1.22104563e-01,\n        -2.11237166e-02,  9.47646275e-02, -3.86724979e-01,  8.14076290e-02,\n        -1.29989207e-01,  8.01546965e-03,  4.72687259e-02, -3.21400575e-02,\n         2.98790466e-02, -8.34252499e-03,  2.15938520e-02, -7.93946609e-02,\n         1.14678238e-02, -7.42195174e-04, -2.45974865e-02, -3.49446684e-02,\n        -1.30830586e-01, -1.18348964e-01, -1.34000987e-01, -1.94316253e-01,\n         1.02037787e-01, -2.53794551e-01, -2.17450724e-04,  2.50676513e-01,\n         1.23965636e-01, -1.60788663e-03, -5.57180643e-02,  1.14616983e-01,\n        -7.96155706e-02, -6.83464408e-02, -2.56298780e-02,  4.94955145e-02,\n        -5.40416911e-02,  2.27115601e-02,  1.59758896e-01,  1.49765611e-02,\n        -4.98013757e-02, -4.74626943e-02,  3.47689539e-01,  1.67338196e-02,\n        -1.20999062e+00,  1.48717267e-02,  5.39624989e-02,  4.07755114e-02,\n         4.12707357e-03, -6.95000365e-02, -4.34322841e-02, -1.23312674e-01,\n         2.21230134e-01,  9.25674438e-02, -1.17744384e-02,  1.04997661e-02,\n         1.09619997e-01,  8.26195534e-03,  2.28723809e-01,  5.55752516e-02,\n         4.17459346e-02, -2.20567919e-02,  2.37108339e-02, -3.31357159e-02,\n         4.75200206e-01, -1.04623921e-01,  1.73560664e-01,  7.51614049e-02,\n        -1.17505528e-01, -1.19304828e-01, -8.71795788e-02,  9.58581343e-02,\n         4.29156460e-02, -7.59482309e-02,  2.24502623e-01,  4.23804969e-02,\n        -5.49612045e-02,  5.05553931e-02, -1.16666421e-01, -1.82287339e-02,\n         4.87455167e-02,  8.76425020e-03, -1.70623332e-01,  1.38128251e-02,\n         1.10720567e-01, -1.47590265e-01,  9.94486511e-02, -2.15191524e-02,\n         1.14507694e-02,  9.67514291e-02,  1.45433739e-01, -2.44446704e-03,\n         2.31048241e-01,  1.25088871e-01,  2.57870443e-02,  3.42211761e-02,\n        -1.21651791e-01,  7.26470649e-02, -4.74551879e-02, -8.56093038e-03,\n         1.79767177e-01, -2.06919983e-01, -4.02968302e-02,  4.82828766e-02,\n        -1.21423200e-01, -1.65329352e-02, -9.29201487e-03,  1.01821825e-01,\n         4.18177061e-02,  1.36885732e-01, -1.16112016e-01, -8.76931176e-02,\n        -2.10656449e-01,  2.44598240e-01, -5.32381535e-02, -4.37986217e-02,\n        -7.98626542e-02,  6.42110854e-02, -6.57808557e-02,  1.92288592e-01,\n        -2.12098956e-02,  2.15101726e-02, -2.12898534e-02,  5.72743900e-02,\n         8.85030627e-02, -3.99270542e-02, -1.65379569e-01, -1.73177384e-02,\n         2.63754904e-01, -1.58410240e-02,  4.39560274e-03, -1.86377063e-01,\n         3.63351181e-02, -1.23378048e-02, -4.54702415e-02,  1.19532235e-01,\n         1.59490943e-01,  3.43305953e-02,  4.47189622e-02, -5.11757471e-02,\n         1.02564923e-01,  6.27738908e-02, -6.38867319e-02, -9.37246010e-02,\n        -4.57128324e-02, -4.44245078e-02, -4.72263731e-02,  1.02965638e-01,\n        -8.24002177e-02, -3.82150076e-02, -3.70570272e-02, -2.74459034e-01,\n         1.25261571e-03, -6.82928041e-02,  1.21472016e-01,  8.60479940e-03,\n         1.11817248e-01, -2.30595209e-02,  2.20834643e-01,  6.96875900e-02,\n         1.35117406e-02,  5.99342845e-02,  2.56391820e-02,  1.61036626e-02,\n        -1.07867725e-01,  1.20708652e-01,  7.34529048e-02, -9.40010417e-03,\n        -2.54754089e-02, -1.74687386e-01,  3.95819753e-01, -1.57053005e-02,\n         4.51009674e-03, -1.95828691e-01,  7.72215202e-02, -6.95714876e-02,\n         2.13364791e-02, -2.83760577e-01, -9.58695039e-02, -5.07079586e-02,\n         4.00297083e-02, -1.02112696e-01, -4.17415053e-02,  2.89232731e-01,\n        -1.28890347e+00, -1.52866431e-02,  1.64959226e-02, -6.12258539e-02,\n         1.13473590e-02, -2.00197008e-02, -3.39087620e-02,  2.10204720e-01,\n         2.06546928e-03,  1.16248094e-02,  1.04012166e-03,  1.48497345e-02,\n         1.23518929e-01, -1.96433049e-02, -9.56153944e-02,  2.22576410e-02,\n        -2.22990382e-03,  1.55606061e-01, -8.39811340e-02,  1.52158052e-01,\n        -1.37196318e-03, -1.93136841e-01,  3.85846756e-02, -2.21010476e-01,\n        -7.47076795e-02, -7.57537410e-03,  6.36310317e-03,  1.68479457e-02,\n         1.22683160e-01,  7.71844909e-02, -4.51260712e-03,  1.19714461e-01,\n         2.03379634e-04,  1.57716066e-01, -1.87172830e-01,  4.94422317e-02,\n        -3.81975286e-02, -1.67782083e-02, -8.56198370e-02, -2.20998656e-02,\n         1.31353857e-02,  1.64239127e-02, -7.62107670e-02,  1.49409309e-01,\n         4.23309468e-02, -2.68048234e-02, -7.67576844e-02, -3.02924123e-02,\n        -1.09595634e-01,  9.22861993e-02,  9.73242223e-02, -1.85569152e-01,\n        -1.25939026e-01,  4.68287289e-01, -3.32817852e-01, -1.36960059e-01,\n         5.27506880e-02,  8.27025026e-02,  4.61855065e-03,  4.62062098e-02,\n         5.95493093e-02, -5.60459495e-02, -1.22879289e-01,  1.10323988e-01,\n         9.72579699e-03,  1.97327044e-02,  9.64682624e-02,  1.74407467e-01,\n         1.69169195e-02,  1.68810546e-01,  3.19141410e-02, -2.14502309e-02,\n         1.26399277e-02,  1.42808259e-01, -1.83242485e-01,  5.05206268e-03,\n         9.01195407e-03, -2.01282725e-01,  1.56590983e-01, -1.06384724e-01,\n         7.38885820e-01, -5.51271960e-02, -2.81614270e-02,  9.01357755e-02,\n         2.46107966e-01, -9.92472768e-02, -6.53842688e-02, -1.65451597e-02,\n         1.66363358e-01, -2.19751685e-03,  7.06623197e-02,  1.28016528e-02,\n        -1.65681429e-02,  1.44860551e-01,  9.42715555e-02,  5.88980094e-02,\n        -2.93206461e-02,  6.10786714e-02,  8.32249448e-02, -2.51811326e-01,\n         1.05240002e-01,  1.55025810e-01,  1.46053299e-01, -1.52575970e-01,\n         2.69503128e-02, -1.94311403e-02,  4.22552787e-02, -3.39713017e-03,\n        -1.97091531e-02,  5.56113310e-02, -1.60144400e-02, -3.72188464e-02,\n         9.82794613e-02, -2.51930812e-03, -1.06597804e-02,  1.93090484e-01,\n        -1.03302486e-02,  1.15267463e-01, -4.41549197e-02, -3.92060764e-02,\n         7.52426907e-02, -7.36800546e-04, -2.10872501e-01,  8.45046889e-05,\n         2.01448485e-01, -1.02638662e-01, -6.10818528e-03, -1.11035071e-01,\n         1.17002852e-01,  1.48173288e-01,  9.03628916e-02,  1.39910188e-02,\n         7.92703032e-02,  4.34748866e-02,  1.55611530e-01, -1.15605652e-01,\n        -6.34141266e-03, -4.65861708e-02, -3.73140117e-03,  1.71672106e-02,\n         5.37176691e-02,  2.64047366e-02,  1.49932534e-01,  4.19689976e-02,\n         8.33911076e-02, -1.49913698e-01,  2.46363077e-02,  1.75075665e-01,\n         1.09720938e-01,  1.78964669e-03,  2.23699547e-02,  3.72974528e-03,\n         2.18035400e-01,  9.54644233e-02,  7.50712827e-02, -5.14285937e-02,\n         9.09541398e-02,  4.74351384e-02, -1.67254597e-01,  7.10506216e-02,\n        -4.40580070e-01,  1.60990313e-01, -1.02960624e-01, -8.93315822e-02,\n        -1.47271249e-02, -6.53257817e-02,  5.04384153e-02, -1.36338342e-02,\n         2.84177923e+00,  6.65684491e-02, -4.25561480e-02,  9.67840776e-02,\n         2.27821711e-02, -1.01535112e-01,  1.54362321e-01, -4.37592901e-02,\n         1.54886425e-01,  7.16656819e-02,  3.69926870e-01,  1.19273059e-01,\n        -5.50703816e-02,  4.83814953e-03,  1.16927013e-01, -2.38646608e-04,\n        -6.79658279e-02, -4.29391824e-02, -1.27160281e-01,  4.40259092e-02,\n        -4.68634851e-02, -6.48434907e-02,  1.41029000e-01,  3.64085399e-02,\n         7.99607411e-02,  1.25149358e-02, -1.38687402e-01,  7.66527802e-02,\n         1.03112914e-01, -3.53535488e-02, -2.01779790e-02,  6.41473755e-02,\n        -1.57809541e-01, -4.79692332e-02, -1.25371071e-03, -5.74032813e-02,\n         2.20695108e-01,  1.50961936e-01, -2.78952345e-03,  1.40676182e-02,\n         1.05516970e-01, -7.24707916e-02,  5.60919866e-02, -4.89517301e-02,\n        -1.13315880e-02,  1.25166252e-01, -6.97957128e-02,  4.45252620e-02,\n         1.70376822e-01,  5.44404462e-02,  2.15974316e-01,  3.80005091e-02,\n        -4.80694138e-02, -1.73675373e-01, -1.44078240e-01, -7.52154887e-02,\n         3.05100143e-01,  1.31706357e-01,  7.59962872e-02, -8.93375184e-03,\n         1.12634346e-01,  1.39505550e-01,  3.04721594e-01,  1.47133127e-01,\n         1.63486585e-01, -1.22658193e-01, -2.51701083e-02,  1.34385958e-01],\n       dtype=float32),\n '/BERT_encoder/transformer/layer_1/self_attention_layer_norm/gamma:0': array([0.9176516 , 0.84516793, 0.8650749 , 0.84748155, 0.8492457 ,\n        0.861271  , 0.85195255, 0.84407514, 0.8243471 , 0.8690632 ,\n        0.8608867 , 0.90576077, 0.9077932 , 0.86304116, 0.89692324,\n        0.8439711 , 0.89766854, 0.8760953 , 0.85264164, 0.838646  ,\n        0.87056524, 0.8868068 , 0.8058823 , 0.6868808 , 0.91454524,\n        0.8687263 , 0.93088776, 0.8325247 , 0.8768805 , 0.8580947 ,\n        0.8500631 , 0.79840165, 0.8609313 , 0.86431414, 0.88930315,\n        0.9153061 , 0.8463847 , 0.8411005 , 0.8641709 , 0.86724734,\n        0.87651914, 0.8427679 , 0.8729916 , 0.843663  , 0.8724759 ,\n        0.8789832 , 0.8510905 , 0.87991863, 0.8651871 , 0.9221984 ,\n        0.89838684, 0.85042983, 0.8690286 , 0.8774456 , 0.8422315 ,\n        0.8705637 , 0.88205904, 0.86356   , 0.9035814 , 0.8539825 ,\n        0.8768334 , 0.8682252 , 0.8925283 , 0.89457005, 0.89686215,\n        0.8366762 , 0.8590298 , 0.85902214, 0.88745487, 0.8434356 ,\n        0.86454666, 0.8687881 , 0.8405441 , 0.91490525, 0.88261443,\n        0.8806248 , 0.8527323 , 0.8818555 , 0.87530607, 0.82612264,\n        0.84662896, 0.8508173 , 0.8237889 , 0.84789354, 0.92154825,\n        0.86766887, 0.83124274, 0.8825686 , 0.8751693 , 0.8590515 ,\n        0.8987372 , 0.8717145 , 0.85664856, 0.87877995, 0.8802842 ,\n        0.87819403, 0.8238125 , 0.9095967 , 0.8954211 , 0.84078765,\n        0.8693254 , 0.83567375, 0.8688929 , 0.8607901 , 0.8985872 ,\n        0.82201976, 0.85156745, 0.85361326, 0.8424057 , 0.88722086,\n        0.84349966, 0.8392659 , 0.8470317 , 0.90082073, 0.87627196,\n        0.92794365, 0.8484655 , 0.9406403 , 0.8481451 , 0.9124591 ,\n        0.86993104, 0.7821331 , 0.88874286, 0.82323956, 0.91584903,\n        0.86300063, 0.8889549 , 0.8721599 , 0.86051303, 0.8767633 ,\n        0.9526027 , 0.9047274 , 0.8822826 , 0.86746424, 0.664219  ,\n        0.8706157 , 1.2258888 , 0.91274405, 0.83488846, 0.87961334,\n        0.8511765 , 0.8813987 , 0.89610344, 0.8660948 , 0.8797505 ,\n        0.8657599 , 0.8652777 , 0.83887726, 0.84235144, 0.86471456,\n        0.8814862 , 0.8553804 , 0.8427489 , 0.89269745, 0.85496086,\n        0.9000196 , 0.8670824 , 0.85965466, 0.8981403 , 0.88200283,\n        0.8779524 , 0.8843597 , 0.8482535 , 0.893369  , 0.8871695 ,\n        0.8732065 , 0.966931  , 0.88591194, 0.8714109 , 0.85734355,\n        0.85853726, 1.0172855 , 0.8536345 , 0.9218477 , 0.90914977,\n        0.82825243, 0.87583774, 0.88587415, 0.8781553 , 0.8610366 ,\n        0.84131396, 0.835335  , 0.88020176, 0.84434235, 0.8805616 ,\n        0.8803273 , 0.88191044, 0.8971239 , 0.8955739 , 0.8365578 ,\n        0.82490337, 0.8437392 , 0.8307804 , 0.7309991 , 0.8118417 ,\n        0.9132903 , 0.8668824 , 0.86652267, 0.85649264, 0.8728774 ,\n        0.86019343, 0.8492853 , 0.9066613 , 0.85938334, 0.8927919 ,\n        0.91957694, 0.8328044 , 0.8699191 , 0.8701917 , 0.85686326,\n        0.8572301 , 0.9268919 , 0.8664057 , 0.89617133, 0.90768445,\n        0.8989221 , 0.8705363 , 0.8843758 , 0.8683698 , 0.8685407 ,\n        0.8581287 , 0.85038537, 0.8539421 , 0.8932428 , 0.9209514 ,\n        0.87302655, 0.86064756, 0.91224355, 0.923007  , 0.8874856 ,\n        0.83900905, 0.8592571 , 0.8987326 , 0.9280792 , 0.8401464 ,\n        0.85580647, 0.8643591 , 0.8868077 , 0.8768446 , 0.85065365,\n        0.8782354 , 0.8772085 , 0.86145574, 0.72456497, 0.8518596 ,\n        0.83676976, 0.8658756 , 0.88272285, 0.83622795, 0.876599  ,\n        0.89164066, 0.88263565, 0.85959363, 0.85644484, 0.88583654,\n        0.84583294, 0.93372   , 0.85283905, 0.85187334, 0.9077903 ,\n        0.8289994 , 0.88213605, 0.86612916, 0.89708084, 0.87903816,\n        0.8959184 , 0.87215245, 0.8512481 , 0.8568132 , 0.9088172 ,\n        0.8863693 , 0.8396171 , 0.8486276 , 0.877029  , 0.89635205,\n        1.3598038 , 1.5283288 , 0.86489034, 0.87049365, 0.89449984,\n        0.85321426, 0.8714139 , 0.87021536, 0.8969042 , 0.8851366 ,\n        0.8611915 , 0.86004955, 0.8356169 , 0.9053236 , 0.8723048 ,\n        0.84965867, 0.853626  , 0.86062485, 0.89553815, 0.8488585 ,\n        0.84786433, 0.8878007 , 0.89282674, 0.844173  , 0.88045895,\n        0.87366605, 0.88129044, 0.8625325 , 0.84974325, 0.8622722 ,\n        0.8670371 , 0.8413509 , 0.8220253 , 0.86477757, 0.8820636 ,\n        0.8761543 , 0.87381697, 0.80973715, 0.8515673 , 0.87272817,\n        0.8564466 , 0.88848436, 0.8679099 , 0.8661997 , 0.8822527 ,\n        0.87370676, 0.8531939 , 0.8589232 , 0.8745991 , 0.8769172 ,\n        0.89463043, 0.8778055 , 0.8781014 , 0.7480651 , 0.93861467,\n        0.93850666, 0.8831202 , 0.8989439 , 0.8602845 , 0.7137648 ,\n        0.8776159 , 0.85038346, 0.8414894 , 0.92084813, 0.86061805,\n        0.8645218 , 0.89857084, 0.8700891 , 0.88097274, 0.877829  ,\n        0.86459345, 0.89996505, 0.87497723, 0.8751391 , 0.8974653 ,\n        0.90658987, 0.87227356, 0.8804505 , 0.81790644, 0.900082  ,\n        0.8640432 , 1.0982404 , 0.85025156, 0.861186  , 0.87368363,\n        0.8956575 , 0.8855355 , 0.9102545 , 0.8463338 , 0.90618837,\n        0.8727683 , 0.8750626 , 0.8586341 , 0.84448755, 0.87894875,\n        0.8490063 , 0.88840693, 0.880555  , 0.8776229 , 0.8610139 ,\n        0.9424912 , 0.88918537, 0.8973493 , 0.8772797 , 0.8887437 ,\n        0.84262586, 0.86233616, 0.8523262 , 0.8455178 , 0.8326672 ,\n        0.8378307 , 0.74457914, 0.8551077 , 0.87898874, 0.8929507 ,\n        0.8900398 , 0.8468359 , 0.870096  , 0.8670546 , 0.8933826 ,\n        0.84370136, 0.88575226, 0.85801196, 0.9238766 , 0.8274298 ,\n        0.85731786, 0.858961  , 0.8313815 , 0.86565804, 0.8910491 ,\n        0.8800172 , 0.8635081 , 0.869316  , 0.86919236, 0.8919256 ,\n        0.7981714 , 0.8832036 , 0.8422537 , 0.8684855 , 0.89523894,\n        0.84051925, 0.89702725, 0.87088263, 0.8600217 , 0.91767097,\n        0.87105566, 0.752242  , 0.86644685, 0.8341837 , 0.79352933,\n        0.8954691 , 0.86212504, 0.87820464, 0.9109616 , 0.8588034 ,\n        0.84385663, 0.89273757, 0.8487621 , 0.8726654 , 0.9228392 ,\n        0.87978643, 1.024803  , 0.91137415, 0.7954529 , 0.9237015 ,\n        0.8780846 , 0.8141832 , 0.83722824, 0.8762651 , 1.9977777 ,\n        0.886012  , 1.0627148 , 0.8596156 , 0.8373242 , 0.8731607 ,\n        0.8800181 , 0.86442053, 0.85081774, 0.8594335 , 0.74177176,\n        0.8767975 , 0.82984763, 0.85778505, 0.8702288 , 0.80477923,\n        0.89581704, 0.87839293, 0.9195753 , 0.97269773, 0.85128456,\n        0.88263655, 0.8925199 , 0.92166436, 0.8350137 , 0.74050933,\n        0.9070645 , 0.86375326, 0.84136355, 0.86521786, 0.89967453,\n        0.8870965 , 0.8506295 , 0.82460964, 0.8507381 , 0.8092917 ,\n        0.91664946, 0.8688884 , 0.8830369 , 0.8737942 , 0.86973053,\n        0.8328117 , 0.9004562 , 0.85621035, 0.8734652 , 0.88094693,\n        0.8684269 , 0.8703568 , 0.86887854, 0.8694111 , 0.8884321 ,\n        0.81838185, 0.87143946, 0.90967196, 0.88813645, 0.8575677 ,\n        0.91879815, 0.8370944 , 0.8582489 , 0.8856481 , 0.8471921 ,\n        0.8837709 , 0.90936905, 0.85343516, 0.846181  , 0.8465106 ,\n        0.8858057 , 0.8063022 ], dtype=float32),\n '/BERT_encoder/transformer/layer_2/intermediate/bias:0': array([-0.07300826, -0.18569751,  0.01228668, ..., -0.09041223,\n         0.00814527, -0.10244364], dtype=float32),\n '/BERT_encoder/transformer/layer_2/intermediate/kernel:0': array([[-0.03809146, -0.06459608,  0.01159437, ...,  0.00687357,\n          0.02084481, -0.00913934],\n        [-0.06834091,  0.07522661, -0.00206987, ..., -0.01667617,\n         -0.02631596, -0.05070025],\n        [ 0.02048463,  0.08330138,  0.00569583, ...,  0.06705964,\n          0.01664069, -0.00343766],\n        ...,\n        [ 0.05099876,  0.06181649, -0.00380102, ..., -0.02416689,\n         -0.06282894, -0.02065926],\n        [ 0.02047463, -0.02694518,  0.01366735, ..., -0.0132273 ,\n          0.02234898,  0.07138021],\n        [ 0.03531251, -0.06024518,  0.01064595, ...,  0.08041506,\n          0.07300483,  0.00938094]], dtype=float32),\n '/BERT_encoder/transformer/layer_2/output/bias:0': array([-1.27702262e-02, -6.53856844e-02, -3.98454294e-02, -2.70284247e-02,\n        -4.34360094e-02, -1.35995131e-02, -5.54191880e-02, -3.10947094e-02,\n        -3.09923291e-02, -7.84832519e-03,  2.94999238e-02,  7.41760619e-03,\n        -3.16391699e-02,  2.17741616e-02,  8.10834486e-03,  4.51343618e-02,\n        -1.12746265e-02,  2.87702177e-02,  1.03026843e-02,  3.30504328e-02,\n         2.29579303e-02, -2.63816807e-02, -2.81908456e-02,  8.27593580e-02,\n         3.91122960e-02, -5.13425935e-03, -3.05666849e-02, -1.30754581e-03,\n        -4.75329906e-02, -5.85175343e-02,  3.83893847e-02, -7.90764317e-02,\n        -2.16439012e-02, -2.12782696e-02, -2.71921996e-02,  2.63132956e-02,\n         5.62063139e-03, -2.00888105e-02, -1.23514952e-02,  9.41008516e-03,\n         9.48101468e-03, -2.92821396e-02,  3.68421525e-02,  6.41203821e-02,\n         4.00053374e-02, -1.67252384e-02,  5.40494211e-02, -4.85573858e-02,\n        -1.06345423e-01,  2.97629200e-02,  8.75274837e-02, -3.98828760e-02,\n        -2.59369183e-02,  4.07373384e-02, -1.79632008e-02,  2.54058801e-02,\n        -4.12852466e-02, -1.90476887e-02, -2.49503795e-02, -1.66876242e-02,\n        -1.88614056e-02, -4.60348837e-02, -3.38649303e-02,  2.67546554e-03,\n         9.02240649e-02, -6.59954622e-02,  1.53879104e-02,  4.12049629e-02,\n        -1.20849870e-02, -2.46022101e-02, -2.12424397e-02, -3.47467139e-02,\n         4.06376598e-03, -2.82681659e-02,  1.93931721e-02, -2.68735047e-02,\n        -4.53987978e-02, -4.96503722e-04, -4.12299484e-02, -2.27491707e-02,\n         5.72598539e-02, -3.65464613e-02,  1.80855219e-03,  6.68732226e-02,\n        -5.08313775e-02,  5.93419969e-02,  4.72354405e-02, -2.05194243e-04,\n         1.09171225e-02,  1.35327587e-02, -5.92623949e-02,  8.18903930e-03,\n         1.44449487e-01, -2.85089645e-03, -3.19280364e-02,  3.81857120e-02,\n        -7.39997113e-03, -2.48719156e-02, -3.02825402e-02, -4.57921475e-02,\n         3.45916823e-02, -3.09780966e-02, -1.59660559e-02,  3.13410014e-02,\n         3.11771221e-02, -3.38026397e-02,  1.17342034e-02, -1.04292333e-02,\n         4.22345065e-02,  7.49715650e-03, -3.54989544e-02, -4.65767793e-02,\n         1.65740661e-02, -1.61683708e-02, -2.19997205e-02,  2.71615777e-02,\n         4.92443331e-03, -1.90976448e-02, -5.07237688e-02, -4.03056033e-02,\n         2.72792187e-02, -1.96133509e-01, -7.93654658e-03, -2.47391611e-02,\n         3.01983245e-02, -3.60454768e-02, -7.75068114e-03, -1.14244483e-02,\n        -6.10158555e-02,  2.25223862e-02, -1.64964758e-02, -2.72111129e-03,\n        -2.57044900e-02,  3.92213613e-02,  1.21054210e-01,  4.84570069e-03,\n        -3.03044803e-02,  7.47535676e-02,  2.13515647e-02,  5.40254973e-02,\n        -3.45530212e-02, -6.44996613e-02, -4.56378683e-02, -6.65402859e-02,\n         4.10105139e-02,  5.60677983e-02, -6.25792593e-02, -7.21093407e-03,\n         5.89940585e-02, -2.12478880e-02,  3.95324826e-02, -3.94932888e-02,\n         1.56381950e-02,  2.84466948e-02,  1.25651015e-02, -7.33311148e-03,\n        -3.25549543e-02, -1.10491216e-02,  5.66201168e-04, -2.25796122e-02,\n         1.44352298e-02,  4.47411574e-02, -4.42641154e-02,  6.94682915e-03,\n        -1.89341046e-02,  3.66341546e-02, -9.14575625e-03,  1.27889914e-02,\n        -3.94378267e-02, -4.66564782e-02,  5.47548905e-02,  5.31063899e-02,\n         1.66172814e-02,  1.70442946e-02,  3.30921225e-02, -2.32863482e-02,\n         5.96774183e-03, -1.26221478e-01, -3.02554993e-03, -2.59341369e-03,\n        -2.74348147e-02,  5.11779189e-02, -1.93116236e-02,  1.94573849e-02,\n         5.87387681e-02, -1.91811076e-03,  4.06382717e-02,  3.29515687e-03,\n        -2.27622911e-02,  1.07791806e-02, -4.30232622e-02,  3.22395377e-02,\n        -1.64720267e-02,  4.61939536e-02, -4.67593968e-02, -1.22817047e-02,\n        -5.54948188e-02, -8.15654919e-03,  3.58008556e-02,  2.37603057e-02,\n        -7.94531126e-03, -3.84865440e-02, -3.88099365e-02,  2.45814659e-02,\n        -2.29519848e-02, -2.64769159e-02, -7.55243376e-02, -1.30019533e-02,\n        -4.30617258e-02,  4.21534367e-02,  5.35150357e-02,  7.92782083e-02,\n        -2.42843386e-02, -6.92598224e-02,  2.36233920e-02, -6.41970932e-02,\n        -4.06219587e-02, -3.57343853e-02, -9.99938026e-02, -5.77050932e-02,\n         2.05158256e-02, -6.42467439e-02, -2.68102461e-03, -1.58497281e-02,\n         7.88968243e-03,  1.18344240e-02, -3.31724137e-02,  6.97268452e-03,\n         3.16361859e-02,  1.50819484e-04,  4.80140466e-03,  2.00525410e-02,\n         2.12039538e-02,  2.94584185e-02,  2.50442736e-02, -7.15677347e-03,\n        -1.16753287e-03, -4.06595096e-02, -5.45535125e-02, -2.48766709e-02,\n        -1.36899035e-02, -1.79442931e-02, -1.54804811e-02,  1.04078576e-01,\n        -4.92250035e-03, -1.57084670e-02,  3.79473567e-02,  1.12354103e-02,\n        -9.77807306e-03,  1.82241835e-02, -1.29782793e-03, -3.17269452e-02,\n         5.50970025e-02, -1.72205400e-02,  2.50794198e-02,  4.73857634e-02,\n        -6.58792630e-02,  6.12006485e-02, -1.03201285e-01,  4.12325300e-02,\n        -6.27562450e-03, -4.05283272e-02,  5.00559747e-01,  4.15434986e-02,\n        -6.20847195e-02, -4.58568800e-03, -6.72578672e-03, -7.89005011e-02,\n         3.01774926e-02, -3.30094025e-02,  5.95278405e-02, -2.12406702e-02,\n         1.29078059e-02,  5.79424959e-04,  1.72748594e-04,  2.96378299e-03,\n         5.82569279e-02,  1.03194201e-02,  4.34254892e-02, -1.41585935e-02,\n         1.42735254e-03, -1.31549500e-02, -1.85953807e-02,  2.21749730e-02,\n         4.81295437e-02, -6.70656096e-03, -1.18267071e-02,  1.40601564e-02,\n         5.03604151e-02, -2.59971782e-03,  1.91467907e-02, -7.75669068e-02,\n         1.87246427e-02,  9.05241631e-03, -9.46619734e-02,  1.10018337e-02,\n         7.68088996e-02,  5.29870242e-02, -3.61386798e-02,  7.27779120e-02,\n         1.47719104e-02,  6.61574863e-03, -3.03510427e-02,  3.50796394e-02,\n        -9.88206826e-04,  2.29113027e-02,  8.51212516e-02,  7.11684627e-03,\n         3.51981334e-02, -4.73080538e-02, -4.49228026e-02, -1.42635461e-02,\n         1.44726206e-02, -2.67752307e-03, -2.32666936e-02, -9.01319757e-02,\n         1.01335030e-02, -2.89437026e-02,  2.28209440e-02,  6.89242184e-02,\n         8.38525668e-02, -1.08660841e-02, -1.66280679e-02,  3.67095172e-02,\n         2.47031450e-02,  5.93354786e-03, -1.67073719e-02, -4.11683992e-02,\n        -7.93439709e-03,  2.05686186e-02,  1.52458912e-02,  6.71017077e-03,\n        -3.76503952e-02,  3.28820199e-02,  1.14835665e-01,  1.21807314e-01,\n        -2.49195024e-02, -7.10957218e-03,  3.81183214e-02,  1.03006987e-02,\n         6.22329786e-02,  1.00704305e-01,  8.83150473e-03,  2.23600026e-02,\n        -8.15545619e-02, -1.50451167e-02, -4.09519300e-02, -1.60251260e-02,\n        -1.42581491e-02, -4.98651639e-02, -1.26886785e-01,  1.16882408e-02,\n         7.90192857e-02, -4.49768128e-03,  1.27126230e-02, -3.22861113e-02,\n         1.13619436e-02, -2.94103753e-03, -2.39861347e-02,  8.26123059e-02,\n         1.47883603e-02,  8.61816574e-03, -4.54014651e-02,  3.67387421e-02,\n        -2.91157085e-02, -4.92877662e-02,  3.55390944e-02,  2.32960936e-03,\n        -1.03481971e-02,  5.85162714e-02,  4.25422098e-03,  2.00144891e-02,\n        -3.33411172e-02,  1.88751388e-02, -2.59182951e-03, -1.43527836e-01,\n        -2.96374634e-02,  6.61037348e-06,  1.73129383e-02,  6.92501804e-03,\n        -4.88871634e-02, -6.50279298e-02,  1.47069227e-02, -2.52944492e-02,\n         2.60756947e-02, -3.08001395e-02, -4.10070233e-02,  1.78332906e-02,\n        -1.78578440e-02, -2.38425359e-02,  3.21727656e-02,  1.39134852e-02,\n         4.61297743e-02, -1.94125343e-02,  2.45334320e-02, -1.49467390e-03,\n        -7.47522525e-03,  4.21981327e-02, -2.94303708e-02,  3.13162990e-02,\n         5.46778669e-04, -7.40103517e-03, -2.50169225e-02,  3.72094102e-02,\n         3.54833640e-02,  3.76709141e-02, -9.34344810e-03, -1.78100616e-02,\n         9.02036577e-03, -1.12563735e-02, -4.91838865e-02, -3.13110873e-02,\n        -2.72652116e-02,  5.85862715e-03, -2.04032660e-03,  2.53302045e-02,\n        -1.95404105e-02, -2.65376400e-02, -8.07887223e-03,  3.82974371e-02,\n         6.93300143e-02, -1.04268074e-01, -9.69878118e-03,  4.71112877e-02,\n        -6.87899590e-02,  4.02119793e-02,  4.05358076e-02,  2.41725352e-02,\n         1.76998484e-03,  4.78883088e-03, -3.39970589e-02, -6.67412579e-02,\n        -2.98313387e-02, -1.30702900e-02,  8.47018789e-03,  4.93896008e-02,\n        -2.52990704e-02, -7.36999884e-02, -1.27002888e-03,  4.20140363e-02,\n         5.31806797e-02,  3.17928158e-02, -5.37768751e-02,  1.00298770e-01,\n         4.80191648e-01, -2.95663457e-02, -8.45963135e-03,  1.47966407e-02,\n         1.37532026e-01, -2.26846952e-02,  3.65807302e-02,  5.95341362e-02,\n         2.39974409e-02, -3.38217639e-03,  6.90848231e-02, -1.22999735e-02,\n        -1.70583576e-02,  3.71286571e-02, -2.88625583e-02,  4.95395139e-02,\n         7.26163089e-02,  3.65786143e-02,  1.25461100e-02, -1.06026779e-03,\n         1.49027025e-02, -6.76006153e-02,  5.67335412e-02,  3.61859240e-02,\n        -3.22497673e-02,  5.48306620e-03,  6.88163657e-03, -8.13650861e-02,\n        -2.28528325e-02, -4.84364573e-03, -6.48223460e-02, -1.25686862e-02,\n        -3.55184190e-02, -3.48170996e-02, -3.62499990e-02, -2.05521118e-02,\n         5.51835485e-02,  4.21048999e-02, -1.16978865e-02, -2.45807357e-02,\n         1.95050045e-04,  2.75514126e-02,  5.17586507e-02,  8.04244131e-02,\n        -1.63963586e-02, -1.97309721e-02, -8.32759812e-02, -1.97214000e-02,\n         1.03383638e-01, -3.72274630e-02, -4.26716283e-02,  9.05911997e-03,\n         1.48069765e-02, -6.17317446e-02, -6.91377893e-02, -2.37932988e-02,\n         7.37402961e-02,  4.64985892e-02,  6.17547706e-02,  5.92217706e-02,\n         2.83890264e-03, -7.94069022e-02,  1.10143609e-01, -5.10372482e-02,\n         4.33022976e-02,  1.32613480e-02,  5.39676473e-02,  3.18046845e-03],\n       dtype=float32),\n '/BERT_encoder/transformer/layer_2/output/kernel:0': array([[-0.10664409, -0.03354138,  0.05730165, ...,  0.20742607,\n         -0.04025975, -0.07743192],\n        [ 0.10722164, -0.02926091, -0.05584995, ...,  0.07174949,\n          0.01976908,  0.04421174],\n        [-0.04796127, -0.0166262 , -0.04280824, ...,  0.01485581,\n         -0.02057183, -0.02283159],\n        ...,\n        [ 0.06065964, -0.02537444,  0.0092595 , ..., -0.04053595,\n          0.01690143,  0.0806405 ],\n        [ 0.02270276,  0.06198426, -0.00976468, ...,  0.04721861,\n         -0.01368636,  0.01637758],\n        [-0.01607643,  0.00718125,  0.03459929, ...,  0.01304627,\n         -0.05070164, -0.05878094]], dtype=float32),\n '/BERT_encoder/transformer/layer_2/output_layer_norm/beta:0': array([ 3.83378798e-03, -2.47354079e-02,  2.93945186e-02,  7.10690022e-02,\n         5.19079454e-02, -6.78704400e-03,  6.27777651e-02,  1.06839333e-02,\n         6.86477050e-02, -3.88980992e-02,  4.57546115e-02,  7.31978044e-02,\n        -1.14569664e-02,  1.06331557e-01,  8.23512822e-02,  7.79651180e-02,\n         9.39747766e-02,  3.16992961e-02,  8.02121777e-03,  4.18571942e-02,\n         1.15276547e-02,  4.23498601e-02,  3.51550393e-02,  1.30173698e-01,\n         3.35641727e-02,  1.50466233e-01,  1.29606083e-01,  1.66983549e-02,\n         2.75802184e-02, -3.86621314e-03,  6.21666797e-02,  3.48864729e-03,\n         7.09340349e-02,  1.13739192e-01,  4.51220982e-02,  5.59927858e-02,\n        -5.92238791e-02,  9.06746462e-02,  1.83936507e-02,  8.60012472e-02,\n         4.76918072e-02, -2.88871862e-02, -5.73092960e-02,  9.62616429e-02,\n         6.71466440e-02, -2.39871200e-02,  1.53533630e-02,  7.24051967e-02,\n         1.32079301e-02, -2.94165276e-02,  2.83852536e-02,  5.44708036e-02,\n         5.11786118e-02,  8.59313607e-02,  8.21696147e-02, -5.43408319e-02,\n         1.27421930e-01,  1.06730394e-01, -5.98752387e-02, -8.15836266e-02,\n        -5.78557588e-02,  5.71095683e-02,  1.82570349e-02,  3.44539583e-02,\n        -3.28004062e-02,  1.22598112e-01,  4.07603532e-02,  2.87188329e-02,\n         1.13235295e-01,  7.03959912e-02,  5.41670993e-02,  2.58379932e-02,\n         7.43561611e-02,  1.56179313e-02,  1.97150372e-02,  3.76808941e-02,\n         1.12336457e-01,  7.32336789e-02,  4.99315970e-02, -6.86741946e-03,\n         3.07060163e-02, -9.85318888e-03,  2.77921204e-02,  6.25370443e-02,\n         1.80939324e-02,  1.58186816e-02, -1.44545594e-03,  6.93817884e-02,\n         2.52831429e-02,  3.15855704e-02,  3.46565396e-02,  5.61329797e-02,\n         5.81383184e-02,  2.60520838e-02, -1.58538632e-02,  7.56019279e-02,\n         6.78146333e-02, -5.41681238e-02,  5.04414923e-02, -3.05529498e-02,\n         1.55624405e-01,  3.96158062e-02,  2.00317781e-02,  1.10780232e-01,\n         2.73294151e-02,  9.63676348e-02,  1.71844121e-02,  6.99308291e-02,\n         8.91569853e-02,  5.00832498e-02,  1.02077741e-02,  1.29721552e-01,\n         6.09732345e-02,  1.81738415e-03,  6.31253794e-02, -1.12781540e-01,\n        -2.98985224e-02, -2.42864192e-02,  1.34766819e-02, -3.18342261e-02,\n        -2.24665161e-02,  3.91661942e-01,  6.20786808e-02,  3.62038650e-02,\n         5.26440889e-02,  2.68842019e-02, -1.12905912e-02,  5.54234535e-02,\n        -7.07970783e-02, -5.77570871e-02, -1.18493773e-02,  3.54995532e-03,\n         3.04414462e-02,  8.67461637e-02, -9.29782316e-02,  6.47743642e-02,\n        -1.80747315e-01,  5.96898347e-02,  6.45528734e-02,  3.37722972e-02,\n         3.49544473e-02, -1.26293795e-02,  1.05863802e-01, -1.54268043e-02,\n        -4.48516868e-02,  5.00545390e-02,  1.06133379e-01, -9.99848917e-03,\n        -2.14246754e-02,  9.18646809e-03,  7.41231889e-02, -3.77797559e-02,\n         1.33793242e-02, -6.27612695e-02,  4.98430915e-02, -2.12972760e-02,\n        -4.24674749e-02,  3.82480770e-02,  1.86434165e-02, -1.46986963e-02,\n         8.76679830e-03,  1.53087288e-01,  1.25387669e-04,  6.41221553e-02,\n         5.95166795e-02,  5.62103242e-02, -3.88542376e-02, -3.69281843e-02,\n         1.02229409e-01, -2.71393824e-02,  8.01121220e-02,  1.38889235e-02,\n         8.52709077e-03,  5.38520105e-02,  1.05241157e-01, -5.84192351e-02,\n         4.10690950e-03, -5.55364713e-02,  2.00069603e-02,  2.78076250e-02,\n         4.89684045e-02,  8.00036564e-02, -4.65683155e-02,  1.11277305e-01,\n         4.98571955e-02,  3.44785601e-02,  3.89314182e-02, -7.49038532e-02,\n         9.15236846e-02, -1.24502368e-02,  2.68436819e-02,  5.08559681e-02,\n         2.58752005e-03,  1.42925918e-01,  6.56652749e-02,  5.39758429e-02,\n         6.46992028e-02,  4.10956740e-02,  1.30490333e-01,  9.87044051e-02,\n        -2.85333022e-02,  1.60113368e-02, -1.59488618e-02, -1.43399918e-02,\n         7.05472529e-02,  9.76042226e-02,  7.62545988e-02,  1.34378195e-01,\n         5.56804845e-03,  1.47821205e-02,  1.37755930e-01,  1.41016811e-01,\n         4.57139201e-02, -2.16067135e-02,  5.95347621e-02, -3.37238424e-02,\n         1.46294234e-03,  7.44120702e-02,  9.87185910e-02,  3.19768228e-02,\n         8.28322843e-02,  4.17135805e-02, -1.67990346e-02, -1.17018702e-03,\n         6.42167032e-02,  4.69318293e-02,  1.96841154e-02,  9.10786465e-02,\n         2.53590178e-02,  1.65780745e-02,  7.25860000e-02,  2.11176407e-02,\n        -3.63024585e-02, -2.75950748e-02,  7.43343160e-02,  1.14925116e-01,\n         6.13604486e-02, -4.57973704e-02, -2.88314763e-02, -4.71245460e-02,\n         8.05959702e-02, -1.60372648e-02,  2.90966313e-02, -3.68970066e-01,\n         4.27122451e-02,  4.92115468e-02, -1.18776113e-02, -1.42412661e-02,\n        -2.24735984e-03,  2.02134829e-02, -8.50397274e-02, -4.08625342e-02,\n         5.07398769e-02,  1.63813122e-03,  2.00304743e-02,  4.27977517e-02,\n         5.76523542e-02,  3.41264494e-02,  8.37411359e-02, -5.67279616e-03,\n         8.26417357e-02,  9.64323059e-02, -3.56134832e-01,  8.14803466e-02,\n         6.08107038e-02, -6.01780368e-04,  7.19695091e-02,  5.23300171e-02,\n         8.54486749e-02,  6.41846135e-02,  1.04927793e-01,  1.34570003e-01,\n         1.40250444e-01,  3.43081132e-02,  4.60108034e-02,  2.24294558e-01,\n        -7.78321564e-01,  7.15727136e-02,  3.53242382e-02, -1.24020474e-02,\n        -3.11172456e-02,  8.46168026e-02,  5.07146120e-02,  3.12817171e-02,\n        -4.02719788e-02,  4.09326665e-02,  7.02656955e-02,  1.04669116e-01,\n        -2.72417516e-02,  5.58132976e-02,  1.00244798e-01,  3.04422043e-02,\n        -3.74699309e-02, -6.12689294e-02,  3.11918203e-02,  2.48783957e-02,\n         6.63226917e-02,  3.34750898e-02, -3.38506550e-02,  1.25017434e-01,\n         7.18674734e-02,  3.95847298e-02,  4.12768349e-02,  6.48225024e-02,\n        -2.11462304e-02,  1.57250892e-02,  1.00118585e-01,  3.85290235e-02,\n         9.15933698e-02, -3.16305943e-02,  1.27609044e-01,  9.73790362e-02,\n         1.48689553e-01,  1.04799069e-01,  1.03763910e-02,  4.69175838e-02,\n         2.65708985e-03, -4.81465310e-02, -6.23626448e-03, -4.41575870e-02,\n         4.16636206e-02,  1.02061912e-01,  9.15147215e-02,  4.22949195e-02,\n         2.82516442e-02, -2.19175518e-02,  3.75721753e-02,  7.29066357e-02,\n         4.45031933e-02,  1.23711057e-01,  1.90635368e-01,  8.01711753e-02,\n         6.23346344e-02,  4.38414104e-02,  1.39759891e-02,  5.10610715e-02,\n         3.30358446e-02,  9.99668017e-02,  1.36171237e-01, -7.10825026e-02,\n         6.18925281e-02,  6.80662021e-02,  6.31096140e-02,  3.00210379e-02,\n         5.20766713e-03, -2.33314000e-02,  7.77294710e-02,  1.12294860e-01,\n         1.23892515e-03, -4.89942990e-02,  8.08991212e-03, -2.45563984e-02,\n         1.27623817e-02,  4.97587062e-02, -2.35937256e-02,  1.49995327e-01,\n         9.75735020e-03,  4.91230488e-02,  3.78436446e-02,  3.67788337e-02,\n         7.98191205e-02,  1.06468601e-02,  6.50025606e-02,  6.20504022e-02,\n        -7.35572726e-02, -9.19937044e-02, -1.09136116e-03,  1.79584697e-02,\n         5.68102822e-02,  1.28244059e-02,  2.54582167e-02,  2.81535890e-02,\n         8.75388682e-02,  5.13506643e-02,  1.04528675e-02,  2.98251119e-03,\n        -3.82612459e-02,  6.22815043e-02,  3.32260551e-03,  1.33065745e-01,\n         8.47675204e-02,  4.32634074e-03,  7.96170756e-02,  7.18751699e-02,\n         2.77075786e-02, -4.85219546e-02,  5.96189201e-02, -2.05745781e-03,\n         2.53002043e-03,  8.67324024e-02,  5.92166409e-02, -5.82751930e-02,\n         1.10702120e-01,  5.15433699e-02,  6.85577616e-02, -3.61079425e-02,\n        -2.58686487e-02,  2.04580203e-02, -2.43857801e-02,  1.80283654e-02,\n         3.90660129e-02,  3.64646688e-02,  7.69399181e-02, -6.16334425e-03,\n         1.51027348e-02, -8.17346573e-03, -1.63240023e-02,  1.26327826e-02,\n        -4.27066572e-02,  3.24859358e-02, -1.26224821e-02,  5.47750816e-02,\n         3.34318653e-02,  7.04779774e-02, -2.43663248e-02,  6.68463558e-02,\n         1.06831826e-01,  2.59166192e-02, -1.35972708e-01,  3.81536456e-03,\n         9.74120852e-03,  8.95140320e-02, -3.34107727e-02,  2.27632225e-02,\n         7.14150444e-02,  8.14212933e-02, -1.85465589e-02, -2.63359789e-02,\n        -2.49717180e-02,  7.16842264e-02,  1.54874530e-02, -4.77129668e-02,\n         2.87121013e-02,  1.60602313e-02,  5.05916998e-02, -8.80311336e-03,\n        -9.60839316e-02,  2.10622251e-02,  5.85872084e-02,  1.20076694e-01,\n        -2.37557571e-02,  1.57174662e-01,  2.44236346e-02,  6.80099651e-02,\n         5.65918386e-01,  3.86635847e-02,  1.06054708e-01, -1.50885684e-02,\n         1.06948502e-01,  6.99315267e-03, -1.87254623e-02,  9.46232490e-03,\n        -4.07622382e-02,  3.02274860e-02,  4.79465947e-02, -7.88365155e-02,\n         1.49846405e-01,  3.03417146e-02, -1.10401526e-01,  3.27419909e-03,\n         9.98597965e-02,  8.24750587e-02,  1.13462888e-01, -2.58576013e-02,\n         3.32479104e-02,  1.32458583e-01,  2.43473556e-02,  3.17356661e-02,\n         3.94001119e-02,  3.15499445e-03,  5.07126749e-02,  6.36617094e-03,\n        -3.81998010e-02,  3.76644395e-02,  9.00274515e-03,  2.47849599e-02,\n         3.68525051e-02,  8.12447220e-02,  2.30263490e-02,  6.49261326e-02,\n         7.80353993e-02,  3.20350379e-03, -2.12760605e-02,  6.56693950e-02,\n         5.66226169e-02,  8.70500132e-02, -5.27186505e-02,  9.03664827e-02,\n         1.69158038e-02, -2.08219178e-02,  1.01003595e-01,  7.99266063e-03,\n         1.09181024e-01,  7.89710805e-02, -1.45782030e-03,  1.63678750e-02,\n         4.64827158e-02,  1.51985437e-01, -2.96455715e-02,  9.74569917e-02,\n         5.48693687e-02,  8.07220712e-02,  1.19733708e-02,  5.89272417e-02,\n        -3.02615501e-02,  2.86155008e-02,  2.07376629e-01, -3.92884314e-02,\n         1.61314588e-02,  9.59946886e-02,  1.14492951e-02, -1.83727778e-02],\n       dtype=float32),\n '/BERT_encoder/transformer/layer_2/output_layer_norm/gamma:0': array([1.0839446 , 1.1707814 , 1.1058401 , 1.1402295 , 1.1511501 ,\n        1.1073056 , 1.1180215 , 1.141074  , 0.97210085, 1.1020799 ,\n        1.126889  , 1.1027058 , 1.1387926 , 1.0865728 , 1.1330506 ,\n        1.1345674 , 1.1301816 , 1.1600395 , 1.1329153 , 1.1257226 ,\n        1.1082985 , 1.1155953 , 1.0972091 , 1.0411205 , 1.1140286 ,\n        1.120899  , 1.1367223 , 1.1327838 , 1.155299  , 1.1507956 ,\n        1.1453263 , 1.0827503 , 1.0293326 , 1.1210015 , 1.1327575 ,\n        1.131911  , 1.1119298 , 1.0724162 , 1.152764  , 1.1400987 ,\n        1.1268321 , 1.1461499 , 1.0865921 , 1.0895214 , 1.1288437 ,\n        1.1142281 , 1.1627063 , 1.1066897 , 1.1546551 , 0.9821142 ,\n        1.1425918 , 1.1223873 , 1.1387546 , 1.1265703 , 1.1467607 ,\n        1.0924342 , 1.101359  , 1.1420075 , 1.1226196 , 1.1250356 ,\n        1.0784566 , 1.1759148 , 1.1535199 , 1.112653  , 1.1484714 ,\n        1.1014935 , 1.112789  , 1.1150852 , 1.0547196 , 1.1302851 ,\n        1.1280187 , 1.1267829 , 1.1491805 , 1.1167798 , 1.1506119 ,\n        1.1234084 , 1.1736225 , 1.1167688 , 1.1437552 , 1.1385174 ,\n        1.0588912 , 1.1568412 , 1.1400453 , 1.0933253 , 1.1131654 ,\n        1.1553257 , 1.148807  , 1.1208045 , 1.147109  , 1.1003969 ,\n        1.1303316 , 1.0756756 , 1.1154222 , 1.1277118 , 1.1195189 ,\n        1.1656681 , 1.1269665 , 1.1040466 , 1.1349908 , 1.120713  ,\n        1.1052995 , 1.0972492 , 1.1214668 , 1.1157656 , 1.1272944 ,\n        1.1312009 , 1.1717259 , 1.1380869 , 1.1168702 , 1.125018  ,\n        1.1638589 , 1.0901731 , 1.0998969 , 1.1389054 , 1.0520728 ,\n        1.0880928 , 1.1465001 , 1.1642596 , 1.0665565 , 1.123668  ,\n        1.1067345 , 0.56499386, 1.1380857 , 1.1398307 , 1.1798726 ,\n        1.149397  , 1.1177214 , 1.1107976 , 1.1671436 , 1.1237441 ,\n        1.1060469 , 1.1644315 , 1.1254897 , 1.0930645 , 0.9922369 ,\n        1.1533716 , 1.1720191 , 1.1232768 , 1.1091636 , 1.1223564 ,\n        1.1813025 , 1.1237506 , 1.1399827 , 1.1439621 , 1.1085122 ,\n        1.131798  , 1.1073261 , 1.1599196 , 1.1044011 , 1.1467866 ,\n        1.149447  , 1.1074346 , 1.1644766 , 1.1203867 , 1.1027907 ,\n        1.1262171 , 1.0315632 , 1.0894827 , 1.1123139 , 1.1361382 ,\n        1.1604602 , 1.1138872 , 1.2189873 , 1.1328938 , 1.1038626 ,\n        1.154724  , 1.0678573 , 1.1317827 , 1.1135124 , 1.0874025 ,\n        1.1010827 , 0.96316254, 1.1282924 , 1.1159307 , 1.1427094 ,\n        1.0850435 , 1.1268566 , 1.1436294 , 1.1403688 , 1.1166952 ,\n        1.1297072 , 1.1012335 , 1.135338  , 1.0511619 , 1.1062989 ,\n        1.1399096 , 1.1696143 , 1.1018465 , 1.0750521 , 1.1436063 ,\n        1.0818412 , 1.1700051 , 1.0902516 , 0.97026956, 1.1579559 ,\n        1.1578338 , 1.0861138 , 1.1270921 , 1.1261549 , 1.1529802 ,\n        1.148904  , 1.1388098 , 1.1360248 , 1.0899706 , 1.1303064 ,\n        1.1560364 , 1.1237236 , 1.1010517 , 1.1539013 , 1.1465672 ,\n        1.1318544 , 1.1542073 , 1.1233835 , 1.0894744 , 1.0783714 ,\n        1.116906  , 1.0789404 , 1.118802  , 1.0362962 , 1.1190705 ,\n        1.0807514 , 1.1413867 , 1.1376487 , 1.1354901 , 1.1025263 ,\n        1.1054513 , 1.1355683 , 1.1177679 , 1.1530324 , 1.0975726 ,\n        1.1568602 , 1.0975134 , 1.1387229 , 1.1136017 , 1.1239774 ,\n        1.1374559 , 1.1264306 , 1.0677454 , 1.1521548 , 1.1270384 ,\n        1.1127956 , 1.1248075 , 1.147294  , 0.49862748, 1.1786498 ,\n        1.1044137 , 1.1490301 , 1.1097376 , 1.1275792 , 1.1282723 ,\n        1.1453943 , 1.1351583 , 1.1585883 , 1.1556627 , 1.1077244 ,\n        1.1241146 , 1.1142371 , 1.1406407 , 1.1155237 , 1.1216105 ,\n        1.0871346 , 1.1106097 , 0.4340767 , 1.142161  , 1.0798699 ,\n        1.1137799 , 1.1219714 , 1.1536658 , 1.1581213 , 1.1628374 ,\n        1.102875  , 1.1536465 , 1.1536434 , 1.1443896 , 1.1269397 ,\n        1.0719808 , 1.443311  , 1.1471394 , 1.1030371 , 1.1366513 ,\n        1.0626377 , 1.1351837 , 1.1106981 , 1.1258861 , 1.1100668 ,\n        1.1527745 , 1.1152414 , 1.0912974 , 1.1228395 , 1.1209618 ,\n        1.1140673 , 1.1462821 , 1.1390365 , 1.1114198 , 1.1146353 ,\n        1.1129487 , 1.1923418 , 0.99860895, 1.1199957 , 1.104043  ,\n        1.162908  , 1.0881832 , 1.0965295 , 1.1248152 , 1.1507543 ,\n        1.1286024 , 1.169797  , 1.114718  , 1.1060343 , 1.1033132 ,\n        1.1265924 , 1.0998652 , 1.1371509 , 1.0896331 , 1.1764991 ,\n        1.1138513 , 1.1453211 , 1.1468499 , 1.1400453 , 1.1183434 ,\n        1.112952  , 1.1228777 , 1.1129694 , 1.1543882 , 1.1377877 ,\n        1.1277592 , 1.1182191 , 1.112515  , 1.1048715 , 1.2546144 ,\n        1.089354  , 1.1014045 , 1.12849   , 1.1753807 , 1.0506514 ,\n        1.1486919 , 1.117958  , 1.0991087 , 1.0890934 , 1.1114588 ,\n        1.1465845 , 1.0925452 , 1.1157626 , 1.1718152 , 1.1625185 ,\n        1.1199367 , 1.105548  , 1.1342468 , 1.0951288 , 1.17021   ,\n        1.0501226 , 1.1327621 , 1.145709  , 1.1207429 , 1.1921734 ,\n        1.0696725 , 1.1308632 , 1.1114345 , 1.115333  , 1.1390238 ,\n        1.2162163 , 1.1638765 , 1.1329491 , 1.1771561 , 1.1180179 ,\n        1.1685581 , 1.1424586 , 1.1042609 , 1.1018541 , 1.1489376 ,\n        1.1298691 , 1.1599866 , 1.1653532 , 1.129474  , 1.0925931 ,\n        1.1966045 , 1.1420964 , 1.1399256 , 1.1507348 , 1.1391814 ,\n        1.1395856 , 1.1389989 , 1.1446208 , 1.1399986 , 1.0968827 ,\n        1.0694113 , 1.043697  , 1.1142964 , 1.1416043 , 1.1215061 ,\n        1.112617  , 1.1082412 , 1.1414372 , 1.1219194 , 1.1342133 ,\n        1.1366961 , 1.1577959 , 1.1448159 , 1.1947947 , 1.1288905 ,\n        1.1489908 , 1.1448094 , 1.1195316 , 1.1639518 , 1.1429826 ,\n        1.1258693 , 1.1341046 , 1.1213813 , 1.0995897 , 1.1623536 ,\n        1.1169983 , 1.1106777 , 1.1238539 , 1.1777967 , 1.1485162 ,\n        1.141846  , 1.1143034 , 1.1072264 , 1.0692568 , 1.1183982 ,\n        1.1866281 , 1.0074466 , 1.1094338 , 1.1623602 , 1.0872606 ,\n        1.1347007 , 1.1000447 , 1.1406087 , 1.1738313 , 1.1519814 ,\n        1.1427177 , 1.1735902 , 1.1091068 , 1.1558412 , 1.1265874 ,\n        1.1020488 , 1.1770666 , 1.1662532 , 1.1646353 , 1.0852782 ,\n        1.1410791 , 1.0573261 , 1.1172348 , 1.122088  , 0.7700823 ,\n        1.1361634 , 0.9296157 , 1.1376332 , 1.1428537 , 1.1917007 ,\n        1.1485137 , 1.134734  , 1.1091316 , 1.0675669 , 1.0469999 ,\n        1.096914  , 1.1363083 , 1.1428918 , 1.1000218 , 1.1299756 ,\n        1.1182095 , 1.1716313 , 1.1006111 , 0.9687832 , 1.1284126 ,\n        1.0893738 , 1.1370974 , 1.0998523 , 1.1361979 , 1.0874907 ,\n        1.0795896 , 1.0979463 , 1.1235855 , 1.1058412 , 1.1178459 ,\n        1.1616827 , 1.1105206 , 1.1108423 , 1.1261914 , 1.1507854 ,\n        1.1868429 , 1.1726416 , 1.132849  , 1.1244674 , 1.1475997 ,\n        1.1118706 , 1.1003225 , 1.1086533 , 1.1347235 , 1.1385987 ,\n        1.043089  , 1.1470752 , 1.1062429 , 1.133944  , 1.111535  ,\n        1.1312599 , 1.1334938 , 1.073782  , 1.1747148 , 1.1268756 ,\n        1.1692525 , 1.1592807 , 1.1102196 , 1.1099638 , 1.1419712 ,\n        1.1592999 , 1.1816026 , 1.0792534 , 1.1511496 , 1.1278107 ,\n        1.1471775 , 1.1527795 ], dtype=float32),\n '/BERT_encoder/transformer/layer_2/self_attention/attention_output/bias:0': array([-8.64924490e-02,  5.43087609e-02,  1.95559084e-01, -5.25337979e-02,\n         5.28864078e-02, -9.97897536e-02,  9.37171951e-02, -1.87110826e-01,\n         2.62718219e-02, -1.26856670e-01, -8.49507749e-02,  7.24120485e-03,\n        -2.35380121e-02,  9.66312885e-02, -8.45191404e-02, -3.50719243e-02,\n        -4.82374476e-03,  2.82294825e-02,  1.18299127e-02, -6.32075667e-02,\n         1.31951928e-01,  1.40870646e-01,  1.66553825e-01, -1.84496999e-01,\n        -2.05351263e-02,  3.22962850e-01,  7.64549002e-02, -1.21773023e-03,\n         5.34070991e-02,  7.25378841e-02, -6.69313073e-02, -3.11928868e-01,\n         1.12997778e-01,  8.24462771e-02, -1.99775565e-02, -1.11961253e-02,\n        -1.82631105e-01,  1.53366446e-01, -1.19952723e-01,  1.67772379e-02,\n        -5.09941280e-02, -8.81197080e-02, -5.97575530e-02, -5.70542924e-02,\n        -3.09440587e-02, -1.41588315e-01, -2.14517370e-01, -3.44240516e-02,\n         2.45964929e-01, -1.00103013e-01, -1.80512547e-01,  1.03566870e-01,\n         1.43205123e-02,  1.26732945e-01,  7.87979662e-02, -1.82330415e-01,\n         1.59128666e-01,  7.44086737e-03, -2.63615519e-01, -5.17478473e-02,\n        -1.96759049e-02,  2.51002330e-02, -8.43400732e-02, -1.24854773e-01,\n        -2.07565621e-01,  2.23715499e-01,  6.21128529e-02, -1.56260237e-01,\n         2.60869116e-02, -1.60366092e-02,  6.74473494e-02,  5.90069368e-02,\n         3.28884907e-02,  1.43333927e-01,  6.79047257e-02,  1.48836330e-01,\n         2.30931729e-01,  8.78137425e-02,  2.71771476e-02, -3.61808166e-02,\n        -2.56818801e-01, -1.69659313e-02,  7.07976744e-02,  6.67539611e-02,\n         5.29215448e-02, -1.53206401e-02, -2.91521344e-02, -3.95197101e-04,\n         6.75416663e-02, -7.31912479e-02,  1.85013801e-01,  1.78302407e-01,\n         1.21245636e-02,  5.79262488e-02, -1.15485631e-01,  3.07258517e-01,\n        -9.31335315e-02, -1.91207081e-01,  2.22347334e-01, -6.47108182e-02,\n         1.20763786e-01, -1.08003259e-01,  1.15712896e-01, -1.47831142e-01,\n        -8.34005997e-02,  2.36198664e-01, -6.65731430e-02,  4.24995273e-03,\n         1.29674226e-01,  7.13079795e-02,  9.71145649e-03,  7.44353980e-02,\n         8.67338572e-03,  5.04803210e-02, -3.60039175e-02,  4.15918939e-02,\n        -9.32050422e-02,  1.10817596e-01, -5.85130043e-02, -1.05070740e-01,\n        -6.77156746e-02,  1.96909651e-01,  1.49299726e-01,  1.64655998e-01,\n         5.45798838e-02, -4.78052497e-02,  1.01570770e-01, -7.71163329e-02,\n        -5.03555238e-02, -1.36128172e-01,  6.44977242e-02, -2.07643788e-02,\n         7.38317072e-02,  4.11595888e-02, -5.70072591e-01, -8.95866826e-02,\n         4.49533314e-02, -2.69678235e-02,  2.75629964e-02, -1.72807187e-01,\n        -5.15985638e-02, -7.60692405e-03,  1.75613001e-01,  2.60012057e-02,\n        -1.66354626e-01, -3.99940722e-02,  1.17710948e-01, -2.37381160e-02,\n        -1.19794555e-01,  2.38739215e-02, -8.43561590e-02, -1.46826029e-01,\n         8.39513093e-02, -1.67266026e-01,  1.87573507e-02, -7.88237005e-02,\n        -4.08948898e-01,  1.85785145e-01, -1.75511256e-01, -3.16145904e-02,\n        -7.87646770e-02,  1.96712703e-01,  9.28272679e-02, -1.11796394e-01,\n         1.99023217e-01,  1.79099515e-01, -1.66515887e-01, -4.53980975e-02,\n         4.00379568e-01, -1.07205264e-01, -5.36755733e-02, -1.84687510e-01,\n         4.40430716e-02, -1.54992029e-01, -9.19722840e-02, -3.41111779e-01,\n         2.56297793e-02,  1.24816187e-01, -1.01200394e-01,  2.26676911e-01,\n         6.30344152e-02, -1.65697813e-01, -5.76949157e-02,  2.13512346e-01,\n        -1.17573962e-01, -3.41612138e-02, -1.31600246e-01, -2.04575196e-01,\n         3.56173664e-01, -2.71693189e-02,  6.06416054e-02, -4.82848361e-02,\n         1.49970695e-01,  4.36171561e-01,  8.15156400e-02,  1.03855178e-01,\n         1.57866217e-02,  1.01420842e-01,  6.00498393e-02,  1.02535553e-01,\n        -8.92123580e-02, -8.97915810e-02,  7.76390433e-02, -1.79939672e-01,\n         1.09933643e-02, -2.63914287e-01, -1.26411349e-01,  5.17464951e-02,\n        -5.39889149e-02,  7.36606419e-02,  2.00095862e-01, -4.60537113e-02,\n        -1.74154136e-02,  1.91123739e-01,  1.39230832e-01,  4.63903174e-02,\n         3.63122649e-03,  1.79305911e-01,  6.65723681e-02,  7.83630833e-02,\n        -1.63048744e-01, -7.61202276e-02,  7.71836564e-02, -6.20715357e-02,\n        -5.79126552e-02, -1.12870187e-01,  1.15217410e-01,  1.19240746e-01,\n         3.18273762e-03,  1.14175096e-01, -5.86864650e-02,  2.54935920e-01,\n        -7.81826559e-04, -1.15539305e-01,  1.85669631e-01,  8.32636207e-02,\n         2.92527556e-01,  1.73377376e-02,  1.15370816e-02,  3.81919951e-03,\n         5.39827980e-02,  4.94043194e-02, -3.73897515e-02,  1.70033529e-01,\n        -1.98930711e-01, -1.95587464e-02, -2.85861231e-02,  2.01416947e-02,\n        -7.06044361e-02, -9.11531672e-02,  5.31021990e-02, -7.59392828e-02,\n         1.65350020e-01, -2.20430773e-02,  1.68478101e-01,  1.97853446e-02,\n        -9.29001048e-02, -8.92977715e-02,  1.94510724e-02, -5.54330647e-02,\n         4.39296477e-02,  5.89399263e-02, -4.92408097e-01, -1.61156148e-01,\n         1.24141783e-01, -1.59467533e-01,  1.78381085e-01,  1.18193902e-01,\n        -1.02113327e-02,  6.52570184e-03, -5.08875512e-02,  6.38219640e-02,\n         5.27929328e-02, -1.78547949e-02,  4.88895364e-02, -4.19623017e-01,\n         7.97773659e-01,  8.04799274e-02,  7.54827037e-02,  2.56021344e-03,\n        -5.50497584e-02,  1.97810441e-01,  1.07590102e-01, -4.87731583e-02,\n        -1.16200730e-01, -1.07134700e-01,  1.22862220e-01,  2.32010826e-01,\n        -1.84211940e-01,  1.44104406e-01, -1.06240362e-01,  5.19609489e-02,\n        -1.53501511e-01, -1.47771046e-01,  2.44458430e-02, -7.51380920e-02,\n         9.25868675e-02,  1.38021022e-01, -1.67112455e-01,  1.65505692e-01,\n         8.73290189e-03,  1.17904119e-01, -6.84744269e-02, -2.87695881e-02,\n        -8.30173679e-03, -1.62506357e-01, -5.24488054e-02,  1.37049422e-01,\n         7.47323930e-02, -2.09188536e-02, -4.06056549e-03,  1.43376440e-01,\n         1.40445549e-02,  1.70867667e-01, -2.65183840e-02,  8.77275656e-04,\n        -1.37046129e-01,  4.60617710e-03, -1.85318977e-01, -1.58864837e-02,\n         2.29871329e-02,  3.80622074e-02,  1.42500818e-01,  1.82841048e-02,\n        -3.90813574e-02, -7.84028843e-02,  1.84853077e-01,  1.93050370e-01,\n        -6.54060319e-02, -7.43676499e-02, -5.57897575e-02, -1.14752613e-01,\n        -1.19080387e-01, -3.29072699e-02, -1.45941213e-01,  8.08829814e-03,\n         1.55128436e-02,  7.58140981e-02,  2.07293723e-02, -1.09698959e-01,\n         6.92433417e-02,  1.88222080e-02, -4.59269583e-02,  8.57578516e-02,\n         6.03506938e-02, -9.14770737e-02,  1.19241148e-01,  4.50631045e-02,\n        -7.68938735e-02, -7.09724054e-02, -1.02827266e-01, -1.64174125e-01,\n        -2.76196115e-02,  8.31208453e-02, -2.78709352e-01,  1.44120410e-01,\n        -2.37623468e-01, -6.57077879e-02, -9.07763839e-02,  3.43120471e-02,\n         8.12288467e-03, -1.48912176e-01, -8.43681842e-02, -4.43576574e-02,\n        -1.44494800e-02, -1.99491143e-01,  1.84859131e-02,  3.40222940e-02,\n        -1.18032936e-02, -1.96104705e-01,  8.41709785e-03,  2.35016998e-02,\n         1.32718980e-01,  1.53837726e-01, -1.43254325e-01,  5.00533544e-03,\n        -7.33264163e-02,  7.29213730e-02, -1.16705775e-01,  1.93748251e-01,\n         8.57665539e-02, -1.53885663e-01,  8.72074161e-03, -1.98670886e-02,\n        -3.50107819e-01, -1.62800491e-01, -2.54513528e-02,  1.17921340e-03,\n        -4.12844718e-02,  1.29126802e-01, -1.01347707e-01, -7.54606202e-02,\n        -9.40117911e-02,  1.94491416e-01,  1.03805192e-01,  1.30576804e-01,\n        -2.86776945e-02, -7.47294212e-03,  1.13904804e-01,  1.30326971e-01,\n         8.00225586e-02, -7.19059110e-02,  2.25519836e-01,  1.16956346e-01,\n        -2.75629405e-02, -7.13808686e-02,  5.21503687e-02,  6.66853562e-02,\n        -3.56268063e-02,  5.61159104e-02, -5.35595044e-02, -8.14687535e-02,\n         9.75032896e-03, -4.93442342e-02, -1.48665570e-02,  5.56695163e-02,\n        -1.95562206e-02, -2.36280803e-02, -2.10730806e-01,  9.23500732e-02,\n        -1.56304494e-01,  1.92438856e-01, -7.70763308e-02, -7.63560012e-02,\n        -1.94726154e-01, -1.28389508e-01, -2.41448566e-01, -1.46400437e-01,\n         4.44205217e-02, -7.32411593e-02,  1.50931463e-01,  3.31935324e-02,\n         3.75232957e-02, -1.36581277e-02,  6.62172288e-02, -9.64717881e-04,\n         1.46379545e-02,  9.24757496e-02, -7.44614676e-02,  1.08988129e-01,\n        -9.70354229e-02,  1.51009545e-01,  2.11454451e-01,  1.21866658e-01,\n        -7.74727821e-01,  1.02824792e-01,  2.45376453e-01, -5.62050790e-02,\n        -1.57569245e-01, -6.94653615e-02, -6.61234111e-02, -2.27408186e-01,\n        -5.71247712e-02,  6.73410743e-02, -2.90139556e-01,  4.11724858e-02,\n         1.26716956e-01, -2.25845709e-01, -5.70764169e-02,  9.57663506e-02,\n        -4.54397174e-03, -2.36543361e-02, -1.53363690e-01, -1.99812412e-01,\n         2.93121599e-02,  4.99081798e-02,  1.55382127e-01, -1.24730207e-01,\n        -4.84163361e-03, -1.10835684e-02,  1.37679232e-02, -2.62710340e-02,\n        -2.50402212e-01,  2.01945417e-02,  2.99373008e-02, -5.53094633e-02,\n         2.37751037e-01, -6.93107322e-02,  3.66790816e-02,  1.56563029e-01,\n        -9.51125473e-03, -9.93554667e-02,  2.09053725e-01, -1.01876557e-02,\n         1.06845602e-01,  3.56199853e-02, -5.74559942e-02,  1.43118761e-02,\n         2.37115175e-02, -2.03242287e-01,  2.81729877e-01, -1.22145280e-01,\n        -7.93125704e-02,  5.00485674e-03, -1.16391025e-01,  1.10016622e-01,\n         1.63138490e-02,  2.08342522e-01, -6.79424480e-02, -5.63724488e-02,\n        -2.49689579e-01,  7.08104521e-02,  8.83106515e-02,  6.65747747e-02,\n         1.26200810e-01,  1.48562118e-01, -1.30062565e-01, -1.85825601e-01,\n        -3.27151790e-02, -5.15556894e-02, -1.57826580e-02, -1.43079117e-01],\n       dtype=float32),\n '/BERT_encoder/transformer/layer_2/self_attention/attention_output/kernel:0': array([[[ 0.03532341, -0.00676961, -0.03629591, ...,  0.04096597,\n           0.05302395,  0.00293914],\n         [ 0.0181695 ,  0.03396563,  0.02646367, ...,  0.03688795,\n          -0.04933529,  0.05320143],\n         [ 0.00227006,  0.02305432,  0.02735704, ..., -0.00354918,\n           0.04066598, -0.05060332],\n         ...,\n         [ 0.01533053,  0.01871877,  0.02522698, ..., -0.00600504,\n          -0.05414712, -0.0125537 ],\n         [-0.03634492,  0.01718839, -0.01044914, ..., -0.02035088,\n           0.03407517,  0.00374731],\n         [-0.0782615 , -0.06028543, -0.11890902, ...,  0.05928245,\n           0.03870123,  0.03441152]],\n \n        [[ 0.07143487, -0.01888151,  0.09079923, ...,  0.02178642,\n           0.00689355,  0.03335874],\n         [-0.01116824,  0.04521769, -0.00392676, ..., -0.10685855,\n           0.01379514,  0.07704704],\n         [-0.00748082,  0.04107687, -0.01095687, ...,  0.00542056,\n          -0.03797176, -0.01090262],\n         ...,\n         [-0.00034522, -0.02786136,  0.03238231, ...,  0.00943156,\n          -0.00668422, -0.03463095],\n         [-0.04075963,  0.07303981, -0.07875569, ...,  0.04746937,\n           0.00540779, -0.00880335],\n         [-0.04081177, -0.02376008, -0.05309925, ...,  0.0317017 ,\n           0.04388792,  0.05053796]],\n \n        [[ 0.00193485,  0.0033454 ,  0.01836804, ...,  0.00869031,\n          -0.00852725, -0.01915231],\n         [-0.01093415, -0.02402603,  0.00795835, ...,  0.00351667,\n          -0.02906129, -0.03794537],\n         [-0.06657159, -0.01589026,  0.05795055, ...,  0.0107699 ,\n          -0.0032804 , -0.0010215 ],\n         ...,\n         [-0.04840872,  0.04132226,  0.0065014 , ...,  0.01158302,\n          -0.03024073,  0.01963083],\n         [-0.04854709, -0.05560484,  0.05145101, ..., -0.01725182,\n          -0.02185952,  0.03305424],\n         [-0.01788682, -0.01946593,  0.00754604, ...,  0.00410464,\n          -0.0584166 , -0.02381482]],\n \n        ...,\n \n        [[ 0.03104409, -0.01913614, -0.08812054, ..., -0.01137055,\n          -0.03784371, -0.05085398],\n         [ 0.02472523, -0.08340227, -0.0056464 , ...,  0.06717659,\n          -0.01385454, -0.08970924],\n         [ 0.03982223,  0.00466811, -0.00227697, ...,  0.003892  ,\n           0.00572647, -0.05248109],\n         ...,\n         [-0.05258905,  0.08489546, -0.10234367, ...,  0.00520733,\n          -0.03922755, -0.03862779],\n         [ 0.00811013,  0.06486821,  0.08515933, ..., -0.05653105,\n           0.04000661, -0.01102989],\n         [-0.01301784, -0.05105753,  0.00699002, ...,  0.00670159,\n          -0.06837059, -0.04203688]],\n \n        [[ 0.01298775, -0.02073467,  0.06402629, ...,  0.02164257,\n          -0.01172973, -0.00396046],\n         [-0.04326043,  0.04748231,  0.023674  , ...,  0.00439524,\n           0.01183224, -0.01190775],\n         [-0.01537316, -0.02515543,  0.02161783, ...,  0.04798429,\n          -0.0793606 ,  0.02830308],\n         ...,\n         [-0.08002631, -0.00579558,  0.08054022, ..., -0.00279158,\n          -0.02537104,  0.03784196],\n         [-0.01907882,  0.02828759,  0.01456673, ...,  0.0634484 ,\n           0.00818268, -0.01742666],\n         [-0.03447492, -0.00647745, -0.07483267, ...,  0.07665104,\n          -0.04718384, -0.06397699]],\n \n        [[ 0.04578442,  0.05694963,  0.02448194, ..., -0.0084765 ,\n          -0.02863355,  0.00213133],\n         [-0.01456316,  0.00398865, -0.02894585, ...,  0.02368607,\n           0.00525813,  0.06391726],\n         [-0.01952912,  0.00770955, -0.03601635, ...,  0.02998127,\n           0.00133204,  0.01064377],\n         ...,\n         [ 0.0447889 , -0.018574  ,  0.03895243, ...,  0.02948253,\n          -0.01065433,  0.01882109],\n         [-0.01747522, -0.02558408, -0.04212614, ..., -0.009993  ,\n          -0.00371095,  0.03634101],\n         [-0.00243311, -0.00915202,  0.04555564, ...,  0.00215445,\n          -0.00985986, -0.02845478]]], dtype=float32),\n '/BERT_encoder/transformer/layer_2/self_attention/key/bias:0': array([[-1.35822631e-02,  1.82427913e-02, -3.87122296e-02,\n         -2.59988904e-02, -2.54167616e-02,  2.15827432e-02,\n         -3.76955010e-02,  5.66518120e-02, -1.90498978e-02,\n         -4.72828336e-02,  1.47845736e-02,  1.25089649e-03,\n          5.46181314e-02,  3.62928100e-02, -1.95736773e-02,\n          2.29717698e-03, -2.87367348e-02, -2.16253046e-02,\n         -2.98266001e-02, -9.43706604e-04, -2.21004486e-02,\n          2.14344040e-02,  8.31361562e-02, -5.14031015e-02,\n         -1.54638961e-02,  5.82762714e-03, -1.37011008e-02,\n          5.13617769e-02, -1.66887958e-02, -1.29392771e-02,\n          3.04484777e-02,  1.35465944e-02,  1.69957033e-03,\n          2.72737071e-02, -1.08178407e-02, -5.84551953e-02,\n         -1.15060270e-01, -5.54998266e-03,  5.51420934e-02,\n         -5.34908734e-02, -3.59682329e-02, -3.32584679e-02,\n         -2.26997789e-02, -8.34441837e-03,  8.54507554e-03,\n          7.09050223e-02, -5.27776480e-02,  4.32897918e-02,\n         -2.47956216e-02,  2.97029503e-02, -2.31382251e-02,\n          2.52742339e-02,  3.09275407e-02, -9.22431201e-02,\n         -4.37972285e-02,  3.71837169e-02, -2.88543832e-02,\n         -6.22365996e-02,  2.49988139e-02, -4.17631790e-02,\n         -2.62099393e-02,  3.93228121e-02, -1.65283717e-02,\n         -2.15154383e-02],\n        [-4.04654890e-02, -4.20821179e-03,  2.96259541e-02,\n          4.76973988e-02,  2.40764320e-02, -1.05057925e-03,\n         -3.38544287e-02, -2.22767610e-02,  4.12840508e-02,\n          6.01547956e-03,  2.96824630e-02, -4.14025560e-02,\n          2.96403226e-02, -4.87111248e-02,  3.86546366e-02,\n         -2.49352045e-02,  1.55724837e-02,  1.12033496e-02,\n          5.12918532e-02,  7.03700408e-02, -1.84565131e-02,\n          4.05303128e-02, -6.47222577e-03, -1.51330084e-02,\n          2.00100373e-02,  3.82916369e-02,  2.57291719e-02,\n         -4.60383147e-02,  5.83331771e-02, -2.13425923e-02,\n         -1.31220534e-03,  4.48232852e-02, -4.03433992e-03,\n          1.50053361e-02, -4.04419191e-02, -3.67776491e-03,\n          6.30516605e-03, -1.29992384e-02, -7.98156112e-02,\n         -2.82092858e-02,  1.67286228e-02,  1.38473208e-03,\n          9.25678238e-02,  6.35343255e-04, -7.35901222e-02,\n         -2.97218282e-02,  5.52775431e-03, -7.56409764e-02,\n          4.37946655e-02,  2.26188847e-03,  2.63589174e-02,\n         -1.44990636e-02, -2.64437124e-02,  4.55977917e-02,\n          2.83687301e-02,  3.88151221e-02,  6.45153150e-02,\n          7.20553026e-02, -2.27998458e-02, -2.45737676e-02,\n          4.45325561e-02, -2.19240673e-02, -4.07622084e-02,\n          8.53929669e-03],\n        [-1.65938921e-02,  2.61320081e-02,  1.71540752e-02,\n         -1.43006239e-02,  1.22812008e-02, -1.24643994e-02,\n          4.16746642e-03, -9.37073212e-03, -1.93006229e-02,\n          2.50810385e-02, -5.52857155e-03, -1.04721608e-02,\n          1.86968851e-03, -2.55421121e-02,  7.09831202e-03,\n         -5.97690744e-03,  8.37876648e-03,  8.63354094e-03,\n          7.14176800e-03, -2.66721100e-02,  1.29809137e-02,\n          1.42470151e-02, -5.14757354e-03, -4.79612825e-03,\n          1.76565920e-03, -1.93054378e-02,  4.49118298e-03,\n          7.69043062e-03, -2.05234755e-02, -9.23475064e-03,\n          2.38374900e-02,  1.31684467e-02,  1.16044460e-02,\n         -8.15988332e-03,  1.93789229e-02,  2.19737701e-02,\n         -1.46775916e-02, -3.35351098e-03,  1.68504473e-02,\n          2.41635833e-03, -1.10013653e-02,  1.69702887e-03,\n          1.31566753e-03, -6.22691587e-04,  4.07651579e-03,\n          3.65071371e-03, -9.72496439e-03, -1.85398031e-02,\n          3.52215301e-03,  2.29619630e-02,  1.67572480e-02,\n          4.83947387e-03, -5.78251248e-03, -1.46349529e-02,\n          9.52125341e-03,  1.01969671e-02, -9.99961141e-03,\n          1.41001018e-02,  5.18691447e-03, -1.12309167e-02,\n         -2.16565188e-02, -1.48828924e-02, -3.24216001e-02,\n         -3.35003156e-03],\n        [ 1.27988504e-02, -6.16004830e-03, -2.20122095e-03,\n          2.03862004e-02,  2.07392871e-02, -1.41274026e-02,\n         -2.60152970e-03,  2.09366400e-02, -1.55057618e-02,\n         -4.66043421e-04,  2.38073003e-02,  2.12639607e-02,\n         -1.53581304e-02, -5.35084866e-02, -4.92513552e-02,\n         -1.38060357e-02,  3.09742559e-02,  2.17611473e-02,\n          5.20808250e-03, -1.51353413e-02, -3.25394310e-02,\n          3.51476227e-03,  1.73901394e-02,  2.25785002e-02,\n          8.81384127e-03, -3.89709766e-03,  6.32912247e-03,\n         -5.42110913e-02, -4.94105322e-03,  3.54422349e-03,\n         -2.03967020e-02, -9.23832133e-03, -2.68432740e-02,\n         -6.48041144e-02,  7.43082613e-02,  2.59580519e-02,\n          1.69065334e-02,  2.32757479e-02, -3.88082080e-02,\n         -2.53134524e-03,  1.06893567e-04,  1.33019183e-02,\n          7.00140297e-02, -3.51004698e-03, -1.19922664e-02,\n         -1.99508965e-02, -2.25916374e-02,  1.63253304e-02,\n         -4.29074392e-02,  1.67266354e-02,  4.03971821e-02,\n          4.82337847e-02, -1.43372072e-02,  2.06343755e-02,\n          1.73268374e-02, -2.24433374e-02,  3.22324373e-02,\n          4.49664481e-02, -2.06359234e-02,  3.19748446e-02,\n          5.10351220e-03,  5.95758576e-03, -6.01574592e-03,\n          5.20682186e-02],\n        [-5.26635647e-02, -1.12468598e-03, -9.73923225e-03,\n         -4.37383205e-02, -4.74494137e-02,  3.88549501e-03,\n         -3.13640162e-02, -1.57390200e-02,  2.80744247e-02,\n          1.62946396e-02, -2.47668680e-02,  2.10592020e-02,\n          2.57049911e-02,  1.73295476e-02, -1.34462938e-02,\n          2.81954482e-02, -3.08951270e-02,  2.18556914e-02,\n          7.00457580e-03, -4.28574067e-03,  1.62838325e-02,\n          2.19314788e-02, -1.06269661e-02,  1.95512343e-02,\n          4.96208966e-02, -2.52573863e-02, -2.68187076e-02,\n         -4.71150801e-02, -3.03512197e-02, -3.97176389e-03,\n          4.31167521e-02,  3.83065790e-02,  4.83788848e-02,\n         -4.39494997e-02, -2.33828779e-02, -3.01900487e-02,\n         -1.65051594e-02, -4.59111966e-02,  6.81878701e-02,\n         -1.31297521e-02,  3.34470207e-03, -6.99295523e-03,\n          4.51830514e-02, -1.22438846e-02,  4.13327478e-03,\n          8.13681912e-03, -7.28481263e-03, -5.15283421e-02,\n         -7.33266547e-02, -4.55250703e-02,  6.07067496e-02,\n          3.80101092e-02,  5.57591254e-03, -1.17016966e-02,\n         -5.14199026e-02, -4.02355790e-02, -1.63501669e-02,\n          1.21819740e-02, -6.39292002e-02,  9.93466843e-03,\n         -2.31181812e-02,  8.89420323e-03,  1.73719097e-02,\n          3.12203635e-02],\n        [ 3.39821354e-02, -2.19004843e-02, -8.50312412e-03,\n          1.18023092e-02,  5.04472554e-02, -3.24438587e-02,\n          2.56012436e-02,  9.49122943e-03, -5.48204221e-02,\n          2.55813245e-02, -1.26531310e-02,  3.20953615e-02,\n          3.46967801e-02, -3.40228267e-02,  1.02765979e-02,\n         -4.20738906e-02, -3.99961174e-02, -3.00143939e-02,\n         -9.34286881e-03, -1.78092979e-02,  9.71286718e-05,\n         -1.89945139e-02,  3.58543880e-02, -4.34999680e-03,\n         -4.87026460e-02, -8.19408335e-03, -2.86120046e-02,\n         -9.84100904e-03,  7.73657039e-02,  7.82361627e-03,\n          3.35263051e-02, -4.74877506e-02,  1.48895150e-02,\n         -5.54014929e-02,  1.54886274e-02, -1.93545148e-02,\n         -1.48722650e-02, -7.17831263e-03, -5.05067334e-02,\n          1.78650673e-02, -3.22119854e-02,  3.29293613e-03,\n         -1.96964946e-02, -1.09125869e-02, -3.05588283e-02,\n          1.93392001e-02, -2.95207230e-03, -1.91631764e-02,\n         -2.60033421e-02, -1.86519150e-03, -2.16367026e-03,\n         -2.98529882e-02,  2.29498409e-02, -6.73100911e-03,\n         -4.07089889e-02, -2.88502555e-02,  4.42885086e-02,\n          5.11219725e-02, -4.72796895e-02,  2.91903112e-02,\n          3.87209095e-02, -4.17376384e-02, -2.90119406e-02,\n          3.31275049e-04],\n        [ 3.71426605e-02, -6.98297704e-03,  1.79508273e-02,\n         -5.43634780e-02, -5.60406633e-02, -1.17041245e-02,\n         -3.53834741e-02,  1.13117062e-02, -2.77131535e-02,\n         -1.78959742e-02, -1.13412859e-02,  2.07622070e-02,\n         -1.17257964e-02, -1.83320697e-02,  1.08127417e-02,\n          9.57060605e-03, -6.39460701e-03,  1.01224901e-02,\n          7.25563336e-03,  6.43894821e-03, -5.27245970e-03,\n         -1.62983872e-02,  2.26501729e-02, -1.21461591e-02,\n         -2.06289217e-02, -2.60452740e-03, -2.71090399e-02,\n         -1.05692574e-03,  1.21548548e-02,  2.30603740e-02,\n          2.24110559e-02, -1.52202211e-02, -1.73717104e-02,\n          6.80777943e-03,  2.39894763e-02,  2.27533877e-02,\n         -2.59732585e-02, -9.74667817e-03,  2.94506755e-02,\n          3.49262804e-02, -4.64840159e-02,  2.02040877e-02,\n          1.40080939e-03,  6.29488262e-04,  3.47919688e-02,\n          3.22942659e-02,  2.72458512e-02, -3.28172073e-02,\n         -2.76372526e-02, -1.55693870e-02,  8.24620575e-03,\n         -2.82349288e-02,  5.32170897e-03,  2.63363030e-02,\n         -1.33867990e-02,  6.94153784e-03,  3.98897287e-03,\n         -1.11978538e-02,  6.59171641e-02,  9.53187887e-03,\n         -1.76643327e-04, -2.39903722e-02,  2.48910277e-03,\n          7.78099429e-03],\n        [ 1.35105159e-02,  1.49173383e-02,  1.13924476e-03,\n          1.87138524e-02,  7.97265489e-03,  8.85044411e-03,\n         -2.49237288e-02, -1.85931323e-03, -4.41596238e-03,\n          1.38689084e-02,  3.49472952e-03,  6.32166443e-03,\n          2.13299096e-02,  9.08504892e-03,  1.15165720e-02,\n          8.35779123e-03, -1.09092509e-02, -5.17532753e-04,\n          1.01635763e-02, -7.28781195e-03,  5.16438344e-03,\n         -1.00666778e-02,  6.65871985e-03,  2.84515470e-02,\n          2.43504141e-02, -2.14677793e-03,  4.79274942e-03,\n          7.79259950e-03, -6.96838927e-03,  4.66269470e-04,\n          1.36186657e-02,  9.93154012e-03, -1.69568956e-02,\n          2.76070391e-03, -1.79108810e-02, -1.52458008e-02,\n         -1.28907487e-02, -2.27155746e-03,  4.89255367e-03,\n         -2.53133080e-03,  1.55480532e-02, -7.52526196e-03,\n          6.71464438e-03,  4.28509712e-03,  9.23042465e-03,\n          9.08642821e-03, -1.03797745e-02, -2.32818853e-02,\n         -1.00512505e-02,  2.84702401e-03, -7.52201676e-03,\n         -1.73867703e-03,  2.10987180e-02,  6.71900343e-03,\n         -2.95443833e-03, -1.38885691e-03, -7.18987361e-03,\n          5.65371802e-03,  3.43861356e-02,  1.42099345e-02,\n         -3.48037621e-03, -1.44292635e-03, -3.57242534e-03,\n         -1.80110883e-03]], dtype=float32),\n '/BERT_encoder/transformer/layer_2/self_attention/key/kernel:0': array([[[-0.05441282, -0.03457694,  0.01258886, ..., -0.03188216,\n          -0.02913755,  0.00738309],\n         [ 0.0218858 , -0.01003456,  0.06164696, ..., -0.055491  ,\n           0.133964  ,  0.02624244],\n         [-0.01827813, -0.00110878,  0.03517453, ...,  0.01599122,\n          -0.03722821,  0.00524331],\n         ...,\n         [ 0.00078116,  0.01141156, -0.0310962 , ..., -0.00644605,\n           0.03567368, -0.00595343],\n         [ 0.06319631,  0.03426286, -0.00838004, ...,  0.04360325,\n          -0.03222324,  0.00926722],\n         [ 0.0423268 ,  0.10865687, -0.01861339, ..., -0.08295458,\n           0.00268309, -0.08314364]],\n \n        [[ 0.04723025,  0.02900858, -0.03197949, ...,  0.04702029,\n           0.02520363, -0.01190143],\n         [-0.01280586,  0.03158027,  0.02022798, ...,  0.02461443,\n          -0.01769049, -0.04288092],\n         [-0.02552188,  0.012153  ,  0.02641377, ..., -0.08522113,\n          -0.04241677, -0.02132774],\n         ...,\n         [ 0.01591503, -0.02928432, -0.01376167, ...,  0.08301702,\n          -0.04007646,  0.05207923],\n         [ 0.00736235, -0.08076873, -0.06600811, ..., -0.07084308,\n           0.01188598,  0.0549477 ],\n         [ 0.04073912, -0.03556625,  0.08799534, ...,  0.03214645,\n          -0.01018148, -0.00426855]],\n \n        [[ 0.06047394, -0.02372886, -0.03951214, ..., -0.02736603,\n           0.03261532,  0.05593774],\n         [-0.00498156,  0.00603769, -0.02138619, ...,  0.02563196,\n           0.02000614, -0.08272605],\n         [ 0.17679578,  0.01713151,  0.11712691, ..., -0.03086978,\n           0.04706315,  0.03302466],\n         ...,\n         [-0.0630229 ,  0.01904221,  0.00217728, ..., -0.04973257,\n           0.00026444, -0.07441337],\n         [-0.03365301,  0.12596759, -0.01495412, ...,  0.00376203,\n           0.00094097, -0.02807819],\n         [ 0.03634132,  0.02389774, -0.10523581, ...,  0.01067415,\n          -0.12162432, -0.05058432]],\n \n        ...,\n \n        [[ 0.01436849,  0.05305275, -0.04730283, ...,  0.01638275,\n           0.01950059,  0.01382952],\n         [-0.04327497,  0.00209192, -0.01977429, ..., -0.06516252,\n          -0.05705305,  0.03636315],\n         [-0.08816883,  0.02160061,  0.04377043, ..., -0.01314812,\n           0.02594324, -0.04023201],\n         ...,\n         [-0.01762538, -0.01062271,  0.03024792, ..., -0.03597484,\n           0.04132125,  0.07744607],\n         [ 0.07456528,  0.03749264, -0.02786341, ..., -0.03227105,\n          -0.01319443,  0.05667359],\n         [-0.06384233, -0.01740619, -0.01882961, ...,  0.05460712,\n          -0.00817518, -0.03203124]],\n \n        [[ 0.01936598, -0.02217696,  0.03364521, ..., -0.00490455,\n           0.02559779, -0.04785763],\n         [ 0.01154391, -0.02240238, -0.07580915, ..., -0.06826718,\n          -0.01173283,  0.0631232 ],\n         [-0.06977507, -0.00587197,  0.00086224, ...,  0.01993179,\n           0.05240721, -0.03199565],\n         ...,\n         [ 0.02271115, -0.03675065, -0.09909828, ..., -0.02791077,\n          -0.02531322, -0.01080477],\n         [-0.05299861,  0.06445496, -0.07461444, ...,  0.076222  ,\n           0.0174173 ,  0.00655661],\n         [ 0.01001745, -0.02802372, -0.06281971, ..., -0.18947974,\n           0.07491802, -0.03367626]],\n \n        [[-0.08469487,  0.01592405,  0.07656689, ..., -0.03872191,\n          -0.03964414, -0.05256004],\n         [ 0.0314359 ,  0.01990919,  0.02605733, ..., -0.02880562,\n           0.04214328, -0.00021094],\n         [-0.0857623 , -0.00628952, -0.02222778, ...,  0.01060195,\n          -0.08065973,  0.00178845],\n         ...,\n         [-0.05120471,  0.04419333, -0.07565264, ...,  0.00509011,\n          -0.07027805, -0.01305858],\n         [ 0.03248006, -0.01136692,  0.02883006, ...,  0.00850778,\n          -0.02896905, -0.02430213],\n         [-0.04241452,  0.03367131, -0.02185081, ...,  0.04375437,\n          -0.03324499,  0.1148967 ]]], dtype=float32),\n '/BERT_encoder/transformer/layer_2/self_attention/query/bias:0': array([[-1.47669762e-01, -8.08635503e-02,  1.32977208e-02,\n         -6.25504702e-02,  4.19875979e-02, -8.93283710e-02,\n         -7.09419325e-02,  1.52513608e-01,  1.83271065e-01,\n         -2.58139218e-03, -1.99079052e-01,  1.06731258e-01,\n         -9.47090611e-02,  4.44240496e-03, -1.77713126e-01,\n          1.57131508e-01, -3.10627427e-02, -1.37124062e-01,\n         -4.27380241e-02,  1.34901956e-01, -4.91190553e-02,\n          5.77129249e-04,  3.49305533e-02, -1.51536334e-02,\n          9.28151906e-02,  7.97417760e-02, -8.28728196e-04,\n         -2.64162980e-02, -7.11227357e-02, -1.42179728e-02,\n         -1.18803248e-01, -2.22684741e-01, -4.12046956e-03,\n          2.99072303e-02, -1.41691009e-03,  5.55608014e-04,\n          9.28289667e-02,  1.21875256e-01,  1.20216697e-01,\n          5.22196069e-02,  4.18246426e-02, -1.17645681e-01,\n         -3.02411299e-02, -1.11892276e-01,  2.82924958e-02,\n          1.41525671e-01, -4.40321118e-03, -1.58997655e-01,\n         -1.19449459e-01,  2.83158664e-02, -6.01155311e-02,\n          4.56948578e-02, -4.75517064e-02, -1.27189249e-01,\n         -6.60113916e-02,  2.75168996e-02, -1.48020759e-01,\n          5.61639778e-02, -1.67303145e-01,  5.53301871e-02,\n         -1.02981880e-01,  5.45305312e-02,  3.18656750e-02,\n          2.00903565e-01],\n        [-5.27702011e-02, -7.08731264e-02, -8.99699256e-02,\n          2.87585277e-02, -2.80699469e-02,  6.25533313e-02,\n          5.22933155e-02,  4.13152613e-02, -2.04415798e-01,\n         -3.25448508e-03,  4.33655493e-02, -5.62225990e-02,\n          6.86386749e-02, -5.16767167e-02,  1.67989030e-01,\n         -1.19747251e-01,  1.90231442e-01,  1.93044439e-01,\n         -4.70933355e-02,  5.08762971e-02,  3.18856649e-02,\n         -1.32339448e-01, -8.45451280e-02, -7.75492340e-02,\n          5.24050817e-02,  1.34072170e-01,  1.01597961e-02,\n          6.40392229e-02,  5.59376739e-02,  1.58456936e-02,\n         -3.67889218e-02, -1.27105668e-04, -4.94546304e-03,\n         -1.07125282e-01, -1.65914968e-01, -7.19961375e-02,\n         -4.45467606e-03,  4.41029333e-02, -1.78047955e-01,\n         -8.48357752e-02, -5.76732196e-02,  2.09431648e-02,\n          9.56047177e-02,  4.48529646e-02, -1.50205135e-01,\n          9.17677432e-02,  1.24845490e-01, -8.17538500e-02,\n         -8.64452273e-02, -1.32440045e-01, -8.36528912e-02,\n          5.08511513e-02, -1.98920771e-01,  9.65057220e-03,\n         -1.14737295e-01,  1.88449338e-01, -1.02333665e-01,\n          4.01189290e-02, -1.48279503e-01,  2.98062097e-02,\n          2.08242182e-02,  1.35184480e-02, -1.17283434e-01,\n          1.49323046e-01],\n        [ 7.86802769e-02, -8.17838386e-02,  2.00481620e-02,\n          1.29408807e-01, -1.04976390e-02, -3.38212424e-03,\n         -2.15805955e-02,  2.72634160e-02,  7.43629336e-02,\n         -6.85036927e-02,  9.04546976e-02,  1.28274322e-01,\n         -2.10050344e-02,  6.96676224e-02, -1.03776552e-01,\n          6.42982796e-02, -7.20315427e-02, -4.95262630e-02,\n          1.17443696e-01,  1.21374846e-01, -1.41224489e-01,\n         -1.97933853e-01, -1.09097585e-01,  7.11765587e-02,\n          6.05064481e-02,  2.08216999e-02, -2.58929469e-02,\n          1.62135046e-02,  8.38834941e-02,  4.71462235e-02,\n         -1.76034123e-01,  1.45551683e-02,  9.31742340e-02,\n          2.93559153e-02, -9.70194638e-02, -6.20082282e-02,\n         -1.58405155e-02,  1.60517339e-02, -4.28046510e-02,\n          5.95337339e-02,  6.27061129e-02, -9.72181335e-02,\n          5.67147918e-02, -4.28745802e-03,  1.38609186e-02,\n         -1.77941710e-01, -3.84178124e-02,  6.31984845e-02,\n          1.18907318e-02, -1.16788708e-01,  2.17553247e-02,\n         -3.79051305e-02,  1.39262443e-02,  2.02914700e-01,\n         -4.12085317e-02,  6.01945631e-02,  1.54590175e-01,\n         -8.28460380e-02, -6.96302578e-02,  8.32774490e-02,\n          2.80739646e-02,  2.19092090e-02,  1.98204547e-01,\n          1.61078408e-01],\n        [ 1.08518802e-01,  5.70680276e-02,  6.70253485e-02,\n          2.23774146e-02, -1.20832101e-01, -1.87885836e-02,\n          1.01634018e-01, -1.19592445e-02,  8.22324380e-02,\n          6.65853843e-02, -1.25009522e-01, -3.96898352e-02,\n         -2.61686873e-02,  2.49276683e-02, -3.70961167e-02,\n         -4.76771519e-02,  5.09226369e-03,  5.04245758e-02,\n         -4.75094989e-02,  1.00357365e-02,  6.72888709e-03,\n         -6.88206926e-02,  1.39191911e-01,  3.46724652e-02,\n         -8.71879905e-02, -2.96088192e-03,  6.35413826e-02,\n          4.04660590e-03,  1.01870298e-01,  3.24940309e-02,\n          4.22389619e-02,  1.17527647e-02,  6.69699833e-02,\n         -1.50353476e-01, -7.75660351e-02,  7.61563629e-02,\n          5.69110885e-02,  2.31281258e-02, -3.16116810e-02,\n         -4.58662324e-02,  2.26805862e-02, -1.20261416e-01,\n          8.15940797e-02, -1.71955284e-02, -1.16973137e-02,\n         -7.03606158e-02,  2.01218054e-02, -1.01046264e-01,\n         -6.84469640e-02, -3.48552391e-02, -1.49252568e-03,\n         -9.21845343e-03,  1.22197665e-01, -1.05936758e-01,\n         -2.46270839e-02,  9.86168161e-02,  2.48857457e-02,\n         -7.25039393e-02, -6.52929097e-02,  3.53219099e-02,\n          4.34509441e-02,  8.46597180e-02, -1.61635093e-02,\n         -1.15946375e-01],\n        [ 3.74266587e-04,  1.54193074e-01, -1.05112657e-01,\n         -6.29024282e-02, -2.86225788e-02,  2.03774180e-02,\n         -2.39980128e-03,  1.17355861e-01, -1.56917810e-01,\n          1.35174796e-01,  1.12566508e-01, -1.14309691e-01,\n         -1.58750825e-02, -1.08621731e-01,  4.39003780e-02,\n         -1.48055954e-02,  5.35945073e-02, -1.40752539e-01,\n          1.65022925e-01,  6.91506937e-02,  2.57972442e-02,\n          7.96095189e-03, -1.97681576e-01,  1.41850948e-01,\n         -9.39191952e-02,  9.68386531e-02, -1.02129750e-01,\n         -1.18088081e-01,  3.53376940e-02,  1.72671154e-01,\n         -1.40983630e-02,  1.67243555e-01, -3.04269623e-02,\n         -1.46811783e-01,  4.85734530e-02, -4.11653542e-04,\n          4.27929386e-02,  1.36054501e-01,  1.17627531e-01,\n          6.81127906e-02, -3.51360999e-02, -5.57312071e-02,\n         -1.24099091e-01,  6.73599832e-04,  2.23751843e-01,\n         -1.31255211e-02,  1.39410764e-01, -1.34654969e-01,\n          1.52833939e-01,  5.87382121e-03, -9.82205421e-02,\n          7.02527836e-02, -3.51652876e-02,  1.70080587e-01,\n          6.15934543e-02,  3.86592597e-02,  1.20876499e-01,\n         -1.67249531e-01,  1.26872510e-01, -1.78051800e-01,\n         -4.14060475e-03, -7.86728337e-02,  1.03753507e-01,\n         -2.21675020e-02],\n        [ 6.75806254e-02,  2.09439322e-01,  6.75352141e-02,\n         -9.09244567e-02,  2.38705695e-01, -6.29319102e-02,\n         -5.42781837e-02,  2.52772421e-02, -1.67561233e-01,\n         -7.13723302e-02, -1.25892490e-01,  2.03918636e-01,\n          3.68612856e-01, -2.24494919e-01, -1.62456006e-01,\n         -1.69736311e-01,  1.21746555e-01, -8.28686580e-02,\n         -3.58335488e-02, -5.13034500e-02,  7.02672377e-02,\n         -1.43659905e-01,  1.95025146e-01, -1.76567778e-01,\n         -5.09055480e-02,  1.34466276e-01,  1.63759664e-01,\n          7.92196672e-03,  2.13171747e-02, -1.85572207e-01,\n          5.13606109e-02, -2.87272692e-01,  7.66704455e-02,\n          1.72303677e-01, -8.57283100e-02, -1.75023526e-01,\n          1.25589013e-01,  2.11690694e-01, -2.22630531e-01,\n          1.72373563e-01,  8.71126167e-03,  3.17240596e-01,\n          1.46540910e-01, -1.13400221e-01, -3.54753733e-02,\n          2.60045290e-01,  1.48726508e-01, -2.12692246e-01,\n         -8.07825848e-02,  9.62196812e-02,  1.70972586e-01,\n         -2.28326321e-01,  8.79704729e-02,  1.31597117e-01,\n          1.74233586e-01, -9.64111984e-02,  2.31247634e-01,\n          6.40817285e-02, -2.82518864e-01, -1.73007280e-01,\n          5.28476164e-02, -6.53433576e-02,  4.77239676e-02,\n         -1.31736532e-01],\n        [-3.91435176e-02,  1.51523724e-01,  2.12771386e-01,\n          5.04025444e-02, -1.30330205e-01,  1.40869886e-01,\n         -2.26954103e-01,  1.06542066e-01, -6.77705258e-02,\n          1.24434559e-02, -5.31894155e-02, -2.12927982e-02,\n         -2.39773951e-02,  2.94814613e-02, -2.79496670e-01,\n          4.14010882e-02, -8.08553100e-02, -1.18340291e-01,\n          5.65347522e-02, -1.53276294e-01, -1.01079129e-01,\n          2.14433834e-01,  1.46360636e-01, -9.55436677e-02,\n         -1.89083934e-01,  2.32287988e-01, -2.26951092e-01,\n         -2.01254860e-01,  9.22396854e-02,  1.45268321e-01,\n          2.67134815e-01, -1.39751166e-01,  6.40325109e-03,\n         -2.52636909e-01,  8.28956068e-02,  1.63816378e-01,\n         -1.10710599e-01, -5.86286820e-02, -3.71862277e-02,\n          1.72437489e-01, -1.80962250e-01,  1.43307894e-01,\n         -1.40112951e-01,  1.69283643e-01,  2.08408311e-01,\n          7.60731399e-02, -9.58206505e-02, -7.86275342e-02,\n          1.52050992e-02, -7.96964858e-03, -3.27395834e-02,\n          1.73868597e-01, -2.30626687e-01,  1.78954452e-01,\n         -2.13623315e-01, -1.86812326e-01, -1.69812188e-01,\n         -5.52611947e-02,  2.28463799e-01, -4.52280045e-02,\n          2.20341727e-01, -3.97739373e-02,  3.38602841e-01,\n          8.54188353e-02],\n        [-3.59097309e-02,  2.46302728e-02,  9.97638404e-02,\n          3.92515399e-02, -7.15177599e-03, -9.16459858e-02,\n         -1.19730100e-01, -1.65646477e-03,  1.48203727e-02,\n          9.10113752e-02, -1.69553623e-01, -1.58947080e-01,\n         -1.08835986e-02,  9.78502408e-02, -3.59276198e-02,\n         -6.70291334e-02, -8.43939558e-02,  1.28553212e-01,\n          6.89596236e-02, -3.27207930e-02,  2.48942114e-02,\n         -9.06272456e-02,  7.54791219e-03,  7.11379424e-02,\n          1.12348855e-01,  1.02608465e-01,  1.28545389e-01,\n         -4.92583252e-02, -2.21145805e-02,  2.40475332e-04,\n         -3.79606932e-02,  3.62929441e-02,  1.73035804e-02,\n          1.57570709e-02, -2.90639400e-02, -4.05330434e-02,\n         -3.85554545e-02, -1.83892667e-01,  3.86384912e-02,\n         -6.40548766e-02, -7.78491870e-02,  2.71763653e-02,\n          1.17867500e-01, -8.69055539e-02, -5.02548665e-02,\n          2.63455324e-02,  9.49843153e-02, -1.08241092e-03,\n         -1.05230875e-01,  1.18138522e-01, -2.81481035e-02,\n          3.80754955e-02,  1.09927543e-01,  1.21034391e-01,\n          2.00714007e-01, -4.95627970e-02, -1.11579821e-01,\n          8.12835470e-02,  4.78602648e-02, -6.96771815e-02,\n         -1.38368011e-01,  5.65459654e-02,  6.67813718e-02,\n          3.10871806e-02]], dtype=float32),\n '/BERT_encoder/transformer/layer_2/self_attention/query/kernel:0': array([[[-0.08076297,  0.03905687,  0.06612155, ...,  0.00485512,\n          -0.06268375,  0.07997815],\n         [-0.02938338,  0.00274207, -0.05049985, ..., -0.02745845,\n           0.11162207,  0.01542355],\n         [ 0.08497281,  0.14302023,  0.01200766, ...,  0.03177076,\n           0.01646875,  0.07945568],\n         ...,\n         [-0.02579579,  0.01886276,  0.01012135, ..., -0.04005268,\n           0.00226638, -0.05856417],\n         [-0.08743205,  0.16502015,  0.08108301, ...,  0.08951716,\n           0.01164741, -0.0159029 ],\n         [-0.13420649,  0.01854459, -0.03057772, ...,  0.02715766,\n          -0.07371029, -0.10413718]],\n \n        [[ 0.07890831, -0.02539671, -0.05415072, ..., -0.02986347,\n           0.02783623, -0.00921124],\n         [ 0.03141686, -0.00890339, -0.0782881 , ...,  0.05632595,\n          -0.07066061, -0.00280665],\n         [-0.11009084, -0.03393141, -0.04102699, ..., -0.01684724,\n          -0.02064731,  0.02530716],\n         ...,\n         [ 0.00309965,  0.04737821, -0.0215256 , ...,  0.02302708,\n          -0.08767781, -0.01417448],\n         [ 0.078793  ,  0.01400059,  0.01539497, ...,  0.07982375,\n           0.08388623,  0.05432322],\n         [ 0.05694845, -0.08294251,  0.01821468, ...,  0.16266915,\n          -0.0278401 ,  0.05568225]],\n \n        [[-0.01466396,  0.00065204, -0.05085694, ...,  0.06677297,\n          -0.06160691,  0.04296492],\n         [ 0.02827841, -0.04258259,  0.0227037 , ..., -0.06273732,\n          -0.01787857,  0.02681142],\n         [ 0.07351586,  0.02647757,  0.06278874, ..., -0.04365459,\n          -0.01887054,  0.08223571],\n         ...,\n         [ 0.04727437, -0.02002557,  0.03955411, ..., -0.03758577,\n           0.08959215, -0.07897542],\n         [-0.07764059, -0.02862064, -0.05535829, ..., -0.0680878 ,\n          -0.1035655 ,  0.00693933],\n         [-0.02123932,  0.05108957, -0.09090103, ..., -0.0469633 ,\n          -0.02249447,  0.00203782]],\n \n        ...,\n \n        [[ 0.05469286,  0.01345087,  0.02676051, ..., -0.05185998,\n          -0.00286472, -0.10022933],\n         [ 0.04334462,  0.00608871, -0.03284664, ...,  0.05665332,\n           0.03991158, -0.03359192],\n         [ 0.08596904,  0.0338823 ,  0.03407749, ..., -0.13877024,\n          -0.03541235, -0.00622439],\n         ...,\n         [-0.02931412,  0.01147623, -0.00645437, ...,  0.00142866,\n          -0.0062866 ,  0.0130484 ],\n         [-0.01942885, -0.01554247,  0.06937482, ...,  0.03428988,\n           0.011662  , -0.04332721],\n         [-0.00427142, -0.01553803,  0.00258525, ...,  0.07825841,\n          -0.04348769, -0.05069354]],\n \n        [[ 0.02715533,  0.02467007,  0.04315776, ..., -0.03455726,\n           0.03489564,  0.05259472],\n         [ 0.03824055,  0.0185624 ,  0.09440937, ..., -0.05294876,\n          -0.06195844,  0.07836351],\n         [-0.11360845, -0.09631465, -0.0708705 , ...,  0.07505887,\n           0.01248249,  0.10147258],\n         ...,\n         [ 0.06383073, -0.04618552,  0.08606829, ..., -0.13593274,\n          -0.04102023, -0.03198671],\n         [ 0.03117624, -0.03488371, -0.1331268 , ..., -0.00534391,\n           0.04342112, -0.09102367],\n         [ 0.02447609, -0.02431772, -0.00666959, ..., -0.0413196 ,\n           0.0072077 ,  0.02084365]],\n \n        [[-0.00057871, -0.09605656,  0.04436859, ..., -0.04229713,\n           0.01109191, -0.01052723],\n         [ 0.00729315,  0.04408572,  0.03251984, ...,  0.05874693,\n           0.0116795 , -0.1205629 ],\n         [ 0.02820684,  0.00857602, -0.08669044, ..., -0.05266157,\n           0.04627053,  0.00289542],\n         ...,\n         [ 0.05045575, -0.03059764,  0.01633551, ...,  0.05011933,\n          -0.01732241,  0.00478487],\n         [-0.03631571, -0.01924313,  0.09194212, ...,  0.01720718,\n          -0.05529697,  0.02520105],\n         [ 0.03737119,  0.08466203, -0.12789951, ..., -0.00117649,\n          -0.05273157, -0.01236629]]], dtype=float32),\n '/BERT_encoder/transformer/layer_2/self_attention/value/bias:0': array([[ 1.31767824e-01, -1.13302708e-01,  1.63420476e-02,\n         -5.26743233e-02, -1.95664284e-03, -7.06324354e-04,\n         -7.67173320e-02,  1.90397017e-02,  9.88558028e-03,\n         -4.20722961e-02,  4.91742603e-03, -1.04617085e-02,\n         -8.67190491e-03, -1.73849333e-02,  1.47770703e-01,\n          2.75745671e-02,  5.52541614e-02,  2.13708803e-02,\n          3.57565880e-02, -5.05061075e-02, -4.48611230e-02,\n         -1.13410503e-01,  1.02121465e-01, -5.77932484e-02,\n         -2.81587802e-02, -7.94463232e-02, -7.14067966e-02,\n          6.25736788e-02,  1.10156471e-02,  6.06772415e-02,\n         -8.18485115e-03, -1.74242742e-02,  5.39600402e-02,\n          1.18071228e-01,  1.84980556e-02,  7.74556175e-02,\n         -3.50335799e-02, -2.47087777e-02,  2.20521931e-02,\n         -1.30218184e-02,  1.64003298e-03, -3.84215033e-03,\n         -2.93024797e-02, -3.86800319e-02,  1.20490998e-01,\n         -6.78523779e-02, -5.27417893e-03,  1.58099066e-02,\n          5.89823425e-02,  7.35379010e-02,  1.09605238e-01,\n         -3.88011783e-02, -4.94910739e-02, -4.09724079e-02,\n          3.38410996e-02,  1.00871380e-02,  5.12019321e-02,\n         -1.19294107e-01,  5.50903380e-03,  1.15753049e-02,\n          2.89195646e-02,  3.15656915e-04, -7.21916109e-02,\n         -3.13240923e-02],\n        [-6.92849420e-03,  4.86609060e-03,  1.05375722e-02,\n         -1.78290363e-02, -3.65248099e-02,  4.46695089e-02,\n         -2.86583528e-02,  5.96722960e-03, -2.45863870e-02,\n         -2.83444412e-02, -1.77359916e-02,  2.27100216e-03,\n         -1.10366046e-02, -5.26129864e-02,  2.94345245e-02,\n         -1.05973914e-01,  4.27633561e-02, -3.03102080e-02,\n          1.69478022e-02,  1.63153689e-02,  3.78210694e-02,\n         -2.70381873e-03, -1.90293957e-02, -2.08584089e-02,\n          5.35631292e-02,  1.03519410e-02, -2.03881040e-02,\n         -1.48614105e-02,  8.98363476e-04, -3.66935730e-02,\n          9.09686275e-03, -1.41789799e-03, -8.57278425e-03,\n         -7.26242689e-03, -1.43629443e-02,  3.81670557e-02,\n          2.12714970e-02, -3.01544182e-02,  3.68539803e-02,\n         -4.25481200e-02,  1.17664260e-03, -1.21886255e-02,\n          2.50884169e-03,  2.00204700e-02, -3.89393121e-02,\n         -2.09599026e-02, -9.08905938e-02,  6.59902068e-03,\n          1.52472118e-02, -9.19099301e-02, -1.86651144e-02,\n         -5.98411588e-03, -3.17266174e-02,  4.05468792e-02,\n         -5.21855429e-03,  9.09003615e-03, -6.87199458e-02,\n         -7.67501909e-03, -2.25239601e-02, -7.62721449e-02,\n         -1.07310461e-02, -1.62242204e-02,  1.06080621e-02,\n          1.12279709e-02],\n        [ 5.21792397e-02,  1.76121935e-01, -4.59135026e-02,\n         -7.49896169e-02, -1.87642239e-02,  6.36208132e-02,\n          6.24218360e-02, -1.57615244e-01,  1.44950539e-01,\n         -9.05623958e-02, -1.67157187e-03, -2.00711992e-02,\n          1.12607479e-01,  2.06907094e-02, -8.04438964e-02,\n          1.21106438e-01,  1.92143708e-01,  1.12853825e-01,\n         -9.42869484e-02, -1.25661090e-01, -9.45446715e-02,\n          7.22841471e-02,  1.14930481e-01, -2.39847116e-02,\n         -2.42565140e-01,  9.50040892e-02, -3.77412798e-05,\n         -1.55460089e-01, -1.35358930e-01,  7.21586496e-02,\n          4.63572405e-02,  5.73436953e-02,  6.85384721e-02,\n         -1.09118350e-01,  1.02169596e-01,  9.94226262e-02,\n          1.80207174e-02, -2.82172649e-03, -3.15263979e-02,\n         -3.81878316e-02,  1.56165715e-02,  4.71421331e-02,\n         -1.55584231e-01,  3.99809740e-02,  7.02743083e-02,\n          5.58468588e-02, -7.94585347e-02, -7.07467273e-02,\n          2.48347148e-02, -3.24130148e-01,  4.78633493e-02,\n          2.78443824e-02, -1.35395518e-02, -2.06621680e-02,\n          1.08826995e-01, -1.41947381e-02,  7.96279237e-02,\n         -9.71661881e-02,  6.38987720e-02, -1.20274402e-01,\n          3.84314865e-01, -4.90688086e-02, -1.69140473e-01,\n         -5.96165992e-02],\n        [ 7.30083091e-03,  2.22685188e-02,  1.65596921e-02,\n         -1.93725210e-02, -4.28219140e-02,  2.30517033e-02,\n         -1.17838345e-02,  2.11430304e-02,  5.38034588e-02,\n          1.93964038e-02,  1.00383526e-02,  1.04892729e-02,\n          1.08189881e-02, -2.56116211e-04,  5.51875634e-03,\n         -4.42360807e-03, -1.50996670e-02,  7.59000191e-03,\n          3.53428684e-02, -1.25012109e-02, -2.16672365e-02,\n         -1.53645016e-02, -7.43761472e-03,  1.54015664e-02,\n          2.71867728e-03, -1.72000416e-02, -1.59757922e-03,\n          3.92966904e-03, -1.08772637e-02, -8.58326349e-03,\n         -1.62222441e-02,  2.70471498e-02,  1.61203425e-02,\n         -1.55612994e-02,  7.26504903e-03,  1.00936191e-02,\n          8.95935483e-03,  9.10087954e-03, -1.07830605e-02,\n          2.63569690e-03,  2.11152732e-02, -3.33732218e-02,\n         -2.41663749e-03, -1.78457156e-03, -2.13168189e-03,\n          1.24714738e-02,  9.48945060e-04,  2.66780239e-02,\n          2.67379731e-02,  6.25756616e-03, -9.27428436e-03,\n         -2.66948659e-02,  2.42963117e-02,  2.20576441e-03,\n         -8.21176043e-04, -3.01450700e-03,  1.26409959e-02,\n         -2.05389857e-02, -1.27485842e-02, -1.44553632e-02,\n          1.20533593e-02,  1.14222700e-02, -2.96654198e-02,\n         -7.83598423e-03],\n        [ 3.83155141e-03, -7.18086883e-02,  5.33672376e-03,\n          2.44898610e-02, -2.64941677e-02, -3.29425409e-02,\n          4.13122070e-05, -4.06223200e-02, -2.84450483e-02,\n          1.11286268e-02,  2.03166902e-02, -1.53528182e-02,\n         -2.00275630e-02,  1.45701803e-02,  7.89869651e-02,\n          2.19068713e-02, -2.03831159e-02, -2.82530151e-02,\n         -2.85912007e-02,  3.90500389e-02, -5.41623831e-02,\n          2.63776388e-02,  4.02686261e-02,  2.95837764e-02,\n         -2.71705370e-02, -3.52783538e-02, -2.29638093e-03,\n         -1.70492940e-02, -2.20440309e-02, -2.90023964e-02,\n          2.02109795e-02, -5.57721891e-02, -2.40408853e-02,\n         -2.18691509e-02,  4.84431125e-02,  2.31755618e-02,\n         -3.83911585e-03,  4.39634547e-03, -5.07242903e-02,\n         -4.03189398e-02,  3.85501683e-02,  2.27654260e-02,\n         -1.15180090e-02,  8.52287188e-03,  1.80377793e-02,\n          3.08004376e-02,  1.36625599e-02,  3.52627551e-03,\n          1.11685842e-02,  2.93240510e-03,  4.47545648e-02,\n          5.36038447e-03,  5.02115041e-02,  2.06210483e-02,\n         -4.70995195e-02, -2.47458392e-03, -8.49079993e-03,\n          5.68731269e-03,  5.98029010e-02, -4.30301838e-02,\n         -5.54629527e-02,  5.27918935e-02,  4.24752571e-03,\n         -4.71880883e-02],\n        [-7.56740123e-02, -9.08000991e-02, -1.33741096e-01,\n         -3.49079669e-02,  9.19501707e-02, -8.72100815e-02,\n          2.26392560e-02, -4.68499735e-02, -2.83455122e-02,\n         -8.26286618e-03, -3.55175175e-02, -1.26760975e-01,\n         -3.79504971e-02,  4.88158241e-02, -4.28764634e-02,\n         -2.43218243e-03,  2.39420943e-02, -1.09188780e-01,\n          2.23762654e-02, -1.28959892e-02,  7.61069581e-02,\n         -2.45706700e-02, -9.35156085e-03,  2.25641746e-02,\n          2.28358759e-03,  4.06468622e-02, -6.89487904e-02,\n          3.59619223e-02,  6.37282729e-02, -7.24514052e-02,\n          1.63035076e-02,  3.73509675e-02,  7.46631576e-03,\n          5.46728261e-02,  1.07468188e-01,  1.90723855e-02,\n         -4.85905595e-02,  3.15368436e-02, -1.87116578e-01,\n         -3.43671799e-01, -7.18395114e-02, -5.17203063e-02,\n         -6.58820570e-02,  1.11102767e-01,  1.41316727e-01,\n         -2.14162632e-03,  1.30443899e-02,  6.16437756e-02,\n         -3.04495301e-02, -2.79234722e-02, -1.31267026e-01,\n          1.23382472e-02,  1.48278326e-01,  4.30145413e-02,\n          3.26102152e-02,  9.40430164e-02,  9.09094512e-02,\n         -7.17947036e-02,  8.22418630e-02, -2.07105540e-02,\n         -4.25845012e-02,  7.36584887e-02, -1.74425334e-01,\n         -3.35009098e-02],\n        [-2.53496449e-02,  1.29823253e-01,  6.54849634e-02,\n          4.09875005e-01,  7.86595792e-02,  9.67697352e-02,\n         -1.90212503e-02,  9.46111083e-02,  7.78228939e-02,\n         -4.57669832e-02, -6.61420729e-03,  3.31418701e-02,\n         -1.23964110e-02,  2.73623280e-02, -8.14895630e-02,\n          1.11914277e-01, -3.89311947e-02, -4.49567661e-02,\n         -3.38518620e-02, -7.63104334e-02,  3.44382711e-02,\n         -6.31574020e-02,  2.25748271e-02, -5.38613312e-02,\n          2.53732204e-02,  4.07015011e-02,  7.08325505e-02,\n          2.16614008e-02,  1.21963777e-01,  2.34736148e-02,\n          1.66597351e-01, -4.69837151e-02,  7.89730102e-02,\n          1.36316299e-01,  9.81149301e-02, -1.71368808e-01,\n         -1.80193409e-02,  4.56031151e-02, -9.74085778e-02,\n          4.61978987e-02, -2.03329157e-02, -1.38767481e-01,\n          2.29001455e-02, -8.23343992e-02,  2.54598800e-02,\n          2.20582238e-03,  7.39211440e-02,  1.17123127e-01,\n         -9.37210843e-02,  1.73668861e-02,  1.20444708e-02,\n         -8.84040967e-02,  1.33822083e-01, -1.02107219e-01,\n         -5.67741804e-02, -3.76978107e-02,  6.69322954e-03,\n          1.63740721e-02,  3.19994055e-02,  9.82206985e-02,\n          2.23225337e-02,  1.29279062e-01, -4.23440225e-02,\n         -1.18964082e-02],\n        [-1.26632735e-01,  1.39270928e-02,  2.95453444e-02,\n          3.49525511e-02,  5.46276867e-02,  2.80227542e-01,\n          1.54917598e-01,  1.90386325e-01, -2.34211490e-01,\n         -1.41542181e-02, -6.33869991e-02,  4.01190668e-02,\n          2.50337776e-02,  1.94090083e-01,  8.89996514e-02,\n         -2.60582775e-01, -1.63117543e-01,  9.76389870e-02,\n          2.25497298e-02, -1.12696253e-01,  4.37347963e-02,\n          4.44574207e-02,  1.88231453e-01, -1.00461781e-01,\n          1.30223587e-01,  1.60898000e-01, -1.52501429e-03,\n         -1.26897663e-01, -1.64353102e-02,  9.75842923e-02,\n          1.21204168e-01,  6.77151233e-02, -1.06262669e-01,\n         -6.92488626e-02,  1.14930145e-01,  1.63473208e-02,\n         -5.06273657e-02,  4.59117852e-02, -1.73650563e-01,\n          5.13401590e-02, -7.13592321e-02,  4.63898480e-02,\n         -1.80803686e-01, -2.62257099e-01,  7.74821192e-02,\n          8.27368796e-02,  3.80581021e-02, -6.10397849e-03,\n          1.28492415e-01,  4.32150699e-02,  3.74087602e-01,\n         -1.07051261e-01, -2.43133157e-01, -1.38352579e-02,\n         -4.68500778e-02,  7.23904446e-02, -6.05502464e-02,\n          1.39843235e-02, -4.05494235e-02, -7.85977766e-03,\n          1.26992287e-02, -2.13750917e-03,  7.52766579e-02,\n          4.54659052e-02]], dtype=float32),\n '/BERT_encoder/transformer/layer_2/self_attention/value/kernel:0': array([[[ 0.01750113, -0.02574428,  0.02603394, ...,  0.02789086,\n          -0.06485157,  0.06130193],\n         [ 0.01144222,  0.08487694, -0.01189063, ...,  0.0138973 ,\n           0.02116941,  0.06202713],\n         [-0.01555584,  0.01386536, -0.01094058, ..., -0.02338553,\n          -0.03528559, -0.01477164],\n         ...,\n         [-0.01209563,  0.0662848 , -0.07548183, ..., -0.01908114,\n          -0.01703764, -0.03632872],\n         [-0.02256164, -0.06095433, -0.00129375, ..., -0.03929515,\n           0.03119107,  0.01712049],\n         [ 0.01445881,  0.01155314, -0.01893504, ..., -0.00356686,\n           0.03072803, -0.05194237]],\n \n        [[-0.00207001, -0.03888443,  0.05036504, ..., -0.04062283,\n          -0.02657971, -0.05220827],\n         [-0.12325677, -0.0543453 ,  0.06416325, ..., -0.05290088,\n           0.00348166, -0.07961708],\n         [-0.00520348,  0.01922469,  0.04671576, ...,  0.02263642,\n          -0.01807329,  0.04577086],\n         ...,\n         [-0.0255467 , -0.02975791, -0.01093294, ..., -0.02086053,\n          -0.01840017, -0.04745662],\n         [ 0.10893659, -0.01303983,  0.02003962, ..., -0.01400679,\n           0.02255815, -0.0400076 ],\n         [ 0.03556197,  0.00807679, -0.03198625, ...,  0.00169977,\n           0.03084323,  0.00662956]],\n \n        [[ 0.02019579, -0.05929296, -0.00438656, ...,  0.06487814,\n           0.0277364 ,  0.0306891 ],\n         [ 0.01294582, -0.00210998,  0.02331684, ...,  0.05936969,\n           0.04392522, -0.06136234],\n         [-0.0054068 ,  0.03889636, -0.01876598, ...,  0.05942658,\n          -0.00364989,  0.0617718 ],\n         ...,\n         [ 0.01726048,  0.00492696, -0.10799912, ..., -0.00605477,\n          -0.04414597,  0.01667444],\n         [ 0.0486116 ,  0.01991488,  0.04396164, ...,  0.04984817,\n           0.06286543,  0.01274659],\n         [-0.02527375, -0.05407306, -0.01314538, ..., -0.01780494,\n          -0.00341871, -0.02088882]],\n \n        ...,\n \n        [[ 0.09640266, -0.00762122, -0.08248559, ...,  0.01060601,\n          -0.04405649,  0.02126521],\n         [ 0.07935314, -0.01567425,  0.08560426, ...,  0.01443061,\n          -0.02067579,  0.00498327],\n         [-0.00080628, -0.01733654, -0.04352603, ...,  0.03634665,\n          -0.00583295, -0.0177271 ],\n         ...,\n         [-0.04275122,  0.00126371, -0.05404305, ...,  0.03644717,\n          -0.04844478,  0.01525927],\n         [-0.01569684, -0.06343652, -0.01616275, ..., -0.05313595,\n           0.13903329, -0.04640784],\n         [-0.00552498, -0.04229428,  0.03788183, ...,  0.04498512,\n          -0.01626913, -0.04245619]],\n \n        [[-0.08431351, -0.07505292, -0.01593747, ...,  0.00079454,\n          -0.01478913, -0.02088471],\n         [ 0.0222293 , -0.03630099, -0.01780365, ...,  0.04893719,\n           0.01799908,  0.05739167],\n         [ 0.00323826,  0.0940418 ,  0.07612456, ...,  0.0105913 ,\n          -0.02381638, -0.01406481],\n         ...,\n         [-0.00567093, -0.03726216, -0.05646523, ..., -0.06581577,\n          -0.0054433 ,  0.05185769],\n         [ 0.0627363 , -0.11742112, -0.03943827, ...,  0.0758627 ,\n           0.08300035, -0.03788311],\n         [-0.00365124, -0.0146358 ,  0.01074314, ..., -0.02079152,\n           0.00431785, -0.00110626]],\n \n        [[-0.03101095, -0.02563906, -0.01366302, ..., -0.04417093,\n          -0.02527663, -0.04421227],\n         [-0.10284691,  0.04094538, -0.08911525, ...,  0.10471204,\n          -0.06202973, -0.03976434],\n         [-0.02367738,  0.01908132,  0.06607505, ..., -0.0471125 ,\n          -0.03223639, -0.02871947],\n         ...,\n         [ 0.05770968,  0.03705626,  0.00215184, ..., -0.11298299,\n           0.0550785 , -0.02580195],\n         [ 0.02989372,  0.00180994,  0.04107247, ...,  0.01792079,\n          -0.03255859,  0.04666751],\n         [-0.03237047, -0.00696574, -0.00253834, ...,  0.01894527,\n           0.01460526,  0.02579002]]], dtype=float32),\n '/BERT_encoder/transformer/layer_2/self_attention_layer_norm/beta:0': array([ 5.61253652e-02,  8.51176505e-04, -2.15607762e-01, -2.91936025e-02,\n         5.23293801e-02,  2.60577258e-02, -3.91578823e-02,  6.14734069e-02,\n        -5.49763478e-02, -1.99316386e-02,  1.09473959e-01,  1.22232884e-01,\n         1.44367032e-02, -8.54553208e-02, -9.09885988e-02,  1.22095237e-03,\n         2.28941962e-02, -2.51757149e-02,  2.74542365e-02, -5.55913076e-02,\n         8.40664208e-02, -1.46624207e-01, -8.02080557e-02,  1.73704714e-01,\n         7.37976702e-03, -1.64648175e-01, -1.22877449e-01, -1.18164113e-02,\n        -8.04075077e-02, -4.86625731e-02,  7.64239132e-02,  6.91113696e-02,\n        -1.56219721e-01, -8.79160762e-02,  1.62283201e-02,  8.33074376e-02,\n         2.49661073e-01, -1.84756428e-01,  5.88098057e-02, -6.63529932e-02,\n        -2.41030678e-02,  7.54841194e-02, -1.43968631e-02,  5.44028878e-02,\n         8.13390613e-02,  8.45478401e-02,  1.89889371e-01,  5.84279187e-03,\n        -4.46616322e-01,  1.26249269e-01,  1.77484423e-01,  1.09573910e-02,\n        -1.50317907e-01, -1.19574219e-01,  2.28303038e-02,  1.41468585e-01,\n        -1.33006364e-01, -8.78920183e-02,  1.83355764e-01,  7.68934414e-02,\n         1.59298137e-01, -1.24134719e-01,  3.99872847e-02,  1.40164373e-02,\n         2.36583829e-01, -2.08578631e-01,  3.36144939e-02,  1.50593454e-02,\n        -7.13629369e-03,  1.54165998e-02, -7.68661499e-02, -5.71977980e-02,\n        -2.51101144e-02, -1.10578276e-01,  6.06428459e-02, -1.18048847e-01,\n        -1.93606868e-01, -8.02551731e-02, -2.35994416e-03,  2.05396966e-04,\n         3.23330581e-01, -2.12142407e-03, -1.88069697e-02,  4.57247347e-02,\n        -2.36145690e-01,  9.63972509e-02, -2.37352066e-02, -2.68818252e-02,\n        -1.60175506e-02,  2.36517508e-02, -6.78795055e-02, -6.41345084e-02,\n         6.36527687e-02, -1.96483023e-02,  6.53804559e-03, -4.74390984e-02,\n        -6.65804967e-02,  1.39139950e-01, -3.57537210e-01, -6.60236552e-03,\n        -9.31712016e-02,  1.39248446e-01, -7.84546062e-02,  9.71739087e-03,\n        -4.55668429e-03, -1.71462342e-01, -3.47416028e-02,  2.28332262e-02,\n        -7.74366111e-02,  1.75217632e-02, -1.07470304e-01, -1.15764543e-01,\n        -3.13005783e-02, -2.33250912e-02, -4.65095639e-02, -2.85043627e-01,\n         8.95793661e-02, -2.37179369e-01, -1.13396764e-01,  1.84719842e-02,\n         2.51196235e-01, -8.41057003e-02, -5.11897914e-02,  2.61692097e-03,\n         2.48760059e-02, -5.12522794e-02, -4.27730531e-02,  2.82581113e-02,\n        -1.12678155e-01,  8.39841738e-02,  5.58522828e-02, -5.67009673e-03,\n        -3.31524052e-02, -5.30367717e-02,  3.28126967e-01,  6.39953837e-02,\n        -3.35329533e-01,  1.40979374e-02,  7.25206286e-02,  1.14246801e-01,\n         9.83805284e-02, -6.45941645e-02, -9.80515555e-02,  1.61897261e-02,\n         9.35765579e-02,  6.89659566e-02, -8.98286477e-02, -1.72991082e-02,\n         2.05009490e-01, -7.00313523e-02,  1.20536745e-01,  7.82838613e-02,\n        -1.71978306e-02,  4.55411077e-02, -4.32249494e-02,  1.78327516e-01,\n         3.91414732e-01, -1.59722954e-01,  3.22240114e-01,  3.89857367e-02,\n         2.49988725e-03, -1.35503381e-01, -1.85559988e-01,  1.06881551e-01,\n         4.91287094e-03,  2.48655621e-02,  7.93601647e-02, -5.74133405e-03,\n        -1.60814390e-01,  1.05562806e-01, -4.47119633e-03,  2.21572667e-01,\n         3.06359679e-03,  9.17480439e-02, -7.73424879e-02,  2.44688153e-01,\n         2.88483873e-02, -2.06955478e-01,  1.61034688e-02, -8.76538977e-02,\n         1.65237095e-02,  2.26202399e-01,  1.89028140e-02, -1.50338933e-01,\n         2.73177713e-01,  7.47200996e-02,  8.52642059e-02,  1.07316144e-01,\n        -3.38307440e-01, -4.15144302e-02, -1.76752746e-01,  3.20873000e-02,\n         5.61197437e-02, -2.76045769e-01, -6.22572601e-02, -3.43346409e-02,\n        -2.08140120e-01,  9.88705456e-02, -9.79300663e-02, -2.95098498e-02,\n         1.14344880e-01,  3.20445858e-02, -1.57418832e-01,  5.44055179e-02,\n        -9.36459377e-03,  3.81773382e-01,  1.09850556e-01, -5.97435981e-02,\n        -5.47854751e-02,  5.87189868e-02, -7.31363893e-02,  2.25514293e-01,\n        -1.98270679e-02, -1.25446707e-01, -5.51796751e-04, -4.05337177e-02,\n        -8.64825919e-02, -7.26353601e-02, -2.01226801e-01, -6.45886213e-02,\n         2.43792802e-01, -6.36424050e-02, -3.24589722e-02, -1.67199552e-01,\n         1.70948401e-01,  1.03909351e-01,  1.98923666e-02,  3.98527123e-02,\n         1.80483475e-01,  1.73200648e-02,  1.21761084e-01, -8.11459497e-02,\n         1.66167676e-01,  1.15004424e-02, -3.90183665e-02, -7.83955693e-06,\n        -5.54330014e-02,  1.02234222e-02, -8.52607749e-03, -7.24423118e-03,\n        -2.65964866e-02, -5.34872562e-02,  6.89893737e-02, -3.07298630e-01,\n         8.39360524e-03, -8.02398380e-03,  1.07740931e-01,  9.28389356e-02,\n         1.51477933e-01,  5.63058443e-02,  1.62682891e-01,  4.98699583e-02,\n         5.37653752e-02,  1.88107863e-02,  3.50209558e-03,  4.33077142e-02,\n        -1.11874789e-01,  7.20420480e-02, -2.17946116e-02,  1.36770800e-01,\n        -7.02336356e-02,  9.91889089e-02,  2.07337692e-01,  4.12081480e-02,\n        -6.02223128e-02, -5.14426082e-03, -2.52715796e-02, -1.06445424e-01,\n         2.51396038e-02, -8.81435201e-02,  1.96693204e-02, -4.78216596e-02,\n        -4.16638935e-03, -9.50127244e-02, -5.28214090e-02,  1.50685877e-01,\n        -8.88631165e-01, -1.64743494e-02,  4.21531908e-02, -8.73274542e-03,\n        -5.83952293e-02, -8.12585354e-02, -3.12503651e-02,  1.58732116e-01,\n         6.18102737e-02,  6.98807836e-02, -1.25235934e-02, -1.68660954e-01,\n         1.54756770e-01,  6.00425247e-03,  2.25606009e-01, -5.83849438e-02,\n         1.36874273e-01,  1.69854715e-01, -7.86811858e-02,  1.74037412e-01,\n         6.30787238e-02, -7.53676072e-02,  6.85651302e-02, -9.91885960e-02,\n        -9.02875094e-04, -6.89441012e-03,  5.96025884e-02,  1.21277887e-02,\n         9.10722464e-02,  1.86059386e-01,  1.12433389e-01, -1.88303757e-02,\n        -5.65832369e-02,  1.28395511e-02, -1.64777547e-01, -1.00637496e-01,\n        -8.39727893e-02, -9.09636766e-02,  4.81228624e-03, -1.56128155e-02,\n         2.91294162e-03, -1.74689423e-02,  3.10932752e-02,  1.23121450e-02,\n         3.77617478e-02, -5.51473871e-02, -1.35240778e-01,  2.11496204e-02,\n        -2.91318800e-02,  2.05190629e-01, -5.30482046e-02, -1.65195227e-01,\n         1.05381005e-01,  2.88340271e-01,  6.14829711e-04, -1.41618317e-02,\n         7.31394589e-02,  1.31818831e-01,  4.17342596e-02,  8.11076462e-02,\n        -7.02857077e-02, -5.87988496e-02, -3.17484364e-02,  1.10229723e-01,\n         3.78789101e-03, -3.41729075e-02,  8.48403871e-02,  3.95626053e-02,\n        -3.12190745e-02,  6.60679787e-02, -1.01348646e-01, -1.13704138e-01,\n         4.01962437e-02,  1.69165879e-01,  9.30977762e-02,  2.02297300e-01,\n         9.23427492e-02, -8.16849321e-02,  3.12494725e-01, -1.95814297e-01,\n         4.18646723e-01,  1.04744742e-02, -7.22219646e-02,  8.58978480e-02,\n         2.37541702e-02,  6.15253933e-02,  3.08434702e-02,  1.77248679e-02,\n         2.06468105e-02,  5.57841845e-02,  5.05051538e-02, -1.09242707e-01,\n        -1.05669484e-01,  9.79447588e-02,  4.34553251e-02, -8.20308644e-03,\n        -9.81025025e-02,  1.80606556e-03,  1.98342904e-01, -2.46152699e-01,\n         2.85921749e-02, -5.27116423e-03,  1.21650085e-01, -1.40124038e-01,\n        -2.27383655e-02,  7.02306628e-02,  6.47614300e-02, -6.49164245e-02,\n         1.51584595e-01,  4.02943157e-02, -6.07554577e-02,  2.55552363e-02,\n         9.32185259e-03, -1.30340770e-01, -1.41463391e-02, -1.06551051e-02,\n         7.31341094e-02,  1.68170109e-02,  1.23337992e-02, -9.15368646e-02,\n         1.01872280e-01,  8.29958692e-02, -1.48189604e-01, -2.91654374e-02,\n        -1.93963014e-02,  3.67234685e-02, -1.24444440e-01,  4.18795235e-02,\n         1.11636758e-01,  1.01149231e-01, -1.57675669e-02,  4.17205654e-02,\n         8.68938938e-02, -3.85954580e-03,  5.04848137e-02, -1.20860808e-01,\n        -5.37527055e-02,  1.62728764e-02, -4.03441535e-03, -5.80216013e-02,\n         1.05169055e-03,  2.67308881e-03,  2.37346888e-01,  1.80795491e-02,\n         2.15059370e-01, -1.96910843e-01,  9.87872556e-02,  1.66093528e-01,\n        -5.81555776e-02,  1.96848392e-01,  2.01522321e-01,  9.44576338e-02,\n         1.60608470e-01,  8.63621905e-02, -4.87977564e-02, -1.26454487e-01,\n         3.65741760e-03,  7.62690455e-02, -6.41112700e-02,  1.44589633e-01,\n        -1.26750812e-01, -6.40393123e-02,  7.78083354e-02, -2.92074997e-02,\n         1.54251903e-01, -5.32090887e-02, -1.78949818e-01,  5.16069159e-02,\n         2.16345501e+00, -1.03370495e-01, -1.06297031e-01, -7.24052452e-03,\n         1.41273469e-01, -1.16206787e-03,  1.61415577e-01,  1.34383470e-01,\n         2.00594351e-01,  9.26907584e-02,  2.20432058e-01, -4.19748239e-02,\n        -6.88190712e-03,  5.91397062e-02,  1.39650911e-01,  9.15557146e-04,\n        -2.10846253e-02, -4.76537384e-02, -2.62578912e-02,  1.98296815e-01,\n        -1.44589171e-01, -1.18085258e-02,  3.56138237e-02,  1.44216418e-01,\n         5.37091605e-02,  3.09422743e-02, -9.45597664e-02, -6.04197569e-02,\n         2.14169145e-01, -7.60518685e-02, -1.15413973e-02,  1.65270362e-02,\n        -1.51666820e-01, -4.03306186e-02, -1.04087681e-01, -4.22114506e-02,\n         1.13127753e-01,  8.71963501e-02, -9.21069533e-02, -3.70277911e-02,\n        -5.94607927e-02,  5.48717082e-02, -3.05078104e-02,  1.15475774e-01,\n        -3.91405821e-02,  7.10791051e-02, -2.56618738e-01,  1.46074444e-01,\n         1.90782055e-01, -1.01808622e-01,  1.02718197e-01, -5.95643893e-02,\n        -2.84386687e-02, -2.95767397e-01, -2.06066877e-01, -1.97390579e-02,\n         3.23203832e-01,  3.64500545e-02,  8.67595226e-02, -1.06438816e-01,\n         8.43163952e-02, -7.81548917e-02,  3.99714768e-01,  1.24990597e-01,\n         2.15414599e-01, -6.03762120e-02,  3.43797579e-02,  4.80087958e-02],\n       dtype=float32),\n '/BERT_encoder/transformer/layer_2/self_attention_layer_norm/gamma:0': array([0.850027  , 0.77428806, 0.81503403, 0.77904296, 0.8366336 ,\n        0.7824168 , 0.82209945, 0.7687126 , 0.7947314 , 0.8321015 ,\n        0.85006183, 0.8217892 , 0.8172235 , 0.8407904 , 0.85359967,\n        0.81176645, 0.8405504 , 0.82783514, 0.8106756 , 0.83263266,\n        0.79997563, 0.8256157 , 0.8048358 , 0.73739517, 0.85884553,\n        0.88179827, 0.85142034, 0.8283945 , 0.8370321 , 0.846133  ,\n        0.8174685 , 0.69951767, 0.8624721 , 0.8767523 , 0.8670528 ,\n        0.8405782 , 0.7766406 , 0.7371843 , 0.83802646, 0.80619097,\n        0.8272359 , 0.83060557, 0.8142687 , 0.814665  , 0.84381294,\n        0.8272915 , 0.79943115, 0.84361875, 0.82330877, 0.8911838 ,\n        0.8305079 , 0.832933  , 0.7984022 , 0.84702194, 0.8035054 ,\n        0.8155908 , 0.81185395, 0.8286938 , 0.832892  , 0.778878  ,\n        0.8465456 , 0.84988207, 0.80715173, 0.84514064, 0.8433325 ,\n        0.79252565, 0.8166126 , 0.8172293 , 0.83348215, 0.81857175,\n        0.8149364 , 0.8301277 , 0.7751581 , 0.82131773, 0.79170334,\n        0.83906484, 0.8393513 , 0.83618134, 0.8421774 , 0.7920945 ,\n        0.8142027 , 0.79579616, 0.82009906, 0.8190461 , 0.8469394 ,\n        0.81216955, 0.780027  , 0.78656507, 0.83083737, 0.8041575 ,\n        0.83376545, 0.7829194 , 0.79277056, 0.8065335 , 0.84905374,\n        0.846823  , 0.78666764, 0.83992976, 0.8829277 , 0.7951469 ,\n        0.85082084, 0.82536435, 0.7928791 , 0.8056935 , 0.87149876,\n        0.78155035, 0.83610624, 0.8173648 , 0.8106961 , 0.85136586,\n        0.8025697 , 0.7382968 , 0.8065131 , 0.85632485, 0.836427  ,\n        0.8286011 , 0.8321268 , 0.91040844, 0.78602326, 0.8589395 ,\n        0.75344026, 0.8690248 , 0.8365425 , 0.8065972 , 0.7843924 ,\n        0.84747976, 0.821815  , 0.82864517, 0.82576215, 0.8342299 ,\n        0.852667  , 0.83551395, 0.8164415 , 0.85817885, 0.7834206 ,\n        0.7870259 , 0.8211619 , 0.828623  , 0.8187307 , 0.8694543 ,\n        0.8208032 , 0.8256427 , 0.8511637 , 0.76181513, 0.83372796,\n        0.79694104, 0.8475648 , 0.78735787, 0.78168094, 0.8480493 ,\n        0.7790022 , 0.78024024, 0.8231537 , 0.8156238 , 0.8008493 ,\n        0.8173957 , 0.8445641 , 0.78373873, 0.82890695, 0.8390902 ,\n        0.8219379 , 0.83608913, 0.78582525, 0.82779616, 0.7864778 ,\n        0.7856407 , 0.8623599 , 0.8005243 , 0.8271769 , 0.8105479 ,\n        0.8398269 , 0.9631288 , 0.8209767 , 0.85015994, 0.79912204,\n        0.8456898 , 0.82861894, 0.8394612 , 0.81644434, 0.82282156,\n        0.82894224, 0.75624377, 0.8505509 , 0.81073   , 0.8100988 ,\n        0.80787736, 0.811651  , 0.7524805 , 0.88966143, 0.7928935 ,\n        0.7820803 , 0.85500634, 0.77071124, 0.79113674, 0.7937732 ,\n        0.8456911 , 0.8300137 , 0.79434323, 0.8219452 , 0.85633945,\n        0.8072017 , 0.8423248 , 0.836082  , 0.7248529 , 0.8135782 ,\n        0.77036524, 0.8445787 , 0.8238772 , 0.80594105, 0.7825863 ,\n        0.859711  , 0.8300417 , 0.80053246, 0.84226024, 0.80123   ,\n        0.8011958 , 0.81190366, 0.8448163 , 0.8035036 , 0.77286613,\n        0.8005019 , 0.7862848 , 0.81180114, 0.8095742 , 0.84117883,\n        0.83371985, 0.81360435, 0.8659747 , 0.8064956 , 0.8466457 ,\n        0.7793909 , 0.8288141 , 0.8347195 , 0.8382015 , 0.7950374 ,\n        0.86569494, 0.82154226, 0.8294457 , 0.8171457 , 0.80900574,\n        0.8432036 , 0.8363252 , 0.8293051 , 0.9228272 , 0.8161203 ,\n        0.7430568 , 0.82247645, 0.7992062 , 0.81166506, 0.8234694 ,\n        0.8502476 , 0.82244605, 0.7887231 , 0.80880135, 0.8507044 ,\n        0.85316396, 0.8266527 , 0.7739141 , 0.80457574, 0.8483002 ,\n        0.73085105, 0.83632195, 0.8018786 , 0.87975466, 0.798294  ,\n        0.8102244 , 0.8561909 , 0.79107   , 0.8800991 , 0.83497685,\n        0.857059  , 0.8189541 , 0.8499855 , 0.8611887 , 0.8263661 ,\n        1.4114453 , 1.3416089 , 0.8281662 , 0.8035868 , 0.864094  ,\n        0.80888486, 0.83156854, 0.8752258 , 0.81736207, 0.842946  ,\n        0.8101709 , 0.8090036 , 0.8423799 , 0.8813173 , 0.83045965,\n        0.7773564 , 0.83992577, 0.8222847 , 0.8322396 , 0.8237632 ,\n        0.81291634, 0.82237834, 0.8618249 , 0.8304696 , 0.8411637 ,\n        0.8606137 , 0.87302   , 0.79578406, 0.81297296, 0.8038275 ,\n        0.8038389 , 0.81208247, 0.7741852 , 0.82073545, 0.7865435 ,\n        0.8343113 , 0.8334011 , 0.79853356, 0.8510013 , 0.79676163,\n        0.83869493, 0.87247103, 0.8631911 , 0.85134953, 0.80098873,\n        0.7896306 , 0.8066598 , 0.83321905, 0.814298  , 0.80951995,\n        0.8151182 , 0.88264686, 0.814345  , 0.7340352 , 0.8490025 ,\n        0.82793725, 0.829526  , 0.8783278 , 0.8265047 , 0.7262197 ,\n        0.7846914 , 0.81542426, 0.8227215 , 0.8861655 , 0.84944946,\n        0.85967916, 0.8303583 , 0.84091467, 0.7930171 , 0.8337862 ,\n        0.8396079 , 0.8082643 , 0.87338644, 0.82905406, 0.8097566 ,\n        0.8030931 , 0.88221914, 0.86046153, 0.8113195 , 0.8836313 ,\n        0.7988565 , 0.93949497, 0.81868225, 0.79823345, 0.82333827,\n        0.83056223, 0.7782466 , 0.8029068 , 0.8100143 , 0.85089445,\n        0.8357919 , 0.83667195, 0.7497155 , 0.8246451 , 0.8093013 ,\n        0.82858586, 0.80324066, 0.8889092 , 0.85289466, 0.8205053 ,\n        0.89415187, 0.8235325 , 0.8505926 , 0.8159386 , 0.81945705,\n        0.8436737 , 0.82368016, 0.8301373 , 0.8105787 , 0.84248793,\n        0.778473  , 0.7274532 , 0.8254982 , 0.80519015, 0.8661505 ,\n        0.83461034, 0.8326094 , 0.8383861 , 0.8448655 , 0.81823677,\n        0.8091359 , 0.8463427 , 0.8486463 , 0.8430925 , 0.77015007,\n        0.85129875, 0.7943606 , 0.78967696, 0.81868076, 0.8838503 ,\n        0.8576249 , 0.8323814 , 0.8363463 , 0.805984  , 0.8557304 ,\n        0.78129065, 0.8307831 , 0.8291831 , 0.85279256, 0.8280525 ,\n        0.8262225 , 0.8138135 , 0.8187308 , 0.8121232 , 0.8472738 ,\n        0.8585667 , 0.79184306, 0.7994187 , 0.78831637, 0.71817553,\n        0.84648097, 0.8143367 , 0.79996765, 0.7999339 , 0.80130905,\n        0.8181049 , 0.84996396, 0.7996988 , 0.8015116 , 0.87280226,\n        0.81773645, 0.7948414 , 0.83923286, 0.7509708 , 0.8418383 ,\n        0.8227302 , 0.80956376, 0.8358648 , 0.79729235, 1.663868  ,\n        0.8174259 , 1.0186489 , 0.7739593 , 0.8298825 , 0.8187043 ,\n        0.83621913, 0.84536356, 0.85793954, 0.81150675, 0.75205684,\n        0.8061337 , 0.81534886, 0.81878626, 0.8129135 , 0.78548944,\n        0.85894465, 0.85392684, 0.79459226, 0.927889  , 0.8004696 ,\n        0.8109601 , 0.84891653, 0.84904   , 0.8250449 , 0.77739376,\n        0.8635909 , 0.8599529 , 0.80865717, 0.7880542 , 0.83096564,\n        0.8163589 , 0.83913946, 0.81842047, 0.8067222 , 0.7809583 ,\n        0.8163581 , 0.7915438 , 0.7899501 , 0.8198633 , 0.81951857,\n        0.83177483, 0.7746308 , 0.77119297, 0.83168435, 0.893096  ,\n        0.7630113 , 0.85280734, 0.8166933 , 0.78455085, 0.8320803 ,\n        0.8085851 , 0.81744117, 0.8664834 , 0.84536016, 0.79570043,\n        0.9421674 , 0.7923712 , 0.80798304, 0.8075372 , 0.8664228 ,\n        0.8316628 , 0.8519316 , 0.8287062 , 0.8109225 , 0.82003945,\n        0.8314837 , 0.83497244], dtype=float32),\n '/BERT_encoder/transformer/layer_3/intermediate/bias:0': array([-0.08131621, -0.04233822, -0.19375314, ..., -0.14532502,\n         0.01189043, -0.03398228], dtype=float32),\n '/BERT_encoder/transformer/layer_3/intermediate/kernel:0': array([[-1.8410578e-02, -2.9455246e-02, -2.3380226e-02, ...,\n          2.2528909e-02, -1.3348771e-02, -3.9223090e-02],\n        [-8.1117302e-03,  3.9893217e-05,  7.0725858e-02, ...,\n          3.0902703e-03,  3.1886373e-02, -4.2464517e-02],\n        [-5.4623270e-03, -1.9813025e-02,  7.9113252e-02, ...,\n          3.1127336e-03,  5.3566128e-02, -4.1520409e-02],\n        ...,\n        [-8.7405264e-02, -2.0748568e-03,  9.6590845e-03, ...,\n         -4.3712098e-02, -2.4657682e-02,  6.6930437e-03],\n        [ 5.6317937e-02, -4.2300628e-04,  7.2455712e-02, ...,\n          1.0086649e-01,  2.9257247e-02,  4.2755816e-02],\n        [-2.5679864e-02, -5.7533044e-02, -8.5814431e-02, ...,\n          7.4835708e-03,  4.3235771e-02,  3.3832941e-02]], dtype=float32),\n '/BERT_encoder/transformer/layer_3/output/bias:0': array([ 2.11629048e-02, -5.56545041e-04, -4.06974405e-02,  1.12936683e-02,\n         1.92845166e-02,  2.45951246e-02,  3.65627580e-03, -6.36115000e-02,\n         3.89026571e-03, -1.42072691e-02,  4.13408503e-03, -2.55335458e-02,\n        -5.14467172e-02, -1.80866346e-02,  4.58042137e-02,  2.96423789e-02,\n        -1.40641825e-02, -7.09524304e-02,  4.92787967e-03,  1.33597441e-02,\n         7.59176761e-02,  3.10289562e-02,  4.06010151e-02, -9.50074755e-03,\n         2.15733293e-02, -1.68327950e-02, -6.09439984e-02, -2.06814073e-02,\n        -8.11224952e-02, -3.84624600e-02,  1.60912629e-02, -8.78187567e-02,\n        -5.33309653e-02, -7.42903259e-03, -8.55750218e-03,  4.00339663e-02,\n        -1.62610542e-02, -9.88920256e-02,  2.51632240e-02,  3.17209847e-02,\n        -6.32063672e-03,  4.93903644e-02,  3.36538851e-02, -5.28709292e-02,\n        -3.40713412e-02,  2.90168468e-02,  6.40038587e-03, -2.86327116e-03,\n        -5.49707189e-03,  2.18123496e-02,  3.26621495e-02, -4.53511067e-02,\n        -4.40422297e-02, -1.96159072e-02, -6.17873017e-03,  4.77510951e-02,\n        -5.68263978e-02, -3.64850811e-03, -2.94583458e-02,  6.23063892e-02,\n        -2.29006615e-02, -5.84283806e-02, -1.95268244e-02, -1.74229797e-02,\n        -5.16161025e-02, -9.59131047e-02,  3.06734294e-02, -8.40081088e-03,\n        -4.95304130e-02,  1.66625641e-02,  5.40301576e-02, -1.53986523e-02,\n        -6.32131621e-02, -3.98582481e-02, -1.07553657e-02,  5.64858653e-02,\n        -4.80015390e-02, -4.09945548e-02, -6.87452629e-02,  4.35068347e-02,\n        -2.04728339e-02,  3.28120030e-02,  1.95802134e-02,  2.18710452e-02,\n        -3.67242023e-02,  2.60629039e-02,  2.80898232e-02,  3.91324051e-03,\n        -3.17179672e-02, -2.33442038e-02,  4.20365930e-02, -1.11746741e-02,\n         9.17084739e-02, -1.57421138e-02, -3.41273695e-02,  9.87163652e-03,\n        -1.85788721e-02,  1.88415758e-02,  6.47932962e-02, -2.52440926e-02,\n         1.10561829e-02, -7.84796923e-02, -9.42626745e-02, -5.46372570e-02,\n        -1.86346062e-02, -2.85886303e-02, -3.69950593e-03, -3.25980820e-02,\n        -6.54306859e-02, -6.12617396e-02,  1.79794431e-02, -3.68325859e-02,\n         2.22385139e-03,  5.19584939e-02, -4.44140732e-02, -4.78787459e-02,\n         2.45851725e-02, -6.35643303e-02,  1.18335534e-03,  4.06326167e-02,\n         2.12360956e-02, -8.05929210e-03,  2.85847392e-02, -9.38709825e-02,\n        -1.24327671e-02, -7.68205747e-02,  1.04564819e-02,  6.07344024e-02,\n        -1.21441232e-02,  4.51892316e-02, -2.37397826e-03, -2.86276489e-02,\n         2.32038815e-02, -7.77550368e-03, -2.13318579e-02,  1.90946851e-02,\n        -5.21056093e-02,  6.19800985e-02,  6.92290021e-03, -1.06660193e-02,\n        -4.26706038e-02, -1.56774353e-02, -3.04270443e-02, -2.04504542e-02,\n         2.69191638e-02,  5.67155075e-04, -5.10652810e-02, -6.09784760e-02,\n         2.28529703e-02, -6.68409653e-03,  4.15103659e-02,  3.41589786e-02,\n        -5.31321205e-02, -3.15157175e-02, -5.41997491e-04, -5.44216111e-02,\n         6.86479509e-02, -2.98353378e-02,  7.55908638e-02, -8.99017416e-03,\n         9.12962258e-02,  7.10117165e-04, -1.92885865e-02,  6.00854941e-02,\n        -1.92725752e-02,  9.99900624e-02,  2.30344832e-02, -5.12041450e-02,\n        -8.75185058e-02, -8.51264447e-02, -3.62856537e-02, -8.35886449e-02,\n         4.34779264e-02,  1.75888073e-02, -9.47550591e-03, -6.71318769e-02,\n         6.19921833e-02, -5.63009903e-02, -4.90893908e-02,  4.07378636e-02,\n         6.75128121e-03,  4.14510109e-02, -5.26246242e-02, -3.84247154e-02,\n         1.06786273e-01,  4.98033352e-02,  2.69973092e-02,  4.89984602e-02,\n        -1.81083754e-02, -2.80770659e-02, -1.06188310e-02, -3.51302437e-02,\n         2.05570105e-02, -5.69167361e-03, -3.93525213e-02,  2.72953734e-02,\n        -7.02374987e-03,  7.73054659e-02,  2.37397850e-03,  9.63635370e-03,\n        -4.49690782e-02, -1.09853847e-02,  7.16577247e-02,  3.15694585e-02,\n         3.31175327e-02,  1.37344822e-02, -3.41904722e-02, -3.30016725e-02,\n         3.85258272e-02,  3.95815168e-03, -7.97231719e-02, -3.40387188e-02,\n        -4.64110486e-02, -7.33552054e-02,  2.79044807e-02, -6.42519146e-02,\n         2.12380905e-02,  4.24298830e-02, -8.13388154e-02, -3.20970081e-02,\n        -2.66677910e-03, -1.69114806e-02, -2.35578436e-02, -5.66003546e-02,\n         5.11876419e-02, -1.66369807e-02,  3.34762782e-02,  2.67032039e-04,\n         9.72225145e-03,  1.36250472e-02, -6.28750548e-02, -3.65770981e-02,\n         2.41109524e-02,  5.59419207e-02, -8.11893418e-02,  1.88853033e-02,\n        -5.44848852e-02, -4.76082899e-02, -6.40679821e-02,  2.44815592e-02,\n        -7.54462481e-02, -5.23043834e-02,  4.28661704e-02, -2.46428121e-02,\n         1.25764776e-02, -3.65127549e-02, -3.97552624e-02, -3.17701232e-03,\n         6.25774413e-02, -8.67857225e-03,  1.73266567e-02, -3.11051682e-02,\n         8.66265520e-02,  2.61429660e-02,  3.90712656e-02,  2.63457578e-02,\n        -1.26842838e-02, -1.19314911e-02, -1.01829739e-02,  3.08568384e-02,\n        -1.04971461e-01, -5.05627394e-02,  2.81373672e-02, -4.79338579e-02,\n        -1.46835232e-02,  5.62619269e-02, -3.20694633e-02, -5.73500618e-02,\n         2.15437426e-03,  1.83986574e-02,  3.89974117e-02,  1.46133490e-02,\n         2.51009557e-02, -3.11546419e-02,  7.99324736e-02,  1.09814934e-01,\n        -2.76745498e-01, -6.56553451e-03,  1.35415895e-02,  9.05682985e-03,\n        -1.20968763e-02,  4.11265418e-02,  1.99686904e-02,  2.54567880e-02,\n        -4.17081825e-03, -4.41756546e-02, -3.87719907e-02, -1.25328021e-03,\n         4.79013063e-02, -6.45328080e-03,  1.00032007e-02, -7.33329132e-02,\n        -7.26032257e-03,  3.18546593e-03, -3.40801366e-02, -2.09563058e-02,\n         5.64280115e-02, -2.89826021e-02,  5.12034632e-02,  4.59750602e-03,\n         4.78397968e-04, -7.54091293e-02, -2.68993229e-02, -1.78640080e-03,\n         4.65660989e-02,  3.29263136e-02,  1.66100617e-02,  2.26170141e-02,\n         8.00551176e-02,  1.19007705e-02, -4.74690720e-02,  1.13387682e-01,\n        -4.82919216e-02, -1.62201133e-02, -1.28233895e-01, -5.16948886e-02,\n         2.48806388e-03, -6.59469813e-02, -3.35121304e-02,  5.48349693e-02,\n         8.48093331e-02, -1.88696347e-02,  6.78163813e-03,  4.66580875e-02,\n        -3.75968143e-02,  9.76157635e-02, -7.39222467e-02, -3.10205296e-02,\n         2.23472528e-02, -4.40676622e-02, -1.36897964e-02,  2.02951021e-02,\n         5.77884838e-02, -1.52073316e-02,  4.09522951e-02,  1.03298128e-01,\n         1.85416453e-02, -4.15864773e-03, -4.75140288e-03,  1.26096621e-01,\n         5.82865551e-02,  7.26756305e-02, -3.51194963e-02,  4.48669717e-02,\n        -5.76915545e-03,  2.47717965e-02, -3.89850582e-03,  2.50178650e-02,\n        -1.49709387e-02, -9.91631066e-04, -4.38269414e-02,  2.37452835e-02,\n        -2.63690832e-03,  1.67749394e-02,  1.52642094e-02, -1.87829286e-02,\n         3.68423935e-04, -3.44632603e-02, -2.47902591e-02, -1.46029703e-02,\n        -8.32818821e-03, -3.91949061e-03, -6.77995533e-02, -5.48127741e-02,\n        -1.20306585e-03, -1.87673271e-02,  6.96388213e-03, -4.67824237e-03,\n        -5.04230522e-03,  5.88342138e-02,  8.75230040e-03, -2.73373351e-02,\n        -1.02204876e-02,  4.84346552e-03, -6.51507676e-02, -6.82030916e-02,\n         5.61232716e-02, -3.41875255e-02, -6.57447204e-02, -6.37511164e-02,\n         1.36006074e-02, -3.44718769e-02, -4.27169912e-03, -2.06539351e-02,\n        -3.91322859e-02,  8.85746256e-03,  3.16988938e-02, -6.51622415e-02,\n         4.10162918e-02, -2.98883375e-02,  3.41346338e-02,  1.23337219e-02,\n         1.78538505e-02, -2.93675228e-03,  7.29551837e-02,  2.61788606e-03,\n         4.72373143e-02,  6.94977194e-02, -9.18633863e-03,  2.70239916e-02,\n        -1.40012149e-02,  1.68670751e-02,  4.03683931e-02, -5.67639656e-02,\n        -4.76807216e-03,  5.53377846e-04,  2.27386947e-03,  6.68700337e-02,\n         5.43190986e-02,  1.17133945e-01,  2.41761208e-02, -2.19337717e-02,\n        -6.25255778e-02,  1.09581314e-01, -2.74218656e-02, -2.24498324e-02,\n        -1.18686876e-03,  6.81794714e-03, -6.84388131e-02,  2.42379848e-02,\n        -3.53061035e-02,  6.35609105e-02,  6.54974729e-02,  3.24320607e-02,\n         4.31059301e-02, -3.40692475e-02, -3.78985587e-03,  8.17516074e-03,\n         6.85770661e-02,  1.07141519e-02, -4.31767153e-03, -1.14466287e-01,\n         3.43851298e-02,  5.16629890e-02, -2.67479960e-02, -1.83814950e-02,\n         4.40083034e-02, -4.50600460e-02,  6.89726174e-02, -7.34422542e-03,\n        -2.50292327e-02, -1.22262411e-01,  5.08051664e-02, -9.09468811e-03,\n         1.85492918e-01, -1.86990947e-02,  4.37903404e-02, -2.45546326e-02,\n         8.96326825e-02,  6.04123436e-02,  4.91328314e-02,  2.90226601e-02,\n         8.09625313e-02, -1.72476862e-02,  6.87210411e-02, -1.41641507e-02,\n         3.66266025e-03,  4.17163521e-02, -4.79416624e-02,  2.31466349e-02,\n         1.95524233e-04,  3.20570506e-02, -6.29806425e-04, -1.97594576e-02,\n        -6.29375130e-02, -9.06871855e-02,  5.00696152e-02,  5.51987328e-02,\n         3.16376500e-02,  1.89316887e-02,  2.19238680e-02,  2.20860261e-03,\n        -3.29163969e-02, -8.79194364e-02, -3.58413644e-02,  3.29623967e-02,\n        -4.56003882e-02,  8.32146108e-02, -5.11019453e-02,  3.92518714e-02,\n         1.39799835e-02,  2.58341338e-02,  1.58038195e-02, -4.86543030e-02,\n        -2.63288827e-03,  5.30221686e-02,  4.81587648e-03, -4.42486582e-03,\n         3.26863565e-02,  3.94063294e-02,  2.69684102e-02,  5.89486724e-03,\n         9.14683491e-02, -6.15285113e-02, -1.39217246e-02, -3.12603526e-02,\n        -2.83544585e-02, -2.56291293e-02, -7.65008256e-02,  1.21179912e-02,\n         1.00059018e-01,  4.62516174e-02,  5.71254157e-02,  5.35887703e-02,\n         1.82090644e-02,  3.99501957e-02,  2.12583598e-02,  2.03863229e-03,\n         1.10434934e-01, -4.80189547e-02,  4.49850708e-02,  6.26223832e-02],\n       dtype=float32),\n '/BERT_encoder/transformer/layer_3/output/kernel:0': array([[-0.02483727, -0.01924515, -0.07719551, ..., -0.01658227,\n         -0.05824663, -0.02921432],\n        [ 0.0831565 , -0.04473726,  0.0697827 , ..., -0.02057426,\n         -0.03149198,  0.02162287],\n        [-0.0426725 ,  0.0348692 ,  0.05356197, ...,  0.01713634,\n          0.02861997,  0.09246384],\n        ...,\n        [ 0.01497264, -0.05269033,  0.03713873, ...,  0.04156856,\n         -0.00864422,  0.01421924],\n        [-0.07038949,  0.02868482,  0.09043907, ...,  0.00472228,\n          0.06871948, -0.00832407],\n        [ 0.0032833 ,  0.02845266, -0.00831326, ..., -0.05622907,\n         -0.04499636,  0.04136751]], dtype=float32),\n '/BERT_encoder/transformer/layer_3/output_layer_norm/beta:0': array([-5.36468625e-02, -8.74558687e-02,  6.96751177e-02, -1.12268597e-01,\n        -1.50241733e-01, -1.38270361e-02, -5.34765907e-02, -1.14707395e-01,\n        -1.26103342e-01,  2.28527978e-01, -1.93763241e-01, -1.86504707e-01,\n        -4.10897806e-02, -9.99904349e-02,  5.84837459e-02,  6.89950725e-03,\n        -2.01585181e-02,  1.70323495e-02,  1.36232466e-01,  5.54021485e-02,\n         2.95769703e-02, -9.17192027e-02, -4.36502323e-02,  6.90763220e-02,\n        -3.30614075e-02, -2.18409136e-01, -9.29371938e-02, -2.74202302e-02,\n        -1.60352737e-02,  5.16962931e-02, -1.11775853e-01, -1.41470119e-01,\n         3.11277937e-02, -6.93030879e-02,  5.93853695e-03,  9.10923555e-02,\n         4.69031967e-02, -1.88689768e-01, -7.52237113e-03, -8.06682482e-02,\n        -1.50749549e-01,  2.55259946e-02,  1.62918866e-02, -3.50400060e-02,\n        -1.62979901e-01,  1.00753196e-01,  1.82557013e-02, -3.90104167e-02,\n         4.54912633e-02,  7.37374648e-03, -1.22296609e-01,  2.16699764e-02,\n         8.74358509e-03,  2.49801781e-02, -1.02799699e-01,  1.30522281e-01,\n        -1.15414783e-01, -6.51795883e-04, -1.48637984e-02,  1.13171451e-01,\n         5.76843098e-02,  2.75025666e-02,  3.07044387e-02,  1.29456714e-01,\n         6.07485957e-02, -2.21888840e-01,  4.56374092e-03, -4.63053770e-02,\n        -1.03745043e-01,  5.82164750e-02,  2.58468017e-02, -9.32368115e-02,\n        -8.84628817e-02, -2.20539957e-01, -1.08897850e-01,  2.69616395e-02,\n        -1.92349851e-01, -3.32485028e-02, -4.77803014e-02,  1.55992331e-02,\n         1.65238410e-01,  6.85568154e-02, -5.10609522e-02, -8.64773542e-02,\n        -6.90732524e-02,  1.54554605e-01,  9.84666571e-02, -1.32987171e-01,\n        -8.37701038e-02,  9.68919396e-02,  1.89625006e-02,  1.25649050e-01,\n         2.84690447e-02, -9.88417640e-02, -7.20367674e-03, -2.11722329e-01,\n        -7.07240254e-02,  4.93750498e-02,  7.82064348e-02,  4.28268574e-02,\n         3.98451686e-02, -1.54106885e-01,  1.89635786e-03,  3.87703404e-02,\n         5.25697917e-02, -2.66901731e-01, -3.26921232e-02, -1.02199264e-01,\n        -1.47341162e-01, -1.54727787e-01,  9.18697938e-02, -1.01470061e-01,\n        -5.85420057e-02, -4.99099679e-02, -8.39051977e-02,  8.69482756e-03,\n         1.21170387e-01, -1.33727774e-01, -4.19979580e-02,  8.88891518e-02,\n         3.61293927e-02,  6.12916015e-02, -8.95503461e-02, -3.62290372e-03,\n        -1.49335995e-01, -1.19830154e-01, -4.05858867e-02,  2.51480769e-02,\n        -2.71395445e-02,  6.36875480e-02, -2.41097845e-02, -4.17062715e-02,\n        -7.95819610e-02,  1.66072384e-01,  1.49226397e-01,  8.15249160e-02,\n         5.76921254e-02,  6.96130842e-02,  6.28851801e-02,  2.43522581e-02,\n        -1.84522480e-01,  4.30525579e-02, -1.47498086e-01, -2.12519810e-01,\n         1.70943230e-01, -4.73943874e-02, -1.92598328e-01, -7.81812370e-02,\n         8.53896737e-02,  7.96784535e-02,  8.13354179e-02,  1.64647251e-01,\n        -4.33005504e-02, -3.61379646e-02, -1.03637069e-01, -3.89110520e-02,\n         3.48988593e-01, -1.57584384e-01,  1.77911222e-01,  4.64290828e-02,\n         2.36682504e-01,  7.51984566e-02,  6.74613640e-02,  7.11356550e-02,\n        -5.83472103e-02,  7.56448358e-02, -5.90312853e-02, -1.20748639e-01,\n        -1.56838536e-01,  3.89651209e-02, -1.18288659e-01, -7.70772919e-02,\n        -1.64563712e-02,  8.00390244e-02,  1.04432255e-02, -2.41167471e-02,\n        -5.04364185e-02, -1.33475214e-01, -8.92564207e-02, -1.42594744e-02,\n        -3.98223242e-03,  5.80313578e-02,  1.51283473e-01, -3.20220515e-02,\n         8.05733129e-02,  4.56671566e-02,  5.79320043e-02,  9.81195495e-02,\n        -1.74459159e-01,  1.07097179e-02,  8.25231820e-02, -1.38719514e-01,\n        -9.04825702e-02, -9.03365389e-03,  6.83558807e-02, -9.94952321e-02,\n        -2.03133896e-01,  8.79748017e-02,  2.76237782e-02, -5.25750630e-02,\n        -6.70003295e-02,  9.54235196e-02,  1.51560262e-01, -1.19301230e-01,\n        -1.27959281e-01, -3.36918570e-02, -1.95789635e-01, -2.40892712e-02,\n         3.50441337e-02, -1.31755434e-02, -1.55064315e-01, -4.71705087e-02,\n        -1.89988330e-01, -9.15711373e-02, -3.95817459e-02, -2.69734878e-02,\n        -3.16431262e-02, -9.69913695e-03, -2.89274752e-01, -1.47247523e-01,\n        -5.69837494e-03,  1.78125575e-02, -1.68816358e-01, -5.91507144e-02,\n        -1.02492906e-01, -1.76611543e-01, -4.90822643e-02, -1.06593162e-01,\n        -6.91650137e-02, -1.73810069e-02, -1.99251864e-02, -1.56160310e-01,\n        -1.40962645e-01,  1.42703667e-01, -6.48732558e-02,  6.61788583e-02,\n        -5.25244549e-02, -4.26757075e-02, -1.03132933e-01,  1.01831235e-01,\n        -1.60524637e-01,  2.36064363e-02,  1.01878226e-01, -1.09141767e-01,\n         8.06669965e-02, -1.40605420e-01, -3.68799865e-02, -2.07775645e-02,\n         1.10203989e-01, -1.06466547e-01,  5.48998080e-02, -1.04669526e-01,\n        -3.72088142e-02,  9.74885672e-02, -7.04369694e-02,  1.48238778e-01,\n        -7.37761557e-02,  6.25051036e-02, -1.60088763e-01, -5.15658446e-02,\n        -1.64219543e-01, -1.06671020e-01,  8.97482038e-02, -1.45284131e-01,\n        -9.35238972e-02,  6.90310029e-03,  3.84325534e-02, -1.43939763e-01,\n        -7.88659528e-02,  6.65800273e-02, -1.72291324e-01,  1.42951369e-01,\n        -7.30286613e-02,  7.37144127e-02,  6.24715798e-02,  1.81931913e-01,\n         3.46589014e-02, -1.14057176e-01, -7.02983439e-02, -5.12127280e-02,\n         9.55621675e-02, -1.36884646e-02, -1.02324158e-01,  5.57711869e-02,\n         1.33033589e-01,  3.22631858e-02, -1.49529830e-01,  6.34899959e-02,\n         1.56675458e-01, -1.56157345e-01, -1.07876666e-01, -8.51094127e-02,\n         8.58245343e-02,  1.38254687e-01,  7.18213385e-03, -2.06691120e-02,\n         2.87775137e-02, -1.52277425e-01,  1.08939648e-01, -1.36787444e-01,\n         5.01965471e-02, -7.30588939e-03,  1.37353025e-03,  1.87473390e-02,\n         1.88317988e-02, -6.23079836e-02,  7.36080715e-03, -6.91337232e-03,\n         7.67547265e-02,  8.90320539e-02, -5.78803718e-02,  1.24386325e-01,\n        -1.91829801e-01, -1.44240588e-01, -5.65037876e-02, -8.77500921e-02,\n        -1.40701970e-02, -4.68956009e-02, -1.04076348e-01,  1.05633460e-01,\n         7.27571994e-02, -1.34993926e-01, -1.77040562e-01,  8.91077518e-02,\n        -1.12945072e-01,  3.21544223e-02, -2.21049692e-02, -6.90694377e-02,\n        -1.18993424e-01,  1.40450969e-01, -8.47039446e-02,  7.20544010e-02,\n        -2.54253205e-03, -5.90765774e-02,  8.59454088e-03,  1.29301921e-01,\n         1.15563415e-01,  7.24796578e-03, -1.94918528e-01,  1.45596173e-03,\n         1.22652622e-02,  1.50851414e-01,  1.96586866e-02, -3.64708006e-02,\n        -6.42684996e-02,  1.33047760e-01, -4.46435213e-02, -2.98853684e-02,\n         2.74298303e-02, -2.68080421e-02, -1.78063601e-01, -5.65894842e-02,\n        -2.38386746e-02, -1.63322892e-02,  4.33259197e-02, -3.89818512e-02,\n        -6.33915588e-02,  6.66279159e-03, -2.05683589e-01, -8.00891668e-02,\n         2.48382129e-02,  5.94089814e-02, -1.18679456e-01, -2.20396474e-01,\n         2.19890013e-01, -7.25754127e-02, -7.57700652e-02, -2.50307173e-02,\n         4.51564454e-02,  5.44498414e-02,  1.28375543e-02, -4.54436019e-02,\n        -8.29855725e-02, -7.76093379e-02, -3.10082585e-02, -5.49484007e-02,\n         1.47607746e-02,  9.09620076e-02,  1.48721552e-02, -8.16369206e-02,\n        -1.59370684e-05, -1.37382552e-01,  6.19624741e-02, -1.97873071e-01,\n        -1.46149173e-01,  1.71395298e-02,  3.42889726e-02, -2.12685421e-01,\n         1.59597576e-01,  6.67533651e-02,  5.76205216e-02,  1.59769319e-02,\n         2.41436828e-02, -1.55089408e-01, -1.50241002e-01, -5.62004931e-02,\n        -4.48683426e-02, -5.04848473e-02, -5.45101166e-02,  2.66614836e-02,\n         3.44853848e-02, -6.27170429e-02, -7.23620970e-03, -9.79253724e-02,\n        -9.79703367e-02,  4.02578041e-02, -7.63003156e-02, -1.10824026e-01,\n         6.20260369e-03,  8.14791843e-02, -8.42949823e-02, -1.18313469e-01,\n        -5.46257943e-02,  1.74379833e-02, -6.44042194e-02, -3.64151150e-02,\n         1.12843513e-01,  2.48804204e-02, -2.12448969e-01, -4.42577861e-02,\n         7.70637095e-02, -1.34329841e-01,  1.51251942e-01, -1.81757003e-01,\n         1.04543753e-01, -1.21071562e-01,  4.55342717e-02,  1.41307786e-01,\n        -1.74934957e-02, -5.41887768e-02, -1.16120450e-01, -1.65808816e-02,\n         5.98080307e-02,  1.95977837e-02, -1.63341045e-01,  5.61068617e-02,\n        -5.90931997e-02,  1.48231825e-02, -1.31957069e-01, -1.36339247e-01,\n        -1.24894105e-01, -2.01296568e-01,  9.11506563e-02, -9.14259776e-02,\n         5.42284548e-02, -1.40476257e-01, -6.18175082e-02,  4.67126705e-02,\n         2.37199031e-02, -5.48447706e-02, -9.63471457e-02,  4.16646637e-02,\n         5.23482896e-02, -2.11878046e-01,  6.27582595e-02,  1.42846048e-01,\n        -7.20397085e-02,  7.49308020e-02, -3.69783118e-02,  5.52969463e-02,\n        -7.20230564e-02,  7.20268935e-02, -1.50670409e-01,  1.29841685e-01,\n         3.15988362e-02, -1.41798183e-01, -1.29442692e-01, -8.06801245e-02,\n         1.41918974e-03,  3.33701149e-02,  9.30010080e-02,  1.25037089e-01,\n         1.41699258e-02, -6.21411465e-02, -7.87320882e-02,  1.85548328e-02,\n        -6.90906793e-02, -1.87090132e-02, -1.43293008e-01, -1.94057062e-01,\n        -5.22214659e-02,  5.09157404e-02, -1.11043528e-01, -2.29962006e-01,\n        -2.13786270e-02, -6.52024895e-02,  6.12764098e-02, -1.79024205e-01,\n        -8.65339488e-03,  2.95831971e-02, -8.81025270e-02, -1.09184429e-01,\n         1.38239935e-01,  1.04555108e-01, -1.12853281e-01, -2.69299522e-02,\n         6.43743351e-02, -8.68104920e-02, -1.02718063e-02,  6.05182089e-02,\n         1.15063645e-01, -2.95521691e-02, -3.38234007e-02, -6.30755723e-02,\n         6.52152821e-02,  8.65218043e-02,  1.30642978e-02, -6.54667243e-02,\n         8.83866940e-03, -1.01674937e-01,  7.63185322e-02,  1.19716875e-01],\n       dtype=float32),\n '/BERT_encoder/transformer/layer_3/output_layer_norm/gamma:0': array([0.76687586, 0.8060974 , 0.7899712 , 0.75311506, 0.87770694,\n        0.76268286, 0.77632487, 0.74766815, 0.8655204 , 0.82513887,\n        0.73680365, 0.7502567 , 0.7659776 , 0.81016356, 0.7694364 ,\n        0.73724467, 0.7697527 , 0.77284807, 0.8221565 , 0.7965531 ,\n        0.7845949 , 0.8014827 , 0.7627505 , 0.8249663 , 0.7866157 ,\n        0.76561993, 0.79842865, 0.77397054, 0.805513  , 0.7992116 ,\n        0.7383748 , 0.7900116 , 0.8198132 , 0.7907363 , 0.7830361 ,\n        0.75578415, 0.80157024, 0.7717953 , 0.75975907, 0.77352643,\n        0.79903656, 0.7862555 , 0.74726784, 0.8135308 , 0.782307  ,\n        0.785386  , 0.8081913 , 0.7903752 , 0.8416153 , 0.8695946 ,\n        0.77753395, 0.7869326 , 0.79070926, 0.7714166 , 0.8148454 ,\n        0.8664238 , 0.7742244 , 0.76502866, 0.80258745, 0.85693014,\n        0.8116152 , 0.73564684, 0.76010764, 0.8206374 , 0.75207263,\n        0.7997183 , 0.7554442 , 0.7985408 , 0.83671737, 0.79594904,\n        0.80551547, 0.7733947 , 0.7652009 , 0.7900063 , 0.7865757 ,\n        0.7896074 , 0.8253346 , 0.8023456 , 0.76167005, 0.74900913,\n        0.8293749 , 0.7685987 , 0.7635789 , 0.8220305 , 0.7853397 ,\n        0.8034713 , 0.7763083 , 0.79337376, 0.77550304, 0.83096516,\n        0.82260054, 0.75609016, 0.7984562 , 0.7632772 , 0.79864395,\n        0.8194108 , 0.76659423, 0.7622028 , 0.7559848 , 0.77308404,\n        0.77138144, 0.79600316, 0.76119125, 0.7972087 , 0.7939354 ,\n        0.8689641 , 0.736284  , 0.7602546 , 0.7650982 , 0.7874648 ,\n        0.766163  , 0.8014667 , 0.77213573, 0.7266833 , 0.8429794 ,\n        0.8053263 , 0.79200506, 0.7661816 , 0.7703311 , 0.79675186,\n        0.80753726, 0.86298484, 0.83450323, 0.80870485, 0.7561206 ,\n        0.75314236, 0.7706169 , 0.78142685, 0.79320514, 0.77875084,\n        0.7723649 , 0.80242014, 0.75475335, 0.794819  , 0.82463974,\n        0.790941  , 0.8015446 , 0.7854086 , 0.79127413, 0.7692028 ,\n        0.77495784, 0.7438556 , 0.7825629 , 0.77741665, 0.7889865 ,\n        0.77032626, 0.7899501 , 0.76853174, 0.7803613 , 0.8040144 ,\n        0.8891118 , 0.81162363, 0.78256935, 0.7776655 , 0.77869785,\n        0.744531  , 0.8966861 , 0.81526095, 0.8032685 , 0.8270352 ,\n        0.78902954, 0.766558  , 0.75575143, 0.819045  , 0.7943087 ,\n        0.752762  , 0.7694578 , 0.7672928 , 0.7980225 , 0.8238784 ,\n        0.7884972 , 0.90115327, 0.7592179 , 0.7540358 , 0.77565396,\n        0.79222476, 0.7599534 , 0.8076836 , 0.77979827, 0.76551515,\n        0.77922785, 0.8366862 , 0.8215561 , 0.7816514 , 0.80537605,\n        0.7959108 , 0.7651389 , 0.796184  , 0.8211557 , 0.7612351 ,\n        0.75874764, 0.7816043 , 0.8192474 , 0.7776104 , 0.78795713,\n        0.80817825, 0.7945583 , 0.7668758 , 0.7825892 , 0.79072195,\n        0.77255356, 0.8262387 , 0.7553836 , 0.7769662 , 0.82661664,\n        0.7855524 , 0.7693492 , 0.8104449 , 0.7847179 , 0.81947553,\n        0.789509  , 0.7503966 , 0.84345794, 0.7859297 , 0.7434205 ,\n        0.75799817, 0.7538946 , 0.8480621 , 0.8409995 , 0.8117196 ,\n        0.8519064 , 0.8182872 , 0.77114296, 0.74038607, 0.7939    ,\n        0.7930141 , 0.78100073, 0.8145137 , 0.74748075, 0.751284  ,\n        0.78621227, 0.794067  , 0.75709397, 0.78396446, 0.79079664,\n        0.78097016, 0.78616256, 0.79185915, 0.7816841 , 0.7624519 ,\n        0.819939  , 0.7371124 , 0.7285537 , 0.8742126 , 0.73679495,\n        0.79901993, 0.76677805, 0.7795888 , 0.76598525, 0.76609397,\n        0.84524775, 0.7648552 , 0.76980114, 0.75485635, 0.771672  ,\n        0.8059029 , 0.79806376, 0.7800859 , 0.7638581 , 0.80137414,\n        0.7608064 , 0.7547014 , 0.9096762 , 0.7839139 , 0.79399806,\n        0.80151093, 0.78591347, 0.82612705, 0.81863374, 0.7395574 ,\n        0.81376135, 0.7394801 , 0.79619527, 0.7681324 , 0.80761194,\n        0.75065255, 0.5138119 , 0.7950715 , 0.7965974 , 0.79800636,\n        0.7888907 , 0.805045  , 0.8312756 , 0.7703597 , 0.7909045 ,\n        0.77010244, 0.78807324, 0.7902525 , 0.8120774 , 0.79905397,\n        0.7777718 , 0.76432157, 0.79621875, 0.8143201 , 0.76923805,\n        0.7846646 , 0.7667811 , 0.7958739 , 0.8162266 , 0.8113744 ,\n        0.7768313 , 0.75806147, 0.7749917 , 0.784047  , 0.8383051 ,\n        0.7520221 , 0.76884407, 0.79525906, 0.79041034, 0.81433517,\n        0.73440075, 0.7775962 , 0.79162675, 0.774898  , 0.7824002 ,\n        0.7845242 , 0.74638677, 0.77959335, 0.7353246 , 0.8208168 ,\n        0.7914477 , 0.7898967 , 0.80121607, 0.8344838 , 0.77939826,\n        0.81077766, 0.7748199 , 0.8019184 , 0.7214828 , 0.864619  ,\n        0.8417019 , 0.77760565, 0.7792954 , 0.7541918 , 0.802131  ,\n        0.80249125, 0.7899416 , 0.7786939 , 0.86841506, 0.81974345,\n        0.76097906, 0.7631703 , 0.8002751 , 0.83097667, 0.7751103 ,\n        0.80978215, 0.78627294, 0.7885244 , 0.7828036 , 0.7883741 ,\n        0.7037804 , 0.78084093, 0.7517963 , 0.75719947, 0.7942211 ,\n        0.80292827, 0.70735   , 0.7911434 , 0.8164058 , 0.80937177,\n        0.76432526, 0.76476014, 0.75663185, 0.7817379 , 0.81171465,\n        0.78596425, 0.79278207, 0.7972613 , 0.7696635 , 0.7804933 ,\n        0.7690474 , 0.7429469 , 0.7869394 , 0.7849826 , 0.7810276 ,\n        0.78507215, 0.8246329 , 0.7861928 , 0.7848856 , 0.7844335 ,\n        0.779847  , 0.76347   , 0.7768193 , 0.8266579 , 0.77931386,\n        0.7792728 , 0.7511724 , 0.7846229 , 0.79019356, 0.8019583 ,\n        0.77684754, 0.78233516, 0.79084325, 0.7706324 , 0.7644593 ,\n        0.77481145, 0.74165994, 0.79954636, 0.77840185, 0.81221783,\n        0.8148363 , 0.7885195 , 0.79396546, 0.76122415, 0.80182797,\n        0.79000324, 0.73810047, 0.7831103 , 0.76002043, 0.7856523 ,\n        0.75899714, 0.75116533, 0.79141027, 0.7845026 , 0.78153765,\n        0.7807946 , 0.7620452 , 0.7762384 , 0.78379595, 0.7740541 ,\n        0.815622  , 0.75506186, 0.79703325, 0.77015597, 0.77571607,\n        0.7824777 , 0.79101455, 0.7815216 , 0.81660014, 0.778724  ,\n        0.76415753, 0.7677024 , 0.7787585 , 0.7870512 , 0.8017758 ,\n        0.8262057 , 0.8292112 , 0.74968636, 0.7908553 , 0.7567359 ,\n        0.76267934, 0.8150636 , 0.77480006, 0.7677116 , 0.5384326 ,\n        0.7494338 , 0.9523654 , 0.79891866, 0.78245676, 0.82817936,\n        0.79214835, 0.7868093 , 0.73206985, 0.8145682 , 0.7799966 ,\n        0.8033564 , 0.8309761 , 0.81538457, 0.768333  , 0.79073125,\n        0.758009  , 0.7411974 , 0.7767417 , 0.91173035, 0.78680074,\n        0.7620625 , 0.8137877 , 0.7483391 , 0.76652575, 0.77187115,\n        0.7811906 , 0.7748824 , 0.77221066, 0.76814586, 0.7724414 ,\n        0.7588803 , 0.818662  , 0.78271157, 0.7600123 , 0.8190987 ,\n        0.8122107 , 0.7783525 , 0.7540708 , 0.8168974 , 0.78190756,\n        0.7920694 , 0.7600369 , 0.8021662 , 0.78640634, 0.8023547 ,\n        0.7838724 , 0.765735  , 0.8316375 , 0.77642125, 0.78331655,\n        0.79289997, 0.7729195 , 0.7737257 , 0.81130457, 0.7579645 ,\n        0.801721  , 0.7741278 , 0.77733153, 0.87327445, 0.76104915,\n        0.79967946, 0.8267837 , 0.7805147 , 0.78045404, 0.79315925,\n        0.79099196, 0.7892367 ], dtype=float32),\n '/BERT_encoder/transformer/layer_3/self_attention/attention_output/bias:0': array([-2.97049507e-02, -7.67777562e-02, -1.76224947e-01, -4.06341739e-02,\n         4.85967174e-02, -1.32764041e-01,  1.53500795e-01, -1.06363863e-01,\n         2.02084869e-01, -3.24393153e-01,  3.12930718e-02,  1.98750973e-01,\n        -9.72490534e-02,  3.31070796e-02, -1.02186248e-01,  1.28420323e-01,\n         1.37112752e-01, -6.64477497e-02, -5.51204123e-02, -1.40623614e-01,\n         1.15255751e-01,  5.09936959e-02, -3.79607193e-02, -9.06627253e-02,\n         1.01280794e-01,  2.92124301e-01,  2.20332108e-02, -1.04944527e-01,\n         1.15894608e-03, -6.28196821e-02,  8.14680606e-02, -1.38579369e-01,\n         4.61691096e-02,  6.28945697e-03,  1.33652553e-01,  3.57756205e-02,\n        -9.21994150e-02,  1.08163148e-01, -5.09331785e-02, -8.87631327e-02,\n        -2.73845401e-02,  9.75070000e-02, -9.63915288e-02, -3.79618374e-03,\n        -5.10946922e-02, -2.66292244e-01, -1.24802925e-01, -2.02256367e-01,\n        -2.15829294e-02,  1.78736951e-02,  4.17437777e-02,  2.07091957e-01,\n        -4.54439446e-02, -1.14768343e-02,  9.99530107e-02, -1.87860996e-01,\n         4.40822333e-01, -5.01299910e-02, -1.63319781e-01, -2.25741014e-01,\n        -2.03274459e-01, -1.53453946e-01, -1.33369893e-01, -1.50968656e-01,\n        -2.36201361e-01,  1.19054113e-02,  3.86874452e-02, -6.25351742e-02,\n         2.30429560e-01,  9.57308412e-02,  1.26173040e-02, -4.79042530e-02,\n         1.02413990e-01, -7.55563155e-02, -1.59988999e-01,  1.06552884e-01,\n         3.26767683e-01, -1.76534906e-03,  2.72117078e-01, -1.37229070e-01,\n        -3.74780893e-02,  1.76313147e-03,  2.13403022e-03,  8.47033337e-02,\n        -2.77752690e-02, -3.01247486e-03, -3.02753121e-01,  6.20995350e-02,\n         1.36023387e-01, -1.23449033e-02,  5.01540750e-02,  1.33970734e-02,\n        -1.92732200e-01,  1.15844481e-01, -1.36301547e-01,  3.52438182e-01,\n        -1.87229365e-01, -2.06530079e-01, -1.17779570e-02, -7.31190592e-02,\n         6.51319623e-02, -1.37871206e-01,  1.12787537e-01, -9.64144543e-02,\n        -2.14271620e-01,  1.56241596e-01, -1.21376432e-01,  3.34414765e-02,\n         1.48289487e-01,  1.36018410e-01, -3.13756727e-02,  3.43786567e-01,\n        -1.55444756e-01, -1.80846885e-01, -4.44999188e-02,  3.01547535e-02,\n        -9.47889313e-02, -7.12691098e-02, -1.91164896e-01,  5.89288548e-02,\n        -6.25182390e-02, -1.73986793e-01,  1.67554960e-01,  1.90944776e-01,\n        -9.33607146e-02,  8.53210911e-02, -6.17441572e-02,  1.02299422e-01,\n        -2.02901170e-01, -5.87866046e-02, -4.15209755e-02,  1.44829586e-01,\n        -7.64963403e-02, -1.11806422e-01, -2.66696543e-01,  3.84612344e-02,\n        -5.82752377e-03,  7.94988051e-02, -2.40370274e-01, -1.83630407e-01,\n        -3.03877797e-02, -1.43650100e-01,  1.75722931e-02,  1.57329574e-01,\n        -1.36493117e-01,  2.67969996e-01,  1.86999515e-01, -1.00858346e-01,\n        -9.41435099e-02,  8.42197165e-02, -3.55917104e-02, -2.89471388e-01,\n        -1.43657867e-02, -3.47484618e-01,  2.17406210e-02, -2.34894663e-01,\n        -4.70658302e-01,  1.59694567e-01, -2.52109587e-01, -1.31600276e-01,\n        -4.11245704e-01,  1.99505836e-01, -1.25242606e-01, -3.70661095e-02,\n         2.33386278e-01,  1.30140796e-01, -2.41471469e-01, -2.92712916e-02,\n         4.15429801e-01, -4.08058539e-02, -1.55281574e-01,  7.82382786e-02,\n         8.57742801e-02,  4.83362675e-02,  2.58175228e-02, -2.89717019e-01,\n         2.84223538e-02, -1.44597992e-01, -7.58181065e-02, -1.84227809e-01,\n        -7.81480074e-02,  2.59810537e-01, -2.03989103e-01, -5.48934042e-02,\n         1.23013325e-01,  1.82131425e-01, -5.77992573e-02, -2.12994158e-01,\n         3.29477102e-01, -2.23337293e-01, -1.01928845e-01, -3.88310514e-02,\n         2.74829507e-01,  2.16808543e-01,  5.75375520e-02,  2.03479588e-01,\n         9.98284146e-02,  1.25774384e-01, -6.64497837e-02,  3.86649042e-01,\n        -1.15816846e-01, -1.93459660e-01, -1.79741859e-01,  3.88581865e-03,\n         7.19521418e-02,  1.83910787e-01,  1.29330277e-01,  3.29301655e-01,\n         3.70638594e-02,  6.10670366e-04,  1.08631559e-01,  2.68060476e-01,\n         1.37324631e-01,  1.32501036e-01, -8.06604847e-02, -2.35055715e-01,\n        -1.36687666e-01,  2.78348825e-03,  2.77353704e-01, -4.84944409e-04,\n         6.98843226e-02, -1.48698404e-01, -2.03168914e-01, -2.11448625e-01,\n         4.36722264e-02,  3.80245864e-01, -5.18635251e-02,  3.02982867e-01,\n         1.31972386e-02,  1.76334649e-01,  2.42758214e-01,  1.11150660e-01,\n        -9.01365802e-02, -3.54509175e-01,  1.86762065e-01,  1.82417527e-01,\n         2.41735771e-01, -1.96412429e-01, -9.52025056e-02, -1.77715942e-01,\n         1.84795707e-02, -1.35956377e-01, -5.32677732e-02,  2.51529098e-01,\n         2.66810227e-02,  1.94590110e-02,  7.68423900e-02, -3.96358520e-01,\n         5.38552403e-02, -4.14106436e-02, -9.31208059e-02, -5.07596731e-02,\n         2.35675722e-02, -3.53931151e-02,  8.79370347e-02, -1.72094941e-01,\n        -4.92584631e-02, -6.77476972e-02,  2.34147623e-01, -5.70731014e-02,\n         2.48270974e-01,  1.21016584e-01, -1.65237740e-01,  1.25999719e-01,\n         1.45166412e-01, -1.60148501e-01,  1.14245519e-01,  4.69318740e-02,\n         1.91288978e-01, -1.72153339e-01,  2.50379682e-01, -1.59027986e-04,\n         2.58119494e-01,  5.31730764e-02, -8.83789808e-02, -5.82509875e-01,\n         9.79323745e-01,  1.17683299e-01, -1.60020217e-01, -2.68628746e-01,\n         3.39805149e-02,  2.01482147e-01,  2.33934790e-01, -1.85948998e-01,\n        -3.84276122e-01, -5.30047789e-02,  1.81043014e-01,  2.24722415e-01,\n        -2.53710508e-01,  3.58123258e-02,  1.02400176e-01,  4.44662496e-02,\n        -9.08496976e-02, -2.51213312e-01,  1.26495600e-01,  1.08355440e-01,\n         7.58346841e-02,  4.21086013e-01, -2.04195902e-02,  2.07373828e-01,\n         7.01751038e-02, -4.20030467e-02, -1.73932627e-01,  2.05109045e-01,\n         8.24262053e-02,  1.70401335e-02, -4.72877249e-02,  8.90596434e-02,\n         1.46712754e-02,  2.76315331e-01,  2.81232186e-02, -1.00318389e-02,\n         2.87153572e-01,  1.99930206e-01, -4.04323153e-02,  1.39556915e-01,\n        -2.21089516e-02, -1.12452393e-03, -2.43797451e-01,  1.48620969e-03,\n        -7.89860040e-02,  2.76884913e-01,  1.56466544e-01, -2.33233143e-02,\n        -6.30816743e-02, -7.61350691e-02,  2.30404601e-01,  1.44999981e-01,\n        -9.77022275e-02, -6.77385479e-02,  2.37433761e-01, -1.37454912e-01,\n         1.13599420e-01, -5.33239124e-03, -1.48088560e-01, -8.80210008e-03,\n         2.72752851e-01,  1.52821764e-01,  2.15685099e-01, -2.32800230e-01,\n        -3.67037542e-02,  9.72497463e-02,  1.44269735e-01, -1.18150348e-02,\n        -7.98059255e-02, -6.07742295e-02,  3.80950868e-02,  2.01651573e-01,\n        -2.35503893e-02,  1.23915076e-02, -2.23250717e-01, -2.20828757e-01,\n        -6.24501295e-02, -5.17763570e-02, -7.41107911e-02,  7.45342523e-02,\n        -1.44064784e-01, -7.82722235e-02, -1.70453154e-02,  1.76517099e-01,\n         1.54179007e-01, -1.38074264e-01,  7.74992257e-02,  1.15712166e-01,\n        -3.03291231e-01, -2.97747821e-01,  6.12721220e-02, -1.61356017e-01,\n         3.00486684e-02, -2.52634197e-01, -3.19275772e-03, -8.11046269e-03,\n         1.74633592e-01,  1.73885487e-02, -2.41223704e-02, -3.77438925e-02,\n        -1.93282679e-01,  1.47974566e-01,  7.62895308e-03,  2.66751260e-01,\n         2.06316933e-01, -7.88537413e-02,  3.65899913e-02,  2.11769119e-01,\n         3.18837427e-02, -2.76837289e-01,  7.63038024e-02,  1.04741901e-01,\n         1.01242006e-01, -3.67708728e-02, -2.63169944e-01, -3.62179697e-01,\n        -9.13598910e-02,  1.67710528e-01, -2.11526826e-02, -1.11426681e-01,\n         6.67472854e-02, -1.61922574e-01,  1.22039042e-01,  2.49185503e-01,\n         1.38403833e-01, -1.69877112e-02, -4.38781306e-02,  2.93211378e-02,\n        -4.56852876e-02, -1.20405123e-01, -1.15593120e-01,  1.10635296e-01,\n        -1.34011805e-01,  5.09161167e-02,  1.33762822e-01, -1.83724210e-01,\n         1.85895205e-01,  8.56394023e-02, -5.62155619e-02,  1.53551409e-02,\n         4.19056922e-01, -1.22094668e-01, -1.98850304e-01, -8.96527618e-02,\n         4.20794124e-03, -6.55935705e-02, -1.86322168e-01,  1.13987908e-01,\n         3.50094140e-02,  6.29495457e-02, -3.19819182e-01, -3.57518733e-01,\n         6.17125072e-02, -1.47153053e-03,  2.13664189e-01, -1.38830274e-01,\n        -2.28990585e-01, -9.93671566e-02,  8.25516805e-02,  6.41431510e-02,\n        -2.59709597e-01, -1.48092240e-01,  1.38121158e-01,  1.15283281e-01,\n        -2.01369058e-02,  1.57074332e-01,  3.79158207e-03, -6.79050833e-02,\n        -1.73838496e-01,  1.13401227e-01,  1.05510131e-01, -1.32102191e-01,\n         7.21746981e-02, -6.61671385e-02, -9.24736708e-02, -2.11559385e-01,\n        -1.64459020e-01,  3.91172409e-01,  1.98832899e-01, -6.34787977e-02,\n         2.26865068e-01, -2.96621591e-01, -3.65688577e-02, -1.46732062e-01,\n         1.81790233e-01,  1.51771037e-02, -1.95931301e-01, -3.42570134e-02,\n        -1.64177254e-01, -4.24980326e-03,  1.78076014e-01,  2.36527696e-01,\n         7.41160288e-02,  9.05710086e-02, -2.90494949e-01,  7.11196661e-02,\n        -3.54096055e-01, -2.34401509e-01, -3.00578922e-01, -6.05491064e-02,\n         1.21382989e-01,  2.56266668e-02,  7.14444071e-02,  1.26847476e-01,\n         5.39994895e-01, -2.53552645e-01, -4.54804953e-03,  4.26212311e-01,\n        -1.04591168e-01,  1.71731919e-01, -1.72610268e-01,  2.02983648e-01,\n         5.23599051e-02, -1.96104348e-01,  7.90004805e-02,  1.09411642e-01,\n        -1.04141906e-01,  1.18197933e-01,  2.97013205e-03, -2.01078728e-02,\n        -1.15338415e-01,  2.93549985e-01, -7.88199380e-02,  1.59043312e-01,\n        -1.96244568e-01,  1.17351949e-01, -2.06559338e-02,  2.51499354e-03,\n        -7.42963031e-02,  1.91789225e-01,  5.69385439e-02, -1.51574358e-01,\n        -1.07793786e-01,  7.35342205e-02, -2.15759009e-01, -1.91684350e-01],\n       dtype=float32),\n '/BERT_encoder/transformer/layer_3/self_attention/attention_output/kernel:0': array([[[-0.05483134,  0.0100209 , -0.11656534, ..., -0.0445701 ,\n           0.0602293 , -0.03701419],\n         [-0.03969804,  0.02928704,  0.1133068 , ..., -0.03196478,\n          -0.09950189, -0.02762789],\n         [-0.11680763, -0.04683995, -0.04805386, ..., -0.01208375,\n          -0.07279027, -0.00700195],\n         ...,\n         [-0.04811333,  0.00981685, -0.03477352, ..., -0.07332089,\n          -0.00177391,  0.02007425],\n         [ 0.01261286, -0.02524269, -0.02471432, ...,  0.01164152,\n           0.05521411, -0.04290292],\n         [ 0.03202314, -0.09285071, -0.00038947, ..., -0.0879302 ,\n          -0.06267943,  0.04370991]],\n \n        [[-0.07224555, -0.05236704, -0.03316465, ...,  0.02796153,\n          -0.01175366, -0.07352833],\n         [ 0.04548912,  0.13330594, -0.05127728, ..., -0.09521056,\n           0.23016195,  0.16114572],\n         [ 0.07718865,  0.10598522, -0.01970996, ..., -0.09374091,\n          -0.07152358, -0.10192624],\n         ...,\n         [ 0.06777965,  0.02107169, -0.02276609, ...,  0.03052084,\n          -0.05210472,  0.09150682],\n         [-0.01650313,  0.00072717, -0.0139608 , ..., -0.06999218,\n           0.01546315, -0.10206471],\n         [ 0.13939951,  0.13694549,  0.06573781, ...,  0.00362435,\n          -0.04734931,  0.06868054]],\n \n        [[ 0.04473544,  0.04892643, -0.0874851 , ..., -0.12457486,\n           0.03222615, -0.01334897],\n         [ 0.04016514,  0.18260281, -0.14244731, ..., -0.03994642,\n           0.09270203,  0.03123124],\n         [-0.09038731, -0.1923207 ,  0.0281338 , ...,  0.05385539,\n           0.11785818, -0.09630787],\n         ...,\n         [ 0.02504377,  0.04346748, -0.00769462, ...,  0.05678556,\n           0.01234189,  0.04175375],\n         [-0.0521443 ,  0.02407241,  0.03628699, ...,  0.03645857,\n          -0.11083217, -0.11235808],\n         [ 0.05737706, -0.02619935,  0.00663808, ...,  0.00568687,\n           0.07188246, -0.04247867]],\n \n        ...,\n \n        [[-0.19059084, -0.004943  ,  0.01417937, ...,  0.05286486,\n           0.02912612, -0.02066738],\n         [-0.02018745,  0.06183661,  0.16092227, ..., -0.06049222,\n           0.13793328, -0.03588241],\n         [-0.14487405,  0.11654976,  0.14523035, ...,  0.09424094,\n           0.04759762, -0.02532575],\n         ...,\n         [-0.06401569,  0.06115895,  0.09970082, ..., -0.14293969,\n           0.05628701,  0.1027366 ],\n         [ 0.01426988, -0.01531816,  0.13327444, ...,  0.08165346,\n           0.09312982, -0.09911508],\n         [-0.02636006,  0.03164526, -0.01356189, ...,  0.146537  ,\n          -0.07018948,  0.16523899]],\n \n        [[ 0.18271898, -0.05202094,  0.00676007, ...,  0.00904719,\n          -0.00918218, -0.02715534],\n         [-0.06976308, -0.08077529, -0.1093143 , ..., -0.04038164,\n           0.05874363,  0.13774212],\n         [-0.02082703,  0.19714154,  0.00992736, ...,  0.00412077,\n           0.12402675,  0.02831777],\n         ...,\n         [-0.05287021,  0.01906232,  0.01541507, ..., -0.02980489,\n           0.13166238, -0.00889568],\n         [ 0.03967993, -0.06073526,  0.04018364, ...,  0.11672118,\n           0.11459708,  0.09303385],\n         [-0.00310721, -0.01181263, -0.00822117, ...,  0.21595654,\n           0.12602293, -0.04622218]],\n \n        [[-0.00520609, -0.04701946,  0.01575111, ..., -0.03693399,\n           0.00640787,  0.02997307],\n         [-0.03696983, -0.04222153,  0.04405794, ...,  0.05898825,\n          -0.00094028,  0.08700551],\n         [ 0.12985727,  0.08304167,  0.07101864, ..., -0.05092698,\n           0.03768038,  0.00580942],\n         ...,\n         [-0.03994644, -0.02341252,  0.07890209, ...,  0.00183671,\n           0.01438302, -0.03731049],\n         [ 0.07689645,  0.00503883,  0.01063367, ...,  0.00493596,\n           0.05245104,  0.00523701],\n         [ 0.04765902,  0.02973575,  0.03065342, ..., -0.02985403,\n           0.04525695,  0.01045613]]], dtype=float32),\n '/BERT_encoder/transformer/layer_3/self_attention/key/bias:0': array([[ 0.01585934, -0.02184053, -0.01980351, -0.03696362,  0.00942352,\n          0.00791187, -0.05052146, -0.03162661, -0.00853054, -0.0091939 ,\n          0.00544942,  0.04392267, -0.00623972, -0.02985233,  0.0259091 ,\n         -0.04839591,  0.02333485, -0.0120514 , -0.02511292,  0.00121325,\n         -0.01445401,  0.02856081,  0.01698055, -0.05294533, -0.01228128,\n          0.00085936, -0.01287451, -0.03417602, -0.03918991,  0.04019925,\n          0.02287865,  0.01549526, -0.03912892, -0.04027196, -0.01054114,\n         -0.02386704,  0.06865355, -0.00697253,  0.06862731, -0.04228968,\n         -0.05202413, -0.00996654, -0.05476736, -0.00821292,  0.01442959,\n          0.03298343, -0.00191888, -0.00221223,  0.05880408, -0.02623617,\n          0.0360109 ,  0.00713352,  0.00225643,  0.01445778, -0.04331927,\n         -0.0539867 ,  0.01580464, -0.02926828,  0.02625538, -0.04009735,\n         -0.00674263, -0.0140775 , -0.01152778,  0.00438741],\n        [-0.02801352,  0.05190694,  0.01114024, -0.05851594, -0.03739251,\n          0.00892455,  0.01754271,  0.02196912, -0.01879375, -0.02352548,\n          0.05666601, -0.02383448,  0.07607993, -0.00695668,  0.04097446,\n          0.02946685,  0.03833511, -0.00783961, -0.01779094, -0.01617344,\n         -0.02625552,  0.05881557, -0.05096437, -0.02530353, -0.0625419 ,\n         -0.00906145, -0.04349871, -0.04213621, -0.02761871, -0.01445604,\n         -0.00316588, -0.00101557,  0.00767736, -0.00708723,  0.01185221,\n          0.02448082, -0.02135037, -0.03633843,  0.00422943,  0.05142989,\n         -0.03540424,  0.01300913, -0.03501992, -0.00629371,  0.02254516,\n          0.01666098, -0.0405541 ,  0.003468  ,  0.01300903, -0.06013419,\n         -0.01587373, -0.04121675,  0.03296994, -0.00366842, -0.01515469,\n          0.02274479,  0.03916969, -0.02965094,  0.04897923,  0.01299719,\n          0.0166891 , -0.00049882, -0.0645246 ,  0.04114617],\n        [-0.07804822, -0.03429494,  0.08296154, -0.05902484, -0.02098549,\n          0.04711056, -0.01806935,  0.03720559, -0.01635796,  0.01153209,\n          0.03776488, -0.01383219, -0.01691095, -0.00526033, -0.06074051,\n          0.0024156 , -0.02714418,  0.0206453 ,  0.017683  , -0.04445146,\n         -0.11633321, -0.02894112, -0.00311608,  0.01853202,  0.03993443,\n          0.13122357, -0.01030469,  0.03555475,  0.01849525,  0.02325001,\n         -0.00326132,  0.01104254,  0.04888461,  0.02278138, -0.01777375,\n         -0.01023112,  0.06430794,  0.09892236,  0.03624238, -0.03708151,\n         -0.03790719, -0.03039668, -0.00160933,  0.00980614,  0.06309247,\n         -0.02636696, -0.0050399 ,  0.01719979, -0.05681162, -0.01995454,\n         -0.01528965,  0.04526799,  0.00886693, -0.01182575, -0.00229336,\n         -0.01121452,  0.06590851, -0.02777651,  0.0162058 , -0.02448359,\n          0.0380606 , -0.0159741 ,  0.0057897 , -0.01826235],\n        [ 0.05743917, -0.04773454, -0.08308939, -0.0165655 , -0.11126995,\n         -0.07084786,  0.01835113,  0.00341476, -0.06098137,  0.00033602,\n          0.04613931,  0.01951393,  0.01732219,  0.03077514, -0.00747319,\n          0.02693816,  0.03058385, -0.0369987 ,  0.03262663, -0.05586712,\n         -0.03552792, -0.03616578, -0.0399711 , -0.02964002, -0.01690034,\n         -0.07161297, -0.05211176, -0.01535022,  0.06470133, -0.02418625,\n         -0.03536675,  0.02897707, -0.0164733 ,  0.04082032, -0.06394236,\n         -0.06328407,  0.01117921,  0.04542877, -0.00422912,  0.00171772,\n         -0.0468271 ,  0.00463249, -0.00245493, -0.04833924,  0.03484049,\n          0.01374519,  0.02122603, -0.0024268 ,  0.0044116 ,  0.08286294,\n         -0.05387624,  0.02347591,  0.04404007,  0.02544743, -0.04468852,\n         -0.01379619,  0.01475007,  0.003681  , -0.00730548, -0.0152677 ,\n         -0.00692743,  0.0219436 ,  0.04896919,  0.02567069],\n        [-0.0654401 , -0.02001045, -0.01480965,  0.00862002, -0.05202395,\n         -0.02535217, -0.00753356,  0.07191908, -0.02091301,  0.02062712,\n         -0.0006025 , -0.03487315, -0.01180804, -0.0148037 ,  0.01873954,\n         -0.01616953, -0.0422753 ,  0.02745158,  0.02055133, -0.04307245,\n         -0.00372684, -0.00724479,  0.04062565, -0.00243044, -0.0748549 ,\n          0.05332927, -0.01049585,  0.06967536,  0.01177802,  0.00789423,\n         -0.03534087,  0.0342614 ,  0.04977413, -0.04044422, -0.01576319,\n          0.03321302,  0.00624448,  0.03799185, -0.05789515,  0.01371451,\n         -0.02319155,  0.04165353,  0.00950206,  0.03775601, -0.05165885,\n         -0.03231324,  0.0352608 ,  0.01739181,  0.03761574,  0.07279837,\n          0.01062316, -0.0287922 , -0.04172908, -0.07152961,  0.00494181,\n         -0.03204857,  0.02571146,  0.01981772,  0.0450655 , -0.06491587,\n         -0.01702666,  0.08436643, -0.03572282, -0.00922123],\n        [ 0.03743776, -0.06776725, -0.0482764 , -0.01820711,  0.0606581 ,\n         -0.00845144,  0.02192366,  0.01583715, -0.05545181,  0.01581546,\n         -0.04598921, -0.03725955,  0.0827954 ,  0.02995206, -0.04451002,\n         -0.04116655, -0.01766315,  0.05551799,  0.00766028, -0.00181205,\n         -0.05054612,  0.03309184, -0.01754484,  0.0086209 , -0.04113576,\n         -0.03359704,  0.03298231, -0.00438624, -0.02588588,  0.04625582,\n          0.02815748,  0.00173661, -0.00041217,  0.00539389,  0.001684  ,\n         -0.02239253, -0.07697386,  0.06026643, -0.04053912,  0.10141921,\n          0.00136259,  0.07240176, -0.03038021, -0.07459652, -0.00376898,\n          0.0288789 , -0.05731885, -0.03111234, -0.01412527,  0.00959193,\n         -0.01717757, -0.01070711, -0.00373363,  0.06649677,  0.07223413,\n          0.04977547, -0.01385733,  0.06230777, -0.0039753 , -0.05580642,\n         -0.00507806, -0.06677275, -0.02919186, -0.00798968],\n        [-0.02774364, -0.02819317, -0.0362066 ,  0.03172717,  0.03150518,\n         -0.07343578,  0.0244297 ,  0.06219372,  0.03909164, -0.01129276,\n         -0.02787692,  0.01413787, -0.03181359,  0.01392153, -0.01383932,\n          0.00178631,  0.01514477,  0.01347184, -0.01446594,  0.03090638,\n          0.03938826, -0.05300916, -0.0110266 ,  0.00683193, -0.00383412,\n          0.0057474 ,  0.01769921,  0.01688347, -0.02201663,  0.02203794,\n          0.02577671, -0.00294659,  0.0414201 , -0.02842258, -0.0339818 ,\n         -0.00376261,  0.01626976,  0.00367077, -0.03796696,  0.01509369,\n          0.03508751, -0.01721844, -0.0006412 ,  0.03761765,  0.00446924,\n         -0.03361708,  0.00609739, -0.00513306, -0.0202266 ,  0.00973771,\n          0.0308227 , -0.04440163,  0.02184619,  0.00389042, -0.02246024,\n         -0.06311315,  0.01314696, -0.04045772,  0.03911337,  0.01570216,\n          0.01609375,  0.04717724,  0.01814413, -0.01956299],\n        [-0.00870207, -0.02291478,  0.003765  , -0.0059387 , -0.01328544,\n         -0.02000139, -0.00172626,  0.0111135 , -0.00602692,  0.02552773,\n          0.00677575, -0.02483477, -0.03932894, -0.01400366, -0.00132152,\n         -0.00932469, -0.02925836,  0.00179373, -0.03403433, -0.01460594,\n          0.02459185,  0.02819042,  0.02758054,  0.00252689,  0.00169858,\n          0.00383984,  0.02743029, -0.02868846, -0.03884104,  0.01283274,\n         -0.0169784 , -0.02410442, -0.00115996, -0.01044873,  0.08958618,\n          0.00151887, -0.02105407,  0.01530354,  0.02617767, -0.02286901,\n          0.01114319,  0.00232988, -0.04054281,  0.01146402, -0.03267049,\n          0.00555231, -0.02004983, -0.0279158 ,  0.04134862, -0.0175339 ,\n          0.01203992, -0.03822895, -0.02631512,  0.01693703,  0.00215577,\n          0.00423544, -0.02808866, -0.00284486, -0.00349327, -0.04009448,\n          0.05310738,  0.01812379, -0.01335298, -0.07508022]],\n       dtype=float32),\n '/BERT_encoder/transformer/layer_3/self_attention/key/kernel:0': array([[[-0.03181466, -0.0638177 , -0.04836499, ...,  0.05625907,\n          -0.03328064,  0.05772834],\n         [ 0.07527646,  0.06060139, -0.03501695, ..., -0.00693866,\n          -0.01102847, -0.03064512],\n         [ 0.01906046,  0.00446483,  0.03135128, ...,  0.01218395,\n          -0.00062677,  0.01644975],\n         ...,\n         [-0.03367422,  0.0014821 , -0.01051939, ..., -0.02624873,\n           0.0213791 ,  0.03063137],\n         [-0.0507983 , -0.0435393 , -0.02797889, ..., -0.01626755,\n           0.00801467, -0.01341972],\n         [ 0.05336643, -0.04972947, -0.01995308, ..., -0.01194941,\n          -0.02004168, -0.01930804]],\n \n        [[-0.0548481 , -0.01080178,  0.00892796, ..., -0.00674559,\n           0.04098037, -0.07531484],\n         [-0.00846508,  0.02678977,  0.08495142, ...,  0.02235935,\n          -0.0115167 , -0.06215061],\n         [-0.02674318, -0.00787167,  0.00164379, ..., -0.04358937,\n          -0.07248032,  0.00279427],\n         ...,\n         [-0.02290804,  0.0211685 ,  0.02387614, ..., -0.04835902,\n           0.08988859, -0.0057532 ],\n         [ 0.07818284, -0.01770722, -0.05099973, ...,  0.01420023,\n           0.02521428, -0.00657319],\n         [ 0.04328474, -0.0070455 , -0.05239183, ..., -0.01325487,\n          -0.09624568, -0.04638195]],\n \n        [[ 0.03488544,  0.00426388,  0.0776641 , ..., -0.0097193 ,\n          -0.00809779,  0.10624956],\n         [-0.01645948,  0.06630693,  0.011409  , ...,  0.02341092,\n           0.04505287,  0.0177302 ],\n         [ 0.0280866 , -0.01461432,  0.03977792, ...,  0.0795458 ,\n           0.02330135,  0.01049277],\n         ...,\n         [-0.04689217,  0.00098307, -0.00966956, ..., -0.03612418,\n           0.06408992,  0.04182357],\n         [-0.0966602 ,  0.00638456, -0.00422092, ...,  0.02084498,\n          -0.02930451, -0.01802657],\n         [ 0.08377819, -0.04929665, -0.07323965, ...,  0.05090771,\n          -0.00147535,  0.03004715]],\n \n        ...,\n \n        [[ 0.0050661 , -0.00498196, -0.0489836 , ...,  0.01936163,\n          -0.07057261,  0.08546882],\n         [ 0.04724667, -0.01173317,  0.01487196, ..., -0.04680398,\n          -0.00601832,  0.01141324],\n         [-0.03892163, -0.03184423,  0.07500913, ...,  0.06389834,\n          -0.0128602 , -0.02003581],\n         ...,\n         [-0.01632809, -0.08469131, -0.0724052 , ..., -0.03630596,\n           0.04446373,  0.02490221],\n         [-0.06428303, -0.04096293, -0.00754787, ..., -0.07442605,\n          -0.08997274,  0.01105172],\n         [-0.06922387, -0.00419989,  0.03391223, ...,  0.05097752,\n          -0.00323207, -0.01438628]],\n \n        [[-0.03336475,  0.00887919,  0.03909599, ..., -0.04737928,\n          -0.03769346,  0.02306683],\n         [-0.02099398, -0.01992865, -0.05126153, ...,  0.02329835,\n           0.00067371, -0.05738132],\n         [-0.0358945 ,  0.00160368,  0.01891236, ...,  0.04972449,\n           0.02877306,  0.00169455],\n         ...,\n         [-0.01954661,  0.02439563,  0.02153534, ...,  0.02213119,\n           0.02082151, -0.00188308],\n         [-0.02070752,  0.04424839, -0.03960561, ...,  0.05417765,\n          -0.09885734, -0.0067838 ],\n         [-0.01693078, -0.05387076,  0.01950306, ..., -0.0407926 ,\n           0.04868105, -0.12642096]],\n \n        [[-0.04568907,  0.01347897,  0.0126433 , ...,  0.0611698 ,\n          -0.06390416, -0.00327457],\n         [-0.01570497, -0.04507253,  0.03616441, ..., -0.03273153,\n          -0.0033072 ,  0.0595313 ],\n         [ 0.05856165,  0.02217137, -0.05338464, ..., -0.09966502,\n           0.01457746,  0.05398592],\n         ...,\n         [-0.00929226,  0.04787077,  0.02884458, ...,  0.01315425,\n           0.03822348,  0.01613872],\n         [ 0.0177415 ,  0.02545138,  0.0211203 , ...,  0.05932409,\n          -0.06203561, -0.01218534],\n         [-0.01292118,  0.07991627,  0.03237481, ..., -0.01604846,\n           0.02582097, -0.00541048]]], dtype=float32),\n '/BERT_encoder/transformer/layer_3/self_attention/query/bias:0': array([[-3.73088419e-01,  1.15468472e-01, -1.31636383e-02,\n         -1.07165694e-01, -9.54701751e-02, -4.14649904e-01,\n          3.52209136e-02, -1.78685844e-01, -4.98339199e-02,\n         -2.97433622e-02, -3.39796953e-02, -5.89660332e-02,\n         -8.19174573e-02,  2.91901231e-01,  2.04058681e-02,\n          1.42261192e-01, -2.07219824e-01,  3.54232043e-02,\n          1.21970013e-01,  3.15737613e-02, -1.89841464e-01,\n         -2.60678411e-01,  4.13040742e-02,  1.32264689e-01,\n          2.13474661e-01,  4.25482728e-02,  1.15857512e-01,\n         -1.38033599e-01, -7.42070726e-04,  6.26019537e-02,\n         -1.60612479e-01,  4.76429015e-02,  3.18012089e-01,\n         -1.61065891e-01,  9.89444181e-02, -1.33167699e-01,\n          7.90704507e-03,  1.17203258e-01,  4.00221050e-02,\n          2.48949662e-01,  7.08182529e-02, -6.40973970e-02,\n          7.78103247e-02,  9.09376591e-02, -1.79050565e-01,\n         -1.69357985e-01,  2.05340102e-01,  3.23532104e-01,\n         -1.83862224e-01, -1.03301659e-01, -1.30952090e-01,\n          1.44540370e-01,  7.03857020e-02, -2.60792323e-03,\n          3.73116821e-01, -1.08445719e-01,  7.66931325e-02,\n         -1.99217841e-01,  1.13238998e-01,  2.07346186e-01,\n         -2.73385141e-02, -7.31697446e-03,  1.25384539e-01,\n          1.03424951e-01],\n        [ 1.12943813e-01,  1.95873141e-01, -3.30524027e-01,\n         -1.68807000e-01, -5.86277619e-02,  2.23188385e-01,\n         -2.92433828e-01,  2.90326089e-01,  1.41719460e-01,\n         -2.48633325e-01,  2.89428443e-01, -1.53888017e-01,\n          4.21257019e-01, -5.05824864e-01, -2.49460325e-01,\n          2.94480491e-02,  2.77047783e-01, -1.95932761e-02,\n          7.36088604e-02,  1.36538461e-01, -1.65273950e-01,\n          3.03814232e-01,  2.20612064e-02, -1.25102654e-01,\n          2.17571303e-01,  5.62662892e-02, -2.05395639e-01,\n         -4.08310294e-01, -2.02363461e-01,  8.00996348e-02,\n          8.69432017e-02, -8.55443925e-02, -6.62029758e-02,\n         -2.77983963e-01, -7.13977963e-02,  1.36824613e-02,\n          3.47555786e-01, -1.64512441e-01,  3.19452304e-03,\n          3.04714054e-01, -2.92798907e-01, -3.33535850e-01,\n          3.07568640e-01,  1.24269864e-02,  2.08382607e-02,\n         -1.25017270e-01,  3.09881836e-01,  4.05582905e-01,\n          1.44001916e-02, -5.01638770e-01, -3.36259305e-01,\n         -4.19418626e-02, -2.71790355e-01,  1.56587392e-01,\n          4.78045285e-01,  1.08836144e-01, -1.73004195e-01,\n          2.94722527e-01,  3.09155971e-01, -1.59146488e-01,\n          2.44391769e-01,  2.34313101e-01,  3.71457666e-01,\n          2.26961568e-01],\n        [ 1.71134338e-01,  1.22893073e-01, -1.69764712e-01,\n         -2.54996032e-01,  1.90701425e-01,  1.71551347e-01,\n         -7.50837252e-02,  2.58187681e-01,  1.49347886e-01,\n         -7.22783804e-02,  7.41106551e-03, -8.46063867e-02,\n         -1.47245571e-01,  2.24196300e-01,  7.06918463e-02,\n          1.55311853e-01, -8.64195600e-02,  2.60010868e-01,\n         -1.06547944e-01,  2.24734381e-01,  1.09224781e-01,\n         -2.07232252e-01, -2.83347517e-01,  2.59203106e-01,\n          2.27964506e-01, -1.35250807e-01,  2.96785850e-02,\n         -1.26393493e-02, -3.54243547e-01,  1.22196175e-01,\n          3.15998048e-02, -2.27149189e-01, -1.64412498e-01,\n          2.39470899e-01, -2.05769405e-01,  7.86539465e-02,\n         -4.05931287e-02,  5.84062599e-02,  7.26371855e-02,\n          4.71702553e-02, -3.22174013e-01, -6.13017976e-02,\n          1.59158111e-01,  2.01433018e-01, -2.00240299e-01,\n          1.16008215e-01, -2.12412521e-01,  5.03429808e-02,\n          5.88687770e-02,  2.10835516e-01, -3.50438282e-02,\n          2.55625933e-01, -4.11048196e-02,  4.05656686e-03,\n          2.37131655e-01, -1.57204375e-01,  4.60000671e-02,\n          3.83695029e-02,  1.81592032e-01, -1.44118173e-02,\n          3.41307335e-02,  5.03665842e-02, -1.92499325e-01,\n          1.22528754e-01],\n        [ 2.35341564e-01,  1.71200931e-02, -2.53226101e-01,\n          1.63025066e-01, -4.50832434e-02, -2.96292096e-01,\n          2.61741281e-01, -6.16279058e-02, -1.06522404e-01,\n          1.06042609e-01,  5.57590872e-02, -1.31350040e-01,\n          5.07479021e-03, -2.21097678e-01,  2.04800405e-02,\n         -3.95692550e-02, -6.45309761e-02, -5.34992153e-03,\n          1.28674805e-01, -9.50828101e-03, -2.42347628e-01,\n         -1.80938214e-01, -2.57707983e-01, -1.39243096e-01,\n          9.68097225e-02, -2.10491732e-01, -2.84188628e-01,\n         -1.13892384e-01,  2.58826226e-01, -1.05770744e-01,\n          3.72631922e-02,  2.08181247e-01, -1.39574185e-01,\n         -1.93171248e-01, -1.53274268e-01, -1.42415673e-01,\n          9.80749261e-04,  1.59440026e-01, -1.52108232e-02,\n         -1.56885862e-01,  2.03636643e-02,  2.57534697e-03,\n          2.63076693e-01, -2.64030814e-01, -2.14778166e-02,\n          1.73697948e-01, -7.28830248e-02, -2.66508032e-02,\n         -6.35162741e-02,  2.32310250e-01, -1.76306814e-01,\n          1.01363525e-01, -1.64250061e-02,  2.18176320e-01,\n          6.34823740e-02, -1.62968442e-01,  9.48087350e-02,\n         -1.11699037e-01,  2.57560308e-03,  3.65493856e-02,\n         -4.02049646e-02,  1.87422521e-02,  2.51923203e-01,\n          2.04849318e-01],\n        [-1.00937434e-01,  2.16192871e-01,  2.42477600e-02,\n         -3.39185119e-01, -1.77331790e-01,  2.62330592e-01,\n         -2.16760710e-01, -1.88916564e-01,  4.13921595e-01,\n         -4.62955656e-03, -2.77843803e-01, -3.09558529e-02,\n         -1.41345873e-01,  2.93666393e-01, -2.68741280e-01,\n          4.75543201e-01,  5.74623704e-01, -3.16154622e-02,\n         -2.53155708e-01, -6.46650270e-02,  4.42879461e-02,\n          3.29990417e-01, -3.74048293e-01,  2.14521468e-01,\n          2.89910376e-01, -1.16462305e-01, -2.54420072e-01,\n         -3.73569399e-01, -3.30981240e-02,  6.28596395e-02,\n         -8.84868577e-02,  6.81508258e-02, -3.93027306e-01,\n         -2.83535361e-01, -7.68894926e-02, -3.80358733e-02,\n          2.60131150e-01, -1.34299785e-01,  2.41003275e-01,\n         -2.77420551e-01, -2.76102096e-01, -8.11731257e-03,\n         -2.56478578e-01, -3.32087606e-01,  8.97970200e-02,\n          3.87484401e-01, -4.35923636e-01,  2.04023302e-01,\n         -2.23547697e-01, -2.74195075e-01, -2.17334121e-01,\n         -1.02436222e-01,  4.05715972e-01,  2.24749014e-01,\n         -1.40569940e-01,  2.47662440e-01, -3.33500624e-01,\n         -4.64982212e-01, -3.15683186e-01, -3.68079320e-02,\n          1.22476935e-01, -2.73591280e-01, -8.01073238e-02,\n          2.70746201e-01],\n        [ 1.24115096e-02, -1.25005050e-02,  1.47797316e-01,\n          1.25771418e-01, -3.09930630e-02,  8.90299007e-02,\n         -1.67884082e-02,  1.16375051e-02,  3.87397334e-02,\n         -1.39830401e-02, -5.90090416e-02, -4.21003886e-02,\n         -2.27352828e-02, -2.57214922e-02,  4.75645922e-02,\n         -9.98314396e-02, -6.07559793e-02,  3.60572226e-02,\n          2.11236533e-02, -1.02151826e-01,  4.64491807e-02,\n          9.63869914e-02,  2.61877049e-02, -1.70295220e-02,\n          6.44039828e-03,  1.09471399e-02,  6.01013675e-02,\n          2.58081146e-02, -1.17927931e-01,  4.41815667e-02,\n          8.93416032e-02,  7.91633278e-02, -5.58787771e-03,\n         -2.78894715e-02, -2.29574695e-01, -1.61044508e-01,\n         -1.35300189e-01,  1.73054278e-01, -3.61085534e-02,\n          9.56319496e-02, -5.97677417e-02,  1.59578577e-01,\n         -4.99568209e-02, -1.17699169e-01,  1.02069207e-01,\n          3.77461612e-02, -1.35694683e-01, -1.70176595e-01,\n         -1.19006997e-02,  1.40304863e-02,  2.17314735e-01,\n          1.96673900e-01,  5.11051118e-02,  3.56693491e-02,\n          3.67241539e-02,  3.13413739e-02,  5.30362129e-02,\n          7.02884793e-02,  1.57866061e-01, -5.08967936e-02,\n          7.94088989e-02, -1.57590359e-01, -1.04882225e-01,\n         -1.44566670e-01],\n        [-4.85277921e-02, -6.71018064e-02,  2.63597704e-02,\n         -1.60945840e-02,  2.54128817e-02,  4.30145897e-02,\n         -8.86163116e-02,  3.50914672e-02,  4.91066091e-03,\n         -3.67679284e-03, -3.29929776e-02, -7.30565563e-02,\n         -3.06399167e-02,  1.46898557e-03, -2.10597389e-03,\n          1.20713204e-01,  4.79604825e-02, -1.49490535e-02,\n         -3.26635763e-02,  3.11649535e-02, -5.02922684e-02,\n         -1.10449828e-01,  1.80900767e-02,  4.44938632e-05,\n         -2.69149523e-02, -6.18341044e-02, -5.52869728e-03,\n         -1.26416171e-02, -1.12488829e-01, -1.29340747e-02,\n         -2.68267989e-02, -1.63669158e-02, -2.26903465e-02,\n          2.03114916e-02, -5.30496314e-02, -4.63615060e-02,\n          1.52104478e-02, -1.00640699e-01,  6.27569854e-02,\n          2.19560135e-02, -2.82610059e-02,  4.82573770e-02,\n          5.54441661e-02,  1.99553538e-02, -1.20660430e-02,\n          9.76281799e-03,  1.19389258e-02, -4.09830287e-02,\n         -4.11130898e-02, -7.73637136e-03,  2.91964747e-02,\n         -2.52533015e-02, -3.19954939e-02, -1.46070477e-02,\n          4.66558672e-02,  5.06973825e-02, -7.03110844e-02,\n          4.70838472e-02,  6.59510195e-02,  1.27021372e-02,\n         -7.07647726e-02, -2.95835789e-02, -4.96654436e-02,\n         -7.72366440e-03],\n        [-2.15840578e-01, -1.61171108e-02,  1.69865860e-04,\n          1.61695480e-01, -2.27832586e-01, -1.93758570e-02,\n          4.26720977e-02, -1.24111846e-01,  1.62374049e-01,\n         -3.90947191e-03, -1.45290911e-01, -6.86927289e-02,\n          1.12139799e-01,  2.97650192e-02, -1.88910663e-01,\n         -8.22794139e-02, -1.98648557e-01,  2.47919798e-01,\n          2.03541517e-01, -2.17533056e-02, -6.17136657e-02,\n         -4.70391326e-02,  2.65467584e-01,  1.52185038e-01,\n         -7.44980499e-02,  4.23671082e-02,  1.50583714e-01,\n         -1.58799067e-01,  3.80385146e-02,  1.65088190e-04,\n         -7.60140866e-02, -2.25846082e-01, -1.50656588e-02,\n         -8.08214918e-02, -9.06355456e-02, -3.75575870e-02,\n         -1.13518238e-01, -7.93750733e-02,  4.46840562e-02,\n          1.45428985e-01,  1.52797997e-01, -9.13332105e-02,\n         -3.37161049e-02,  1.34604335e-01, -1.48186296e-01,\n          2.70414174e-01, -1.29678190e-01, -1.89665854e-01,\n         -6.45280257e-02,  3.08853872e-02,  7.82393366e-02,\n          1.48370862e-01,  9.54796821e-02, -5.63434213e-02,\n          1.05066322e-01,  4.94032875e-02, -8.70408192e-02,\n          2.84704894e-01,  7.11860806e-02, -1.27435301e-03,\n          8.52189958e-02, -7.09119439e-02, -8.92933551e-03,\n          2.02262089e-01]], dtype=float32),\n '/BERT_encoder/transformer/layer_3/self_attention/query/kernel:0': array([[[-0.02355118,  0.03810834, -0.06483478, ..., -0.03675978,\n          -0.10917864, -0.03002524],\n         [ 0.10375582,  0.06577011, -0.00783464, ..., -0.01308608,\n           0.01202925, -0.0051177 ],\n         [-0.0131349 ,  0.00856547, -0.04748666, ...,  0.08640371,\n           0.00806165, -0.02877542],\n         ...,\n         [-0.034113  , -0.0015679 , -0.02330527, ..., -0.03725966,\n           0.01071918,  0.08511615],\n         [ 0.00575023, -0.10373206,  0.02047758, ..., -0.06606484,\n           0.07009228,  0.01913608],\n         [-0.01078118,  0.11073267,  0.00985386, ...,  0.10034158,\n          -0.05685674,  0.00661626]],\n \n        [[ 0.00533046, -0.0642632 ,  0.00890896, ...,  0.04113193,\n           0.00564702,  0.09961875],\n         [-0.01329432,  0.07202526,  0.08279583, ...,  0.01523506,\n          -0.03245152, -0.08033675],\n         [ 0.00864233, -0.095638  ,  0.0009628 , ...,  0.05565771,\n          -0.09508621, -0.00715156],\n         ...,\n         [-0.09142115, -0.08564951,  0.04581733, ...,  0.02537203,\n           0.09954076, -0.04150223],\n         [-0.00560888, -0.06257668, -0.06032033, ...,  0.0339019 ,\n          -0.02605194, -0.05900873],\n         [-0.08934499, -0.01082146, -0.09397735, ...,  0.18532534,\n          -0.07629143, -0.01891026]],\n \n        [[ 0.07389307, -0.06849145,  0.05318993, ..., -0.07536742,\n           0.03160949, -0.00648566],\n         [ 0.01206453,  0.01205169, -0.01455702, ...,  0.04538799,\n          -0.02995955, -0.07722364],\n         [ 0.06183548, -0.01375071, -0.04970758, ..., -0.00023221,\n          -0.06919561,  0.04136544],\n         ...,\n         [ 0.0136212 , -0.03023576,  0.00722726, ..., -0.13576299,\n           0.07608534,  0.03930801],\n         [ 0.03494644,  0.01483509,  0.0404935 , ...,  0.03460797,\n          -0.0291728 ,  0.0219711 ],\n         [-0.09037102,  0.01487226,  0.02548135, ..., -0.01163149,\n           0.05992008,  0.01520846]],\n \n        ...,\n \n        [[-0.00939286, -0.01605059,  0.00436728, ...,  0.08083588,\n           0.00554444, -0.03118957],\n         [ 0.00279339, -0.10737996,  0.02245963, ..., -0.00184929,\n          -0.02038371, -0.06704281],\n         [ 0.01328127, -0.00738254, -0.0089144 , ...,  0.05330962,\n           0.00904155,  0.02298351],\n         ...,\n         [ 0.00590867, -0.02429649,  0.02469227, ...,  0.02379836,\n          -0.0276846 , -0.00895976],\n         [-0.05098617, -0.07158613,  0.00615036, ...,  0.03697659,\n          -0.01056676, -0.06325796],\n         [-0.01623709, -0.00462446, -0.13650253, ...,  0.11142338,\n           0.02239914,  0.02433762]],\n \n        [[ 0.01605229,  0.06340341,  0.10504547, ..., -0.03269071,\n           0.00272222,  0.00502181],\n         [-0.04666704, -0.02709654, -0.07511581, ...,  0.04899003,\n          -0.05020655, -0.05470688],\n         [ 0.04803758, -0.0337434 ,  0.01010841, ...,  0.03665018,\n          -0.03629813, -0.00064745],\n         ...,\n         [-0.01522745,  0.04750179,  0.07538568, ...,  0.04543593,\n          -0.05112118,  0.06736588],\n         [ 0.06223308,  0.01586528, -0.02360021, ...,  0.03609479,\n          -0.0333318 , -0.00551433],\n         [-0.02039438, -0.00105159,  0.08746877, ..., -0.00835678,\n           0.07118959,  0.02411978]],\n \n        [[-0.04706233, -0.01946297,  0.0173253 , ..., -0.04979954,\n           0.07576174,  0.03936496],\n         [-0.06941341,  0.01018845,  0.04733614, ...,  0.00532575,\n           0.03299862,  0.05995002],\n         [ 0.02027963, -0.00570631, -0.04214866, ..., -0.01583713,\n           0.03943713,  0.01580351],\n         ...,\n         [-0.01121001, -0.03684007,  0.03171321, ...,  0.00138643,\n           0.04473346, -0.02583771],\n         [ 0.02588687, -0.00560987, -0.06164652, ...,  0.06085652,\n           0.0224859 , -0.03209769],\n         [-0.00998476,  0.01907403, -0.00664368, ..., -0.02565921,\n          -0.02957857, -0.03229267]]], dtype=float32),\n '/BERT_encoder/transformer/layer_3/self_attention/value/bias:0': array([[-9.42302682e-03, -2.02057902e-02,  1.48819938e-01,\n         -5.16213961e-02, -6.10834099e-02,  8.85177180e-02,\n         -1.27653688e-01, -3.70403342e-02,  1.95356697e-01,\n          7.08950460e-02,  2.38779243e-02,  1.02822065e-01,\n         -3.09324171e-02,  6.83818087e-02, -9.36294720e-02,\n         -1.08739689e-01,  1.54402182e-01,  5.21935560e-02,\n          4.39535826e-02, -1.69733509e-01, -1.51677161e-01,\n         -1.04399085e-01, -1.12276845e-01,  7.05877319e-02,\n         -7.31706247e-02,  3.11303176e-02,  2.47595422e-02,\n          1.56573355e-01,  4.13256995e-02,  2.52964459e-02,\n         -2.31379345e-01,  1.18526630e-01,  1.23897493e-01,\n         -4.25620005e-02, -2.43125454e-01,  3.53893749e-02,\n         -5.48929861e-03,  3.86148281e-02,  1.75299197e-01,\n         -4.65205200e-02,  7.36983344e-02,  1.25138387e-01,\n         -2.10981313e-02, -2.76250634e-02,  5.01605831e-02,\n          1.44917384e-01,  8.82175565e-03,  6.35669008e-02,\n          5.58463447e-02, -4.10497002e-02, -1.52932018e-01,\n         -9.18674748e-03,  4.21303585e-02, -2.17498094e-02,\n          1.30749121e-01,  5.21288477e-02, -1.17030829e-01,\n         -3.30950394e-02,  4.17273007e-02,  1.15736015e-01,\n          9.12345350e-02,  1.44024238e-01, -1.05812132e-01,\n         -1.08072069e-02],\n        [ 6.43690303e-02,  3.95504050e-02,  9.52949468e-03,\n          2.75424663e-02,  2.90922709e-02,  1.16810231e-02,\n          9.88429319e-03, -4.64889184e-02, -4.70225550e-02,\n          3.90355140e-02,  1.98426545e-02,  2.04709750e-02,\n         -1.13674197e-02,  2.63613816e-02, -1.86527632e-02,\n         -2.84184678e-03, -2.01003496e-02,  2.57730372e-02,\n          3.07135526e-02, -3.17552723e-02, -9.88498796e-03,\n         -8.22043512e-03, -2.77063102e-02,  6.03269823e-02,\n         -6.52280822e-02,  2.71809958e-02,  3.12437071e-03,\n          5.64299673e-02,  4.27366700e-03, -1.10439099e-02,\n         -3.49903735e-03,  3.15997638e-02, -4.07625996e-02,\n          2.15601809e-02, -5.30507378e-02,  1.26599334e-03,\n         -5.36034815e-02, -1.02518406e-02, -8.05744622e-03,\n         -9.35223177e-02, -1.02922417e-01, -9.51145717e-04,\n         -4.84949276e-02, -1.02686940e-03,  8.29136092e-03,\n         -8.91390964e-02, -9.58716555e-04,  5.06476238e-02,\n          1.24661336e-02, -9.70935728e-03, -2.35995613e-02,\n          7.90015310e-02, -4.37110942e-03, -5.68456575e-03,\n          4.13301848e-02, -4.88693314e-03,  3.64376046e-02,\n         -1.19623430e-02, -4.37882766e-02, -1.83174871e-02,\n         -4.09916118e-02,  3.68570723e-03, -1.28161311e-02,\n          4.04627547e-02],\n        [-4.53472473e-02, -2.35777255e-02, -4.75125723e-02,\n          3.89467850e-02,  4.82906448e-03,  1.10863857e-01,\n          7.12098507e-03,  1.04134511e-02, -5.04584201e-02,\n          7.63676688e-02,  6.88533038e-02,  3.05917710e-02,\n          1.13143204e-02,  6.05070554e-02, -1.07963808e-01,\n          6.77714497e-02,  5.42108575e-03, -2.64680339e-03,\n         -3.67886946e-02, -1.70098990e-02, -9.53840651e-03,\n          3.66937481e-02,  3.21512111e-02, -6.95264339e-02,\n          5.73491305e-03, -1.00096598e-01, -3.95096913e-02,\n          2.15493739e-02, -2.99737114e-03,  4.78555486e-02,\n         -7.94651210e-02,  6.79809600e-02,  2.37737224e-03,\n          1.91544835e-02, -3.93925607e-02,  4.13586535e-02,\n          1.21043883e-02, -2.91269757e-02, -7.90218413e-02,\n         -3.13245319e-02, -6.06511720e-02,  5.61889494e-03,\n          3.64600904e-02, -8.61876383e-02,  1.00391405e-02,\n          8.09707679e-03, -3.08728572e-02,  7.22197397e-03,\n         -4.93788905e-03,  2.42601838e-02,  6.65598512e-02,\n          3.40303523e-03, -2.36454476e-02,  4.76772375e-02,\n         -1.45463971e-02, -4.45839725e-02, -8.79072919e-02,\n         -1.85909905e-02, -1.11393452e-01,  8.35982263e-02,\n          4.49637137e-02,  1.05865393e-02, -6.39231130e-02,\n         -3.53272036e-02],\n        [ 4.27917987e-02, -3.93689005e-03, -4.43456620e-02,\n          4.82093357e-02, -9.92384329e-02, -2.39453427e-02,\n         -1.32603683e-02,  9.89647955e-02, -6.28743460e-03,\n         -7.75839388e-02,  5.78548349e-02, -4.37341779e-02,\n         -8.86118263e-02,  3.45561914e-02, -1.07443379e-02,\n          4.80270796e-02,  1.23620173e-02, -7.00936392e-02,\n          2.07095519e-02, -4.04808708e-02, -6.67714560e-03,\n         -1.26264229e-01,  8.14818144e-02, -1.19328937e-02,\n         -1.95447891e-03,  5.72035797e-02, -3.86709720e-02,\n         -1.40288785e-01, -1.22948829e-02,  2.46437006e-02,\n          7.60741457e-02,  7.07868263e-02, -1.04038147e-02,\n          5.48008382e-02,  3.64401937e-02,  1.42987706e-02,\n         -2.18264293e-02, -7.14559257e-02, -3.14867832e-02,\n          3.17679415e-03,  2.56072395e-02, -6.65827766e-02,\n         -1.15075447e-02,  3.16733047e-02,  8.37717950e-02,\n          2.45868266e-02, -5.52282669e-02, -1.25776092e-02,\n          2.74665337e-02, -1.60405301e-02, -1.63155645e-02,\n         -6.12345636e-02, -7.55461827e-02,  1.33569408e-02,\n         -3.68252285e-02,  2.87331850e-03, -5.80564290e-02,\n          7.58914929e-03,  4.07956243e-02, -3.70825827e-02,\n          5.34748286e-02, -2.51521040e-02,  4.23883945e-02,\n          2.86700409e-02],\n        [-6.78194268e-03,  7.06137856e-03, -4.41806838e-02,\n         -5.21519110e-02,  1.24395089e-02,  5.01346681e-03,\n          2.36875527e-02, -3.05984039e-02,  7.26675056e-03,\n          5.32834185e-03, -6.05954789e-03, -3.46934982e-02,\n          1.99457705e-02,  2.14397311e-02,  4.15673368e-02,\n         -1.90357715e-02, -6.17588013e-02,  1.44709684e-02,\n          2.89112702e-03, -3.09402850e-02, -7.49380961e-02,\n          7.80612510e-03, -6.42930681e-04,  2.05531921e-02,\n         -1.70032941e-02, -4.99088550e-03,  2.99010123e-03,\n          1.43996878e-02,  1.76864658e-02, -3.78626473e-02,\n          3.94136552e-03, -2.95489244e-02,  5.78535441e-03,\n          1.35229705e-02,  1.60398390e-02,  1.45357214e-02,\n          6.14252826e-03, -7.89428072e-04,  1.61125418e-02,\n         -3.28796124e-03,  1.22510409e-02,  2.94583943e-02,\n          6.92453049e-03,  3.37016173e-02, -1.68327801e-02,\n         -1.15702944e-02,  1.07933795e-02,  3.28810178e-02,\n         -5.18329069e-03,  8.17739870e-03,  9.56230983e-03,\n          1.62130333e-02,  1.03866793e-02, -1.80115663e-02,\n         -6.05804659e-02, -3.88302766e-02,  5.41360863e-03,\n         -1.38064392e-03, -2.35011671e-02, -1.67910138e-03,\n         -3.62844877e-02, -1.57125089e-02,  3.67647111e-02,\n          9.54038091e-03],\n        [-7.01062679e-02,  3.15827504e-02, -2.05666441e-02,\n          4.30955887e-02, -2.90653352e-02,  2.80996542e-02,\n          3.20631312e-03,  1.72365736e-02,  4.58548181e-02,\n          2.34219395e-02, -7.43082026e-03,  1.45985326e-03,\n         -3.76673751e-02,  8.26580375e-02, -6.93887100e-02,\n         -4.02847677e-02, -7.74464430e-03,  6.34091645e-02,\n          8.15277547e-02, -9.44900736e-02, -3.42833437e-02,\n         -3.92857827e-02, -2.55247429e-02,  6.18636087e-02,\n          6.54275436e-03,  4.33462113e-03,  3.20647396e-02,\n          4.32295687e-02,  2.90637631e-02,  6.70785457e-02,\n         -8.45056085e-04,  6.39895501e-04,  7.06068380e-03,\n         -6.02969993e-03,  1.19943768e-02,  3.09640337e-02,\n         -3.81018743e-02,  6.77469820e-02, -3.42075266e-02,\n         -6.67478815e-02,  3.43698869e-03, -6.60272408e-03,\n         -7.98716769e-03, -4.55357246e-02, -4.06647995e-02,\n         -3.35479081e-02,  5.20222597e-02,  3.03134285e-02,\n          1.69818066e-02, -6.08761311e-02, -4.86426800e-02,\n         -2.03357451e-02,  4.18687724e-02,  6.37139454e-02,\n          4.46230918e-02,  2.09156424e-02, -4.97310534e-02,\n         -5.38331084e-02,  4.33447547e-02,  1.13261519e-02,\n         -3.41775380e-02, -1.68346632e-02, -5.96537674e-03,\n         -3.71924751e-02],\n        [ 3.49217989e-02, -2.04765033e-02,  7.53865065e-03,\n         -3.47946375e-03, -1.41769415e-02, -4.37731901e-03,\n         -2.00865958e-02,  6.56737434e-03, -2.26734579e-02,\n          2.25217827e-03, -9.35969129e-03,  5.81694394e-03,\n         -6.17767032e-03, -2.75545996e-02, -2.94600672e-04,\n          3.42923356e-03,  6.52844179e-03,  3.74958268e-03,\n         -6.18776400e-03,  2.92675942e-02, -6.60932483e-03,\n          1.35602802e-03, -7.26507045e-03,  9.02968645e-03,\n          2.69424217e-03,  9.53150913e-03,  2.06322055e-02,\n         -3.83704295e-03, -2.04867292e-02, -5.23091946e-03,\n          2.21580938e-02, -2.96357870e-02,  3.58153833e-04,\n         -1.24663804e-02, -1.25305559e-02,  1.81343555e-02,\n         -4.18479778e-02, -1.68571603e-02, -9.68814548e-03,\n         -1.77888926e-02, -2.32863780e-02, -2.41096187e-02,\n         -3.08836042e-03, -1.67146996e-02, -1.85780239e-03,\n         -1.26329046e-02, -4.87974286e-03,  2.20103264e-02,\n          2.36334163e-03,  8.25966988e-03, -2.43248325e-02,\n         -9.72953066e-03, -2.47712173e-02, -8.57574958e-03,\n          6.44253148e-03, -1.52655505e-02,  1.82086024e-02,\n         -3.13144699e-02,  1.34067712e-02,  1.56658199e-02,\n          5.66420984e-03,  1.93948373e-02, -6.58829371e-03,\n          1.70025378e-04],\n        [-7.51789436e-02, -3.07722799e-02, -1.64252535e-01,\n         -4.15148959e-02,  2.27949559e-03,  9.83223617e-02,\n         -1.12123564e-01, -1.30329698e-01, -9.84955728e-02,\n         -2.84095854e-02,  6.22703135e-02, -6.19670078e-02,\n          1.44606650e-01,  3.74291874e-02,  9.75589827e-02,\n          9.94146019e-02, -2.41972762e-03, -1.78640097e-01,\n          2.09942624e-01,  2.03256160e-01,  1.07543871e-01,\n          1.18160948e-01,  1.52978860e-02, -2.71946564e-03,\n          3.85066830e-02,  1.21963255e-01, -9.29722339e-02,\n         -2.96006531e-01,  1.35047585e-01,  3.88650112e-02,\n          2.95832492e-02, -2.05198511e-01,  4.43998240e-02,\n         -2.95622766e-01,  3.03015076e-02, -2.12065920e-01,\n          7.20579922e-02,  9.68783274e-02, -5.83545421e-04,\n         -8.10386762e-02,  2.11014599e-02, -3.44519899e-03,\n         -3.50892171e-02, -8.94634873e-02, -1.30884722e-01,\n          2.04796791e-01, -2.01059990e-02,  6.73822388e-02,\n         -5.91831282e-03,  1.01376660e-01,  3.37047391e-02,\n         -2.19219690e-03, -5.05628996e-02,  2.97932490e-03,\n         -1.80121616e-01,  3.52511592e-02,  1.72404516e-02,\n         -4.37536687e-02,  2.29628831e-02, -3.05030420e-02,\n         -1.78843141e-02, -3.43662612e-02,  4.35370803e-02,\n          2.28424668e-02]], dtype=float32),\n '/BERT_encoder/transformer/layer_3/self_attention/value/kernel:0': array([[[-0.08164757, -0.02986662,  0.01779266, ..., -0.0454971 ,\n           0.13425697, -0.03147067],\n         [ 0.05829019,  0.03481097,  0.10121121, ...,  0.05221634,\n          -0.07549524,  0.05871286],\n         [-0.05047744,  0.02756624,  0.0737621 , ..., -0.02459576,\n          -0.03358781, -0.10963424],\n         ...,\n         [-0.15237239, -0.05798549, -0.04424594, ..., -0.00091534,\n          -0.0100007 , -0.0075162 ],\n         [ 0.13729823, -0.03640179,  0.03838816, ..., -0.0245383 ,\n           0.10306079, -0.00467457],\n         [ 0.05793196, -0.05895732,  0.04565261, ..., -0.02877161,\n          -0.02228229, -0.02594682]],\n \n        [[-0.08473128,  0.0233404 ,  0.06865658, ..., -0.06033115,\n           0.06471989, -0.02431554],\n         [ 0.01321715, -0.04193322, -0.03790228, ..., -0.02684575,\n          -0.0496592 ,  0.01642217],\n         [ 0.04761128, -0.00253141,  0.05436374, ..., -0.0747727 ,\n           0.03336281,  0.00665077],\n         ...,\n         [-0.07602404,  0.13513781,  0.06149102, ..., -0.04278904,\n           0.02253637,  0.05067903],\n         [ 0.00353476, -0.00825485, -0.00273348, ..., -0.05492831,\n          -0.09497261,  0.00848386],\n         [-0.04223054,  0.04671436,  0.05347519, ..., -0.00550628,\n           0.04266208, -0.04049893]],\n \n        [[-0.03221522,  0.04013537, -0.04681291, ...,  0.05307366,\n           0.02385311,  0.00409846],\n         [ 0.00342913, -0.01898507, -0.0354606 , ...,  0.02156188,\n          -0.03667095,  0.0371942 ],\n         [-0.04212335, -0.12713985,  0.06301843, ..., -0.05370051,\n           0.01430717, -0.02045734],\n         ...,\n         [ 0.01478403,  0.1736649 ,  0.10579105, ...,  0.14644864,\n           0.1116662 ,  0.04775855],\n         [ 0.03231005, -0.00722078, -0.02080723, ..., -0.02881702,\n           0.07067391, -0.01725494],\n         [ 0.0489554 ,  0.05107409,  0.12057608, ...,  0.04841102,\n          -0.00751481,  0.08875207]],\n \n        ...,\n \n        [[-0.0444386 ,  0.01096807,  0.02367673, ...,  0.00539917,\n          -0.01554447, -0.02184536],\n         [ 0.00510774, -0.0913137 , -0.04264571, ...,  0.01543547,\n           0.02367676,  0.10151269],\n         [ 0.00113284, -0.02729516,  0.0554997 , ...,  0.00232603,\n           0.02121267,  0.11409286],\n         ...,\n         [ 0.00467409, -0.03257809,  0.04736263, ..., -0.1399683 ,\n           0.02504589,  0.13117337],\n         [ 0.02778067, -0.08030002,  0.02827435, ...,  0.05392846,\n           0.14903884,  0.09303809],\n         [-0.0511768 ,  0.08784453,  0.01815233, ..., -0.015406  ,\n           0.08495346,  0.09555726]],\n \n        [[ 0.00517304,  0.00735231, -0.01453097, ..., -0.01651122,\n          -0.00195351, -0.01809808],\n         [ 0.00848162,  0.11730614, -0.08060627, ...,  0.00288174,\n           0.0276036 , -0.03268529],\n         [ 0.14844212,  0.07953552,  0.00629743, ...,  0.10659114,\n           0.00755464,  0.00574796],\n         ...,\n         [ 0.05088895,  0.05478807,  0.06501185, ...,  0.11102335,\n           0.09463712, -0.01433349],\n         [ 0.01313049,  0.03906412,  0.01435415, ...,  0.16529703,\n           0.1445411 ,  0.08286521],\n         [-0.01480732,  0.01589353, -0.09883753, ...,  0.01653445,\n           0.04162298, -0.02253725]],\n \n        [[ 0.01298326, -0.00736131,  0.01384041, ...,  0.0349057 ,\n          -0.04684428,  0.01336446],\n         [-0.05477199,  0.14009468, -0.00647796, ...,  0.0931147 ,\n          -0.0652741 , -0.00564077],\n         [ 0.05704014, -0.04652048,  0.0119099 , ..., -0.00176814,\n           0.01056955,  0.08280513],\n         ...,\n         [-0.01365986, -0.01080766, -0.07015996, ...,  0.10164757,\n          -0.02105809,  0.08208761],\n         [ 0.09059901,  0.08716695,  0.00483675, ...,  0.02362128,\n           0.18089078,  0.02052809],\n         [ 0.04080263, -0.00697152, -0.013701  , ...,  0.01159667,\n           0.01574852,  0.08828514]]], dtype=float32),\n '/BERT_encoder/transformer/layer_3/self_attention_layer_norm/beta:0': array([ 8.40104818e-02,  4.72866707e-02, -1.62649117e-02, -4.56908680e-02,\n        -1.68275639e-01,  1.86377645e-01, -1.53411359e-01,  1.96575839e-02,\n        -2.31976941e-01,  2.97176749e-01,  6.17798045e-02, -8.54129940e-02,\n        -4.60885204e-02, -1.64053112e-01, -5.05534708e-02,  6.80990443e-02,\n        -1.03845432e-01, -2.65332647e-02,  1.86142117e-01,  1.10815026e-01,\n         1.12164453e-01,  1.87329520e-02,  3.15904133e-02,  8.62147138e-02,\n        -1.52580431e-02, -8.37757066e-02, -1.02303727e-02,  1.51908323e-01,\n         6.56725243e-02,  6.94655702e-02,  1.62372924e-02, -5.08548953e-02,\n        -6.83318526e-02,  1.00930789e-02, -6.63129315e-02,  1.70551445e-02,\n         1.48336768e-01, -2.30828002e-02, -2.05043126e-02,  9.00890380e-02,\n        -1.32076330e-02,  8.66768509e-02,  1.28851235e-01,  1.54945984e-01,\n         1.18380301e-01,  1.70826748e-01,  1.68801025e-01,  6.79427907e-02,\n        -1.26042008e-01,  1.17115244e-01,  4.01724204e-02,  2.07147643e-01,\n        -1.35211781e-01,  5.76187186e-02, -8.07810202e-02,  1.75094098e-01,\n        -2.35656932e-01, -3.92170548e-02,  1.47019699e-01,  4.19541091e-01,\n         1.88458145e-01, -2.76709851e-02,  7.94790164e-02,  1.60740048e-01,\n         2.60847420e-01, -2.02455923e-01, -8.31619091e-03,  8.95867869e-02,\n        -2.48719558e-01, -5.52276149e-03,  1.22493237e-01, -2.90522818e-02,\n        -2.55442262e-02,  1.57588318e-01,  6.45787492e-02,  5.54148071e-02,\n        -1.40853420e-01,  1.52668739e-02, -6.60948008e-02,  6.51776642e-02,\n         2.19160184e-01, -1.01569831e-01,  1.31381731e-02,  4.39832918e-02,\n        -3.23530138e-02,  1.72167961e-02,  1.45102009e-01,  2.07717679e-02,\n         3.52756307e-02,  1.27557978e-01,  1.66376024e-01,  4.35303524e-02,\n         1.55968070e-01, -3.35265812e-03,  2.50651464e-02, -7.76151121e-02,\n         5.82432672e-02,  1.38982534e-01,  5.61160371e-02,  6.84678331e-02,\n         1.75945591e-02,  5.63737415e-02, -1.22769438e-01,  5.73424213e-02,\n         1.53354138e-01, -1.99748367e-01,  2.84095835e-02, -2.30045337e-02,\n        -9.05715581e-03, -5.16428761e-02,  3.46184075e-02, -1.75735980e-01,\n        -7.31542781e-02,  1.37243018e-01, -1.41551152e-01,  1.18124047e-02,\n         2.80216560e-02, -5.15589379e-02,  1.71128705e-01,  8.79391059e-02,\n         1.28863275e-01, -2.14100815e-02, -1.70417666e-01,  1.30546074e-02,\n         9.26068705e-03, -1.48831025e-01,  5.40711656e-02,  6.88572451e-02,\n         3.84624898e-02,  1.24571241e-01,  2.03421220e-01,  6.14080615e-02,\n         7.68879578e-02, -1.33480188e-02,  3.46926630e-01,  4.01242170e-03,\n         7.18402565e-02,  3.51726003e-02,  2.16755763e-01,  6.78122267e-02,\n         5.78022152e-02,  5.43680638e-02, -1.24866538e-01, -1.82987601e-01,\n         1.53266683e-01, -4.37574126e-02, -1.39368430e-01,  1.27665430e-01,\n         2.13637665e-01,  7.00729787e-02,  2.24004641e-01,  1.24912843e-01,\n         1.25694036e-01,  6.17318414e-02, -7.85037279e-02,  1.58199146e-01,\n         2.58609533e-01, -7.71509185e-02,  2.97694743e-01,  1.85805008e-01,\n         1.65142491e-01, -1.60003290e-01, -2.43940167e-02,  1.18547499e-01,\n        -3.06768809e-02,  1.76125050e-01,  2.73680627e-01,  8.48774090e-02,\n        -1.23964407e-01,  4.78260927e-02,  4.19875383e-02,  7.38397464e-02,\n         1.94884036e-02, -1.47666270e-02, -4.30150814e-02,  4.52106297e-02,\n         1.40406027e-01,  5.94867878e-02,  6.42025322e-02,  1.34637162e-01,\n         7.84939751e-02, -5.74447513e-02,  1.06251739e-01,  4.17369567e-02,\n         1.65056631e-01, -1.39997289e-01,  1.72523700e-03,  1.92394584e-01,\n        -2.55651802e-01,  1.62275642e-01,  5.02212308e-02, -2.09772140e-02,\n         1.32143751e-01, -3.34236175e-01, -4.42641750e-02,  3.39748152e-02,\n        -1.18480362e-01,  1.07364863e-01,  8.49676654e-02, -1.64099082e-01,\n         1.03801548e-01,  1.62976533e-01,  1.90899186e-02, -1.37621090e-01,\n         8.02830700e-03,  1.00617670e-01, -1.04409687e-01, -8.78037512e-02,\n         6.31559221e-03,  1.42928883e-01,  1.06725581e-02, -5.04492335e-02,\n        -1.18714303e-01,  6.96957111e-02,  1.02968283e-01,  1.45768849e-02,\n         1.06458351e-01, -1.24639638e-01, -2.04010218e-01, -2.95157712e-02,\n         1.60587937e-01,  1.87452391e-01,  7.45057464e-02,  3.62440683e-02,\n         4.74912822e-02, -7.73311034e-02,  1.28517121e-01, -7.00188428e-02,\n         8.68015513e-02,  9.59454998e-02, -5.68523854e-02,  2.74022687e-02,\n         1.05108105e-01,  1.89560115e-01, -1.07970715e-01, -1.16375409e-01,\n        -1.17240377e-01,  1.29954964e-01,  1.46717072e-01,  1.53537303e-01,\n        -3.21293250e-02,  1.14527032e-01,  1.65769085e-02, -1.15637302e-01,\n         9.08539146e-02, -7.45209306e-02,  1.46665335e-01,  1.47126496e-01,\n        -1.21757872e-02, -4.51053716e-02,  2.31557846e-01, -9.33688134e-02,\n         5.69982715e-02,  4.51898724e-02, -2.98409089e-02,  2.14902565e-01,\n         3.18740457e-02,  2.58492440e-01, -6.85114190e-02,  1.17891684e-01,\n        -1.05010070e-01, -4.20522615e-02,  3.01180780e-01, -1.24532357e-01,\n        -1.22252770e-01,  1.08328402e-01, -7.27475211e-02, -1.65312290e-01,\n        -2.08416358e-02,  1.65361166e-02, -1.16162188e-01, -1.78735137e-01,\n        -7.85616860e-02,  5.70430309e-02,  9.12964940e-02, -2.63080686e-01,\n        -1.53828633e+00, -7.79914036e-02,  2.75036722e-01,  2.71771461e-01,\n         1.98304541e-02, -9.49606523e-02, -1.22989036e-01,  4.20603119e-02,\n         2.66757786e-01, -2.67595407e-02, -1.91610481e-03, -5.97005002e-02,\n         2.14082196e-01, -4.26699482e-02,  1.33547574e-01, -6.70766234e-02,\n         1.82298407e-01,  2.33256236e-01, -6.50213286e-02,  3.81811969e-02,\n         8.03277940e-02, -1.43383160e-01,  1.59879789e-01, -3.35546993e-02,\n         1.05696775e-01,  2.22239383e-02,  1.31296486e-01, -2.01687962e-02,\n         1.91937819e-01,  3.00784353e-02,  1.32009238e-01, -1.31683378e-02,\n         9.12665501e-02,  4.58873063e-03, -3.81865911e-02, -1.08670607e-01,\n        -1.19002126e-01, -1.43486962e-01,  1.03974678e-02, -1.91364110e-01,\n         5.70651749e-03,  2.49439031e-02,  1.77957326e-01,  1.30886957e-01,\n         6.75090924e-02, -1.51512951e-01, -1.61138341e-01,  2.10953966e-01,\n         7.89865777e-02,  2.05607429e-01, -1.10469118e-01, -2.61060596e-02,\n         4.27473672e-02,  1.40196115e-01, -2.41793066e-01,  3.66290137e-02,\n        -3.43504958e-02, -3.90566997e-02,  1.63027704e-01,  1.81484118e-01,\n        -5.11182621e-02, -1.62672270e-02, -2.26774201e-01,  3.19062680e-01,\n         6.49863407e-02, -3.84453051e-02,  7.05193207e-02,  1.95484817e-01,\n         1.02138482e-02,  1.08964615e-01,  9.84522849e-02, -1.31140545e-01,\n        -3.19722295e-02,  1.20073065e-01, -3.31930406e-02,  9.31017920e-02,\n         1.66045666e-01,  1.76578790e-01,  2.21144289e-01, -9.45649855e-03,\n        -1.05475478e-01, -1.37576628e-02,  1.43611068e-02,  6.82540387e-02,\n        -4.61052358e-03,  1.51715010e-01, -1.70549467e-01, -2.42100609e-03,\n         1.99784324e-01,  2.91870862e-01, -8.76397341e-02,  1.54461563e-01,\n        -1.55379504e-01,  2.55109854e-02,  1.14795499e-01, -1.38911813e-01,\n        -9.68810022e-02,  3.68235037e-02,  1.42470211e-01, -1.13309450e-01,\n         2.57821530e-01, -1.76732205e-02,  8.23323801e-02, -8.43872502e-02,\n        -6.83649406e-02, -1.33700103e-01,  5.17202653e-02, -1.95906997e-01,\n        -8.41949694e-03,  5.50558083e-02, -1.34483516e-01, -1.00818492e-01,\n         2.92816665e-02, -1.40711620e-01,  1.61996558e-02,  1.97264969e-01,\n         1.37821762e-02,  5.42458706e-02,  1.57626018e-01,  1.40780032e-01,\n         1.23666175e-01,  5.66368550e-02, -2.83255484e-02,  4.52165119e-02,\n         1.42497391e-01, -6.76474795e-02,  5.34138083e-02,  1.71812952e-01,\n         1.38228938e-01,  1.88016549e-01,  1.14851072e-01,  9.97131690e-02,\n         2.80132920e-01,  9.50996429e-02,  3.11158355e-02, -1.63336843e-01,\n        -7.33587816e-02, -1.93678178e-02,  1.57072358e-02, -4.99853082e-02,\n        -2.43928432e-01,  9.60871428e-02,  1.45938456e-01,  7.98451975e-02,\n         1.90789908e-01,  9.63606015e-02,  1.59523845e-01,  6.63115606e-02,\n        -9.12258327e-02, -1.26950085e-01,  1.57018661e-01,  1.77095264e-01,\n         1.17413126e-01,  1.45923227e-01, -1.07907765e-02,  3.90681922e-02,\n         1.51314124e-01,  2.06050217e-01, -1.27199337e-01,  2.58127868e-01,\n         1.74366936e-01,  1.76841155e-01, -1.38538261e-03,  5.60849532e-02,\n         1.61635071e-01, -2.05740169e-01,  4.11715209e-02,  7.00751096e-02,\n        -3.65956962e-01, -7.08247274e-02, -8.16244334e-02,  1.86741099e-01,\n         7.45186433e-02, -4.30963486e-02,  1.21925503e-01,  1.73367769e-01,\n         3.31297785e-01, -7.85408318e-02,  3.51031614e-03,  1.63558573e-01,\n        -1.52513340e-01,  1.77540705e-01,  1.86019465e-01,  1.75483137e-01,\n        -1.11839399e-01,  7.76138529e-02, -6.17400408e-02,  1.48630440e-01,\n        -3.88391726e-02, -8.09268728e-02,  7.33783022e-02, -1.17686786e-01,\n        -4.45804559e-02,  1.09093465e-01,  1.54457107e-01,  8.11361223e-02,\n         3.11740696e-01,  5.95157593e-02,  5.73872142e-02,  1.45541221e-01,\n        -1.12608053e-01,  1.28834369e-02,  3.51426080e-02, -1.61093563e-01,\n         4.55689803e-02,  1.45419106e-01, -4.98420186e-02, -1.80796042e-01,\n         1.70427054e-01, -9.79294851e-02,  3.47142294e-02, -5.27386554e-02,\n         4.18791696e-02,  1.03664190e-01, -7.78929591e-02,  4.47119661e-02,\n         1.86157510e-01, -5.98403588e-02,  9.43617076e-02,  1.52306870e-01,\n         5.48322424e-02, -2.38959596e-01, -4.27652486e-02,  7.21778795e-02,\n         2.28373349e-01, -3.03174965e-02,  2.21935973e-01, -4.01664004e-02,\n         1.71038449e-01,  6.55919081e-03,  5.52092455e-02,  1.23264715e-01,\n         3.41653198e-01, -1.43633425e-01,  2.00026006e-01,  1.24492146e-01],\n       dtype=float32),\n '/BERT_encoder/transformer/layer_3/self_attention_layer_norm/gamma:0': array([0.6320066 , 0.66231245, 0.7049486 , 0.7370862 , 0.66656095,\n        0.71296555, 0.6422681 , 0.7691547 , 0.6246938 , 0.71954983,\n        0.7055194 , 0.7182608 , 0.7176771 , 0.7003856 , 0.6574165 ,\n        0.73736525, 0.6951058 , 0.6917138 , 0.68227696, 0.725717  ,\n        0.6939882 , 0.7748419 , 0.70700383, 0.72662675, 0.6521302 ,\n        0.75409025, 0.6865478 , 0.68486816, 0.66800076, 0.6797571 ,\n        0.7232219 , 0.7499511 , 0.7577809 , 0.72065854, 0.66872996,\n        0.6772799 , 0.68455786, 0.69953555, 0.6774929 , 0.7203579 ,\n        0.7260849 , 0.72899604, 0.69632286, 0.72789973, 0.7399513 ,\n        0.71568966, 0.6957604 , 0.7110211 , 0.81089115, 0.7425709 ,\n        0.70563865, 0.7246563 , 0.6952145 , 0.704607  , 0.7140668 ,\n        0.6626553 , 0.73687196, 0.67445356, 0.71621495, 0.72289723,\n        0.6578832 , 0.78410286, 0.69092953, 0.74788713, 0.73381716,\n        0.74820447, 0.6988516 , 0.70225215, 0.66375417, 0.70574826,\n        0.6507702 , 0.6661252 , 0.70180017, 0.738719  , 0.74162555,\n        0.77464616, 0.74284   , 0.7354759 , 0.7057053 , 0.71492195,\n        0.7724038 , 0.7496789 , 0.702277  , 0.68520087, 0.67623264,\n        0.73169386, 0.7274142 , 0.6828402 , 0.72901654, 0.7335782 ,\n        0.7623095 , 0.66921824, 0.66116256, 0.72858775, 0.67870533,\n        0.7175675 , 0.6863098 , 0.68707913, 0.7600309 , 0.6648375 ,\n        0.66856325, 0.6698371 , 0.71770406, 0.7218915 , 0.72144544,\n        0.75375545, 0.7120737 , 0.7363473 , 0.6898557 , 0.7270297 ,\n        0.7084513 , 0.7076733 , 0.72021556, 0.7654292 , 0.72942847,\n        0.73122466, 0.73452127, 0.8348155 , 0.6885043 , 0.7044692 ,\n        0.7030476 , 0.9546708 , 0.694426  , 0.68864787, 0.69142586,\n        0.8220174 , 0.7715685 , 0.67745245, 0.77371526, 0.7326819 ,\n        0.6447226 , 0.6989705 , 0.68596107, 0.68712085, 0.7101079 ,\n        0.6869478 , 0.6899537 , 0.6551156 , 0.6845411 , 0.69161963,\n        0.76552117, 0.709795  , 0.6987648 , 0.70253414, 0.71807945,\n        0.681588  , 0.7465314 , 0.720705  , 0.6946435 , 0.6632437 ,\n        0.7852387 , 0.74004716, 0.70197266, 0.7494944 , 0.68736225,\n        0.72661155, 0.81257975, 0.73688096, 0.8140786 , 0.68620664,\n        0.77451086, 0.6906978 , 0.7895763 , 0.67774284, 0.67838234,\n        0.6651701 , 0.7091421 , 0.678651  , 0.7152182 , 0.71355236,\n        0.7639601 , 0.79379857, 0.69385314, 0.734796  , 0.7275507 ,\n        0.74597645, 0.72054505, 0.75626785, 0.6939488 , 0.69361144,\n        0.6834958 , 0.7394115 , 0.68122727, 0.75925356, 0.7189693 ,\n        0.6870252 , 0.68150824, 0.6908827 , 0.73525894, 0.74858195,\n        0.6841205 , 0.73436445, 0.7335187 , 0.68664235, 0.69925255,\n        0.72497463, 0.7419064 , 0.71703863, 0.7158527 , 0.7316959 ,\n        0.6683489 , 0.6684384 , 0.66723025, 0.7495622 , 0.6859573 ,\n        0.81511545, 0.7166283 , 0.78126544, 0.69361514, 0.7161389 ,\n        0.69747156, 0.7604871 , 0.71538955, 0.66226494, 0.7345478 ,\n        0.6966468 , 0.689119  , 0.7538624 , 0.6959585 , 0.7032097 ,\n        0.74400806, 0.67880845, 0.71969974, 0.749872  , 0.65633804,\n        0.7280147 , 0.72713834, 0.70522773, 0.68308175, 0.7048012 ,\n        0.7644923 , 0.69626915, 0.671627  , 0.69719607, 0.7362589 ,\n        0.77617115, 0.7270524 , 0.7091516 , 0.68223625, 0.6629715 ,\n        0.7239639 , 0.76387113, 0.7315076 , 0.8377464 , 0.7403511 ,\n        0.68408185, 0.75145036, 0.7062575 , 0.72326875, 0.71372414,\n        0.6595015 , 0.7312947 , 0.6899175 , 0.7860802 , 0.68568885,\n        0.70393634, 0.6806844 , 0.6947242 , 0.7347522 , 0.6878024 ,\n        0.6938621 , 0.7441788 , 0.78100514, 0.70253706, 0.68850875,\n        0.69761485, 0.67428774, 0.7467366 , 0.64366335, 0.73939353,\n        0.68914217, 0.6946509 , 0.6872224 , 0.71281254, 0.6980369 ,\n        0.1385226 , 1.1029913 , 0.72781473, 0.74616104, 0.6699123 ,\n        0.6482732 , 0.7746157 , 0.74857795, 0.7455569 , 0.7469137 ,\n        0.66581744, 0.6923714 , 0.72230446, 0.718605  , 0.6583807 ,\n        0.73514503, 0.6849942 , 0.78234947, 0.74442947, 0.70144796,\n        0.6923655 , 0.67777395, 0.65452296, 0.6791023 , 0.69770247,\n        0.6943157 , 0.68992656, 0.70271724, 0.72557175, 0.69704926,\n        0.6875272 , 0.784875  , 0.6915273 , 0.7432287 , 0.7469119 ,\n        0.72791773, 0.7489468 , 0.7494202 , 0.7621856 , 0.6929949 ,\n        0.7094775 , 0.6714103 , 0.71398556, 0.7620572 , 0.73548514,\n        0.6951189 , 0.72040063, 0.7265572 , 0.6854734 , 0.6945967 ,\n        0.6891816 , 0.67416275, 0.71427727, 0.72990113, 0.76461905,\n        0.6728223 , 0.70400584, 0.66473216, 0.7387452 , 0.74636793,\n        0.6506079 , 0.7547204 , 0.72948664, 0.6765222 , 0.6798736 ,\n        0.6601948 , 0.7096829 , 0.7178184 , 0.6967379 , 0.77232015,\n        0.67327094, 0.63805956, 0.7755478 , 0.7151087 , 0.6875608 ,\n        0.7402361 , 0.7049263 , 0.68728894, 0.6974835 , 0.688471  ,\n        0.7722789 , 0.45797884, 0.7236579 , 0.69909   , 0.6820535 ,\n        0.7208256 , 0.7314675 , 0.7177414 , 0.7492338 , 0.7628686 ,\n        0.72909534, 0.7116652 , 0.65693796, 0.69726205, 0.6960475 ,\n        0.6929673 , 0.71705854, 0.6839343 , 0.7369634 , 0.73870695,\n        0.7803105 , 0.6882746 , 0.70732963, 0.6918208 , 0.72755915,\n        0.68490946, 0.74563974, 0.67684567, 0.76991934, 0.6252901 ,\n        0.6649743 , 0.6891381 , 0.73217726, 0.7621863 , 0.7182769 ,\n        0.70419794, 0.6982519 , 0.70056987, 0.7737971 , 0.6979378 ,\n        0.6889786 , 0.7033872 , 0.6652537 , 0.70637804, 0.7663432 ,\n        0.6607572 , 0.71248925, 0.6653899 , 0.6675227 , 0.72093296,\n        0.6418163 , 0.7255396 , 0.7006018 , 0.709069  , 0.7134649 ,\n        0.7023248 , 0.7022001 , 0.70452887, 0.73325837, 0.717334  ,\n        0.6608505 , 0.65064704, 0.69491863, 0.73123807, 0.6225366 ,\n        0.67518216, 0.7309304 , 0.69182557, 0.72316355, 0.69436127,\n        0.67113954, 0.6862739 , 0.808712  , 0.68456924, 0.6649016 ,\n        0.74618936, 0.73172605, 0.7404815 , 0.6934278 , 0.77249557,\n        0.7490424 , 0.6933338 , 0.7147507 , 0.72613686, 0.70817727,\n        0.71676767, 0.727918  , 0.7274017 , 0.6569501 , 0.2652746 ,\n        0.7342512 , 0.8096651 , 0.7259919 , 0.7136351 , 0.7103319 ,\n        0.71621686, 0.69216686, 0.7238131 , 0.741062  , 0.76192737,\n        0.7507086 , 0.7220228 , 0.71396196, 0.6869611 , 0.7230945 ,\n        0.7379077 , 0.7158105 , 0.74219364, 0.7639338 , 0.66912824,\n        0.7497187 , 0.7053967 , 0.7242179 , 0.7107772 , 0.7303946 ,\n        0.73313755, 0.72919667, 0.7663693 , 0.72738147, 0.76418567,\n        0.7825957 , 0.64807874, 0.69781065, 0.69510967, 0.7118563 ,\n        0.77792406, 0.703727  , 0.7449162 , 0.65238476, 0.7240746 ,\n        0.730552  , 0.6985885 , 0.741645  , 0.71264166, 0.6693319 ,\n        0.7256007 , 0.71491057, 0.79354984, 0.69492674, 0.7173877 ,\n        0.68028224, 0.6526104 , 0.73528016, 0.7247496 , 0.6740852 ,\n        0.7530537 , 0.7054871 , 0.69218606, 0.7411822 , 0.68457675,\n        0.70977634, 0.7885583 , 0.6902183 , 0.6961519 , 0.73091316,\n        0.7480387 , 0.72856134], dtype=float32),\n '/BERT_encoder/type_embeddings/embeddings:0': array([[ 0.00182431,  0.01570189,  0.00117917, ...,  0.00029603,\n          0.00079816, -0.00032483],\n        [ 0.00961065,  0.00782501, -0.00052186, ...,  0.00212142,\n          0.00081036,  0.00333202]], dtype=float32),\n '/BERT_encoder/word_embeddings/embeddings:0': array([[ 0.07700924, -0.10239143,  0.01086847, ...,  0.02648759,\n          0.05274116, -0.009886  ],\n        [-0.0061628 , -0.0447717 ,  0.00677108, ...,  0.04599561,\n          0.0176833 , -0.04868097],\n        [-0.00140176, -0.018351  ,  0.02070379, ...,  0.09362025,\n          0.05605398, -0.06899607],\n        ...,\n        [-0.05386432, -0.02979652,  0.07105876, ...,  0.00571508,\n          0.01720937, -0.04373623],\n        [ 0.04459467, -0.05707855,  0.00280032, ..., -0.01379223,\n          0.05343876, -0.07411715],\n        [ 0.07978501,  0.03066262, -0.0253515 , ...,  0.03888825,\n          0.04173004, -0.0208263 ]], dtype=float32),\n '/classifier/classifier/bias:0': array([0.00296579], dtype=float32),\n '/classifier/classifier/kernel:0': array([[-3.49621624e-02],\n        [-8.95835832e-03],\n        [ 5.53160682e-02],\n        [-6.25026925e-03],\n        [-2.35181972e-02],\n        [-4.75700758e-02],\n        [-2.48834379e-02],\n        [-5.62141910e-02],\n        [-1.74331129e-01],\n        [-4.78019305e-02],\n        [ 6.32089451e-02],\n        [ 2.78605409e-02],\n        [ 8.19642842e-02],\n        [ 1.00772232e-01],\n        [-6.43051788e-02],\n        [-1.37696546e-02],\n        [-6.35226220e-02],\n        [-1.44467792e-02],\n        [ 1.32247899e-02],\n        [ 4.54651974e-02],\n        [-4.86799926e-02],\n        [ 6.96078613e-02],\n        [ 9.57088023e-02],\n        [-3.35737318e-02],\n        [-9.37106367e-03],\n        [ 3.77248302e-02],\n        [ 1.96989160e-02],\n        [-1.08138002e-01],\n        [ 1.89506412e-02],\n        [ 2.76009087e-02],\n        [ 5.50055839e-02],\n        [ 3.85455266e-02],\n        [ 3.29677910e-02],\n        [ 4.69613448e-02],\n        [-1.80727784e-02],\n        [-4.42229398e-02],\n        [ 6.29078085e-03],\n        [ 3.77865322e-02],\n        [-2.08012201e-02],\n        [-2.21758373e-02],\n        [-1.00107528e-01],\n        [ 1.18178226e-01],\n        [-2.91610311e-04],\n        [ 4.29869257e-02],\n        [-2.21208036e-02],\n        [ 8.36788416e-02],\n        [-3.45693855e-03],\n        [ 3.80490497e-02],\n        [ 1.20020472e-02],\n        [ 3.49420123e-02],\n        [ 4.88266014e-02],\n        [-1.51063697e-02],\n        [-2.88442858e-02],\n        [-1.44601939e-02],\n        [-2.63318662e-02],\n        [-8.15716386e-02],\n        [-4.98536117e-02],\n        [ 1.79470569e-01],\n        [-2.03698967e-02],\n        [-6.17048144e-02],\n        [-1.17379427e-01],\n        [-7.56532922e-02],\n        [ 4.80303913e-02],\n        [-7.28245378e-02],\n        [ 1.00778870e-01],\n        [ 4.83809598e-02],\n        [-8.48479941e-02],\n        [-1.31489843e-01],\n        [-4.29952405e-02],\n        [-1.08246589e-02],\n        [-2.28062160e-02],\n        [ 3.74273323e-02],\n        [ 1.03356555e-01],\n        [ 3.15704234e-02],\n        [ 2.87235845e-02],\n        [ 4.08257879e-02],\n        [ 2.91345967e-03],\n        [-6.04791529e-02],\n        [ 5.96789829e-02],\n        [ 1.31693231e-02],\n        [ 3.58896367e-02],\n        [-6.49035051e-02],\n        [ 8.33494589e-02],\n        [ 6.31467625e-02],\n        [ 8.00724402e-02],\n        [-1.14504863e-02],\n        [ 9.26920678e-03],\n        [ 1.64240934e-02],\n        [ 2.14641169e-02],\n        [ 1.12074040e-01],\n        [ 4.11779694e-02],\n        [ 2.83091031e-02],\n        [ 2.04973202e-02],\n        [-1.62512604e-02],\n        [ 1.81439854e-02],\n        [-3.52115035e-02],\n        [-8.32186919e-03],\n        [ 7.98209906e-02],\n        [ 1.23315426e-02],\n        [ 1.16358362e-02],\n        [ 8.73903260e-02],\n        [-7.22126886e-02],\n        [ 1.54118035e-02],\n        [ 8.45565926e-03],\n        [-2.19800379e-02],\n        [ 3.77714969e-02],\n        [ 2.84305913e-03],\n        [ 1.01443917e-01],\n        [-9.39676091e-02],\n        [-5.56069426e-04],\n        [ 3.93374264e-03],\n        [-2.05734055e-02],\n        [ 6.26932783e-03],\n        [-3.28800105e-03],\n        [-1.27021149e-01],\n        [-7.01892525e-02],\n        [ 6.05979823e-02],\n        [ 1.38095185e-01],\n        [-2.25290246e-02],\n        [-4.43527214e-02],\n        [ 3.64759075e-03],\n        [ 2.78899577e-02],\n        [ 2.27612033e-02],\n        [-1.83806866e-02],\n        [ 1.44803738e-02],\n        [ 1.46693468e-01],\n        [-5.17334864e-02],\n        [-8.32213461e-02],\n        [ 1.00777961e-01],\n        [ 1.09650999e-01],\n        [ 7.20588639e-02],\n        [ 1.33781480e-02],\n        [ 1.90730505e-02],\n        [-3.34148353e-05],\n        [ 6.55393824e-02],\n        [ 3.13729197e-02],\n        [ 4.57651280e-02],\n        [-3.11756562e-02],\n        [ 9.39030498e-02],\n        [ 6.20647371e-02],\n        [ 5.65006249e-02],\n        [ 3.16656269e-02],\n        [ 5.00373021e-02],\n        [-5.79872876e-02],\n        [ 2.55510584e-02],\n        [-1.04773045e-01],\n        [ 5.05877435e-02],\n        [-6.55591413e-02],\n        [-1.58014763e-02],\n        [ 5.37377968e-02],\n        [ 3.37262861e-02],\n        [-4.74160649e-02],\n        [ 2.21235175e-02],\n        [-2.55779363e-02],\n        [-2.05194186e-02],\n        [-5.76319173e-02],\n        [-2.87509914e-02],\n        [-4.54025008e-02],\n        [-6.11894093e-02],\n        [-4.76062996e-03],\n        [-1.45602748e-01],\n        [ 6.30180314e-02],\n        [-2.15309719e-03],\n        [ 2.17833440e-03],\n        [ 3.26097885e-04],\n        [ 1.22438464e-02],\n        [ 4.05504480e-02],\n        [-4.15577963e-02],\n        [-3.07275057e-02],\n        [ 5.37605062e-02],\n        [ 4.99997996e-02],\n        [-1.01419855e-02],\n        [-2.17444785e-02],\n        [ 5.87535575e-02],\n        [ 1.47055507e-01],\n        [ 5.06328121e-02],\n        [ 7.88202859e-04],\n        [-5.02932109e-02],\n        [-3.93269397e-02],\n        [-1.02838520e-02],\n        [-3.41947726e-03],\n        [ 2.62618288e-02],\n        [ 5.81590012e-02],\n        [ 9.67346784e-03],\n        [ 5.21622486e-02],\n        [ 6.99460432e-02],\n        [ 4.29287627e-02],\n        [-2.00636107e-02],\n        [ 2.38549590e-01],\n        [-4.24960069e-02],\n        [-8.50152597e-02],\n        [-2.36332212e-02],\n        [ 8.42435583e-02],\n        [ 1.07116938e-01],\n        [ 4.12380993e-02],\n        [-1.64990902e-01],\n        [ 2.58798003e-02],\n        [ 1.12686425e-01],\n        [ 3.70079675e-03],\n        [-1.77302882e-01],\n        [-1.05117606e-02],\n        [ 6.48843125e-03],\n        [-3.43077593e-02],\n        [-4.51163389e-02],\n        [ 5.25719821e-02],\n        [ 1.60438064e-02],\n        [-1.01803899e-01],\n        [-5.06743528e-02],\n        [ 1.25566527e-01],\n        [-3.08496300e-02],\n        [-1.17375897e-02],\n        [-4.62050475e-02],\n        [-6.41794354e-02],\n        [ 5.75656183e-02],\n        [-1.49715962e-02],\n        [ 5.71900830e-02],\n        [ 2.76538227e-02],\n        [ 4.70866226e-02],\n        [-5.85021898e-02],\n        [-8.78704563e-02],\n        [-7.56068528e-02],\n        [-9.25210789e-02],\n        [ 3.78792617e-03],\n        [-4.69419919e-02],\n        [-6.91747516e-02],\n        [ 1.11083351e-02],\n        [-2.26269886e-02],\n        [ 8.94189253e-03],\n        [-8.21714401e-02],\n        [ 5.36703132e-02],\n        [ 1.74688503e-01],\n        [-5.63914888e-02],\n        [-8.97968411e-02],\n        [-5.23240007e-02],\n        [-2.59806216e-02],\n        [ 5.30026071e-02],\n        [ 8.55729505e-02],\n        [-1.58770591e-01],\n        [ 3.19161452e-02],\n        [-8.29980299e-02],\n        [ 5.93673736e-02],\n        [-6.52876496e-02],\n        [ 2.27524061e-02],\n        [ 5.57273906e-03],\n        [ 2.10146457e-02],\n        [-8.58203396e-02],\n        [-8.07447955e-02],\n        [ 4.47720997e-02],\n        [ 8.21239352e-02],\n        [-6.30207285e-02],\n        [ 1.05449639e-01],\n        [-5.82999513e-02],\n        [ 1.71526652e-02],\n        [ 2.57572364e-02],\n        [-4.09388691e-02],\n        [ 5.13032861e-02],\n        [-1.04975604e-01],\n        [ 7.25687817e-02],\n        [-1.36819810e-01],\n        [ 1.41191147e-02],\n        [ 4.79138233e-02],\n        [-4.70571108e-02],\n        [ 7.14085922e-02],\n        [ 5.63554019e-02],\n        [ 1.01103306e-01],\n        [-5.07869918e-05],\n        [-6.72293548e-03],\n        [-5.10840975e-02],\n        [ 1.31640732e-01],\n        [-3.85958366e-02],\n        [-1.45910727e-02],\n        [ 4.11566123e-02],\n        [-2.35472657e-02],\n        [-4.35158797e-02],\n        [ 6.45983368e-02],\n        [ 6.19071946e-02],\n        [ 8.98921676e-03],\n        [-7.02872947e-02],\n        [-1.04000375e-01],\n        [-1.23027019e-01],\n        [ 7.30550662e-02],\n        [ 5.98007590e-02],\n        [ 4.82444130e-02],\n        [ 4.77460772e-02],\n        [-5.41825257e-02],\n        [-1.37553260e-01],\n        [-1.08540781e-01],\n        [ 9.68899876e-02],\n        [-5.00251986e-02],\n        [-2.64442782e-03],\n        [-9.42425570e-04],\n        [ 1.01512320e-01],\n        [-2.36528553e-02],\n        [ 2.96321604e-03],\n        [-6.28526881e-02],\n        [-1.85251590e-02],\n        [ 8.60390589e-02],\n        [ 8.53775442e-03],\n        [ 1.59077972e-01],\n        [-9.53506585e-03],\n        [-1.72535982e-02],\n        [-4.57672812e-02],\n        [-5.44598587e-02],\n        [-6.59975931e-02],\n        [-6.27619252e-02],\n        [ 4.26761433e-02],\n        [-6.58715367e-02],\n        [ 8.54884014e-02],\n        [ 2.51203869e-02],\n        [-1.25335589e-01],\n        [ 8.98619071e-02],\n        [ 1.00419700e-01],\n        [ 5.85857667e-02],\n        [ 6.74469396e-02],\n        [ 4.27148417e-02],\n        [-8.98600072e-02],\n        [-4.34699953e-02],\n        [ 2.06230283e-02],\n        [ 8.39951783e-02],\n        [-7.91868120e-02],\n        [ 1.26894405e-02],\n        [-6.52394965e-02],\n        [ 1.21626332e-01],\n        [ 7.45042190e-02],\n        [-1.28446817e-01],\n        [ 5.03753237e-02],\n        [-1.38801858e-01],\n        [ 9.05155689e-02],\n        [-7.48245716e-02],\n        [-7.94956982e-02],\n        [-9.60826315e-03],\n        [-6.58348389e-03],\n        [-1.29197938e-02],\n        [-1.46462545e-01],\n        [ 1.04610203e-02],\n        [ 5.64327165e-02],\n        [-1.05466656e-01],\n        [-4.61983122e-02],\n        [ 3.59291732e-02],\n        [-5.89496223e-03],\n        [-2.95081157e-02],\n        [ 7.26353601e-02],\n        [ 6.54499307e-02],\n        [-4.42392342e-02],\n        [ 2.29679532e-02],\n        [-2.50586998e-02],\n        [ 4.05434817e-02],\n        [ 8.86864029e-03],\n        [-6.05555102e-02],\n        [ 5.92494830e-02],\n        [-4.21768986e-02],\n        [-3.80957648e-02],\n        [ 5.03393374e-02],\n        [ 1.55263782e-01],\n        [-3.26330736e-02],\n        [-2.43170690e-02],\n        [-4.16611657e-02],\n        [ 1.99675597e-02],\n        [ 3.06294318e-02],\n        [ 1.76081974e-02],\n        [-8.13205913e-02],\n        [-6.88319430e-02],\n        [-8.33622515e-02],\n        [ 1.23051740e-01],\n        [-8.96622539e-02],\n        [-4.86183278e-02],\n        [-1.04434334e-03],\n        [-1.36600047e-01],\n        [ 3.94052118e-02],\n        [ 1.52695244e-02],\n        [-3.48965749e-02],\n        [ 5.10325655e-02],\n        [-3.50222886e-02],\n        [-3.02971415e-02],\n        [ 3.09102107e-02],\n        [ 8.38019028e-02],\n        [ 4.62265797e-02],\n        [-7.06896037e-02],\n        [ 7.28341639e-02],\n        [-7.32293725e-02],\n        [ 8.27045590e-02],\n        [-5.62435091e-02],\n        [ 7.56953284e-02],\n        [-7.72212595e-02],\n        [-6.88410550e-02],\n        [ 2.75872387e-02],\n        [ 1.51497638e-02],\n        [ 9.36540216e-02],\n        [-9.32723377e-03],\n        [ 1.52613580e-01],\n        [ 3.42747010e-02],\n        [ 6.12400733e-02],\n        [-8.42315033e-02],\n        [ 1.15955155e-02],\n        [-4.11896892e-02],\n        [ 3.16247568e-02],\n        [ 1.07930236e-01],\n        [ 8.54198188e-02],\n        [-1.67074800e-02],\n        [-5.54205962e-02],\n        [ 3.27774249e-02],\n        [ 3.46211754e-02],\n        [ 8.84944201e-02],\n        [-5.94957247e-02],\n        [ 3.45411114e-02],\n        [-2.16427129e-02],\n        [ 6.55214936e-02],\n        [-3.03967148e-02],\n        [-2.26433892e-02],\n        [ 2.63257511e-02],\n        [ 6.45076260e-02],\n        [ 4.31707241e-02],\n        [-6.30098358e-02],\n        [-3.37576419e-02],\n        [-2.84268614e-02],\n        [-1.16753010e-02],\n        [ 2.41995662e-01],\n        [ 1.02932323e-02],\n        [ 7.05264742e-03],\n        [-2.34658793e-02],\n        [-7.81982671e-03],\n        [-8.18785429e-02],\n        [ 4.31581363e-02],\n        [-8.02703649e-02],\n        [-6.61574975e-02],\n        [ 6.55753613e-02],\n        [ 4.15588692e-02],\n        [ 1.04473025e-01],\n        [-5.48488870e-02],\n        [ 4.44254503e-02],\n        [ 2.04870682e-02],\n        [-4.85322997e-02],\n        [ 4.01490405e-02],\n        [ 5.36485910e-02],\n        [-1.09683044e-01],\n        [ 7.21857771e-02],\n        [-7.28848856e-03],\n        [ 5.24860136e-02],\n        [ 1.29202947e-01],\n        [ 9.77372229e-02],\n        [ 8.94989371e-02],\n        [ 8.72568134e-03],\n        [ 5.36701344e-02],\n        [-1.64113596e-01],\n        [-4.82546017e-02],\n        [-1.03815638e-01],\n        [-4.44498137e-02],\n        [-1.07743375e-01],\n        [-1.17668241e-01],\n        [ 6.11590035e-03],\n        [ 1.08714513e-02],\n        [ 1.53034292e-02],\n        [ 8.75814036e-02],\n        [ 7.06553757e-02],\n        [-1.04637913e-01],\n        [-2.23362833e-04],\n        [-1.26792388e-02],\n        [ 4.82341126e-02],\n        [-2.56615169e-02],\n        [ 2.52633076e-02],\n        [ 8.18163157e-02],\n        [ 9.32716485e-03],\n        [-5.47429733e-02],\n        [-7.29862154e-02],\n        [-9.77962743e-03],\n        [ 4.40641940e-02],\n        [ 5.77985644e-02],\n        [ 6.06678426e-02],\n        [-1.81588344e-02],\n        [-1.62244529e-01],\n        [-2.98301298e-02],\n        [ 8.93191844e-02],\n        [-1.02129810e-01],\n        [ 6.31284341e-02],\n        [-3.44129167e-02],\n        [-3.81620862e-02],\n        [ 3.34929749e-02],\n        [-9.66079161e-02],\n        [ 5.13705239e-02],\n        [ 3.65238567e-03],\n        [-1.13327652e-01],\n        [ 4.56693349e-03],\n        [-4.00465494e-03],\n        [-1.88910902e-01],\n        [ 4.85268328e-03],\n        [ 5.93181886e-03],\n        [ 2.06521284e-02],\n        [ 1.04491346e-01],\n        [ 5.62221520e-02],\n        [ 5.27354777e-02],\n        [-7.23495558e-02],\n        [-2.42085126e-03],\n        [ 6.58237338e-02],\n        [ 2.10828353e-02],\n        [ 4.27650921e-02],\n        [ 8.49367492e-03],\n        [ 8.26818869e-02],\n        [ 7.15729669e-02],\n        [ 3.51124071e-02],\n        [ 2.49349158e-02],\n        [-9.98552423e-03],\n        [ 4.16395999e-02],\n        [ 3.04809306e-02],\n        [ 2.46063322e-02],\n        [ 3.83838825e-02],\n        [-6.06181212e-02],\n        [ 1.35515347e-01],\n        [-4.82747797e-03],\n        [ 1.93048388e-01],\n        [-1.32613396e-02],\n        [ 5.13470769e-02],\n        [-2.31030788e-02]], dtype=float32)}"
     },
     "metadata": {}
    }
   ]
  },
  {
   "cell_type": "markdown",
   "source": "# Results",
   "metadata": {
    "papermill": {
     "duration": 0.383631,
     "end_time": "2020-12-03T21:12:50.164518",
     "exception": false,
     "start_time": "2020-12-03T21:12:49.780887",
     "status": "completed"
    },
    "tags": [],
    "cell_id": "00031-f293468a-e669-4b84-bd65-ce258c857850",
    "deepnote_cell_type": "markdown"
   }
  },
  {
   "cell_type": "code",
   "metadata": {
    "execution": {
     "iopub.execute_input": "2020-12-03T21:12:50.924638Z",
     "iopub.status.busy": "2020-12-03T21:12:50.923759Z",
     "iopub.status.idle": "2020-12-03T21:12:52.063254Z",
     "shell.execute_reply": "2020-12-03T21:12:52.063793Z"
    },
    "papermill": {
     "duration": 1.52047,
     "end_time": "2020-12-03T21:12:52.063981",
     "exception": false,
     "start_time": "2020-12-03T21:12:50.543511",
     "status": "completed"
    },
    "tags": [],
    "deepnote_to_be_reexecuted": false,
    "source_hash": "8ee633fe",
    "execution_millis": 185304,
    "cell_id": "00032-c8c4764f-5bb2-44da-af42-08b64f946cc9",
    "execution_start": 1618849571436,
    "deepnote_cell_type": "code"
   },
   "source": "results = classifier_model.evaluate(tweets_test, y_test, verbose=True)\nprint(\"Model Accuracy: {:.2f}%\".format(results[1] * 100))",
   "execution_count": null,
   "outputs": [
    {
     "name": "stdout",
     "text": "81/81 [==============================] - 185s 2s/step - loss: 0.6323 - binary_accuracy: 0.6474\nModel Accuracy: 64.68%\n",
     "output_type": "stream"
    }
   ]
  },
  {
   "cell_type": "code",
   "metadata": {
    "execution": {
     "iopub.execute_input": "2020-12-03T21:12:52.829161Z",
     "iopub.status.busy": "2020-12-03T21:12:52.828148Z",
     "iopub.status.idle": "2020-12-03T21:12:54.399077Z",
     "shell.execute_reply": "2020-12-03T21:12:54.398512Z"
    },
    "papermill": {
     "duration": 1.957887,
     "end_time": "2020-12-03T21:12:54.399208",
     "exception": false,
     "start_time": "2020-12-03T21:12:52.441321",
     "status": "completed"
    },
    "tags": [],
    "deepnote_to_be_reexecuted": false,
    "source_hash": "c95253cf",
    "execution_millis": 180644,
    "cell_id": "00033-62d17d23-103b-4b17-b4f8-214d04786ad6",
    "execution_start": 1618849788802,
    "deepnote_cell_type": "code"
   },
   "source": "y_true = np.array(y_test)\n\ny_pred = classifier_model.predict(tweets_test)",
   "execution_count": null,
   "outputs": []
  },
  {
   "cell_type": "code",
   "metadata": {
    "tags": [],
    "cell_id": "00034-f38a8b94-2df9-4070-8f94-9717e2a078ac",
    "deepnote_to_be_reexecuted": false,
    "source_hash": "933560b2",
    "execution_millis": 10,
    "execution_start": 1618849971072,
    "deepnote_cell_type": "code"
   },
   "source": "y_pred = map(lambda x: tf.greater(x, .5), y_pred)",
   "execution_count": null,
   "outputs": []
  },
  {
   "cell_type": "code",
   "metadata": {
    "tags": [],
    "cell_id": "00035-5ca20758-3224-4336-a4f5-0d7ba6c3e58a",
    "deepnote_to_be_reexecuted": false,
    "source_hash": "9217a1cb",
    "execution_millis": 44,
    "execution_start": 1618849989364,
    "deepnote_cell_type": "code"
   },
   "source": "y_pred = np.array(list(map(lambda x: int(x), y_pred)))",
   "execution_count": null,
   "outputs": []
  },
  {
   "cell_type": "code",
   "metadata": {
    "tags": [],
    "cell_id": "00034-155751f4-9f08-4271-975e-d4639589a3dd",
    "deepnote_to_be_reexecuted": false,
    "source_hash": "ba549d12",
    "execution_millis": 6,
    "execution_start": 1618849991419,
    "deepnote_cell_type": "code"
   },
   "source": "y_pred",
   "execution_count": null,
   "outputs": [
    {
     "output_type": "execute_result",
     "execution_count": 32,
     "data": {
      "text/plain": "array([0, 0, 0, ..., 1, 1, 0])"
     },
     "metadata": {}
    }
   ]
  },
  {
   "cell_type": "code",
   "metadata": {
    "tags": [],
    "cell_id": "00029-f3f84b6c-7042-4879-80b5-4f24066fab7f",
    "deepnote_to_be_reexecuted": false,
    "source_hash": "6a9a9ef8",
    "execution_millis": 9,
    "execution_start": 1618849995955,
    "deepnote_cell_type": "code"
   },
   "source": "y_true",
   "execution_count": null,
   "outputs": [
    {
     "output_type": "execute_result",
     "execution_count": 33,
     "data": {
      "text/plain": "array([0, 1, 0, ..., 1, 1, 0])"
     },
     "metadata": {}
    }
   ]
  },
  {
   "cell_type": "code",
   "metadata": {
    "execution": {
     "iopub.execute_input": "2020-12-03T21:12:55.165113Z",
     "iopub.status.busy": "2020-12-03T21:12:55.164216Z",
     "iopub.status.idle": "2020-12-03T21:12:55.190247Z",
     "shell.execute_reply": "2020-12-03T21:12:55.189680Z"
    },
    "papermill": {
     "duration": 0.411259,
     "end_time": "2020-12-03T21:12:55.190369",
     "exception": false,
     "start_time": "2020-12-03T21:12:54.779110",
     "status": "completed"
    },
    "tags": [],
    "deepnote_to_be_reexecuted": false,
    "source_hash": "9def42cf",
    "execution_millis": 19,
    "cell_id": "00034-3387ca89-1dd6-4887-b6d1-ef59604d75a8",
    "execution_start": 1618849997896,
    "deepnote_cell_type": "code"
   },
   "source": "cm = confusion_matrix(y_true, y_pred)\nclr = classification_report(y_true, y_pred, target_names=['female', 'male'])",
   "execution_count": null,
   "outputs": []
  },
  {
   "cell_type": "code",
   "metadata": {
    "execution": {
     "iopub.execute_input": "2020-12-03T21:12:55.987724Z",
     "iopub.status.busy": "2020-12-03T21:12:55.986600Z",
     "iopub.status.idle": "2020-12-03T21:12:56.251913Z",
     "shell.execute_reply": "2020-12-03T21:12:56.253073Z"
    },
    "papermill": {
     "duration": 0.68839,
     "end_time": "2020-12-03T21:12:56.253310",
     "exception": false,
     "start_time": "2020-12-03T21:12:55.564920",
     "status": "completed"
    },
    "tags": [],
    "deepnote_to_be_reexecuted": false,
    "source_hash": "a4b7cffd",
    "execution_millis": 278,
    "cell_id": "00035-f3131783-2978-41af-9323-6a0ebb27c4aa",
    "execution_start": 1618849998806,
    "deepnote_cell_type": "code"
   },
   "source": "plt.figure(figsize=(6, 6))\nsns.heatmap(cm, annot=True, fmt='g', cbar=False, cmap='Blues')\nplt.xticks(np.arange(2) + 0.5, ['female', 'male'])\nplt.yticks(np.arange(2) + 0.5, ['female', 'male'])\nplt.xlabel(\"Predicted\")\nplt.ylabel(\"Actual\")\nplt.title(\"Confusion Matrix\")\nplt.show()",
   "execution_count": null,
   "outputs": [
    {
     "data": {
      "text/plain": "<Figure size 432x432 with 1 Axes>",
      "image/png": "[encoded data removed]"
     },
     "metadata": {
      "needs_background": "light",
      "image/png": {
       "width": 380,
       "height": 387
      }
     },
     "output_type": "display_data"
    }
   ]
  },
  {
   "cell_type": "code",
   "metadata": {
    "execution": {
     "iopub.execute_input": "2020-12-03T21:12:57.381332Z",
     "iopub.status.busy": "2020-12-03T21:12:57.379615Z",
     "iopub.status.idle": "2020-12-03T21:12:57.386901Z",
     "shell.execute_reply": "2020-12-03T21:12:57.381991Z"
    },
    "papermill": {
     "duration": 0.518178,
     "end_time": "2020-12-03T21:12:57.387016",
     "exception": false,
     "start_time": "2020-12-03T21:12:56.868838",
     "status": "completed"
    },
    "tags": [],
    "deepnote_to_be_reexecuted": false,
    "source_hash": "2ae650fe",
    "execution_millis": 6,
    "cell_id": "00036-4746d252-f386-4e8e-9568-5aca90309966",
    "execution_start": 1618850008145,
    "deepnote_cell_type": "code"
   },
   "source": "print(\"Classification Report:\\n\\n\", clr)",
   "execution_count": null,
   "outputs": [
    {
     "name": "stdout",
     "text": "Classification Report:\n\n               precision    recall  f1-score   support\n\n      female       0.66      0.69      0.67      1358\n        male       0.63      0.60      0.62      1221\n\n    accuracy                           0.65      2579\n   macro avg       0.65      0.64      0.64      2579\nweighted avg       0.65      0.65      0.65      2579\n\n",
     "output_type": "stream"
    }
   ]
  },
  {
   "cell_type": "markdown",
   "source": "",
   "metadata": {
    "tags": [],
    "cell_id": "00038-8f5db982-be5b-40aa-9afa-1fba7010f684",
    "deepnote_cell_type": "markdown"
   }
  },
  {
   "cell_type": "markdown",
   "source": "<a style='text-decoration:none;line-height:16px;display:flex;color:#5B5B62;padding:10px;justify-content:end;' href='https://deepnote.com?utm_source=created-in-deepnote-cell&projectId=018075c4-cccb-4808-bac8-50a3988dbc16' target=\"_blank\">\n<img alt='Created in deepnote.com' style='display:inline;max-height:16px;margin:0px;margin-right:7.5px;' src='data:image/svg+xml;base64,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' > </img>\nCreated in <span style='font-weight:600;margin-left:4px;'>Deepnote</span></a>",
   "metadata": {
    "tags": [],
    "created_in_deepnote_cell": true,
    "deepnote_cell_type": "markdown"
   }
  }
 ],
 "nbformat": 4,
 "nbformat_minor": 4,
 "metadata": {
  "kernelspec": {
   "display_name": "Python 3",
   "language": "python",
   "name": "python3"
  },
  "language_info": {
   "codemirror_mode": {
    "name": "ipython",
    "version": 3
   },
   "file_extension": ".py",
   "mimetype": "text/x-python",
   "name": "python",
   "nbconvert_exporter": "python",
   "pygments_lexer": "ipython3",
   "version": "3.7.6"
  },
  "papermill": {
   "duration": 142.004587,
   "end_time": "2020-12-03T21:13:00.121554",
   "environment_variables": {},
   "exception": null,
   "input_path": "__notebook__.ipynb",
   "output_path": "__notebook__.ipynb",
   "parameters": {},
   "start_time": "2020-12-03T21:10:38.116967",
   "version": "2.1.0"
  },
  "deepnote_notebook_id": "2628b4b7-d50e-463e-afd2-fec56ae8e654",
  "deepnote": {},
  "deepnote_execution_queue": []
 }
}